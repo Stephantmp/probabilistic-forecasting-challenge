{
 "cells": [
  {
   "cell_type": "code",
   "execution_count": 18,
   "outputs": [],
   "source": [
    "import pandas as pd\n",
    "import numpy as np\n",
    "import matplotlib.pyplot as plt\n",
    "import seaborn as sns\n",
    "import yfinance as yf\n",
    "import statsmodels.formula.api as smf\n",
    "from statsmodels.tools import add_constant"
   ],
   "metadata": {
    "collapsed": false,
    "ExecuteTime": {
     "end_time": "2023-11-05T12:01:44.627884Z",
     "start_time": "2023-11-05T12:01:44.619930Z"
    }
   },
   "id": "affd35b3e30f7298"
  },
  {
   "cell_type": "code",
   "execution_count": 7,
   "outputs": [],
   "source": [
    "def compute_return(y, r_type=\"log\", h=1):\n",
    "    if r_type == \"log\":\n",
    "        ret = (np.log(y) - np.log(y.shift(h))) * 100\n",
    "    else:\n",
    "        ret = ((y - y.shift(h)) / y.shift(h)) * 100\n",
    "    return ret\n"
   ],
   "metadata": {
    "collapsed": false,
    "ExecuteTime": {
     "end_time": "2023-11-05T11:58:18.243967Z",
     "start_time": "2023-11-05T11:58:18.240379Z"
    }
   },
   "id": "a9f53b29f7559e41"
  },
  {
   "cell_type": "code",
   "execution_count": 8,
   "outputs": [],
   "source": [
    "import yfinance as yf\n",
    "\n",
    "msft = yf.Ticker(\"^GDAXI\")"
   ],
   "metadata": {
    "collapsed": false,
    "ExecuteTime": {
     "end_time": "2023-11-05T11:58:19.507774Z",
     "start_time": "2023-11-05T11:58:19.499142Z"
    }
   },
   "id": "84234b4f041a6460"
  },
  {
   "cell_type": "code",
   "execution_count": 9,
   "outputs": [],
   "source": [
    "hist = msft.history(period=\"max\")"
   ],
   "metadata": {
    "collapsed": false,
    "ExecuteTime": {
     "end_time": "2023-11-05T11:58:20.983723Z",
     "start_time": "2023-11-05T11:58:20.279110Z"
    }
   },
   "id": "ba9f2d8cf65815aa"
  },
  {
   "cell_type": "code",
   "execution_count": 11,
   "outputs": [],
   "source": [
    "for i in range(5):\n",
    "    hist[\"ret\"+str(i+1)] = compute_return(hist[\"Close\"], h=i+1)\n"
   ],
   "metadata": {
    "collapsed": false,
    "ExecuteTime": {
     "end_time": "2023-11-05T11:59:17.820651Z",
     "start_time": "2023-11-05T11:59:17.812351Z"
    }
   },
   "id": "902f4ae53b65259f"
  },
  {
   "cell_type": "code",
   "execution_count": 12,
   "outputs": [
    {
     "data": {
      "text/plain": "                                   Open          High           Low  \\\nDate                                                                  \n2023-10-30 00:00:00+01:00  14770.950195  14798.000000  14678.730469   \n2023-10-31 00:00:00+01:00  14741.440430  14829.620117  14722.379883   \n2023-11-01 00:00:00+01:00  14851.959961  14949.580078  14786.320312   \n2023-11-02 00:00:00+01:00  15033.650391  15202.429688  15028.030273   \n2023-11-03 00:00:00+01:00  15203.799805  15269.500000  15149.719727   \n\n                                  Close    Volume  Dividends  Stock Splits  \\\nDate                                                                         \n2023-10-30 00:00:00+01:00  14716.540039  76179000        0.0           0.0   \n2023-10-31 00:00:00+01:00  14810.339844  75370200        0.0           0.0   \n2023-11-01 00:00:00+01:00  14923.269531  63588700        0.0           0.0   \n2023-11-02 00:00:00+01:00  15143.599609  89446500        0.0           0.0   \n2023-11-03 00:00:00+01:00  15189.250000  93603800        0.0           0.0   \n\n                               ret1      ret2      ret3      ret4      ret5  \nDate                                                                         \n2023-10-30 00:00:00+01:00  0.198136 -0.098546 -1.186419 -1.104199 -0.570378  \n2023-10-31 00:00:00+01:00  0.635354  0.833490  0.536808 -0.551065 -0.468845  \n2023-11-01 00:00:00+01:00  0.759613  1.394967  1.593103  1.296421  0.208549  \n2023-11-02 00:00:00+01:00  1.465627  2.225240  2.860594  3.058730  2.762048  \n2023-11-03 00:00:00+01:00  0.300997  1.766623  2.526237  3.161591  3.359727  ",
      "text/html": "<div>\n<style scoped>\n    .dataframe tbody tr th:only-of-type {\n        vertical-align: middle;\n    }\n\n    .dataframe tbody tr th {\n        vertical-align: top;\n    }\n\n    .dataframe thead th {\n        text-align: right;\n    }\n</style>\n<table border=\"1\" class=\"dataframe\">\n  <thead>\n    <tr style=\"text-align: right;\">\n      <th></th>\n      <th>Open</th>\n      <th>High</th>\n      <th>Low</th>\n      <th>Close</th>\n      <th>Volume</th>\n      <th>Dividends</th>\n      <th>Stock Splits</th>\n      <th>ret1</th>\n      <th>ret2</th>\n      <th>ret3</th>\n      <th>ret4</th>\n      <th>ret5</th>\n    </tr>\n    <tr>\n      <th>Date</th>\n      <th></th>\n      <th></th>\n      <th></th>\n      <th></th>\n      <th></th>\n      <th></th>\n      <th></th>\n      <th></th>\n      <th></th>\n      <th></th>\n      <th></th>\n      <th></th>\n    </tr>\n  </thead>\n  <tbody>\n    <tr>\n      <th>2023-10-30 00:00:00+01:00</th>\n      <td>14770.950195</td>\n      <td>14798.000000</td>\n      <td>14678.730469</td>\n      <td>14716.540039</td>\n      <td>76179000</td>\n      <td>0.0</td>\n      <td>0.0</td>\n      <td>0.198136</td>\n      <td>-0.098546</td>\n      <td>-1.186419</td>\n      <td>-1.104199</td>\n      <td>-0.570378</td>\n    </tr>\n    <tr>\n      <th>2023-10-31 00:00:00+01:00</th>\n      <td>14741.440430</td>\n      <td>14829.620117</td>\n      <td>14722.379883</td>\n      <td>14810.339844</td>\n      <td>75370200</td>\n      <td>0.0</td>\n      <td>0.0</td>\n      <td>0.635354</td>\n      <td>0.833490</td>\n      <td>0.536808</td>\n      <td>-0.551065</td>\n      <td>-0.468845</td>\n    </tr>\n    <tr>\n      <th>2023-11-01 00:00:00+01:00</th>\n      <td>14851.959961</td>\n      <td>14949.580078</td>\n      <td>14786.320312</td>\n      <td>14923.269531</td>\n      <td>63588700</td>\n      <td>0.0</td>\n      <td>0.0</td>\n      <td>0.759613</td>\n      <td>1.394967</td>\n      <td>1.593103</td>\n      <td>1.296421</td>\n      <td>0.208549</td>\n    </tr>\n    <tr>\n      <th>2023-11-02 00:00:00+01:00</th>\n      <td>15033.650391</td>\n      <td>15202.429688</td>\n      <td>15028.030273</td>\n      <td>15143.599609</td>\n      <td>89446500</td>\n      <td>0.0</td>\n      <td>0.0</td>\n      <td>1.465627</td>\n      <td>2.225240</td>\n      <td>2.860594</td>\n      <td>3.058730</td>\n      <td>2.762048</td>\n    </tr>\n    <tr>\n      <th>2023-11-03 00:00:00+01:00</th>\n      <td>15203.799805</td>\n      <td>15269.500000</td>\n      <td>15149.719727</td>\n      <td>15189.250000</td>\n      <td>93603800</td>\n      <td>0.0</td>\n      <td>0.0</td>\n      <td>0.300997</td>\n      <td>1.766623</td>\n      <td>2.526237</td>\n      <td>3.161591</td>\n      <td>3.359727</td>\n    </tr>\n  </tbody>\n</table>\n</div>"
     },
     "execution_count": 12,
     "metadata": {},
     "output_type": "execute_result"
    }
   ],
   "source": [
    "hist.tail()"
   ],
   "metadata": {
    "collapsed": false,
    "ExecuteTime": {
     "end_time": "2023-11-05T11:59:23.263423Z",
     "start_time": "2023-11-05T11:59:23.251875Z"
    }
   },
   "id": "274e8fe3207ad11c"
  },
  {
   "cell_type": "code",
   "execution_count": 13,
   "outputs": [],
   "source": [
    "# Create lagged returns as independent variables\n",
    "for i in range(1, 6):\n",
    "    hist[f'lag_ret{i}'] = hist['Close'].shift(i)\n",
    "\n",
    "# Remove rows with NaN values that result from lagging\n",
    "hist.dropna(inplace=True)\n",
    "\n",
    "# Quantile levels\n",
    "tau = [.025, .25, .5, .75, .975]"
   ],
   "metadata": {
    "collapsed": false,
    "ExecuteTime": {
     "end_time": "2023-11-05T11:59:30.464465Z",
     "start_time": "2023-11-05T11:59:30.445129Z"
    }
   },
   "id": "f7af1d121a8b519a"
  },
  {
   "cell_type": "code",
   "execution_count": 14,
   "outputs": [],
   "source": [
    "pred_quantile_regression = np.zeros((5, 5))"
   ],
   "metadata": {
    "collapsed": false,
    "ExecuteTime": {
     "end_time": "2023-11-05T11:59:34.718178Z",
     "start_time": "2023-11-05T11:59:34.707550Z"
    }
   },
   "id": "8c0f63fe97a03f97"
  },
  {
   "cell_type": "code",
   "execution_count": 19,
   "outputs": [
    {
     "name": "stderr",
     "output_type": "stream",
     "text": [
      "/var/folders/y3/h1kjcg6j0wj3crmk4m1ff0380000gn/T/ipykernel_53159/204857745.py:14: FutureWarning: Series.__getitem__ treating keys as positions is deprecated. In a future version, integer keys will always be treated as labels (consistent with DataFrame behavior). To access a value by position, use `ser.iloc[pos]`\n",
      "  pred_quantile_regression[i, j] = res.predict(X.iloc[-1:])[0]\n",
      "/var/folders/y3/h1kjcg6j0wj3crmk4m1ff0380000gn/T/ipykernel_53159/204857745.py:14: FutureWarning: Series.__getitem__ treating keys as positions is deprecated. In a future version, integer keys will always be treated as labels (consistent with DataFrame behavior). To access a value by position, use `ser.iloc[pos]`\n",
      "  pred_quantile_regression[i, j] = res.predict(X.iloc[-1:])[0]\n",
      "/var/folders/y3/h1kjcg6j0wj3crmk4m1ff0380000gn/T/ipykernel_53159/204857745.py:14: FutureWarning: Series.__getitem__ treating keys as positions is deprecated. In a future version, integer keys will always be treated as labels (consistent with DataFrame behavior). To access a value by position, use `ser.iloc[pos]`\n",
      "  pred_quantile_regression[i, j] = res.predict(X.iloc[-1:])[0]\n",
      "/var/folders/y3/h1kjcg6j0wj3crmk4m1ff0380000gn/T/ipykernel_53159/204857745.py:14: FutureWarning: Series.__getitem__ treating keys as positions is deprecated. In a future version, integer keys will always be treated as labels (consistent with DataFrame behavior). To access a value by position, use `ser.iloc[pos]`\n",
      "  pred_quantile_regression[i, j] = res.predict(X.iloc[-1:])[0]\n",
      "/var/folders/y3/h1kjcg6j0wj3crmk4m1ff0380000gn/T/ipykernel_53159/204857745.py:14: FutureWarning: Series.__getitem__ treating keys as positions is deprecated. In a future version, integer keys will always be treated as labels (consistent with DataFrame behavior). To access a value by position, use `ser.iloc[pos]`\n",
      "  pred_quantile_regression[i, j] = res.predict(X.iloc[-1:])[0]\n",
      "/var/folders/y3/h1kjcg6j0wj3crmk4m1ff0380000gn/T/ipykernel_53159/204857745.py:14: FutureWarning: Series.__getitem__ treating keys as positions is deprecated. In a future version, integer keys will always be treated as labels (consistent with DataFrame behavior). To access a value by position, use `ser.iloc[pos]`\n",
      "  pred_quantile_regression[i, j] = res.predict(X.iloc[-1:])[0]\n",
      "/var/folders/y3/h1kjcg6j0wj3crmk4m1ff0380000gn/T/ipykernel_53159/204857745.py:14: FutureWarning: Series.__getitem__ treating keys as positions is deprecated. In a future version, integer keys will always be treated as labels (consistent with DataFrame behavior). To access a value by position, use `ser.iloc[pos]`\n",
      "  pred_quantile_regression[i, j] = res.predict(X.iloc[-1:])[0]\n",
      "/var/folders/y3/h1kjcg6j0wj3crmk4m1ff0380000gn/T/ipykernel_53159/204857745.py:14: FutureWarning: Series.__getitem__ treating keys as positions is deprecated. In a future version, integer keys will always be treated as labels (consistent with DataFrame behavior). To access a value by position, use `ser.iloc[pos]`\n",
      "  pred_quantile_regression[i, j] = res.predict(X.iloc[-1:])[0]\n",
      "/var/folders/y3/h1kjcg6j0wj3crmk4m1ff0380000gn/T/ipykernel_53159/204857745.py:14: FutureWarning: Series.__getitem__ treating keys as positions is deprecated. In a future version, integer keys will always be treated as labels (consistent with DataFrame behavior). To access a value by position, use `ser.iloc[pos]`\n",
      "  pred_quantile_regression[i, j] = res.predict(X.iloc[-1:])[0]\n",
      "/var/folders/y3/h1kjcg6j0wj3crmk4m1ff0380000gn/T/ipykernel_53159/204857745.py:14: FutureWarning: Series.__getitem__ treating keys as positions is deprecated. In a future version, integer keys will always be treated as labels (consistent with DataFrame behavior). To access a value by position, use `ser.iloc[pos]`\n",
      "  pred_quantile_regression[i, j] = res.predict(X.iloc[-1:])[0]\n",
      "/var/folders/y3/h1kjcg6j0wj3crmk4m1ff0380000gn/T/ipykernel_53159/204857745.py:14: FutureWarning: Series.__getitem__ treating keys as positions is deprecated. In a future version, integer keys will always be treated as labels (consistent with DataFrame behavior). To access a value by position, use `ser.iloc[pos]`\n",
      "  pred_quantile_regression[i, j] = res.predict(X.iloc[-1:])[0]\n",
      "/var/folders/y3/h1kjcg6j0wj3crmk4m1ff0380000gn/T/ipykernel_53159/204857745.py:14: FutureWarning: Series.__getitem__ treating keys as positions is deprecated. In a future version, integer keys will always be treated as labels (consistent with DataFrame behavior). To access a value by position, use `ser.iloc[pos]`\n",
      "  pred_quantile_regression[i, j] = res.predict(X.iloc[-1:])[0]\n",
      "/var/folders/y3/h1kjcg6j0wj3crmk4m1ff0380000gn/T/ipykernel_53159/204857745.py:14: FutureWarning: Series.__getitem__ treating keys as positions is deprecated. In a future version, integer keys will always be treated as labels (consistent with DataFrame behavior). To access a value by position, use `ser.iloc[pos]`\n",
      "  pred_quantile_regression[i, j] = res.predict(X.iloc[-1:])[0]\n",
      "/var/folders/y3/h1kjcg6j0wj3crmk4m1ff0380000gn/T/ipykernel_53159/204857745.py:14: FutureWarning: Series.__getitem__ treating keys as positions is deprecated. In a future version, integer keys will always be treated as labels (consistent with DataFrame behavior). To access a value by position, use `ser.iloc[pos]`\n",
      "  pred_quantile_regression[i, j] = res.predict(X.iloc[-1:])[0]\n",
      "/var/folders/y3/h1kjcg6j0wj3crmk4m1ff0380000gn/T/ipykernel_53159/204857745.py:14: FutureWarning: Series.__getitem__ treating keys as positions is deprecated. In a future version, integer keys will always be treated as labels (consistent with DataFrame behavior). To access a value by position, use `ser.iloc[pos]`\n",
      "  pred_quantile_regression[i, j] = res.predict(X.iloc[-1:])[0]\n",
      "/var/folders/y3/h1kjcg6j0wj3crmk4m1ff0380000gn/T/ipykernel_53159/204857745.py:14: FutureWarning: Series.__getitem__ treating keys as positions is deprecated. In a future version, integer keys will always be treated as labels (consistent with DataFrame behavior). To access a value by position, use `ser.iloc[pos]`\n",
      "  pred_quantile_regression[i, j] = res.predict(X.iloc[-1:])[0]\n",
      "/var/folders/y3/h1kjcg6j0wj3crmk4m1ff0380000gn/T/ipykernel_53159/204857745.py:14: FutureWarning: Series.__getitem__ treating keys as positions is deprecated. In a future version, integer keys will always be treated as labels (consistent with DataFrame behavior). To access a value by position, use `ser.iloc[pos]`\n",
      "  pred_quantile_regression[i, j] = res.predict(X.iloc[-1:])[0]\n",
      "/var/folders/y3/h1kjcg6j0wj3crmk4m1ff0380000gn/T/ipykernel_53159/204857745.py:14: FutureWarning: Series.__getitem__ treating keys as positions is deprecated. In a future version, integer keys will always be treated as labels (consistent with DataFrame behavior). To access a value by position, use `ser.iloc[pos]`\n",
      "  pred_quantile_regression[i, j] = res.predict(X.iloc[-1:])[0]\n",
      "/var/folders/y3/h1kjcg6j0wj3crmk4m1ff0380000gn/T/ipykernel_53159/204857745.py:14: FutureWarning: Series.__getitem__ treating keys as positions is deprecated. In a future version, integer keys will always be treated as labels (consistent with DataFrame behavior). To access a value by position, use `ser.iloc[pos]`\n",
      "  pred_quantile_regression[i, j] = res.predict(X.iloc[-1:])[0]\n",
      "/var/folders/y3/h1kjcg6j0wj3crmk4m1ff0380000gn/T/ipykernel_53159/204857745.py:14: FutureWarning: Series.__getitem__ treating keys as positions is deprecated. In a future version, integer keys will always be treated as labels (consistent with DataFrame behavior). To access a value by position, use `ser.iloc[pos]`\n",
      "  pred_quantile_regression[i, j] = res.predict(X.iloc[-1:])[0]\n",
      "/var/folders/y3/h1kjcg6j0wj3crmk4m1ff0380000gn/T/ipykernel_53159/204857745.py:14: FutureWarning: Series.__getitem__ treating keys as positions is deprecated. In a future version, integer keys will always be treated as labels (consistent with DataFrame behavior). To access a value by position, use `ser.iloc[pos]`\n",
      "  pred_quantile_regression[i, j] = res.predict(X.iloc[-1:])[0]\n",
      "/var/folders/y3/h1kjcg6j0wj3crmk4m1ff0380000gn/T/ipykernel_53159/204857745.py:14: FutureWarning: Series.__getitem__ treating keys as positions is deprecated. In a future version, integer keys will always be treated as labels (consistent with DataFrame behavior). To access a value by position, use `ser.iloc[pos]`\n",
      "  pred_quantile_regression[i, j] = res.predict(X.iloc[-1:])[0]\n",
      "/var/folders/y3/h1kjcg6j0wj3crmk4m1ff0380000gn/T/ipykernel_53159/204857745.py:14: FutureWarning: Series.__getitem__ treating keys as positions is deprecated. In a future version, integer keys will always be treated as labels (consistent with DataFrame behavior). To access a value by position, use `ser.iloc[pos]`\n",
      "  pred_quantile_regression[i, j] = res.predict(X.iloc[-1:])[0]\n",
      "/var/folders/y3/h1kjcg6j0wj3crmk4m1ff0380000gn/T/ipykernel_53159/204857745.py:14: FutureWarning: Series.__getitem__ treating keys as positions is deprecated. In a future version, integer keys will always be treated as labels (consistent with DataFrame behavior). To access a value by position, use `ser.iloc[pos]`\n",
      "  pred_quantile_regression[i, j] = res.predict(X.iloc[-1:])[0]\n",
      "/var/folders/y3/h1kjcg6j0wj3crmk4m1ff0380000gn/T/ipykernel_53159/204857745.py:14: FutureWarning: Series.__getitem__ treating keys as positions is deprecated. In a future version, integer keys will always be treated as labels (consistent with DataFrame behavior). To access a value by position, use `ser.iloc[pos]`\n",
      "  pred_quantile_regression[i, j] = res.predict(X.iloc[-1:])[0]\n"
     ]
    }
   ],
   "source": [
    "# Perform quantile regression for each horizon and quantile\n",
    "for i in range(5):\n",
    "    ret_str = f\"ret{i+1}\"\n",
    "    y = hist[ret_str]  # Dependent variable\n",
    "    X = hist[[f'lag_ret{j}' for j in range(1, 6)]]  # Independent variables\n",
    "    X = add_constant(X)  # Adds a constant term to the predictors\n",
    "\n",
    "    for j, q in enumerate(tau):\n",
    "        # Fit the model for the q-th quantile\n",
    "        mod = smf.quantreg(f'{ret_str} ~ lag_ret1 + lag_ret2 + lag_ret3 + lag_ret4 + lag_ret5', hist)\n",
    "        res = mod.fit(q=q)\n",
    "        \n",
    "        # Predict the quantile for the last observation\n",
    "        pred_quantile_regression[i, j] = res.predict(X.iloc[-1:])[0]"
   ],
   "metadata": {
    "collapsed": false,
    "ExecuteTime": {
     "end_time": "2023-11-05T12:01:57.449140Z",
     "start_time": "2023-11-05T12:01:49.705941Z"
    }
   },
   "id": "94d3f0dc9585de01"
  },
  {
   "cell_type": "code",
   "execution_count": 21,
   "outputs": [
    {
     "data": {
      "text/plain": "<Figure size 640x480 with 1 Axes>",
      "image/png": "[encoded data removed]"
     },
     "metadata": {},
     "output_type": "display_data"
    }
   ],
   "source": [
    "x = np.arange(5)+1\n",
    "_ = plt.plot(x,pred_quantile_regression, ls=\"\", marker=\"o\", c=\"black\")\n",
    "_ = plt.xticks(x, x)\n",
    "_ = plt.plot((x,x),(pred_quantile_regression[:,0], pred_quantile_regression[:,-1]),c='black')"
   ],
   "metadata": {
    "collapsed": false,
    "ExecuteTime": {
     "end_time": "2023-11-05T12:02:44.889433Z",
     "start_time": "2023-11-05T12:02:44.699217Z"
    }
   },
   "id": "29fecf1323555689"
  },
  {
   "cell_type": "code",
   "execution_count": 22,
   "outputs": [],
   "source": [
    "df_sub = pd.DataFrame({\n",
    "    \"target\": \"DAX\",\n",
    "    \"horizon\": [str(i) + \" day\" for i in (1, 2, 5, 6, 7)],\n",
    "    \"q0.025\": pred_quantile_regression[:, 0],\n",
    "    \"q0.25\": pred_quantile_regression[:, 1],\n",
    "    \"q0.5\": pred_quantile_regression[:, 2],\n",
    "    \"q0.75\": pred_quantile_regression[:, 3],\n",
    "    \"q0.975\": pred_quantile_regression[:, 4]\n",
    "})"
   ],
   "metadata": {
    "collapsed": false,
    "ExecuteTime": {
     "end_time": "2023-11-05T12:02:52.654946Z",
     "start_time": "2023-11-05T12:02:52.650065Z"
    }
   },
   "id": "c7c291997303af8c"
  },
  {
   "cell_type": "code",
   "execution_count": 23,
   "outputs": [],
   "source": [
    "from datetime import datetime\n",
    "date_str = datetime.today().strftime('%Y%m%d')"
   ],
   "metadata": {
    "collapsed": false,
    "ExecuteTime": {
     "end_time": "2023-11-05T12:02:53.567358Z",
     "start_time": "2023-11-05T12:02:53.563155Z"
    }
   },
   "id": "4bf372db53e524af"
  },
  {
   "cell_type": "code",
   "execution_count": 25,
   "outputs": [],
   "source": [
    "#need to change this\n",
    "PATH = \"./\"\n",
    "\n",
    "df_sub.to_csv(PATH+\"/\"+date_str+\"DAX_Quantile_Regression.csv\")"
   ],
   "metadata": {
    "collapsed": false,
    "ExecuteTime": {
     "end_time": "2023-11-05T12:03:30.307999Z",
     "start_time": "2023-11-05T12:03:30.302408Z"
    }
   },
   "id": "db5621d228cf9d56"
  },
  {
   "cell_type": "code",
   "execution_count": null,
   "outputs": [],
   "source": [],
   "metadata": {
    "collapsed": false
   },
   "id": "3060b6e9dd2f9752"
  }
 ],
 "metadata": {
  "kernelspec": {
   "display_name": "Python 3",
   "language": "python",
   "name": "python3"
  },
  "language_info": {
   "codemirror_mode": {
    "name": "ipython",
    "version": 2
   },
   "file_extension": ".py",
   "mimetype": "text/x-python",
   "name": "python",
   "nbconvert_exporter": "python",
   "pygments_lexer": "ipython2",
   "version": "2.7.6"
  }
 },
 "nbformat": 4,
 "nbformat_minor": 5
}
