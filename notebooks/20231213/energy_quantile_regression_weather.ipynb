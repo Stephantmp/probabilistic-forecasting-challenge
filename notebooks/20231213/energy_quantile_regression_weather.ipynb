{
 "cells": [
  {
   "cell_type": "code",
   "execution_count": 5,
   "id": "initial_id",
   "metadata": {
    "collapsed": true,
    "ExecuteTime": {
     "end_time": "2023-12-13T17:04:05.392386Z",
     "start_time": "2023-12-13T17:04:04.923813Z"
    }
   },
   "outputs": [
    {
     "name": "stdout",
     "output_type": "stream",
     "text": [
      "Coordinates 52.5483283996582°E 13.407821655273438°N\n",
      "Elevation 37.0 m asl\n",
      "Timezone None None\n",
      "Timezone difference to GMT+0 0 s\n",
      "                     date  temperature_2m\n",
      "0     2018-12-24 00:00:00           4.815\n",
      "1     2018-12-24 01:00:00           4.665\n",
      "2     2018-12-24 02:00:00           3.915\n",
      "3     2018-12-24 03:00:00           3.365\n",
      "4     2018-12-24 04:00:00           2.965\n",
      "...                   ...             ...\n",
      "43531 2023-12-11 19:00:00           7.165\n",
      "43532 2023-12-11 20:00:00           7.115\n",
      "43533 2023-12-11 21:00:00           7.115\n",
      "43534 2023-12-11 22:00:00           6.715\n",
      "43535 2023-12-11 23:00:00           6.565\n",
      "\n",
      "[43536 rows x 2 columns]\n"
     ]
    }
   ],
   "source": [
    "import numpy as np\n",
    "import openmeteo_requests\n",
    "import requests_cache\n",
    "import pandas as pd\n",
    "from retry_requests import retry\n",
    "\n",
    "# Setup the Open-Meteo API client with cache and retry on error\n",
    "cache_session = requests_cache.CachedSession('.cache', expire_after=-1)\n",
    "retry_session = retry(cache_session, retries=5, backoff_factor=0.2)\n",
    "openmeteo = openmeteo_requests.Client(session=retry_session)\n",
    "\n",
    "# Make sure all required weather variables are listed here\n",
    "# The order of variables in hourly or daily is important to assign them correctly below\n",
    "url = \"https://archive-api.open-meteo.com/v1/archive\"\n",
    "params = {\n",
    "    \"latitude\": 52.52,  # Latitude for Berlin\n",
    "    \"longitude\": 13.405,  # Longitude for Berlin\n",
    "    \"start_date\": \"2018-12-24\",  # Start date\n",
    "    \"end_date\": \"2023-12-11\",  # End date\n",
    "    \"hourly\": \"temperature_2m\"\n",
    "}\n",
    "responses = openmeteo.weather_api(url, params=params)\n",
    "\n",
    "# Process first location. Add a for-loop for multiple locations or weather models\n",
    "response = responses[0]\n",
    "print(f\"Coordinates {response.Latitude()}°E {response.Longitude()}°N\")\n",
    "print(f\"Elevation {response.Elevation()} m asl\")\n",
    "print(f\"Timezone {response.Timezone()} {response.TimezoneAbbreviation()}\")\n",
    "print(f\"Timezone difference to GMT+0 {response.UtcOffsetSeconds()} s\")\n",
    "\n",
    "# Process hourly data. The order of variables needs to be the same as requested.\n",
    "hourly = response.Hourly()\n",
    "hourly_temperature_2m = hourly.Variables(0).ValuesAsNumpy()\n",
    "\n",
    "hourly_data = {\"date\": pd.date_range(\n",
    "    start=pd.to_datetime(hourly.Time(), unit=\"s\"),\n",
    "    end=pd.to_datetime(hourly.TimeEnd(), unit=\"s\"),\n",
    "    freq=pd.Timedelta(seconds=hourly.Interval()),\n",
    "    inclusive=\"left\"\n",
    ")}\n",
    "hourly_data[\"temperature_2m\"] = hourly_temperature_2m\n",
    "\n",
    "hourly_dataframe = pd.DataFrame(data=hourly_data)\n",
    "hourly_dataframe.to_csv(\"temperatures.csv\", index=True)\n",
    "print(hourly_dataframe)\n"
   ]
  },
  {
   "cell_type": "code",
   "execution_count": 3,
   "outputs": [],
   "source": [
    "from models.DAX import DAX_quantile_regression, DAX_baseline\n",
    "from models.energy import energy_quantile_regression\n",
    "from functions import get_energy, get_DAX, merge_submissions, check_submission\n",
    "from functions.prepare_data import split_time\n",
    "from functions.evaluation import evaluate_horizon\n",
    "from tqdm import tqdm\n",
    "from functions import evaluate_dax\n",
    "from functions import naive_ensemble\n",
    "import pandas as pd\n",
    "#import minmaxscaler\n",
    "from sklearn.preprocessing import MinMaxScaler\n",
    "from datetime import datetime, date, timedelta"
   ],
   "metadata": {
    "collapsed": false,
    "ExecuteTime": {
     "end_time": "2023-12-13T17:00:42.326766Z",
     "start_time": "2023-12-13T17:00:42.029873Z"
    }
   },
   "id": "c0c9a5601bb0cda2"
  },
  {
   "cell_type": "code",
   "execution_count": 25,
   "outputs": [
    {
     "name": "stderr",
     "output_type": "stream",
     "text": [
      "  0%|          | 0/260 [00:00<?, ?it/s]/Users/stephantimpe/PycharmProjects/probabilistic-forecasting-challenge/functions/get_energy.py:28: FutureWarning: The behavior of DataFrame concatenation with empty or all-NA entries is deprecated. In a future version, this will no longer exclude empty or all-NA columns when determining the result dtypes. To retain the old behavior, exclude the relevant entries before the concat operation.\n",
      "  energydata = pd.concat([energydata, pd.DataFrame(rawdata, columns=col_names)])\n",
      "100%|██████████| 260/260 [00:27<00:00,  9.48it/s]\n"
     ]
    },
    {
     "data": {
      "text/plain": "                       gesamt  weekday\ndate_time                             \n2018-12-24 00:00:00  42.02925        0\n2018-12-24 01:00:00  39.61025        0\n2018-12-24 02:00:00  39.13875        0\n2018-12-24 03:00:00  39.42100        0\n2018-12-24 04:00:00  40.74775        0",
      "text/html": "<div>\n<style scoped>\n    .dataframe tbody tr th:only-of-type {\n        vertical-align: middle;\n    }\n\n    .dataframe tbody tr th {\n        vertical-align: top;\n    }\n\n    .dataframe thead th {\n        text-align: right;\n    }\n</style>\n<table border=\"1\" class=\"dataframe\">\n  <thead>\n    <tr style=\"text-align: right;\">\n      <th></th>\n      <th>gesamt</th>\n      <th>weekday</th>\n    </tr>\n    <tr>\n      <th>date_time</th>\n      <th></th>\n      <th></th>\n    </tr>\n  </thead>\n  <tbody>\n    <tr>\n      <th>2018-12-24 00:00:00</th>\n      <td>42.02925</td>\n      <td>0</td>\n    </tr>\n    <tr>\n      <th>2018-12-24 01:00:00</th>\n      <td>39.61025</td>\n      <td>0</td>\n    </tr>\n    <tr>\n      <th>2018-12-24 02:00:00</th>\n      <td>39.13875</td>\n      <td>0</td>\n    </tr>\n    <tr>\n      <th>2018-12-24 03:00:00</th>\n      <td>39.42100</td>\n      <td>0</td>\n    </tr>\n    <tr>\n      <th>2018-12-24 04:00:00</th>\n      <td>40.74775</td>\n      <td>0</td>\n    </tr>\n  </tbody>\n</table>\n</div>"
     },
     "execution_count": 25,
     "metadata": {},
     "output_type": "execute_result"
    }
   ],
   "source": [
    "energydata = get_energy.get()\n",
    "energydata.head()"
   ],
   "metadata": {
    "collapsed": false,
    "ExecuteTime": {
     "end_time": "2023-12-13T17:32:20.442286Z",
     "start_time": "2023-12-13T17:31:52.771041Z"
    }
   },
   "id": "42876725064a9291"
  },
  {
   "cell_type": "code",
   "execution_count": 49,
   "outputs": [
    {
     "data": {
      "text/plain": "                     temperature_2m\ndate                               \n2018-12-24 00:00:00           4.815\n2018-12-24 01:00:00           4.665\n2018-12-24 02:00:00           3.915\n2018-12-24 03:00:00           3.365\n2018-12-24 04:00:00           2.965\n...                             ...\n2023-12-11 19:00:00           7.165\n2023-12-11 20:00:00           7.115\n2023-12-11 21:00:00           7.115\n2023-12-11 22:00:00           6.715\n2023-12-11 23:00:00           6.565\n\n[43536 rows x 1 columns]",
      "text/html": "<div>\n<style scoped>\n    .dataframe tbody tr th:only-of-type {\n        vertical-align: middle;\n    }\n\n    .dataframe tbody tr th {\n        vertical-align: top;\n    }\n\n    .dataframe thead th {\n        text-align: right;\n    }\n</style>\n<table border=\"1\" class=\"dataframe\">\n  <thead>\n    <tr style=\"text-align: right;\">\n      <th></th>\n      <th>temperature_2m</th>\n    </tr>\n    <tr>\n      <th>date</th>\n      <th></th>\n    </tr>\n  </thead>\n  <tbody>\n    <tr>\n      <th>2018-12-24 00:00:00</th>\n      <td>4.815</td>\n    </tr>\n    <tr>\n      <th>2018-12-24 01:00:00</th>\n      <td>4.665</td>\n    </tr>\n    <tr>\n      <th>2018-12-24 02:00:00</th>\n      <td>3.915</td>\n    </tr>\n    <tr>\n      <th>2018-12-24 03:00:00</th>\n      <td>3.365</td>\n    </tr>\n    <tr>\n      <th>2018-12-24 04:00:00</th>\n      <td>2.965</td>\n    </tr>\n    <tr>\n      <th>...</th>\n      <td>...</td>\n    </tr>\n    <tr>\n      <th>2023-12-11 19:00:00</th>\n      <td>7.165</td>\n    </tr>\n    <tr>\n      <th>2023-12-11 20:00:00</th>\n      <td>7.115</td>\n    </tr>\n    <tr>\n      <th>2023-12-11 21:00:00</th>\n      <td>7.115</td>\n    </tr>\n    <tr>\n      <th>2023-12-11 22:00:00</th>\n      <td>6.715</td>\n    </tr>\n    <tr>\n      <th>2023-12-11 23:00:00</th>\n      <td>6.565</td>\n    </tr>\n  </tbody>\n</table>\n<p>43536 rows × 1 columns</p>\n</div>"
     },
     "execution_count": 49,
     "metadata": {},
     "output_type": "execute_result"
    }
   ],
   "source": [
    "import pandas as pd\n",
    "\n",
    "# Assuming 'energydata' is your energy DataFrame and 'hourly_dataframe' is your weather DataFrame\n",
    "# Also assuming both have a column 'date' or 'timestamp' that you want to set as index\n",
    "\n",
    "\n",
    "\n",
    "hourly_dataframe\n",
    "\n"
   ],
   "metadata": {
    "collapsed": false,
    "ExecuteTime": {
     "end_time": "2023-12-13T17:40:52.938265Z",
     "start_time": "2023-12-13T17:40:52.922690Z"
    }
   },
   "id": "a8697b71cf37b046"
  },
  {
   "cell_type": "code",
   "execution_count": 50,
   "outputs": [],
   "source": [
    "# Join the DataFrames on their indices\n",
    "df_combined = energydata.join(hourly_dataframe, how='inner')\n",
    "\n",
    "# Now df_combined has both energy and weather data aligned by datetime index"
   ],
   "metadata": {
    "collapsed": false,
    "ExecuteTime": {
     "end_time": "2023-12-13T17:40:53.624310Z",
     "start_time": "2023-12-13T17:40:53.620414Z"
    }
   },
   "id": "ef467404680a9275"
  },
  {
   "cell_type": "code",
   "execution_count": 51,
   "outputs": [
    {
     "data": {
      "text/plain": "                       gesamt  weekday  temperature_2m\n2018-12-24 00:00:00  42.02925        0           4.815\n2018-12-24 01:00:00  39.61025        0           4.665\n2018-12-24 02:00:00  39.13875        0           3.915\n2018-12-24 03:00:00  39.42100        0           3.365\n2018-12-24 04:00:00  40.74775        0           2.965\n...                       ...      ...             ...\n2023-12-11 19:00:00  65.65500        0           7.165\n2023-12-11 20:00:00  62.07900        0           7.115\n2023-12-11 21:00:00  58.18600        0           7.115\n2023-12-11 22:00:00  54.64750        0           6.715\n2023-12-11 23:00:00  50.69275        0           6.565\n\n[43536 rows x 3 columns]",
      "text/html": "<div>\n<style scoped>\n    .dataframe tbody tr th:only-of-type {\n        vertical-align: middle;\n    }\n\n    .dataframe tbody tr th {\n        vertical-align: top;\n    }\n\n    .dataframe thead th {\n        text-align: right;\n    }\n</style>\n<table border=\"1\" class=\"dataframe\">\n  <thead>\n    <tr style=\"text-align: right;\">\n      <th></th>\n      <th>gesamt</th>\n      <th>weekday</th>\n      <th>temperature_2m</th>\n    </tr>\n  </thead>\n  <tbody>\n    <tr>\n      <th>2018-12-24 00:00:00</th>\n      <td>42.02925</td>\n      <td>0</td>\n      <td>4.815</td>\n    </tr>\n    <tr>\n      <th>2018-12-24 01:00:00</th>\n      <td>39.61025</td>\n      <td>0</td>\n      <td>4.665</td>\n    </tr>\n    <tr>\n      <th>2018-12-24 02:00:00</th>\n      <td>39.13875</td>\n      <td>0</td>\n      <td>3.915</td>\n    </tr>\n    <tr>\n      <th>2018-12-24 03:00:00</th>\n      <td>39.42100</td>\n      <td>0</td>\n      <td>3.365</td>\n    </tr>\n    <tr>\n      <th>2018-12-24 04:00:00</th>\n      <td>40.74775</td>\n      <td>0</td>\n      <td>2.965</td>\n    </tr>\n    <tr>\n      <th>...</th>\n      <td>...</td>\n      <td>...</td>\n      <td>...</td>\n    </tr>\n    <tr>\n      <th>2023-12-11 19:00:00</th>\n      <td>65.65500</td>\n      <td>0</td>\n      <td>7.165</td>\n    </tr>\n    <tr>\n      <th>2023-12-11 20:00:00</th>\n      <td>62.07900</td>\n      <td>0</td>\n      <td>7.115</td>\n    </tr>\n    <tr>\n      <th>2023-12-11 21:00:00</th>\n      <td>58.18600</td>\n      <td>0</td>\n      <td>7.115</td>\n    </tr>\n    <tr>\n      <th>2023-12-11 22:00:00</th>\n      <td>54.64750</td>\n      <td>0</td>\n      <td>6.715</td>\n    </tr>\n    <tr>\n      <th>2023-12-11 23:00:00</th>\n      <td>50.69275</td>\n      <td>0</td>\n      <td>6.565</td>\n    </tr>\n  </tbody>\n</table>\n<p>43536 rows × 3 columns</p>\n</div>"
     },
     "execution_count": 51,
     "metadata": {},
     "output_type": "execute_result"
    }
   ],
   "source": [
    "df_combined"
   ],
   "metadata": {
    "collapsed": false,
    "ExecuteTime": {
     "end_time": "2023-12-13T17:40:54.630087Z",
     "start_time": "2023-12-13T17:40:54.622789Z"
    }
   },
   "id": "5a961331656426d7"
  },
  {
   "cell_type": "code",
   "execution_count": 53,
   "outputs": [
    {
     "ename": "ValueError",
     "evalue": "Pandas data cast to numpy dtype of object. Check input data with np.asarray(data).",
     "output_type": "error",
     "traceback": [
      "\u001B[0;31m---------------------------------------------------------------------------\u001B[0m",
      "\u001B[0;31mValueError\u001B[0m                                Traceback (most recent call last)",
      "Cell \u001B[0;32mIn[53], line 1\u001B[0m\n\u001B[0;32m----> 1\u001B[0m \u001B[43menergy_quantile_regression\u001B[49m\u001B[43m(\u001B[49m\u001B[43mdf_combined\u001B[49m\u001B[43m)\u001B[49m\n",
      "Cell \u001B[0;32mIn[52], line 69\u001B[0m, in \u001B[0;36menergy_quantile_regression\u001B[0;34m(df, date_str)\u001B[0m\n\u001B[1;32m     66\u001B[0m X \u001B[38;5;241m=\u001B[39m sm\u001B[38;5;241m.\u001B[39madd_constant(X)\n\u001B[1;32m     68\u001B[0m \u001B[38;5;66;03m# Train a model for each quantile\u001B[39;00m\n\u001B[0;32m---> 69\u001B[0m quantile_models \u001B[38;5;241m=\u001B[39m {quantile: sm\u001B[38;5;241m.\u001B[39mQuantReg(y, X)\u001B[38;5;241m.\u001B[39mfit(q\u001B[38;5;241m=\u001B[39mquantile) \u001B[38;5;28;01mfor\u001B[39;00m quantile \u001B[38;5;129;01min\u001B[39;00m tau}\n\u001B[1;32m     71\u001B[0m \u001B[38;5;66;03m# Rest of your function (e.g., forecasting, etc.)\u001B[39;00m\n\u001B[1;32m     72\u001B[0m \u001B[38;5;66;03m# Print summary of one of the quantile models (e.g., median model)\u001B[39;00m\n\u001B[1;32m     73\u001B[0m \u001B[38;5;28mprint\u001B[39m(quantile_models[\u001B[38;5;241m0.5\u001B[39m]\u001B[38;5;241m.\u001B[39msummary())\n",
      "Cell \u001B[0;32mIn[52], line 69\u001B[0m, in \u001B[0;36m<dictcomp>\u001B[0;34m(.0)\u001B[0m\n\u001B[1;32m     66\u001B[0m X \u001B[38;5;241m=\u001B[39m sm\u001B[38;5;241m.\u001B[39madd_constant(X)\n\u001B[1;32m     68\u001B[0m \u001B[38;5;66;03m# Train a model for each quantile\u001B[39;00m\n\u001B[0;32m---> 69\u001B[0m quantile_models \u001B[38;5;241m=\u001B[39m {quantile: \u001B[43msm\u001B[49m\u001B[38;5;241;43m.\u001B[39;49m\u001B[43mQuantReg\u001B[49m\u001B[43m(\u001B[49m\u001B[43my\u001B[49m\u001B[43m,\u001B[49m\u001B[43m \u001B[49m\u001B[43mX\u001B[49m\u001B[43m)\u001B[49m\u001B[38;5;241m.\u001B[39mfit(q\u001B[38;5;241m=\u001B[39mquantile) \u001B[38;5;28;01mfor\u001B[39;00m quantile \u001B[38;5;129;01min\u001B[39;00m tau}\n\u001B[1;32m     71\u001B[0m \u001B[38;5;66;03m# Rest of your function (e.g., forecasting, etc.)\u001B[39;00m\n\u001B[1;32m     72\u001B[0m \u001B[38;5;66;03m# Print summary of one of the quantile models (e.g., median model)\u001B[39;00m\n\u001B[1;32m     73\u001B[0m \u001B[38;5;28mprint\u001B[39m(quantile_models[\u001B[38;5;241m0.5\u001B[39m]\u001B[38;5;241m.\u001B[39msummary())\n",
      "File \u001B[0;32m~/anaconda3/envs/Forecasting_Challenge_2/lib/python3.9/site-packages/statsmodels/regression/quantile_regression.py:79\u001B[0m, in \u001B[0;36mQuantReg.__init__\u001B[0;34m(self, endog, exog, **kwargs)\u001B[0m\n\u001B[1;32m     77\u001B[0m \u001B[38;5;28;01mdef\u001B[39;00m \u001B[38;5;21m__init__\u001B[39m(\u001B[38;5;28mself\u001B[39m, endog, exog, \u001B[38;5;241m*\u001B[39m\u001B[38;5;241m*\u001B[39mkwargs):\n\u001B[1;32m     78\u001B[0m     \u001B[38;5;28mself\u001B[39m\u001B[38;5;241m.\u001B[39m_check_kwargs(kwargs)\n\u001B[0;32m---> 79\u001B[0m     \u001B[38;5;28;43msuper\u001B[39;49m\u001B[43m(\u001B[49m\u001B[43mQuantReg\u001B[49m\u001B[43m,\u001B[49m\u001B[43m \u001B[49m\u001B[38;5;28;43mself\u001B[39;49m\u001B[43m)\u001B[49m\u001B[38;5;241;43m.\u001B[39;49m\u001B[38;5;21;43m__init__\u001B[39;49m\u001B[43m(\u001B[49m\u001B[43mendog\u001B[49m\u001B[43m,\u001B[49m\u001B[43m \u001B[49m\u001B[43mexog\u001B[49m\u001B[43m,\u001B[49m\u001B[43m \u001B[49m\u001B[38;5;241;43m*\u001B[39;49m\u001B[38;5;241;43m*\u001B[39;49m\u001B[43mkwargs\u001B[49m\u001B[43m)\u001B[49m\n",
      "File \u001B[0;32m~/anaconda3/envs/Forecasting_Challenge_2/lib/python3.9/site-packages/statsmodels/regression/linear_model.py:202\u001B[0m, in \u001B[0;36mRegressionModel.__init__\u001B[0;34m(self, endog, exog, **kwargs)\u001B[0m\n\u001B[1;32m    201\u001B[0m \u001B[38;5;28;01mdef\u001B[39;00m \u001B[38;5;21m__init__\u001B[39m(\u001B[38;5;28mself\u001B[39m, endog, exog, \u001B[38;5;241m*\u001B[39m\u001B[38;5;241m*\u001B[39mkwargs):\n\u001B[0;32m--> 202\u001B[0m     \u001B[38;5;28;43msuper\u001B[39;49m\u001B[43m(\u001B[49m\u001B[43mRegressionModel\u001B[49m\u001B[43m,\u001B[49m\u001B[43m \u001B[49m\u001B[38;5;28;43mself\u001B[39;49m\u001B[43m)\u001B[49m\u001B[38;5;241;43m.\u001B[39;49m\u001B[38;5;21;43m__init__\u001B[39;49m\u001B[43m(\u001B[49m\u001B[43mendog\u001B[49m\u001B[43m,\u001B[49m\u001B[43m \u001B[49m\u001B[43mexog\u001B[49m\u001B[43m,\u001B[49m\u001B[43m \u001B[49m\u001B[38;5;241;43m*\u001B[39;49m\u001B[38;5;241;43m*\u001B[39;49m\u001B[43mkwargs\u001B[49m\u001B[43m)\u001B[49m\n\u001B[1;32m    203\u001B[0m     \u001B[38;5;28mself\u001B[39m\u001B[38;5;241m.\u001B[39mpinv_wexog: Float64Array \u001B[38;5;241m|\u001B[39m \u001B[38;5;28;01mNone\u001B[39;00m \u001B[38;5;241m=\u001B[39m \u001B[38;5;28;01mNone\u001B[39;00m\n\u001B[1;32m    204\u001B[0m     \u001B[38;5;28mself\u001B[39m\u001B[38;5;241m.\u001B[39m_data_attr\u001B[38;5;241m.\u001B[39mextend([\u001B[38;5;124m'\u001B[39m\u001B[38;5;124mpinv_wexog\u001B[39m\u001B[38;5;124m'\u001B[39m, \u001B[38;5;124m'\u001B[39m\u001B[38;5;124mwendog\u001B[39m\u001B[38;5;124m'\u001B[39m, \u001B[38;5;124m'\u001B[39m\u001B[38;5;124mwexog\u001B[39m\u001B[38;5;124m'\u001B[39m, \u001B[38;5;124m'\u001B[39m\u001B[38;5;124mweights\u001B[39m\u001B[38;5;124m'\u001B[39m])\n",
      "File \u001B[0;32m~/anaconda3/envs/Forecasting_Challenge_2/lib/python3.9/site-packages/statsmodels/base/model.py:270\u001B[0m, in \u001B[0;36mLikelihoodModel.__init__\u001B[0;34m(self, endog, exog, **kwargs)\u001B[0m\n\u001B[1;32m    269\u001B[0m \u001B[38;5;28;01mdef\u001B[39;00m \u001B[38;5;21m__init__\u001B[39m(\u001B[38;5;28mself\u001B[39m, endog, exog\u001B[38;5;241m=\u001B[39m\u001B[38;5;28;01mNone\u001B[39;00m, \u001B[38;5;241m*\u001B[39m\u001B[38;5;241m*\u001B[39mkwargs):\n\u001B[0;32m--> 270\u001B[0m     \u001B[38;5;28;43msuper\u001B[39;49m\u001B[43m(\u001B[49m\u001B[43m)\u001B[49m\u001B[38;5;241;43m.\u001B[39;49m\u001B[38;5;21;43m__init__\u001B[39;49m\u001B[43m(\u001B[49m\u001B[43mendog\u001B[49m\u001B[43m,\u001B[49m\u001B[43m \u001B[49m\u001B[43mexog\u001B[49m\u001B[43m,\u001B[49m\u001B[43m \u001B[49m\u001B[38;5;241;43m*\u001B[39;49m\u001B[38;5;241;43m*\u001B[39;49m\u001B[43mkwargs\u001B[49m\u001B[43m)\u001B[49m\n\u001B[1;32m    271\u001B[0m     \u001B[38;5;28mself\u001B[39m\u001B[38;5;241m.\u001B[39minitialize()\n",
      "File \u001B[0;32m~/anaconda3/envs/Forecasting_Challenge_2/lib/python3.9/site-packages/statsmodels/base/model.py:95\u001B[0m, in \u001B[0;36mModel.__init__\u001B[0;34m(self, endog, exog, **kwargs)\u001B[0m\n\u001B[1;32m     93\u001B[0m missing \u001B[38;5;241m=\u001B[39m kwargs\u001B[38;5;241m.\u001B[39mpop(\u001B[38;5;124m'\u001B[39m\u001B[38;5;124mmissing\u001B[39m\u001B[38;5;124m'\u001B[39m, \u001B[38;5;124m'\u001B[39m\u001B[38;5;124mnone\u001B[39m\u001B[38;5;124m'\u001B[39m)\n\u001B[1;32m     94\u001B[0m hasconst \u001B[38;5;241m=\u001B[39m kwargs\u001B[38;5;241m.\u001B[39mpop(\u001B[38;5;124m'\u001B[39m\u001B[38;5;124mhasconst\u001B[39m\u001B[38;5;124m'\u001B[39m, \u001B[38;5;28;01mNone\u001B[39;00m)\n\u001B[0;32m---> 95\u001B[0m \u001B[38;5;28mself\u001B[39m\u001B[38;5;241m.\u001B[39mdata \u001B[38;5;241m=\u001B[39m \u001B[38;5;28;43mself\u001B[39;49m\u001B[38;5;241;43m.\u001B[39;49m\u001B[43m_handle_data\u001B[49m\u001B[43m(\u001B[49m\u001B[43mendog\u001B[49m\u001B[43m,\u001B[49m\u001B[43m \u001B[49m\u001B[43mexog\u001B[49m\u001B[43m,\u001B[49m\u001B[43m \u001B[49m\u001B[43mmissing\u001B[49m\u001B[43m,\u001B[49m\u001B[43m \u001B[49m\u001B[43mhasconst\u001B[49m\u001B[43m,\u001B[49m\n\u001B[1;32m     96\u001B[0m \u001B[43m                              \u001B[49m\u001B[38;5;241;43m*\u001B[39;49m\u001B[38;5;241;43m*\u001B[39;49m\u001B[43mkwargs\u001B[49m\u001B[43m)\u001B[49m\n\u001B[1;32m     97\u001B[0m \u001B[38;5;28mself\u001B[39m\u001B[38;5;241m.\u001B[39mk_constant \u001B[38;5;241m=\u001B[39m \u001B[38;5;28mself\u001B[39m\u001B[38;5;241m.\u001B[39mdata\u001B[38;5;241m.\u001B[39mk_constant\n\u001B[1;32m     98\u001B[0m \u001B[38;5;28mself\u001B[39m\u001B[38;5;241m.\u001B[39mexog \u001B[38;5;241m=\u001B[39m \u001B[38;5;28mself\u001B[39m\u001B[38;5;241m.\u001B[39mdata\u001B[38;5;241m.\u001B[39mexog\n",
      "File \u001B[0;32m~/anaconda3/envs/Forecasting_Challenge_2/lib/python3.9/site-packages/statsmodels/base/model.py:135\u001B[0m, in \u001B[0;36mModel._handle_data\u001B[0;34m(self, endog, exog, missing, hasconst, **kwargs)\u001B[0m\n\u001B[1;32m    134\u001B[0m \u001B[38;5;28;01mdef\u001B[39;00m \u001B[38;5;21m_handle_data\u001B[39m(\u001B[38;5;28mself\u001B[39m, endog, exog, missing, hasconst, \u001B[38;5;241m*\u001B[39m\u001B[38;5;241m*\u001B[39mkwargs):\n\u001B[0;32m--> 135\u001B[0m     data \u001B[38;5;241m=\u001B[39m \u001B[43mhandle_data\u001B[49m\u001B[43m(\u001B[49m\u001B[43mendog\u001B[49m\u001B[43m,\u001B[49m\u001B[43m \u001B[49m\u001B[43mexog\u001B[49m\u001B[43m,\u001B[49m\u001B[43m \u001B[49m\u001B[43mmissing\u001B[49m\u001B[43m,\u001B[49m\u001B[43m \u001B[49m\u001B[43mhasconst\u001B[49m\u001B[43m,\u001B[49m\u001B[43m \u001B[49m\u001B[38;5;241;43m*\u001B[39;49m\u001B[38;5;241;43m*\u001B[39;49m\u001B[43mkwargs\u001B[49m\u001B[43m)\u001B[49m\n\u001B[1;32m    136\u001B[0m     \u001B[38;5;66;03m# kwargs arrays could have changed, easier to just attach here\u001B[39;00m\n\u001B[1;32m    137\u001B[0m     \u001B[38;5;28;01mfor\u001B[39;00m key \u001B[38;5;129;01min\u001B[39;00m kwargs:\n",
      "File \u001B[0;32m~/anaconda3/envs/Forecasting_Challenge_2/lib/python3.9/site-packages/statsmodels/base/data.py:675\u001B[0m, in \u001B[0;36mhandle_data\u001B[0;34m(endog, exog, missing, hasconst, **kwargs)\u001B[0m\n\u001B[1;32m    672\u001B[0m     exog \u001B[38;5;241m=\u001B[39m np\u001B[38;5;241m.\u001B[39masarray(exog)\n\u001B[1;32m    674\u001B[0m klass \u001B[38;5;241m=\u001B[39m handle_data_class_factory(endog, exog)\n\u001B[0;32m--> 675\u001B[0m \u001B[38;5;28;01mreturn\u001B[39;00m \u001B[43mklass\u001B[49m\u001B[43m(\u001B[49m\u001B[43mendog\u001B[49m\u001B[43m,\u001B[49m\u001B[43m \u001B[49m\u001B[43mexog\u001B[49m\u001B[38;5;241;43m=\u001B[39;49m\u001B[43mexog\u001B[49m\u001B[43m,\u001B[49m\u001B[43m \u001B[49m\u001B[43mmissing\u001B[49m\u001B[38;5;241;43m=\u001B[39;49m\u001B[43mmissing\u001B[49m\u001B[43m,\u001B[49m\u001B[43m \u001B[49m\u001B[43mhasconst\u001B[49m\u001B[38;5;241;43m=\u001B[39;49m\u001B[43mhasconst\u001B[49m\u001B[43m,\u001B[49m\n\u001B[1;32m    676\u001B[0m \u001B[43m             \u001B[49m\u001B[38;5;241;43m*\u001B[39;49m\u001B[38;5;241;43m*\u001B[39;49m\u001B[43mkwargs\u001B[49m\u001B[43m)\u001B[49m\n",
      "File \u001B[0;32m~/anaconda3/envs/Forecasting_Challenge_2/lib/python3.9/site-packages/statsmodels/base/data.py:84\u001B[0m, in \u001B[0;36mModelData.__init__\u001B[0;34m(self, endog, exog, missing, hasconst, **kwargs)\u001B[0m\n\u001B[1;32m     82\u001B[0m     \u001B[38;5;28mself\u001B[39m\u001B[38;5;241m.\u001B[39morig_endog \u001B[38;5;241m=\u001B[39m endog\n\u001B[1;32m     83\u001B[0m     \u001B[38;5;28mself\u001B[39m\u001B[38;5;241m.\u001B[39morig_exog \u001B[38;5;241m=\u001B[39m exog\n\u001B[0;32m---> 84\u001B[0m     \u001B[38;5;28mself\u001B[39m\u001B[38;5;241m.\u001B[39mendog, \u001B[38;5;28mself\u001B[39m\u001B[38;5;241m.\u001B[39mexog \u001B[38;5;241m=\u001B[39m \u001B[38;5;28;43mself\u001B[39;49m\u001B[38;5;241;43m.\u001B[39;49m\u001B[43m_convert_endog_exog\u001B[49m\u001B[43m(\u001B[49m\u001B[43mendog\u001B[49m\u001B[43m,\u001B[49m\u001B[43m \u001B[49m\u001B[43mexog\u001B[49m\u001B[43m)\u001B[49m\n\u001B[1;32m     86\u001B[0m \u001B[38;5;28mself\u001B[39m\u001B[38;5;241m.\u001B[39mconst_idx \u001B[38;5;241m=\u001B[39m \u001B[38;5;28;01mNone\u001B[39;00m\n\u001B[1;32m     87\u001B[0m \u001B[38;5;28mself\u001B[39m\u001B[38;5;241m.\u001B[39mk_constant \u001B[38;5;241m=\u001B[39m \u001B[38;5;241m0\u001B[39m\n",
      "File \u001B[0;32m~/anaconda3/envs/Forecasting_Challenge_2/lib/python3.9/site-packages/statsmodels/base/data.py:509\u001B[0m, in \u001B[0;36mPandasData._convert_endog_exog\u001B[0;34m(self, endog, exog)\u001B[0m\n\u001B[1;32m    507\u001B[0m exog \u001B[38;5;241m=\u001B[39m exog \u001B[38;5;28;01mif\u001B[39;00m exog \u001B[38;5;129;01mis\u001B[39;00m \u001B[38;5;28;01mNone\u001B[39;00m \u001B[38;5;28;01melse\u001B[39;00m np\u001B[38;5;241m.\u001B[39masarray(exog)\n\u001B[1;32m    508\u001B[0m \u001B[38;5;28;01mif\u001B[39;00m endog\u001B[38;5;241m.\u001B[39mdtype \u001B[38;5;241m==\u001B[39m \u001B[38;5;28mobject\u001B[39m \u001B[38;5;129;01mor\u001B[39;00m exog \u001B[38;5;129;01mis\u001B[39;00m \u001B[38;5;129;01mnot\u001B[39;00m \u001B[38;5;28;01mNone\u001B[39;00m \u001B[38;5;129;01mand\u001B[39;00m exog\u001B[38;5;241m.\u001B[39mdtype \u001B[38;5;241m==\u001B[39m \u001B[38;5;28mobject\u001B[39m:\n\u001B[0;32m--> 509\u001B[0m     \u001B[38;5;28;01mraise\u001B[39;00m \u001B[38;5;167;01mValueError\u001B[39;00m(\u001B[38;5;124m\"\u001B[39m\u001B[38;5;124mPandas data cast to numpy dtype of object. \u001B[39m\u001B[38;5;124m\"\u001B[39m\n\u001B[1;32m    510\u001B[0m                      \u001B[38;5;124m\"\u001B[39m\u001B[38;5;124mCheck input data with np.asarray(data).\u001B[39m\u001B[38;5;124m\"\u001B[39m)\n\u001B[1;32m    511\u001B[0m \u001B[38;5;28;01mreturn\u001B[39;00m \u001B[38;5;28msuper\u001B[39m(PandasData, \u001B[38;5;28mself\u001B[39m)\u001B[38;5;241m.\u001B[39m_convert_endog_exog(endog, exog)\n",
      "\u001B[0;31mValueError\u001B[0m: Pandas data cast to numpy dtype of object. Check input data with np.asarray(data)."
     ]
    }
   ],
   "source": [
    "energy_quantile_regression(df_combined)"
   ],
   "metadata": {
    "collapsed": false,
    "ExecuteTime": {
     "end_time": "2023-12-13T17:41:00.986146Z",
     "start_time": "2023-12-13T17:41:00.770747Z"
    }
   },
   "id": "538bed56d797cc78"
  },
  {
   "cell_type": "code",
   "execution_count": null,
   "outputs": [],
   "source": [],
   "metadata": {
    "collapsed": false
   },
   "id": "b2ca690277d71475"
  }
 ],
 "metadata": {
  "kernelspec": {
   "display_name": "Python 3",
   "language": "python",
   "name": "python3"
  },
  "language_info": {
   "codemirror_mode": {
    "name": "ipython",
    "version": 2
   },
   "file_extension": ".py",
   "mimetype": "text/x-python",
   "name": "python",
   "nbconvert_exporter": "python",
   "pygments_lexer": "ipython2",
   "version": "2.7.6"
  }
 },
 "nbformat": 4,
 "nbformat_minor": 5
}
