{
 "cells": [
  {
   "cell_type": "code",
   "execution_count": 5,
   "outputs": [],
   "source": [
    "import pandas as pd\n",
    "import numpy as np\n",
    "import matplotlib.pyplot as plt\n",
    "\n",
    "import statsmodels.formula.api as smf\n",
    "from statsmodels.tools import add_constant\n",
    "from functions import get_DAX"
   ],
   "metadata": {
    "collapsed": false,
    "ExecuteTime": {
     "end_time": "2023-11-18T16:12:36.091353Z",
     "start_time": "2023-11-18T16:12:36.047328Z"
    }
   },
   "id": "affd35b3e30f7298"
  },
  {
   "cell_type": "code",
   "execution_count": 6,
   "outputs": [],
   "source": [
    "hist = get_DAX.get()"
   ],
   "metadata": {
    "collapsed": false,
    "ExecuteTime": {
     "end_time": "2023-11-18T16:12:36.376819Z",
     "start_time": "2023-11-18T16:12:36.051076Z"
    }
   },
   "id": "e09f0295e2acf405"
  },
  {
   "cell_type": "code",
   "execution_count": 7,
   "outputs": [
    {
     "data": {
      "text/plain": "                                  Open         High          Low        Close  \\\nDate                                                                            \n1988-01-08 00:00:00+01:00  1026.689941  1026.689941  1026.689941  1026.689941   \n1988-01-11 00:00:00+01:00   987.520020   987.520020   987.520020   987.520020   \n1988-01-12 00:00:00+01:00   986.890015   986.890015   986.890015   986.890015   \n1988-01-13 00:00:00+01:00   965.770020   965.770020   965.770020   965.770020   \n1988-01-14 00:00:00+01:00   974.460022   974.460022   974.460022   974.460022   \n\n                           Volume  Dividends  Stock Splits      ret1  \\\nDate                                                                   \n1988-01-08 00:00:00+01:00       0        0.0           0.0  1.197370   \n1988-01-11 00:00:00+01:00       0        0.0           0.0 -3.889849   \n1988-01-12 00:00:00+01:00       0        0.0           0.0 -0.063817   \n1988-01-13 00:00:00+01:00       0        0.0           0.0 -2.163287   \n1988-01-14 00:00:00+01:00       0        0.0           0.0  0.895776   \n\n                               ret2      ret3      ret4      ret5  \\\nDate                                                                \n1988-01-08 00:00:00+01:00  2.034796  3.024763  7.082493  2.116340   \n1988-01-11 00:00:00+01:00 -2.692479 -1.855053 -0.865086  3.192645   \n1988-01-12 00:00:00+01:00 -3.953666 -2.756296 -1.918870 -0.928903   \n1988-01-13 00:00:00+01:00 -2.227104 -6.116953 -4.919583 -4.082157   \n1988-01-14 00:00:00+01:00 -1.267511 -1.331328 -5.221176 -4.023806   \n\n                              lag_ret1     lag_ret2     lag_ret3     lag_ret4  \\\nDate                                                                            \n1988-01-08 00:00:00+01:00  1014.469971  1006.010010   996.099976   956.489990   \n1988-01-11 00:00:00+01:00  1026.689941  1014.469971  1006.010010   996.099976   \n1988-01-12 00:00:00+01:00   987.520020  1026.689941  1014.469971  1006.010010   \n1988-01-13 00:00:00+01:00   986.890015   987.520020  1026.689941  1014.469971   \n1988-01-14 00:00:00+01:00   965.770020   986.890015   987.520020  1026.689941   \n\n                              lag_ret5  \nDate                                    \n1988-01-08 00:00:00+01:00  1005.190002  \n1988-01-11 00:00:00+01:00   956.489990  \n1988-01-12 00:00:00+01:00   996.099976  \n1988-01-13 00:00:00+01:00  1006.010010  \n1988-01-14 00:00:00+01:00  1014.469971  ",
      "text/html": "<div>\n<style scoped>\n    .dataframe tbody tr th:only-of-type {\n        vertical-align: middle;\n    }\n\n    .dataframe tbody tr th {\n        vertical-align: top;\n    }\n\n    .dataframe thead th {\n        text-align: right;\n    }\n</style>\n<table border=\"1\" class=\"dataframe\">\n  <thead>\n    <tr style=\"text-align: right;\">\n      <th></th>\n      <th>Open</th>\n      <th>High</th>\n      <th>Low</th>\n      <th>Close</th>\n      <th>Volume</th>\n      <th>Dividends</th>\n      <th>Stock Splits</th>\n      <th>ret1</th>\n      <th>ret2</th>\n      <th>ret3</th>\n      <th>ret4</th>\n      <th>ret5</th>\n      <th>lag_ret1</th>\n      <th>lag_ret2</th>\n      <th>lag_ret3</th>\n      <th>lag_ret4</th>\n      <th>lag_ret5</th>\n    </tr>\n    <tr>\n      <th>Date</th>\n      <th></th>\n      <th></th>\n      <th></th>\n      <th></th>\n      <th></th>\n      <th></th>\n      <th></th>\n      <th></th>\n      <th></th>\n      <th></th>\n      <th></th>\n      <th></th>\n      <th></th>\n      <th></th>\n      <th></th>\n      <th></th>\n      <th></th>\n    </tr>\n  </thead>\n  <tbody>\n    <tr>\n      <th>1988-01-08 00:00:00+01:00</th>\n      <td>1026.689941</td>\n      <td>1026.689941</td>\n      <td>1026.689941</td>\n      <td>1026.689941</td>\n      <td>0</td>\n      <td>0.0</td>\n      <td>0.0</td>\n      <td>1.197370</td>\n      <td>2.034796</td>\n      <td>3.024763</td>\n      <td>7.082493</td>\n      <td>2.116340</td>\n      <td>1014.469971</td>\n      <td>1006.010010</td>\n      <td>996.099976</td>\n      <td>956.489990</td>\n      <td>1005.190002</td>\n    </tr>\n    <tr>\n      <th>1988-01-11 00:00:00+01:00</th>\n      <td>987.520020</td>\n      <td>987.520020</td>\n      <td>987.520020</td>\n      <td>987.520020</td>\n      <td>0</td>\n      <td>0.0</td>\n      <td>0.0</td>\n      <td>-3.889849</td>\n      <td>-2.692479</td>\n      <td>-1.855053</td>\n      <td>-0.865086</td>\n      <td>3.192645</td>\n      <td>1026.689941</td>\n      <td>1014.469971</td>\n      <td>1006.010010</td>\n      <td>996.099976</td>\n      <td>956.489990</td>\n    </tr>\n    <tr>\n      <th>1988-01-12 00:00:00+01:00</th>\n      <td>986.890015</td>\n      <td>986.890015</td>\n      <td>986.890015</td>\n      <td>986.890015</td>\n      <td>0</td>\n      <td>0.0</td>\n      <td>0.0</td>\n      <td>-0.063817</td>\n      <td>-3.953666</td>\n      <td>-2.756296</td>\n      <td>-1.918870</td>\n      <td>-0.928903</td>\n      <td>987.520020</td>\n      <td>1026.689941</td>\n      <td>1014.469971</td>\n      <td>1006.010010</td>\n      <td>996.099976</td>\n    </tr>\n    <tr>\n      <th>1988-01-13 00:00:00+01:00</th>\n      <td>965.770020</td>\n      <td>965.770020</td>\n      <td>965.770020</td>\n      <td>965.770020</td>\n      <td>0</td>\n      <td>0.0</td>\n      <td>0.0</td>\n      <td>-2.163287</td>\n      <td>-2.227104</td>\n      <td>-6.116953</td>\n      <td>-4.919583</td>\n      <td>-4.082157</td>\n      <td>986.890015</td>\n      <td>987.520020</td>\n      <td>1026.689941</td>\n      <td>1014.469971</td>\n      <td>1006.010010</td>\n    </tr>\n    <tr>\n      <th>1988-01-14 00:00:00+01:00</th>\n      <td>974.460022</td>\n      <td>974.460022</td>\n      <td>974.460022</td>\n      <td>974.460022</td>\n      <td>0</td>\n      <td>0.0</td>\n      <td>0.0</td>\n      <td>0.895776</td>\n      <td>-1.267511</td>\n      <td>-1.331328</td>\n      <td>-5.221176</td>\n      <td>-4.023806</td>\n      <td>965.770020</td>\n      <td>986.890015</td>\n      <td>987.520020</td>\n      <td>1026.689941</td>\n      <td>1014.469971</td>\n    </tr>\n  </tbody>\n</table>\n</div>"
     },
     "execution_count": 7,
     "metadata": {},
     "output_type": "execute_result"
    }
   ],
   "source": [
    "hist.head()"
   ],
   "metadata": {
    "collapsed": false,
    "ExecuteTime": {
     "end_time": "2023-11-18T16:12:36.387978Z",
     "start_time": "2023-11-18T16:12:36.383815Z"
    }
   },
   "id": "356f61ce29fb6699"
  },
  {
   "cell_type": "code",
   "execution_count": 8,
   "outputs": [],
   "source": [
    "\n",
    "tau = [.025, .25, .5, .75, .975]"
   ],
   "metadata": {
    "collapsed": false,
    "ExecuteTime": {
     "end_time": "2023-11-18T16:12:36.393963Z",
     "start_time": "2023-11-18T16:12:36.387786Z"
    }
   },
   "id": "f7af1d121a8b519a"
  },
  {
   "cell_type": "code",
   "execution_count": 9,
   "outputs": [],
   "source": [
    "pred_quantile_regression = np.zeros((5, 5))"
   ],
   "metadata": {
    "collapsed": false,
    "ExecuteTime": {
     "end_time": "2023-11-18T16:12:36.400611Z",
     "start_time": "2023-11-18T16:12:36.393831Z"
    }
   },
   "id": "8c0f63fe97a03f97"
  },
  {
   "cell_type": "code",
   "execution_count": 10,
   "outputs": [
    {
     "name": "stderr",
     "output_type": "stream",
     "text": [
      "/var/folders/y3/h1kjcg6j0wj3crmk4m1ff0380000gn/T/ipykernel_3971/204857745.py:14: FutureWarning: Series.__getitem__ treating keys as positions is deprecated. In a future version, integer keys will always be treated as labels (consistent with DataFrame behavior). To access a value by position, use `ser.iloc[pos]`\n",
      "  pred_quantile_regression[i, j] = res.predict(X.iloc[-1:])[0]\n",
      "/var/folders/y3/h1kjcg6j0wj3crmk4m1ff0380000gn/T/ipykernel_3971/204857745.py:14: FutureWarning: Series.__getitem__ treating keys as positions is deprecated. In a future version, integer keys will always be treated as labels (consistent with DataFrame behavior). To access a value by position, use `ser.iloc[pos]`\n",
      "  pred_quantile_regression[i, j] = res.predict(X.iloc[-1:])[0]\n",
      "/var/folders/y3/h1kjcg6j0wj3crmk4m1ff0380000gn/T/ipykernel_3971/204857745.py:14: FutureWarning: Series.__getitem__ treating keys as positions is deprecated. In a future version, integer keys will always be treated as labels (consistent with DataFrame behavior). To access a value by position, use `ser.iloc[pos]`\n",
      "  pred_quantile_regression[i, j] = res.predict(X.iloc[-1:])[0]\n",
      "/var/folders/y3/h1kjcg6j0wj3crmk4m1ff0380000gn/T/ipykernel_3971/204857745.py:14: FutureWarning: Series.__getitem__ treating keys as positions is deprecated. In a future version, integer keys will always be treated as labels (consistent with DataFrame behavior). To access a value by position, use `ser.iloc[pos]`\n",
      "  pred_quantile_regression[i, j] = res.predict(X.iloc[-1:])[0]\n",
      "/var/folders/y3/h1kjcg6j0wj3crmk4m1ff0380000gn/T/ipykernel_3971/204857745.py:14: FutureWarning: Series.__getitem__ treating keys as positions is deprecated. In a future version, integer keys will always be treated as labels (consistent with DataFrame behavior). To access a value by position, use `ser.iloc[pos]`\n",
      "  pred_quantile_regression[i, j] = res.predict(X.iloc[-1:])[0]\n",
      "/var/folders/y3/h1kjcg6j0wj3crmk4m1ff0380000gn/T/ipykernel_3971/204857745.py:14: FutureWarning: Series.__getitem__ treating keys as positions is deprecated. In a future version, integer keys will always be treated as labels (consistent with DataFrame behavior). To access a value by position, use `ser.iloc[pos]`\n",
      "  pred_quantile_regression[i, j] = res.predict(X.iloc[-1:])[0]\n",
      "/var/folders/y3/h1kjcg6j0wj3crmk4m1ff0380000gn/T/ipykernel_3971/204857745.py:14: FutureWarning: Series.__getitem__ treating keys as positions is deprecated. In a future version, integer keys will always be treated as labels (consistent with DataFrame behavior). To access a value by position, use `ser.iloc[pos]`\n",
      "  pred_quantile_regression[i, j] = res.predict(X.iloc[-1:])[0]\n",
      "/var/folders/y3/h1kjcg6j0wj3crmk4m1ff0380000gn/T/ipykernel_3971/204857745.py:14: FutureWarning: Series.__getitem__ treating keys as positions is deprecated. In a future version, integer keys will always be treated as labels (consistent with DataFrame behavior). To access a value by position, use `ser.iloc[pos]`\n",
      "  pred_quantile_regression[i, j] = res.predict(X.iloc[-1:])[0]\n",
      "/var/folders/y3/h1kjcg6j0wj3crmk4m1ff0380000gn/T/ipykernel_3971/204857745.py:14: FutureWarning: Series.__getitem__ treating keys as positions is deprecated. In a future version, integer keys will always be treated as labels (consistent with DataFrame behavior). To access a value by position, use `ser.iloc[pos]`\n",
      "  pred_quantile_regression[i, j] = res.predict(X.iloc[-1:])[0]\n",
      "/var/folders/y3/h1kjcg6j0wj3crmk4m1ff0380000gn/T/ipykernel_3971/204857745.py:14: FutureWarning: Series.__getitem__ treating keys as positions is deprecated. In a future version, integer keys will always be treated as labels (consistent with DataFrame behavior). To access a value by position, use `ser.iloc[pos]`\n",
      "  pred_quantile_regression[i, j] = res.predict(X.iloc[-1:])[0]\n",
      "/var/folders/y3/h1kjcg6j0wj3crmk4m1ff0380000gn/T/ipykernel_3971/204857745.py:14: FutureWarning: Series.__getitem__ treating keys as positions is deprecated. In a future version, integer keys will always be treated as labels (consistent with DataFrame behavior). To access a value by position, use `ser.iloc[pos]`\n",
      "  pred_quantile_regression[i, j] = res.predict(X.iloc[-1:])[0]\n",
      "/var/folders/y3/h1kjcg6j0wj3crmk4m1ff0380000gn/T/ipykernel_3971/204857745.py:14: FutureWarning: Series.__getitem__ treating keys as positions is deprecated. In a future version, integer keys will always be treated as labels (consistent with DataFrame behavior). To access a value by position, use `ser.iloc[pos]`\n",
      "  pred_quantile_regression[i, j] = res.predict(X.iloc[-1:])[0]\n",
      "/var/folders/y3/h1kjcg6j0wj3crmk4m1ff0380000gn/T/ipykernel_3971/204857745.py:14: FutureWarning: Series.__getitem__ treating keys as positions is deprecated. In a future version, integer keys will always be treated as labels (consistent with DataFrame behavior). To access a value by position, use `ser.iloc[pos]`\n",
      "  pred_quantile_regression[i, j] = res.predict(X.iloc[-1:])[0]\n",
      "/var/folders/y3/h1kjcg6j0wj3crmk4m1ff0380000gn/T/ipykernel_3971/204857745.py:14: FutureWarning: Series.__getitem__ treating keys as positions is deprecated. In a future version, integer keys will always be treated as labels (consistent with DataFrame behavior). To access a value by position, use `ser.iloc[pos]`\n",
      "  pred_quantile_regression[i, j] = res.predict(X.iloc[-1:])[0]\n",
      "/var/folders/y3/h1kjcg6j0wj3crmk4m1ff0380000gn/T/ipykernel_3971/204857745.py:14: FutureWarning: Series.__getitem__ treating keys as positions is deprecated. In a future version, integer keys will always be treated as labels (consistent with DataFrame behavior). To access a value by position, use `ser.iloc[pos]`\n",
      "  pred_quantile_regression[i, j] = res.predict(X.iloc[-1:])[0]\n",
      "/var/folders/y3/h1kjcg6j0wj3crmk4m1ff0380000gn/T/ipykernel_3971/204857745.py:14: FutureWarning: Series.__getitem__ treating keys as positions is deprecated. In a future version, integer keys will always be treated as labels (consistent with DataFrame behavior). To access a value by position, use `ser.iloc[pos]`\n",
      "  pred_quantile_regression[i, j] = res.predict(X.iloc[-1:])[0]\n",
      "/var/folders/y3/h1kjcg6j0wj3crmk4m1ff0380000gn/T/ipykernel_3971/204857745.py:14: FutureWarning: Series.__getitem__ treating keys as positions is deprecated. In a future version, integer keys will always be treated as labels (consistent with DataFrame behavior). To access a value by position, use `ser.iloc[pos]`\n",
      "  pred_quantile_regression[i, j] = res.predict(X.iloc[-1:])[0]\n",
      "/var/folders/y3/h1kjcg6j0wj3crmk4m1ff0380000gn/T/ipykernel_3971/204857745.py:14: FutureWarning: Series.__getitem__ treating keys as positions is deprecated. In a future version, integer keys will always be treated as labels (consistent with DataFrame behavior). To access a value by position, use `ser.iloc[pos]`\n",
      "  pred_quantile_regression[i, j] = res.predict(X.iloc[-1:])[0]\n",
      "/var/folders/y3/h1kjcg6j0wj3crmk4m1ff0380000gn/T/ipykernel_3971/204857745.py:14: FutureWarning: Series.__getitem__ treating keys as positions is deprecated. In a future version, integer keys will always be treated as labels (consistent with DataFrame behavior). To access a value by position, use `ser.iloc[pos]`\n",
      "  pred_quantile_regression[i, j] = res.predict(X.iloc[-1:])[0]\n",
      "/var/folders/y3/h1kjcg6j0wj3crmk4m1ff0380000gn/T/ipykernel_3971/204857745.py:14: FutureWarning: Series.__getitem__ treating keys as positions is deprecated. In a future version, integer keys will always be treated as labels (consistent with DataFrame behavior). To access a value by position, use `ser.iloc[pos]`\n",
      "  pred_quantile_regression[i, j] = res.predict(X.iloc[-1:])[0]\n",
      "/var/folders/y3/h1kjcg6j0wj3crmk4m1ff0380000gn/T/ipykernel_3971/204857745.py:14: FutureWarning: Series.__getitem__ treating keys as positions is deprecated. In a future version, integer keys will always be treated as labels (consistent with DataFrame behavior). To access a value by position, use `ser.iloc[pos]`\n",
      "  pred_quantile_regression[i, j] = res.predict(X.iloc[-1:])[0]\n",
      "/var/folders/y3/h1kjcg6j0wj3crmk4m1ff0380000gn/T/ipykernel_3971/204857745.py:14: FutureWarning: Series.__getitem__ treating keys as positions is deprecated. In a future version, integer keys will always be treated as labels (consistent with DataFrame behavior). To access a value by position, use `ser.iloc[pos]`\n",
      "  pred_quantile_regression[i, j] = res.predict(X.iloc[-1:])[0]\n",
      "/var/folders/y3/h1kjcg6j0wj3crmk4m1ff0380000gn/T/ipykernel_3971/204857745.py:14: FutureWarning: Series.__getitem__ treating keys as positions is deprecated. In a future version, integer keys will always be treated as labels (consistent with DataFrame behavior). To access a value by position, use `ser.iloc[pos]`\n",
      "  pred_quantile_regression[i, j] = res.predict(X.iloc[-1:])[0]\n",
      "/var/folders/y3/h1kjcg6j0wj3crmk4m1ff0380000gn/T/ipykernel_3971/204857745.py:14: FutureWarning: Series.__getitem__ treating keys as positions is deprecated. In a future version, integer keys will always be treated as labels (consistent with DataFrame behavior). To access a value by position, use `ser.iloc[pos]`\n",
      "  pred_quantile_regression[i, j] = res.predict(X.iloc[-1:])[0]\n",
      "/var/folders/y3/h1kjcg6j0wj3crmk4m1ff0380000gn/T/ipykernel_3971/204857745.py:14: FutureWarning: Series.__getitem__ treating keys as positions is deprecated. In a future version, integer keys will always be treated as labels (consistent with DataFrame behavior). To access a value by position, use `ser.iloc[pos]`\n",
      "  pred_quantile_regression[i, j] = res.predict(X.iloc[-1:])[0]\n"
     ]
    }
   ],
   "source": [
    "# Perform quantile regression for each horizon and quantile\n",
    "for i in range(5):\n",
    "    ret_str = f\"ret{i+1}\"\n",
    "    y = hist[ret_str]  # Dependent variable\n",
    "    X = hist[[f'lag_ret{j}' for j in range(1, 6)]]  # Independent variables\n",
    "    X = add_constant(X)  # Adds a constant term to the predictors\n",
    "\n",
    "    for j, q in enumerate(tau):\n",
    "        # Fit the model for the q-th quantile\n",
    "        mod = smf.quantreg(f'{ret_str} ~ lag_ret1 + lag_ret2 + lag_ret3 + lag_ret4 + lag_ret5', hist)\n",
    "        res = mod.fit(q=q)\n",
    "        \n",
    "        # Predict the quantile for the last observation\n",
    "        pred_quantile_regression[i, j] = res.predict(X.iloc[-1:])[0]"
   ],
   "metadata": {
    "collapsed": false,
    "ExecuteTime": {
     "end_time": "2023-11-18T16:12:42.700707Z",
     "start_time": "2023-11-18T16:12:36.400002Z"
    }
   },
   "id": "94d3f0dc9585de01"
  },
  {
   "cell_type": "code",
   "execution_count": 11,
   "outputs": [
    {
     "data": {
      "text/plain": "<Figure size 640x480 with 1 Axes>",
      "image/png": "[encoded data removed]"
     },
     "metadata": {},
     "output_type": "display_data"
    }
   ],
   "source": [
    "x = np.arange(5)+1\n",
    "_ = plt.plot(x,pred_quantile_regression, ls=\"\", marker=\"o\", c=\"black\")\n",
    "_ = plt.xticks(x, x)\n",
    "_ = plt.plot((x,x),(pred_quantile_regression[:,0], pred_quantile_regression[:,-1]),c='black')"
   ],
   "metadata": {
    "collapsed": false,
    "ExecuteTime": {
     "end_time": "2023-11-18T16:12:42.882896Z",
     "start_time": "2023-11-18T16:12:42.701294Z"
    }
   },
   "id": "29fecf1323555689"
  },
  {
   "cell_type": "code",
   "execution_count": 12,
   "outputs": [],
   "source": [
    "from datetime import datetime, date\n",
    "date_str = date.today() #.strftime('%Y%m%d')\n"
   ],
   "metadata": {
    "collapsed": false,
    "ExecuteTime": {
     "end_time": "2023-11-18T16:12:42.962937Z",
     "start_time": "2023-11-18T16:12:42.896612Z"
    }
   },
   "id": "b7c03c93e9caf903"
  },
  {
   "cell_type": "code",
   "execution_count": 13,
   "outputs": [],
   "source": [
    "df_sub = pd.DataFrame({\n",
    "    \"forecast_date\": date_str,\n",
    "    \"target\": \"DAX\",\n",
    "    \"horizon\": [str(i) + \" day\" for i in (1, 2, 5, 6, 7)],\n",
    "    \"q0.025\": pred_quantile_regression[:, 0],\n",
    "    \"q0.25\": pred_quantile_regression[:, 1],\n",
    "    \"q0.5\": pred_quantile_regression[:, 2],\n",
    "    \"q0.75\": pred_quantile_regression[:, 3],\n",
    "    \"q0.975\": pred_quantile_regression[:, 4]\n",
    "})"
   ],
   "metadata": {
    "collapsed": false,
    "ExecuteTime": {
     "end_time": "2023-11-18T16:12:42.963243Z",
     "start_time": "2023-11-18T16:12:42.934844Z"
    }
   },
   "id": "c7c291997303af8c"
  },
  {
   "cell_type": "code",
   "execution_count": 14,
   "outputs": [
    {
     "data": {
      "text/plain": "  forecast_date target horizon    q0.025     q0.25      q0.5     q0.75  \\\n0    2023-11-18    DAX   1 day -1.527961 -0.310518 -0.054355  0.225279   \n1    2023-11-18    DAX   2 day -1.456017  0.059355  0.394031  0.603557   \n2    2023-11-18    DAX   5 day -0.090082  1.554570  1.901802  2.052857   \n3    2023-11-18    DAX   6 day  2.791002  4.576141  5.004386  5.172169   \n4    2023-11-18    DAX   7 day  4.024749  5.838083  6.306226  6.451865   \n\n     q0.975  \n0  1.234585  \n1  1.788186  \n2  3.329860  \n3  6.452624  \n4  7.788548  ",
      "text/html": "<div>\n<style scoped>\n    .dataframe tbody tr th:only-of-type {\n        vertical-align: middle;\n    }\n\n    .dataframe tbody tr th {\n        vertical-align: top;\n    }\n\n    .dataframe thead th {\n        text-align: right;\n    }\n</style>\n<table border=\"1\" class=\"dataframe\">\n  <thead>\n    <tr style=\"text-align: right;\">\n      <th></th>\n      <th>forecast_date</th>\n      <th>target</th>\n      <th>horizon</th>\n      <th>q0.025</th>\n      <th>q0.25</th>\n      <th>q0.5</th>\n      <th>q0.75</th>\n      <th>q0.975</th>\n    </tr>\n  </thead>\n  <tbody>\n    <tr>\n      <th>0</th>\n      <td>2023-11-18</td>\n      <td>DAX</td>\n      <td>1 day</td>\n      <td>-1.527961</td>\n      <td>-0.310518</td>\n      <td>-0.054355</td>\n      <td>0.225279</td>\n      <td>1.234585</td>\n    </tr>\n    <tr>\n      <th>1</th>\n      <td>2023-11-18</td>\n      <td>DAX</td>\n      <td>2 day</td>\n      <td>-1.456017</td>\n      <td>0.059355</td>\n      <td>0.394031</td>\n      <td>0.603557</td>\n      <td>1.788186</td>\n    </tr>\n    <tr>\n      <th>2</th>\n      <td>2023-11-18</td>\n      <td>DAX</td>\n      <td>5 day</td>\n      <td>-0.090082</td>\n      <td>1.554570</td>\n      <td>1.901802</td>\n      <td>2.052857</td>\n      <td>3.329860</td>\n    </tr>\n    <tr>\n      <th>3</th>\n      <td>2023-11-18</td>\n      <td>DAX</td>\n      <td>6 day</td>\n      <td>2.791002</td>\n      <td>4.576141</td>\n      <td>5.004386</td>\n      <td>5.172169</td>\n      <td>6.452624</td>\n    </tr>\n    <tr>\n      <th>4</th>\n      <td>2023-11-18</td>\n      <td>DAX</td>\n      <td>7 day</td>\n      <td>4.024749</td>\n      <td>5.838083</td>\n      <td>6.306226</td>\n      <td>6.451865</td>\n      <td>7.788548</td>\n    </tr>\n  </tbody>\n</table>\n</div>"
     },
     "execution_count": 14,
     "metadata": {},
     "output_type": "execute_result"
    }
   ],
   "source": [
    "df_sub"
   ],
   "metadata": {
    "collapsed": false,
    "ExecuteTime": {
     "end_time": "2023-11-18T16:12:42.964211Z",
     "start_time": "2023-11-18T16:12:42.946768Z"
    }
   },
   "id": "41a5ea4f4c4f76d5"
  },
  {
   "cell_type": "code",
   "execution_count": 15,
   "outputs": [],
   "source": [
    "#need to change this\n",
    "PATH = \"../forecasts\"\n",
    "date_str = datetime.today().strftime('%Y%m%d')\n",
    "df_sub.to_csv(PATH+\"/\"+date_str+\"DAX_Quantile_Regression.csv\",index=False)"
   ],
   "metadata": {
    "collapsed": false,
    "ExecuteTime": {
     "end_time": "2023-11-18T16:12:42.964378Z",
     "start_time": "2023-11-18T16:12:42.954570Z"
    }
   },
   "id": "db5621d228cf9d56"
  },
  {
   "cell_type": "code",
   "execution_count": 15,
   "outputs": [],
   "source": [],
   "metadata": {
    "collapsed": false,
    "ExecuteTime": {
     "end_time": "2023-11-18T16:12:42.966450Z",
     "start_time": "2023-11-18T16:12:42.960623Z"
    }
   },
   "id": "3060b6e9dd2f9752"
  }
 ],
 "metadata": {
  "kernelspec": {
   "display_name": "Python 3",
   "language": "python",
   "name": "python3"
  },
  "language_info": {
   "codemirror_mode": {
    "name": "ipython",
    "version": 2
   },
   "file_extension": ".py",
   "mimetype": "text/x-python",
   "name": "python",
   "nbconvert_exporter": "python",
   "pygments_lexer": "ipython2",
   "version": "2.7.6"
  }
 },
 "nbformat": 4,
 "nbformat_minor": 5
}
