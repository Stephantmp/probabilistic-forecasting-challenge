{
 "cells": [
  {
   "cell_type": "code",
   "execution_count": 19,
   "id": "initial_id",
   "metadata": {
    "collapsed": true,
    "ExecuteTime": {
     "end_time": "2023-11-30T18:03:35.871003Z",
     "start_time": "2023-11-30T18:03:35.867562Z"
    }
   },
   "outputs": [],
   "source": [
    "from models.DAX import DAX_quantile_regression, DAX_baseline\n",
    "from models.energy import energy_quantile_regression\n",
    "from functions import get_energy,get_DAX,merge_submissions,check_submission\n",
    "from functions.prepare_data import split_time\n",
    "from functions.evaluation import evaluate_horizon\n",
    "from tqdm import tqdm\n",
    "from functions import evaluate_dax"
   ]
  },
  {
   "cell_type": "code",
   "execution_count": 15,
   "outputs": [],
   "source": [
    "from functions import naive_ensemble"
   ],
   "metadata": {
    "collapsed": false,
    "ExecuteTime": {
     "end_time": "2023-11-30T14:59:59.780884Z",
     "start_time": "2023-11-30T14:59:59.767642Z"
    }
   },
   "id": "2ce850d6890c7f7e"
  },
  {
   "cell_type": "code",
   "execution_count": 16,
   "outputs": [],
   "source": [
    "daxdata = get_DAX.get()"
   ],
   "metadata": {
    "collapsed": false,
    "ExecuteTime": {
     "end_time": "2023-11-30T15:00:20.827986Z",
     "start_time": "2023-11-30T15:00:00.293136Z"
    }
   },
   "id": "f9e3cc3455a4dedb"
  },
  {
   "cell_type": "code",
   "execution_count": 17,
   "outputs": [],
   "source": [
    "base = DAX_baseline.DAX_baseline(daxdata)"
   ],
   "metadata": {
    "collapsed": false,
    "ExecuteTime": {
     "end_time": "2023-11-30T15:00:20.836238Z",
     "start_time": "2023-11-30T15:00:20.830807Z"
    }
   },
   "id": "ec5c75e7ea26f528"
  },
  {
   "cell_type": "code",
   "execution_count": 18,
   "outputs": [
    {
     "data": {
      "text/plain": "  forecast_date target horizon    q0.025     q0.25      q0.5     q0.75  \\\n0    2023-11-30    DAX   1 day -3.321265 -0.546439  0.068631  0.718274   \n1    2023-11-30    DAX   2 day -4.087895 -0.817404  0.080265  1.000970   \n2    2023-11-30    DAX   5 day -5.259161 -0.912912  0.164214  1.232426   \n3    2023-11-30    DAX   6 day -6.282629 -1.044070  0.203116  1.443441   \n4    2023-11-30    DAX   7 day -6.735742 -1.091646  0.343478  1.594461   \n\n     q0.975  \n0  2.719772  \n1  3.570492  \n2  4.628697  \n3  5.367396  \n4  6.259934  ",
      "text/html": "<div>\n<style scoped>\n    .dataframe tbody tr th:only-of-type {\n        vertical-align: middle;\n    }\n\n    .dataframe tbody tr th {\n        vertical-align: top;\n    }\n\n    .dataframe thead th {\n        text-align: right;\n    }\n</style>\n<table border=\"1\" class=\"dataframe\">\n  <thead>\n    <tr style=\"text-align: right;\">\n      <th></th>\n      <th>forecast_date</th>\n      <th>target</th>\n      <th>horizon</th>\n      <th>q0.025</th>\n      <th>q0.25</th>\n      <th>q0.5</th>\n      <th>q0.75</th>\n      <th>q0.975</th>\n    </tr>\n  </thead>\n  <tbody>\n    <tr>\n      <th>0</th>\n      <td>2023-11-30</td>\n      <td>DAX</td>\n      <td>1 day</td>\n      <td>-3.321265</td>\n      <td>-0.546439</td>\n      <td>0.068631</td>\n      <td>0.718274</td>\n      <td>2.719772</td>\n    </tr>\n    <tr>\n      <th>1</th>\n      <td>2023-11-30</td>\n      <td>DAX</td>\n      <td>2 day</td>\n      <td>-4.087895</td>\n      <td>-0.817404</td>\n      <td>0.080265</td>\n      <td>1.000970</td>\n      <td>3.570492</td>\n    </tr>\n    <tr>\n      <th>2</th>\n      <td>2023-11-30</td>\n      <td>DAX</td>\n      <td>5 day</td>\n      <td>-5.259161</td>\n      <td>-0.912912</td>\n      <td>0.164214</td>\n      <td>1.232426</td>\n      <td>4.628697</td>\n    </tr>\n    <tr>\n      <th>3</th>\n      <td>2023-11-30</td>\n      <td>DAX</td>\n      <td>6 day</td>\n      <td>-6.282629</td>\n      <td>-1.044070</td>\n      <td>0.203116</td>\n      <td>1.443441</td>\n      <td>5.367396</td>\n    </tr>\n    <tr>\n      <th>4</th>\n      <td>2023-11-30</td>\n      <td>DAX</td>\n      <td>7 day</td>\n      <td>-6.735742</td>\n      <td>-1.091646</td>\n      <td>0.343478</td>\n      <td>1.594461</td>\n      <td>6.259934</td>\n    </tr>\n  </tbody>\n</table>\n</div>"
     },
     "execution_count": 18,
     "metadata": {},
     "output_type": "execute_result"
    }
   ],
   "source": [
    "base"
   ],
   "metadata": {
    "collapsed": false,
    "ExecuteTime": {
     "end_time": "2023-11-30T15:00:37.263946Z",
     "start_time": "2023-11-30T15:00:37.240316Z"
    }
   },
   "id": "a8cb24f5fba12ced"
  },
  {
   "cell_type": "code",
   "execution_count": 5,
   "outputs": [],
   "source": [
    "quantile = DAX_quantile_regression.DAX_quantile_regression(daxdata)"
   ],
   "metadata": {
    "collapsed": false,
    "ExecuteTime": {
     "end_time": "2023-11-29T17:15:57.958244Z",
     "start_time": "2023-11-29T17:15:53.576529Z"
    }
   },
   "id": "f850f96936fc0107"
  },
  {
   "cell_type": "code",
   "execution_count": 6,
   "outputs": [],
   "source": [
    "df_dax=naive_ensemble.ensemble(base,quantile,0.5,0.5)"
   ],
   "metadata": {
    "collapsed": false,
    "ExecuteTime": {
     "end_time": "2023-11-29T17:15:57.988499Z",
     "start_time": "2023-11-29T17:15:57.963617Z"
    }
   },
   "id": "f65a5a521ad3258e"
  },
  {
   "cell_type": "code",
   "execution_count": 7,
   "outputs": [
    {
     "name": "stderr",
     "output_type": "stream",
     "text": [
      "  0%|          | 0/258 [00:00<?, ?it/s]/Users/stephantimpe/PycharmProjects/probabilistic-forecasting-challenge/functions/get_energy.py:28: FutureWarning: The behavior of DataFrame concatenation with empty or all-NA entries is deprecated. In a future version, this will no longer exclude empty or all-NA columns when determining the result dtypes. To retain the old behavior, exclude the relevant entries before the concat operation.\n",
      "  energydata = pd.concat([energydata, pd.DataFrame(rawdata, columns=col_names)])\n",
      "100%|██████████| 258/258 [00:33<00:00,  7.71it/s]\n"
     ]
    }
   ],
   "source": [
    "energydata= get_energy.get()"
   ],
   "metadata": {
    "collapsed": false,
    "ExecuteTime": {
     "end_time": "2023-11-29T17:16:31.637718Z",
     "start_time": "2023-11-29T17:15:57.986479Z"
    }
   },
   "id": "6825a919679471df"
  },
  {
   "cell_type": "code",
   "execution_count": 8,
   "outputs": [
    {
     "name": "stdout",
     "output_type": "stream",
     "text": [
      "                         QuantReg Regression Results                          \n",
      "==============================================================================\n",
      "Dep. Variable:                 gesamt   Pseudo R-squared:               0.5070\n",
      "Model:                       QuantReg   Bandwidth:                      0.6979\n",
      "Method:                 Least Squares   Sparsity:                        11.98\n",
      "Date:                Wed, 29 Nov 2023   No. Observations:                43242\n",
      "Time:                        18:17:11   Df Residuals:                    43206\n",
      "                                        Df Model:                           35\n",
      "==============================================================================\n",
      "                 coef    std err          t      P>|t|      [0.025      0.975]\n",
      "------------------------------------------------------------------------------\n",
      "const         58.7875      0.175    336.028      0.000      58.445      59.130\n",
      "weekday       -1.8470      0.014   -128.271      0.000      -1.875      -1.819\n",
      "month_2        0.4379      0.142      3.078      0.002       0.159       0.717\n",
      "month_3       -3.2381      0.139    -23.318      0.000      -3.510      -2.966\n",
      "month_4       -7.4130      0.140    -52.943      0.000      -7.687      -7.139\n",
      "month_5       -8.9146      0.139    -64.196      0.000      -9.187      -8.642\n",
      "month_6       -9.1379      0.140    -65.262      0.000      -9.412      -8.863\n",
      "month_7       -8.8150      0.139    -63.479      0.000      -9.087      -8.543\n",
      "month_8       -9.9981      0.139    -71.997      0.000     -10.270      -9.726\n",
      "month_9       -8.1096      0.140    -57.918      0.000      -8.384      -7.835\n",
      "month_10      -5.7466      0.139    -41.382      0.000      -6.019      -5.474\n",
      "month_11      -2.7356      0.140    -19.495      0.000      -3.011      -2.461\n",
      "month_12      -3.3717      0.145    -23.287      0.000      -3.656      -3.088\n",
      "hour_1        -1.7661      0.200     -8.851      0.000      -2.157      -1.375\n",
      "hour_2        -2.7008      0.200    -13.536      0.000      -3.092      -2.310\n",
      "hour_3        -2.6847      0.200    -13.456      0.000      -3.076      -2.294\n",
      "hour_4        -1.8936      0.200     -9.491      0.000      -2.285      -1.503\n",
      "hour_5        -0.0034      0.200     -0.017      0.987      -0.394       0.388\n",
      "hour_6         5.0437      0.200     25.279      0.000       4.653       5.435\n",
      "hour_7        10.1506      0.200     50.875      0.000       9.760      10.542\n",
      "hour_8        13.1037      0.200     65.676      0.000      12.713      13.495\n",
      "hour_9        14.1294      0.200     70.816      0.000      13.738      14.520\n",
      "hour_10       15.1313      0.200     75.838      0.000      14.740      15.522\n",
      "hour_11       16.0746      0.200     80.566      0.000      15.683      16.466\n",
      "hour_12       15.6856      0.200     78.616      0.000      15.295      16.077\n",
      "hour_13       14.5055      0.200     72.702      0.000      14.114      14.897\n",
      "hour_14       13.2189      0.200     66.253      0.000      12.828      13.610\n",
      "hour_15       12.3495      0.200     61.895      0.000      11.958      12.741\n",
      "hour_16       11.6467      0.200     58.373      0.000      11.256      12.038\n",
      "hour_17       12.6200      0.200     63.252      0.000      12.229      13.011\n",
      "hour_18       13.2421      0.200     66.360      0.000      12.851      13.633\n",
      "hour_19       12.6656      0.200     63.471      0.000      12.274      13.057\n",
      "hour_20       10.2616      0.200     51.424      0.000       9.870      10.653\n",
      "hour_21        7.9465      0.200     39.822      0.000       7.555       8.338\n",
      "hour_22        5.5323      0.200     27.724      0.000       5.141       5.923\n",
      "hour_23        2.1302      0.200     10.675      0.000       1.739       2.521\n",
      "==============================================================================\n"
     ]
    },
    {
     "name": "stderr",
     "output_type": "stream",
     "text": [
      "/Users/stephantimpe/anaconda3/envs/Forecasting_Challenge_2/lib/python3.9/site-packages/statsmodels/regression/quantile_regression.py:191: IterationLimitWarning: Maximum number of iterations (1000) reached.\n",
      "  warnings.warn(\"Maximum number of iterations (\" + str(max_iter) +\n"
     ]
    }
   ],
   "source": [
    "df_energy= energy_quantile_regression.energy_quantile_regression(energydata)"
   ],
   "metadata": {
    "collapsed": false,
    "ExecuteTime": {
     "end_time": "2023-11-29T17:17:11.251243Z",
     "start_time": "2023-11-29T17:16:31.639038Z"
    }
   },
   "id": "d1d2a9506ee6ab6c"
  },
  {
   "cell_type": "code",
   "execution_count": 20,
   "outputs": [
    {
     "data": {
      "text/plain": "  forecast_date  target  horizon     q0.025      q0.25       q0.5      q0.75  \\\n0    2023-11-29  energy  36 hour  39.598251  47.270818  51.399704   54.56094   \n1    2023-11-29  energy  40 hour   50.56704  59.961533  64.019735  68.926358   \n2    2023-11-29  energy  44 hour  48.834292  56.250523  59.346171  62.739859   \n3    2023-11-29  energy  60 hour  38.611751  45.395177  49.552746  53.132607   \n4    2023-11-29  energy  64 hour   49.58054  58.085891  62.172777  67.498025   \n5    2023-11-29  energy  68 hour  47.847792  54.374882  57.499213  61.311526   \n\n      q0.975  \n0   57.74445  \n1  74.359249  \n2  66.775318  \n3  56.992767  \n4  73.607566  \n5  66.023635  ",
      "text/html": "<div>\n<style scoped>\n    .dataframe tbody tr th:only-of-type {\n        vertical-align: middle;\n    }\n\n    .dataframe tbody tr th {\n        vertical-align: top;\n    }\n\n    .dataframe thead th {\n        text-align: right;\n    }\n</style>\n<table border=\"1\" class=\"dataframe\">\n  <thead>\n    <tr style=\"text-align: right;\">\n      <th></th>\n      <th>forecast_date</th>\n      <th>target</th>\n      <th>horizon</th>\n      <th>q0.025</th>\n      <th>q0.25</th>\n      <th>q0.5</th>\n      <th>q0.75</th>\n      <th>q0.975</th>\n    </tr>\n  </thead>\n  <tbody>\n    <tr>\n      <th>0</th>\n      <td>2023-11-29</td>\n      <td>energy</td>\n      <td>36 hour</td>\n      <td>39.598251</td>\n      <td>47.270818</td>\n      <td>51.399704</td>\n      <td>54.56094</td>\n      <td>57.74445</td>\n    </tr>\n    <tr>\n      <th>1</th>\n      <td>2023-11-29</td>\n      <td>energy</td>\n      <td>40 hour</td>\n      <td>50.56704</td>\n      <td>59.961533</td>\n      <td>64.019735</td>\n      <td>68.926358</td>\n      <td>74.359249</td>\n    </tr>\n    <tr>\n      <th>2</th>\n      <td>2023-11-29</td>\n      <td>energy</td>\n      <td>44 hour</td>\n      <td>48.834292</td>\n      <td>56.250523</td>\n      <td>59.346171</td>\n      <td>62.739859</td>\n      <td>66.775318</td>\n    </tr>\n    <tr>\n      <th>3</th>\n      <td>2023-11-29</td>\n      <td>energy</td>\n      <td>60 hour</td>\n      <td>38.611751</td>\n      <td>45.395177</td>\n      <td>49.552746</td>\n      <td>53.132607</td>\n      <td>56.992767</td>\n    </tr>\n    <tr>\n      <th>4</th>\n      <td>2023-11-29</td>\n      <td>energy</td>\n      <td>64 hour</td>\n      <td>49.58054</td>\n      <td>58.085891</td>\n      <td>62.172777</td>\n      <td>67.498025</td>\n      <td>73.607566</td>\n    </tr>\n    <tr>\n      <th>5</th>\n      <td>2023-11-29</td>\n      <td>energy</td>\n      <td>68 hour</td>\n      <td>47.847792</td>\n      <td>54.374882</td>\n      <td>57.499213</td>\n      <td>61.311526</td>\n      <td>66.023635</td>\n    </tr>\n  </tbody>\n</table>\n</div>"
     },
     "execution_count": 20,
     "metadata": {},
     "output_type": "execute_result"
    }
   ],
   "source": [
    "df_energy"
   ],
   "metadata": {
    "collapsed": false,
    "ExecuteTime": {
     "end_time": "2023-11-30T18:03:49.486702Z",
     "start_time": "2023-11-30T18:03:49.476656Z"
    }
   },
   "id": "ca504288bd09666b"
  },
  {
   "cell_type": "code",
   "execution_count": 9,
   "outputs": [
    {
     "name": "stdout",
     "output_type": "stream",
     "text": [
      "  forecast_date      target  horizon     q0.025      q0.25       q0.5  \\\n",
      "0    2023-11-29         DAX    1 day  -2.865982  -0.544096   0.065096   \n",
      "1    2023-11-29         DAX    2 day  -3.221294  -0.620475   0.194377   \n",
      "2    2023-11-29         DAX    5 day  -4.278427   -1.10553  -0.166646   \n",
      "3    2023-11-29         DAX    6 day  -4.641268  -1.013727   0.023049   \n",
      "4    2023-11-29         DAX    7 day  -4.554499  -0.862567   0.270835   \n",
      "0    2023-11-29      energy  36 hour  39.598251  47.270818  51.399704   \n",
      "1    2023-11-29      energy  40 hour   50.56704  59.961533  64.019735   \n",
      "2    2023-11-29      energy  44 hour  48.834292  56.250523  59.346171   \n",
      "3    2023-11-29      energy  60 hour  38.611751  45.395177  49.552746   \n",
      "4    2023-11-29      energy  64 hour   49.58054  58.085891  62.172777   \n",
      "5    2023-11-29      energy  68 hour  47.847792  54.374882  57.499213   \n",
      "0    2023-11-29  infections   0 week         NA         NA         NA   \n",
      "1    2023-11-29  infections   1 week         NA         NA         NA   \n",
      "2    2023-11-29  infections   2 week         NA         NA         NA   \n",
      "3    2023-11-29  infections   3 week         NA         NA         NA   \n",
      "4    2023-11-29  infections   4 week         NA         NA         NA   \n",
      "\n",
      "       q0.75     q0.975  \n",
      "0   0.661908   2.285005  \n",
      "1   0.927612   3.011737  \n",
      "2   0.666108   3.074037  \n",
      "3   0.958306    3.67985  \n",
      "4   1.202355   4.363297  \n",
      "0   54.56094   57.74445  \n",
      "1  68.926358  74.359249  \n",
      "2  62.739859  66.775318  \n",
      "3  53.132607  56.992767  \n",
      "4  67.498025  73.607566  \n",
      "5  61.311526  66.023635  \n",
      "0         NA         NA  \n",
      "1         NA         NA  \n",
      "2         NA         NA  \n",
      "3         NA         NA  \n",
      "4         NA         NA  \n"
     ]
    }
   ],
   "source": [
    "df = merge_submissions.merge(df_energy,df_dax)"
   ],
   "metadata": {
    "collapsed": false,
    "ExecuteTime": {
     "end_time": "2023-11-29T17:17:11.318767Z",
     "start_time": "2023-11-29T17:17:11.248927Z"
    }
   },
   "id": "6997de28c0fe949"
  },
  {
   "cell_type": "code",
   "execution_count": 10,
   "outputs": [
    {
     "ename": "OSError",
     "evalue": "Cannot save file into a non-existent directory: '../forecasts'",
     "output_type": "error",
     "traceback": [
      "\u001B[0;31m---------------------------------------------------------------------------\u001B[0m",
      "\u001B[0;31mOSError\u001B[0m                                   Traceback (most recent call last)",
      "Cell \u001B[0;32mIn[10], line 1\u001B[0m\n\u001B[0;32m----> 1\u001B[0m \u001B[43mdf\u001B[49m\u001B[38;5;241;43m.\u001B[39;49m\u001B[43mto_csv\u001B[49m\u001B[43m(\u001B[49m\u001B[38;5;124;43m'\u001B[39;49m\u001B[38;5;124;43m../forecasts/20231129_JonSnow.csv\u001B[39;49m\u001B[38;5;124;43m'\u001B[39;49m\u001B[43m,\u001B[49m\u001B[43mindex\u001B[49m\u001B[38;5;241;43m=\u001B[39;49m\u001B[38;5;28;43;01mFalse\u001B[39;49;00m\u001B[43m)\u001B[49m\n",
      "File \u001B[0;32m~/anaconda3/envs/Forecasting_Challenge_2/lib/python3.9/site-packages/pandas/core/generic.py:3902\u001B[0m, in \u001B[0;36mNDFrame.to_csv\u001B[0;34m(self, path_or_buf, sep, na_rep, float_format, columns, header, index, index_label, mode, encoding, compression, quoting, quotechar, lineterminator, chunksize, date_format, doublequote, escapechar, decimal, errors, storage_options)\u001B[0m\n\u001B[1;32m   3891\u001B[0m df \u001B[38;5;241m=\u001B[39m \u001B[38;5;28mself\u001B[39m \u001B[38;5;28;01mif\u001B[39;00m \u001B[38;5;28misinstance\u001B[39m(\u001B[38;5;28mself\u001B[39m, ABCDataFrame) \u001B[38;5;28;01melse\u001B[39;00m \u001B[38;5;28mself\u001B[39m\u001B[38;5;241m.\u001B[39mto_frame()\n\u001B[1;32m   3893\u001B[0m formatter \u001B[38;5;241m=\u001B[39m DataFrameFormatter(\n\u001B[1;32m   3894\u001B[0m     frame\u001B[38;5;241m=\u001B[39mdf,\n\u001B[1;32m   3895\u001B[0m     header\u001B[38;5;241m=\u001B[39mheader,\n\u001B[0;32m   (...)\u001B[0m\n\u001B[1;32m   3899\u001B[0m     decimal\u001B[38;5;241m=\u001B[39mdecimal,\n\u001B[1;32m   3900\u001B[0m )\n\u001B[0;32m-> 3902\u001B[0m \u001B[38;5;28;01mreturn\u001B[39;00m \u001B[43mDataFrameRenderer\u001B[49m\u001B[43m(\u001B[49m\u001B[43mformatter\u001B[49m\u001B[43m)\u001B[49m\u001B[38;5;241;43m.\u001B[39;49m\u001B[43mto_csv\u001B[49m\u001B[43m(\u001B[49m\n\u001B[1;32m   3903\u001B[0m \u001B[43m    \u001B[49m\u001B[43mpath_or_buf\u001B[49m\u001B[43m,\u001B[49m\n\u001B[1;32m   3904\u001B[0m \u001B[43m    \u001B[49m\u001B[43mlineterminator\u001B[49m\u001B[38;5;241;43m=\u001B[39;49m\u001B[43mlineterminator\u001B[49m\u001B[43m,\u001B[49m\n\u001B[1;32m   3905\u001B[0m \u001B[43m    \u001B[49m\u001B[43msep\u001B[49m\u001B[38;5;241;43m=\u001B[39;49m\u001B[43msep\u001B[49m\u001B[43m,\u001B[49m\n\u001B[1;32m   3906\u001B[0m \u001B[43m    \u001B[49m\u001B[43mencoding\u001B[49m\u001B[38;5;241;43m=\u001B[39;49m\u001B[43mencoding\u001B[49m\u001B[43m,\u001B[49m\n\u001B[1;32m   3907\u001B[0m \u001B[43m    \u001B[49m\u001B[43merrors\u001B[49m\u001B[38;5;241;43m=\u001B[39;49m\u001B[43merrors\u001B[49m\u001B[43m,\u001B[49m\n\u001B[1;32m   3908\u001B[0m \u001B[43m    \u001B[49m\u001B[43mcompression\u001B[49m\u001B[38;5;241;43m=\u001B[39;49m\u001B[43mcompression\u001B[49m\u001B[43m,\u001B[49m\n\u001B[1;32m   3909\u001B[0m \u001B[43m    \u001B[49m\u001B[43mquoting\u001B[49m\u001B[38;5;241;43m=\u001B[39;49m\u001B[43mquoting\u001B[49m\u001B[43m,\u001B[49m\n\u001B[1;32m   3910\u001B[0m \u001B[43m    \u001B[49m\u001B[43mcolumns\u001B[49m\u001B[38;5;241;43m=\u001B[39;49m\u001B[43mcolumns\u001B[49m\u001B[43m,\u001B[49m\n\u001B[1;32m   3911\u001B[0m \u001B[43m    \u001B[49m\u001B[43mindex_label\u001B[49m\u001B[38;5;241;43m=\u001B[39;49m\u001B[43mindex_label\u001B[49m\u001B[43m,\u001B[49m\n\u001B[1;32m   3912\u001B[0m \u001B[43m    \u001B[49m\u001B[43mmode\u001B[49m\u001B[38;5;241;43m=\u001B[39;49m\u001B[43mmode\u001B[49m\u001B[43m,\u001B[49m\n\u001B[1;32m   3913\u001B[0m \u001B[43m    \u001B[49m\u001B[43mchunksize\u001B[49m\u001B[38;5;241;43m=\u001B[39;49m\u001B[43mchunksize\u001B[49m\u001B[43m,\u001B[49m\n\u001B[1;32m   3914\u001B[0m \u001B[43m    \u001B[49m\u001B[43mquotechar\u001B[49m\u001B[38;5;241;43m=\u001B[39;49m\u001B[43mquotechar\u001B[49m\u001B[43m,\u001B[49m\n\u001B[1;32m   3915\u001B[0m \u001B[43m    \u001B[49m\u001B[43mdate_format\u001B[49m\u001B[38;5;241;43m=\u001B[39;49m\u001B[43mdate_format\u001B[49m\u001B[43m,\u001B[49m\n\u001B[1;32m   3916\u001B[0m \u001B[43m    \u001B[49m\u001B[43mdoublequote\u001B[49m\u001B[38;5;241;43m=\u001B[39;49m\u001B[43mdoublequote\u001B[49m\u001B[43m,\u001B[49m\n\u001B[1;32m   3917\u001B[0m \u001B[43m    \u001B[49m\u001B[43mescapechar\u001B[49m\u001B[38;5;241;43m=\u001B[39;49m\u001B[43mescapechar\u001B[49m\u001B[43m,\u001B[49m\n\u001B[1;32m   3918\u001B[0m \u001B[43m    \u001B[49m\u001B[43mstorage_options\u001B[49m\u001B[38;5;241;43m=\u001B[39;49m\u001B[43mstorage_options\u001B[49m\u001B[43m,\u001B[49m\n\u001B[1;32m   3919\u001B[0m \u001B[43m\u001B[49m\u001B[43m)\u001B[49m\n",
      "File \u001B[0;32m~/anaconda3/envs/Forecasting_Challenge_2/lib/python3.9/site-packages/pandas/io/formats/format.py:1152\u001B[0m, in \u001B[0;36mDataFrameRenderer.to_csv\u001B[0;34m(self, path_or_buf, encoding, sep, columns, index_label, mode, compression, quoting, quotechar, lineterminator, chunksize, date_format, doublequote, escapechar, errors, storage_options)\u001B[0m\n\u001B[1;32m   1131\u001B[0m     created_buffer \u001B[38;5;241m=\u001B[39m \u001B[38;5;28;01mFalse\u001B[39;00m\n\u001B[1;32m   1133\u001B[0m csv_formatter \u001B[38;5;241m=\u001B[39m CSVFormatter(\n\u001B[1;32m   1134\u001B[0m     path_or_buf\u001B[38;5;241m=\u001B[39mpath_or_buf,\n\u001B[1;32m   1135\u001B[0m     lineterminator\u001B[38;5;241m=\u001B[39mlineterminator,\n\u001B[0;32m   (...)\u001B[0m\n\u001B[1;32m   1150\u001B[0m     formatter\u001B[38;5;241m=\u001B[39m\u001B[38;5;28mself\u001B[39m\u001B[38;5;241m.\u001B[39mfmt,\n\u001B[1;32m   1151\u001B[0m )\n\u001B[0;32m-> 1152\u001B[0m \u001B[43mcsv_formatter\u001B[49m\u001B[38;5;241;43m.\u001B[39;49m\u001B[43msave\u001B[49m\u001B[43m(\u001B[49m\u001B[43m)\u001B[49m\n\u001B[1;32m   1154\u001B[0m \u001B[38;5;28;01mif\u001B[39;00m created_buffer:\n\u001B[1;32m   1155\u001B[0m     \u001B[38;5;28;01massert\u001B[39;00m \u001B[38;5;28misinstance\u001B[39m(path_or_buf, StringIO)\n",
      "File \u001B[0;32m~/anaconda3/envs/Forecasting_Challenge_2/lib/python3.9/site-packages/pandas/io/formats/csvs.py:247\u001B[0m, in \u001B[0;36mCSVFormatter.save\u001B[0;34m(self)\u001B[0m\n\u001B[1;32m    243\u001B[0m \u001B[38;5;250m\u001B[39m\u001B[38;5;124;03m\"\"\"\u001B[39;00m\n\u001B[1;32m    244\u001B[0m \u001B[38;5;124;03mCreate the writer & save.\u001B[39;00m\n\u001B[1;32m    245\u001B[0m \u001B[38;5;124;03m\"\"\"\u001B[39;00m\n\u001B[1;32m    246\u001B[0m \u001B[38;5;66;03m# apply compression and byte/text conversion\u001B[39;00m\n\u001B[0;32m--> 247\u001B[0m \u001B[38;5;28;01mwith\u001B[39;00m \u001B[43mget_handle\u001B[49m\u001B[43m(\u001B[49m\n\u001B[1;32m    248\u001B[0m \u001B[43m    \u001B[49m\u001B[38;5;28;43mself\u001B[39;49m\u001B[38;5;241;43m.\u001B[39;49m\u001B[43mfilepath_or_buffer\u001B[49m\u001B[43m,\u001B[49m\n\u001B[1;32m    249\u001B[0m \u001B[43m    \u001B[49m\u001B[38;5;28;43mself\u001B[39;49m\u001B[38;5;241;43m.\u001B[39;49m\u001B[43mmode\u001B[49m\u001B[43m,\u001B[49m\n\u001B[1;32m    250\u001B[0m \u001B[43m    \u001B[49m\u001B[43mencoding\u001B[49m\u001B[38;5;241;43m=\u001B[39;49m\u001B[38;5;28;43mself\u001B[39;49m\u001B[38;5;241;43m.\u001B[39;49m\u001B[43mencoding\u001B[49m\u001B[43m,\u001B[49m\n\u001B[1;32m    251\u001B[0m \u001B[43m    \u001B[49m\u001B[43merrors\u001B[49m\u001B[38;5;241;43m=\u001B[39;49m\u001B[38;5;28;43mself\u001B[39;49m\u001B[38;5;241;43m.\u001B[39;49m\u001B[43merrors\u001B[49m\u001B[43m,\u001B[49m\n\u001B[1;32m    252\u001B[0m \u001B[43m    \u001B[49m\u001B[43mcompression\u001B[49m\u001B[38;5;241;43m=\u001B[39;49m\u001B[38;5;28;43mself\u001B[39;49m\u001B[38;5;241;43m.\u001B[39;49m\u001B[43mcompression\u001B[49m\u001B[43m,\u001B[49m\n\u001B[1;32m    253\u001B[0m \u001B[43m    \u001B[49m\u001B[43mstorage_options\u001B[49m\u001B[38;5;241;43m=\u001B[39;49m\u001B[38;5;28;43mself\u001B[39;49m\u001B[38;5;241;43m.\u001B[39;49m\u001B[43mstorage_options\u001B[49m\u001B[43m,\u001B[49m\n\u001B[1;32m    254\u001B[0m \u001B[43m\u001B[49m\u001B[43m)\u001B[49m \u001B[38;5;28;01mas\u001B[39;00m handles:\n\u001B[1;32m    255\u001B[0m     \u001B[38;5;66;03m# Note: self.encoding is irrelevant here\u001B[39;00m\n\u001B[1;32m    256\u001B[0m     \u001B[38;5;28mself\u001B[39m\u001B[38;5;241m.\u001B[39mwriter \u001B[38;5;241m=\u001B[39m csvlib\u001B[38;5;241m.\u001B[39mwriter(\n\u001B[1;32m    257\u001B[0m         handles\u001B[38;5;241m.\u001B[39mhandle,\n\u001B[1;32m    258\u001B[0m         lineterminator\u001B[38;5;241m=\u001B[39m\u001B[38;5;28mself\u001B[39m\u001B[38;5;241m.\u001B[39mlineterminator,\n\u001B[0;32m   (...)\u001B[0m\n\u001B[1;32m    263\u001B[0m         quotechar\u001B[38;5;241m=\u001B[39m\u001B[38;5;28mself\u001B[39m\u001B[38;5;241m.\u001B[39mquotechar,\n\u001B[1;32m    264\u001B[0m     )\n\u001B[1;32m    266\u001B[0m     \u001B[38;5;28mself\u001B[39m\u001B[38;5;241m.\u001B[39m_save()\n",
      "File \u001B[0;32m~/anaconda3/envs/Forecasting_Challenge_2/lib/python3.9/site-packages/pandas/io/common.py:739\u001B[0m, in \u001B[0;36mget_handle\u001B[0;34m(path_or_buf, mode, encoding, compression, memory_map, is_text, errors, storage_options)\u001B[0m\n\u001B[1;32m    737\u001B[0m \u001B[38;5;66;03m# Only for write methods\u001B[39;00m\n\u001B[1;32m    738\u001B[0m \u001B[38;5;28;01mif\u001B[39;00m \u001B[38;5;124m\"\u001B[39m\u001B[38;5;124mr\u001B[39m\u001B[38;5;124m\"\u001B[39m \u001B[38;5;129;01mnot\u001B[39;00m \u001B[38;5;129;01min\u001B[39;00m mode \u001B[38;5;129;01mand\u001B[39;00m is_path:\n\u001B[0;32m--> 739\u001B[0m     \u001B[43mcheck_parent_directory\u001B[49m\u001B[43m(\u001B[49m\u001B[38;5;28;43mstr\u001B[39;49m\u001B[43m(\u001B[49m\u001B[43mhandle\u001B[49m\u001B[43m)\u001B[49m\u001B[43m)\u001B[49m\n\u001B[1;32m    741\u001B[0m \u001B[38;5;28;01mif\u001B[39;00m compression:\n\u001B[1;32m    742\u001B[0m     \u001B[38;5;28;01mif\u001B[39;00m compression \u001B[38;5;241m!=\u001B[39m \u001B[38;5;124m\"\u001B[39m\u001B[38;5;124mzstd\u001B[39m\u001B[38;5;124m\"\u001B[39m:\n\u001B[1;32m    743\u001B[0m         \u001B[38;5;66;03m# compression libraries do not like an explicit text-mode\u001B[39;00m\n",
      "File \u001B[0;32m~/anaconda3/envs/Forecasting_Challenge_2/lib/python3.9/site-packages/pandas/io/common.py:604\u001B[0m, in \u001B[0;36mcheck_parent_directory\u001B[0;34m(path)\u001B[0m\n\u001B[1;32m    602\u001B[0m parent \u001B[38;5;241m=\u001B[39m Path(path)\u001B[38;5;241m.\u001B[39mparent\n\u001B[1;32m    603\u001B[0m \u001B[38;5;28;01mif\u001B[39;00m \u001B[38;5;129;01mnot\u001B[39;00m parent\u001B[38;5;241m.\u001B[39mis_dir():\n\u001B[0;32m--> 604\u001B[0m     \u001B[38;5;28;01mraise\u001B[39;00m \u001B[38;5;167;01mOSError\u001B[39;00m(\u001B[38;5;124mrf\u001B[39m\u001B[38;5;124m\"\u001B[39m\u001B[38;5;124mCannot save file into a non-existent directory: \u001B[39m\u001B[38;5;124m'\u001B[39m\u001B[38;5;132;01m{\u001B[39;00mparent\u001B[38;5;132;01m}\u001B[39;00m\u001B[38;5;124m'\u001B[39m\u001B[38;5;124m\"\u001B[39m)\n",
      "\u001B[0;31mOSError\u001B[0m: Cannot save file into a non-existent directory: '../forecasts'"
     ]
    }
   ],
   "source": [
    "df.to_csv('../forecasts/20231129_JonSnow.csv',index=False)"
   ],
   "metadata": {
    "collapsed": false,
    "ExecuteTime": {
     "end_time": "2023-11-29T17:17:12.984574Z",
     "start_time": "2023-11-29T17:17:11.265653Z"
    }
   },
   "id": "efed0bf38425c25b"
  },
  {
   "cell_type": "code",
   "execution_count": null,
   "outputs": [],
   "source": [
    "from functions import check_submission"
   ],
   "metadata": {
    "collapsed": false,
    "ExecuteTime": {
     "end_time": "2023-11-29T17:17:12.989298Z",
     "start_time": "2023-11-29T17:17:12.985563Z"
    }
   },
   "id": "29d91c70e536ea77"
  },
  {
   "cell_type": "code",
   "execution_count": 13,
   "outputs": [
    {
     "name": "stdout",
     "output_type": "stream",
     "text": [
      "Start checking...\n",
      "---------------------------\n",
      "Checking the Columns...\n",
      "Checking type of columns...\n",
      "----WARNING: Some elements in q0.025 column are not numeric. This may be fine if you only submit 2 out of 3 targets.\n",
      "\n",
      "----WARNING: Some elements in q0.25 column are not numeric. This may be fine if you only submit 2 out of 3 targets.\n",
      "\n",
      "----WARNING: Some elements in q0.5 column are not numeric. This may be fine if you only submit 2 out of 3 targets.\n",
      "\n",
      "----WARNING: Some elements in q0.75 column are not numeric. This may be fine if you only submit 2 out of 3 targets.\n",
      "\n",
      "----WARNING: Some elements in q0.975 column are not numeric. This may be fine if you only submit 2 out of 3 targets.\n",
      "\n",
      "Checking if the Dates make sense...\n"
     ]
    },
    {
     "ename": "AttributeError",
     "evalue": "'Series' object has no attribute 'date'",
     "output_type": "error",
     "traceback": [
      "\u001B[0;31m---------------------------------------------------------------------------\u001B[0m",
      "\u001B[0;31mAttributeError\u001B[0m                            Traceback (most recent call last)",
      "\u001B[0;32m/var/folders/y3/h1kjcg6j0wj3crmk4m1ff0380000gn/T/ipykernel_10385/1886596139.py\u001B[0m in \u001B[0;36m?\u001B[0;34m()\u001B[0m\n\u001B[0;32m--> 177\u001B[0;31m \u001B[0;32mimport\u001B[0m \u001B[0msys\u001B[0m\u001B[0;34m\u001B[0m\u001B[0;34m\u001B[0m\u001B[0m\n\u001B[0m\u001B[1;32m    178\u001B[0m \u001B[0;32mimport\u001B[0m \u001B[0mpandas\u001B[0m \u001B[0;32mas\u001B[0m \u001B[0mpd\u001B[0m\u001B[0;34m\u001B[0m\u001B[0;34m\u001B[0m\u001B[0m\n\u001B[1;32m    179\u001B[0m \u001B[0;32mimport\u001B[0m \u001B[0mnumpy\u001B[0m \u001B[0;32mas\u001B[0m \u001B[0mnp\u001B[0m\u001B[0;34m\u001B[0m\u001B[0;34m\u001B[0m\u001B[0m\n\u001B[1;32m    180\u001B[0m \u001B[0;32mimport\u001B[0m \u001B[0mwarnings\u001B[0m\u001B[0;34m\u001B[0m\u001B[0;34m\u001B[0m\u001B[0m\n",
      "\u001B[0;32m/var/folders/y3/h1kjcg6j0wj3crmk4m1ff0380000gn/T/ipykernel_10385/1886596139.py\u001B[0m in \u001B[0;36m?\u001B[0;34m(df)\u001B[0m\n\u001B[1;32m     95\u001B[0m         \u001B[0mprint\u001B[0m\u001B[0;34m(\u001B[0m\u001B[0;34m\"forecast_date needs to be the same in all rows.\"\u001B[0m\u001B[0;34m)\u001B[0m\u001B[0;34m\u001B[0m\u001B[0;34m\u001B[0m\u001B[0m\n\u001B[1;32m     96\u001B[0m         \u001B[0mprint\u001B[0m\u001B[0;34m(\u001B[0m\u001B[0;34m\"Stopping early...\"\u001B[0m\u001B[0;34m)\u001B[0m\u001B[0;34m\u001B[0m\u001B[0;34m\u001B[0m\u001B[0m\n\u001B[1;32m     97\u001B[0m         \u001B[0msys\u001B[0m\u001B[0;34m.\u001B[0m\u001B[0mexit\u001B[0m\u001B[0;34m(\u001B[0m\u001B[0;34m)\u001B[0m\u001B[0;34m\u001B[0m\u001B[0;34m\u001B[0m\u001B[0m\n\u001B[1;32m     98\u001B[0m \u001B[0;34m\u001B[0m\u001B[0m\n\u001B[0;32m---> 99\u001B[0;31m     \u001B[0;32mif\u001B[0m \u001B[0mdf\u001B[0m\u001B[0;34m[\u001B[0m\u001B[0;34m\"forecast_date\"\u001B[0m\u001B[0;34m]\u001B[0m\u001B[0;34m[\u001B[0m\u001B[0;36m0\u001B[0m\u001B[0;34m]\u001B[0m\u001B[0;34m.\u001B[0m\u001B[0mdate\u001B[0m\u001B[0;34m(\u001B[0m\u001B[0;34m)\u001B[0m \u001B[0;34m<\u001B[0m \u001B[0mdatetime\u001B[0m\u001B[0;34m.\u001B[0m\u001B[0mtoday\u001B[0m\u001B[0;34m(\u001B[0m\u001B[0;34m)\u001B[0m\u001B[0;34m.\u001B[0m\u001B[0mdate\u001B[0m\u001B[0;34m(\u001B[0m\u001B[0;34m)\u001B[0m\u001B[0;34m:\u001B[0m\u001B[0;34m\u001B[0m\u001B[0;34m\u001B[0m\u001B[0m\n\u001B[0m\u001B[1;32m    100\u001B[0m         \u001B[0mprint\u001B[0m\u001B[0;34m(\u001B[0m\u001B[0;34m\"----WARNING: Forecast date should not be in the past.\"\u001B[0m\u001B[0;34m)\u001B[0m\u001B[0;34m\u001B[0m\u001B[0;34m\u001B[0m\u001B[0m\n\u001B[1;32m    101\u001B[0m         \u001B[0mprint\u001B[0m\u001B[0;34m(\u001B[0m\u001B[0;34m\"\"\u001B[0m\u001B[0;34m)\u001B[0m\u001B[0;34m\u001B[0m\u001B[0;34m\u001B[0m\u001B[0m\n\u001B[1;32m    102\u001B[0m         \u001B[0;31m# warnings.warn(\"Forecast date should not be in the past.\")\u001B[0m\u001B[0;34m\u001B[0m\u001B[0;34m\u001B[0m\u001B[0m\n",
      "\u001B[0;32m~/anaconda3/envs/Forecasting_Challenge_2/lib/python3.9/site-packages/pandas/core/generic.py\u001B[0m in \u001B[0;36m?\u001B[0;34m(self, name)\u001B[0m\n\u001B[1;32m   6200\u001B[0m             \u001B[0;32mand\u001B[0m \u001B[0mname\u001B[0m \u001B[0;32mnot\u001B[0m \u001B[0;32min\u001B[0m \u001B[0mself\u001B[0m\u001B[0;34m.\u001B[0m\u001B[0m_accessors\u001B[0m\u001B[0;34m\u001B[0m\u001B[0;34m\u001B[0m\u001B[0m\n\u001B[1;32m   6201\u001B[0m             \u001B[0;32mand\u001B[0m \u001B[0mself\u001B[0m\u001B[0;34m.\u001B[0m\u001B[0m_info_axis\u001B[0m\u001B[0;34m.\u001B[0m\u001B[0m_can_hold_identifiers_and_holds_name\u001B[0m\u001B[0;34m(\u001B[0m\u001B[0mname\u001B[0m\u001B[0;34m)\u001B[0m\u001B[0;34m\u001B[0m\u001B[0;34m\u001B[0m\u001B[0m\n\u001B[1;32m   6202\u001B[0m         ):\n\u001B[1;32m   6203\u001B[0m             \u001B[0;32mreturn\u001B[0m \u001B[0mself\u001B[0m\u001B[0;34m[\u001B[0m\u001B[0mname\u001B[0m\u001B[0;34m]\u001B[0m\u001B[0;34m\u001B[0m\u001B[0;34m\u001B[0m\u001B[0m\n\u001B[0;32m-> 6204\u001B[0;31m         \u001B[0;32mreturn\u001B[0m \u001B[0mobject\u001B[0m\u001B[0;34m.\u001B[0m\u001B[0m__getattribute__\u001B[0m\u001B[0;34m(\u001B[0m\u001B[0mself\u001B[0m\u001B[0;34m,\u001B[0m \u001B[0mname\u001B[0m\u001B[0;34m)\u001B[0m\u001B[0;34m\u001B[0m\u001B[0;34m\u001B[0m\u001B[0m\n\u001B[0m",
      "\u001B[0;31mAttributeError\u001B[0m: 'Series' object has no attribute 'date'"
     ]
    }
   ],
   "source": [
    "import sys\n",
    "import pandas as pd\n",
    "import numpy as np\n",
    "import warnings\n",
    "from datetime import datetime\n",
    "\n",
    "def check_df(df):\n",
    "    EXPECTED_COLS = [\"forecast_date\", \"target\", \"horizon\", \"q0.025\", \"q0.25\",\n",
    "                    \"q0.5\", \"q0.75\", \"q0.975\"]\n",
    "    LEN_EXP_COLS = len(EXPECTED_COLS)\n",
    "\n",
    "    # if exclude_weather == True:\n",
    "    #     print(\"Excluding weather variables!\")\n",
    "    #     TARGETS = [\"DAX\", \"energy\"]\n",
    "    # else:\n",
    "    TARGETS = [\"DAX\", \"energy\"]\n",
    "\n",
    "    TARGET_VALS = dict(DAX = [str(i) + \" day\" for i in (1,2,5,6,7)],\n",
    "                    energy = [str(i) + \" hour\" for i in (36,40,44,60,64,68)],\n",
    "                    infections = [str(i) + \" week\" for i in (0,1,2,3,4)])\n",
    "\n",
    "    TARGET_LEN = dict(DAX = len(TARGET_VALS[\"DAX\"]),\n",
    "                    energy = len(TARGET_VALS[\"energy\"]),\n",
    "                    infections = len(TARGET_VALS[\"infections\"])\n",
    "                    )\n",
    "\n",
    "    TARGET_PLAUS = dict(DAX = [-20, 20],\n",
    "                        energy = [0,250],\n",
    "                        infections = [0,9000])\n",
    "\n",
    "    COLS_QUANTILES = [\"q0.025\", \"q0.25\", \"q0.5\", \"q0.75\", \"q0.975\"]\n",
    "\n",
    "    print(\"Start checking...\")\n",
    "    print(\"---------------------------\")\n",
    "    col_names = df.columns\n",
    "\n",
    "\n",
    "    print(\"Checking the Columns...\")\n",
    "    # Check column length\n",
    "    if len(col_names) != LEN_EXP_COLS:\n",
    "        print(\"Dataset contains \",len(col_names), \"columns. Required are\",LEN_EXP_COLS)\n",
    "        print(\"Stopping early...\")\n",
    "        sys.exit()\n",
    "\n",
    "    if set(col_names) != set(EXPECTED_COLS):\n",
    "        print(\"Dataset does not contain the required columns (or more).\")\n",
    "        missing_cols = set(EXPECTED_COLS) - set(col_names)\n",
    "        print(\"The missing columns are:\", missing_cols)\n",
    "        print(\"Stopping early...\")\n",
    "        sys.exit()\n",
    "\n",
    "    for i,col in enumerate(EXPECTED_COLS):\n",
    "        if col == col_names[i]:\n",
    "            continue\n",
    "        else:\n",
    "            print(\"Columns not in correct order. Order should be:\", EXPECTED_COLS)\n",
    "            print(\"Your order is:\", col_names.values)\n",
    "            print(\"Stopping early...\")\n",
    "            sys.exit()\n",
    "\n",
    "    # Date Col\n",
    "    print(\"Checking type of columns...\")\n",
    "    try:\n",
    "        df[\"forecast_date\"] = pd.to_datetime(df[\"forecast_date\"], format=\"%Y-%m-%d\",\n",
    "                                            errors=\"raise\")\n",
    "    except (pd.errors.ParserError, ValueError):\n",
    "        print(\"Could not parse Date in format YYYY-MM-DD\")\n",
    "        print(\"Stopping early...\")\n",
    "        sys.exit()\n",
    "\n",
    "    try:\n",
    "        df[\"target\"] = df[\"target\"].astype(\"object\", errors=\"raise\")\n",
    "    except ValueError:\n",
    "        print(\"Cannot convert target column to String.\")\n",
    "        print(\"Stopping early...\")\n",
    "        sys.exit()\n",
    "\n",
    "    try:\n",
    "        df[\"horizon\"] = df[\"horizon\"].astype(\"object\", errors=\"raise\")\n",
    "    except ValueError:\n",
    "        print(\"Cannot convert horizon column to String.\")\n",
    "        print(\"Stopping early...\")\n",
    "        sys.exit()\n",
    "\n",
    "    for cq in COLS_QUANTILES:\n",
    "        if pd.to_numeric(df[cq], errors=\"coerce\").isna().any():\n",
    "            print(\"----WARNING: Some elements in\",cq,\"column are not numeric. This may be fine if you only submit 2 out of 3 targets.\")\n",
    "            print(\"\")\n",
    "            # print(\"Stopping early...\")\n",
    "            # sys.exit()\n",
    "\n",
    "    print(\"Checking if the Dates make sense...\")\n",
    "\n",
    "    if len(pd.unique(df[\"forecast_date\"])) > 1:\n",
    "        print(\"forecast_date needs to be the same in all rows.\")\n",
    "        print(\"Stopping early...\")\n",
    "        sys.exit()\n",
    "\n",
    "    if df[\"forecast_date\"][0].date() < datetime.today().date():\n",
    "        print(\"----WARNING: Forecast date should not be in the past.\")\n",
    "        print(\"\")\n",
    "        # warnings.warn(\"Forecast date should not be in the past.\")\n",
    "\n",
    "    if df[\"forecast_date\"][0].weekday() != 2:\n",
    "        print(\"----WARNING: Forecast date should be a Wednesday.\")\n",
    "        print(\"\")\n",
    "        # warnings.warn(\"Forecast date should be a Wednesday\")\n",
    "\n",
    "    print(\"Checking targets...\")\n",
    "\n",
    "    if not df[\"target\"].isin(TARGETS).all():\n",
    "        print(f\"Target column can only contain {TARGETS}. Check spelling.\")\n",
    "        print(\"Stopping early...\")\n",
    "        sys.exit()\n",
    "\n",
    "    for target in TARGETS:\n",
    "\n",
    "        if len(df[df[\"target\"] == target]) != TARGET_LEN[target]:\n",
    "            if target == \"demand\":\n",
    "                print(\"Exactly 6 rows need to have target = \", target)\n",
    "            else:\n",
    "                print(\"Exactly 5 rows need to have target =\", target)\n",
    "            print(\"Stopping early...\")\n",
    "            sys.exit()\n",
    "\n",
    "        if (df[df[\"target\"] == target][\"horizon\"] != TARGET_VALS[target]).any():\n",
    "            print(\"Target\", target, \"horizons need to be (in this order):\", TARGET_VALS[target])\n",
    "            print(\"Stopping early...\")\n",
    "            sys.exit()\n",
    "\n",
    "        if (df[df[\"target\"] == target][COLS_QUANTILES] < TARGET_PLAUS[target][0]).any(axis=None) or \\\n",
    "            (df[df[\"target\"] == target][COLS_QUANTILES] > TARGET_PLAUS[target][1]).any(axis=None):\n",
    "            print(\"----WARNING: Implausible values for\",target,\"detected. You may want to re-check.\")\n",
    "            print(\"\")\n",
    "            # warnings.warn(\"Implausible values for \"+str(target)+\" detected. You may want to re-check them.\")\n",
    "\n",
    "    print(\"Checking quantiles...\")\n",
    "\n",
    "    ALL_NAN_IDX = df[df.isna().any(axis=1)].index\n",
    "    NAN_TARGET_IDX_LIST = []\n",
    "\n",
    "    if len(ALL_NAN_IDX) != 0:\n",
    "        NAN_TARGET = df.iloc[ALL_NAN_IDX[0]][\"target\"]\n",
    "        NAN_TARGET_LENS = dict(DAX = 5,\n",
    "                            energy = 6,\n",
    "                            infections = 5)\n",
    "\n",
    "        NAN_TARGET_IDX_LIST = df[df[\"target\"] == NAN_TARGET].index\n",
    "\n",
    "        print(\"Assume that --\",NAN_TARGET,\"-- is your NaN-target. Please DOUBLECHECK if this is correct.\")\n",
    "\n",
    "        if len(ALL_NAN_IDX) > NAN_TARGET_LENS[NAN_TARGET]:\n",
    "            print(\"Your dataframe contains more NaNs than entries for target\",NAN_TARGET,\".\")\n",
    "            print(\"Stopping early...\")\n",
    "            sys.exit()\n",
    "    else:\n",
    "        print(\"Seems like you submitted all three targets. Good job!\")\n",
    "\n",
    "    for i, row in df.iterrows():\n",
    "        if i in NAN_TARGET_IDX_LIST:\n",
    "            continue\n",
    "\n",
    "        diffs = row[COLS_QUANTILES].diff()\n",
    "        if diffs[1:].isna().any():\n",
    "            print(\"Something is wrong with your quantiles.\")\n",
    "            print(\"Stopping early...\")\n",
    "            sys.exit()\n",
    "        diffs[0] = 0\n",
    "        if (diffs < 0).any():\n",
    "            print(\"Predictive quantiles in row\",i,\"are not ordered correctly (need to be non-decreasing)\")\n",
    "            print(\"Stopping early...\")\n",
    "            sys.exit()\n",
    "\n",
    "    print(\"---------------------------\")\n",
    "    print(\"Looks good!\")\n",
    "    \n",
    "check_df(df)"
   ],
   "metadata": {
    "collapsed": false,
    "ExecuteTime": {
     "end_time": "2023-11-29T17:22:23.285796Z",
     "start_time": "2023-11-29T17:22:23.212537Z"
    }
   },
   "id": "edf25717f17afa86"
  },
  {
   "cell_type": "code",
   "execution_count": null,
   "outputs": [],
   "source": [
    "df"
   ],
   "metadata": {
    "collapsed": false,
    "ExecuteTime": {
     "end_time": "2023-11-29T17:17:12.989626Z",
     "start_time": "2023-11-29T17:17:12.989510Z"
    }
   },
   "id": "8155994327dfda82"
  },
  {
   "cell_type": "code",
   "execution_count": null,
   "outputs": [],
   "source": [],
   "metadata": {
    "collapsed": false,
    "ExecuteTime": {
     "start_time": "2023-11-29T17:17:12.990328Z"
    }
   },
   "id": "c13b36e8ffa9da5d"
  }
 ],
 "metadata": {
  "kernelspec": {
   "display_name": "Python 3",
   "language": "python",
   "name": "python3"
  },
  "language_info": {
   "codemirror_mode": {
    "name": "ipython",
    "version": 2
   },
   "file_extension": ".py",
   "mimetype": "text/x-python",
   "name": "python",
   "nbconvert_exporter": "python",
   "pygments_lexer": "ipython2",
   "version": "2.7.6"
  }
 },
 "nbformat": 4,
 "nbformat_minor": 5
}
