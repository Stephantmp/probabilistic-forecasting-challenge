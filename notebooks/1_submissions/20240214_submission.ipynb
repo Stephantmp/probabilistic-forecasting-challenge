{
 "cells": [
  {
   "cell_type": "code",
   "execution_count": 1,
   "id": "initial_id",
   "metadata": {
    "collapsed": true,
    "ExecuteTime": {
     "end_time": "2024-03-24T18:26:41.288808Z",
     "start_time": "2024-03-24T18:26:19.110531Z"
    }
   },
   "outputs": [],
   "source": [
    "from models.DAX.DAX_models import DAX_quantile_regression, DAX_baseline\n",
    "from models.energy import energy_models\n",
    "from functions import get_energy,get_DAX,merge_submissions,check_submission\n",
    "from functions.prepare_data import split_time\n",
    "from functions.evaluation import evaluate_horizon\n",
    "from tqdm import tqdm\n",
    "from functions import evaluate_dax\n",
    "import numpy as np"
   ]
  },
  {
   "cell_type": "code",
   "execution_count": 2,
   "outputs": [],
   "source": [
    "from functions import naive_ensemble"
   ],
   "metadata": {
    "collapsed": false,
    "ExecuteTime": {
     "end_time": "2024-03-24T18:26:41.289678Z",
     "start_time": "2024-03-24T18:26:41.287114Z"
    }
   },
   "id": "2ce850d6890c7f7e"
  },
  {
   "cell_type": "code",
   "execution_count": 3,
   "outputs": [],
   "source": [
    "daxdata = get_DAX.get()"
   ],
   "metadata": {
    "collapsed": false,
    "ExecuteTime": {
     "end_time": "2024-03-24T18:27:01.629525Z",
     "start_time": "2024-03-24T18:26:41.290704Z"
    }
   },
   "id": "f9e3cc3455a4dedb"
  },
  {
   "cell_type": "code",
   "execution_count": 4,
   "outputs": [],
   "source": [
    "base = DAX_baseline.DAX_baseline(daxdata)"
   ],
   "metadata": {
    "collapsed": false,
    "ExecuteTime": {
     "end_time": "2024-03-24T18:27:01.639649Z",
     "start_time": "2024-03-24T18:27:01.629934Z"
    }
   },
   "id": "ec5c75e7ea26f528"
  },
  {
   "cell_type": "code",
   "execution_count": 5,
   "outputs": [
    {
     "data": {
      "text/plain": "  forecast_date target horizon    q0.025     q0.25      q0.5     q0.75  \\\n0    2024-03-24    DAX   1 day -2.478520 -0.683375 -0.069389  0.490104   \n1    2024-03-24    DAX   2 day -3.349019 -0.945968 -0.105510  0.624821   \n2    2024-03-24    DAX   3 day -4.027670 -1.209531 -0.195276  0.774530   \n3    2024-03-24    DAX   4 day -4.763757 -1.437087 -0.246887  0.844792   \n4    2024-03-24    DAX   5 day -5.019355 -1.552304 -0.377205  0.887736   \n\n     q0.975  \n0  2.520942  \n1  3.593514  \n2  4.315379  \n3  5.009079  \n4  5.062647  ",
      "text/html": "<div>\n<style scoped>\n    .dataframe tbody tr th:only-of-type {\n        vertical-align: middle;\n    }\n\n    .dataframe tbody tr th {\n        vertical-align: top;\n    }\n\n    .dataframe thead th {\n        text-align: right;\n    }\n</style>\n<table border=\"1\" class=\"dataframe\">\n  <thead>\n    <tr style=\"text-align: right;\">\n      <th></th>\n      <th>forecast_date</th>\n      <th>target</th>\n      <th>horizon</th>\n      <th>q0.025</th>\n      <th>q0.25</th>\n      <th>q0.5</th>\n      <th>q0.75</th>\n      <th>q0.975</th>\n    </tr>\n  </thead>\n  <tbody>\n    <tr>\n      <th>0</th>\n      <td>2024-03-24</td>\n      <td>DAX</td>\n      <td>1 day</td>\n      <td>-2.478520</td>\n      <td>-0.683375</td>\n      <td>-0.069389</td>\n      <td>0.490104</td>\n      <td>2.520942</td>\n    </tr>\n    <tr>\n      <th>1</th>\n      <td>2024-03-24</td>\n      <td>DAX</td>\n      <td>2 day</td>\n      <td>-3.349019</td>\n      <td>-0.945968</td>\n      <td>-0.105510</td>\n      <td>0.624821</td>\n      <td>3.593514</td>\n    </tr>\n    <tr>\n      <th>2</th>\n      <td>2024-03-24</td>\n      <td>DAX</td>\n      <td>3 day</td>\n      <td>-4.027670</td>\n      <td>-1.209531</td>\n      <td>-0.195276</td>\n      <td>0.774530</td>\n      <td>4.315379</td>\n    </tr>\n    <tr>\n      <th>3</th>\n      <td>2024-03-24</td>\n      <td>DAX</td>\n      <td>4 day</td>\n      <td>-4.763757</td>\n      <td>-1.437087</td>\n      <td>-0.246887</td>\n      <td>0.844792</td>\n      <td>5.009079</td>\n    </tr>\n    <tr>\n      <th>4</th>\n      <td>2024-03-24</td>\n      <td>DAX</td>\n      <td>5 day</td>\n      <td>-5.019355</td>\n      <td>-1.552304</td>\n      <td>-0.377205</td>\n      <td>0.887736</td>\n      <td>5.062647</td>\n    </tr>\n  </tbody>\n</table>\n</div>"
     },
     "execution_count": 5,
     "metadata": {},
     "output_type": "execute_result"
    }
   ],
   "source": [
    "base"
   ],
   "metadata": {
    "collapsed": false,
    "ExecuteTime": {
     "end_time": "2024-03-24T18:27:05.294020Z",
     "start_time": "2024-03-24T18:27:05.278850Z"
    }
   },
   "id": "a8cb24f5fba12ced"
  },
  {
   "cell_type": "code",
   "execution_count": 6,
   "outputs": [],
   "source": [
    "quantile = DAX_quantile_regression.DAX_quantile_regression(daxdata)"
   ],
   "metadata": {
    "collapsed": false,
    "ExecuteTime": {
     "end_time": "2024-02-14T22:52:10.671096Z",
     "start_time": "2024-02-14T22:51:54.823057Z"
    }
   },
   "id": "41c45532b2bc7fef"
  },
  {
   "cell_type": "code",
   "execution_count": 7,
   "outputs": [
    {
     "data": {
      "text/plain": "  forecast_date target horizon    q0.025     q0.25      q0.5     q0.75  \\\n0    2024-02-14    DAX   1 day -2.659740 -0.500982  0.077228  0.710654   \n1    2024-02-14    DAX   2 day -3.746485 -0.727760  0.103141  0.978977   \n2    2024-02-14    DAX   5 day -4.317083 -0.830364  0.178931  1.251251   \n3    2024-02-14    DAX   6 day -5.058731 -0.898230  0.218584  1.451656   \n4    2024-02-14    DAX   7 day -5.321097 -0.946094  0.346121  1.607134   \n\n     q0.975  \n0  2.719772  \n1  3.570492  \n2  4.628697  \n3  5.367396  \n4  6.259934  ",
      "text/html": "<div>\n<style scoped>\n    .dataframe tbody tr th:only-of-type {\n        vertical-align: middle;\n    }\n\n    .dataframe tbody tr th {\n        vertical-align: top;\n    }\n\n    .dataframe thead th {\n        text-align: right;\n    }\n</style>\n<table border=\"1\" class=\"dataframe\">\n  <thead>\n    <tr style=\"text-align: right;\">\n      <th></th>\n      <th>forecast_date</th>\n      <th>target</th>\n      <th>horizon</th>\n      <th>q0.025</th>\n      <th>q0.25</th>\n      <th>q0.5</th>\n      <th>q0.75</th>\n      <th>q0.975</th>\n    </tr>\n  </thead>\n  <tbody>\n    <tr>\n      <th>0</th>\n      <td>2024-02-14</td>\n      <td>DAX</td>\n      <td>1 day</td>\n      <td>-2.659740</td>\n      <td>-0.500982</td>\n      <td>0.077228</td>\n      <td>0.710654</td>\n      <td>2.719772</td>\n    </tr>\n    <tr>\n      <th>1</th>\n      <td>2024-02-14</td>\n      <td>DAX</td>\n      <td>2 day</td>\n      <td>-3.746485</td>\n      <td>-0.727760</td>\n      <td>0.103141</td>\n      <td>0.978977</td>\n      <td>3.570492</td>\n    </tr>\n    <tr>\n      <th>2</th>\n      <td>2024-02-14</td>\n      <td>DAX</td>\n      <td>5 day</td>\n      <td>-4.317083</td>\n      <td>-0.830364</td>\n      <td>0.178931</td>\n      <td>1.251251</td>\n      <td>4.628697</td>\n    </tr>\n    <tr>\n      <th>3</th>\n      <td>2024-02-14</td>\n      <td>DAX</td>\n      <td>6 day</td>\n      <td>-5.058731</td>\n      <td>-0.898230</td>\n      <td>0.218584</td>\n      <td>1.451656</td>\n      <td>5.367396</td>\n    </tr>\n    <tr>\n      <th>4</th>\n      <td>2024-02-14</td>\n      <td>DAX</td>\n      <td>7 day</td>\n      <td>-5.321097</td>\n      <td>-0.946094</td>\n      <td>0.346121</td>\n      <td>1.607134</td>\n      <td>6.259934</td>\n    </tr>\n  </tbody>\n</table>\n</div>"
     },
     "execution_count": 7,
     "metadata": {},
     "output_type": "execute_result"
    }
   ],
   "source": [
    "base"
   ],
   "metadata": {
    "collapsed": false,
    "ExecuteTime": {
     "end_time": "2024-02-14T22:52:10.752458Z",
     "start_time": "2024-02-14T22:52:10.695180Z"
    }
   },
   "id": "f3a06c002fba56e4"
  },
  {
   "cell_type": "code",
   "execution_count": 8,
   "outputs": [
    {
     "data": {
      "text/plain": "  forecast_date target horizon    q0.025     q0.25      q0.5     q0.75  \\\n0    2024-02-14    DAX   1 day -2.697315 -0.567931  0.122281  0.658111   \n1    2024-02-14    DAX   2 day -4.685462 -2.601772 -1.799531 -1.210189   \n2    2024-02-14    DAX   5 day -3.551711 -1.552685 -0.613763 -0.011930   \n3    2024-02-14    DAX   6 day -4.022736 -2.004049 -1.175835 -0.481863   \n4    2024-02-14    DAX   7 day -3.488536 -1.683901 -0.756083 -0.046446   \n\n     q0.975  \n0  1.895334  \n1  0.328829  \n2  1.523145  \n3  1.149809  \n4  1.638068  ",
      "text/html": "<div>\n<style scoped>\n    .dataframe tbody tr th:only-of-type {\n        vertical-align: middle;\n    }\n\n    .dataframe tbody tr th {\n        vertical-align: top;\n    }\n\n    .dataframe thead th {\n        text-align: right;\n    }\n</style>\n<table border=\"1\" class=\"dataframe\">\n  <thead>\n    <tr style=\"text-align: right;\">\n      <th></th>\n      <th>forecast_date</th>\n      <th>target</th>\n      <th>horizon</th>\n      <th>q0.025</th>\n      <th>q0.25</th>\n      <th>q0.5</th>\n      <th>q0.75</th>\n      <th>q0.975</th>\n    </tr>\n  </thead>\n  <tbody>\n    <tr>\n      <th>0</th>\n      <td>2024-02-14</td>\n      <td>DAX</td>\n      <td>1 day</td>\n      <td>-2.697315</td>\n      <td>-0.567931</td>\n      <td>0.122281</td>\n      <td>0.658111</td>\n      <td>1.895334</td>\n    </tr>\n    <tr>\n      <th>1</th>\n      <td>2024-02-14</td>\n      <td>DAX</td>\n      <td>2 day</td>\n      <td>-4.685462</td>\n      <td>-2.601772</td>\n      <td>-1.799531</td>\n      <td>-1.210189</td>\n      <td>0.328829</td>\n    </tr>\n    <tr>\n      <th>2</th>\n      <td>2024-02-14</td>\n      <td>DAX</td>\n      <td>5 day</td>\n      <td>-3.551711</td>\n      <td>-1.552685</td>\n      <td>-0.613763</td>\n      <td>-0.011930</td>\n      <td>1.523145</td>\n    </tr>\n    <tr>\n      <th>3</th>\n      <td>2024-02-14</td>\n      <td>DAX</td>\n      <td>6 day</td>\n      <td>-4.022736</td>\n      <td>-2.004049</td>\n      <td>-1.175835</td>\n      <td>-0.481863</td>\n      <td>1.149809</td>\n    </tr>\n    <tr>\n      <th>4</th>\n      <td>2024-02-14</td>\n      <td>DAX</td>\n      <td>7 day</td>\n      <td>-3.488536</td>\n      <td>-1.683901</td>\n      <td>-0.756083</td>\n      <td>-0.046446</td>\n      <td>1.638068</td>\n    </tr>\n  </tbody>\n</table>\n</div>"
     },
     "execution_count": 8,
     "metadata": {},
     "output_type": "execute_result"
    }
   ],
   "source": [
    "quantile"
   ],
   "metadata": {
    "collapsed": false,
    "ExecuteTime": {
     "end_time": "2024-02-14T22:52:10.811627Z",
     "start_time": "2024-02-14T22:52:10.703392Z"
    }
   },
   "id": "eaf1a3bf41c37db6"
  },
  {
   "cell_type": "code",
   "execution_count": 9,
   "outputs": [],
   "source": [
    "df_dax = naive_ensemble.ensemble(base,quantile,0.8,0.2)"
   ],
   "metadata": {
    "collapsed": false,
    "ExecuteTime": {
     "end_time": "2024-02-14T22:52:10.813437Z",
     "start_time": "2024-02-14T22:52:10.745582Z"
    }
   },
   "id": "f43ba6072018640e"
  },
  {
   "cell_type": "code",
   "execution_count": 10,
   "outputs": [
    {
     "data": {
      "text/plain": "  forecast_date target horizon    q0.025     q0.25      q0.5     q0.75  \\\n0    2024-02-14    DAX   1 day -2.667255 -0.514372  0.086239  0.700145   \n1    2024-02-14    DAX   2 day -3.934280 -1.102562 -0.277393  0.541144   \n2    2024-02-14    DAX   5 day -4.164009 -0.974828  0.020392  0.998615   \n3    2024-02-14    DAX   6 day -4.851532 -1.119393 -0.060300  1.064952   \n4    2024-02-14    DAX   7 day -4.954584 -1.093656  0.125680  1.276418   \n\n     q0.975  \n0  2.554884  \n1  2.922160  \n2  4.007587  \n3  4.523879  \n4  5.335561  ",
      "text/html": "<div>\n<style scoped>\n    .dataframe tbody tr th:only-of-type {\n        vertical-align: middle;\n    }\n\n    .dataframe tbody tr th {\n        vertical-align: top;\n    }\n\n    .dataframe thead th {\n        text-align: right;\n    }\n</style>\n<table border=\"1\" class=\"dataframe\">\n  <thead>\n    <tr style=\"text-align: right;\">\n      <th></th>\n      <th>forecast_date</th>\n      <th>target</th>\n      <th>horizon</th>\n      <th>q0.025</th>\n      <th>q0.25</th>\n      <th>q0.5</th>\n      <th>q0.75</th>\n      <th>q0.975</th>\n    </tr>\n  </thead>\n  <tbody>\n    <tr>\n      <th>0</th>\n      <td>2024-02-14</td>\n      <td>DAX</td>\n      <td>1 day</td>\n      <td>-2.667255</td>\n      <td>-0.514372</td>\n      <td>0.086239</td>\n      <td>0.700145</td>\n      <td>2.554884</td>\n    </tr>\n    <tr>\n      <th>1</th>\n      <td>2024-02-14</td>\n      <td>DAX</td>\n      <td>2 day</td>\n      <td>-3.934280</td>\n      <td>-1.102562</td>\n      <td>-0.277393</td>\n      <td>0.541144</td>\n      <td>2.922160</td>\n    </tr>\n    <tr>\n      <th>2</th>\n      <td>2024-02-14</td>\n      <td>DAX</td>\n      <td>5 day</td>\n      <td>-4.164009</td>\n      <td>-0.974828</td>\n      <td>0.020392</td>\n      <td>0.998615</td>\n      <td>4.007587</td>\n    </tr>\n    <tr>\n      <th>3</th>\n      <td>2024-02-14</td>\n      <td>DAX</td>\n      <td>6 day</td>\n      <td>-4.851532</td>\n      <td>-1.119393</td>\n      <td>-0.060300</td>\n      <td>1.064952</td>\n      <td>4.523879</td>\n    </tr>\n    <tr>\n      <th>4</th>\n      <td>2024-02-14</td>\n      <td>DAX</td>\n      <td>7 day</td>\n      <td>-4.954584</td>\n      <td>-1.093656</td>\n      <td>0.125680</td>\n      <td>1.276418</td>\n      <td>5.335561</td>\n    </tr>\n  </tbody>\n</table>\n</div>"
     },
     "execution_count": 10,
     "metadata": {},
     "output_type": "execute_result"
    }
   ],
   "source": [
    "df_dax"
   ],
   "metadata": {
    "collapsed": false,
    "ExecuteTime": {
     "end_time": "2024-02-14T22:52:10.830101Z",
     "start_time": "2024-02-14T22:52:10.757219Z"
    }
   },
   "id": "f65a5a521ad3258e"
  },
  {
   "cell_type": "code",
   "execution_count": 11,
   "outputs": [
    {
     "name": "stderr",
     "output_type": "stream",
     "text": [
      "  0%|          | 0/269 [00:00<?, ?it/s]/Users/stephantimpe/PycharmProjects/probabilistic-forecasting-challenge/functions/get_energy.py:28: FutureWarning: The behavior of DataFrame concatenation with empty or all-NA entries is deprecated. In a future version, this will no longer exclude empty or all-NA columns when determining the result dtypes. To retain the old behavior, exclude the relevant entries before the concat operation.\n",
      "  energydata = pd.concat([energydata, pd.DataFrame(rawdata, columns=col_names)])\n",
      "100%|██████████| 269/269 [00:30<00:00,  8.76it/s]\n"
     ]
    }
   ],
   "source": [
    "energydata= get_energy.get()"
   ],
   "metadata": {
    "collapsed": false,
    "ExecuteTime": {
     "end_time": "2024-02-14T22:52:41.932Z",
     "start_time": "2024-02-14T22:52:10.775970Z"
    }
   },
   "id": "6825a919679471df"
  },
  {
   "cell_type": "code",
   "execution_count": 24,
   "outputs": [],
   "source": [
    "df_energy= energy_models.energy_XGBoost(energydata,date_str='2024-02-14')"
   ],
   "metadata": {
    "collapsed": false,
    "ExecuteTime": {
     "end_time": "2024-02-14T22:53:33.864338Z",
     "start_time": "2024-02-14T22:53:11.809933Z"
    }
   },
   "id": "d1d2a9506ee6ab6c"
  },
  {
   "cell_type": "code",
   "execution_count": 25,
   "outputs": [
    {
     "data": {
      "text/plain": "  forecast_date  target  horizon     q0.025      q0.25       q0.5      q0.75  \\\n0    2024-02-14  energy  36 hour  64.045959  68.483833  71.047020  73.305389   \n1    2024-02-14  energy  40 hour  59.859379  63.551311  66.540077  68.225845   \n2    2024-02-14  energy  44 hour  60.065620  62.567818  65.188622  66.502022   \n3    2024-02-14  energy  60 hour  57.069286  59.153980  60.861267  63.005474   \n4    2024-02-14  energy  64 hour  52.906685  54.493233  55.423454  58.016098   \n5    2024-02-14  energy  68 hour  53.354237  56.130596  56.151104  57.989506   \n\n      q0.975  \n0  76.355835  \n1  71.914993  \n2  67.780556  \n3  63.766880  \n4  61.773037  \n5  59.095627  ",
      "text/html": "<div>\n<style scoped>\n    .dataframe tbody tr th:only-of-type {\n        vertical-align: middle;\n    }\n\n    .dataframe tbody tr th {\n        vertical-align: top;\n    }\n\n    .dataframe thead th {\n        text-align: right;\n    }\n</style>\n<table border=\"1\" class=\"dataframe\">\n  <thead>\n    <tr style=\"text-align: right;\">\n      <th></th>\n      <th>forecast_date</th>\n      <th>target</th>\n      <th>horizon</th>\n      <th>q0.025</th>\n      <th>q0.25</th>\n      <th>q0.5</th>\n      <th>q0.75</th>\n      <th>q0.975</th>\n    </tr>\n  </thead>\n  <tbody>\n    <tr>\n      <th>0</th>\n      <td>2024-02-14</td>\n      <td>energy</td>\n      <td>36 hour</td>\n      <td>64.045959</td>\n      <td>68.483833</td>\n      <td>71.047020</td>\n      <td>73.305389</td>\n      <td>76.355835</td>\n    </tr>\n    <tr>\n      <th>1</th>\n      <td>2024-02-14</td>\n      <td>energy</td>\n      <td>40 hour</td>\n      <td>59.859379</td>\n      <td>63.551311</td>\n      <td>66.540077</td>\n      <td>68.225845</td>\n      <td>71.914993</td>\n    </tr>\n    <tr>\n      <th>2</th>\n      <td>2024-02-14</td>\n      <td>energy</td>\n      <td>44 hour</td>\n      <td>60.065620</td>\n      <td>62.567818</td>\n      <td>65.188622</td>\n      <td>66.502022</td>\n      <td>67.780556</td>\n    </tr>\n    <tr>\n      <th>3</th>\n      <td>2024-02-14</td>\n      <td>energy</td>\n      <td>60 hour</td>\n      <td>57.069286</td>\n      <td>59.153980</td>\n      <td>60.861267</td>\n      <td>63.005474</td>\n      <td>63.766880</td>\n    </tr>\n    <tr>\n      <th>4</th>\n      <td>2024-02-14</td>\n      <td>energy</td>\n      <td>64 hour</td>\n      <td>52.906685</td>\n      <td>54.493233</td>\n      <td>55.423454</td>\n      <td>58.016098</td>\n      <td>61.773037</td>\n    </tr>\n    <tr>\n      <th>5</th>\n      <td>2024-02-14</td>\n      <td>energy</td>\n      <td>68 hour</td>\n      <td>53.354237</td>\n      <td>56.130596</td>\n      <td>56.151104</td>\n      <td>57.989506</td>\n      <td>59.095627</td>\n    </tr>\n  </tbody>\n</table>\n</div>"
     },
     "execution_count": 25,
     "metadata": {},
     "output_type": "execute_result"
    }
   ],
   "source": [
    "df_energy"
   ],
   "metadata": {
    "collapsed": false,
    "ExecuteTime": {
     "end_time": "2024-02-14T22:53:33.891820Z",
     "start_time": "2024-02-14T22:53:33.858348Z"
    }
   },
   "id": "ca504288bd09666b"
  },
  {
   "cell_type": "code",
   "execution_count": 26,
   "outputs": [],
   "source": [
    "#Reorder quantiles to prevent quantile crossing"
   ],
   "metadata": {
    "collapsed": false,
    "ExecuteTime": {
     "end_time": "2024-02-14T22:53:33.893335Z",
     "start_time": "2024-02-14T22:53:33.873814Z"
    }
   },
   "id": "5fef7941487d6c1"
  },
  {
   "cell_type": "code",
   "execution_count": 27,
   "outputs": [
    {
     "name": "stdout",
     "output_type": "stream",
     "text": [
      "  forecast_date      target  horizon     q0.025      q0.25       q0.5  \\\n",
      "0    2024-02-14         DAX    1 day  -2.667255  -0.514372   0.086239   \n",
      "1    2024-02-14         DAX    2 day   -3.93428  -1.102562  -0.277393   \n",
      "2    2024-02-14         DAX    5 day  -4.164009  -0.974828   0.020392   \n",
      "3    2024-02-14         DAX    6 day  -4.851532  -1.119393    -0.0603   \n",
      "4    2024-02-14         DAX    7 day  -4.954584  -1.093656    0.12568   \n",
      "0    2024-02-14      energy  36 hour  64.045959  68.483833   71.04702   \n",
      "1    2024-02-14      energy  40 hour  59.859379  63.551311  66.540077   \n",
      "2    2024-02-14      energy  44 hour   60.06562  62.567818  65.188622   \n",
      "3    2024-02-14      energy  60 hour  57.069286   59.15398  60.861267   \n",
      "4    2024-02-14      energy  64 hour  52.906685  54.493233  55.423454   \n",
      "5    2024-02-14      energy  68 hour  53.354237  56.130596  56.151104   \n",
      "0    2024-02-14  infections   0 week         NA         NA         NA   \n",
      "1    2024-02-14  infections   1 week         NA         NA         NA   \n",
      "2    2024-02-14  infections   2 week         NA         NA         NA   \n",
      "3    2024-02-14  infections   3 week         NA         NA         NA   \n",
      "4    2024-02-14  infections   4 week         NA         NA         NA   \n",
      "\n",
      "       q0.75     q0.975  \n",
      "0   0.700145   2.554884  \n",
      "1   0.541144    2.92216  \n",
      "2   0.998615   4.007587  \n",
      "3   1.064952   4.523879  \n",
      "4   1.276418   5.335561  \n",
      "0  73.305389  76.355835  \n",
      "1  68.225845  71.914993  \n",
      "2  66.502022  67.780556  \n",
      "3  63.005474   63.76688  \n",
      "4  58.016098  61.773037  \n",
      "5  57.989506  59.095627  \n",
      "0         NA         NA  \n",
      "1         NA         NA  \n",
      "2         NA         NA  \n",
      "3         NA         NA  \n",
      "4         NA         NA  \n"
     ]
    }
   ],
   "source": [
    "df = merge_submissions.merge(df_energy,df_dax)"
   ],
   "metadata": {
    "collapsed": false,
    "ExecuteTime": {
     "end_time": "2024-02-14T22:53:33.921460Z",
     "start_time": "2024-02-14T22:53:33.893577Z"
    }
   },
   "id": "6997de28c0fe949"
  },
  {
   "cell_type": "code",
   "execution_count": 28,
   "outputs": [],
   "source": [
    "import pandas as pd"
   ],
   "metadata": {
    "collapsed": false,
    "ExecuteTime": {
     "end_time": "2024-02-14T22:53:33.922061Z",
     "start_time": "2024-02-14T22:53:33.900830Z"
    }
   },
   "id": "a674edafd02b6168"
  },
  {
   "cell_type": "code",
   "execution_count": 29,
   "outputs": [],
   "source": [
    "# ensure forecast_date is in correct format\n",
    "df['forecast_date'] = pd.to_datetime(df['forecast_date'], format='%Y-%m-%d')"
   ],
   "metadata": {
    "collapsed": false,
    "ExecuteTime": {
     "end_time": "2024-02-14T22:53:33.922291Z",
     "start_time": "2024-02-14T22:53:33.908594Z"
    }
   },
   "id": "da079753fd7a5b8"
  },
  {
   "cell_type": "code",
   "execution_count": 30,
   "outputs": [
    {
     "data": {
      "text/plain": "  forecast_date      target  horizon     q0.025      q0.25       q0.5  \\\n0    2024-02-14         DAX    1 day  -2.667255  -0.514372   0.086239   \n1    2024-02-14         DAX    2 day   -3.93428  -1.102562  -0.277393   \n2    2024-02-14         DAX    5 day  -4.164009  -0.974828   0.020392   \n3    2024-02-14         DAX    6 day  -4.851532  -1.119393    -0.0603   \n4    2024-02-14         DAX    7 day  -4.954584  -1.093656    0.12568   \n0    2024-02-14      energy  36 hour  64.045959  68.483833   71.04702   \n1    2024-02-14      energy  40 hour  59.859379  63.551311  66.540077   \n2    2024-02-14      energy  44 hour   60.06562  62.567818  65.188622   \n3    2024-02-14      energy  60 hour  57.069286   59.15398  60.861267   \n4    2024-02-14      energy  64 hour  52.906685  54.493233  55.423454   \n5    2024-02-14      energy  68 hour  53.354237  56.130596  56.151104   \n0    2024-02-14  infections   0 week         NA         NA         NA   \n1    2024-02-14  infections   1 week         NA         NA         NA   \n2    2024-02-14  infections   2 week         NA         NA         NA   \n3    2024-02-14  infections   3 week         NA         NA         NA   \n4    2024-02-14  infections   4 week         NA         NA         NA   \n\n       q0.75     q0.975  \n0   0.700145   2.554884  \n1   0.541144    2.92216  \n2   0.998615   4.007587  \n3   1.064952   4.523879  \n4   1.276418   5.335561  \n0  73.305389  76.355835  \n1  68.225845  71.914993  \n2  66.502022  67.780556  \n3  63.005474   63.76688  \n4  58.016098  61.773037  \n5  57.989506  59.095627  \n0         NA         NA  \n1         NA         NA  \n2         NA         NA  \n3         NA         NA  \n4         NA         NA  ",
      "text/html": "<div>\n<style scoped>\n    .dataframe tbody tr th:only-of-type {\n        vertical-align: middle;\n    }\n\n    .dataframe tbody tr th {\n        vertical-align: top;\n    }\n\n    .dataframe thead th {\n        text-align: right;\n    }\n</style>\n<table border=\"1\" class=\"dataframe\">\n  <thead>\n    <tr style=\"text-align: right;\">\n      <th></th>\n      <th>forecast_date</th>\n      <th>target</th>\n      <th>horizon</th>\n      <th>q0.025</th>\n      <th>q0.25</th>\n      <th>q0.5</th>\n      <th>q0.75</th>\n      <th>q0.975</th>\n    </tr>\n  </thead>\n  <tbody>\n    <tr>\n      <th>0</th>\n      <td>2024-02-14</td>\n      <td>DAX</td>\n      <td>1 day</td>\n      <td>-2.667255</td>\n      <td>-0.514372</td>\n      <td>0.086239</td>\n      <td>0.700145</td>\n      <td>2.554884</td>\n    </tr>\n    <tr>\n      <th>1</th>\n      <td>2024-02-14</td>\n      <td>DAX</td>\n      <td>2 day</td>\n      <td>-3.93428</td>\n      <td>-1.102562</td>\n      <td>-0.277393</td>\n      <td>0.541144</td>\n      <td>2.92216</td>\n    </tr>\n    <tr>\n      <th>2</th>\n      <td>2024-02-14</td>\n      <td>DAX</td>\n      <td>5 day</td>\n      <td>-4.164009</td>\n      <td>-0.974828</td>\n      <td>0.020392</td>\n      <td>0.998615</td>\n      <td>4.007587</td>\n    </tr>\n    <tr>\n      <th>3</th>\n      <td>2024-02-14</td>\n      <td>DAX</td>\n      <td>6 day</td>\n      <td>-4.851532</td>\n      <td>-1.119393</td>\n      <td>-0.0603</td>\n      <td>1.064952</td>\n      <td>4.523879</td>\n    </tr>\n    <tr>\n      <th>4</th>\n      <td>2024-02-14</td>\n      <td>DAX</td>\n      <td>7 day</td>\n      <td>-4.954584</td>\n      <td>-1.093656</td>\n      <td>0.12568</td>\n      <td>1.276418</td>\n      <td>5.335561</td>\n    </tr>\n    <tr>\n      <th>0</th>\n      <td>2024-02-14</td>\n      <td>energy</td>\n      <td>36 hour</td>\n      <td>64.045959</td>\n      <td>68.483833</td>\n      <td>71.04702</td>\n      <td>73.305389</td>\n      <td>76.355835</td>\n    </tr>\n    <tr>\n      <th>1</th>\n      <td>2024-02-14</td>\n      <td>energy</td>\n      <td>40 hour</td>\n      <td>59.859379</td>\n      <td>63.551311</td>\n      <td>66.540077</td>\n      <td>68.225845</td>\n      <td>71.914993</td>\n    </tr>\n    <tr>\n      <th>2</th>\n      <td>2024-02-14</td>\n      <td>energy</td>\n      <td>44 hour</td>\n      <td>60.06562</td>\n      <td>62.567818</td>\n      <td>65.188622</td>\n      <td>66.502022</td>\n      <td>67.780556</td>\n    </tr>\n    <tr>\n      <th>3</th>\n      <td>2024-02-14</td>\n      <td>energy</td>\n      <td>60 hour</td>\n      <td>57.069286</td>\n      <td>59.15398</td>\n      <td>60.861267</td>\n      <td>63.005474</td>\n      <td>63.76688</td>\n    </tr>\n    <tr>\n      <th>4</th>\n      <td>2024-02-14</td>\n      <td>energy</td>\n      <td>64 hour</td>\n      <td>52.906685</td>\n      <td>54.493233</td>\n      <td>55.423454</td>\n      <td>58.016098</td>\n      <td>61.773037</td>\n    </tr>\n    <tr>\n      <th>5</th>\n      <td>2024-02-14</td>\n      <td>energy</td>\n      <td>68 hour</td>\n      <td>53.354237</td>\n      <td>56.130596</td>\n      <td>56.151104</td>\n      <td>57.989506</td>\n      <td>59.095627</td>\n    </tr>\n    <tr>\n      <th>0</th>\n      <td>2024-02-14</td>\n      <td>infections</td>\n      <td>0 week</td>\n      <td>NA</td>\n      <td>NA</td>\n      <td>NA</td>\n      <td>NA</td>\n      <td>NA</td>\n    </tr>\n    <tr>\n      <th>1</th>\n      <td>2024-02-14</td>\n      <td>infections</td>\n      <td>1 week</td>\n      <td>NA</td>\n      <td>NA</td>\n      <td>NA</td>\n      <td>NA</td>\n      <td>NA</td>\n    </tr>\n    <tr>\n      <th>2</th>\n      <td>2024-02-14</td>\n      <td>infections</td>\n      <td>2 week</td>\n      <td>NA</td>\n      <td>NA</td>\n      <td>NA</td>\n      <td>NA</td>\n      <td>NA</td>\n    </tr>\n    <tr>\n      <th>3</th>\n      <td>2024-02-14</td>\n      <td>infections</td>\n      <td>3 week</td>\n      <td>NA</td>\n      <td>NA</td>\n      <td>NA</td>\n      <td>NA</td>\n      <td>NA</td>\n    </tr>\n    <tr>\n      <th>4</th>\n      <td>2024-02-14</td>\n      <td>infections</td>\n      <td>4 week</td>\n      <td>NA</td>\n      <td>NA</td>\n      <td>NA</td>\n      <td>NA</td>\n      <td>NA</td>\n    </tr>\n  </tbody>\n</table>\n</div>"
     },
     "execution_count": 30,
     "metadata": {},
     "output_type": "execute_result"
    }
   ],
   "source": [
    "df"
   ],
   "metadata": {
    "collapsed": false,
    "ExecuteTime": {
     "end_time": "2024-02-14T22:53:34.036778Z",
     "start_time": "2024-02-14T22:53:33.913911Z"
    }
   },
   "id": "43fcaad03ad71b36"
  },
  {
   "cell_type": "code",
   "execution_count": 31,
   "outputs": [],
   "source": [
    "df.to_csv('../../forecasts/20240214_JonSnow.csv',index=False)"
   ],
   "metadata": {
    "collapsed": false,
    "ExecuteTime": {
     "end_time": "2024-02-14T22:53:34.037659Z",
     "start_time": "2024-02-14T22:53:33.931079Z"
    }
   },
   "id": "efed0bf38425c25b"
  },
  {
   "cell_type": "code",
   "execution_count": 32,
   "outputs": [
    {
     "data": {
      "text/plain": "  forecast_date      target  horizon     q0.025      q0.25       q0.5  \\\n0    2024-02-14         DAX    1 day  -2.667255  -0.514372   0.086239   \n1    2024-02-14         DAX    2 day   -3.93428  -1.102562  -0.277393   \n2    2024-02-14         DAX    5 day  -4.164009  -0.974828   0.020392   \n3    2024-02-14         DAX    6 day  -4.851532  -1.119393    -0.0603   \n4    2024-02-14         DAX    7 day  -4.954584  -1.093656    0.12568   \n0    2024-02-14      energy  36 hour  64.045959  68.483833   71.04702   \n1    2024-02-14      energy  40 hour  59.859379  63.551311  66.540077   \n2    2024-02-14      energy  44 hour   60.06562  62.567818  65.188622   \n3    2024-02-14      energy  60 hour  57.069286   59.15398  60.861267   \n4    2024-02-14      energy  64 hour  52.906685  54.493233  55.423454   \n5    2024-02-14      energy  68 hour  53.354237  56.130596  56.151104   \n0    2024-02-14  infections   0 week         NA         NA         NA   \n1    2024-02-14  infections   1 week         NA         NA         NA   \n2    2024-02-14  infections   2 week         NA         NA         NA   \n3    2024-02-14  infections   3 week         NA         NA         NA   \n4    2024-02-14  infections   4 week         NA         NA         NA   \n\n       q0.75     q0.975  \n0   0.700145   2.554884  \n1   0.541144    2.92216  \n2   0.998615   4.007587  \n3   1.064952   4.523879  \n4   1.276418   5.335561  \n0  73.305389  76.355835  \n1  68.225845  71.914993  \n2  66.502022  67.780556  \n3  63.005474   63.76688  \n4  58.016098  61.773037  \n5  57.989506  59.095627  \n0         NA         NA  \n1         NA         NA  \n2         NA         NA  \n3         NA         NA  \n4         NA         NA  ",
      "text/html": "<div>\n<style scoped>\n    .dataframe tbody tr th:only-of-type {\n        vertical-align: middle;\n    }\n\n    .dataframe tbody tr th {\n        vertical-align: top;\n    }\n\n    .dataframe thead th {\n        text-align: right;\n    }\n</style>\n<table border=\"1\" class=\"dataframe\">\n  <thead>\n    <tr style=\"text-align: right;\">\n      <th></th>\n      <th>forecast_date</th>\n      <th>target</th>\n      <th>horizon</th>\n      <th>q0.025</th>\n      <th>q0.25</th>\n      <th>q0.5</th>\n      <th>q0.75</th>\n      <th>q0.975</th>\n    </tr>\n  </thead>\n  <tbody>\n    <tr>\n      <th>0</th>\n      <td>2024-02-14</td>\n      <td>DAX</td>\n      <td>1 day</td>\n      <td>-2.667255</td>\n      <td>-0.514372</td>\n      <td>0.086239</td>\n      <td>0.700145</td>\n      <td>2.554884</td>\n    </tr>\n    <tr>\n      <th>1</th>\n      <td>2024-02-14</td>\n      <td>DAX</td>\n      <td>2 day</td>\n      <td>-3.93428</td>\n      <td>-1.102562</td>\n      <td>-0.277393</td>\n      <td>0.541144</td>\n      <td>2.92216</td>\n    </tr>\n    <tr>\n      <th>2</th>\n      <td>2024-02-14</td>\n      <td>DAX</td>\n      <td>5 day</td>\n      <td>-4.164009</td>\n      <td>-0.974828</td>\n      <td>0.020392</td>\n      <td>0.998615</td>\n      <td>4.007587</td>\n    </tr>\n    <tr>\n      <th>3</th>\n      <td>2024-02-14</td>\n      <td>DAX</td>\n      <td>6 day</td>\n      <td>-4.851532</td>\n      <td>-1.119393</td>\n      <td>-0.0603</td>\n      <td>1.064952</td>\n      <td>4.523879</td>\n    </tr>\n    <tr>\n      <th>4</th>\n      <td>2024-02-14</td>\n      <td>DAX</td>\n      <td>7 day</td>\n      <td>-4.954584</td>\n      <td>-1.093656</td>\n      <td>0.12568</td>\n      <td>1.276418</td>\n      <td>5.335561</td>\n    </tr>\n    <tr>\n      <th>0</th>\n      <td>2024-02-14</td>\n      <td>energy</td>\n      <td>36 hour</td>\n      <td>64.045959</td>\n      <td>68.483833</td>\n      <td>71.04702</td>\n      <td>73.305389</td>\n      <td>76.355835</td>\n    </tr>\n    <tr>\n      <th>1</th>\n      <td>2024-02-14</td>\n      <td>energy</td>\n      <td>40 hour</td>\n      <td>59.859379</td>\n      <td>63.551311</td>\n      <td>66.540077</td>\n      <td>68.225845</td>\n      <td>71.914993</td>\n    </tr>\n    <tr>\n      <th>2</th>\n      <td>2024-02-14</td>\n      <td>energy</td>\n      <td>44 hour</td>\n      <td>60.06562</td>\n      <td>62.567818</td>\n      <td>65.188622</td>\n      <td>66.502022</td>\n      <td>67.780556</td>\n    </tr>\n    <tr>\n      <th>3</th>\n      <td>2024-02-14</td>\n      <td>energy</td>\n      <td>60 hour</td>\n      <td>57.069286</td>\n      <td>59.15398</td>\n      <td>60.861267</td>\n      <td>63.005474</td>\n      <td>63.76688</td>\n    </tr>\n    <tr>\n      <th>4</th>\n      <td>2024-02-14</td>\n      <td>energy</td>\n      <td>64 hour</td>\n      <td>52.906685</td>\n      <td>54.493233</td>\n      <td>55.423454</td>\n      <td>58.016098</td>\n      <td>61.773037</td>\n    </tr>\n    <tr>\n      <th>5</th>\n      <td>2024-02-14</td>\n      <td>energy</td>\n      <td>68 hour</td>\n      <td>53.354237</td>\n      <td>56.130596</td>\n      <td>56.151104</td>\n      <td>57.989506</td>\n      <td>59.095627</td>\n    </tr>\n    <tr>\n      <th>0</th>\n      <td>2024-02-14</td>\n      <td>infections</td>\n      <td>0 week</td>\n      <td>NA</td>\n      <td>NA</td>\n      <td>NA</td>\n      <td>NA</td>\n      <td>NA</td>\n    </tr>\n    <tr>\n      <th>1</th>\n      <td>2024-02-14</td>\n      <td>infections</td>\n      <td>1 week</td>\n      <td>NA</td>\n      <td>NA</td>\n      <td>NA</td>\n      <td>NA</td>\n      <td>NA</td>\n    </tr>\n    <tr>\n      <th>2</th>\n      <td>2024-02-14</td>\n      <td>infections</td>\n      <td>2 week</td>\n      <td>NA</td>\n      <td>NA</td>\n      <td>NA</td>\n      <td>NA</td>\n      <td>NA</td>\n    </tr>\n    <tr>\n      <th>3</th>\n      <td>2024-02-14</td>\n      <td>infections</td>\n      <td>3 week</td>\n      <td>NA</td>\n      <td>NA</td>\n      <td>NA</td>\n      <td>NA</td>\n      <td>NA</td>\n    </tr>\n    <tr>\n      <th>4</th>\n      <td>2024-02-14</td>\n      <td>infections</td>\n      <td>4 week</td>\n      <td>NA</td>\n      <td>NA</td>\n      <td>NA</td>\n      <td>NA</td>\n      <td>NA</td>\n    </tr>\n  </tbody>\n</table>\n</div>"
     },
     "execution_count": 32,
     "metadata": {},
     "output_type": "execute_result"
    }
   ],
   "source": [
    "df"
   ],
   "metadata": {
    "collapsed": false,
    "ExecuteTime": {
     "end_time": "2024-02-14T22:53:34.105971Z",
     "start_time": "2024-02-14T22:53:33.949379Z"
    }
   },
   "id": "8400a3744c12f88c"
  },
  {
   "cell_type": "code",
   "execution_count": null,
   "outputs": [],
   "source": [],
   "metadata": {
    "collapsed": false
   },
   "id": "83f164d714af2e8a"
  }
 ],
 "metadata": {
  "kernelspec": {
   "display_name": "Python 3",
   "language": "python",
   "name": "python3"
  },
  "language_info": {
   "codemirror_mode": {
    "name": "ipython",
    "version": 2
   },
   "file_extension": ".py",
   "mimetype": "text/x-python",
   "name": "python",
   "nbconvert_exporter": "python",
   "pygments_lexer": "ipython2",
   "version": "2.7.6"
  }
 },
 "nbformat": 4,
 "nbformat_minor": 5
}
