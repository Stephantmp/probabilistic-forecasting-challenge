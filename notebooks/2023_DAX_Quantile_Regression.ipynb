{
 "cells": [
  {
   "cell_type": "code",
   "execution_count": 1,
   "outputs": [],
   "source": [
    "import pandas as pd\n",
    "import numpy as np\n",
    "import matplotlib.pyplot as plt\n",
    "import seaborn as sns\n",
    "import yfinance as yf\n",
    "import statsmodels.formula.api as smf\n",
    "from statsmodels.tools import add_constant"
   ],
   "metadata": {
    "collapsed": false,
    "ExecuteTime": {
     "end_time": "2023-11-18T15:56:32.872990Z",
     "start_time": "2023-11-18T15:56:32.701266Z"
    }
   },
   "id": "affd35b3e30f7298"
  },
  {
   "cell_type": "code",
   "execution_count": 2,
   "outputs": [
    {
     "ename": "NameError",
     "evalue": "name 'get_DAX' is not defined",
     "output_type": "error",
     "traceback": [
      "\u001B[0;31m---------------------------------------------------------------------------\u001B[0m",
      "\u001B[0;31mNameError\u001B[0m                                 Traceback (most recent call last)",
      "Cell \u001B[0;32mIn[2], line 1\u001B[0m\n\u001B[0;32m----> 1\u001B[0m hist \u001B[38;5;241m=\u001B[39m \u001B[43mget_DAX\u001B[49m\u001B[38;5;241m.\u001B[39mget_data()\n\u001B[1;32m      2\u001B[0m tau \u001B[38;5;241m=\u001B[39m [\u001B[38;5;241m.025\u001B[39m, \u001B[38;5;241m.25\u001B[39m, \u001B[38;5;241m.5\u001B[39m, \u001B[38;5;241m.75\u001B[39m, \u001B[38;5;241m.975\u001B[39m]\n",
      "\u001B[0;31mNameError\u001B[0m: name 'get_DAX' is not defined"
     ]
    }
   ],
   "source": [
    "def compute_return(y, r_type=\"log\", h=1):\n",
    "    if r_type == \"log\":\n",
    "        ret = (np.log(y) - np.log(y.shift(h))) * 100\n",
    "    else:\n",
    "        ret = ((y - y.shift(h)) / y.shift(h)) * 100\n",
    "    return ret\n"
   ],
   "metadata": {
    "collapsed": false,
    "ExecuteTime": {
     "end_time": "2023-11-18T15:56:38.128042Z",
     "start_time": "2023-11-18T15:56:37.599162Z"
    }
   },
   "id": "a9f53b29f7559e41"
  },
  {
   "cell_type": "code",
   "execution_count": 3,
   "outputs": [],
   "source": [
    "import yfinance as yf\n",
    "\n",
    "msft = yf.Ticker(\"^GDAXI\")"
   ],
   "metadata": {
    "collapsed": false,
    "ExecuteTime": {
     "end_time": "2023-11-15T22:15:42.606292Z",
     "start_time": "2023-11-15T22:15:42.603202Z"
    }
   },
   "id": "84234b4f041a6460"
  },
  {
   "cell_type": "code",
   "execution_count": 4,
   "outputs": [],
   "source": [
    "hist = msft.history(period=\"max\")"
   ],
   "metadata": {
    "collapsed": false,
    "ExecuteTime": {
     "end_time": "2023-11-15T22:15:42.972874Z",
     "start_time": "2023-11-15T22:15:42.606527Z"
    }
   },
   "id": "ba9f2d8cf65815aa"
  },
  {
   "cell_type": "code",
   "execution_count": 5,
   "outputs": [],
   "source": [
    "for i in range(5):\n",
    "    hist[\"ret\"+str(i+1)] = compute_return(hist[\"Close\"], h=i+1)\n"
   ],
   "metadata": {
    "collapsed": false,
    "ExecuteTime": {
     "end_time": "2023-11-15T22:15:42.980409Z",
     "start_time": "2023-11-15T22:15:42.973729Z"
    }
   },
   "id": "902f4ae53b65259f"
  },
  {
   "cell_type": "code",
   "execution_count": 6,
   "outputs": [
    {
     "data": {
      "text/plain": "                                   Open          High           Low  \\\nDate                                                                  \n2023-11-09 00:00:00+01:00  15246.500000  15364.490234  15212.990234   \n2023-11-10 00:00:00+01:00  15296.580078  15309.519531  15171.580078   \n2023-11-13 00:00:00+01:00  15285.120117  15346.790039  15252.269531   \n2023-11-14 00:00:00+01:00  15358.589844  15632.440430  15337.599609   \n2023-11-15 00:00:00+01:00  15631.669922  15759.839844  15628.190430   \n\n                                  Close    Volume  Dividends  Stock Splits  \\\nDate                                                                         \n2023-11-09 00:00:00+01:00  15352.540039  68377100        0.0           0.0   \n2023-11-10 00:00:00+01:00  15234.389648  77014100        0.0           0.0   \n2023-11-13 00:00:00+01:00  15345.000000  65170400        0.0           0.0   \n2023-11-14 00:00:00+01:00  15614.429688  98894400        0.0           0.0   \n2023-11-15 00:00:00+01:00  15748.169922         0        0.0           0.0   \n\n                               ret1      ret2      ret3      ret4      ret5  \nDate                                                                         \n2023-11-09 00:00:00+01:00  0.804006  1.310618  1.420692  1.069299  1.370296  \n2023-11-10 00:00:00+01:00 -0.772559  0.031447  0.538060  0.648134  0.296741  \n2023-11-13 00:00:00+01:00  0.723434 -0.049125  0.754881  1.261494  1.371568  \n2023-11-14 00:00:00+01:00  1.740578  2.464012  1.691453  2.495459  3.002072  \n2023-11-15 00:00:00+01:00  0.852870  2.593448  3.316881  2.544323  3.348329  ",
      "text/html": "<div>\n<style scoped>\n    .dataframe tbody tr th:only-of-type {\n        vertical-align: middle;\n    }\n\n    .dataframe tbody tr th {\n        vertical-align: top;\n    }\n\n    .dataframe thead th {\n        text-align: right;\n    }\n</style>\n<table border=\"1\" class=\"dataframe\">\n  <thead>\n    <tr style=\"text-align: right;\">\n      <th></th>\n      <th>Open</th>\n      <th>High</th>\n      <th>Low</th>\n      <th>Close</th>\n      <th>Volume</th>\n      <th>Dividends</th>\n      <th>Stock Splits</th>\n      <th>ret1</th>\n      <th>ret2</th>\n      <th>ret3</th>\n      <th>ret4</th>\n      <th>ret5</th>\n    </tr>\n    <tr>\n      <th>Date</th>\n      <th></th>\n      <th></th>\n      <th></th>\n      <th></th>\n      <th></th>\n      <th></th>\n      <th></th>\n      <th></th>\n      <th></th>\n      <th></th>\n      <th></th>\n      <th></th>\n    </tr>\n  </thead>\n  <tbody>\n    <tr>\n      <th>2023-11-09 00:00:00+01:00</th>\n      <td>15246.500000</td>\n      <td>15364.490234</td>\n      <td>15212.990234</td>\n      <td>15352.540039</td>\n      <td>68377100</td>\n      <td>0.0</td>\n      <td>0.0</td>\n      <td>0.804006</td>\n      <td>1.310618</td>\n      <td>1.420692</td>\n      <td>1.069299</td>\n      <td>1.370296</td>\n    </tr>\n    <tr>\n      <th>2023-11-10 00:00:00+01:00</th>\n      <td>15296.580078</td>\n      <td>15309.519531</td>\n      <td>15171.580078</td>\n      <td>15234.389648</td>\n      <td>77014100</td>\n      <td>0.0</td>\n      <td>0.0</td>\n      <td>-0.772559</td>\n      <td>0.031447</td>\n      <td>0.538060</td>\n      <td>0.648134</td>\n      <td>0.296741</td>\n    </tr>\n    <tr>\n      <th>2023-11-13 00:00:00+01:00</th>\n      <td>15285.120117</td>\n      <td>15346.790039</td>\n      <td>15252.269531</td>\n      <td>15345.000000</td>\n      <td>65170400</td>\n      <td>0.0</td>\n      <td>0.0</td>\n      <td>0.723434</td>\n      <td>-0.049125</td>\n      <td>0.754881</td>\n      <td>1.261494</td>\n      <td>1.371568</td>\n    </tr>\n    <tr>\n      <th>2023-11-14 00:00:00+01:00</th>\n      <td>15358.589844</td>\n      <td>15632.440430</td>\n      <td>15337.599609</td>\n      <td>15614.429688</td>\n      <td>98894400</td>\n      <td>0.0</td>\n      <td>0.0</td>\n      <td>1.740578</td>\n      <td>2.464012</td>\n      <td>1.691453</td>\n      <td>2.495459</td>\n      <td>3.002072</td>\n    </tr>\n    <tr>\n      <th>2023-11-15 00:00:00+01:00</th>\n      <td>15631.669922</td>\n      <td>15759.839844</td>\n      <td>15628.190430</td>\n      <td>15748.169922</td>\n      <td>0</td>\n      <td>0.0</td>\n      <td>0.0</td>\n      <td>0.852870</td>\n      <td>2.593448</td>\n      <td>3.316881</td>\n      <td>2.544323</td>\n      <td>3.348329</td>\n    </tr>\n  </tbody>\n</table>\n</div>"
     },
     "execution_count": 6,
     "metadata": {},
     "output_type": "execute_result"
    }
   ],
   "source": [
    "hist.tail()"
   ],
   "metadata": {
    "collapsed": false,
    "ExecuteTime": {
     "end_time": "2023-11-15T22:15:42.995338Z",
     "start_time": "2023-11-15T22:15:42.985208Z"
    }
   },
   "id": "274e8fe3207ad11c"
  },
  {
   "cell_type": "code",
   "execution_count": 7,
   "outputs": [],
   "source": [
    "# Create lagged returns as independent variables\n",
    "for i in range(1, 6):\n",
    "    hist[f'lag_ret{i}'] = hist['Close'].shift(i)\n",
    "\n",
    "# Remove rows with NaN values that result from lagging\n",
    "hist.dropna(inplace=True)\n",
    "\n",
    "# Quantile levels\n",
    "tau = [.025, .25, .5, .75, .975]"
   ],
   "metadata": {
    "collapsed": false,
    "ExecuteTime": {
     "end_time": "2023-11-15T22:15:43.032840Z",
     "start_time": "2023-11-15T22:15:42.996704Z"
    }
   },
   "id": "f7af1d121a8b519a"
  },
  {
   "cell_type": "code",
   "execution_count": 8,
   "outputs": [],
   "source": [
    "pred_quantile_regression = np.zeros((5, 5))"
   ],
   "metadata": {
    "collapsed": false,
    "ExecuteTime": {
     "end_time": "2023-11-15T22:15:43.101600Z",
     "start_time": "2023-11-15T22:15:43.003961Z"
    }
   },
   "id": "8c0f63fe97a03f97"
  },
  {
   "cell_type": "code",
   "execution_count": 9,
   "outputs": [
    {
     "name": "stderr",
     "output_type": "stream",
     "text": [
      "/var/folders/y3/h1kjcg6j0wj3crmk4m1ff0380000gn/T/ipykernel_90340/204857745.py:14: FutureWarning: Series.__getitem__ treating keys as positions is deprecated. In a future version, integer keys will always be treated as labels (consistent with DataFrame behavior). To access a value by position, use `ser.iloc[pos]`\n",
      "  pred_quantile_regression[i, j] = res.predict(X.iloc[-1:])[0]\n",
      "/var/folders/y3/h1kjcg6j0wj3crmk4m1ff0380000gn/T/ipykernel_90340/204857745.py:14: FutureWarning: Series.__getitem__ treating keys as positions is deprecated. In a future version, integer keys will always be treated as labels (consistent with DataFrame behavior). To access a value by position, use `ser.iloc[pos]`\n",
      "  pred_quantile_regression[i, j] = res.predict(X.iloc[-1:])[0]\n",
      "/var/folders/y3/h1kjcg6j0wj3crmk4m1ff0380000gn/T/ipykernel_90340/204857745.py:14: FutureWarning: Series.__getitem__ treating keys as positions is deprecated. In a future version, integer keys will always be treated as labels (consistent with DataFrame behavior). To access a value by position, use `ser.iloc[pos]`\n",
      "  pred_quantile_regression[i, j] = res.predict(X.iloc[-1:])[0]\n",
      "/var/folders/y3/h1kjcg6j0wj3crmk4m1ff0380000gn/T/ipykernel_90340/204857745.py:14: FutureWarning: Series.__getitem__ treating keys as positions is deprecated. In a future version, integer keys will always be treated as labels (consistent with DataFrame behavior). To access a value by position, use `ser.iloc[pos]`\n",
      "  pred_quantile_regression[i, j] = res.predict(X.iloc[-1:])[0]\n",
      "/var/folders/y3/h1kjcg6j0wj3crmk4m1ff0380000gn/T/ipykernel_90340/204857745.py:14: FutureWarning: Series.__getitem__ treating keys as positions is deprecated. In a future version, integer keys will always be treated as labels (consistent with DataFrame behavior). To access a value by position, use `ser.iloc[pos]`\n",
      "  pred_quantile_regression[i, j] = res.predict(X.iloc[-1:])[0]\n",
      "/var/folders/y3/h1kjcg6j0wj3crmk4m1ff0380000gn/T/ipykernel_90340/204857745.py:14: FutureWarning: Series.__getitem__ treating keys as positions is deprecated. In a future version, integer keys will always be treated as labels (consistent with DataFrame behavior). To access a value by position, use `ser.iloc[pos]`\n",
      "  pred_quantile_regression[i, j] = res.predict(X.iloc[-1:])[0]\n",
      "/var/folders/y3/h1kjcg6j0wj3crmk4m1ff0380000gn/T/ipykernel_90340/204857745.py:14: FutureWarning: Series.__getitem__ treating keys as positions is deprecated. In a future version, integer keys will always be treated as labels (consistent with DataFrame behavior). To access a value by position, use `ser.iloc[pos]`\n",
      "  pred_quantile_regression[i, j] = res.predict(X.iloc[-1:])[0]\n",
      "/var/folders/y3/h1kjcg6j0wj3crmk4m1ff0380000gn/T/ipykernel_90340/204857745.py:14: FutureWarning: Series.__getitem__ treating keys as positions is deprecated. In a future version, integer keys will always be treated as labels (consistent with DataFrame behavior). To access a value by position, use `ser.iloc[pos]`\n",
      "  pred_quantile_regression[i, j] = res.predict(X.iloc[-1:])[0]\n",
      "/var/folders/y3/h1kjcg6j0wj3crmk4m1ff0380000gn/T/ipykernel_90340/204857745.py:14: FutureWarning: Series.__getitem__ treating keys as positions is deprecated. In a future version, integer keys will always be treated as labels (consistent with DataFrame behavior). To access a value by position, use `ser.iloc[pos]`\n",
      "  pred_quantile_regression[i, j] = res.predict(X.iloc[-1:])[0]\n",
      "/var/folders/y3/h1kjcg6j0wj3crmk4m1ff0380000gn/T/ipykernel_90340/204857745.py:14: FutureWarning: Series.__getitem__ treating keys as positions is deprecated. In a future version, integer keys will always be treated as labels (consistent with DataFrame behavior). To access a value by position, use `ser.iloc[pos]`\n",
      "  pred_quantile_regression[i, j] = res.predict(X.iloc[-1:])[0]\n",
      "/var/folders/y3/h1kjcg6j0wj3crmk4m1ff0380000gn/T/ipykernel_90340/204857745.py:14: FutureWarning: Series.__getitem__ treating keys as positions is deprecated. In a future version, integer keys will always be treated as labels (consistent with DataFrame behavior). To access a value by position, use `ser.iloc[pos]`\n",
      "  pred_quantile_regression[i, j] = res.predict(X.iloc[-1:])[0]\n",
      "/var/folders/y3/h1kjcg6j0wj3crmk4m1ff0380000gn/T/ipykernel_90340/204857745.py:14: FutureWarning: Series.__getitem__ treating keys as positions is deprecated. In a future version, integer keys will always be treated as labels (consistent with DataFrame behavior). To access a value by position, use `ser.iloc[pos]`\n",
      "  pred_quantile_regression[i, j] = res.predict(X.iloc[-1:])[0]\n",
      "/var/folders/y3/h1kjcg6j0wj3crmk4m1ff0380000gn/T/ipykernel_90340/204857745.py:14: FutureWarning: Series.__getitem__ treating keys as positions is deprecated. In a future version, integer keys will always be treated as labels (consistent with DataFrame behavior). To access a value by position, use `ser.iloc[pos]`\n",
      "  pred_quantile_regression[i, j] = res.predict(X.iloc[-1:])[0]\n",
      "/var/folders/y3/h1kjcg6j0wj3crmk4m1ff0380000gn/T/ipykernel_90340/204857745.py:14: FutureWarning: Series.__getitem__ treating keys as positions is deprecated. In a future version, integer keys will always be treated as labels (consistent with DataFrame behavior). To access a value by position, use `ser.iloc[pos]`\n",
      "  pred_quantile_regression[i, j] = res.predict(X.iloc[-1:])[0]\n",
      "/var/folders/y3/h1kjcg6j0wj3crmk4m1ff0380000gn/T/ipykernel_90340/204857745.py:14: FutureWarning: Series.__getitem__ treating keys as positions is deprecated. In a future version, integer keys will always be treated as labels (consistent with DataFrame behavior). To access a value by position, use `ser.iloc[pos]`\n",
      "  pred_quantile_regression[i, j] = res.predict(X.iloc[-1:])[0]\n",
      "/var/folders/y3/h1kjcg6j0wj3crmk4m1ff0380000gn/T/ipykernel_90340/204857745.py:14: FutureWarning: Series.__getitem__ treating keys as positions is deprecated. In a future version, integer keys will always be treated as labels (consistent with DataFrame behavior). To access a value by position, use `ser.iloc[pos]`\n",
      "  pred_quantile_regression[i, j] = res.predict(X.iloc[-1:])[0]\n",
      "/var/folders/y3/h1kjcg6j0wj3crmk4m1ff0380000gn/T/ipykernel_90340/204857745.py:14: FutureWarning: Series.__getitem__ treating keys as positions is deprecated. In a future version, integer keys will always be treated as labels (consistent with DataFrame behavior). To access a value by position, use `ser.iloc[pos]`\n",
      "  pred_quantile_regression[i, j] = res.predict(X.iloc[-1:])[0]\n",
      "/var/folders/y3/h1kjcg6j0wj3crmk4m1ff0380000gn/T/ipykernel_90340/204857745.py:14: FutureWarning: Series.__getitem__ treating keys as positions is deprecated. In a future version, integer keys will always be treated as labels (consistent with DataFrame behavior). To access a value by position, use `ser.iloc[pos]`\n",
      "  pred_quantile_regression[i, j] = res.predict(X.iloc[-1:])[0]\n",
      "/var/folders/y3/h1kjcg6j0wj3crmk4m1ff0380000gn/T/ipykernel_90340/204857745.py:14: FutureWarning: Series.__getitem__ treating keys as positions is deprecated. In a future version, integer keys will always be treated as labels (consistent with DataFrame behavior). To access a value by position, use `ser.iloc[pos]`\n",
      "  pred_quantile_regression[i, j] = res.predict(X.iloc[-1:])[0]\n",
      "/var/folders/y3/h1kjcg6j0wj3crmk4m1ff0380000gn/T/ipykernel_90340/204857745.py:14: FutureWarning: Series.__getitem__ treating keys as positions is deprecated. In a future version, integer keys will always be treated as labels (consistent with DataFrame behavior). To access a value by position, use `ser.iloc[pos]`\n",
      "  pred_quantile_regression[i, j] = res.predict(X.iloc[-1:])[0]\n",
      "/var/folders/y3/h1kjcg6j0wj3crmk4m1ff0380000gn/T/ipykernel_90340/204857745.py:14: FutureWarning: Series.__getitem__ treating keys as positions is deprecated. In a future version, integer keys will always be treated as labels (consistent with DataFrame behavior). To access a value by position, use `ser.iloc[pos]`\n",
      "  pred_quantile_regression[i, j] = res.predict(X.iloc[-1:])[0]\n",
      "/var/folders/y3/h1kjcg6j0wj3crmk4m1ff0380000gn/T/ipykernel_90340/204857745.py:14: FutureWarning: Series.__getitem__ treating keys as positions is deprecated. In a future version, integer keys will always be treated as labels (consistent with DataFrame behavior). To access a value by position, use `ser.iloc[pos]`\n",
      "  pred_quantile_regression[i, j] = res.predict(X.iloc[-1:])[0]\n",
      "/var/folders/y3/h1kjcg6j0wj3crmk4m1ff0380000gn/T/ipykernel_90340/204857745.py:14: FutureWarning: Series.__getitem__ treating keys as positions is deprecated. In a future version, integer keys will always be treated as labels (consistent with DataFrame behavior). To access a value by position, use `ser.iloc[pos]`\n",
      "  pred_quantile_regression[i, j] = res.predict(X.iloc[-1:])[0]\n",
      "/var/folders/y3/h1kjcg6j0wj3crmk4m1ff0380000gn/T/ipykernel_90340/204857745.py:14: FutureWarning: Series.__getitem__ treating keys as positions is deprecated. In a future version, integer keys will always be treated as labels (consistent with DataFrame behavior). To access a value by position, use `ser.iloc[pos]`\n",
      "  pred_quantile_regression[i, j] = res.predict(X.iloc[-1:])[0]\n",
      "/var/folders/y3/h1kjcg6j0wj3crmk4m1ff0380000gn/T/ipykernel_90340/204857745.py:14: FutureWarning: Series.__getitem__ treating keys as positions is deprecated. In a future version, integer keys will always be treated as labels (consistent with DataFrame behavior). To access a value by position, use `ser.iloc[pos]`\n",
      "  pred_quantile_regression[i, j] = res.predict(X.iloc[-1:])[0]\n"
     ]
    }
   ],
   "source": [
    "# Perform quantile regression for each horizon and quantile\n",
    "for i in range(5):\n",
    "    ret_str = f\"ret{i+1}\"\n",
    "    y = hist[ret_str]  # Dependent variable\n",
    "    X = hist[[f'lag_ret{j}' for j in range(1, 6)]]  # Independent variables\n",
    "    X = add_constant(X)  # Adds a constant term to the predictors\n",
    "\n",
    "    for j, q in enumerate(tau):\n",
    "        # Fit the model for the q-th quantile\n",
    "        mod = smf.quantreg(f'{ret_str} ~ lag_ret1 + lag_ret2 + lag_ret3 + lag_ret4 + lag_ret5', hist)\n",
    "        res = mod.fit(q=q)\n",
    "        \n",
    "        # Predict the quantile for the last observation\n",
    "        pred_quantile_regression[i, j] = res.predict(X.iloc[-1:])[0]"
   ],
   "metadata": {
    "collapsed": false,
    "ExecuteTime": {
     "end_time": "2023-11-15T22:15:49.321956Z",
     "start_time": "2023-11-15T22:15:43.010153Z"
    }
   },
   "id": "94d3f0dc9585de01"
  },
  {
   "cell_type": "code",
   "execution_count": 10,
   "outputs": [
    {
     "data": {
      "text/plain": "<Figure size 640x480 with 1 Axes>",
      "image/png": "[encoded data removed]"
     },
     "metadata": {},
     "output_type": "display_data"
    }
   ],
   "source": [
    "x = np.arange(5)+1\n",
    "_ = plt.plot(x,pred_quantile_regression, ls=\"\", marker=\"o\", c=\"black\")\n",
    "_ = plt.xticks(x, x)\n",
    "_ = plt.plot((x,x),(pred_quantile_regression[:,0], pred_quantile_regression[:,-1]),c='black')"
   ],
   "metadata": {
    "collapsed": false,
    "ExecuteTime": {
     "end_time": "2023-11-15T22:15:49.527497Z",
     "start_time": "2023-11-15T22:15:49.318943Z"
    }
   },
   "id": "29fecf1323555689"
  },
  {
   "cell_type": "code",
   "execution_count": 11,
   "outputs": [],
   "source": [
    "from datetime import datetime, date\n",
    "date_str = date.today() #.strftime('%Y%m%d')\n"
   ],
   "metadata": {
    "collapsed": false,
    "ExecuteTime": {
     "end_time": "2023-11-15T22:15:49.534970Z",
     "start_time": "2023-11-15T22:15:49.525832Z"
    }
   },
   "id": "b7c03c93e9caf903"
  },
  {
   "cell_type": "code",
   "execution_count": 12,
   "outputs": [],
   "source": [
    "df_sub = pd.DataFrame({\n",
    "    \"forecast_date\": date_str,\n",
    "    \"target\": \"DAX\",\n",
    "    \"horizon\": [str(i) + \" day\" for i in (1, 2, 5, 6, 7)],\n",
    "    \"q0.025\": pred_quantile_regression[:, 0],\n",
    "    \"q0.25\": pred_quantile_regression[:, 1],\n",
    "    \"q0.5\": pred_quantile_regression[:, 2],\n",
    "    \"q0.75\": pred_quantile_regression[:, 3],\n",
    "    \"q0.975\": pred_quantile_regression[:, 4]\n",
    "})"
   ],
   "metadata": {
    "collapsed": false,
    "ExecuteTime": {
     "end_time": "2023-11-15T22:15:49.540679Z",
     "start_time": "2023-11-15T22:15:49.531878Z"
    }
   },
   "id": "c7c291997303af8c"
  },
  {
   "cell_type": "code",
   "execution_count": 13,
   "outputs": [
    {
     "data": {
      "text/plain": "  forecast_date target horizon    q0.025     q0.25      q0.5     q0.75  \\\n0    2023-11-15    DAX   1 day -1.752752 -0.377896 -0.056233  0.388798   \n1    2023-11-15    DAX   2 day  1.323756  2.707983  3.099314  3.497059   \n2    2023-11-15    DAX   5 day  2.448305  3.942753  4.370179  4.659071   \n3    2023-11-15    DAX   6 day  0.901371  2.544323  3.017148  3.279382   \n4    2023-11-15    DAX   7 day  2.225363  3.874377  4.350506  4.525232   \n\n     q0.975  \n0  1.457286  \n1  4.887584  \n2  5.926100  \n3  4.402033  \n4  5.882428  ",
      "text/html": "<div>\n<style scoped>\n    .dataframe tbody tr th:only-of-type {\n        vertical-align: middle;\n    }\n\n    .dataframe tbody tr th {\n        vertical-align: top;\n    }\n\n    .dataframe thead th {\n        text-align: right;\n    }\n</style>\n<table border=\"1\" class=\"dataframe\">\n  <thead>\n    <tr style=\"text-align: right;\">\n      <th></th>\n      <th>forecast_date</th>\n      <th>target</th>\n      <th>horizon</th>\n      <th>q0.025</th>\n      <th>q0.25</th>\n      <th>q0.5</th>\n      <th>q0.75</th>\n      <th>q0.975</th>\n    </tr>\n  </thead>\n  <tbody>\n    <tr>\n      <th>0</th>\n      <td>2023-11-15</td>\n      <td>DAX</td>\n      <td>1 day</td>\n      <td>-1.752752</td>\n      <td>-0.377896</td>\n      <td>-0.056233</td>\n      <td>0.388798</td>\n      <td>1.457286</td>\n    </tr>\n    <tr>\n      <th>1</th>\n      <td>2023-11-15</td>\n      <td>DAX</td>\n      <td>2 day</td>\n      <td>1.323756</td>\n      <td>2.707983</td>\n      <td>3.099314</td>\n      <td>3.497059</td>\n      <td>4.887584</td>\n    </tr>\n    <tr>\n      <th>2</th>\n      <td>2023-11-15</td>\n      <td>DAX</td>\n      <td>5 day</td>\n      <td>2.448305</td>\n      <td>3.942753</td>\n      <td>4.370179</td>\n      <td>4.659071</td>\n      <td>5.926100</td>\n    </tr>\n    <tr>\n      <th>3</th>\n      <td>2023-11-15</td>\n      <td>DAX</td>\n      <td>6 day</td>\n      <td>0.901371</td>\n      <td>2.544323</td>\n      <td>3.017148</td>\n      <td>3.279382</td>\n      <td>4.402033</td>\n    </tr>\n    <tr>\n      <th>4</th>\n      <td>2023-11-15</td>\n      <td>DAX</td>\n      <td>7 day</td>\n      <td>2.225363</td>\n      <td>3.874377</td>\n      <td>4.350506</td>\n      <td>4.525232</td>\n      <td>5.882428</td>\n    </tr>\n  </tbody>\n</table>\n</div>"
     },
     "execution_count": 13,
     "metadata": {},
     "output_type": "execute_result"
    }
   ],
   "source": [
    "df_sub"
   ],
   "metadata": {
    "collapsed": false,
    "ExecuteTime": {
     "end_time": "2023-11-15T22:15:49.587434Z",
     "start_time": "2023-11-15T22:15:49.540287Z"
    }
   },
   "id": "41a5ea4f4c4f76d5"
  },
  {
   "cell_type": "code",
   "execution_count": 14,
   "outputs": [],
   "source": [
    "#need to change this\n",
    "PATH = \"../forecasts\"\n",
    "date_str = datetime.today().strftime('%Y%m%d')\n",
    "df_sub.to_csv(PATH+\"/\"+date_str+\"DAX_Quantile_Regression.csv\",index=False)"
   ],
   "metadata": {
    "collapsed": false,
    "ExecuteTime": {
     "end_time": "2023-11-15T22:15:49.587583Z",
     "start_time": "2023-11-15T22:15:49.550128Z"
    }
   },
   "id": "db5621d228cf9d56"
  },
  {
   "cell_type": "code",
   "execution_count": 14,
   "outputs": [],
   "source": [],
   "metadata": {
    "collapsed": false,
    "ExecuteTime": {
     "end_time": "2023-11-15T22:15:49.587638Z",
     "start_time": "2023-11-15T22:15:49.560506Z"
    }
   },
   "id": "3060b6e9dd2f9752"
  }
 ],
 "metadata": {
  "kernelspec": {
   "display_name": "Python 3",
   "language": "python",
   "name": "python3"
  },
  "language_info": {
   "codemirror_mode": {
    "name": "ipython",
    "version": 2
   },
   "file_extension": ".py",
   "mimetype": "text/x-python",
   "name": "python",
   "nbconvert_exporter": "python",
   "pygments_lexer": "ipython2",
   "version": "2.7.6"
  }
 },
 "nbformat": 4,
 "nbformat_minor": 5
}
