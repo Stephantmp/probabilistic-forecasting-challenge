{
 "cells": [
  {
   "cell_type": "code",
   "execution_count": 7,
   "id": "3d7236e6-7751-4928-9a79-124c5835761f",
   "metadata": {
    "ExecuteTime": {
     "end_time": "2023-11-18T16:01:54.073325Z",
     "start_time": "2023-11-18T16:01:53.923475Z"
    }
   },
   "outputs": [],
   "source": [
    "import pandas as pd\n",
    "import numpy as np\n",
    "import matplotlib.pyplot as plt\n",
    "import seaborn as sns"
   ]
  },
  {
   "cell_type": "code",
   "execution_count": 8,
   "id": "529d881c-9e66-44be-9a91-a51ec467d426",
   "metadata": {
    "ExecuteTime": {
     "end_time": "2023-11-18T16:01:54.344290Z",
     "start_time": "2023-11-18T16:01:53.942970Z"
    }
   },
   "outputs": [],
   "source": [
    "#by hand, runs faster\n",
    "def compute_return(y, r_type=\"log\", h=1):\n",
    "    \n",
    "    # exclude first h observations\n",
    "    y2 = y[h:]\n",
    "    # exclude last h observations\n",
    "    y1 = y[:-h]\n",
    "    \n",
    "    if r_type == \"log\":\n",
    "        ret = np.concatenate(([np.nan]*h, 100 * (np.log(y2) - np.log(y1))))\n",
    "    else:\n",
    "        ret = np.concatenate(([np.nan]*h, 100 * (y2-y1)/y1))\n",
    "        \n",
    "    return ret\n",
    "\n",
    "#pythonic alternative (however: slower) to do the same thing:\n",
    "def compute_return_2(df, r_type=\"log\", h=1):\n",
    "    \n",
    "    if r_type == \"log\":\n",
    "        return (np.log(df) - np.log(df.shift(h))) * 100\n",
    "    else:\n",
    "        return ((df-df.shift(h))/df) * 100 "
   ]
  },
  {
   "cell_type": "code",
   "execution_count": 9,
   "id": "7c1325d1-328c-4fc5-b7e7-2fb0dfa2bf71",
   "metadata": {
    "ExecuteTime": {
     "end_time": "2023-11-18T16:01:54.359485Z",
     "start_time": "2023-11-18T16:01:54.354438Z"
    }
   },
   "outputs": [
    {
     "data": {
      "text/plain": "                                  Open         High          Low        Close  \\\nDate                                                                            \n1988-01-08 00:00:00+01:00  1026.689941  1026.689941  1026.689941  1026.689941   \n1988-01-11 00:00:00+01:00   987.520020   987.520020   987.520020   987.520020   \n1988-01-12 00:00:00+01:00   986.890015   986.890015   986.890015   986.890015   \n1988-01-13 00:00:00+01:00   965.770020   965.770020   965.770020   965.770020   \n1988-01-14 00:00:00+01:00   974.460022   974.460022   974.460022   974.460022   \n\n                           Volume  Dividends  Stock Splits      ret1  \\\nDate                                                                   \n1988-01-08 00:00:00+01:00       0        0.0           0.0  1.197370   \n1988-01-11 00:00:00+01:00       0        0.0           0.0 -3.889849   \n1988-01-12 00:00:00+01:00       0        0.0           0.0 -0.063817   \n1988-01-13 00:00:00+01:00       0        0.0           0.0 -2.163287   \n1988-01-14 00:00:00+01:00       0        0.0           0.0  0.895776   \n\n                               ret2      ret3      ret4      ret5  \\\nDate                                                                \n1988-01-08 00:00:00+01:00  2.034796  3.024763  7.082493  2.116340   \n1988-01-11 00:00:00+01:00 -2.692479 -1.855053 -0.865086  3.192645   \n1988-01-12 00:00:00+01:00 -3.953666 -2.756296 -1.918870 -0.928903   \n1988-01-13 00:00:00+01:00 -2.227104 -6.116953 -4.919583 -4.082157   \n1988-01-14 00:00:00+01:00 -1.267511 -1.331328 -5.221176 -4.023806   \n\n                              lag_ret1     lag_ret2     lag_ret3     lag_ret4  \\\nDate                                                                            \n1988-01-08 00:00:00+01:00  1014.469971  1006.010010   996.099976   956.489990   \n1988-01-11 00:00:00+01:00  1026.689941  1014.469971  1006.010010   996.099976   \n1988-01-12 00:00:00+01:00   987.520020  1026.689941  1014.469971  1006.010010   \n1988-01-13 00:00:00+01:00   986.890015   987.520020  1026.689941  1014.469971   \n1988-01-14 00:00:00+01:00   965.770020   986.890015   987.520020  1026.689941   \n\n                              lag_ret5  \nDate                                    \n1988-01-08 00:00:00+01:00  1005.190002  \n1988-01-11 00:00:00+01:00   956.489990  \n1988-01-12 00:00:00+01:00   996.099976  \n1988-01-13 00:00:00+01:00  1006.010010  \n1988-01-14 00:00:00+01:00  1014.469971  ",
      "text/html": "<div>\n<style scoped>\n    .dataframe tbody tr th:only-of-type {\n        vertical-align: middle;\n    }\n\n    .dataframe tbody tr th {\n        vertical-align: top;\n    }\n\n    .dataframe thead th {\n        text-align: right;\n    }\n</style>\n<table border=\"1\" class=\"dataframe\">\n  <thead>\n    <tr style=\"text-align: right;\">\n      <th></th>\n      <th>Open</th>\n      <th>High</th>\n      <th>Low</th>\n      <th>Close</th>\n      <th>Volume</th>\n      <th>Dividends</th>\n      <th>Stock Splits</th>\n      <th>ret1</th>\n      <th>ret2</th>\n      <th>ret3</th>\n      <th>ret4</th>\n      <th>ret5</th>\n      <th>lag_ret1</th>\n      <th>lag_ret2</th>\n      <th>lag_ret3</th>\n      <th>lag_ret4</th>\n      <th>lag_ret5</th>\n    </tr>\n    <tr>\n      <th>Date</th>\n      <th></th>\n      <th></th>\n      <th></th>\n      <th></th>\n      <th></th>\n      <th></th>\n      <th></th>\n      <th></th>\n      <th></th>\n      <th></th>\n      <th></th>\n      <th></th>\n      <th></th>\n      <th></th>\n      <th></th>\n      <th></th>\n      <th></th>\n    </tr>\n  </thead>\n  <tbody>\n    <tr>\n      <th>1988-01-08 00:00:00+01:00</th>\n      <td>1026.689941</td>\n      <td>1026.689941</td>\n      <td>1026.689941</td>\n      <td>1026.689941</td>\n      <td>0</td>\n      <td>0.0</td>\n      <td>0.0</td>\n      <td>1.197370</td>\n      <td>2.034796</td>\n      <td>3.024763</td>\n      <td>7.082493</td>\n      <td>2.116340</td>\n      <td>1014.469971</td>\n      <td>1006.010010</td>\n      <td>996.099976</td>\n      <td>956.489990</td>\n      <td>1005.190002</td>\n    </tr>\n    <tr>\n      <th>1988-01-11 00:00:00+01:00</th>\n      <td>987.520020</td>\n      <td>987.520020</td>\n      <td>987.520020</td>\n      <td>987.520020</td>\n      <td>0</td>\n      <td>0.0</td>\n      <td>0.0</td>\n      <td>-3.889849</td>\n      <td>-2.692479</td>\n      <td>-1.855053</td>\n      <td>-0.865086</td>\n      <td>3.192645</td>\n      <td>1026.689941</td>\n      <td>1014.469971</td>\n      <td>1006.010010</td>\n      <td>996.099976</td>\n      <td>956.489990</td>\n    </tr>\n    <tr>\n      <th>1988-01-12 00:00:00+01:00</th>\n      <td>986.890015</td>\n      <td>986.890015</td>\n      <td>986.890015</td>\n      <td>986.890015</td>\n      <td>0</td>\n      <td>0.0</td>\n      <td>0.0</td>\n      <td>-0.063817</td>\n      <td>-3.953666</td>\n      <td>-2.756296</td>\n      <td>-1.918870</td>\n      <td>-0.928903</td>\n      <td>987.520020</td>\n      <td>1026.689941</td>\n      <td>1014.469971</td>\n      <td>1006.010010</td>\n      <td>996.099976</td>\n    </tr>\n    <tr>\n      <th>1988-01-13 00:00:00+01:00</th>\n      <td>965.770020</td>\n      <td>965.770020</td>\n      <td>965.770020</td>\n      <td>965.770020</td>\n      <td>0</td>\n      <td>0.0</td>\n      <td>0.0</td>\n      <td>-2.163287</td>\n      <td>-2.227104</td>\n      <td>-6.116953</td>\n      <td>-4.919583</td>\n      <td>-4.082157</td>\n      <td>986.890015</td>\n      <td>987.520020</td>\n      <td>1026.689941</td>\n      <td>1014.469971</td>\n      <td>1006.010010</td>\n    </tr>\n    <tr>\n      <th>1988-01-14 00:00:00+01:00</th>\n      <td>974.460022</td>\n      <td>974.460022</td>\n      <td>974.460022</td>\n      <td>974.460022</td>\n      <td>0</td>\n      <td>0.0</td>\n      <td>0.0</td>\n      <td>0.895776</td>\n      <td>-1.267511</td>\n      <td>-1.331328</td>\n      <td>-5.221176</td>\n      <td>-4.023806</td>\n      <td>965.770020</td>\n      <td>986.890015</td>\n      <td>987.520020</td>\n      <td>1026.689941</td>\n      <td>1014.469971</td>\n    </tr>\n  </tbody>\n</table>\n</div>"
     },
     "execution_count": 9,
     "metadata": {},
     "output_type": "execute_result"
    }
   ],
   "source": [
    "import yfinance as yf\n",
    "\n",
    "msft = yf.Ticker(\"^GDAXI\")"
   ]
  },
  {
   "cell_type": "code",
   "execution_count": 10,
   "id": "62efb5b5-757a-40a4-a3b2-4e1187e5a8de",
   "metadata": {
    "ExecuteTime": {
     "end_time": "2023-11-18T16:01:54.364293Z",
     "start_time": "2023-11-18T16:01:54.358855Z"
    }
   },
   "outputs": [],
   "source": [
    "hist = msft.history(period=\"max\")"
   ]
  },
  {
   "cell_type": "code",
   "execution_count": 11,
   "id": "dbf623a4-194a-496c-ae01-d86acac3d9d6",
   "metadata": {
    "ExecuteTime": {
     "end_time": "2023-11-18T16:01:54.387210Z",
     "start_time": "2023-11-18T16:01:54.363820Z"
    }
   },
   "outputs": [],
   "source": [
    "for i in range(5):\n",
    "    hist[\"ret\"+str(i+1)] = compute_return(hist[\"Close\"].values, h=i+1)"
   ]
  },
  {
   "cell_type": "code",
   "execution_count": 12,
   "id": "15bf0777-6463-4508-97f4-1e557df68457",
   "metadata": {
    "ExecuteTime": {
     "end_time": "2023-11-18T16:01:54.387728Z",
     "start_time": "2023-11-18T16:01:54.370577Z"
    }
   },
   "outputs": [],
   "source": [
    "hist.tail()"
   ]
  },
  {
   "cell_type": "code",
   "execution_count": 7,
   "id": "bf3ae619-5bdc-4c66-8137-4daa880ce9c7",
   "metadata": {
    "ExecuteTime": {
     "end_time": "2023-11-08T13:49:31.158915Z",
     "start_time": "2023-11-08T13:49:31.148925Z"
    }
   },
   "outputs": [],
   "source": [
    "#quantile levels\n",
    "tau = [.025, .25, .5, .75, .975]"
   ]
  },
  {
   "cell_type": "code",
   "execution_count": 13,
   "id": "8e5ef128-ba07-497d-ab2b-1c7599e86bd0",
   "metadata": {
    "ExecuteTime": {
     "end_time": "2023-11-18T16:01:54.623087Z",
     "start_time": "2023-11-18T16:01:54.376415Z"
    }
   },
   "outputs": [
    {
     "data": {
      "text/plain": "<Figure size 640x480 with 1 Axes>",
      "image/png": "[encoded data removed]"
     },
     "metadata": {},
     "output_type": "display_data"
    }
   ],
   "source": [
    "#define prediction array\n",
    "#cols are quantile levels, rows are horizons\n",
    "pred_baseline = np.zeros((5,5))"
   ]
  },
  {
   "cell_type": "code",
   "execution_count": 9,
   "id": "6033e162-aecf-4e8c-a143-28446cffab0f",
   "metadata": {
    "ExecuteTime": {
     "end_time": "2023-11-08T13:49:31.198933Z",
     "start_time": "2023-11-08T13:49:31.159075Z"
    }
   },
   "outputs": [],
   "source": [
    "last_t = 1000\n",
    "\n",
    "for i in range(5):\n",
    "    ret_str = \"ret\"+str(i+1)\n",
    "    \n",
    "    pred_baseline[i,:] = np.quantile(hist[ret_str].iloc[-last_t:], q=tau)"
   ]
  },
  {
   "cell_type": "markdown",
   "id": "a7c1e0fa-8b06-4233-86b0-09d2f8e589e3",
   "metadata": {
    "ExecuteTime": {
     "end_time": "2023-11-18T16:01:54.623626Z",
     "start_time": "2023-11-18T16:01:54.586967Z"
    }
   },
   "source": [
    "Visualize the results"
   ]
  },
  {
   "cell_type": "code",
   "execution_count": 15,
   "id": "2df653ed-170c-4a79-9c2e-04002faf0965",
   "metadata": {
    "ExecuteTime": {
     "end_time": "2023-11-18T16:01:54.623908Z",
     "start_time": "2023-11-18T16:01:54.593133Z"
    }
   },
   "outputs": [],
   "source": [
    "x = np.arange(5)+1\n",
    "_ = plt.plot(x,pred_baseline, ls=\"\", marker=\"o\", c=\"black\")\n",
    "_ = plt.xticks(x, x)\n",
    "_ = plt.plot((x,x),(pred_baseline[:,0], pred_baseline[:,-1]),c='black')"
   ]
  },
  {
   "cell_type": "markdown",
   "id": "b4bc6e8b-1537-4bc7-8941-7d6ecc7fffb8",
   "metadata": {
    "ExecuteTime": {
     "end_time": "2023-11-18T16:01:54.624119Z",
     "start_time": "2023-11-18T16:01:54.599888Z"
    }
   },
   "source": [
    "Create Submission DataFrame"
   ]
  },
  {
   "cell_type": "code",
   "execution_count": 16,
   "id": "c316a028-c4bf-459b-97e1-d65a38bdc4aa",
   "metadata": {
    "ExecuteTime": {
     "end_time": "2023-11-18T16:01:54.624328Z",
     "start_time": "2023-11-18T16:01:54.610053Z"
    }
   },
   "outputs": [],
   "source": [
    "df_sub = pd.DataFrame({\n",
    "    \"target\": \"DAX\",\n",
    "    \"horizon\": [str(i) + \" day\" for i in (1,2,5,6,7)],\n",
    "    \"q0.025\": pred_baseline[:,0],\n",
    "    \"q0.25\": pred_baseline[:,1],\n",
    "    \"q0.5\": pred_baseline[:,2],\n",
    "    \"q0.75\": pred_baseline[:,3],\n",
    "    \"q0.975\": pred_baseline[:,4]})\n",
    "df_sub"
   ]
  },
  {
   "cell_type": "code",
   "execution_count": 12,
   "id": "0ee8c6fe-43c9-4a71-b8f0-300a382f59c6",
   "metadata": {
    "ExecuteTime": {
     "end_time": "2023-11-08T13:49:31.334707Z",
     "start_time": "2023-11-08T13:49:31.320434Z"
    }
   },
   "outputs": [],
   "source": [
    "from datetime import datetime\n",
    "date_str = datetime.today().strftime('%Y%m%d')"
   ]
  },
  {
   "cell_type": "code",
   "execution_count": 13,
   "id": "09b49896-ebb0-4649-9443-f794e824388d",
   "metadata": {
    "ExecuteTime": {
     "end_time": "2023-11-08T13:49:31.338403Z",
     "start_time": "2023-11-08T13:49:31.326928Z"
    }
   },
   "outputs": [],
   "source": [
    "#need to change this\n",
    "PATH = \"./\"\n",
    "\n",
    "df_sub.to_csv(PATH+\"/\"+date_str+\"DAX_benchmark.csv\")"
   ]
  },
  {
   "cell_type": "code",
   "execution_count": 13,
   "id": "dfe4ef7a-289d-4d45-99a3-c693e4f26654",
   "metadata": {
    "ExecuteTime": {
     "end_time": "2023-11-08T13:49:31.339931Z",
     "start_time": "2023-11-08T13:49:31.336510Z"
    }
   },
   "outputs": [],
   "source": []
  }
 ],
 "metadata": {
  "kernelspec": {
   "display_name": "Python 3 (ipykernel)",
   "language": "python",
   "name": "python3"
  },
  "language_info": {
   "codemirror_mode": {
    "name": "ipython",
    "version": 3
   },
   "file_extension": ".py",
   "mimetype": "text/x-python",
   "name": "python",
   "nbconvert_exporter": "python",
   "pygments_lexer": "ipython3",
   "version": "3.10.13"
  }
 },
 "nbformat": 4,
 "nbformat_minor": 5
}
