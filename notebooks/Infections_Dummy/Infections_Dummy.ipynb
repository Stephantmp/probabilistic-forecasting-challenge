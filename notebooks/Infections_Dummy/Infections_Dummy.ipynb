{
 "cells": [
  {
   "cell_type": "code",
   "execution_count": 10,
   "id": "initial_id",
   "metadata": {
    "collapsed": true,
    "ExecuteTime": {
     "end_time": "2023-11-08T14:19:23.316715Z",
     "start_time": "2023-11-08T14:19:23.307611Z"
    }
   },
   "outputs": [],
   "source": [
    "from datetime import datetime, date\n",
    "import pandas as pd\n",
    "date_str = date.today() #.strftime('%Y%m%d')"
   ]
  },
  {
   "cell_type": "code",
   "execution_count": 11,
   "outputs": [],
   "source": [
    "df_sub = pd.DataFrame({\n",
    "    \"forecast_date\": date_str,\n",
    "    \"target\": \"infections\",\n",
    "    \"horizon\": [str(i) + \" week\" for i in (1, 2, 3, 4)],\n",
    "    \"q0.025\": \"NA\",\n",
    "    \"q0.25\": \"NA\",\n",
    "    \"q0.5\": \"NA\",\n",
    "    \"q0.75\": \"NA\",\n",
    "    \"q0.975\": \"NA\"\n",
    "})"
   ],
   "metadata": {
    "collapsed": false,
    "ExecuteTime": {
     "end_time": "2023-11-08T14:19:23.317575Z",
     "start_time": "2023-11-08T14:19:23.314054Z"
    }
   },
   "id": "b755b4523ea0db96"
  },
  {
   "cell_type": "code",
   "execution_count": 12,
   "outputs": [
    {
     "data": {
      "text/plain": "  forecast_date      target horizon q0.025 q0.25 q0.5 q0.75 q0.975\n0    2023-11-08  infections  1 week     NA    NA   NA    NA     NA\n1    2023-11-08  infections  2 week     NA    NA   NA    NA     NA\n2    2023-11-08  infections  3 week     NA    NA   NA    NA     NA\n3    2023-11-08  infections  4 week     NA    NA   NA    NA     NA",
      "text/html": "<div>\n<style scoped>\n    .dataframe tbody tr th:only-of-type {\n        vertical-align: middle;\n    }\n\n    .dataframe tbody tr th {\n        vertical-align: top;\n    }\n\n    .dataframe thead th {\n        text-align: right;\n    }\n</style>\n<table border=\"1\" class=\"dataframe\">\n  <thead>\n    <tr style=\"text-align: right;\">\n      <th></th>\n      <th>forecast_date</th>\n      <th>target</th>\n      <th>horizon</th>\n      <th>q0.025</th>\n      <th>q0.25</th>\n      <th>q0.5</th>\n      <th>q0.75</th>\n      <th>q0.975</th>\n    </tr>\n  </thead>\n  <tbody>\n    <tr>\n      <th>0</th>\n      <td>2023-11-08</td>\n      <td>infections</td>\n      <td>1 week</td>\n      <td>NA</td>\n      <td>NA</td>\n      <td>NA</td>\n      <td>NA</td>\n      <td>NA</td>\n    </tr>\n    <tr>\n      <th>1</th>\n      <td>2023-11-08</td>\n      <td>infections</td>\n      <td>2 week</td>\n      <td>NA</td>\n      <td>NA</td>\n      <td>NA</td>\n      <td>NA</td>\n      <td>NA</td>\n    </tr>\n    <tr>\n      <th>2</th>\n      <td>2023-11-08</td>\n      <td>infections</td>\n      <td>3 week</td>\n      <td>NA</td>\n      <td>NA</td>\n      <td>NA</td>\n      <td>NA</td>\n      <td>NA</td>\n    </tr>\n    <tr>\n      <th>3</th>\n      <td>2023-11-08</td>\n      <td>infections</td>\n      <td>4 week</td>\n      <td>NA</td>\n      <td>NA</td>\n      <td>NA</td>\n      <td>NA</td>\n      <td>NA</td>\n    </tr>\n  </tbody>\n</table>\n</div>"
     },
     "execution_count": 12,
     "metadata": {},
     "output_type": "execute_result"
    }
   ],
   "source": [
    "df_sub"
   ],
   "metadata": {
    "collapsed": false,
    "ExecuteTime": {
     "end_time": "2023-11-08T14:19:23.324062Z",
     "start_time": "2023-11-08T14:19:23.320654Z"
    }
   },
   "id": "d8da8f974ab1bc5c"
  },
  {
   "cell_type": "code",
   "execution_count": 13,
   "outputs": [],
   "source": [
    "\n",
    "#need to change this\n",
    "PATH = \"../../forecasts\"\n",
    "date_str = datetime.today().strftime('%Y%m%d')\n",
    "df_sub.to_csv(PATH + \"/\" + date_str + \"dummy_infections.csv\", index=False)"
   ],
   "metadata": {
    "collapsed": false,
    "ExecuteTime": {
     "end_time": "2023-11-08T14:19:23.330742Z",
     "start_time": "2023-11-08T14:19:23.325048Z"
    }
   },
   "id": "6ecad7427ea8b02f"
  },
  {
   "cell_type": "code",
   "execution_count": 13,
   "outputs": [],
   "source": [],
   "metadata": {
    "collapsed": false,
    "ExecuteTime": {
     "end_time": "2023-11-08T14:19:23.348831Z",
     "start_time": "2023-11-08T14:19:23.329199Z"
    }
   },
   "id": "a7aab6fa942319e"
  }
 ],
 "metadata": {
  "kernelspec": {
   "display_name": "Python 3",
   "language": "python",
   "name": "python3"
  },
  "language_info": {
   "codemirror_mode": {
    "name": "ipython",
    "version": 2
   },
   "file_extension": ".py",
   "mimetype": "text/x-python",
   "name": "python",
   "nbconvert_exporter": "python",
   "pygments_lexer": "ipython2",
   "version": "2.7.6"
  }
 },
 "nbformat": 4,
 "nbformat_minor": 5
}
