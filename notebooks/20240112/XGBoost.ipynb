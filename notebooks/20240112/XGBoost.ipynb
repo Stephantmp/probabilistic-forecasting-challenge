{
 "cells": [
  {
   "cell_type": "code",
   "execution_count": 4,
   "outputs": [],
   "source": [
    "import xgboost as xgb\n",
    "import numpy as np\n",
    "import pandas as pd\n",
    "from sklearn.preprocessing import StandardScaler\n",
    "from datetime import datetime, timedelta\n",
    "from functions import get_energy\n",
    "# Assuming functions.extract_features_for_timestamp and get_energy.get() are defined as in your code\n",
    "def extract_features_for_timestamp(timestamp, df):\n",
    "    return [timestamp.hour, timestamp.day, timestamp.month, timestamp.weekday()]\n",
    "def xgb_quantile_grad_hess(quantile, y_true, y_pred):\n",
    "    \"\"\"\n",
    "    Gradient and Hessian for quantile regression with XGBoost.\n",
    "    \"\"\"\n",
    "    # Prediction error\n",
    "    error = y_true - y_pred\n",
    "\n",
    "    # Gradient\n",
    "    grad = np.where(error > 0, -quantile, -(quantile - 1))\n",
    "\n",
    "    # Hessian (second derivative)\n",
    "    hess = np.ones_like(y_pred)\n",
    "\n",
    "    return grad, hess"
   ],
   "metadata": {
    "collapsed": false,
    "ExecuteTime": {
     "end_time": "2024-01-12T15:39:15.850454Z",
     "start_time": "2024-01-12T15:39:15.727935Z"
    }
   },
   "id": "b416e57e5aa0badc"
  },
  {
   "cell_type": "code",
   "execution_count": null,
   "outputs": [],
   "source": [
    "# Data preparation (similar to your LSTM model)\n",
    "df = pd.DataFrame(get_energy.get())  # Or use your input_data"
   ],
   "metadata": {
    "collapsed": false
   },
   "id": "517edc43ff2ad2d0"
  },
  {
   "cell_type": "code",
   "execution_count": 14,
   "outputs": [],
   "source": [
    "feature_columns = ['hour', 'day', 'month', 'week']\n",
    "# extract features\n",
    "df['hour'] = df.index.hour\n",
    "df['day'] = df.index.day\n",
    "df['month'] = df.index.month\n",
    "df['week'] = df.index.weekday\n",
    "X = df[feature_columns].values\n",
    "y = df['gesamt'].values.reshape(-1, 1)\n",
    "horizons = [36, 40, 44, 60, 64, 68]\n",
    "# Scaling\n",
    "scaler_X = StandardScaler()\n",
    "X_scaled = scaler_X.fit_transform(X)\n",
    "\n",
    "scaler_y = StandardScaler()\n",
    "y_scaled = scaler_y.fit_transform(y)\n",
    "\n",
    "# Quantiles to predict\n",
    "quantiles = [0.025, 0.25, 0.5, 0.75, 0.975]\n",
    "\n",
    "# Train XGBoost models for each quantile\n",
    "models = {}\n",
    "for q in quantiles:\n",
    "    model = xgb.XGBRegressor(objective=lambda y_true, y_pred: xgb_quantile_grad_hess(q, y_true, y_pred))\n",
    "    model.fit(X_scaled, y_scaled)\n",
    "    models[q] = model\n",
    "\n",
    "# Prediction for a specific timestamp\n",
    "date_str = datetime.now()\n",
    "future_timestamps = [date_str + timedelta(hours=h) for h in horizons]\n",
    "prediction_inputs = [extract_features_for_timestamp(ts, df) for ts in future_timestamps]\n",
    "prediction_inputs_scaled = scaler_X.transform(prediction_inputs)\n",
    "\n",
    "# Generating predictions\n",
    "predictions = {}\n",
    "for q, model in models.items():\n",
    "    pred_scaled = model.predict(prediction_inputs_scaled)\n",
    "    pred_original_scale = scaler_y.inverse_transform(pred_scaled.reshape(-1, 1))\n",
    "    predictions[q] = pred_original_scale\n",
    "\n",
    "# Format predictions into a DataFrame similar to LSTM model's output\n",
    "# ...\n"
   ],
   "metadata": {
    "collapsed": false,
    "ExecuteTime": {
     "end_time": "2024-01-12T14:37:15.460733Z",
     "start_time": "2024-01-12T14:37:10.530918Z"
    }
   },
   "id": "60e6f4e7a3c02614"
  },
  {
   "cell_type": "code",
   "execution_count": 22,
   "outputs": [
    {
     "name": "stdout",
     "output_type": "stream",
     "text": [
      "  forecast_date  target  horizon     q0.025      q0.25       q0.5      q0.75  \\\n",
      "0    2024-01-12  energy  36 hour  41.588631  45.891453  50.111164  54.336388   \n",
      "1    2024-01-12  energy  40 hour  43.430901  45.711517  48.828651  52.813740   \n",
      "2    2024-01-12  energy  44 hour  54.361748  55.856518  58.676788  61.316986   \n",
      "3    2024-01-12  energy  60 hour  44.453987  48.294262  50.058281  52.012207   \n",
      "4    2024-01-12  energy  64 hour  61.760460  68.863976  70.727318  71.559601   \n",
      "5    2024-01-12  energy  68 hour  65.513321  73.505501  75.737915  75.942764   \n",
      "\n",
      "      q0.975  \n",
      "0  53.313656  \n",
      "1  54.355484  \n",
      "2  63.376110  \n",
      "3  54.552269  \n",
      "4  71.579018  \n",
      "5  77.449783  \n"
     ]
    }
   ],
   "source": [
    "# Assuming 'predictions' is a dictionary with quantiles as keys and arrays of predictions as values\n",
    "\n",
    "# Static base forecast date\n",
    "base_forecast_date = \"2024-01-12\"\n",
    "\n",
    "# Horizons used for prediction\n",
    "horizons = [36, 40, 44, 60, 64, 68]\n",
    "\n",
    "# Initialize DataFrame for static information\n",
    "df_static = pd.DataFrame({\n",
    "    'forecast_date': [base_forecast_date] * len(horizons),\n",
    "    'target': ['energy'] * len(horizons),\n",
    "    'horizon': [f'{h} hour' for h in horizons]\n",
    "})\n",
    "\n",
    "# Initialize DataFrame for quantile predictions\n",
    "df_predictions = pd.DataFrame()\n",
    "\n",
    "# Adding quantile predictions with correctly formatted headers\n",
    "quantile_column_names = [f'q{q}' for q in quantiles]  # Adjusted for correct column naming\n",
    "for col_name, q in zip(quantile_column_names, quantiles):\n",
    "    df_predictions[col_name] = predictions[q].flatten()\n",
    "\n",
    "# Concatenate the static and dynamic parts\n",
    "final_df = pd.concat([df_static.reset_index(drop=True), df_predictions], axis=1)\n",
    "\n",
    "# Displaying the final DataFrame\n",
    "print(final_df)\n"
   ],
   "metadata": {
    "collapsed": false
   },
   "id": "b5c823772c67f49c"
  },
  {
   "cell_type": "code",
   "execution_count": 23,
   "outputs": [
    {
     "data": {
      "text/plain": "  forecast_date  target  horizon     q0.025      q0.25       q0.5      q0.75  \\\n0    2024-01-12  energy  36 hour  41.588631  45.891453  50.111164  54.336388   \n1    2024-01-12  energy  40 hour  43.430901  45.711517  48.828651  52.813740   \n2    2024-01-12  energy  44 hour  54.361748  55.856518  58.676788  61.316986   \n3    2024-01-12  energy  60 hour  44.453987  48.294262  50.058281  52.012207   \n4    2024-01-12  energy  64 hour  61.760460  68.863976  70.727318  71.559601   \n5    2024-01-12  energy  68 hour  65.513321  73.505501  75.737915  75.942764   \n\n      q0.975  \n0  53.313656  \n1  54.355484  \n2  63.376110  \n3  54.552269  \n4  71.579018  \n5  77.449783  ",
      "text/html": "<div>\n<style scoped>\n    .dataframe tbody tr th:only-of-type {\n        vertical-align: middle;\n    }\n\n    .dataframe tbody tr th {\n        vertical-align: top;\n    }\n\n    .dataframe thead th {\n        text-align: right;\n    }\n</style>\n<table border=\"1\" class=\"dataframe\">\n  <thead>\n    <tr style=\"text-align: right;\">\n      <th></th>\n      <th>forecast_date</th>\n      <th>target</th>\n      <th>horizon</th>\n      <th>q0.025</th>\n      <th>q0.25</th>\n      <th>q0.5</th>\n      <th>q0.75</th>\n      <th>q0.975</th>\n    </tr>\n  </thead>\n  <tbody>\n    <tr>\n      <th>0</th>\n      <td>2024-01-12</td>\n      <td>energy</td>\n      <td>36 hour</td>\n      <td>41.588631</td>\n      <td>45.891453</td>\n      <td>50.111164</td>\n      <td>54.336388</td>\n      <td>53.313656</td>\n    </tr>\n    <tr>\n      <th>1</th>\n      <td>2024-01-12</td>\n      <td>energy</td>\n      <td>40 hour</td>\n      <td>43.430901</td>\n      <td>45.711517</td>\n      <td>48.828651</td>\n      <td>52.813740</td>\n      <td>54.355484</td>\n    </tr>\n    <tr>\n      <th>2</th>\n      <td>2024-01-12</td>\n      <td>energy</td>\n      <td>44 hour</td>\n      <td>54.361748</td>\n      <td>55.856518</td>\n      <td>58.676788</td>\n      <td>61.316986</td>\n      <td>63.376110</td>\n    </tr>\n    <tr>\n      <th>3</th>\n      <td>2024-01-12</td>\n      <td>energy</td>\n      <td>60 hour</td>\n      <td>44.453987</td>\n      <td>48.294262</td>\n      <td>50.058281</td>\n      <td>52.012207</td>\n      <td>54.552269</td>\n    </tr>\n    <tr>\n      <th>4</th>\n      <td>2024-01-12</td>\n      <td>energy</td>\n      <td>64 hour</td>\n      <td>61.760460</td>\n      <td>68.863976</td>\n      <td>70.727318</td>\n      <td>71.559601</td>\n      <td>71.579018</td>\n    </tr>\n    <tr>\n      <th>5</th>\n      <td>2024-01-12</td>\n      <td>energy</td>\n      <td>68 hour</td>\n      <td>65.513321</td>\n      <td>73.505501</td>\n      <td>75.737915</td>\n      <td>75.942764</td>\n      <td>77.449783</td>\n    </tr>\n  </tbody>\n</table>\n</div>"
     },
     "execution_count": 23,
     "metadata": {},
     "output_type": "execute_result"
    }
   ],
   "source": [
    "final_df"
   ],
   "metadata": {
    "collapsed": false,
    "ExecuteTime": {
     "end_time": "2024-01-12T15:10:18.526820Z",
     "start_time": "2024-01-12T15:10:18.512640Z"
    }
   },
   "id": "7d4f7d6f90eb68b1"
  },
  {
   "cell_type": "code",
   "execution_count": 26,
   "outputs": [
    {
     "name": "stderr",
     "output_type": "stream",
     "text": [
      "  0%|          | 0/264 [00:00<?, ?it/s]/Users/stephantimpe/PycharmProjects/probabilistic-forecasting-challenge/functions/get_energy.py:28: FutureWarning: The behavior of DataFrame concatenation with empty or all-NA entries is deprecated. In a future version, this will no longer exclude empty or all-NA columns when determining the result dtypes. To retain the old behavior, exclude the relevant entries before the concat operation.\n",
      "  energydata = pd.concat([energydata, pd.DataFrame(rawdata, columns=col_names)])\n",
      "100%|██████████| 264/264 [00:30<00:00,  8.55it/s]\n"
     ]
    },
    {
     "name": "stdout",
     "output_type": "stream",
     "text": [
      "  forecast_date  target  horizon      q0025       q025        q05       q075  \\\n",
      "0    2024-01-12  energy  36 hour  57.466991  58.654144  61.410053  63.266396   \n",
      "1    2024-01-12  energy  40 hour  55.390163  56.997665  59.159149  60.022156   \n",
      "2    2024-01-12  energy  44 hour  54.215191  55.719337  57.671482  59.756744   \n",
      "3    2024-01-12  energy  60 hour  53.756184  57.790195  60.209015  60.499798   \n",
      "4    2024-01-12  energy  64 hour  51.393444  56.076744  59.266396  57.996037   \n",
      "5    2024-01-12  energy  68 hour  53.085033  57.167255  59.830135  59.274750   \n",
      "\n",
      "       q0975  \n",
      "0  66.219917  \n",
      "1  64.365433  \n",
      "2  62.567345  \n",
      "3  62.589691  \n",
      "4  60.572102  \n",
      "5  61.945896  \n"
     ]
    }
   ],
   "source": [
    "import xgboost as xgb\n",
    "import numpy as np\n",
    "import pandas as pd\n",
    "from sklearn.preprocessing import StandardScaler\n",
    "from datetime import datetime, timedelta\n",
    "from functions import get_energy\n",
    "\n",
    "def energy_forecast(date_str, input_data=None):\n",
    "    # Helper function to extract features for a given timestamp\n",
    "    def extract_features_for_timestamp(timestamp, df):\n",
    "        return [timestamp.hour, timestamp.day, timestamp.month, timestamp.weekday()]\n",
    "\n",
    "    # Gradient and Hessian for quantile regression with XGBoost\n",
    "    def xgb_quantile_grad_hess(quantile, y_true, y_pred):\n",
    "        error = y_true - y_pred\n",
    "        grad = np.where(error > 0, -quantile, -(quantile - 1))\n",
    "        hess = np.ones_like(y_pred)\n",
    "        return grad, hess\n",
    "\n",
    "    # Load data\n",
    "    if input_data is None:\n",
    "        df = pd.DataFrame(get_energy.get())\n",
    "    else:\n",
    "        df = pd.DataFrame(input_data)\n",
    "\n",
    "    # Set index as datetime if not already\n",
    "    if not isinstance(df.index, pd.DatetimeIndex):\n",
    "        df['date_time'] = pd.to_datetime(df['date_time'])\n",
    "        df.set_index('date_time', inplace=True)\n",
    "\n",
    "    # Extract features\n",
    "    feature_columns = ['hour', 'day', 'month', 'week']\n",
    "    df['hour'] = df.index.hour\n",
    "    df['day'] = df.index.day\n",
    "    df['month'] = df.index.month\n",
    "    df['week'] = df.index.weekday\n",
    "\n",
    "    # Prepare data for model\n",
    "    X = df[feature_columns].values\n",
    "    y = df['gesamt'].values.reshape(-1, 1)\n",
    "\n",
    "    # Scaling\n",
    "    scaler_X = StandardScaler()\n",
    "    X_scaled = scaler_X.fit_transform(X)\n",
    "\n",
    "    scaler_y = StandardScaler()\n",
    "    y_scaled = scaler_y.fit_transform(y)\n",
    "\n",
    "    # Train models for each quantile\n",
    "    quantiles = [0.025, 0.25, 0.5, 0.75, 0.975]\n",
    "    models = {}\n",
    "    for q in quantiles:\n",
    "        model = xgb.XGBRegressor(objective=lambda y_true, y_pred: xgb_quantile_grad_hess(q, y_true, y_pred))\n",
    "        model.fit(X_scaled, y_scaled)\n",
    "        models[q] = model\n",
    "\n",
    "    # Generate predictions for future timestamps\n",
    "    horizons = [36, 40, 44, 60, 64, 68]\n",
    "    base_date = datetime.strptime(date_str, '%Y-%m-%d')\n",
    "    future_timestamps = [base_date + timedelta(hours=h) for h in horizons]\n",
    "    prediction_inputs = [extract_features_for_timestamp(ts, df) for ts in future_timestamps]\n",
    "    prediction_inputs_scaled = scaler_X.transform(prediction_inputs)\n",
    "\n",
    "    predictions = {}\n",
    "    for q in quantiles:\n",
    "        model = xgb.XGBRegressor(objective=lambda y_true, y_pred: xgb_quantile_grad_hess(q, y_true, y_pred))\n",
    "        model.fit(X_scaled, y_scaled)\n",
    "        pred_scaled = model.predict(prediction_inputs_scaled)\n",
    "        # Check if predictions are valid (not NaN)\n",
    "        if np.isnan(pred_scaled).any():\n",
    "            print(f\"Warning: NaN predictions for quantile {q}\")\n",
    "        else:\n",
    "            pred_original_scale = scaler_y.inverse_transform(pred_scaled.reshape(-1, 1))\n",
    "            predictions[q] = pred_original_scale.flatten()  # Flatten the predictions\n",
    "\n",
    "    # Formatting predictions into DataFrame\n",
    "    if predictions:\n",
    "        df_predictions = pd.DataFrame(predictions)\n",
    "        # Correctly format column names\n",
    "        df_predictions.columns = [f'q{str(q).replace(\"0.\", \"0\")}' for q in quantiles]\n",
    "        final_df = pd.concat([df_static.reset_index(drop=True), df_predictions], axis=1)\n",
    "    else:\n",
    "        print(\"Error: No valid predictions were generated.\")\n",
    "        final_df = pd.DataFrame()\n",
    "\n",
    "    return final_df\n",
    "# Example usage\n",
    "final_df = energy_forecast(\"2024-01-12\")\n",
    "print(final_df)\n"
   ],
   "metadata": {
    "collapsed": false,
    "ExecuteTime": {
     "end_time": "2024-01-12T15:18:31.272991Z",
     "start_time": "2024-01-12T15:17:50.621996Z"
    }
   },
   "id": "b24f34a49eca05e1"
  },
  {
   "cell_type": "code",
   "execution_count": 27,
   "outputs": [
    {
     "data": {
      "text/plain": "  forecast_date  target  horizon      q0025       q025        q05       q075  \\\n0    2024-01-12  energy  36 hour  57.466991  58.654144  61.410053  63.266396   \n1    2024-01-12  energy  40 hour  55.390163  56.997665  59.159149  60.022156   \n2    2024-01-12  energy  44 hour  54.215191  55.719337  57.671482  59.756744   \n3    2024-01-12  energy  60 hour  53.756184  57.790195  60.209015  60.499798   \n4    2024-01-12  energy  64 hour  51.393444  56.076744  59.266396  57.996037   \n5    2024-01-12  energy  68 hour  53.085033  57.167255  59.830135  59.274750   \n\n       q0975  \n0  66.219917  \n1  64.365433  \n2  62.567345  \n3  62.589691  \n4  60.572102  \n5  61.945896  ",
      "text/html": "<div>\n<style scoped>\n    .dataframe tbody tr th:only-of-type {\n        vertical-align: middle;\n    }\n\n    .dataframe tbody tr th {\n        vertical-align: top;\n    }\n\n    .dataframe thead th {\n        text-align: right;\n    }\n</style>\n<table border=\"1\" class=\"dataframe\">\n  <thead>\n    <tr style=\"text-align: right;\">\n      <th></th>\n      <th>forecast_date</th>\n      <th>target</th>\n      <th>horizon</th>\n      <th>q0025</th>\n      <th>q025</th>\n      <th>q05</th>\n      <th>q075</th>\n      <th>q0975</th>\n    </tr>\n  </thead>\n  <tbody>\n    <tr>\n      <th>0</th>\n      <td>2024-01-12</td>\n      <td>energy</td>\n      <td>36 hour</td>\n      <td>57.466991</td>\n      <td>58.654144</td>\n      <td>61.410053</td>\n      <td>63.266396</td>\n      <td>66.219917</td>\n    </tr>\n    <tr>\n      <th>1</th>\n      <td>2024-01-12</td>\n      <td>energy</td>\n      <td>40 hour</td>\n      <td>55.390163</td>\n      <td>56.997665</td>\n      <td>59.159149</td>\n      <td>60.022156</td>\n      <td>64.365433</td>\n    </tr>\n    <tr>\n      <th>2</th>\n      <td>2024-01-12</td>\n      <td>energy</td>\n      <td>44 hour</td>\n      <td>54.215191</td>\n      <td>55.719337</td>\n      <td>57.671482</td>\n      <td>59.756744</td>\n      <td>62.567345</td>\n    </tr>\n    <tr>\n      <th>3</th>\n      <td>2024-01-12</td>\n      <td>energy</td>\n      <td>60 hour</td>\n      <td>53.756184</td>\n      <td>57.790195</td>\n      <td>60.209015</td>\n      <td>60.499798</td>\n      <td>62.589691</td>\n    </tr>\n    <tr>\n      <th>4</th>\n      <td>2024-01-12</td>\n      <td>energy</td>\n      <td>64 hour</td>\n      <td>51.393444</td>\n      <td>56.076744</td>\n      <td>59.266396</td>\n      <td>57.996037</td>\n      <td>60.572102</td>\n    </tr>\n    <tr>\n      <th>5</th>\n      <td>2024-01-12</td>\n      <td>energy</td>\n      <td>68 hour</td>\n      <td>53.085033</td>\n      <td>57.167255</td>\n      <td>59.830135</td>\n      <td>59.274750</td>\n      <td>61.945896</td>\n    </tr>\n  </tbody>\n</table>\n</div>"
     },
     "execution_count": 27,
     "metadata": {},
     "output_type": "execute_result"
    }
   ],
   "source": [
    "final_df"
   ],
   "metadata": {
    "collapsed": false,
    "ExecuteTime": {
     "end_time": "2024-01-12T15:18:37.879036Z",
     "start_time": "2024-01-12T15:18:37.873702Z"
    }
   },
   "id": "1586bb357d594928"
  },
  {
   "cell_type": "code",
   "execution_count": 7,
   "outputs": [],
   "source": [
    "def energy_forecast(input_data=None, date_str=None):\n",
    "    # Helper function to extract features for a given timestamp\n",
    "    def extract_features_for_timestamp(timestamp, df):\n",
    "        return [timestamp.hour, timestamp.day, timestamp.month, timestamp.weekday()]\n",
    "\n",
    "    # Gradient and Hessian for quantile regression with XGBoost\n",
    "    def xgb_quantile_grad_hess(quantile, y_true, y_pred):\n",
    "        error = y_true - y_pred\n",
    "        grad = np.where(error > 0, -quantile, -(quantile - 1))\n",
    "        hess = np.ones_like(y_pred)\n",
    "        return grad, hess\n",
    "\n",
    "    # Load data\n",
    "    if input_data is None:\n",
    "        df = pd.DataFrame(get_energy.get())\n",
    "    else:\n",
    "        df = pd.DataFrame(input_data)\n",
    "\n",
    "    # Set index as datetime if not already\n",
    "    if not isinstance(df.index, pd.DatetimeIndex):\n",
    "        df['date_time'] = pd.to_datetime(df['date_time'])\n",
    "        df.set_index('date_time', inplace=True)\n",
    "\n",
    "    # Extract features\n",
    "    feature_columns = ['hour', 'day', 'month', 'week']\n",
    "    df['hour'] = df.index.hour\n",
    "    df['day'] = df.index.day\n",
    "    df['month'] = df.index.month\n",
    "    df['week'] = df.index.weekday\n",
    "\n",
    "    # Prepare data for model\n",
    "    X = df[feature_columns].values\n",
    "    y = df['gesamt'].values.reshape(-1, 1)\n",
    "\n",
    "    # Scaling\n",
    "    scaler_X = StandardScaler()\n",
    "    X_scaled = scaler_X.fit_transform(X)\n",
    "\n",
    "    scaler_y = StandardScaler()\n",
    "    y_scaled = scaler_y.fit_transform(y)\n",
    "\n",
    "    # Train models for each quantile\n",
    "    quantiles = [0.025, 0.25, 0.5, 0.75, 0.975]\n",
    "    models = {}\n",
    "    for q in quantiles:\n",
    "        model = xgb.XGBRegressor(objective=lambda y_true, y_pred: xgb_quantile_grad_hess(q, y_true, y_pred))\n",
    "        model.fit(X_scaled, y_scaled)\n",
    "        models[q] = model\n",
    "\n",
    "    # Generate predictions for future timestamps\n",
    "    horizons = [36, 40, 44, 60, 64, 68]\n",
    "    base_date = datetime.strptime(date_str, '%Y-%m-%d')\n",
    "    future_timestamps = [base_date + timedelta(hours=h) for h in horizons]\n",
    "    prediction_inputs = [extract_features_for_timestamp(ts, df) for ts in future_timestamps]\n",
    "    prediction_inputs_scaled = scaler_X.transform(prediction_inputs)\n",
    "\n",
    "    predictions = {}\n",
    "    for q in quantiles:\n",
    "        model = xgb.XGBRegressor(objective=lambda y_true, y_pred: xgb_quantile_grad_hess(q, y_true, y_pred))\n",
    "        model.fit(X_scaled, y_scaled)\n",
    "        pred_scaled = model.predict(prediction_inputs_scaled)\n",
    "        # Check if predictions are valid (not NaN)\n",
    "        if np.isnan(pred_scaled).any():\n",
    "            print(f\"Warning: NaN predictions for quantile {q}\")\n",
    "        else:\n",
    "            pred_original_scale = scaler_y.inverse_transform(pred_scaled.reshape(-1, 1))\n",
    "            predictions[q] = pred_original_scale.flatten()  # Flatten the predictions\n",
    "\n",
    "    # Formatting predictions into DataFrame\n",
    "    # Initialize DataFrame for static information\n",
    "    df_static = pd.DataFrame({\n",
    "        'forecast_date': [base_date] * len(horizons),\n",
    "        'target': ['energy'] * len(horizons),\n",
    "        'horizon': [f'{h} hour' for h in horizons]\n",
    "    })\n",
    "    if predictions:\n",
    "        df_predictions = pd.DataFrame(predictions)\n",
    "        # Correctly format column names\n",
    "        df_predictions.columns = [f'q{q}' for q in quantiles]\n",
    "        final_df = pd.concat([df_static.reset_index(drop=True), df_predictions], axis=1)\n",
    "    else:\n",
    "        print(\"Error: No valid predictions were generated.\")\n",
    "        final_df = pd.DataFrame()\n",
    "\n",
    "    return final_df"
   ],
   "metadata": {
    "collapsed": false,
    "ExecuteTime": {
     "end_time": "2024-01-12T15:58:19.099524Z",
     "start_time": "2024-01-12T15:58:19.093731Z"
    }
   },
   "id": "379dbce9c2749ab6"
  },
  {
   "cell_type": "code",
   "execution_count": 8,
   "outputs": [
    {
     "name": "stderr",
     "output_type": "stream",
     "text": [
      "  0%|          | 0/264 [00:00<?, ?it/s]/Users/stephantimpe/PycharmProjects/probabilistic-forecasting-challenge/functions/get_energy.py:28: FutureWarning: The behavior of DataFrame concatenation with empty or all-NA entries is deprecated. In a future version, this will no longer exclude empty or all-NA columns when determining the result dtypes. To retain the old behavior, exclude the relevant entries before the concat operation.\n",
      "  energydata = pd.concat([energydata, pd.DataFrame(rawdata, columns=col_names)])\n",
      "100%|██████████| 264/264 [00:28<00:00,  9.34it/s]\n"
     ]
    }
   ],
   "source": [
    "final_df = energy_forecast(date_str=\"2024-01-12\")"
   ],
   "metadata": {
    "collapsed": false,
    "ExecuteTime": {
     "end_time": "2024-01-12T15:59:06.838101Z",
     "start_time": "2024-01-12T15:58:19.825678Z"
    }
   },
   "id": "a382ee1bc6724520"
  },
  {
   "cell_type": "code",
   "execution_count": 9,
   "outputs": [
    {
     "data": {
      "text/plain": "  forecast_date  target  horizon     q0.025      q0.25       q0.5      q0.75  \\\n0    2024-01-12  energy  36 hour  57.910706  62.421505  60.986145  63.879860   \n1    2024-01-12  energy  40 hour  55.416237  59.611050  59.106674  60.321102   \n2    2024-01-12  energy  44 hour  53.826439  57.689701  58.173233  57.753426   \n3    2024-01-12  energy  60 hour  54.585552  55.605350  56.879314  60.770435   \n4    2024-01-12  energy  64 hour  51.848927  53.309471  56.164444  57.866970   \n5    2024-01-12  energy  68 hour  53.426029  54.252979  56.069691  57.669212   \n\n      q0.975  \n0  66.519417  \n1  64.163994  \n2  62.827110  \n3  62.274242  \n4  60.456570  \n5  62.152622  ",
      "text/html": "<div>\n<style scoped>\n    .dataframe tbody tr th:only-of-type {\n        vertical-align: middle;\n    }\n\n    .dataframe tbody tr th {\n        vertical-align: top;\n    }\n\n    .dataframe thead th {\n        text-align: right;\n    }\n</style>\n<table border=\"1\" class=\"dataframe\">\n  <thead>\n    <tr style=\"text-align: right;\">\n      <th></th>\n      <th>forecast_date</th>\n      <th>target</th>\n      <th>horizon</th>\n      <th>q0.025</th>\n      <th>q0.25</th>\n      <th>q0.5</th>\n      <th>q0.75</th>\n      <th>q0.975</th>\n    </tr>\n  </thead>\n  <tbody>\n    <tr>\n      <th>0</th>\n      <td>2024-01-12</td>\n      <td>energy</td>\n      <td>36 hour</td>\n      <td>57.910706</td>\n      <td>62.421505</td>\n      <td>60.986145</td>\n      <td>63.879860</td>\n      <td>66.519417</td>\n    </tr>\n    <tr>\n      <th>1</th>\n      <td>2024-01-12</td>\n      <td>energy</td>\n      <td>40 hour</td>\n      <td>55.416237</td>\n      <td>59.611050</td>\n      <td>59.106674</td>\n      <td>60.321102</td>\n      <td>64.163994</td>\n    </tr>\n    <tr>\n      <th>2</th>\n      <td>2024-01-12</td>\n      <td>energy</td>\n      <td>44 hour</td>\n      <td>53.826439</td>\n      <td>57.689701</td>\n      <td>58.173233</td>\n      <td>57.753426</td>\n      <td>62.827110</td>\n    </tr>\n    <tr>\n      <th>3</th>\n      <td>2024-01-12</td>\n      <td>energy</td>\n      <td>60 hour</td>\n      <td>54.585552</td>\n      <td>55.605350</td>\n      <td>56.879314</td>\n      <td>60.770435</td>\n      <td>62.274242</td>\n    </tr>\n    <tr>\n      <th>4</th>\n      <td>2024-01-12</td>\n      <td>energy</td>\n      <td>64 hour</td>\n      <td>51.848927</td>\n      <td>53.309471</td>\n      <td>56.164444</td>\n      <td>57.866970</td>\n      <td>60.456570</td>\n    </tr>\n    <tr>\n      <th>5</th>\n      <td>2024-01-12</td>\n      <td>energy</td>\n      <td>68 hour</td>\n      <td>53.426029</td>\n      <td>54.252979</td>\n      <td>56.069691</td>\n      <td>57.669212</td>\n      <td>62.152622</td>\n    </tr>\n  </tbody>\n</table>\n</div>"
     },
     "execution_count": 9,
     "metadata": {},
     "output_type": "execute_result"
    }
   ],
   "source": [
    "final_df"
   ],
   "metadata": {
    "collapsed": false,
    "ExecuteTime": {
     "end_time": "2024-01-12T15:59:06.851599Z",
     "start_time": "2024-01-12T15:59:06.842296Z"
    }
   },
   "id": "3d8e9d9f80231eb4"
  },
  {
   "cell_type": "code",
   "execution_count": 2,
   "outputs": [
    {
     "name": "stderr",
     "output_type": "stream",
     "text": [
      "  0%|          | 0/264 [00:00<?, ?it/s]/Users/stephantimpe/PycharmProjects/probabilistic-forecasting-challenge/functions/get_energy.py:28: FutureWarning: The behavior of DataFrame concatenation with empty or all-NA entries is deprecated. In a future version, this will no longer exclude empty or all-NA columns when determining the result dtypes. To retain the old behavior, exclude the relevant entries before the concat operation.\n",
      "  energydata = pd.concat([energydata, pd.DataFrame(rawdata, columns=col_names)])\n",
      "100%|██████████| 264/264 [00:31<00:00,  8.39it/s]\n"
     ]
    }
   ],
   "source": [
    "final_df = energy_forecast(date_str=\"2024-01-12\")"
   ],
   "metadata": {
    "collapsed": false,
    "ExecuteTime": {
     "end_time": "2024-01-12T15:56:03.254408Z",
     "start_time": "2024-01-12T15:55:11.984777Z"
    }
   },
   "id": "8e78e7b004e7a53b"
  },
  {
   "cell_type": "code",
   "execution_count": 3,
   "outputs": [
    {
     "data": {
      "text/plain": "  forecast_date  target  horizon       0\n0    2024-01-12  energy  36 hour  q0.025\n1    2024-01-12  energy  40 hour   q0.25\n2    2024-01-12  energy  44 hour    q0.5\n3    2024-01-12  energy  60 hour   q0.75\n4    2024-01-12  energy  64 hour  q0.975\n5    2024-01-12  energy  68 hour     NaN",
      "text/html": "<div>\n<style scoped>\n    .dataframe tbody tr th:only-of-type {\n        vertical-align: middle;\n    }\n\n    .dataframe tbody tr th {\n        vertical-align: top;\n    }\n\n    .dataframe thead th {\n        text-align: right;\n    }\n</style>\n<table border=\"1\" class=\"dataframe\">\n  <thead>\n    <tr style=\"text-align: right;\">\n      <th></th>\n      <th>forecast_date</th>\n      <th>target</th>\n      <th>horizon</th>\n      <th>0</th>\n    </tr>\n  </thead>\n  <tbody>\n    <tr>\n      <th>0</th>\n      <td>2024-01-12</td>\n      <td>energy</td>\n      <td>36 hour</td>\n      <td>q0.025</td>\n    </tr>\n    <tr>\n      <th>1</th>\n      <td>2024-01-12</td>\n      <td>energy</td>\n      <td>40 hour</td>\n      <td>q0.25</td>\n    </tr>\n    <tr>\n      <th>2</th>\n      <td>2024-01-12</td>\n      <td>energy</td>\n      <td>44 hour</td>\n      <td>q0.5</td>\n    </tr>\n    <tr>\n      <th>3</th>\n      <td>2024-01-12</td>\n      <td>energy</td>\n      <td>60 hour</td>\n      <td>q0.75</td>\n    </tr>\n    <tr>\n      <th>4</th>\n      <td>2024-01-12</td>\n      <td>energy</td>\n      <td>64 hour</td>\n      <td>q0.975</td>\n    </tr>\n    <tr>\n      <th>5</th>\n      <td>2024-01-12</td>\n      <td>energy</td>\n      <td>68 hour</td>\n      <td>NaN</td>\n    </tr>\n  </tbody>\n</table>\n</div>"
     },
     "execution_count": 3,
     "metadata": {},
     "output_type": "execute_result"
    }
   ],
   "source": [
    "final_df"
   ],
   "metadata": {
    "collapsed": false,
    "ExecuteTime": {
     "end_time": "2024-01-12T15:56:05.781826Z",
     "start_time": "2024-01-12T15:56:05.747625Z"
    }
   },
   "id": "988bff1f498915ab"
  },
  {
   "cell_type": "code",
   "execution_count": null,
   "outputs": [],
   "source": [],
   "metadata": {
    "collapsed": false
   },
   "id": "a20ad73e7eeea794"
  }
 ],
 "metadata": {
  "kernelspec": {
   "display_name": "Python 3",
   "language": "python",
   "name": "python3"
  },
  "language_info": {
   "codemirror_mode": {
    "name": "ipython",
    "version": 2
   },
   "file_extension": ".py",
   "mimetype": "text/x-python",
   "name": "python",
   "nbconvert_exporter": "python",
   "pygments_lexer": "ipython2",
   "version": "2.7.6"
  }
 },
 "nbformat": 4,
 "nbformat_minor": 5
}
