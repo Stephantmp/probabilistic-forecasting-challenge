{
 "cells": [
  {
   "cell_type": "code",
   "execution_count": 1,
   "id": "initial_id",
   "metadata": {
    "collapsed": true,
    "ExecuteTime": {
     "end_time": "2023-11-19T18:03:37.140412Z",
     "start_time": "2023-11-19T18:03:37.129807Z"
    }
   },
   "outputs": [],
   "source": [
    "from functions import get_energy"
   ]
  },
  {
   "cell_type": "code",
   "execution_count": 2,
   "outputs": [
    {
     "name": "stderr",
     "output_type": "stream",
     "text": [
      "  0%|          | 0/256 [00:00<?, ?it/s]/Users/stephantimpe/PycharmProjects/probabilistic-forecasting-challenge/functions/get_energy.py:28: FutureWarning: The behavior of DataFrame concatenation with empty or all-NA entries is deprecated. In a future version, this will no longer exclude empty or all-NA columns when determining the result dtypes. To retain the old behavior, exclude the relevant entries before the concat operation.\n",
      "  energydata = pd.concat([energydata, pd.DataFrame(rawdata, columns=col_names)])\n",
      "100%|██████████| 256/256 [00:31<00:00,  8.00it/s]\n"
     ]
    }
   ],
   "source": [
    "df=get_energy.get()"
   ],
   "metadata": {
    "collapsed": false,
    "ExecuteTime": {
     "end_time": "2023-11-19T18:04:09.911003Z",
     "start_time": "2023-11-19T18:03:37.661751Z"
    }
   },
   "id": "c0d1eb377ac46455"
  },
  {
   "cell_type": "code",
   "execution_count": 3,
   "outputs": [
    {
     "data": {
      "text/plain": "                       gesamt  weekday\ndate_time                             \n2018-12-24 00:00:00  42.02925        0\n2018-12-24 01:00:00  39.61025        0\n2018-12-24 02:00:00  39.13875        0\n2018-12-24 03:00:00  39.42100        0\n2018-12-24 04:00:00  40.74775        0",
      "text/html": "<div>\n<style scoped>\n    .dataframe tbody tr th:only-of-type {\n        vertical-align: middle;\n    }\n\n    .dataframe tbody tr th {\n        vertical-align: top;\n    }\n\n    .dataframe thead th {\n        text-align: right;\n    }\n</style>\n<table border=\"1\" class=\"dataframe\">\n  <thead>\n    <tr style=\"text-align: right;\">\n      <th></th>\n      <th>gesamt</th>\n      <th>weekday</th>\n    </tr>\n    <tr>\n      <th>date_time</th>\n      <th></th>\n      <th></th>\n    </tr>\n  </thead>\n  <tbody>\n    <tr>\n      <th>2018-12-24 00:00:00</th>\n      <td>42.02925</td>\n      <td>0</td>\n    </tr>\n    <tr>\n      <th>2018-12-24 01:00:00</th>\n      <td>39.61025</td>\n      <td>0</td>\n    </tr>\n    <tr>\n      <th>2018-12-24 02:00:00</th>\n      <td>39.13875</td>\n      <td>0</td>\n    </tr>\n    <tr>\n      <th>2018-12-24 03:00:00</th>\n      <td>39.42100</td>\n      <td>0</td>\n    </tr>\n    <tr>\n      <th>2018-12-24 04:00:00</th>\n      <td>40.74775</td>\n      <td>0</td>\n    </tr>\n  </tbody>\n</table>\n</div>"
     },
     "execution_count": 3,
     "metadata": {},
     "output_type": "execute_result"
    }
   ],
   "source": [
    "df.head()"
   ],
   "metadata": {
    "collapsed": false,
    "ExecuteTime": {
     "end_time": "2023-11-19T18:04:29.019870Z",
     "start_time": "2023-11-19T18:04:29.012870Z"
    }
   },
   "id": "3dad2d46623c20a8"
  },
  {
   "cell_type": "code",
   "execution_count": 4,
   "outputs": [
    {
     "name": "stderr",
     "output_type": "stream",
     "text": [
      "  0%|          | 0/256 [00:00<?, ?it/s]/Users/stephantimpe/PycharmProjects/probabilistic-forecasting-challenge/functions/get_energy.py:28: FutureWarning: The behavior of DataFrame concatenation with empty or all-NA entries is deprecated. In a future version, this will no longer exclude empty or all-NA columns when determining the result dtypes. To retain the old behavior, exclude the relevant entries before the concat operation.\n",
      "  energydata = pd.concat([energydata, pd.DataFrame(rawdata, columns=col_names)])\n",
      "100%|██████████| 256/256 [00:33<00:00,  7.62it/s]\n"
     ]
    },
    {
     "name": "stdout",
     "output_type": "stream",
     "text": [
      "                         QuantReg Regression Results                          \n",
      "==============================================================================\n",
      "Dep. Variable:                 gesamt   Pseudo R-squared:               0.5067\n",
      "Model:                       QuantReg   Bandwidth:                      0.6993\n",
      "Method:                 Least Squares   Sparsity:                        11.95\n",
      "Date:                Sun, 19 Nov 2023   No. Observations:                43003\n",
      "Time:                        19:05:24   Df Residuals:                    42967\n",
      "                                        Df Model:                           35\n",
      "==============================================================================\n",
      "                 coef    std err          t      P>|t|      [0.025      0.975]\n",
      "------------------------------------------------------------------------------\n",
      "const         58.7920      0.175    336.249      0.000      58.449      59.135\n",
      "weekday       -1.8483      0.014   -128.300      0.000      -1.877      -1.820\n",
      "month_2        0.4336      0.142      3.055      0.002       0.155       0.712\n",
      "month_3       -3.2361      0.139    -23.362      0.000      -3.508      -2.965\n",
      "month_4       -7.4098      0.140    -53.054      0.000      -7.684      -7.136\n",
      "month_5       -8.9106      0.139    -64.328      0.000      -9.182      -8.639\n",
      "month_6       -9.1390      0.140    -65.434      0.000      -9.413      -8.865\n",
      "month_7       -8.8126      0.139    -63.621      0.000      -9.084      -8.541\n",
      "month_8       -9.9949      0.139    -72.155      0.000     -10.266      -9.723\n",
      "month_9       -8.1096      0.140    -58.064      0.000      -8.383      -7.836\n",
      "month_10      -5.7488      0.139    -41.502      0.000      -6.020      -5.477\n",
      "month_11      -2.7207      0.143    -19.092      0.000      -3.000      -2.441\n",
      "month_12      -3.3692      0.144    -23.328      0.000      -3.652      -3.086\n",
      "hour_1        -1.7652      0.200     -8.845      0.000      -2.156      -1.374\n",
      "hour_2        -2.7044      0.200    -13.551      0.000      -3.096      -2.313\n",
      "hour_3        -2.6767      0.200    -13.412      0.000      -3.068      -2.286\n",
      "hour_4        -1.8900      0.200     -9.470      0.000      -2.281      -1.499\n",
      "hour_5         0.0068      0.200      0.034      0.973      -0.384       0.398\n",
      "hour_6         5.0379      0.200     25.243      0.000       4.647       5.429\n",
      "hour_7        10.1426      0.200     50.821      0.000       9.751      10.534\n",
      "hour_8        13.1008      0.200     65.644      0.000      12.710      13.492\n",
      "hour_9        14.1238      0.200     70.769      0.000      13.733      14.515\n",
      "hour_10       15.1266      0.200     75.794      0.000      14.735      15.518\n",
      "hour_11       16.0744      0.200     80.543      0.000      15.683      16.466\n",
      "hour_12       15.6848      0.200     78.591      0.000      15.294      16.076\n",
      "hour_13       14.4984      0.200     72.647      0.000      14.107      14.890\n",
      "hour_14       13.2150      0.200     66.216      0.000      12.824      13.606\n",
      "hour_15       12.3447      0.200     61.855      0.000      11.954      12.736\n",
      "hour_16       11.6422      0.200     58.335      0.000      11.251      12.033\n",
      "hour_17       12.6164      0.200     63.216      0.000      12.225      13.008\n",
      "hour_18       13.2399      0.200     66.340      0.000      12.849      13.631\n",
      "hour_19       12.6593      0.200     63.422      0.000      12.268      13.050\n",
      "hour_20       10.2599      0.200     51.401      0.000       9.869      10.651\n",
      "hour_21        7.9374      0.200     39.766      0.000       7.546       8.329\n",
      "hour_22        5.5358      0.200     27.734      0.000       5.145       5.927\n",
      "hour_23        2.1266      0.200     10.654      0.000       1.735       2.518\n",
      "==============================================================================\n"
     ]
    }
   ],
   "source": [
    "import pandas as pd\n",
    "import numpy as np\n",
    "import matplotlib.pyplot as plt\n",
    "import seaborn as sns\n",
    "import requests\n",
    "from tqdm import tqdm\n",
    "from datetime import datetime, timedelta\n",
    "from functions import get_energy\n",
    "\n",
    "# Fetching and initial preprocessing of the dataset\n",
    "df = get_energy.get()\n",
    "df.head()\n",
    "\n",
    "# Define the lead times\n",
    "horizons_def = [36, 40, 44, 60, 64, 68]\n",
    "horizons = [h + 1 for h in horizons_def]\n",
    "\n",
    "# Function to calculate future dates based on a horizon\n",
    "def get_date_from_horizon(last_ts, horizon):\n",
    "    return last_ts + pd.DateOffset(hours=horizon)\n",
    "\n",
    "\n",
    "# Adjusting the last date to the nearest Thursday\n",
    "current_date = datetime.now()\n",
    "days_until_thursday = 3 - current_date.weekday()\n",
    "if days_until_thursday < 0:\n",
    "    days_until_thursday += 7\n",
    "thursday_of_current_week = current_date + timedelta(days=days_until_thursday)\n",
    "thursday_of_current_week = thursday_of_current_week.replace(hour=0, minute=0, second=0, microsecond=0)\n",
    "LAST_DATE = thursday_of_current_week\n",
    "\n",
    "# Generating horizon dates\n",
    "horizon_date = [get_date_from_horizon(LAST_DATE, h) for h in horizons]\n",
    "\n",
    "# Define the quantiles for prediction\n",
    "tau = [0.025, 0.25, 0.5, 0.75, 0.975]\n",
    "\n",
    "# Preprocessing for regression\n",
    "df['month'] = df.index.month\n",
    "df['hour'] = df.index.hour\n",
    "month_dummies = pd.get_dummies(df['month'], prefix='month', drop_first=True)\n",
    "hour_dummies = pd.get_dummies(df['hour'], prefix='hour', drop_first=True)\n",
    "df = df.join(month_dummies).join(hour_dummies)\n",
    "\n",
    "# Implementing Quantile Regression\n",
    "import statsmodels.api as sm\n",
    "\n",
    "# Define the independent variables (X) and the dependent variable (y)\n",
    "exclude_columns = ['gesamt', 'month', 'hour']\n",
    "X = df[[col for col in df.columns if col not in exclude_columns]]\n",
    "y = df['gesamt']\n",
    "\n",
    "# Convert data types\n",
    "X = X.apply(pd.to_numeric)\n",
    "y = y.apply(pd.to_numeric)\n",
    "X = X.astype(int)\n",
    "\n",
    "# Add a constant to the model (for the intercept)\n",
    "X = sm.add_constant(X)\n",
    "\n",
    "# Train a model for each quantile\n",
    "quantile_models = {quantile: sm.QuantReg(y, X).fit(q=quantile) for quantile in tau}\n",
    "\n",
    "# Print summary of one of the quantile models (e.g., median model)\n",
    "print(quantile_models[0.5].summary())\n",
    "\n",
    "# Additional steps for visualization or output formatting can be added here"
   ],
   "metadata": {
    "collapsed": false,
    "ExecuteTime": {
     "end_time": "2023-11-19T18:05:24.862079Z",
     "start_time": "2023-11-19T18:04:30.863141Z"
    }
   },
   "id": "d5bc563897cac1eb"
  },
  {
   "cell_type": "code",
   "execution_count": 60,
   "outputs": [
    {
     "data": {
      "text/plain": "   const  weekday  month_2  month_3  month_4  month_5  month_6  month_7  \\\n0    1.0        4        0        0        0        0        0        0   \n1    1.0        4        0        0        0        0        0        0   \n2    1.0        4        0        0        0        0        0        0   \n3    1.0        5        0        0        0        0        0        0   \n4    1.0        5        0        0        0        0        0        0   \n\n   month_8  month_9  ...  hour_14  hour_15  hour_16  hour_17  hour_18  \\\n0        0        0  ...        0        0        0    False        0   \n1        0        0  ...        0        0        0     True        0   \n2        0        0  ...        0        0        0    False        0   \n3        0        0  ...        0        0        0    False        0   \n4        0        0  ...        0        0        0     True        0   \n\n   hour_19  hour_20  hour_21  hour_22  hour_23  \n0        0        0    False        0        0  \n1        0        0    False        0        0  \n2        0        0     True        0        0  \n3        0        0    False        0        0  \n4        0        0    False        0        0  \n\n[5 rows x 36 columns]",
      "text/html": "<div>\n<style scoped>\n    .dataframe tbody tr th:only-of-type {\n        vertical-align: middle;\n    }\n\n    .dataframe tbody tr th {\n        vertical-align: top;\n    }\n\n    .dataframe thead th {\n        text-align: right;\n    }\n</style>\n<table border=\"1\" class=\"dataframe\">\n  <thead>\n    <tr style=\"text-align: right;\">\n      <th></th>\n      <th>const</th>\n      <th>weekday</th>\n      <th>month_2</th>\n      <th>month_3</th>\n      <th>month_4</th>\n      <th>month_5</th>\n      <th>month_6</th>\n      <th>month_7</th>\n      <th>month_8</th>\n      <th>month_9</th>\n      <th>...</th>\n      <th>hour_14</th>\n      <th>hour_15</th>\n      <th>hour_16</th>\n      <th>hour_17</th>\n      <th>hour_18</th>\n      <th>hour_19</th>\n      <th>hour_20</th>\n      <th>hour_21</th>\n      <th>hour_22</th>\n      <th>hour_23</th>\n    </tr>\n  </thead>\n  <tbody>\n    <tr>\n      <th>0</th>\n      <td>1.0</td>\n      <td>4</td>\n      <td>0</td>\n      <td>0</td>\n      <td>0</td>\n      <td>0</td>\n      <td>0</td>\n      <td>0</td>\n      <td>0</td>\n      <td>0</td>\n      <td>...</td>\n      <td>0</td>\n      <td>0</td>\n      <td>0</td>\n      <td>False</td>\n      <td>0</td>\n      <td>0</td>\n      <td>0</td>\n      <td>False</td>\n      <td>0</td>\n      <td>0</td>\n    </tr>\n    <tr>\n      <th>1</th>\n      <td>1.0</td>\n      <td>4</td>\n      <td>0</td>\n      <td>0</td>\n      <td>0</td>\n      <td>0</td>\n      <td>0</td>\n      <td>0</td>\n      <td>0</td>\n      <td>0</td>\n      <td>...</td>\n      <td>0</td>\n      <td>0</td>\n      <td>0</td>\n      <td>True</td>\n      <td>0</td>\n      <td>0</td>\n      <td>0</td>\n      <td>False</td>\n      <td>0</td>\n      <td>0</td>\n    </tr>\n    <tr>\n      <th>2</th>\n      <td>1.0</td>\n      <td>4</td>\n      <td>0</td>\n      <td>0</td>\n      <td>0</td>\n      <td>0</td>\n      <td>0</td>\n      <td>0</td>\n      <td>0</td>\n      <td>0</td>\n      <td>...</td>\n      <td>0</td>\n      <td>0</td>\n      <td>0</td>\n      <td>False</td>\n      <td>0</td>\n      <td>0</td>\n      <td>0</td>\n      <td>True</td>\n      <td>0</td>\n      <td>0</td>\n    </tr>\n    <tr>\n      <th>3</th>\n      <td>1.0</td>\n      <td>5</td>\n      <td>0</td>\n      <td>0</td>\n      <td>0</td>\n      <td>0</td>\n      <td>0</td>\n      <td>0</td>\n      <td>0</td>\n      <td>0</td>\n      <td>...</td>\n      <td>0</td>\n      <td>0</td>\n      <td>0</td>\n      <td>False</td>\n      <td>0</td>\n      <td>0</td>\n      <td>0</td>\n      <td>False</td>\n      <td>0</td>\n      <td>0</td>\n    </tr>\n    <tr>\n      <th>4</th>\n      <td>1.0</td>\n      <td>5</td>\n      <td>0</td>\n      <td>0</td>\n      <td>0</td>\n      <td>0</td>\n      <td>0</td>\n      <td>0</td>\n      <td>0</td>\n      <td>0</td>\n      <td>...</td>\n      <td>0</td>\n      <td>0</td>\n      <td>0</td>\n      <td>True</td>\n      <td>0</td>\n      <td>0</td>\n      <td>0</td>\n      <td>False</td>\n      <td>0</td>\n      <td>0</td>\n    </tr>\n  </tbody>\n</table>\n<p>5 rows × 36 columns</p>\n</div>"
     },
     "execution_count": 60,
     "metadata": {},
     "output_type": "execute_result"
    }
   ],
   "source": [
    "# Create a new DataFrame for the forecast\n",
    "forecast_df = pd.DataFrame()\n",
    "forecast_df = pd.DataFrame({'date_time': horizon_date})\n",
    "# Extract and one-hot encode month and hour from the date_time\n",
    "forecast_df['month'] = forecast_df['date_time'].dt.month\n",
    "forecast_df['hour'] = forecast_df['date_time'].dt.hour\n",
    "forecast_df = forecast_df.join(pd.get_dummies(forecast_df['month'], prefix='month', drop_first=True))\n",
    "forecast_df = forecast_df.join(pd.get_dummies(forecast_df['hour'], prefix='hour', drop_first=True))\n",
    "\n",
    "# Drop the original month and hour columns\n",
    "forecast_df.drop(['month', 'hour'], axis=1, inplace=True)\n",
    "\n",
    "# Add constant and weekday columns\n",
    "forecast_df['const'] = 1.0\n",
    "forecast_df['weekday'] = forecast_df['date_time'].dt.dayofweek\n",
    "\n",
    "# Ensure all columns in X are also in forecast_df\n",
    "for col in X.columns:\n",
    "    if col not in forecast_df.columns and col != 'date_time':\n",
    "        forecast_df[col] = 0\n",
    "\n",
    "# Reorder columns to match X (excluding date_time)\n",
    "forecast_columns = [col for col in X.columns if col != 'date_time']\n",
    "forecast_df = forecast_df[['date_time'] + forecast_columns]\n",
    "forecast_df.drop(['date_time'], axis=1, inplace=True)\n",
    "forecast_df.head()"
   ],
   "metadata": {
    "collapsed": false,
    "ExecuteTime": {
     "end_time": "2023-11-19T19:19:20.830015Z",
     "start_time": "2023-11-19T19:19:20.804922Z"
    }
   },
   "id": "ed7b3b73745d21d7"
  },
  {
   "cell_type": "code",
   "execution_count": 61,
   "outputs": [
    {
     "data": {
      "text/plain": "{0.025: <statsmodels.regression.linear_model.RegressionResultsWrapper at 0x11f605c70>,\n 0.25: <statsmodels.regression.linear_model.RegressionResultsWrapper at 0x11e56b340>,\n 0.5: <statsmodels.regression.linear_model.RegressionResultsWrapper at 0x11f5ecdc0>,\n 0.75: <statsmodels.regression.linear_model.RegressionResultsWrapper at 0x11f5eceb0>,\n 0.975: <statsmodels.regression.linear_model.RegressionResultsWrapper at 0x11f5ecc40>}"
     },
     "execution_count": 61,
     "metadata": {},
     "output_type": "execute_result"
    }
   ],
   "source": [
    "quantile_models"
   ],
   "metadata": {
    "collapsed": false,
    "ExecuteTime": {
     "end_time": "2023-11-19T19:19:21.572138Z",
     "start_time": "2023-11-19T19:19:21.565301Z"
    }
   },
   "id": "9f046fcd11c703e4"
  },
  {
   "cell_type": "code",
   "execution_count": 62,
   "outputs": [],
   "source": [
    "forecast_df2 = forecast_df.copy()"
   ],
   "metadata": {
    "collapsed": false,
    "ExecuteTime": {
     "end_time": "2023-11-19T19:19:22.827018Z",
     "start_time": "2023-11-19T19:19:22.819567Z"
    }
   },
   "id": "c41ccc9a5297a235"
  },
  {
   "cell_type": "code",
   "execution_count": 63,
   "outputs": [
    {
     "data": {
      "text/plain": "\"\\n# Formatting the output\\ndf_sub = pd.DataFrame()\\nfor quantile in tau:\\n    df_sub[f'q{quantile}'] = forecast_df[f'prediction_q{quantile}']\\nprint(df_sub)\\n\""
     },
     "execution_count": 63,
     "metadata": {},
     "output_type": "execute_result"
    }
   ],
   "source": [
    "\n",
    "\n",
    "# Make predictions for each quantile\n",
    "for quantile, model in quantile_models.items():\n",
    "    forecast_var = model.predict(forecast_df)\n",
    "    forecast_df2[f'prediction_q{quantile}'] = forecast_var\n",
    "\n",
    "'''\n",
    "# Formatting the output\n",
    "df_sub = pd.DataFrame()\n",
    "for quantile in tau:\n",
    "    df_sub[f'q{quantile}'] = forecast_df[f'prediction_q{quantile}']\n",
    "print(df_sub)\n",
    "'''"
   ],
   "metadata": {
    "collapsed": false,
    "ExecuteTime": {
     "end_time": "2023-11-19T19:19:23.250008Z",
     "start_time": "2023-11-19T19:19:23.240805Z"
    }
   },
   "id": "cb76c7138e66d4d3"
  },
  {
   "cell_type": "code",
   "execution_count": 64,
   "outputs": [
    {
     "data": {
      "text/plain": "   const  weekday  month_2  month_3  month_4  month_5  month_6  month_7  \\\n0    1.0        4        0        0        0        0        0        0   \n1    1.0        4        0        0        0        0        0        0   \n2    1.0        4        0        0        0        0        0        0   \n3    1.0        5        0        0        0        0        0        0   \n4    1.0        5        0        0        0        0        0        0   \n5    1.0        5        0        0        0        0        0        0   \n\n   month_8  month_9  ...  hour_19  hour_20  hour_21  hour_22  hour_23  \\\n0        0        0  ...        0        0    False        0        0   \n1        0        0  ...        0        0    False        0        0   \n2        0        0  ...        0        0     True        0        0   \n3        0        0  ...        0        0    False        0        0   \n4        0        0  ...        0        0    False        0        0   \n5        0        0  ...        0        0     True        0        0   \n\n   prediction_q0.025  prediction_q0.25  prediction_q0.5  prediction_q0.75  \\\n0          39.669707         47.272252        51.398751         54.550855   \n1          50.648201           59.9643        64.015125         68.887519   \n2          48.918749         56.234627        59.336122         62.736017   \n3          38.680794         45.395227        49.550439         53.117397   \n4          49.659288         58.087275        62.166813         67.454061   \n5          47.929836         54.357603        57.487809         61.302559   \n\n   prediction_q0.975  \n0          57.751813  \n1          74.302375  \n2           66.78625  \n3          56.996875  \n4          73.547438  \n5          66.031313  \n\n[6 rows x 41 columns]",
      "text/html": "<div>\n<style scoped>\n    .dataframe tbody tr th:only-of-type {\n        vertical-align: middle;\n    }\n\n    .dataframe tbody tr th {\n        vertical-align: top;\n    }\n\n    .dataframe thead th {\n        text-align: right;\n    }\n</style>\n<table border=\"1\" class=\"dataframe\">\n  <thead>\n    <tr style=\"text-align: right;\">\n      <th></th>\n      <th>const</th>\n      <th>weekday</th>\n      <th>month_2</th>\n      <th>month_3</th>\n      <th>month_4</th>\n      <th>month_5</th>\n      <th>month_6</th>\n      <th>month_7</th>\n      <th>month_8</th>\n      <th>month_9</th>\n      <th>...</th>\n      <th>hour_19</th>\n      <th>hour_20</th>\n      <th>hour_21</th>\n      <th>hour_22</th>\n      <th>hour_23</th>\n      <th>prediction_q0.025</th>\n      <th>prediction_q0.25</th>\n      <th>prediction_q0.5</th>\n      <th>prediction_q0.75</th>\n      <th>prediction_q0.975</th>\n    </tr>\n  </thead>\n  <tbody>\n    <tr>\n      <th>0</th>\n      <td>1.0</td>\n      <td>4</td>\n      <td>0</td>\n      <td>0</td>\n      <td>0</td>\n      <td>0</td>\n      <td>0</td>\n      <td>0</td>\n      <td>0</td>\n      <td>0</td>\n      <td>...</td>\n      <td>0</td>\n      <td>0</td>\n      <td>False</td>\n      <td>0</td>\n      <td>0</td>\n      <td>39.669707</td>\n      <td>47.272252</td>\n      <td>51.398751</td>\n      <td>54.550855</td>\n      <td>57.751813</td>\n    </tr>\n    <tr>\n      <th>1</th>\n      <td>1.0</td>\n      <td>4</td>\n      <td>0</td>\n      <td>0</td>\n      <td>0</td>\n      <td>0</td>\n      <td>0</td>\n      <td>0</td>\n      <td>0</td>\n      <td>0</td>\n      <td>...</td>\n      <td>0</td>\n      <td>0</td>\n      <td>False</td>\n      <td>0</td>\n      <td>0</td>\n      <td>50.648201</td>\n      <td>59.9643</td>\n      <td>64.015125</td>\n      <td>68.887519</td>\n      <td>74.302375</td>\n    </tr>\n    <tr>\n      <th>2</th>\n      <td>1.0</td>\n      <td>4</td>\n      <td>0</td>\n      <td>0</td>\n      <td>0</td>\n      <td>0</td>\n      <td>0</td>\n      <td>0</td>\n      <td>0</td>\n      <td>0</td>\n      <td>...</td>\n      <td>0</td>\n      <td>0</td>\n      <td>True</td>\n      <td>0</td>\n      <td>0</td>\n      <td>48.918749</td>\n      <td>56.234627</td>\n      <td>59.336122</td>\n      <td>62.736017</td>\n      <td>66.78625</td>\n    </tr>\n    <tr>\n      <th>3</th>\n      <td>1.0</td>\n      <td>5</td>\n      <td>0</td>\n      <td>0</td>\n      <td>0</td>\n      <td>0</td>\n      <td>0</td>\n      <td>0</td>\n      <td>0</td>\n      <td>0</td>\n      <td>...</td>\n      <td>0</td>\n      <td>0</td>\n      <td>False</td>\n      <td>0</td>\n      <td>0</td>\n      <td>38.680794</td>\n      <td>45.395227</td>\n      <td>49.550439</td>\n      <td>53.117397</td>\n      <td>56.996875</td>\n    </tr>\n    <tr>\n      <th>4</th>\n      <td>1.0</td>\n      <td>5</td>\n      <td>0</td>\n      <td>0</td>\n      <td>0</td>\n      <td>0</td>\n      <td>0</td>\n      <td>0</td>\n      <td>0</td>\n      <td>0</td>\n      <td>...</td>\n      <td>0</td>\n      <td>0</td>\n      <td>False</td>\n      <td>0</td>\n      <td>0</td>\n      <td>49.659288</td>\n      <td>58.087275</td>\n      <td>62.166813</td>\n      <td>67.454061</td>\n      <td>73.547438</td>\n    </tr>\n    <tr>\n      <th>5</th>\n      <td>1.0</td>\n      <td>5</td>\n      <td>0</td>\n      <td>0</td>\n      <td>0</td>\n      <td>0</td>\n      <td>0</td>\n      <td>0</td>\n      <td>0</td>\n      <td>0</td>\n      <td>...</td>\n      <td>0</td>\n      <td>0</td>\n      <td>True</td>\n      <td>0</td>\n      <td>0</td>\n      <td>47.929836</td>\n      <td>54.357603</td>\n      <td>57.487809</td>\n      <td>61.302559</td>\n      <td>66.031313</td>\n    </tr>\n  </tbody>\n</table>\n<p>6 rows × 41 columns</p>\n</div>"
     },
     "execution_count": 64,
     "metadata": {},
     "output_type": "execute_result"
    }
   ],
   "source": [
    "forecast_df2"
   ],
   "metadata": {
    "collapsed": false,
    "ExecuteTime": {
     "end_time": "2023-11-19T19:19:31.193492Z",
     "start_time": "2023-11-19T19:19:31.190015Z"
    }
   },
   "id": "34e714c3bb08e1cd"
  },
  {
   "cell_type": "code",
   "execution_count": 65,
   "outputs": [
    {
     "data": {
      "text/plain": "  forecast_date  target  horizon     q0.025      q0.25       q0.5      q0.75  \\\n0    2023-11-19  energy  36 hour  39.669707  47.272252  51.398751  54.550855   \n1    2023-11-19  energy  40 hour  50.648201    59.9643  64.015125  68.887519   \n2    2023-11-19  energy  44 hour  48.918749  56.234627  59.336122  62.736017   \n3    2023-11-19  energy  60 hour  38.680794  45.395227  49.550439  53.117397   \n4    2023-11-19  energy  64 hour  49.659288  58.087275  62.166813  67.454061   \n5    2023-11-19  energy  68 hour  47.929836  54.357603  57.487809  61.302559   \n\n      q0.975  \n0  57.751813  \n1  74.302375  \n2   66.78625  \n3  56.996875  \n4  73.547438  \n5  66.031313  ",
      "text/html": "<div>\n<style scoped>\n    .dataframe tbody tr th:only-of-type {\n        vertical-align: middle;\n    }\n\n    .dataframe tbody tr th {\n        vertical-align: top;\n    }\n\n    .dataframe thead th {\n        text-align: right;\n    }\n</style>\n<table border=\"1\" class=\"dataframe\">\n  <thead>\n    <tr style=\"text-align: right;\">\n      <th></th>\n      <th>forecast_date</th>\n      <th>target</th>\n      <th>horizon</th>\n      <th>q0.025</th>\n      <th>q0.25</th>\n      <th>q0.5</th>\n      <th>q0.75</th>\n      <th>q0.975</th>\n    </tr>\n  </thead>\n  <tbody>\n    <tr>\n      <th>0</th>\n      <td>2023-11-19</td>\n      <td>energy</td>\n      <td>36 hour</td>\n      <td>39.669707</td>\n      <td>47.272252</td>\n      <td>51.398751</td>\n      <td>54.550855</td>\n      <td>57.751813</td>\n    </tr>\n    <tr>\n      <th>1</th>\n      <td>2023-11-19</td>\n      <td>energy</td>\n      <td>40 hour</td>\n      <td>50.648201</td>\n      <td>59.9643</td>\n      <td>64.015125</td>\n      <td>68.887519</td>\n      <td>74.302375</td>\n    </tr>\n    <tr>\n      <th>2</th>\n      <td>2023-11-19</td>\n      <td>energy</td>\n      <td>44 hour</td>\n      <td>48.918749</td>\n      <td>56.234627</td>\n      <td>59.336122</td>\n      <td>62.736017</td>\n      <td>66.78625</td>\n    </tr>\n    <tr>\n      <th>3</th>\n      <td>2023-11-19</td>\n      <td>energy</td>\n      <td>60 hour</td>\n      <td>38.680794</td>\n      <td>45.395227</td>\n      <td>49.550439</td>\n      <td>53.117397</td>\n      <td>56.996875</td>\n    </tr>\n    <tr>\n      <th>4</th>\n      <td>2023-11-19</td>\n      <td>energy</td>\n      <td>64 hour</td>\n      <td>49.659288</td>\n      <td>58.087275</td>\n      <td>62.166813</td>\n      <td>67.454061</td>\n      <td>73.547438</td>\n    </tr>\n    <tr>\n      <th>5</th>\n      <td>2023-11-19</td>\n      <td>energy</td>\n      <td>68 hour</td>\n      <td>47.929836</td>\n      <td>54.357603</td>\n      <td>57.487809</td>\n      <td>61.302559</td>\n      <td>66.031313</td>\n    </tr>\n  </tbody>\n</table>\n</div>"
     },
     "execution_count": 65,
     "metadata": {},
     "output_type": "execute_result"
    }
   ],
   "source": [
    "from datetime import date\n",
    "date_str = date.today()  #- timedelta(days=1)\n",
    "date_str = date_str\n",
    "date_str\n",
    "df_sub = pd.DataFrame({\n",
    "    \"forecast_date\": date_str,\n",
    "    \"target\": \"energy\",\n",
    "    \"horizon\": [str(h) + \" hour\" for h in horizons_def],\n",
    "    \"q0.025\": forecast_df2[\"prediction_q0.025\"],\n",
    "    \"q0.25\": forecast_df2[\"prediction_q0.25\"],\n",
    "    \"q0.5\": forecast_df2[\"prediction_q0.5\"],\n",
    "    \"q0.75\": forecast_df2[\"prediction_q0.75\"],\n",
    "    \"q0.975\": forecast_df2[\"prediction_q0.975\"]})\n",
    "df_sub"
   ],
   "metadata": {
    "collapsed": false,
    "ExecuteTime": {
     "end_time": "2023-11-19T19:27:53.040218Z",
     "start_time": "2023-11-19T19:27:53.024224Z"
    }
   },
   "id": "92f44873f5ed8e56"
  },
  {
   "cell_type": "code",
   "execution_count": null,
   "outputs": [],
   "source": [
    "X.head()"
   ],
   "metadata": {
    "collapsed": false,
    "ExecuteTime": {
     "start_time": "2023-11-19T18:03:15.825698Z"
    }
   },
   "id": "986796823947b28e"
  },
  {
   "cell_type": "code",
   "execution_count": null,
   "outputs": [],
   "source": [],
   "metadata": {
    "collapsed": false,
    "ExecuteTime": {
     "start_time": "2023-11-19T18:03:15.826507Z"
    }
   },
   "id": "d3dd296011bff1bc"
  }
 ],
 "metadata": {
  "kernelspec": {
   "display_name": "Python 3",
   "language": "python",
   "name": "python3"
  },
  "language_info": {
   "codemirror_mode": {
    "name": "ipython",
    "version": 2
   },
   "file_extension": ".py",
   "mimetype": "text/x-python",
   "name": "python",
   "nbconvert_exporter": "python",
   "pygments_lexer": "ipython2",
   "version": "2.7.6"
  }
 },
 "nbformat": 4,
 "nbformat_minor": 5
}
