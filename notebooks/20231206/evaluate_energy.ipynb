{
 "cells": [
  {
   "cell_type": "code",
   "execution_count": 1,
   "id": "initial_id",
   "metadata": {
    "collapsed": true,
    "ExecuteTime": {
     "end_time": "2023-11-30T20:05:07.376393Z",
     "start_time": "2023-11-30T20:05:07.243782Z"
    }
   },
   "outputs": [],
   "source": [
    "from models.DAX import DAX_quantile_regression, DAX_baseline\n",
    "from models.energy import energy_quantile_regression\n",
    "from functions import get_energy,get_DAX,merge_submissions,check_submission\n",
    "from functions.prepare_data import split_time\n",
    "from functions.evaluation import evaluate_horizon\n",
    "from tqdm import tqdm\n",
    "from functions import evaluate_model\n",
    "from models.energy import energy_baseline"
   ]
  },
  {
   "cell_type": "code",
   "execution_count": 2,
   "outputs": [
    {
     "name": "stderr",
     "output_type": "stream",
     "text": [
      "  0%|          | 0/258 [00:00<?, ?it/s]/Users/stephantimpe/PycharmProjects/probabilistic-forecasting-challenge/functions/get_energy.py:28: FutureWarning: The behavior of DataFrame concatenation with empty or all-NA entries is deprecated. In a future version, this will no longer exclude empty or all-NA columns when determining the result dtypes. To retain the old behavior, exclude the relevant entries before the concat operation.\n",
      "  energydata = pd.concat([energydata, pd.DataFrame(rawdata, columns=col_names)])\n",
      "100%|██████████| 258/258 [00:39<00:00,  6.59it/s]\n"
     ]
    }
   ],
   "source": [
    "# Load data\n",
    "energy = get_energy.get()"
   ],
   "metadata": {
    "collapsed": false,
    "ExecuteTime": {
     "end_time": "2023-11-30T20:05:46.714733Z",
     "start_time": "2023-11-30T20:05:07.377311Z"
    }
   },
   "id": "889a483b0490d53d"
  },
  {
   "cell_type": "code",
   "execution_count": 3,
   "outputs": [
    {
     "ename": "UnboundLocalError",
     "evalue": "local variable 'date' referenced before assignment",
     "output_type": "error",
     "traceback": [
      "\u001B[0;31m---------------------------------------------------------------------------\u001B[0m",
      "\u001B[0;31mUnboundLocalError\u001B[0m                         Traceback (most recent call last)",
      "Cell \u001B[0;32mIn[3], line 2\u001B[0m\n\u001B[1;32m      1\u001B[0m \u001B[38;5;66;03m#create quantile model\u001B[39;00m\n\u001B[0;32m----> 2\u001B[0m quantile_model \u001B[38;5;241m=\u001B[39m \u001B[43menergy_quantile_regression\u001B[49m\u001B[38;5;241;43m.\u001B[39;49m\u001B[43menergy_quantile_regression\u001B[49m\u001B[43m(\u001B[49m\u001B[43mdf\u001B[49m\u001B[38;5;241;43m=\u001B[39;49m\u001B[43menergy\u001B[49m\u001B[43m)\u001B[49m\n",
      "File \u001B[0;32m~/PycharmProjects/probabilistic-forecasting-challenge/models/energy/energy_quantile_regression.py:10\u001B[0m, in \u001B[0;36menergy_quantile_regression\u001B[0;34m(df, date_str)\u001B[0m\n\u001B[1;32m      8\u001B[0m     df \u001B[38;5;241m=\u001B[39m get_energy\u001B[38;5;241m.\u001B[39mget()\n\u001B[1;32m      9\u001B[0m \u001B[38;5;28;01mif\u001B[39;00m date_str\u001B[38;5;241m==\u001B[39m\u001B[38;5;28;01mNone\u001B[39;00m:\n\u001B[0;32m---> 10\u001B[0m     date_str \u001B[38;5;241m=\u001B[39m \u001B[43mdate\u001B[49m\u001B[38;5;241m.\u001B[39mtoday()\n\u001B[1;32m     11\u001B[0m \u001B[38;5;66;03m# Define the lead times\u001B[39;00m\n\u001B[1;32m     12\u001B[0m horizons_def \u001B[38;5;241m=\u001B[39m [\u001B[38;5;241m36\u001B[39m, \u001B[38;5;241m40\u001B[39m, \u001B[38;5;241m44\u001B[39m, \u001B[38;5;241m60\u001B[39m, \u001B[38;5;241m64\u001B[39m, \u001B[38;5;241m68\u001B[39m]\n",
      "\u001B[0;31mUnboundLocalError\u001B[0m: local variable 'date' referenced before assignment"
     ]
    }
   ],
   "source": [
    "#create quantile model\n",
    "quantile_model = energy_quantile_regression.energy_quantile_regression(df=energy)"
   ],
   "metadata": {
    "collapsed": false,
    "ExecuteTime": {
     "end_time": "2023-11-30T20:05:47.510695Z",
     "start_time": "2023-11-30T20:05:46.713913Z"
    }
   },
   "id": "6976103be2dba65f"
  },
  {
   "cell_type": "code",
   "execution_count": null,
   "outputs": [],
   "source": [
    "energy"
   ],
   "metadata": {
    "collapsed": false,
    "ExecuteTime": {
     "start_time": "2023-11-30T20:05:47.512815Z"
    }
   },
   "id": "bbc96f187058a28f"
  },
  {
   "cell_type": "code",
   "execution_count": null,
   "outputs": [],
   "source": [
    "#create baseline model\n",
    "baseline_model = energy_baseline.energy_baseline(energy)"
   ],
   "metadata": {
    "collapsed": false,
    "ExecuteTime": {
     "end_time": "2023-11-30T20:05:47.518002Z",
     "start_time": "2023-11-30T20:05:47.514732Z"
    }
   },
   "id": "b8a5f0991cacf22b"
  },
  {
   "cell_type": "code",
   "execution_count": null,
   "outputs": [],
   "source": [
    "baseline_model"
   ],
   "metadata": {
    "collapsed": false,
    "ExecuteTime": {
     "start_time": "2023-11-30T20:05:47.516809Z"
    }
   },
   "id": "4ab6e2b62398f744"
  },
  {
   "cell_type": "code",
   "execution_count": null,
   "outputs": [],
   "source": [
    "baseline_model = {\n",
    "    'name': 'Baseline Model',\n",
    "    'function': energy_baseline.energy_baseline\n",
    "}\n",
    "quantile_model = {\n",
    "    'name': 'Quantile Regression',\n",
    "    'function': energy_quantile_regression.energy_quantile_regression\n",
    "}\n"
   ],
   "metadata": {
    "collapsed": false,
    "ExecuteTime": {
     "start_time": "2023-11-30T20:05:47.518776Z"
    }
   },
   "id": "5716c6ee40a23b71"
  },
  {
   "cell_type": "code",
   "execution_count": null,
   "outputs": [],
   "source": [
    "start_date = '2022-01-01'\n",
    "end_date = '2022-01-31'\n",
    "\n",
    "evaluation_model1, evaluation_model2 = evaluate_model.evaluate(baseline_model, quantile_model, energy, start_date, end_date, horizon_format=\"hours\")"
   ],
   "metadata": {
    "collapsed": false,
    "ExecuteTime": {
     "start_time": "2023-11-30T20:05:47.519882Z"
    }
   },
   "id": "58a786599ea603b8"
  },
  {
   "cell_type": "code",
   "execution_count": null,
   "outputs": [],
   "source": [],
   "metadata": {
    "collapsed": false,
    "ExecuteTime": {
     "start_time": "2023-11-30T20:05:47.520940Z"
    }
   },
   "id": "20674129a201f601"
  },
  {
   "cell_type": "code",
   "execution_count": null,
   "outputs": [],
   "source": [],
   "metadata": {
    "collapsed": false,
    "ExecuteTime": {
     "start_time": "2023-11-30T20:05:47.521865Z"
    }
   },
   "id": "42f06ee84134ed58"
  }
 ],
 "metadata": {
  "kernelspec": {
   "display_name": "Python 3",
   "language": "python",
   "name": "python3"
  },
  "language_info": {
   "codemirror_mode": {
    "name": "ipython",
    "version": 2
   },
   "file_extension": ".py",
   "mimetype": "text/x-python",
   "name": "python",
   "nbconvert_exporter": "python",
   "pygments_lexer": "ipython2",
   "version": "2.7.6"
  }
 },
 "nbformat": 4,
 "nbformat_minor": 5
}
