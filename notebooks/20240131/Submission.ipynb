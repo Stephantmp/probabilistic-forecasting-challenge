{
 "cells": [
  {
   "cell_type": "code",
   "execution_count": 1,
   "id": "initial_id",
   "metadata": {
    "collapsed": true,
    "ExecuteTime": {
     "end_time": "2024-01-31T21:02:32.226950Z",
     "start_time": "2024-01-31T21:02:27.647204Z"
    }
   },
   "outputs": [],
   "source": [
    "from models.DAX import DAX_quantile_regression, DAX_baseline\n",
    "from models.energy import energy_models\n",
    "from functions import get_energy,get_DAX,merge_submissions,check_submission\n",
    "from functions.prepare_data import split_time\n",
    "from functions.evaluation import evaluate_horizon\n",
    "from tqdm import tqdm\n",
    "from functions import evaluate_dax\n",
    "import numpy as np"
   ]
  },
  {
   "cell_type": "code",
   "execution_count": 2,
   "outputs": [],
   "source": [
    "from functions import naive_ensemble"
   ],
   "metadata": {
    "collapsed": false,
    "ExecuteTime": {
     "end_time": "2024-01-31T21:02:32.232693Z",
     "start_time": "2024-01-31T21:02:32.220656Z"
    }
   },
   "id": "2ce850d6890c7f7e"
  },
  {
   "cell_type": "code",
   "execution_count": 3,
   "outputs": [],
   "source": [
    "daxdata = get_DAX.get()"
   ],
   "metadata": {
    "collapsed": false,
    "ExecuteTime": {
     "end_time": "2024-01-31T21:02:32.899905Z",
     "start_time": "2024-01-31T21:02:32.225327Z"
    }
   },
   "id": "f9e3cc3455a4dedb"
  },
  {
   "cell_type": "code",
   "execution_count": 4,
   "outputs": [],
   "source": [
    "base = DAX_baseline.DAX_baseline(daxdata)"
   ],
   "metadata": {
    "collapsed": false,
    "ExecuteTime": {
     "end_time": "2024-01-31T21:02:32.900763Z",
     "start_time": "2024-01-31T21:02:32.876740Z"
    }
   },
   "id": "ec5c75e7ea26f528"
  },
  {
   "cell_type": "code",
   "execution_count": 5,
   "outputs": [
    {
     "data": {
      "text/plain": "  forecast_date target horizon    q0.025     q0.25      q0.5     q0.75  \\\n0    2024-01-31    DAX   1 day -3.084808 -0.515136  0.073395  0.718274   \n1    2024-01-31    DAX   2 day -4.002208 -0.767884  0.097835  0.987322   \n2    2024-01-31    DAX   5 day -4.720020 -0.869562  0.171704  1.255618   \n3    2024-01-31    DAX   6 day -5.401203 -0.937223  0.216215  1.451656   \n4    2024-01-31    DAX   7 day -5.908297 -1.008852  0.343478  1.607134   \n\n     q0.975  \n0  2.719772  \n1  3.570492  \n2  4.628697  \n3  5.367396  \n4  6.259934  ",
      "text/html": "<div>\n<style scoped>\n    .dataframe tbody tr th:only-of-type {\n        vertical-align: middle;\n    }\n\n    .dataframe tbody tr th {\n        vertical-align: top;\n    }\n\n    .dataframe thead th {\n        text-align: right;\n    }\n</style>\n<table border=\"1\" class=\"dataframe\">\n  <thead>\n    <tr style=\"text-align: right;\">\n      <th></th>\n      <th>forecast_date</th>\n      <th>target</th>\n      <th>horizon</th>\n      <th>q0.025</th>\n      <th>q0.25</th>\n      <th>q0.5</th>\n      <th>q0.75</th>\n      <th>q0.975</th>\n    </tr>\n  </thead>\n  <tbody>\n    <tr>\n      <th>0</th>\n      <td>2024-01-31</td>\n      <td>DAX</td>\n      <td>1 day</td>\n      <td>-3.084808</td>\n      <td>-0.515136</td>\n      <td>0.073395</td>\n      <td>0.718274</td>\n      <td>2.719772</td>\n    </tr>\n    <tr>\n      <th>1</th>\n      <td>2024-01-31</td>\n      <td>DAX</td>\n      <td>2 day</td>\n      <td>-4.002208</td>\n      <td>-0.767884</td>\n      <td>0.097835</td>\n      <td>0.987322</td>\n      <td>3.570492</td>\n    </tr>\n    <tr>\n      <th>2</th>\n      <td>2024-01-31</td>\n      <td>DAX</td>\n      <td>5 day</td>\n      <td>-4.720020</td>\n      <td>-0.869562</td>\n      <td>0.171704</td>\n      <td>1.255618</td>\n      <td>4.628697</td>\n    </tr>\n    <tr>\n      <th>3</th>\n      <td>2024-01-31</td>\n      <td>DAX</td>\n      <td>6 day</td>\n      <td>-5.401203</td>\n      <td>-0.937223</td>\n      <td>0.216215</td>\n      <td>1.451656</td>\n      <td>5.367396</td>\n    </tr>\n    <tr>\n      <th>4</th>\n      <td>2024-01-31</td>\n      <td>DAX</td>\n      <td>7 day</td>\n      <td>-5.908297</td>\n      <td>-1.008852</td>\n      <td>0.343478</td>\n      <td>1.607134</td>\n      <td>6.259934</td>\n    </tr>\n  </tbody>\n</table>\n</div>"
     },
     "execution_count": 5,
     "metadata": {},
     "output_type": "execute_result"
    }
   ],
   "source": [
    "base"
   ],
   "metadata": {
    "collapsed": false,
    "ExecuteTime": {
     "end_time": "2024-01-31T21:02:33.095308Z",
     "start_time": "2024-01-31T21:02:32.908671Z"
    }
   },
   "id": "a8cb24f5fba12ced"
  },
  {
   "cell_type": "code",
   "execution_count": 6,
   "outputs": [],
   "source": [
    "quantile = DAX_quantile_regression.DAX_quantile_regression(daxdata)"
   ],
   "metadata": {
    "collapsed": false,
    "ExecuteTime": {
     "end_time": "2024-01-31T21:02:46.515453Z",
     "start_time": "2024-01-31T21:02:32.941920Z"
    }
   },
   "id": "41c45532b2bc7fef"
  },
  {
   "cell_type": "code",
   "execution_count": 7,
   "outputs": [
    {
     "data": {
      "text/plain": "  forecast_date target horizon    q0.025     q0.25      q0.5     q0.75  \\\n0    2024-01-31    DAX   1 day -3.084808 -0.515136  0.073395  0.718274   \n1    2024-01-31    DAX   2 day -4.002208 -0.767884  0.097835  0.987322   \n2    2024-01-31    DAX   5 day -4.720020 -0.869562  0.171704  1.255618   \n3    2024-01-31    DAX   6 day -5.401203 -0.937223  0.216215  1.451656   \n4    2024-01-31    DAX   7 day -5.908297 -1.008852  0.343478  1.607134   \n\n     q0.975  \n0  2.719772  \n1  3.570492  \n2  4.628697  \n3  5.367396  \n4  6.259934  ",
      "text/html": "<div>\n<style scoped>\n    .dataframe tbody tr th:only-of-type {\n        vertical-align: middle;\n    }\n\n    .dataframe tbody tr th {\n        vertical-align: top;\n    }\n\n    .dataframe thead th {\n        text-align: right;\n    }\n</style>\n<table border=\"1\" class=\"dataframe\">\n  <thead>\n    <tr style=\"text-align: right;\">\n      <th></th>\n      <th>forecast_date</th>\n      <th>target</th>\n      <th>horizon</th>\n      <th>q0.025</th>\n      <th>q0.25</th>\n      <th>q0.5</th>\n      <th>q0.75</th>\n      <th>q0.975</th>\n    </tr>\n  </thead>\n  <tbody>\n    <tr>\n      <th>0</th>\n      <td>2024-01-31</td>\n      <td>DAX</td>\n      <td>1 day</td>\n      <td>-3.084808</td>\n      <td>-0.515136</td>\n      <td>0.073395</td>\n      <td>0.718274</td>\n      <td>2.719772</td>\n    </tr>\n    <tr>\n      <th>1</th>\n      <td>2024-01-31</td>\n      <td>DAX</td>\n      <td>2 day</td>\n      <td>-4.002208</td>\n      <td>-0.767884</td>\n      <td>0.097835</td>\n      <td>0.987322</td>\n      <td>3.570492</td>\n    </tr>\n    <tr>\n      <th>2</th>\n      <td>2024-01-31</td>\n      <td>DAX</td>\n      <td>5 day</td>\n      <td>-4.720020</td>\n      <td>-0.869562</td>\n      <td>0.171704</td>\n      <td>1.255618</td>\n      <td>4.628697</td>\n    </tr>\n    <tr>\n      <th>3</th>\n      <td>2024-01-31</td>\n      <td>DAX</td>\n      <td>6 day</td>\n      <td>-5.401203</td>\n      <td>-0.937223</td>\n      <td>0.216215</td>\n      <td>1.451656</td>\n      <td>5.367396</td>\n    </tr>\n    <tr>\n      <th>4</th>\n      <td>2024-01-31</td>\n      <td>DAX</td>\n      <td>7 day</td>\n      <td>-5.908297</td>\n      <td>-1.008852</td>\n      <td>0.343478</td>\n      <td>1.607134</td>\n      <td>6.259934</td>\n    </tr>\n  </tbody>\n</table>\n</div>"
     },
     "execution_count": 7,
     "metadata": {},
     "output_type": "execute_result"
    }
   ],
   "source": [
    "base"
   ],
   "metadata": {
    "collapsed": false,
    "ExecuteTime": {
     "end_time": "2024-01-31T21:02:46.534810Z",
     "start_time": "2024-01-31T21:02:46.512380Z"
    }
   },
   "id": "f3a06c002fba56e4"
  },
  {
   "cell_type": "code",
   "execution_count": 8,
   "outputs": [
    {
     "data": {
      "text/plain": "  forecast_date target horizon    q0.025     q0.25      q0.5     q0.75  \\\n0    2024-01-31    DAX   1 day -2.311528 -0.502578  0.045126  0.547981   \n1    2024-01-31    DAX   2 day -2.177536 -0.341214  0.333601  0.843224   \n2    2024-01-31    DAX   5 day -2.560622 -0.702490  0.028832  0.551294   \n3    2024-01-31    DAX   6 day -2.066307 -0.185738  0.586287  1.140205   \n4    2024-01-31    DAX   7 day -1.686328 -0.055340  0.711045  1.223679   \n\n     q0.975  \n0  1.697530  \n1  2.364898  \n2  1.906253  \n3  2.508612  \n4  2.709402  ",
      "text/html": "<div>\n<style scoped>\n    .dataframe tbody tr th:only-of-type {\n        vertical-align: middle;\n    }\n\n    .dataframe tbody tr th {\n        vertical-align: top;\n    }\n\n    .dataframe thead th {\n        text-align: right;\n    }\n</style>\n<table border=\"1\" class=\"dataframe\">\n  <thead>\n    <tr style=\"text-align: right;\">\n      <th></th>\n      <th>forecast_date</th>\n      <th>target</th>\n      <th>horizon</th>\n      <th>q0.025</th>\n      <th>q0.25</th>\n      <th>q0.5</th>\n      <th>q0.75</th>\n      <th>q0.975</th>\n    </tr>\n  </thead>\n  <tbody>\n    <tr>\n      <th>0</th>\n      <td>2024-01-31</td>\n      <td>DAX</td>\n      <td>1 day</td>\n      <td>-2.311528</td>\n      <td>-0.502578</td>\n      <td>0.045126</td>\n      <td>0.547981</td>\n      <td>1.697530</td>\n    </tr>\n    <tr>\n      <th>1</th>\n      <td>2024-01-31</td>\n      <td>DAX</td>\n      <td>2 day</td>\n      <td>-2.177536</td>\n      <td>-0.341214</td>\n      <td>0.333601</td>\n      <td>0.843224</td>\n      <td>2.364898</td>\n    </tr>\n    <tr>\n      <th>2</th>\n      <td>2024-01-31</td>\n      <td>DAX</td>\n      <td>5 day</td>\n      <td>-2.560622</td>\n      <td>-0.702490</td>\n      <td>0.028832</td>\n      <td>0.551294</td>\n      <td>1.906253</td>\n    </tr>\n    <tr>\n      <th>3</th>\n      <td>2024-01-31</td>\n      <td>DAX</td>\n      <td>6 day</td>\n      <td>-2.066307</td>\n      <td>-0.185738</td>\n      <td>0.586287</td>\n      <td>1.140205</td>\n      <td>2.508612</td>\n    </tr>\n    <tr>\n      <th>4</th>\n      <td>2024-01-31</td>\n      <td>DAX</td>\n      <td>7 day</td>\n      <td>-1.686328</td>\n      <td>-0.055340</td>\n      <td>0.711045</td>\n      <td>1.223679</td>\n      <td>2.709402</td>\n    </tr>\n  </tbody>\n</table>\n</div>"
     },
     "execution_count": 8,
     "metadata": {},
     "output_type": "execute_result"
    }
   ],
   "source": [
    "quantile"
   ],
   "metadata": {
    "collapsed": false,
    "ExecuteTime": {
     "end_time": "2024-01-31T21:02:46.679030Z",
     "start_time": "2024-01-31T21:02:46.538411Z"
    }
   },
   "id": "eaf1a3bf41c37db6"
  },
  {
   "cell_type": "code",
   "execution_count": 9,
   "outputs": [],
   "source": [
    "df_dax = naive_ensemble.ensemble(base,quantile,0.8,0.2)"
   ],
   "metadata": {
    "collapsed": false,
    "ExecuteTime": {
     "end_time": "2024-01-31T21:02:46.722678Z",
     "start_time": "2024-01-31T21:02:46.569276Z"
    }
   },
   "id": "f43ba6072018640e"
  },
  {
   "cell_type": "code",
   "execution_count": 10,
   "outputs": [
    {
     "data": {
      "text/plain": "  forecast_date target horizon    q0.025     q0.25      q0.5     q0.75  \\\n0    2024-01-31    DAX   1 day -2.930152 -0.512625  0.067741  0.684215   \n1    2024-01-31    DAX   2 day -3.637274 -0.682550  0.144988  0.958502   \n2    2024-01-31    DAX   5 day -4.288140 -0.836147  0.143129  1.114753   \n3    2024-01-31    DAX   6 day -4.734224 -0.786926  0.290229  1.389366   \n4    2024-01-31    DAX   7 day -5.063903 -0.818149  0.416991  1.530443   \n\n     q0.975  \n0  2.515324  \n1  3.329373  \n2  4.084208  \n3  4.795639  \n4  5.549828  ",
      "text/html": "<div>\n<style scoped>\n    .dataframe tbody tr th:only-of-type {\n        vertical-align: middle;\n    }\n\n    .dataframe tbody tr th {\n        vertical-align: top;\n    }\n\n    .dataframe thead th {\n        text-align: right;\n    }\n</style>\n<table border=\"1\" class=\"dataframe\">\n  <thead>\n    <tr style=\"text-align: right;\">\n      <th></th>\n      <th>forecast_date</th>\n      <th>target</th>\n      <th>horizon</th>\n      <th>q0.025</th>\n      <th>q0.25</th>\n      <th>q0.5</th>\n      <th>q0.75</th>\n      <th>q0.975</th>\n    </tr>\n  </thead>\n  <tbody>\n    <tr>\n      <th>0</th>\n      <td>2024-01-31</td>\n      <td>DAX</td>\n      <td>1 day</td>\n      <td>-2.930152</td>\n      <td>-0.512625</td>\n      <td>0.067741</td>\n      <td>0.684215</td>\n      <td>2.515324</td>\n    </tr>\n    <tr>\n      <th>1</th>\n      <td>2024-01-31</td>\n      <td>DAX</td>\n      <td>2 day</td>\n      <td>-3.637274</td>\n      <td>-0.682550</td>\n      <td>0.144988</td>\n      <td>0.958502</td>\n      <td>3.329373</td>\n    </tr>\n    <tr>\n      <th>2</th>\n      <td>2024-01-31</td>\n      <td>DAX</td>\n      <td>5 day</td>\n      <td>-4.288140</td>\n      <td>-0.836147</td>\n      <td>0.143129</td>\n      <td>1.114753</td>\n      <td>4.084208</td>\n    </tr>\n    <tr>\n      <th>3</th>\n      <td>2024-01-31</td>\n      <td>DAX</td>\n      <td>6 day</td>\n      <td>-4.734224</td>\n      <td>-0.786926</td>\n      <td>0.290229</td>\n      <td>1.389366</td>\n      <td>4.795639</td>\n    </tr>\n    <tr>\n      <th>4</th>\n      <td>2024-01-31</td>\n      <td>DAX</td>\n      <td>7 day</td>\n      <td>-5.063903</td>\n      <td>-0.818149</td>\n      <td>0.416991</td>\n      <td>1.530443</td>\n      <td>5.549828</td>\n    </tr>\n  </tbody>\n</table>\n</div>"
     },
     "execution_count": 10,
     "metadata": {},
     "output_type": "execute_result"
    }
   ],
   "source": [
    "df_dax"
   ],
   "metadata": {
    "collapsed": false,
    "ExecuteTime": {
     "end_time": "2024-01-31T21:02:46.723734Z",
     "start_time": "2024-01-31T21:02:46.583885Z"
    }
   },
   "id": "f65a5a521ad3258e"
  },
  {
   "cell_type": "code",
   "execution_count": 11,
   "outputs": [
    {
     "name": "stderr",
     "output_type": "stream",
     "text": [
      "  0%|          | 0/267 [00:00<?, ?it/s]/Users/stephantimpe/PycharmProjects/probabilistic-forecasting-challenge/functions/get_energy.py:28: FutureWarning: The behavior of DataFrame concatenation with empty or all-NA entries is deprecated. In a future version, this will no longer exclude empty or all-NA columns when determining the result dtypes. To retain the old behavior, exclude the relevant entries before the concat operation.\n",
      "  energydata = pd.concat([energydata, pd.DataFrame(rawdata, columns=col_names)])\n",
      "100%|██████████| 267/267 [00:27<00:00,  9.60it/s]\n"
     ]
    }
   ],
   "source": [
    "energydata= get_energy.get()"
   ],
   "metadata": {
    "collapsed": false,
    "ExecuteTime": {
     "end_time": "2024-01-31T21:03:14.660161Z",
     "start_time": "2024-01-31T21:02:46.593178Z"
    }
   },
   "id": "6825a919679471df"
  },
  {
   "cell_type": "code",
   "execution_count": 12,
   "outputs": [],
   "source": [
    "df_energy= energy_models.energy_XGBoost(energydata,date_str='2024-01-31')"
   ],
   "metadata": {
    "collapsed": false,
    "ExecuteTime": {
     "end_time": "2024-01-31T21:03:33.432805Z",
     "start_time": "2024-01-31T21:03:14.661534Z"
    }
   },
   "id": "d1d2a9506ee6ab6c"
  },
  {
   "cell_type": "code",
   "execution_count": 13,
   "outputs": [
    {
     "data": {
      "text/plain": "  forecast_date  target  horizon     q0.025      q0.25       q0.5      q0.75  \\\n0    2024-01-31  energy  36 hour  63.441486  67.814606  68.914574  73.770218   \n1    2024-01-31  energy  40 hour  61.259262  64.322090  64.568054  69.318184   \n2    2024-01-31  energy  44 hour  60.863354  60.974594  61.808281  65.363388   \n3    2024-01-31  energy  60 hour  57.142838  61.433403  61.500763  62.964813   \n4    2024-01-31  energy  64 hour  53.561340  56.606220  57.705704  58.360950   \n5    2024-01-31  energy  68 hour  53.569309  56.806168  57.884403  58.422134   \n\n      q0.975  \n0  76.208138  \n1  71.906235  \n2  67.771507  \n3  64.108162  \n4  61.336086  \n5  59.887936  ",
      "text/html": "<div>\n<style scoped>\n    .dataframe tbody tr th:only-of-type {\n        vertical-align: middle;\n    }\n\n    .dataframe tbody tr th {\n        vertical-align: top;\n    }\n\n    .dataframe thead th {\n        text-align: right;\n    }\n</style>\n<table border=\"1\" class=\"dataframe\">\n  <thead>\n    <tr style=\"text-align: right;\">\n      <th></th>\n      <th>forecast_date</th>\n      <th>target</th>\n      <th>horizon</th>\n      <th>q0.025</th>\n      <th>q0.25</th>\n      <th>q0.5</th>\n      <th>q0.75</th>\n      <th>q0.975</th>\n    </tr>\n  </thead>\n  <tbody>\n    <tr>\n      <th>0</th>\n      <td>2024-01-31</td>\n      <td>energy</td>\n      <td>36 hour</td>\n      <td>63.441486</td>\n      <td>67.814606</td>\n      <td>68.914574</td>\n      <td>73.770218</td>\n      <td>76.208138</td>\n    </tr>\n    <tr>\n      <th>1</th>\n      <td>2024-01-31</td>\n      <td>energy</td>\n      <td>40 hour</td>\n      <td>61.259262</td>\n      <td>64.322090</td>\n      <td>64.568054</td>\n      <td>69.318184</td>\n      <td>71.906235</td>\n    </tr>\n    <tr>\n      <th>2</th>\n      <td>2024-01-31</td>\n      <td>energy</td>\n      <td>44 hour</td>\n      <td>60.863354</td>\n      <td>60.974594</td>\n      <td>61.808281</td>\n      <td>65.363388</td>\n      <td>67.771507</td>\n    </tr>\n    <tr>\n      <th>3</th>\n      <td>2024-01-31</td>\n      <td>energy</td>\n      <td>60 hour</td>\n      <td>57.142838</td>\n      <td>61.433403</td>\n      <td>61.500763</td>\n      <td>62.964813</td>\n      <td>64.108162</td>\n    </tr>\n    <tr>\n      <th>4</th>\n      <td>2024-01-31</td>\n      <td>energy</td>\n      <td>64 hour</td>\n      <td>53.561340</td>\n      <td>56.606220</td>\n      <td>57.705704</td>\n      <td>58.360950</td>\n      <td>61.336086</td>\n    </tr>\n    <tr>\n      <th>5</th>\n      <td>2024-01-31</td>\n      <td>energy</td>\n      <td>68 hour</td>\n      <td>53.569309</td>\n      <td>56.806168</td>\n      <td>57.884403</td>\n      <td>58.422134</td>\n      <td>59.887936</td>\n    </tr>\n  </tbody>\n</table>\n</div>"
     },
     "execution_count": 13,
     "metadata": {},
     "output_type": "execute_result"
    }
   ],
   "source": [
    "df_energy"
   ],
   "metadata": {
    "collapsed": false,
    "ExecuteTime": {
     "end_time": "2024-01-31T21:03:33.450895Z",
     "start_time": "2024-01-31T21:03:33.433441Z"
    }
   },
   "id": "ca504288bd09666b"
  },
  {
   "cell_type": "code",
   "execution_count": 14,
   "outputs": [],
   "source": [
    "#Reorder quantiles to prevent quantile crossing"
   ],
   "metadata": {
    "collapsed": false,
    "ExecuteTime": {
     "end_time": "2024-01-31T21:03:33.479224Z",
     "start_time": "2024-01-31T21:03:33.453045Z"
    }
   },
   "id": "5fef7941487d6c1"
  },
  {
   "cell_type": "code",
   "execution_count": 16,
   "outputs": [
    {
     "name": "stdout",
     "output_type": "stream",
     "text": [
      "  forecast_date      target  horizon     q0.025      q0.25       q0.5  \\\n",
      "0    2024-01-31         DAX    1 day  -2.930152  -0.512625   0.067741   \n",
      "1    2024-01-31         DAX    2 day  -3.637274   -0.68255   0.144988   \n",
      "2    2024-01-31         DAX    5 day   -4.28814  -0.836147   0.143129   \n",
      "3    2024-01-31         DAX    6 day  -4.734224  -0.786926   0.290229   \n",
      "4    2024-01-31         DAX    7 day  -5.063903  -0.818149   0.416991   \n",
      "0    2024-01-31      energy  36 hour  63.441486  67.814606  68.914574   \n",
      "1    2024-01-31      energy  40 hour  61.259262   64.32209  64.568054   \n",
      "2    2024-01-31      energy  44 hour  60.863354  60.974594  61.808281   \n",
      "3    2024-01-31      energy  60 hour  57.142838  61.433403  61.500763   \n",
      "4    2024-01-31      energy  64 hour   53.56134   56.60622  57.705704   \n",
      "5    2024-01-31      energy  68 hour  53.569309  56.806168  57.884403   \n",
      "0    2024-01-31  infections   0 week         NA         NA         NA   \n",
      "1    2024-01-31  infections   1 week         NA         NA         NA   \n",
      "2    2024-01-31  infections   2 week         NA         NA         NA   \n",
      "3    2024-01-31  infections   3 week         NA         NA         NA   \n",
      "4    2024-01-31  infections   4 week         NA         NA         NA   \n",
      "\n",
      "       q0.75     q0.975  \n",
      "0   0.684215   2.515324  \n",
      "1   0.958502   3.329373  \n",
      "2   1.114753   4.084208  \n",
      "3   1.389366   4.795639  \n",
      "4   1.530443   5.549828  \n",
      "0  73.770218  76.208138  \n",
      "1  69.318184  71.906235  \n",
      "2  65.363388  67.771507  \n",
      "3  62.964813  64.108162  \n",
      "4   58.36095  61.336086  \n",
      "5  58.422134  59.887936  \n",
      "0         NA         NA  \n",
      "1         NA         NA  \n",
      "2         NA         NA  \n",
      "3         NA         NA  \n",
      "4         NA         NA  \n"
     ]
    }
   ],
   "source": [
    "df = merge_submissions.merge(df_energy,df_dax)"
   ],
   "metadata": {
    "collapsed": false,
    "ExecuteTime": {
     "end_time": "2024-01-31T21:03:33.605343Z",
     "start_time": "2024-01-31T21:03:33.481691Z"
    }
   },
   "id": "6997de28c0fe949"
  },
  {
   "cell_type": "code",
   "execution_count": 17,
   "outputs": [],
   "source": [
    "import pandas as pd"
   ],
   "metadata": {
    "collapsed": false,
    "ExecuteTime": {
     "end_time": "2024-01-31T21:03:33.626311Z",
     "start_time": "2024-01-31T21:03:33.507542Z"
    }
   },
   "id": "a674edafd02b6168"
  },
  {
   "cell_type": "code",
   "execution_count": 18,
   "outputs": [],
   "source": [
    "# ensure forecast_date is in correct format\n",
    "df['forecast_date'] = pd.to_datetime(df['forecast_date'], format='%Y-%m-%d')"
   ],
   "metadata": {
    "collapsed": false,
    "ExecuteTime": {
     "end_time": "2024-01-31T21:03:33.626697Z",
     "start_time": "2024-01-31T21:03:33.513231Z"
    }
   },
   "id": "da079753fd7a5b8"
  },
  {
   "cell_type": "code",
   "execution_count": 19,
   "outputs": [
    {
     "data": {
      "text/plain": "  forecast_date      target  horizon     q0.025      q0.25       q0.5  \\\n0    2024-01-31         DAX    1 day  -2.930152  -0.512625   0.067741   \n1    2024-01-31         DAX    2 day  -3.637274   -0.68255   0.144988   \n2    2024-01-31         DAX    5 day   -4.28814  -0.836147   0.143129   \n3    2024-01-31         DAX    6 day  -4.734224  -0.786926   0.290229   \n4    2024-01-31         DAX    7 day  -5.063903  -0.818149   0.416991   \n0    2024-01-31      energy  36 hour  63.441486  67.814606  68.914574   \n1    2024-01-31      energy  40 hour  61.259262   64.32209  64.568054   \n2    2024-01-31      energy  44 hour  60.863354  60.974594  61.808281   \n3    2024-01-31      energy  60 hour  57.142838  61.433403  61.500763   \n4    2024-01-31      energy  64 hour   53.56134   56.60622  57.705704   \n5    2024-01-31      energy  68 hour  53.569309  56.806168  57.884403   \n0    2024-01-31  infections   0 week         NA         NA         NA   \n1    2024-01-31  infections   1 week         NA         NA         NA   \n2    2024-01-31  infections   2 week         NA         NA         NA   \n3    2024-01-31  infections   3 week         NA         NA         NA   \n4    2024-01-31  infections   4 week         NA         NA         NA   \n\n       q0.75     q0.975  \n0   0.684215   2.515324  \n1   0.958502   3.329373  \n2   1.114753   4.084208  \n3   1.389366   4.795639  \n4   1.530443   5.549828  \n0  73.770218  76.208138  \n1  69.318184  71.906235  \n2  65.363388  67.771507  \n3  62.964813  64.108162  \n4   58.36095  61.336086  \n5  58.422134  59.887936  \n0         NA         NA  \n1         NA         NA  \n2         NA         NA  \n3         NA         NA  \n4         NA         NA  ",
      "text/html": "<div>\n<style scoped>\n    .dataframe tbody tr th:only-of-type {\n        vertical-align: middle;\n    }\n\n    .dataframe tbody tr th {\n        vertical-align: top;\n    }\n\n    .dataframe thead th {\n        text-align: right;\n    }\n</style>\n<table border=\"1\" class=\"dataframe\">\n  <thead>\n    <tr style=\"text-align: right;\">\n      <th></th>\n      <th>forecast_date</th>\n      <th>target</th>\n      <th>horizon</th>\n      <th>q0.025</th>\n      <th>q0.25</th>\n      <th>q0.5</th>\n      <th>q0.75</th>\n      <th>q0.975</th>\n    </tr>\n  </thead>\n  <tbody>\n    <tr>\n      <th>0</th>\n      <td>2024-01-31</td>\n      <td>DAX</td>\n      <td>1 day</td>\n      <td>-2.930152</td>\n      <td>-0.512625</td>\n      <td>0.067741</td>\n      <td>0.684215</td>\n      <td>2.515324</td>\n    </tr>\n    <tr>\n      <th>1</th>\n      <td>2024-01-31</td>\n      <td>DAX</td>\n      <td>2 day</td>\n      <td>-3.637274</td>\n      <td>-0.68255</td>\n      <td>0.144988</td>\n      <td>0.958502</td>\n      <td>3.329373</td>\n    </tr>\n    <tr>\n      <th>2</th>\n      <td>2024-01-31</td>\n      <td>DAX</td>\n      <td>5 day</td>\n      <td>-4.28814</td>\n      <td>-0.836147</td>\n      <td>0.143129</td>\n      <td>1.114753</td>\n      <td>4.084208</td>\n    </tr>\n    <tr>\n      <th>3</th>\n      <td>2024-01-31</td>\n      <td>DAX</td>\n      <td>6 day</td>\n      <td>-4.734224</td>\n      <td>-0.786926</td>\n      <td>0.290229</td>\n      <td>1.389366</td>\n      <td>4.795639</td>\n    </tr>\n    <tr>\n      <th>4</th>\n      <td>2024-01-31</td>\n      <td>DAX</td>\n      <td>7 day</td>\n      <td>-5.063903</td>\n      <td>-0.818149</td>\n      <td>0.416991</td>\n      <td>1.530443</td>\n      <td>5.549828</td>\n    </tr>\n    <tr>\n      <th>0</th>\n      <td>2024-01-31</td>\n      <td>energy</td>\n      <td>36 hour</td>\n      <td>63.441486</td>\n      <td>67.814606</td>\n      <td>68.914574</td>\n      <td>73.770218</td>\n      <td>76.208138</td>\n    </tr>\n    <tr>\n      <th>1</th>\n      <td>2024-01-31</td>\n      <td>energy</td>\n      <td>40 hour</td>\n      <td>61.259262</td>\n      <td>64.32209</td>\n      <td>64.568054</td>\n      <td>69.318184</td>\n      <td>71.906235</td>\n    </tr>\n    <tr>\n      <th>2</th>\n      <td>2024-01-31</td>\n      <td>energy</td>\n      <td>44 hour</td>\n      <td>60.863354</td>\n      <td>60.974594</td>\n      <td>61.808281</td>\n      <td>65.363388</td>\n      <td>67.771507</td>\n    </tr>\n    <tr>\n      <th>3</th>\n      <td>2024-01-31</td>\n      <td>energy</td>\n      <td>60 hour</td>\n      <td>57.142838</td>\n      <td>61.433403</td>\n      <td>61.500763</td>\n      <td>62.964813</td>\n      <td>64.108162</td>\n    </tr>\n    <tr>\n      <th>4</th>\n      <td>2024-01-31</td>\n      <td>energy</td>\n      <td>64 hour</td>\n      <td>53.56134</td>\n      <td>56.60622</td>\n      <td>57.705704</td>\n      <td>58.36095</td>\n      <td>61.336086</td>\n    </tr>\n    <tr>\n      <th>5</th>\n      <td>2024-01-31</td>\n      <td>energy</td>\n      <td>68 hour</td>\n      <td>53.569309</td>\n      <td>56.806168</td>\n      <td>57.884403</td>\n      <td>58.422134</td>\n      <td>59.887936</td>\n    </tr>\n    <tr>\n      <th>0</th>\n      <td>2024-01-31</td>\n      <td>infections</td>\n      <td>0 week</td>\n      <td>NA</td>\n      <td>NA</td>\n      <td>NA</td>\n      <td>NA</td>\n      <td>NA</td>\n    </tr>\n    <tr>\n      <th>1</th>\n      <td>2024-01-31</td>\n      <td>infections</td>\n      <td>1 week</td>\n      <td>NA</td>\n      <td>NA</td>\n      <td>NA</td>\n      <td>NA</td>\n      <td>NA</td>\n    </tr>\n    <tr>\n      <th>2</th>\n      <td>2024-01-31</td>\n      <td>infections</td>\n      <td>2 week</td>\n      <td>NA</td>\n      <td>NA</td>\n      <td>NA</td>\n      <td>NA</td>\n      <td>NA</td>\n    </tr>\n    <tr>\n      <th>3</th>\n      <td>2024-01-31</td>\n      <td>infections</td>\n      <td>3 week</td>\n      <td>NA</td>\n      <td>NA</td>\n      <td>NA</td>\n      <td>NA</td>\n      <td>NA</td>\n    </tr>\n    <tr>\n      <th>4</th>\n      <td>2024-01-31</td>\n      <td>infections</td>\n      <td>4 week</td>\n      <td>NA</td>\n      <td>NA</td>\n      <td>NA</td>\n      <td>NA</td>\n      <td>NA</td>\n    </tr>\n  </tbody>\n</table>\n</div>"
     },
     "execution_count": 19,
     "metadata": {},
     "output_type": "execute_result"
    }
   ],
   "source": [
    "df"
   ],
   "metadata": {
    "collapsed": false,
    "ExecuteTime": {
     "end_time": "2024-01-31T21:03:33.635312Z",
     "start_time": "2024-01-31T21:03:33.525769Z"
    }
   },
   "id": "43fcaad03ad71b36"
  },
  {
   "cell_type": "code",
   "execution_count": 20,
   "outputs": [],
   "source": [
    "df.to_csv('../../forecasts/20240129_JonSnow.csv',index=False)"
   ],
   "metadata": {
    "collapsed": false,
    "ExecuteTime": {
     "end_time": "2024-01-31T21:03:33.635592Z",
     "start_time": "2024-01-31T21:03:33.532532Z"
    }
   },
   "id": "efed0bf38425c25b"
  },
  {
   "cell_type": "code",
   "execution_count": 21,
   "outputs": [
    {
     "data": {
      "text/plain": "  forecast_date      target  horizon     q0.025      q0.25       q0.5  \\\n0    2024-01-31         DAX    1 day  -2.930152  -0.512625   0.067741   \n1    2024-01-31         DAX    2 day  -3.637274   -0.68255   0.144988   \n2    2024-01-31         DAX    5 day   -4.28814  -0.836147   0.143129   \n3    2024-01-31         DAX    6 day  -4.734224  -0.786926   0.290229   \n4    2024-01-31         DAX    7 day  -5.063903  -0.818149   0.416991   \n0    2024-01-31      energy  36 hour  63.441486  67.814606  68.914574   \n1    2024-01-31      energy  40 hour  61.259262   64.32209  64.568054   \n2    2024-01-31      energy  44 hour  60.863354  60.974594  61.808281   \n3    2024-01-31      energy  60 hour  57.142838  61.433403  61.500763   \n4    2024-01-31      energy  64 hour   53.56134   56.60622  57.705704   \n5    2024-01-31      energy  68 hour  53.569309  56.806168  57.884403   \n0    2024-01-31  infections   0 week         NA         NA         NA   \n1    2024-01-31  infections   1 week         NA         NA         NA   \n2    2024-01-31  infections   2 week         NA         NA         NA   \n3    2024-01-31  infections   3 week         NA         NA         NA   \n4    2024-01-31  infections   4 week         NA         NA         NA   \n\n       q0.75     q0.975  \n0   0.684215   2.515324  \n1   0.958502   3.329373  \n2   1.114753   4.084208  \n3   1.389366   4.795639  \n4   1.530443   5.549828  \n0  73.770218  76.208138  \n1  69.318184  71.906235  \n2  65.363388  67.771507  \n3  62.964813  64.108162  \n4   58.36095  61.336086  \n5  58.422134  59.887936  \n0         NA         NA  \n1         NA         NA  \n2         NA         NA  \n3         NA         NA  \n4         NA         NA  ",
      "text/html": "<div>\n<style scoped>\n    .dataframe tbody tr th:only-of-type {\n        vertical-align: middle;\n    }\n\n    .dataframe tbody tr th {\n        vertical-align: top;\n    }\n\n    .dataframe thead th {\n        text-align: right;\n    }\n</style>\n<table border=\"1\" class=\"dataframe\">\n  <thead>\n    <tr style=\"text-align: right;\">\n      <th></th>\n      <th>forecast_date</th>\n      <th>target</th>\n      <th>horizon</th>\n      <th>q0.025</th>\n      <th>q0.25</th>\n      <th>q0.5</th>\n      <th>q0.75</th>\n      <th>q0.975</th>\n    </tr>\n  </thead>\n  <tbody>\n    <tr>\n      <th>0</th>\n      <td>2024-01-31</td>\n      <td>DAX</td>\n      <td>1 day</td>\n      <td>-2.930152</td>\n      <td>-0.512625</td>\n      <td>0.067741</td>\n      <td>0.684215</td>\n      <td>2.515324</td>\n    </tr>\n    <tr>\n      <th>1</th>\n      <td>2024-01-31</td>\n      <td>DAX</td>\n      <td>2 day</td>\n      <td>-3.637274</td>\n      <td>-0.68255</td>\n      <td>0.144988</td>\n      <td>0.958502</td>\n      <td>3.329373</td>\n    </tr>\n    <tr>\n      <th>2</th>\n      <td>2024-01-31</td>\n      <td>DAX</td>\n      <td>5 day</td>\n      <td>-4.28814</td>\n      <td>-0.836147</td>\n      <td>0.143129</td>\n      <td>1.114753</td>\n      <td>4.084208</td>\n    </tr>\n    <tr>\n      <th>3</th>\n      <td>2024-01-31</td>\n      <td>DAX</td>\n      <td>6 day</td>\n      <td>-4.734224</td>\n      <td>-0.786926</td>\n      <td>0.290229</td>\n      <td>1.389366</td>\n      <td>4.795639</td>\n    </tr>\n    <tr>\n      <th>4</th>\n      <td>2024-01-31</td>\n      <td>DAX</td>\n      <td>7 day</td>\n      <td>-5.063903</td>\n      <td>-0.818149</td>\n      <td>0.416991</td>\n      <td>1.530443</td>\n      <td>5.549828</td>\n    </tr>\n    <tr>\n      <th>0</th>\n      <td>2024-01-31</td>\n      <td>energy</td>\n      <td>36 hour</td>\n      <td>63.441486</td>\n      <td>67.814606</td>\n      <td>68.914574</td>\n      <td>73.770218</td>\n      <td>76.208138</td>\n    </tr>\n    <tr>\n      <th>1</th>\n      <td>2024-01-31</td>\n      <td>energy</td>\n      <td>40 hour</td>\n      <td>61.259262</td>\n      <td>64.32209</td>\n      <td>64.568054</td>\n      <td>69.318184</td>\n      <td>71.906235</td>\n    </tr>\n    <tr>\n      <th>2</th>\n      <td>2024-01-31</td>\n      <td>energy</td>\n      <td>44 hour</td>\n      <td>60.863354</td>\n      <td>60.974594</td>\n      <td>61.808281</td>\n      <td>65.363388</td>\n      <td>67.771507</td>\n    </tr>\n    <tr>\n      <th>3</th>\n      <td>2024-01-31</td>\n      <td>energy</td>\n      <td>60 hour</td>\n      <td>57.142838</td>\n      <td>61.433403</td>\n      <td>61.500763</td>\n      <td>62.964813</td>\n      <td>64.108162</td>\n    </tr>\n    <tr>\n      <th>4</th>\n      <td>2024-01-31</td>\n      <td>energy</td>\n      <td>64 hour</td>\n      <td>53.56134</td>\n      <td>56.60622</td>\n      <td>57.705704</td>\n      <td>58.36095</td>\n      <td>61.336086</td>\n    </tr>\n    <tr>\n      <th>5</th>\n      <td>2024-01-31</td>\n      <td>energy</td>\n      <td>68 hour</td>\n      <td>53.569309</td>\n      <td>56.806168</td>\n      <td>57.884403</td>\n      <td>58.422134</td>\n      <td>59.887936</td>\n    </tr>\n    <tr>\n      <th>0</th>\n      <td>2024-01-31</td>\n      <td>infections</td>\n      <td>0 week</td>\n      <td>NA</td>\n      <td>NA</td>\n      <td>NA</td>\n      <td>NA</td>\n      <td>NA</td>\n    </tr>\n    <tr>\n      <th>1</th>\n      <td>2024-01-31</td>\n      <td>infections</td>\n      <td>1 week</td>\n      <td>NA</td>\n      <td>NA</td>\n      <td>NA</td>\n      <td>NA</td>\n      <td>NA</td>\n    </tr>\n    <tr>\n      <th>2</th>\n      <td>2024-01-31</td>\n      <td>infections</td>\n      <td>2 week</td>\n      <td>NA</td>\n      <td>NA</td>\n      <td>NA</td>\n      <td>NA</td>\n      <td>NA</td>\n    </tr>\n    <tr>\n      <th>3</th>\n      <td>2024-01-31</td>\n      <td>infections</td>\n      <td>3 week</td>\n      <td>NA</td>\n      <td>NA</td>\n      <td>NA</td>\n      <td>NA</td>\n      <td>NA</td>\n    </tr>\n    <tr>\n      <th>4</th>\n      <td>2024-01-31</td>\n      <td>infections</td>\n      <td>4 week</td>\n      <td>NA</td>\n      <td>NA</td>\n      <td>NA</td>\n      <td>NA</td>\n      <td>NA</td>\n    </tr>\n  </tbody>\n</table>\n</div>"
     },
     "execution_count": 21,
     "metadata": {},
     "output_type": "execute_result"
    }
   ],
   "source": [
    "df"
   ],
   "metadata": {
    "collapsed": false,
    "ExecuteTime": {
     "end_time": "2024-01-31T21:03:33.636445Z",
     "start_time": "2024-01-31T21:03:33.538674Z"
    }
   },
   "id": "8400a3744c12f88c"
  },
  {
   "cell_type": "code",
   "execution_count": 22,
   "outputs": [],
   "source": [
    "from datetime import timedelta, datetime"
   ],
   "metadata": {
    "collapsed": false,
    "ExecuteTime": {
     "end_time": "2024-01-31T21:03:33.636562Z",
     "start_time": "2024-01-31T21:03:33.551160Z"
    }
   },
   "id": "ab316f4afc87c730"
  },
  {
   "cell_type": "code",
   "execution_count": 23,
   "outputs": [],
   "source": [
    "from functions import check_submission"
   ],
   "metadata": {
    "collapsed": false,
    "ExecuteTime": {
     "end_time": "2024-01-31T21:03:33.636665Z",
     "start_time": "2024-01-31T21:03:33.555769Z"
    }
   },
   "id": "edf25717f17afa86"
  },
  {
   "cell_type": "code",
   "execution_count": 24,
   "outputs": [
    {
     "name": "stdout",
     "output_type": "stream",
     "text": [
      "Start checking...\n",
      "---------------------------\n",
      "Checking the Columns...\n",
      "Checking type of columns...\n",
      "----WARNING: Some elements in q0.025 column are not numeric. This may be fine if you only submit 2 out of 3 targets.\n",
      "\n",
      "----WARNING: Some elements in q0.25 column are not numeric. This may be fine if you only submit 2 out of 3 targets.\n",
      "\n",
      "----WARNING: Some elements in q0.5 column are not numeric. This may be fine if you only submit 2 out of 3 targets.\n",
      "\n",
      "----WARNING: Some elements in q0.75 column are not numeric. This may be fine if you only submit 2 out of 3 targets.\n",
      "\n",
      "----WARNING: Some elements in q0.975 column are not numeric. This may be fine if you only submit 2 out of 3 targets.\n",
      "\n",
      "Checking if the Dates make sense...\n",
      "Checking targets...\n",
      "Skipping plausibility check for 'infections' as it contains NA values.\n",
      "Skipping plausibility check for 'infections' as it contains NA values.\n",
      "Skipping plausibility check for 'infections' as it contains NA values.\n",
      "Checking quantiles...\n",
      "Seems like you submitted all three targets. Good job!\n"
     ]
    }
   ],
   "source": [
    "check_submission.check_df(df)"
   ],
   "metadata": {
    "collapsed": false,
    "ExecuteTime": {
     "end_time": "2024-01-31T21:03:33.637784Z",
     "start_time": "2024-01-31T21:03:33.559314Z"
    }
   },
   "id": "8155994327dfda82"
  }
 ],
 "metadata": {
  "kernelspec": {
   "display_name": "Python 3",
   "language": "python",
   "name": "python3"
  },
  "language_info": {
   "codemirror_mode": {
    "name": "ipython",
    "version": 2
   },
   "file_extension": ".py",
   "mimetype": "text/x-python",
   "name": "python",
   "nbconvert_exporter": "python",
   "pygments_lexer": "ipython2",
   "version": "2.7.6"
  }
 },
 "nbformat": 4,
 "nbformat_minor": 5
}
