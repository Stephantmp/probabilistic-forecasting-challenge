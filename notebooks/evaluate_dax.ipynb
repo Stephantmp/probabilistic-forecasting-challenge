{
 "cells": [
  {
   "cell_type": "code",
   "execution_count": 5,
   "id": "initial_id",
   "metadata": {
    "collapsed": true,
    "ExecuteTime": {
     "end_time": "2023-11-18T22:05:05.453288Z",
     "start_time": "2023-11-18T22:05:05.445201Z"
    }
   },
   "outputs": [],
   "source": [
    "from functions import *\n",
    "from functions import evaluate_dax\n",
    "from functions import get_DAX\n",
    "from models.DAX import DAX_baseline\n",
    "from models.DAX import DAX_quantile_regression"
   ]
  },
  {
   "cell_type": "code",
   "execution_count": 6,
   "outputs": [],
   "source": [
    "daxdata=get_DAX.get()\n",
    "\n",
    "baseline_model = {\n",
    "    'name': 'Baseline Model',\n",
    "    'function': DAX_baseline.DAX_baseline\n",
    "}\n",
    "quantile_model = {\n",
    "    'name': 'Quantile Regression',\n",
    "    'function': DAX_quantile_regression.DAX_quantile_regression\n",
    "}\n",
    "\n"
   ],
   "metadata": {
    "collapsed": false,
    "ExecuteTime": {
     "end_time": "2023-11-18T22:05:06.331475Z",
     "start_time": "2023-11-18T22:05:05.954173Z"
    }
   },
   "id": "dc07970c17a71b0e"
  },
  {
   "cell_type": "code",
   "execution_count": 7,
   "outputs": [
    {
     "name": "stderr",
     "output_type": "stream",
     "text": [
      "Evaluating models: 100%|██████████| 3/3 [00:11<00:00,  3.95s/it]\n"
     ]
    }
   ],
   "source": [
    "evaluation_df=evaluate_dax.evaluate_daxmodel(baseline_model,quantile_model,daxdata,last_x=5,weeks=True)"
   ],
   "metadata": {
    "collapsed": false,
    "ExecuteTime": {
     "end_time": "2023-11-18T22:05:18.701511Z",
     "start_time": "2023-11-18T22:05:06.818722Z"
    }
   },
   "id": "e7d4268f284890d5"
  },
  {
   "cell_type": "code",
   "execution_count": 8,
   "outputs": [
    {
     "data": {
      "text/plain": "(Empty DataFrame\n Columns: [forecast_date, target, horizon, q0.025, q0.25, q0.5, q0.75, q0.975, ret1]\n Index: [],\n Empty DataFrame\n Columns: [forecast_date, target, horizon, q0.025, q0.25, q0.5, q0.75, q0.975, ret1]\n Index: [])"
     },
     "execution_count": 8,
     "metadata": {},
     "output_type": "execute_result"
    }
   ],
   "source": [
    "evaluation_df"
   ],
   "metadata": {
    "collapsed": false,
    "ExecuteTime": {
     "end_time": "2023-11-18T22:05:19.495238Z",
     "start_time": "2023-11-18T22:05:19.484757Z"
    }
   },
   "id": "bd6701c47e5b2e9"
  },
  {
   "cell_type": "code",
   "execution_count": 5,
   "outputs": [],
   "source": [
    "df=DAX_baseline.DAX_baseline(daxdata)"
   ],
   "metadata": {
    "collapsed": false,
    "ExecuteTime": {
     "end_time": "2023-11-18T21:27:42.518700Z",
     "start_time": "2023-11-18T21:27:42.508939Z"
    }
   },
   "id": "95c6abc5de41fd66"
  },
  {
   "cell_type": "code",
   "execution_count": 6,
   "outputs": [
    {
     "data": {
      "text/plain": "  forecast_date target horizon    q0.025     q0.25      q0.5     q0.75  \\\n0    2023-11-18    DAX   1 day -3.321265 -0.551383  0.060969  0.720873   \n1    2023-11-18    DAX   2 day -4.087895 -0.823250  0.072355  0.987420   \n2    2023-11-18    DAX   5 day -5.259161 -0.917655  0.161798  1.224285   \n3    2023-11-18    DAX   6 day -6.282629 -1.044070  0.186070  1.440815   \n4    2023-11-18    DAX   7 day -6.735742 -1.091646  0.326190  1.573729   \n\n     q0.975  \n0  2.719772  \n1  3.570492  \n2  4.628697  \n3  5.367396  \n4  6.259934  ",
      "text/html": "<div>\n<style scoped>\n    .dataframe tbody tr th:only-of-type {\n        vertical-align: middle;\n    }\n\n    .dataframe tbody tr th {\n        vertical-align: top;\n    }\n\n    .dataframe thead th {\n        text-align: right;\n    }\n</style>\n<table border=\"1\" class=\"dataframe\">\n  <thead>\n    <tr style=\"text-align: right;\">\n      <th></th>\n      <th>forecast_date</th>\n      <th>target</th>\n      <th>horizon</th>\n      <th>q0.025</th>\n      <th>q0.25</th>\n      <th>q0.5</th>\n      <th>q0.75</th>\n      <th>q0.975</th>\n    </tr>\n  </thead>\n  <tbody>\n    <tr>\n      <th>0</th>\n      <td>2023-11-18</td>\n      <td>DAX</td>\n      <td>1 day</td>\n      <td>-3.321265</td>\n      <td>-0.551383</td>\n      <td>0.060969</td>\n      <td>0.720873</td>\n      <td>2.719772</td>\n    </tr>\n    <tr>\n      <th>1</th>\n      <td>2023-11-18</td>\n      <td>DAX</td>\n      <td>2 day</td>\n      <td>-4.087895</td>\n      <td>-0.823250</td>\n      <td>0.072355</td>\n      <td>0.987420</td>\n      <td>3.570492</td>\n    </tr>\n    <tr>\n      <th>2</th>\n      <td>2023-11-18</td>\n      <td>DAX</td>\n      <td>5 day</td>\n      <td>-5.259161</td>\n      <td>-0.917655</td>\n      <td>0.161798</td>\n      <td>1.224285</td>\n      <td>4.628697</td>\n    </tr>\n    <tr>\n      <th>3</th>\n      <td>2023-11-18</td>\n      <td>DAX</td>\n      <td>6 day</td>\n      <td>-6.282629</td>\n      <td>-1.044070</td>\n      <td>0.186070</td>\n      <td>1.440815</td>\n      <td>5.367396</td>\n    </tr>\n    <tr>\n      <th>4</th>\n      <td>2023-11-18</td>\n      <td>DAX</td>\n      <td>7 day</td>\n      <td>-6.735742</td>\n      <td>-1.091646</td>\n      <td>0.326190</td>\n      <td>1.573729</td>\n      <td>6.259934</td>\n    </tr>\n  </tbody>\n</table>\n</div>"
     },
     "execution_count": 6,
     "metadata": {},
     "output_type": "execute_result"
    }
   ],
   "source": [
    "df"
   ],
   "metadata": {
    "collapsed": false,
    "ExecuteTime": {
     "end_time": "2023-11-18T21:27:42.535643Z",
     "start_time": "2023-11-18T21:27:42.524210Z"
    }
   },
   "id": "1ed4a7a1fa73f327"
  },
  {
   "cell_type": "code",
   "execution_count": 3,
   "outputs": [
    {
     "name": "stderr",
     "output_type": "stream",
     "text": [
      "Evaluating models: 100%|██████████| 3/3 [00:10<00:00,  3.42s/it]\n"
     ]
    }
   ],
   "source": [
    "import pandas as pd\n",
    "from functions.prepare_data import split_time\n",
    "from functions.evaluation import evaluate_horizon\n",
    "from tqdm import tqdm\n",
    "\n",
    "def evaluate_daxmodel(model1, model2, df, last_x=100, years=False, months=False, weeks=False):\n",
    "    df_before = df\n",
    "    evaluation_model1 = pd.DataFrame()\n",
    "    evaluation_model2 = pd.DataFrame()\n",
    "\n",
    "    for w in tqdm(range(2, last_x), desc=\"Evaluating models\"):\n",
    "        df_before, df_after = split_time(df_before, num_years=years, num_months=months, num_weeks=weeks)\n",
    "\n",
    "        # Evaluate model1\n",
    "        pred_model1 = model1['function'](df_before)\n",
    "        evaluation_model1 = evaluate_and_append(evaluation_model1, pred_model1, df, w)\n",
    "\n",
    "        # Evaluate model2\n",
    "        pred_model2 = model2['function'](df_before)\n",
    "        evaluation_model2 = evaluate_and_append(evaluation_model2, pred_model2, df, w)\n",
    "\n",
    "    return evaluation_model1, evaluation_model2\n",
    "\n",
    "def evaluate_and_append(evaluation_df, pred, df, horizon):\n",
    "    # Match predictions with observed values based on forecast_date and horizon\n",
    "    pred['forecast_date'] = pd.to_datetime(pred['forecast_date'])\n",
    "    df['Date'] = pd.to_datetime(df['Date'])\n",
    "\n",
    "    # For each prediction, find the corresponding observed value\n",
    "    for index, row in pred.iterrows():\n",
    "        forecast_date = row['forecast_date']\n",
    "        target_horizon = horizon\n",
    "        target_date = forecast_date + pd.DateOffset(days=target_horizon)\n",
    "\n",
    "        if target_date in df['Date'].values:\n",
    "            observed_value = df.loc[df['Date'] == target_date, 'ret1'].iloc[0]\n",
    "            pred.at[index, 'observed_ret1'] = observed_value\n",
    "        else:\n",
    "            pred.at[index, 'observed_ret1'] = None  # Or some placeholder value\n",
    "\n",
    "    # Calculate score for each prediction\n",
    "    pred['score'] = pred.apply(lambda row: evaluate_horizon(\n",
    "        row[['q0.025', 'q0.25', 'q0.5', 'q0.75', 'q0.975']], row['observed_ret1']), axis=1)\n",
    "\n",
    "    evaluation_df = pd.concat([evaluation_df, pred])\n",
    "    return evaluation_df\n",
    "evaluation_df=evaluate_dax.evaluate_daxmodel(baseline_model,quantile_model,daxdata,last_x=5,weeks=True)"
   ],
   "metadata": {
    "collapsed": false,
    "ExecuteTime": {
     "end_time": "2023-11-18T22:03:28.531269Z",
     "start_time": "2023-11-18T22:03:18.208828Z"
    }
   },
   "id": "bd22088676fa158"
  },
  {
   "cell_type": "code",
   "execution_count": 4,
   "outputs": [
    {
     "data": {
      "text/plain": "(Empty DataFrame\n Columns: [forecast_date, target, horizon, q0.025, q0.25, q0.5, q0.75, q0.975, ret1]\n Index: [],\n Empty DataFrame\n Columns: [forecast_date, target, horizon, q0.025, q0.25, q0.5, q0.75, q0.975, ret1]\n Index: [])"
     },
     "execution_count": 4,
     "metadata": {},
     "output_type": "execute_result"
    }
   ],
   "source": [
    "evaluation_df"
   ],
   "metadata": {
    "collapsed": false,
    "ExecuteTime": {
     "end_time": "2023-11-18T22:03:34.046577Z",
     "start_time": "2023-11-18T22:03:34.022120Z"
    }
   },
   "id": "4d81028351114f6d"
  },
  {
   "cell_type": "code",
   "execution_count": null,
   "outputs": [],
   "source": [],
   "metadata": {
    "collapsed": false
   },
   "id": "76f107fe2c6052ca"
  }
 ],
 "metadata": {
  "kernelspec": {
   "display_name": "Python 3",
   "language": "python",
   "name": "python3"
  },
  "language_info": {
   "codemirror_mode": {
    "name": "ipython",
    "version": 2
   },
   "file_extension": ".py",
   "mimetype": "text/x-python",
   "name": "python",
   "nbconvert_exporter": "python",
   "pygments_lexer": "ipython2",
   "version": "2.7.6"
  }
 },
 "nbformat": 4,
 "nbformat_minor": 5
}
