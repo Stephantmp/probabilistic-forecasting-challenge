{
 "cells": [
  {
   "cell_type": "code",
   "execution_count": 1,
   "id": "initial_id",
   "metadata": {
    "collapsed": true,
    "ExecuteTime": {
     "end_time": "2024-01-04T21:25:56.444616Z",
     "start_time": "2024-01-04T21:25:55.852579Z"
    }
   },
   "outputs": [],
   "source": [
    "from models.energy import energy_quantile_regression\n",
    "from models.energy import energy_regression_temp"
   ]
  },
  {
   "cell_type": "code",
   "execution_count": 2,
   "outputs": [],
   "source": [
    "from functions import get_energy"
   ],
   "metadata": {
    "collapsed": false,
    "ExecuteTime": {
     "end_time": "2024-01-04T21:25:56.451538Z",
     "start_time": "2024-01-04T21:25:56.445441Z"
    }
   },
   "id": "e4bfac08e72cfab4"
  },
  {
   "cell_type": "code",
   "execution_count": 2,
   "outputs": [],
   "source": [],
   "metadata": {
    "collapsed": false,
    "ExecuteTime": {
     "end_time": "2024-01-04T21:25:56.451968Z",
     "start_time": "2024-01-04T21:25:56.448851Z"
    }
   },
   "id": "21e85422749da33b"
  },
  {
   "cell_type": "code",
   "execution_count": 3,
   "outputs": [
    {
     "name": "stderr",
     "output_type": "stream",
     "text": [
      "  0%|          | 0/263 [00:00<?, ?it/s]/Users/stephantimpe/PycharmProjects/probabilistic-forecasting-challenge/functions/get_energy.py:28: FutureWarning: The behavior of DataFrame concatenation with empty or all-NA entries is deprecated. In a future version, this will no longer exclude empty or all-NA columns when determining the result dtypes. To retain the old behavior, exclude the relevant entries before the concat operation.\n",
      "  energydata = pd.concat([energydata, pd.DataFrame(rawdata, columns=col_names)])\n",
      "100%|██████████| 263/263 [00:28<00:00,  9.28it/s]\n"
     ]
    }
   ],
   "source": [
    "energydata = get_energy.get()"
   ],
   "metadata": {
    "collapsed": false,
    "ExecuteTime": {
     "end_time": "2024-01-04T21:26:25.085080Z",
     "start_time": "2024-01-04T21:25:56.452409Z"
    }
   },
   "id": "89d79aa0af2edbaa"
  },
  {
   "cell_type": "code",
   "execution_count": 4,
   "outputs": [],
   "source": [
    "#import read csv\n",
    "from pandas import read_csv"
   ],
   "metadata": {
    "collapsed": false,
    "ExecuteTime": {
     "end_time": "2024-01-04T21:26:25.093950Z",
     "start_time": "2024-01-04T21:26:25.087493Z"
    }
   },
   "id": "96b85cb512917162"
  },
  {
   "cell_type": "code",
   "execution_count": 5,
   "outputs": [],
   "source": [
    "temp_data = read_csv('temperatures.csv')"
   ],
   "metadata": {
    "collapsed": false,
    "ExecuteTime": {
     "end_time": "2024-01-04T21:26:25.124035Z",
     "start_time": "2024-01-04T21:26:25.091716Z"
    }
   },
   "id": "f67ef01c0ed4c707"
  },
  {
   "cell_type": "code",
   "execution_count": 6,
   "outputs": [],
   "source": [
    "temp_data=temp_data.drop(columns=['Unnamed: 0'])"
   ],
   "metadata": {
    "collapsed": false,
    "ExecuteTime": {
     "end_time": "2024-01-04T21:26:25.125910Z",
     "start_time": "2024-01-04T21:26:25.123181Z"
    }
   },
   "id": "97eac2f2c8a84508"
  },
  {
   "cell_type": "code",
   "execution_count": 7,
   "outputs": [],
   "source": [
    "#set date as index\n",
    "temp_data['date'] = temp_data['date'].astype('datetime64[ns]')"
   ],
   "metadata": {
    "collapsed": false,
    "ExecuteTime": {
     "end_time": "2024-01-04T21:26:25.141Z",
     "start_time": "2024-01-04T21:26:25.136289Z"
    }
   },
   "id": "be0c3a4dbd8f6bbe"
  },
  {
   "cell_type": "code",
   "execution_count": 8,
   "outputs": [],
   "source": [
    "temp_data.index = temp_data['date']"
   ],
   "metadata": {
    "collapsed": false,
    "ExecuteTime": {
     "end_time": "2024-01-04T21:26:25.149709Z",
     "start_time": "2024-01-04T21:26:25.142251Z"
    }
   },
   "id": "b28f0d9f06d71eee"
  },
  {
   "cell_type": "code",
   "execution_count": 9,
   "outputs": [],
   "source": [
    "temp_data=temp_data.drop(columns=['date'])"
   ],
   "metadata": {
    "collapsed": false,
    "ExecuteTime": {
     "end_time": "2024-01-04T21:26:25.155406Z",
     "start_time": "2024-01-04T21:26:25.146428Z"
    }
   },
   "id": "efdee5870e7c81e3"
  },
  {
   "cell_type": "code",
   "execution_count": 10,
   "outputs": [],
   "source": [
    "import pandas as pd"
   ],
   "metadata": {
    "collapsed": false,
    "ExecuteTime": {
     "end_time": "2024-01-04T21:26:25.156710Z",
     "start_time": "2024-01-04T21:26:25.151345Z"
    }
   },
   "id": "eec1c401598523f"
  },
  {
   "cell_type": "code",
   "execution_count": 11,
   "outputs": [],
   "source": [
    "#merhe energy and temperature data on index\n",
    "energydata.index = pd.to_datetime(energydata.index)\n",
    "temp_data.index = pd.to_datetime(temp_data.index)\n",
    "energydata = energydata.merge(temp_data, left_index=True, right_index=True)"
   ],
   "metadata": {
    "collapsed": false,
    "ExecuteTime": {
     "end_time": "2024-01-04T21:26:25.223168Z",
     "start_time": "2024-01-04T21:26:25.209297Z"
    }
   },
   "id": "9f351ff562a240b2"
  },
  {
   "cell_type": "code",
   "execution_count": 12,
   "outputs": [
    {
     "data": {
      "text/plain": "                       gesamt  weekday  temperature_2m\n2018-12-24 00:00:00  42.02925        0           4.815\n2018-12-24 01:00:00  39.61025        0           4.665\n2018-12-24 02:00:00  39.13875        0           3.915\n2018-12-24 03:00:00  39.42100        0           3.365\n2018-12-24 04:00:00  40.74775        0           2.965\n...                       ...      ...             ...\n2023-12-11 19:00:00  65.03775        0           7.165\n2023-12-11 20:00:00  61.46575        0           7.115\n2023-12-11 21:00:00  57.69975        0           7.115\n2023-12-11 22:00:00  54.27875        0           6.715\n2023-12-11 23:00:00  50.56925        0           6.565\n\n[43536 rows x 3 columns]",
      "text/html": "<div>\n<style scoped>\n    .dataframe tbody tr th:only-of-type {\n        vertical-align: middle;\n    }\n\n    .dataframe tbody tr th {\n        vertical-align: top;\n    }\n\n    .dataframe thead th {\n        text-align: right;\n    }\n</style>\n<table border=\"1\" class=\"dataframe\">\n  <thead>\n    <tr style=\"text-align: right;\">\n      <th></th>\n      <th>gesamt</th>\n      <th>weekday</th>\n      <th>temperature_2m</th>\n    </tr>\n  </thead>\n  <tbody>\n    <tr>\n      <th>2018-12-24 00:00:00</th>\n      <td>42.02925</td>\n      <td>0</td>\n      <td>4.815</td>\n    </tr>\n    <tr>\n      <th>2018-12-24 01:00:00</th>\n      <td>39.61025</td>\n      <td>0</td>\n      <td>4.665</td>\n    </tr>\n    <tr>\n      <th>2018-12-24 02:00:00</th>\n      <td>39.13875</td>\n      <td>0</td>\n      <td>3.915</td>\n    </tr>\n    <tr>\n      <th>2018-12-24 03:00:00</th>\n      <td>39.42100</td>\n      <td>0</td>\n      <td>3.365</td>\n    </tr>\n    <tr>\n      <th>2018-12-24 04:00:00</th>\n      <td>40.74775</td>\n      <td>0</td>\n      <td>2.965</td>\n    </tr>\n    <tr>\n      <th>...</th>\n      <td>...</td>\n      <td>...</td>\n      <td>...</td>\n    </tr>\n    <tr>\n      <th>2023-12-11 19:00:00</th>\n      <td>65.03775</td>\n      <td>0</td>\n      <td>7.165</td>\n    </tr>\n    <tr>\n      <th>2023-12-11 20:00:00</th>\n      <td>61.46575</td>\n      <td>0</td>\n      <td>7.115</td>\n    </tr>\n    <tr>\n      <th>2023-12-11 21:00:00</th>\n      <td>57.69975</td>\n      <td>0</td>\n      <td>7.115</td>\n    </tr>\n    <tr>\n      <th>2023-12-11 22:00:00</th>\n      <td>54.27875</td>\n      <td>0</td>\n      <td>6.715</td>\n    </tr>\n    <tr>\n      <th>2023-12-11 23:00:00</th>\n      <td>50.56925</td>\n      <td>0</td>\n      <td>6.565</td>\n    </tr>\n  </tbody>\n</table>\n<p>43536 rows × 3 columns</p>\n</div>"
     },
     "execution_count": 12,
     "metadata": {},
     "output_type": "execute_result"
    }
   ],
   "source": [
    "energydata"
   ],
   "metadata": {
    "collapsed": false,
    "ExecuteTime": {
     "end_time": "2024-01-04T21:26:25.238477Z",
     "start_time": "2024-01-04T21:26:25.220721Z"
    }
   },
   "id": "bdb9eb06072f5980"
  },
  {
   "cell_type": "code",
   "execution_count": 13,
   "outputs": [
    {
     "name": "stdout",
     "output_type": "stream",
     "text": [
      "                         QuantReg Regression Results                          \n",
      "==============================================================================\n",
      "Dep. Variable:                 gesamt   Pseudo R-squared:               0.5082\n",
      "Model:                       QuantReg   Bandwidth:                      0.6984\n",
      "Method:                 Least Squares   Sparsity:                        11.93\n",
      "Date:                Thu, 04 Jan 2024   No. Observations:                43536\n",
      "Time:                        22:27:00   Df Residuals:                    43499\n",
      "                                        Df Model:                           36\n",
      "==================================================================================\n",
      "                     coef    std err          t      P>|t|      [0.025      0.975]\n",
      "----------------------------------------------------------------------------------\n",
      "const             58.7713      0.174    338.165      0.000      58.431      59.112\n",
      "weekday           -1.8375      0.014   -128.626      0.000      -1.865      -1.809\n",
      "temperature_2m    -0.1226      0.007    -16.457      0.000      -0.137      -0.108\n",
      "month_2            0.6158      0.142      4.344      0.000       0.338       0.894\n",
      "month_3           -2.9091      0.140    -20.840      0.000      -3.183      -2.635\n",
      "month_4           -6.6803      0.146    -45.742      0.000      -6.967      -6.394\n",
      "month_5           -7.6928      0.159    -48.449      0.000      -8.004      -7.382\n",
      "month_6           -7.0407      0.192    -36.716      0.000      -7.417      -6.665\n",
      "month_7           -6.7975      0.188    -36.152      0.000      -7.166      -6.429\n",
      "month_8           -7.8808      0.191    -41.337      0.000      -8.254      -7.507\n",
      "month_9           -6.6533      0.170    -39.086      0.000      -6.987      -6.320\n",
      "month_10          -4.7697      0.153    -31.200      0.000      -5.069      -4.470\n",
      "month_11          -2.4258      0.142    -17.137      0.000      -2.703      -2.148\n",
      "month_12          -3.2749      0.141    -23.206      0.000      -3.552      -2.998\n",
      "hour_1            -1.8099      0.198     -9.140      0.000      -2.198      -1.422\n",
      "hour_2            -2.7207      0.198    -13.738      0.000      -3.109      -2.333\n",
      "hour_3            -2.7562      0.198    -13.914      0.000      -3.144      -2.368\n",
      "hour_4            -2.0151      0.198    -10.173      0.000      -2.403      -1.627\n",
      "hour_5            -0.0873      0.198     -0.441      0.659      -0.475       0.301\n",
      "hour_6             5.0465      0.198     25.489      0.000       4.658       5.435\n",
      "hour_7            10.3855      0.198     52.406      0.000       9.997      10.774\n",
      "hour_8            13.3931      0.199     67.407      0.000      13.004      13.783\n",
      "hour_9            14.5383      0.200     72.868      0.000      14.147      14.929\n",
      "hour_10           15.6965      0.200     78.299      0.000      15.304      16.089\n",
      "hour_11           16.7054      0.201     82.965      0.000      16.311      17.100\n",
      "hour_12           16.2692      0.202     80.727      0.000      15.874      16.664\n",
      "hour_13           15.2035      0.202     75.283      0.000      14.808      15.599\n",
      "hour_14           13.8304      0.202     68.477      0.000      13.435      14.226\n",
      "hour_15           12.9281      0.201     64.167      0.000      12.533      13.323\n",
      "hour_16           12.2921      0.201     61.235      0.000      11.899      12.686\n",
      "hour_17           13.1110      0.200     65.587      0.000      12.719      13.503\n",
      "hour_18           13.6402      0.199     68.494      0.000      13.250      14.031\n",
      "hour_19           12.8932      0.199     64.932      0.000      12.504      13.282\n",
      "hour_20           10.4568      0.198     52.744      0.000      10.068      10.845\n",
      "hour_21            8.0560      0.198     40.667      0.000       7.668       8.444\n",
      "hour_22            5.5506      0.198     28.031      0.000       5.162       5.939\n",
      "hour_23            2.1163      0.198     10.689      0.000       1.728       2.504\n",
      "==================================================================================\n"
     ]
    }
   ],
   "source": [
    "reg= energy_regression_temp.energy_quantile_regression_temp(energydata,temperature_forecast=[8,9,6,4,3,3],date_str='2023-12-20')"
   ],
   "metadata": {
    "collapsed": false,
    "ExecuteTime": {
     "end_time": "2024-01-04T21:27:00.842888Z",
     "start_time": "2024-01-04T21:26:25.239785Z"
    }
   },
   "id": "7dd57638a11c466b"
  },
  {
   "cell_type": "code",
   "execution_count": 14,
   "outputs": [
    {
     "data": {
      "text/plain": "  forecast_date  target  horizon     q0.025      q0.25       q0.5      q0.75  \\\n0    2023-12-20  energy  36 hour  39.281182  47.789784  52.277807   55.28527   \n1    2023-12-20  energy  40 hour  51.067257  61.134479  65.266133  69.948076   \n2    2023-12-20  energy  44 hour  49.136816  57.356292  60.579088  63.718057   \n3    2023-12-20  energy  60 hour  39.198105  46.567444  50.930858  54.228381   \n4    2023-12-20  energy  64 hour  51.437144  60.237694  64.164448  69.074701   \n5    2023-12-20  energy  68 hour  48.827256  55.971174  59.109507   62.56941   \n\n      q0.975  \n0   57.96702  \n1  74.691423  \n2  67.169442  \n3  57.454846  \n4  74.311288  \n5   66.59125  ",
      "text/html": "<div>\n<style scoped>\n    .dataframe tbody tr th:only-of-type {\n        vertical-align: middle;\n    }\n\n    .dataframe tbody tr th {\n        vertical-align: top;\n    }\n\n    .dataframe thead th {\n        text-align: right;\n    }\n</style>\n<table border=\"1\" class=\"dataframe\">\n  <thead>\n    <tr style=\"text-align: right;\">\n      <th></th>\n      <th>forecast_date</th>\n      <th>target</th>\n      <th>horizon</th>\n      <th>q0.025</th>\n      <th>q0.25</th>\n      <th>q0.5</th>\n      <th>q0.75</th>\n      <th>q0.975</th>\n    </tr>\n  </thead>\n  <tbody>\n    <tr>\n      <th>0</th>\n      <td>2023-12-20</td>\n      <td>energy</td>\n      <td>36 hour</td>\n      <td>39.281182</td>\n      <td>47.789784</td>\n      <td>52.277807</td>\n      <td>55.28527</td>\n      <td>57.96702</td>\n    </tr>\n    <tr>\n      <th>1</th>\n      <td>2023-12-20</td>\n      <td>energy</td>\n      <td>40 hour</td>\n      <td>51.067257</td>\n      <td>61.134479</td>\n      <td>65.266133</td>\n      <td>69.948076</td>\n      <td>74.691423</td>\n    </tr>\n    <tr>\n      <th>2</th>\n      <td>2023-12-20</td>\n      <td>energy</td>\n      <td>44 hour</td>\n      <td>49.136816</td>\n      <td>57.356292</td>\n      <td>60.579088</td>\n      <td>63.718057</td>\n      <td>67.169442</td>\n    </tr>\n    <tr>\n      <th>3</th>\n      <td>2023-12-20</td>\n      <td>energy</td>\n      <td>60 hour</td>\n      <td>39.198105</td>\n      <td>46.567444</td>\n      <td>50.930858</td>\n      <td>54.228381</td>\n      <td>57.454846</td>\n    </tr>\n    <tr>\n      <th>4</th>\n      <td>2023-12-20</td>\n      <td>energy</td>\n      <td>64 hour</td>\n      <td>51.437144</td>\n      <td>60.237694</td>\n      <td>64.164448</td>\n      <td>69.074701</td>\n      <td>74.311288</td>\n    </tr>\n    <tr>\n      <th>5</th>\n      <td>2023-12-20</td>\n      <td>energy</td>\n      <td>68 hour</td>\n      <td>48.827256</td>\n      <td>55.971174</td>\n      <td>59.109507</td>\n      <td>62.56941</td>\n      <td>66.59125</td>\n    </tr>\n  </tbody>\n</table>\n</div>"
     },
     "execution_count": 14,
     "metadata": {},
     "output_type": "execute_result"
    }
   ],
   "source": [
    "reg"
   ],
   "metadata": {
    "collapsed": false,
    "ExecuteTime": {
     "end_time": "2024-01-04T21:27:00.900911Z",
     "start_time": "2024-01-04T21:27:00.840245Z"
    }
   },
   "id": "fe8decc75a4f543f"
  },
  {
   "cell_type": "code",
   "execution_count": 35,
   "outputs": [
    {
     "data": {
      "text/plain": "  forecast_date  target  horizon     q0.025      q0.25       q0.5      q0.75  \\\n0    2023-12-20  energy  36 hour  39.281182  47.789784  52.277807   55.28527   \n1    2023-12-20  energy  40 hour  51.067257  61.134479  65.266133  69.948076   \n2    2023-12-20  energy  44 hour  49.136816  57.356292  60.579088  63.718057   \n3    2023-12-20  energy  60 hour  39.198105  46.567444  50.930858  54.228381   \n4    2023-12-20  energy  64 hour  51.437144  60.237694  64.164448  69.074701   \n5    2023-12-20  energy  68 hour  48.827256  55.971174  59.109507   62.56941   \n\n      q0.975  \n0   57.96702  \n1  74.691423  \n2  67.169442  \n3  57.454846  \n4  74.311288  \n5   66.59125  ",
      "text/html": "<div>\n<style scoped>\n    .dataframe tbody tr th:only-of-type {\n        vertical-align: middle;\n    }\n\n    .dataframe tbody tr th {\n        vertical-align: top;\n    }\n\n    .dataframe thead th {\n        text-align: right;\n    }\n</style>\n<table border=\"1\" class=\"dataframe\">\n  <thead>\n    <tr style=\"text-align: right;\">\n      <th></th>\n      <th>forecast_date</th>\n      <th>target</th>\n      <th>horizon</th>\n      <th>q0.025</th>\n      <th>q0.25</th>\n      <th>q0.5</th>\n      <th>q0.75</th>\n      <th>q0.975</th>\n    </tr>\n  </thead>\n  <tbody>\n    <tr>\n      <th>0</th>\n      <td>2023-12-20</td>\n      <td>energy</td>\n      <td>36 hour</td>\n      <td>39.281182</td>\n      <td>47.789784</td>\n      <td>52.277807</td>\n      <td>55.28527</td>\n      <td>57.96702</td>\n    </tr>\n    <tr>\n      <th>1</th>\n      <td>2023-12-20</td>\n      <td>energy</td>\n      <td>40 hour</td>\n      <td>51.067257</td>\n      <td>61.134479</td>\n      <td>65.266133</td>\n      <td>69.948076</td>\n      <td>74.691423</td>\n    </tr>\n    <tr>\n      <th>2</th>\n      <td>2023-12-20</td>\n      <td>energy</td>\n      <td>44 hour</td>\n      <td>49.136816</td>\n      <td>57.356292</td>\n      <td>60.579088</td>\n      <td>63.718057</td>\n      <td>67.169442</td>\n    </tr>\n    <tr>\n      <th>3</th>\n      <td>2023-12-20</td>\n      <td>energy</td>\n      <td>60 hour</td>\n      <td>39.198105</td>\n      <td>46.567444</td>\n      <td>50.930858</td>\n      <td>54.228381</td>\n      <td>57.454846</td>\n    </tr>\n    <tr>\n      <th>4</th>\n      <td>2023-12-20</td>\n      <td>energy</td>\n      <td>64 hour</td>\n      <td>51.437144</td>\n      <td>60.237694</td>\n      <td>64.164448</td>\n      <td>69.074701</td>\n      <td>74.311288</td>\n    </tr>\n    <tr>\n      <th>5</th>\n      <td>2023-12-20</td>\n      <td>energy</td>\n      <td>68 hour</td>\n      <td>48.827256</td>\n      <td>55.971174</td>\n      <td>59.109507</td>\n      <td>62.56941</td>\n      <td>66.59125</td>\n    </tr>\n  </tbody>\n</table>\n</div>"
     },
     "execution_count": 35,
     "metadata": {},
     "output_type": "execute_result"
    }
   ],
   "source": [
    "reg"
   ],
   "metadata": {
    "collapsed": false,
    "ExecuteTime": {
     "end_time": "2023-12-20T18:20:15.412035Z",
     "start_time": "2023-12-20T18:20:15.374177Z"
    }
   },
   "id": "2b5d48a71414d40e"
  },
  {
   "cell_type": "code",
   "execution_count": 36,
   "outputs": [],
   "source": [
    "from models.DAX import DAX_quantile_regression, DAX_baseline\n",
    "from models.energy import energy_quantile_regression\n",
    "from functions import get_energy, get_DAX, merge_submissions, check_submission\n",
    "from functions.prepare_data import split_time\n",
    "from functions.evaluation import evaluate_horizon\n",
    "from tqdm import tqdm\n",
    "from functions import evaluate_dax\n",
    "from functions import naive_ensemble\n",
    "\n",
    "daxdata = get_DAX.get()\n",
    "base = DAX_baseline.DAX_baseline(daxdata)\n",
    "base\n",
    "quantile = DAX_quantile_regression.DAX_quantile_regression(daxdata)\n",
    "df_dax = naive_ensemble.ensemble(base, quantile, 0.5, 0.5)"
   ],
   "metadata": {
    "collapsed": false,
    "ExecuteTime": {
     "end_time": "2023-12-20T18:20:20.537882Z",
     "start_time": "2023-12-20T18:20:15.389065Z"
    }
   },
   "id": "318ff0766cf7ed9d"
  },
  {
   "cell_type": "code",
   "execution_count": 37,
   "outputs": [],
   "source": [
    "from models.DAX import DAX_quantile_regression, DAX_baseline\n",
    "from models.energy import energy_quantile_regression\n",
    "from functions import get_energy,get_DAX,merge_submissions,check_submission\n",
    "from functions.prepare_data import split_time\n",
    "from functions.evaluation import evaluate_horizon\n",
    "from tqdm import tqdm\n",
    "from functions import evaluate_model\n",
    "from models.energy import energy_baseline"
   ],
   "metadata": {
    "collapsed": false,
    "ExecuteTime": {
     "end_time": "2023-12-20T18:20:20.559241Z",
     "start_time": "2023-12-20T18:20:20.550897Z"
    }
   },
   "id": "4ece3c12650784a2"
  },
  {
   "cell_type": "code",
   "execution_count": 37,
   "outputs": [],
   "source": [],
   "metadata": {
    "collapsed": false,
    "ExecuteTime": {
     "end_time": "2023-12-20T18:20:20.571811Z",
     "start_time": "2023-12-20T18:20:20.561493Z"
    }
   },
   "id": "2efc17e9fb472b7b"
  },
  {
   "cell_type": "code",
   "execution_count": 38,
   "outputs": [
    {
     "name": "stdout",
     "output_type": "stream",
     "text": [
      "  forecast_date      target  horizon     q0.025      q0.25       q0.5  \\\n",
      "0    2023-12-20         DAX    1 day  -2.889883  -0.553345   0.063023   \n",
      "1    2023-12-20         DAX    2 day  -2.823391  -0.241397    0.58968   \n",
      "2    2023-12-20         DAX    5 day  -4.088016  -0.930304    0.00483   \n",
      "3    2023-12-20         DAX    6 day  -4.645894  -1.060094  -0.012574   \n",
      "4    2023-12-20         DAX    7 day  -4.840274  -1.196746  -0.074314   \n",
      "0    2023-12-20      energy  36 hour  39.281182  47.789784  52.277807   \n",
      "1    2023-12-20      energy  40 hour  51.067257  61.134479  65.266133   \n",
      "2    2023-12-20      energy  44 hour  49.136816  57.356292  60.579088   \n",
      "3    2023-12-20      energy  60 hour  39.198105  46.567444  50.930858   \n",
      "4    2023-12-20      energy  64 hour  51.437144  60.237694  64.164448   \n",
      "5    2023-12-20      energy  68 hour  48.827256  55.971174  59.109507   \n",
      "0    2023-12-20  infections   0 week         NA         NA         NA   \n",
      "1    2023-12-20  infections   1 week         NA         NA         NA   \n",
      "2    2023-12-20  infections   2 week         NA         NA         NA   \n",
      "3    2023-12-20  infections   3 week         NA         NA         NA   \n",
      "4    2023-12-20  infections   4 week         NA         NA         NA   \n",
      "\n",
      "       q0.75     q0.975  \n",
      "0   0.678244   2.289265  \n",
      "1   1.336447    3.44167  \n",
      "2   0.863911   3.226479  \n",
      "3    0.94207   3.582623  \n",
      "4   0.861862   3.964774  \n",
      "0   55.28527   57.96702  \n",
      "1  69.948076  74.691423  \n",
      "2  63.718057  67.169442  \n",
      "3  54.228381  57.454846  \n",
      "4  69.074701  74.311288  \n",
      "5   62.56941   66.59125  \n",
      "0         NA         NA  \n",
      "1         NA         NA  \n",
      "2         NA         NA  \n",
      "3         NA         NA  \n",
      "4         NA         NA  \n"
     ]
    }
   ],
   "source": [
    "df_sub = merge_submissions.merge(reg, df_dax)"
   ],
   "metadata": {
    "collapsed": false,
    "ExecuteTime": {
     "end_time": "2023-12-20T18:20:20.626384Z",
     "start_time": "2023-12-20T18:20:20.585195Z"
    }
   },
   "id": "69355b1f0cff6643"
  },
  {
   "cell_type": "code",
   "execution_count": 39,
   "outputs": [
    {
     "data": {
      "text/plain": "  forecast_date      target  horizon     q0.025      q0.25       q0.5  \\\n0    2023-12-20         DAX    1 day  -2.889883  -0.553345   0.063023   \n1    2023-12-20         DAX    2 day  -2.823391  -0.241397    0.58968   \n2    2023-12-20         DAX    5 day  -4.088016  -0.930304    0.00483   \n3    2023-12-20         DAX    6 day  -4.645894  -1.060094  -0.012574   \n4    2023-12-20         DAX    7 day  -4.840274  -1.196746  -0.074314   \n0    2023-12-20      energy  36 hour  39.281182  47.789784  52.277807   \n1    2023-12-20      energy  40 hour  51.067257  61.134479  65.266133   \n2    2023-12-20      energy  44 hour  49.136816  57.356292  60.579088   \n3    2023-12-20      energy  60 hour  39.198105  46.567444  50.930858   \n4    2023-12-20      energy  64 hour  51.437144  60.237694  64.164448   \n5    2023-12-20      energy  68 hour  48.827256  55.971174  59.109507   \n0    2023-12-20  infections   0 week         NA         NA         NA   \n1    2023-12-20  infections   1 week         NA         NA         NA   \n2    2023-12-20  infections   2 week         NA         NA         NA   \n3    2023-12-20  infections   3 week         NA         NA         NA   \n4    2023-12-20  infections   4 week         NA         NA         NA   \n\n       q0.75     q0.975  \n0   0.678244   2.289265  \n1   1.336447    3.44167  \n2   0.863911   3.226479  \n3    0.94207   3.582623  \n4   0.861862   3.964774  \n0   55.28527   57.96702  \n1  69.948076  74.691423  \n2  63.718057  67.169442  \n3  54.228381  57.454846  \n4  69.074701  74.311288  \n5   62.56941   66.59125  \n0         NA         NA  \n1         NA         NA  \n2         NA         NA  \n3         NA         NA  \n4         NA         NA  ",
      "text/html": "<div>\n<style scoped>\n    .dataframe tbody tr th:only-of-type {\n        vertical-align: middle;\n    }\n\n    .dataframe tbody tr th {\n        vertical-align: top;\n    }\n\n    .dataframe thead th {\n        text-align: right;\n    }\n</style>\n<table border=\"1\" class=\"dataframe\">\n  <thead>\n    <tr style=\"text-align: right;\">\n      <th></th>\n      <th>forecast_date</th>\n      <th>target</th>\n      <th>horizon</th>\n      <th>q0.025</th>\n      <th>q0.25</th>\n      <th>q0.5</th>\n      <th>q0.75</th>\n      <th>q0.975</th>\n    </tr>\n  </thead>\n  <tbody>\n    <tr>\n      <th>0</th>\n      <td>2023-12-20</td>\n      <td>DAX</td>\n      <td>1 day</td>\n      <td>-2.889883</td>\n      <td>-0.553345</td>\n      <td>0.063023</td>\n      <td>0.678244</td>\n      <td>2.289265</td>\n    </tr>\n    <tr>\n      <th>1</th>\n      <td>2023-12-20</td>\n      <td>DAX</td>\n      <td>2 day</td>\n      <td>-2.823391</td>\n      <td>-0.241397</td>\n      <td>0.58968</td>\n      <td>1.336447</td>\n      <td>3.44167</td>\n    </tr>\n    <tr>\n      <th>2</th>\n      <td>2023-12-20</td>\n      <td>DAX</td>\n      <td>5 day</td>\n      <td>-4.088016</td>\n      <td>-0.930304</td>\n      <td>0.00483</td>\n      <td>0.863911</td>\n      <td>3.226479</td>\n    </tr>\n    <tr>\n      <th>3</th>\n      <td>2023-12-20</td>\n      <td>DAX</td>\n      <td>6 day</td>\n      <td>-4.645894</td>\n      <td>-1.060094</td>\n      <td>-0.012574</td>\n      <td>0.94207</td>\n      <td>3.582623</td>\n    </tr>\n    <tr>\n      <th>4</th>\n      <td>2023-12-20</td>\n      <td>DAX</td>\n      <td>7 day</td>\n      <td>-4.840274</td>\n      <td>-1.196746</td>\n      <td>-0.074314</td>\n      <td>0.861862</td>\n      <td>3.964774</td>\n    </tr>\n    <tr>\n      <th>0</th>\n      <td>2023-12-20</td>\n      <td>energy</td>\n      <td>36 hour</td>\n      <td>39.281182</td>\n      <td>47.789784</td>\n      <td>52.277807</td>\n      <td>55.28527</td>\n      <td>57.96702</td>\n    </tr>\n    <tr>\n      <th>1</th>\n      <td>2023-12-20</td>\n      <td>energy</td>\n      <td>40 hour</td>\n      <td>51.067257</td>\n      <td>61.134479</td>\n      <td>65.266133</td>\n      <td>69.948076</td>\n      <td>74.691423</td>\n    </tr>\n    <tr>\n      <th>2</th>\n      <td>2023-12-20</td>\n      <td>energy</td>\n      <td>44 hour</td>\n      <td>49.136816</td>\n      <td>57.356292</td>\n      <td>60.579088</td>\n      <td>63.718057</td>\n      <td>67.169442</td>\n    </tr>\n    <tr>\n      <th>3</th>\n      <td>2023-12-20</td>\n      <td>energy</td>\n      <td>60 hour</td>\n      <td>39.198105</td>\n      <td>46.567444</td>\n      <td>50.930858</td>\n      <td>54.228381</td>\n      <td>57.454846</td>\n    </tr>\n    <tr>\n      <th>4</th>\n      <td>2023-12-20</td>\n      <td>energy</td>\n      <td>64 hour</td>\n      <td>51.437144</td>\n      <td>60.237694</td>\n      <td>64.164448</td>\n      <td>69.074701</td>\n      <td>74.311288</td>\n    </tr>\n    <tr>\n      <th>5</th>\n      <td>2023-12-20</td>\n      <td>energy</td>\n      <td>68 hour</td>\n      <td>48.827256</td>\n      <td>55.971174</td>\n      <td>59.109507</td>\n      <td>62.56941</td>\n      <td>66.59125</td>\n    </tr>\n    <tr>\n      <th>0</th>\n      <td>2023-12-20</td>\n      <td>infections</td>\n      <td>0 week</td>\n      <td>NA</td>\n      <td>NA</td>\n      <td>NA</td>\n      <td>NA</td>\n      <td>NA</td>\n    </tr>\n    <tr>\n      <th>1</th>\n      <td>2023-12-20</td>\n      <td>infections</td>\n      <td>1 week</td>\n      <td>NA</td>\n      <td>NA</td>\n      <td>NA</td>\n      <td>NA</td>\n      <td>NA</td>\n    </tr>\n    <tr>\n      <th>2</th>\n      <td>2023-12-20</td>\n      <td>infections</td>\n      <td>2 week</td>\n      <td>NA</td>\n      <td>NA</td>\n      <td>NA</td>\n      <td>NA</td>\n      <td>NA</td>\n    </tr>\n    <tr>\n      <th>3</th>\n      <td>2023-12-20</td>\n      <td>infections</td>\n      <td>3 week</td>\n      <td>NA</td>\n      <td>NA</td>\n      <td>NA</td>\n      <td>NA</td>\n      <td>NA</td>\n    </tr>\n    <tr>\n      <th>4</th>\n      <td>2023-12-20</td>\n      <td>infections</td>\n      <td>4 week</td>\n      <td>NA</td>\n      <td>NA</td>\n      <td>NA</td>\n      <td>NA</td>\n      <td>NA</td>\n    </tr>\n  </tbody>\n</table>\n</div>"
     },
     "execution_count": 39,
     "metadata": {},
     "output_type": "execute_result"
    }
   ],
   "source": [
    "df_sub"
   ],
   "metadata": {
    "collapsed": false,
    "ExecuteTime": {
     "end_time": "2023-12-20T18:20:20.638123Z",
     "start_time": "2023-12-20T18:20:20.614887Z"
    }
   },
   "id": "d6bf660904a9c114"
  },
  {
   "cell_type": "code",
   "execution_count": 40,
   "outputs": [],
   "source": [
    "df_sub.to_csv('../../forecasts/20231220_JonSnow.csv',index=False)"
   ],
   "metadata": {
    "collapsed": false,
    "ExecuteTime": {
     "end_time": "2023-12-20T18:20:20.641084Z",
     "start_time": "2023-12-20T18:20:20.636122Z"
    }
   },
   "id": "745404b3ef269e9d"
  },
  {
   "cell_type": "code",
   "execution_count": 40,
   "outputs": [],
   "source": [],
   "metadata": {
    "collapsed": false,
    "ExecuteTime": {
     "end_time": "2023-12-20T18:20:20.649075Z",
     "start_time": "2023-12-20T18:20:20.642696Z"
    }
   },
   "id": "f94de3efe465cc44"
  }
 ],
 "metadata": {
  "kernelspec": {
   "display_name": "Python 3",
   "language": "python",
   "name": "python3"
  },
  "language_info": {
   "codemirror_mode": {
    "name": "ipython",
    "version": 2
   },
   "file_extension": ".py",
   "mimetype": "text/x-python",
   "name": "python",
   "nbconvert_exporter": "python",
   "pygments_lexer": "ipython2",
   "version": "2.7.6"
  }
 },
 "nbformat": 4,
 "nbformat_minor": 5
}
