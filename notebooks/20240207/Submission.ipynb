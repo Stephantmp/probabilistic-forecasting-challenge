{
 "cells": [
  {
   "cell_type": "code",
   "execution_count": 143,
   "id": "initial_id",
   "metadata": {
    "collapsed": true,
    "ExecuteTime": {
     "end_time": "2024-02-07T22:37:24.411629Z",
     "start_time": "2024-02-07T22:37:24.409749Z"
    }
   },
   "outputs": [],
   "source": [
    "from models.DAX import DAX_quantile_regression, DAX_baseline\n",
    "from models.energy import energy_models\n",
    "from functions import get_energy,get_DAX,merge_submissions,check_submission\n",
    "from functions.prepare_data import split_time\n",
    "from functions.evaluation import evaluate_horizon\n",
    "from tqdm import tqdm\n",
    "from functions import evaluate_dax\n",
    "import numpy as np"
   ]
  },
  {
   "cell_type": "code",
   "execution_count": 144,
   "outputs": [],
   "source": [
    "from functions import naive_ensemble"
   ],
   "metadata": {
    "collapsed": false,
    "ExecuteTime": {
     "end_time": "2024-02-07T22:37:24.928595Z",
     "start_time": "2024-02-07T22:37:24.919323Z"
    }
   },
   "id": "2ce850d6890c7f7e"
  },
  {
   "cell_type": "code",
   "execution_count": 145,
   "outputs": [],
   "source": [
    "daxdata = get_DAX.get()"
   ],
   "metadata": {
    "collapsed": false,
    "ExecuteTime": {
     "end_time": "2024-02-07T22:37:25.546823Z",
     "start_time": "2024-02-07T22:37:25.206248Z"
    }
   },
   "id": "f9e3cc3455a4dedb"
  },
  {
   "cell_type": "code",
   "execution_count": 146,
   "outputs": [],
   "source": [
    "base = DAX_baseline.DAX_baseline(daxdata)"
   ],
   "metadata": {
    "collapsed": false,
    "ExecuteTime": {
     "end_time": "2024-02-07T22:37:25.553445Z",
     "start_time": "2024-02-07T22:37:25.548781Z"
    }
   },
   "id": "ec5c75e7ea26f528"
  },
  {
   "cell_type": "code",
   "execution_count": 147,
   "outputs": [
    {
     "data": {
      "text/plain": "  forecast_date target horizon    q0.025     q0.25      q0.5     q0.75  \\\n0    2024-02-07    DAX   1 day -2.957440 -0.510195  0.073395  0.715653   \n1    2024-02-07    DAX   2 day -3.936562 -0.759111  0.100316  0.978977   \n2    2024-02-07    DAX   5 day -4.615241 -0.853908  0.168228  1.251251   \n3    2024-02-07    DAX   6 day -5.246158 -0.921253  0.218176  1.451656   \n4    2024-02-07    DAX   7 day -5.683390 -0.970269  0.344808  1.607134   \n\n     q0.975  \n0  2.719772  \n1  3.570492  \n2  4.628697  \n3  5.367396  \n4  6.259934  ",
      "text/html": "<div>\n<style scoped>\n    .dataframe tbody tr th:only-of-type {\n        vertical-align: middle;\n    }\n\n    .dataframe tbody tr th {\n        vertical-align: top;\n    }\n\n    .dataframe thead th {\n        text-align: right;\n    }\n</style>\n<table border=\"1\" class=\"dataframe\">\n  <thead>\n    <tr style=\"text-align: right;\">\n      <th></th>\n      <th>forecast_date</th>\n      <th>target</th>\n      <th>horizon</th>\n      <th>q0.025</th>\n      <th>q0.25</th>\n      <th>q0.5</th>\n      <th>q0.75</th>\n      <th>q0.975</th>\n    </tr>\n  </thead>\n  <tbody>\n    <tr>\n      <th>0</th>\n      <td>2024-02-07</td>\n      <td>DAX</td>\n      <td>1 day</td>\n      <td>-2.957440</td>\n      <td>-0.510195</td>\n      <td>0.073395</td>\n      <td>0.715653</td>\n      <td>2.719772</td>\n    </tr>\n    <tr>\n      <th>1</th>\n      <td>2024-02-07</td>\n      <td>DAX</td>\n      <td>2 day</td>\n      <td>-3.936562</td>\n      <td>-0.759111</td>\n      <td>0.100316</td>\n      <td>0.978977</td>\n      <td>3.570492</td>\n    </tr>\n    <tr>\n      <th>2</th>\n      <td>2024-02-07</td>\n      <td>DAX</td>\n      <td>5 day</td>\n      <td>-4.615241</td>\n      <td>-0.853908</td>\n      <td>0.168228</td>\n      <td>1.251251</td>\n      <td>4.628697</td>\n    </tr>\n    <tr>\n      <th>3</th>\n      <td>2024-02-07</td>\n      <td>DAX</td>\n      <td>6 day</td>\n      <td>-5.246158</td>\n      <td>-0.921253</td>\n      <td>0.218176</td>\n      <td>1.451656</td>\n      <td>5.367396</td>\n    </tr>\n    <tr>\n      <th>4</th>\n      <td>2024-02-07</td>\n      <td>DAX</td>\n      <td>7 day</td>\n      <td>-5.683390</td>\n      <td>-0.970269</td>\n      <td>0.344808</td>\n      <td>1.607134</td>\n      <td>6.259934</td>\n    </tr>\n  </tbody>\n</table>\n</div>"
     },
     "execution_count": 147,
     "metadata": {},
     "output_type": "execute_result"
    }
   ],
   "source": [
    "base"
   ],
   "metadata": {
    "collapsed": false,
    "ExecuteTime": {
     "end_time": "2024-02-07T22:37:26.210576Z",
     "start_time": "2024-02-07T22:37:26.204147Z"
    }
   },
   "id": "a8cb24f5fba12ced"
  },
  {
   "cell_type": "code",
   "execution_count": 148,
   "outputs": [],
   "source": [
    "quantile = DAX_quantile_regression.DAX_quantile_regression(daxdata)"
   ],
   "metadata": {
    "collapsed": false,
    "ExecuteTime": {
     "end_time": "2024-02-07T22:37:33.073870Z",
     "start_time": "2024-02-07T22:37:28.557102Z"
    }
   },
   "id": "41c45532b2bc7fef"
  },
  {
   "cell_type": "code",
   "execution_count": 149,
   "outputs": [
    {
     "data": {
      "text/plain": "  forecast_date target horizon    q0.025     q0.25      q0.5     q0.75  \\\n0    2024-02-07    DAX   1 day -2.957440 -0.510195  0.073395  0.715653   \n1    2024-02-07    DAX   2 day -3.936562 -0.759111  0.100316  0.978977   \n2    2024-02-07    DAX   5 day -4.615241 -0.853908  0.168228  1.251251   \n3    2024-02-07    DAX   6 day -5.246158 -0.921253  0.218176  1.451656   \n4    2024-02-07    DAX   7 day -5.683390 -0.970269  0.344808  1.607134   \n\n     q0.975  \n0  2.719772  \n1  3.570492  \n2  4.628697  \n3  5.367396  \n4  6.259934  ",
      "text/html": "<div>\n<style scoped>\n    .dataframe tbody tr th:only-of-type {\n        vertical-align: middle;\n    }\n\n    .dataframe tbody tr th {\n        vertical-align: top;\n    }\n\n    .dataframe thead th {\n        text-align: right;\n    }\n</style>\n<table border=\"1\" class=\"dataframe\">\n  <thead>\n    <tr style=\"text-align: right;\">\n      <th></th>\n      <th>forecast_date</th>\n      <th>target</th>\n      <th>horizon</th>\n      <th>q0.025</th>\n      <th>q0.25</th>\n      <th>q0.5</th>\n      <th>q0.75</th>\n      <th>q0.975</th>\n    </tr>\n  </thead>\n  <tbody>\n    <tr>\n      <th>0</th>\n      <td>2024-02-07</td>\n      <td>DAX</td>\n      <td>1 day</td>\n      <td>-2.957440</td>\n      <td>-0.510195</td>\n      <td>0.073395</td>\n      <td>0.715653</td>\n      <td>2.719772</td>\n    </tr>\n    <tr>\n      <th>1</th>\n      <td>2024-02-07</td>\n      <td>DAX</td>\n      <td>2 day</td>\n      <td>-3.936562</td>\n      <td>-0.759111</td>\n      <td>0.100316</td>\n      <td>0.978977</td>\n      <td>3.570492</td>\n    </tr>\n    <tr>\n      <th>2</th>\n      <td>2024-02-07</td>\n      <td>DAX</td>\n      <td>5 day</td>\n      <td>-4.615241</td>\n      <td>-0.853908</td>\n      <td>0.168228</td>\n      <td>1.251251</td>\n      <td>4.628697</td>\n    </tr>\n    <tr>\n      <th>3</th>\n      <td>2024-02-07</td>\n      <td>DAX</td>\n      <td>6 day</td>\n      <td>-5.246158</td>\n      <td>-0.921253</td>\n      <td>0.218176</td>\n      <td>1.451656</td>\n      <td>5.367396</td>\n    </tr>\n    <tr>\n      <th>4</th>\n      <td>2024-02-07</td>\n      <td>DAX</td>\n      <td>7 day</td>\n      <td>-5.683390</td>\n      <td>-0.970269</td>\n      <td>0.344808</td>\n      <td>1.607134</td>\n      <td>6.259934</td>\n    </tr>\n  </tbody>\n</table>\n</div>"
     },
     "execution_count": 149,
     "metadata": {},
     "output_type": "execute_result"
    }
   ],
   "source": [
    "base"
   ],
   "metadata": {
    "collapsed": false,
    "ExecuteTime": {
     "end_time": "2024-02-07T22:37:33.142268Z",
     "start_time": "2024-02-07T22:37:33.090174Z"
    }
   },
   "id": "f3a06c002fba56e4"
  },
  {
   "cell_type": "code",
   "execution_count": 150,
   "outputs": [
    {
     "data": {
      "text/plain": "  forecast_date target horizon    q0.025     q0.25      q0.5     q0.75  \\\n0    2024-02-07    DAX   1 day -2.209547 -0.493443  0.002910  0.498812   \n1    2024-02-07    DAX   2 day -0.885366  0.836554  1.456188  1.955771   \n2    2024-02-07    DAX   5 day -1.161187  0.593248  1.236310  1.702845   \n3    2024-02-07    DAX   6 day -0.619690  1.138833  1.863729  2.386058   \n4    2024-02-07    DAX   7 day -1.036068  0.598991  1.264714  1.688108   \n\n     q0.975  \n0  1.640074  \n1  3.507276  \n2  3.029730  \n3  3.608379  \n4  3.057734  ",
      "text/html": "<div>\n<style scoped>\n    .dataframe tbody tr th:only-of-type {\n        vertical-align: middle;\n    }\n\n    .dataframe tbody tr th {\n        vertical-align: top;\n    }\n\n    .dataframe thead th {\n        text-align: right;\n    }\n</style>\n<table border=\"1\" class=\"dataframe\">\n  <thead>\n    <tr style=\"text-align: right;\">\n      <th></th>\n      <th>forecast_date</th>\n      <th>target</th>\n      <th>horizon</th>\n      <th>q0.025</th>\n      <th>q0.25</th>\n      <th>q0.5</th>\n      <th>q0.75</th>\n      <th>q0.975</th>\n    </tr>\n  </thead>\n  <tbody>\n    <tr>\n      <th>0</th>\n      <td>2024-02-07</td>\n      <td>DAX</td>\n      <td>1 day</td>\n      <td>-2.209547</td>\n      <td>-0.493443</td>\n      <td>0.002910</td>\n      <td>0.498812</td>\n      <td>1.640074</td>\n    </tr>\n    <tr>\n      <th>1</th>\n      <td>2024-02-07</td>\n      <td>DAX</td>\n      <td>2 day</td>\n      <td>-0.885366</td>\n      <td>0.836554</td>\n      <td>1.456188</td>\n      <td>1.955771</td>\n      <td>3.507276</td>\n    </tr>\n    <tr>\n      <th>2</th>\n      <td>2024-02-07</td>\n      <td>DAX</td>\n      <td>5 day</td>\n      <td>-1.161187</td>\n      <td>0.593248</td>\n      <td>1.236310</td>\n      <td>1.702845</td>\n      <td>3.029730</td>\n    </tr>\n    <tr>\n      <th>3</th>\n      <td>2024-02-07</td>\n      <td>DAX</td>\n      <td>6 day</td>\n      <td>-0.619690</td>\n      <td>1.138833</td>\n      <td>1.863729</td>\n      <td>2.386058</td>\n      <td>3.608379</td>\n    </tr>\n    <tr>\n      <th>4</th>\n      <td>2024-02-07</td>\n      <td>DAX</td>\n      <td>7 day</td>\n      <td>-1.036068</td>\n      <td>0.598991</td>\n      <td>1.264714</td>\n      <td>1.688108</td>\n      <td>3.057734</td>\n    </tr>\n  </tbody>\n</table>\n</div>"
     },
     "execution_count": 150,
     "metadata": {},
     "output_type": "execute_result"
    }
   ],
   "source": [
    "quantile"
   ],
   "metadata": {
    "collapsed": false,
    "ExecuteTime": {
     "end_time": "2024-02-07T22:37:33.153822Z",
     "start_time": "2024-02-07T22:37:33.133676Z"
    }
   },
   "id": "eaf1a3bf41c37db6"
  },
  {
   "cell_type": "code",
   "execution_count": 151,
   "outputs": [],
   "source": [
    "df_dax = naive_ensemble.ensemble(base,quantile,0.8,0.2)"
   ],
   "metadata": {
    "collapsed": false,
    "ExecuteTime": {
     "end_time": "2024-02-07T22:37:33.187694Z",
     "start_time": "2024-02-07T22:37:33.159307Z"
    }
   },
   "id": "f43ba6072018640e"
  },
  {
   "cell_type": "code",
   "execution_count": 152,
   "outputs": [
    {
     "data": {
      "text/plain": "  forecast_date target horizon    q0.025     q0.25      q0.5     q0.75  \\\n0    2024-02-07    DAX   1 day -2.807862 -0.506845  0.059298  0.672285   \n1    2024-02-07    DAX   2 day -3.326323 -0.439978  0.371490  1.174336   \n2    2024-02-07    DAX   5 day -3.924430 -0.564477  0.381845  1.341569   \n3    2024-02-07    DAX   6 day -4.320864 -0.509236  0.547286  1.638536   \n4    2024-02-07    DAX   7 day -4.753926 -0.656417  0.528789  1.623329   \n\n     q0.975  \n0  2.503832  \n1  3.557849  \n2  4.308904  \n3  5.015593  \n4  5.619494  ",
      "text/html": "<div>\n<style scoped>\n    .dataframe tbody tr th:only-of-type {\n        vertical-align: middle;\n    }\n\n    .dataframe tbody tr th {\n        vertical-align: top;\n    }\n\n    .dataframe thead th {\n        text-align: right;\n    }\n</style>\n<table border=\"1\" class=\"dataframe\">\n  <thead>\n    <tr style=\"text-align: right;\">\n      <th></th>\n      <th>forecast_date</th>\n      <th>target</th>\n      <th>horizon</th>\n      <th>q0.025</th>\n      <th>q0.25</th>\n      <th>q0.5</th>\n      <th>q0.75</th>\n      <th>q0.975</th>\n    </tr>\n  </thead>\n  <tbody>\n    <tr>\n      <th>0</th>\n      <td>2024-02-07</td>\n      <td>DAX</td>\n      <td>1 day</td>\n      <td>-2.807862</td>\n      <td>-0.506845</td>\n      <td>0.059298</td>\n      <td>0.672285</td>\n      <td>2.503832</td>\n    </tr>\n    <tr>\n      <th>1</th>\n      <td>2024-02-07</td>\n      <td>DAX</td>\n      <td>2 day</td>\n      <td>-3.326323</td>\n      <td>-0.439978</td>\n      <td>0.371490</td>\n      <td>1.174336</td>\n      <td>3.557849</td>\n    </tr>\n    <tr>\n      <th>2</th>\n      <td>2024-02-07</td>\n      <td>DAX</td>\n      <td>5 day</td>\n      <td>-3.924430</td>\n      <td>-0.564477</td>\n      <td>0.381845</td>\n      <td>1.341569</td>\n      <td>4.308904</td>\n    </tr>\n    <tr>\n      <th>3</th>\n      <td>2024-02-07</td>\n      <td>DAX</td>\n      <td>6 day</td>\n      <td>-4.320864</td>\n      <td>-0.509236</td>\n      <td>0.547286</td>\n      <td>1.638536</td>\n      <td>5.015593</td>\n    </tr>\n    <tr>\n      <th>4</th>\n      <td>2024-02-07</td>\n      <td>DAX</td>\n      <td>7 day</td>\n      <td>-4.753926</td>\n      <td>-0.656417</td>\n      <td>0.528789</td>\n      <td>1.623329</td>\n      <td>5.619494</td>\n    </tr>\n  </tbody>\n</table>\n</div>"
     },
     "execution_count": 152,
     "metadata": {},
     "output_type": "execute_result"
    }
   ],
   "source": [
    "df_dax"
   ],
   "metadata": {
    "collapsed": false,
    "ExecuteTime": {
     "end_time": "2024-02-07T22:37:33.283132Z",
     "start_time": "2024-02-07T22:37:33.164151Z"
    }
   },
   "id": "f65a5a521ad3258e"
  },
  {
   "cell_type": "code",
   "execution_count": 153,
   "outputs": [
    {
     "name": "stderr",
     "output_type": "stream",
     "text": [
      "  0%|          | 0/268 [00:00<?, ?it/s]/Users/stephantimpe/PycharmProjects/probabilistic-forecasting-challenge/functions/get_energy.py:28: FutureWarning: The behavior of DataFrame concatenation with empty or all-NA entries is deprecated. In a future version, this will no longer exclude empty or all-NA columns when determining the result dtypes. To retain the old behavior, exclude the relevant entries before the concat operation.\n",
      "  energydata = pd.concat([energydata, pd.DataFrame(rawdata, columns=col_names)])\n",
      "100%|██████████| 268/268 [00:27<00:00,  9.74it/s]\n"
     ]
    }
   ],
   "source": [
    "energydata= get_energy.get()"
   ],
   "metadata": {
    "collapsed": false,
    "ExecuteTime": {
     "end_time": "2024-02-07T22:38:02.331732Z",
     "start_time": "2024-02-07T22:37:34.605539Z"
    }
   },
   "id": "6825a919679471df"
  },
  {
   "cell_type": "code",
   "execution_count": 154,
   "outputs": [],
   "source": [
    "df_energy= energy_models.energy_XGBoost(energydata,date_str='2024-02-07')"
   ],
   "metadata": {
    "collapsed": false,
    "ExecuteTime": {
     "end_time": "2024-02-07T22:38:24.098402Z",
     "start_time": "2024-02-07T22:38:04.478972Z"
    }
   },
   "id": "d1d2a9506ee6ab6c"
  },
  {
   "cell_type": "code",
   "execution_count": 155,
   "outputs": [
    {
     "data": {
      "text/plain": "  forecast_date  target  horizon     q0.025      q0.25       q0.5      q0.75  \\\n0    2024-02-07  energy  36 hour  64.022408  69.107910  72.117012  74.818108   \n1    2024-02-07  energy  40 hour  60.963951  64.634949  67.998154  69.369057   \n2    2024-02-07  energy  44 hour  59.942081  62.896214  64.971146  67.447548   \n3    2024-02-07  energy  60 hour  57.347794  59.956478  61.959045  63.195324   \n4    2024-02-07  energy  64 hour  53.532665  56.130779  57.538334  58.280888   \n5    2024-02-07  energy  68 hour  53.326565  57.302132  58.636341  59.574402   \n\n      q0.975  \n0  76.808556  \n1  72.419327  \n2  68.162323  \n3  65.075684  \n4  62.741554  \n5  60.950912  ",
      "text/html": "<div>\n<style scoped>\n    .dataframe tbody tr th:only-of-type {\n        vertical-align: middle;\n    }\n\n    .dataframe tbody tr th {\n        vertical-align: top;\n    }\n\n    .dataframe thead th {\n        text-align: right;\n    }\n</style>\n<table border=\"1\" class=\"dataframe\">\n  <thead>\n    <tr style=\"text-align: right;\">\n      <th></th>\n      <th>forecast_date</th>\n      <th>target</th>\n      <th>horizon</th>\n      <th>q0.025</th>\n      <th>q0.25</th>\n      <th>q0.5</th>\n      <th>q0.75</th>\n      <th>q0.975</th>\n    </tr>\n  </thead>\n  <tbody>\n    <tr>\n      <th>0</th>\n      <td>2024-02-07</td>\n      <td>energy</td>\n      <td>36 hour</td>\n      <td>64.022408</td>\n      <td>69.107910</td>\n      <td>72.117012</td>\n      <td>74.818108</td>\n      <td>76.808556</td>\n    </tr>\n    <tr>\n      <th>1</th>\n      <td>2024-02-07</td>\n      <td>energy</td>\n      <td>40 hour</td>\n      <td>60.963951</td>\n      <td>64.634949</td>\n      <td>67.998154</td>\n      <td>69.369057</td>\n      <td>72.419327</td>\n    </tr>\n    <tr>\n      <th>2</th>\n      <td>2024-02-07</td>\n      <td>energy</td>\n      <td>44 hour</td>\n      <td>59.942081</td>\n      <td>62.896214</td>\n      <td>64.971146</td>\n      <td>67.447548</td>\n      <td>68.162323</td>\n    </tr>\n    <tr>\n      <th>3</th>\n      <td>2024-02-07</td>\n      <td>energy</td>\n      <td>60 hour</td>\n      <td>57.347794</td>\n      <td>59.956478</td>\n      <td>61.959045</td>\n      <td>63.195324</td>\n      <td>65.075684</td>\n    </tr>\n    <tr>\n      <th>4</th>\n      <td>2024-02-07</td>\n      <td>energy</td>\n      <td>64 hour</td>\n      <td>53.532665</td>\n      <td>56.130779</td>\n      <td>57.538334</td>\n      <td>58.280888</td>\n      <td>62.741554</td>\n    </tr>\n    <tr>\n      <th>5</th>\n      <td>2024-02-07</td>\n      <td>energy</td>\n      <td>68 hour</td>\n      <td>53.326565</td>\n      <td>57.302132</td>\n      <td>58.636341</td>\n      <td>59.574402</td>\n      <td>60.950912</td>\n    </tr>\n  </tbody>\n</table>\n</div>"
     },
     "execution_count": 155,
     "metadata": {},
     "output_type": "execute_result"
    }
   ],
   "source": [
    "df_energy"
   ],
   "metadata": {
    "collapsed": false,
    "ExecuteTime": {
     "end_time": "2024-02-07T22:38:24.114281Z",
     "start_time": "2024-02-07T22:38:24.099163Z"
    }
   },
   "id": "ca504288bd09666b"
  },
  {
   "cell_type": "code",
   "execution_count": 156,
   "outputs": [],
   "source": [
    "#Reorder quantiles to prevent quantile crossing"
   ],
   "metadata": {
    "collapsed": false,
    "ExecuteTime": {
     "end_time": "2024-02-07T22:38:24.118292Z",
     "start_time": "2024-02-07T22:38:24.114877Z"
    }
   },
   "id": "5fef7941487d6c1"
  },
  {
   "cell_type": "code",
   "execution_count": 157,
   "outputs": [
    {
     "name": "stdout",
     "output_type": "stream",
     "text": [
      "  forecast_date      target  horizon     q0.025      q0.25       q0.5  \\\n",
      "0    2024-02-07         DAX    1 day  -2.807862  -0.506845   0.059298   \n",
      "1    2024-02-07         DAX    2 day  -3.326323  -0.439978    0.37149   \n",
      "2    2024-02-07         DAX    5 day   -3.92443  -0.564477   0.381845   \n",
      "3    2024-02-07         DAX    6 day  -4.320864  -0.509236   0.547286   \n",
      "4    2024-02-07         DAX    7 day  -4.753926  -0.656417   0.528789   \n",
      "0    2024-02-07      energy  36 hour  64.022408   69.10791  72.117012   \n",
      "1    2024-02-07      energy  40 hour  60.963951  64.634949  67.998154   \n",
      "2    2024-02-07      energy  44 hour  59.942081  62.896214  64.971146   \n",
      "3    2024-02-07      energy  60 hour  57.347794  59.956478  61.959045   \n",
      "4    2024-02-07      energy  64 hour  53.532665  56.130779  57.538334   \n",
      "5    2024-02-07      energy  68 hour  53.326565  57.302132  58.636341   \n",
      "0    2024-02-07  infections   0 week         NA         NA         NA   \n",
      "1    2024-02-07  infections   1 week         NA         NA         NA   \n",
      "2    2024-02-07  infections   2 week         NA         NA         NA   \n",
      "3    2024-02-07  infections   3 week         NA         NA         NA   \n",
      "4    2024-02-07  infections   4 week         NA         NA         NA   \n",
      "\n",
      "       q0.75     q0.975  \n",
      "0   0.672285   2.503832  \n",
      "1   1.174336   3.557849  \n",
      "2   1.341569   4.308904  \n",
      "3   1.638536   5.015593  \n",
      "4   1.623329   5.619494  \n",
      "0  74.818108  76.808556  \n",
      "1  69.369057  72.419327  \n",
      "2  67.447548  68.162323  \n",
      "3  63.195324  65.075684  \n",
      "4  58.280888  62.741554  \n",
      "5  59.574402  60.950912  \n",
      "0         NA         NA  \n",
      "1         NA         NA  \n",
      "2         NA         NA  \n",
      "3         NA         NA  \n",
      "4         NA         NA  \n"
     ]
    }
   ],
   "source": [
    "df = merge_submissions.merge(df_energy,df_dax)"
   ],
   "metadata": {
    "collapsed": false,
    "ExecuteTime": {
     "end_time": "2024-02-07T22:38:24.178619Z",
     "start_time": "2024-02-07T22:38:24.133849Z"
    }
   },
   "id": "6997de28c0fe949"
  },
  {
   "cell_type": "code",
   "execution_count": 158,
   "outputs": [],
   "source": [
    "import pandas as pd"
   ],
   "metadata": {
    "collapsed": false,
    "ExecuteTime": {
     "end_time": "2024-02-07T22:39:07.615563Z",
     "start_time": "2024-02-07T22:39:07.613498Z"
    }
   },
   "id": "a674edafd02b6168"
  },
  {
   "cell_type": "code",
   "execution_count": 159,
   "outputs": [],
   "source": [
    "# ensure forecast_date is in correct format\n",
    "df['forecast_date'] = pd.to_datetime(df['forecast_date'], format='%Y-%m-%d')"
   ],
   "metadata": {
    "collapsed": false,
    "ExecuteTime": {
     "end_time": "2024-02-07T22:39:08.037426Z",
     "start_time": "2024-02-07T22:39:08.027559Z"
    }
   },
   "id": "da079753fd7a5b8"
  },
  {
   "cell_type": "code",
   "execution_count": 160,
   "outputs": [
    {
     "data": {
      "text/plain": "  forecast_date      target  horizon     q0.025      q0.25       q0.5  \\\n0    2024-02-07         DAX    1 day  -2.807862  -0.506845   0.059298   \n1    2024-02-07         DAX    2 day  -3.326323  -0.439978    0.37149   \n2    2024-02-07         DAX    5 day   -3.92443  -0.564477   0.381845   \n3    2024-02-07         DAX    6 day  -4.320864  -0.509236   0.547286   \n4    2024-02-07         DAX    7 day  -4.753926  -0.656417   0.528789   \n0    2024-02-07      energy  36 hour  64.022408   69.10791  72.117012   \n1    2024-02-07      energy  40 hour  60.963951  64.634949  67.998154   \n2    2024-02-07      energy  44 hour  59.942081  62.896214  64.971146   \n3    2024-02-07      energy  60 hour  57.347794  59.956478  61.959045   \n4    2024-02-07      energy  64 hour  53.532665  56.130779  57.538334   \n5    2024-02-07      energy  68 hour  53.326565  57.302132  58.636341   \n0    2024-02-07  infections   0 week         NA         NA         NA   \n1    2024-02-07  infections   1 week         NA         NA         NA   \n2    2024-02-07  infections   2 week         NA         NA         NA   \n3    2024-02-07  infections   3 week         NA         NA         NA   \n4    2024-02-07  infections   4 week         NA         NA         NA   \n\n       q0.75     q0.975  \n0   0.672285   2.503832  \n1   1.174336   3.557849  \n2   1.341569   4.308904  \n3   1.638536   5.015593  \n4   1.623329   5.619494  \n0  74.818108  76.808556  \n1  69.369057  72.419327  \n2  67.447548  68.162323  \n3  63.195324  65.075684  \n4  58.280888  62.741554  \n5  59.574402  60.950912  \n0         NA         NA  \n1         NA         NA  \n2         NA         NA  \n3         NA         NA  \n4         NA         NA  ",
      "text/html": "<div>\n<style scoped>\n    .dataframe tbody tr th:only-of-type {\n        vertical-align: middle;\n    }\n\n    .dataframe tbody tr th {\n        vertical-align: top;\n    }\n\n    .dataframe thead th {\n        text-align: right;\n    }\n</style>\n<table border=\"1\" class=\"dataframe\">\n  <thead>\n    <tr style=\"text-align: right;\">\n      <th></th>\n      <th>forecast_date</th>\n      <th>target</th>\n      <th>horizon</th>\n      <th>q0.025</th>\n      <th>q0.25</th>\n      <th>q0.5</th>\n      <th>q0.75</th>\n      <th>q0.975</th>\n    </tr>\n  </thead>\n  <tbody>\n    <tr>\n      <th>0</th>\n      <td>2024-02-07</td>\n      <td>DAX</td>\n      <td>1 day</td>\n      <td>-2.807862</td>\n      <td>-0.506845</td>\n      <td>0.059298</td>\n      <td>0.672285</td>\n      <td>2.503832</td>\n    </tr>\n    <tr>\n      <th>1</th>\n      <td>2024-02-07</td>\n      <td>DAX</td>\n      <td>2 day</td>\n      <td>-3.326323</td>\n      <td>-0.439978</td>\n      <td>0.37149</td>\n      <td>1.174336</td>\n      <td>3.557849</td>\n    </tr>\n    <tr>\n      <th>2</th>\n      <td>2024-02-07</td>\n      <td>DAX</td>\n      <td>5 day</td>\n      <td>-3.92443</td>\n      <td>-0.564477</td>\n      <td>0.381845</td>\n      <td>1.341569</td>\n      <td>4.308904</td>\n    </tr>\n    <tr>\n      <th>3</th>\n      <td>2024-02-07</td>\n      <td>DAX</td>\n      <td>6 day</td>\n      <td>-4.320864</td>\n      <td>-0.509236</td>\n      <td>0.547286</td>\n      <td>1.638536</td>\n      <td>5.015593</td>\n    </tr>\n    <tr>\n      <th>4</th>\n      <td>2024-02-07</td>\n      <td>DAX</td>\n      <td>7 day</td>\n      <td>-4.753926</td>\n      <td>-0.656417</td>\n      <td>0.528789</td>\n      <td>1.623329</td>\n      <td>5.619494</td>\n    </tr>\n    <tr>\n      <th>0</th>\n      <td>2024-02-07</td>\n      <td>energy</td>\n      <td>36 hour</td>\n      <td>64.022408</td>\n      <td>69.10791</td>\n      <td>72.117012</td>\n      <td>74.818108</td>\n      <td>76.808556</td>\n    </tr>\n    <tr>\n      <th>1</th>\n      <td>2024-02-07</td>\n      <td>energy</td>\n      <td>40 hour</td>\n      <td>60.963951</td>\n      <td>64.634949</td>\n      <td>67.998154</td>\n      <td>69.369057</td>\n      <td>72.419327</td>\n    </tr>\n    <tr>\n      <th>2</th>\n      <td>2024-02-07</td>\n      <td>energy</td>\n      <td>44 hour</td>\n      <td>59.942081</td>\n      <td>62.896214</td>\n      <td>64.971146</td>\n      <td>67.447548</td>\n      <td>68.162323</td>\n    </tr>\n    <tr>\n      <th>3</th>\n      <td>2024-02-07</td>\n      <td>energy</td>\n      <td>60 hour</td>\n      <td>57.347794</td>\n      <td>59.956478</td>\n      <td>61.959045</td>\n      <td>63.195324</td>\n      <td>65.075684</td>\n    </tr>\n    <tr>\n      <th>4</th>\n      <td>2024-02-07</td>\n      <td>energy</td>\n      <td>64 hour</td>\n      <td>53.532665</td>\n      <td>56.130779</td>\n      <td>57.538334</td>\n      <td>58.280888</td>\n      <td>62.741554</td>\n    </tr>\n    <tr>\n      <th>5</th>\n      <td>2024-02-07</td>\n      <td>energy</td>\n      <td>68 hour</td>\n      <td>53.326565</td>\n      <td>57.302132</td>\n      <td>58.636341</td>\n      <td>59.574402</td>\n      <td>60.950912</td>\n    </tr>\n    <tr>\n      <th>0</th>\n      <td>2024-02-07</td>\n      <td>infections</td>\n      <td>0 week</td>\n      <td>NA</td>\n      <td>NA</td>\n      <td>NA</td>\n      <td>NA</td>\n      <td>NA</td>\n    </tr>\n    <tr>\n      <th>1</th>\n      <td>2024-02-07</td>\n      <td>infections</td>\n      <td>1 week</td>\n      <td>NA</td>\n      <td>NA</td>\n      <td>NA</td>\n      <td>NA</td>\n      <td>NA</td>\n    </tr>\n    <tr>\n      <th>2</th>\n      <td>2024-02-07</td>\n      <td>infections</td>\n      <td>2 week</td>\n      <td>NA</td>\n      <td>NA</td>\n      <td>NA</td>\n      <td>NA</td>\n      <td>NA</td>\n    </tr>\n    <tr>\n      <th>3</th>\n      <td>2024-02-07</td>\n      <td>infections</td>\n      <td>3 week</td>\n      <td>NA</td>\n      <td>NA</td>\n      <td>NA</td>\n      <td>NA</td>\n      <td>NA</td>\n    </tr>\n    <tr>\n      <th>4</th>\n      <td>2024-02-07</td>\n      <td>infections</td>\n      <td>4 week</td>\n      <td>NA</td>\n      <td>NA</td>\n      <td>NA</td>\n      <td>NA</td>\n      <td>NA</td>\n    </tr>\n  </tbody>\n</table>\n</div>"
     },
     "execution_count": 160,
     "metadata": {},
     "output_type": "execute_result"
    }
   ],
   "source": [
    "df"
   ],
   "metadata": {
    "collapsed": false,
    "ExecuteTime": {
     "end_time": "2024-02-07T22:39:10.504677Z",
     "start_time": "2024-02-07T22:39:10.498407Z"
    }
   },
   "id": "43fcaad03ad71b36"
  },
  {
   "cell_type": "code",
   "execution_count": 161,
   "outputs": [],
   "source": [
    "df.to_csv('../../forecasts/20240207_JonSnow.csv',index=False)"
   ],
   "metadata": {
    "collapsed": false,
    "ExecuteTime": {
     "end_time": "2024-02-07T22:39:19.922418Z",
     "start_time": "2024-02-07T22:39:19.912537Z"
    }
   },
   "id": "efed0bf38425c25b"
  },
  {
   "cell_type": "code",
   "execution_count": 162,
   "outputs": [
    {
     "data": {
      "text/plain": "  forecast_date      target  horizon     q0.025      q0.25       q0.5  \\\n0    2024-02-07         DAX    1 day  -2.807862  -0.506845   0.059298   \n1    2024-02-07         DAX    2 day  -3.326323  -0.439978    0.37149   \n2    2024-02-07         DAX    5 day   -3.92443  -0.564477   0.381845   \n3    2024-02-07         DAX    6 day  -4.320864  -0.509236   0.547286   \n4    2024-02-07         DAX    7 day  -4.753926  -0.656417   0.528789   \n0    2024-02-07      energy  36 hour  64.022408   69.10791  72.117012   \n1    2024-02-07      energy  40 hour  60.963951  64.634949  67.998154   \n2    2024-02-07      energy  44 hour  59.942081  62.896214  64.971146   \n3    2024-02-07      energy  60 hour  57.347794  59.956478  61.959045   \n4    2024-02-07      energy  64 hour  53.532665  56.130779  57.538334   \n5    2024-02-07      energy  68 hour  53.326565  57.302132  58.636341   \n0    2024-02-07  infections   0 week         NA         NA         NA   \n1    2024-02-07  infections   1 week         NA         NA         NA   \n2    2024-02-07  infections   2 week         NA         NA         NA   \n3    2024-02-07  infections   3 week         NA         NA         NA   \n4    2024-02-07  infections   4 week         NA         NA         NA   \n\n       q0.75     q0.975  \n0   0.672285   2.503832  \n1   1.174336   3.557849  \n2   1.341569   4.308904  \n3   1.638536   5.015593  \n4   1.623329   5.619494  \n0  74.818108  76.808556  \n1  69.369057  72.419327  \n2  67.447548  68.162323  \n3  63.195324  65.075684  \n4  58.280888  62.741554  \n5  59.574402  60.950912  \n0         NA         NA  \n1         NA         NA  \n2         NA         NA  \n3         NA         NA  \n4         NA         NA  ",
      "text/html": "<div>\n<style scoped>\n    .dataframe tbody tr th:only-of-type {\n        vertical-align: middle;\n    }\n\n    .dataframe tbody tr th {\n        vertical-align: top;\n    }\n\n    .dataframe thead th {\n        text-align: right;\n    }\n</style>\n<table border=\"1\" class=\"dataframe\">\n  <thead>\n    <tr style=\"text-align: right;\">\n      <th></th>\n      <th>forecast_date</th>\n      <th>target</th>\n      <th>horizon</th>\n      <th>q0.025</th>\n      <th>q0.25</th>\n      <th>q0.5</th>\n      <th>q0.75</th>\n      <th>q0.975</th>\n    </tr>\n  </thead>\n  <tbody>\n    <tr>\n      <th>0</th>\n      <td>2024-02-07</td>\n      <td>DAX</td>\n      <td>1 day</td>\n      <td>-2.807862</td>\n      <td>-0.506845</td>\n      <td>0.059298</td>\n      <td>0.672285</td>\n      <td>2.503832</td>\n    </tr>\n    <tr>\n      <th>1</th>\n      <td>2024-02-07</td>\n      <td>DAX</td>\n      <td>2 day</td>\n      <td>-3.326323</td>\n      <td>-0.439978</td>\n      <td>0.37149</td>\n      <td>1.174336</td>\n      <td>3.557849</td>\n    </tr>\n    <tr>\n      <th>2</th>\n      <td>2024-02-07</td>\n      <td>DAX</td>\n      <td>5 day</td>\n      <td>-3.92443</td>\n      <td>-0.564477</td>\n      <td>0.381845</td>\n      <td>1.341569</td>\n      <td>4.308904</td>\n    </tr>\n    <tr>\n      <th>3</th>\n      <td>2024-02-07</td>\n      <td>DAX</td>\n      <td>6 day</td>\n      <td>-4.320864</td>\n      <td>-0.509236</td>\n      <td>0.547286</td>\n      <td>1.638536</td>\n      <td>5.015593</td>\n    </tr>\n    <tr>\n      <th>4</th>\n      <td>2024-02-07</td>\n      <td>DAX</td>\n      <td>7 day</td>\n      <td>-4.753926</td>\n      <td>-0.656417</td>\n      <td>0.528789</td>\n      <td>1.623329</td>\n      <td>5.619494</td>\n    </tr>\n    <tr>\n      <th>0</th>\n      <td>2024-02-07</td>\n      <td>energy</td>\n      <td>36 hour</td>\n      <td>64.022408</td>\n      <td>69.10791</td>\n      <td>72.117012</td>\n      <td>74.818108</td>\n      <td>76.808556</td>\n    </tr>\n    <tr>\n      <th>1</th>\n      <td>2024-02-07</td>\n      <td>energy</td>\n      <td>40 hour</td>\n      <td>60.963951</td>\n      <td>64.634949</td>\n      <td>67.998154</td>\n      <td>69.369057</td>\n      <td>72.419327</td>\n    </tr>\n    <tr>\n      <th>2</th>\n      <td>2024-02-07</td>\n      <td>energy</td>\n      <td>44 hour</td>\n      <td>59.942081</td>\n      <td>62.896214</td>\n      <td>64.971146</td>\n      <td>67.447548</td>\n      <td>68.162323</td>\n    </tr>\n    <tr>\n      <th>3</th>\n      <td>2024-02-07</td>\n      <td>energy</td>\n      <td>60 hour</td>\n      <td>57.347794</td>\n      <td>59.956478</td>\n      <td>61.959045</td>\n      <td>63.195324</td>\n      <td>65.075684</td>\n    </tr>\n    <tr>\n      <th>4</th>\n      <td>2024-02-07</td>\n      <td>energy</td>\n      <td>64 hour</td>\n      <td>53.532665</td>\n      <td>56.130779</td>\n      <td>57.538334</td>\n      <td>58.280888</td>\n      <td>62.741554</td>\n    </tr>\n    <tr>\n      <th>5</th>\n      <td>2024-02-07</td>\n      <td>energy</td>\n      <td>68 hour</td>\n      <td>53.326565</td>\n      <td>57.302132</td>\n      <td>58.636341</td>\n      <td>59.574402</td>\n      <td>60.950912</td>\n    </tr>\n    <tr>\n      <th>0</th>\n      <td>2024-02-07</td>\n      <td>infections</td>\n      <td>0 week</td>\n      <td>NA</td>\n      <td>NA</td>\n      <td>NA</td>\n      <td>NA</td>\n      <td>NA</td>\n    </tr>\n    <tr>\n      <th>1</th>\n      <td>2024-02-07</td>\n      <td>infections</td>\n      <td>1 week</td>\n      <td>NA</td>\n      <td>NA</td>\n      <td>NA</td>\n      <td>NA</td>\n      <td>NA</td>\n    </tr>\n    <tr>\n      <th>2</th>\n      <td>2024-02-07</td>\n      <td>infections</td>\n      <td>2 week</td>\n      <td>NA</td>\n      <td>NA</td>\n      <td>NA</td>\n      <td>NA</td>\n      <td>NA</td>\n    </tr>\n    <tr>\n      <th>3</th>\n      <td>2024-02-07</td>\n      <td>infections</td>\n      <td>3 week</td>\n      <td>NA</td>\n      <td>NA</td>\n      <td>NA</td>\n      <td>NA</td>\n      <td>NA</td>\n    </tr>\n    <tr>\n      <th>4</th>\n      <td>2024-02-07</td>\n      <td>infections</td>\n      <td>4 week</td>\n      <td>NA</td>\n      <td>NA</td>\n      <td>NA</td>\n      <td>NA</td>\n      <td>NA</td>\n    </tr>\n  </tbody>\n</table>\n</div>"
     },
     "execution_count": 162,
     "metadata": {},
     "output_type": "execute_result"
    }
   ],
   "source": [
    "df"
   ],
   "metadata": {
    "collapsed": false,
    "ExecuteTime": {
     "end_time": "2024-02-07T22:39:20.707716Z",
     "start_time": "2024-02-07T22:39:20.701939Z"
    }
   },
   "id": "8400a3744c12f88c"
  },
  {
   "cell_type": "code",
   "execution_count": 163,
   "outputs": [],
   "source": [
    "from datetime import timedelta, datetime"
   ],
   "metadata": {
    "collapsed": false,
    "ExecuteTime": {
     "end_time": "2024-02-07T22:39:21.353522Z",
     "start_time": "2024-02-07T22:39:21.346331Z"
    }
   },
   "id": "ab316f4afc87c730"
  },
  {
   "cell_type": "code",
   "execution_count": 164,
   "outputs": [],
   "source": [
    "from functions import check_submission"
   ],
   "metadata": {
    "collapsed": false,
    "ExecuteTime": {
     "end_time": "2024-02-07T22:39:23.046643Z",
     "start_time": "2024-02-07T22:39:23.037227Z"
    }
   },
   "id": "edf25717f17afa86"
  },
  {
   "cell_type": "code",
   "execution_count": 165,
   "outputs": [
    {
     "name": "stdout",
     "output_type": "stream",
     "text": [
      "Start checking...\n",
      "---------------------------\n",
      "Checking the Columns...\n",
      "Checking type of columns...\n",
      "----WARNING: Some elements in q0.025 column are not numeric. This may be fine if you only submit 2 out of 3 targets.\n",
      "\n",
      "----WARNING: Some elements in q0.25 column are not numeric. This may be fine if you only submit 2 out of 3 targets.\n",
      "\n",
      "----WARNING: Some elements in q0.5 column are not numeric. This may be fine if you only submit 2 out of 3 targets.\n",
      "\n",
      "----WARNING: Some elements in q0.75 column are not numeric. This may be fine if you only submit 2 out of 3 targets.\n",
      "\n",
      "----WARNING: Some elements in q0.975 column are not numeric. This may be fine if you only submit 2 out of 3 targets.\n",
      "\n",
      "Checking if the Dates make sense...\n",
      "Checking targets...\n",
      "Skipping plausibility check for 'infections' as it contains NA values.\n",
      "Skipping plausibility check for 'infections' as it contains NA values.\n",
      "Skipping plausibility check for 'infections' as it contains NA values.\n",
      "Checking quantiles...\n",
      "Seems like you submitted all three targets. Good job!\n"
     ]
    }
   ],
   "source": [
    "check_submission.check_df(df)"
   ],
   "metadata": {
    "collapsed": false,
    "ExecuteTime": {
     "end_time": "2024-02-07T22:39:23.361049Z",
     "start_time": "2024-02-07T22:39:23.354994Z"
    }
   },
   "id": "8155994327dfda82"
  },
  {
   "cell_type": "code",
   "execution_count": null,
   "outputs": [],
   "source": [],
   "metadata": {
    "collapsed": false
   },
   "id": "83f164d714af2e8a"
  }
 ],
 "metadata": {
  "kernelspec": {
   "display_name": "Python 3",
   "language": "python",
   "name": "python3"
  },
  "language_info": {
   "codemirror_mode": {
    "name": "ipython",
    "version": 2
   },
   "file_extension": ".py",
   "mimetype": "text/x-python",
   "name": "python",
   "nbconvert_exporter": "python",
   "pygments_lexer": "ipython2",
   "version": "2.7.6"
  }
 },
 "nbformat": 4,
 "nbformat_minor": 5
}
