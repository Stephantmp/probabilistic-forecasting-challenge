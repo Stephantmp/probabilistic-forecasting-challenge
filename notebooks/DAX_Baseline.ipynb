{
 "cells": [
  {
   "cell_type": "code",
   "execution_count": 8,
   "id": "3d7236e6-7751-4928-9a79-124c5835761f",
   "metadata": {
    "ExecuteTime": {
     "end_time": "2023-11-18T17:32:11.741249Z",
     "start_time": "2023-11-18T17:32:11.737397Z"
    }
   },
   "outputs": [],
   "source": [
    "import pandas as pd\n",
    "import numpy as np\n",
    "import matplotlib.pyplot as plt\n",
    "from functions import get_DAX"
   ]
  },
  {
   "cell_type": "code",
   "execution_count": 10,
   "outputs": [
    {
     "data": {
      "text/plain": "                                  Open         High          Low        Close  \\\nDate                                                                            \n1988-01-08 00:00:00+01:00  1026.689941  1026.689941  1026.689941  1026.689941   \n1988-01-11 00:00:00+01:00   987.520020   987.520020   987.520020   987.520020   \n1988-01-12 00:00:00+01:00   986.890015   986.890015   986.890015   986.890015   \n1988-01-13 00:00:00+01:00   965.770020   965.770020   965.770020   965.770020   \n1988-01-14 00:00:00+01:00   974.460022   974.460022   974.460022   974.460022   \n\n                           Volume  Dividends  Stock Splits      ret1  \\\nDate                                                                   \n1988-01-08 00:00:00+01:00       0        0.0           0.0  1.197370   \n1988-01-11 00:00:00+01:00       0        0.0           0.0 -3.889849   \n1988-01-12 00:00:00+01:00       0        0.0           0.0 -0.063817   \n1988-01-13 00:00:00+01:00       0        0.0           0.0 -2.163287   \n1988-01-14 00:00:00+01:00       0        0.0           0.0  0.895776   \n\n                               ret2      ret3      ret4      ret5  \\\nDate                                                                \n1988-01-08 00:00:00+01:00  2.034796  3.024763  7.082493  2.116340   \n1988-01-11 00:00:00+01:00 -2.692479 -1.855053 -0.865086  3.192645   \n1988-01-12 00:00:00+01:00 -3.953666 -2.756296 -1.918870 -0.928903   \n1988-01-13 00:00:00+01:00 -2.227104 -6.116953 -4.919583 -4.082157   \n1988-01-14 00:00:00+01:00 -1.267511 -1.331328 -5.221176 -4.023806   \n\n                              lag_ret1     lag_ret2     lag_ret3     lag_ret4  \\\nDate                                                                            \n1988-01-08 00:00:00+01:00  1014.469971  1006.010010   996.099976   956.489990   \n1988-01-11 00:00:00+01:00  1026.689941  1014.469971  1006.010010   996.099976   \n1988-01-12 00:00:00+01:00   987.520020  1026.689941  1014.469971  1006.010010   \n1988-01-13 00:00:00+01:00   986.890015   987.520020  1026.689941  1014.469971   \n1988-01-14 00:00:00+01:00   965.770020   986.890015   987.520020  1026.689941   \n\n                              lag_ret5  \nDate                                    \n1988-01-08 00:00:00+01:00  1005.190002  \n1988-01-11 00:00:00+01:00   956.489990  \n1988-01-12 00:00:00+01:00   996.099976  \n1988-01-13 00:00:00+01:00  1006.010010  \n1988-01-14 00:00:00+01:00  1014.469971  ",
      "text/html": "<div>\n<style scoped>\n    .dataframe tbody tr th:only-of-type {\n        vertical-align: middle;\n    }\n\n    .dataframe tbody tr th {\n        vertical-align: top;\n    }\n\n    .dataframe thead th {\n        text-align: right;\n    }\n</style>\n<table border=\"1\" class=\"dataframe\">\n  <thead>\n    <tr style=\"text-align: right;\">\n      <th></th>\n      <th>Open</th>\n      <th>High</th>\n      <th>Low</th>\n      <th>Close</th>\n      <th>Volume</th>\n      <th>Dividends</th>\n      <th>Stock Splits</th>\n      <th>ret1</th>\n      <th>ret2</th>\n      <th>ret3</th>\n      <th>ret4</th>\n      <th>ret5</th>\n      <th>lag_ret1</th>\n      <th>lag_ret2</th>\n      <th>lag_ret3</th>\n      <th>lag_ret4</th>\n      <th>lag_ret5</th>\n    </tr>\n    <tr>\n      <th>Date</th>\n      <th></th>\n      <th></th>\n      <th></th>\n      <th></th>\n      <th></th>\n      <th></th>\n      <th></th>\n      <th></th>\n      <th></th>\n      <th></th>\n      <th></th>\n      <th></th>\n      <th></th>\n      <th></th>\n      <th></th>\n      <th></th>\n      <th></th>\n    </tr>\n  </thead>\n  <tbody>\n    <tr>\n      <th>1988-01-08 00:00:00+01:00</th>\n      <td>1026.689941</td>\n      <td>1026.689941</td>\n      <td>1026.689941</td>\n      <td>1026.689941</td>\n      <td>0</td>\n      <td>0.0</td>\n      <td>0.0</td>\n      <td>1.197370</td>\n      <td>2.034796</td>\n      <td>3.024763</td>\n      <td>7.082493</td>\n      <td>2.116340</td>\n      <td>1014.469971</td>\n      <td>1006.010010</td>\n      <td>996.099976</td>\n      <td>956.489990</td>\n      <td>1005.190002</td>\n    </tr>\n    <tr>\n      <th>1988-01-11 00:00:00+01:00</th>\n      <td>987.520020</td>\n      <td>987.520020</td>\n      <td>987.520020</td>\n      <td>987.520020</td>\n      <td>0</td>\n      <td>0.0</td>\n      <td>0.0</td>\n      <td>-3.889849</td>\n      <td>-2.692479</td>\n      <td>-1.855053</td>\n      <td>-0.865086</td>\n      <td>3.192645</td>\n      <td>1026.689941</td>\n      <td>1014.469971</td>\n      <td>1006.010010</td>\n      <td>996.099976</td>\n      <td>956.489990</td>\n    </tr>\n    <tr>\n      <th>1988-01-12 00:00:00+01:00</th>\n      <td>986.890015</td>\n      <td>986.890015</td>\n      <td>986.890015</td>\n      <td>986.890015</td>\n      <td>0</td>\n      <td>0.0</td>\n      <td>0.0</td>\n      <td>-0.063817</td>\n      <td>-3.953666</td>\n      <td>-2.756296</td>\n      <td>-1.918870</td>\n      <td>-0.928903</td>\n      <td>987.520020</td>\n      <td>1026.689941</td>\n      <td>1014.469971</td>\n      <td>1006.010010</td>\n      <td>996.099976</td>\n    </tr>\n    <tr>\n      <th>1988-01-13 00:00:00+01:00</th>\n      <td>965.770020</td>\n      <td>965.770020</td>\n      <td>965.770020</td>\n      <td>965.770020</td>\n      <td>0</td>\n      <td>0.0</td>\n      <td>0.0</td>\n      <td>-2.163287</td>\n      <td>-2.227104</td>\n      <td>-6.116953</td>\n      <td>-4.919583</td>\n      <td>-4.082157</td>\n      <td>986.890015</td>\n      <td>987.520020</td>\n      <td>1026.689941</td>\n      <td>1014.469971</td>\n      <td>1006.010010</td>\n    </tr>\n    <tr>\n      <th>1988-01-14 00:00:00+01:00</th>\n      <td>974.460022</td>\n      <td>974.460022</td>\n      <td>974.460022</td>\n      <td>974.460022</td>\n      <td>0</td>\n      <td>0.0</td>\n      <td>0.0</td>\n      <td>0.895776</td>\n      <td>-1.267511</td>\n      <td>-1.331328</td>\n      <td>-5.221176</td>\n      <td>-4.023806</td>\n      <td>965.770020</td>\n      <td>986.890015</td>\n      <td>987.520020</td>\n      <td>1026.689941</td>\n      <td>1014.469971</td>\n    </tr>\n  </tbody>\n</table>\n</div>"
     },
     "execution_count": 10,
     "metadata": {},
     "output_type": "execute_result"
    }
   ],
   "source": [
    "hist= get_DAX.get()\n",
    "hist.head()"
   ],
   "metadata": {
    "collapsed": false,
    "ExecuteTime": {
     "end_time": "2023-11-18T17:32:21.041640Z",
     "start_time": "2023-11-18T17:32:20.598964Z"
    }
   },
   "id": "3dad0a4678892568"
  },
  {
   "cell_type": "code",
   "execution_count": 3,
   "id": "bf3ae619-5bdc-4c66-8137-4daa880ce9c7",
   "metadata": {
    "ExecuteTime": {
     "end_time": "2023-11-18T17:03:10.683088Z",
     "start_time": "2023-11-18T17:03:10.677682Z"
    }
   },
   "outputs": [],
   "source": [
    "#quantile levels\n",
    "tau = [.025, .25, .5, .75, .975]"
   ]
  },
  {
   "cell_type": "code",
   "execution_count": 4,
   "id": "8e5ef128-ba07-497d-ab2b-1c7599e86bd0",
   "metadata": {
    "ExecuteTime": {
     "end_time": "2023-11-18T17:03:10.687589Z",
     "start_time": "2023-11-18T17:03:10.682018Z"
    }
   },
   "outputs": [],
   "source": [
    "#define prediction array\n",
    "#cols are quantile levels, rows are horizons\n",
    "pred_baseline = np.zeros((5,5))"
   ]
  },
  {
   "cell_type": "code",
   "execution_count": 5,
   "id": "6033e162-aecf-4e8c-a143-28446cffab0f",
   "metadata": {
    "ExecuteTime": {
     "end_time": "2023-11-18T17:03:10.693886Z",
     "start_time": "2023-11-18T17:03:10.688919Z"
    }
   },
   "outputs": [],
   "source": [
    "last_t = 1000\n",
    "\n",
    "for i in range(5):\n",
    "    ret_str = \"ret\"+str(i+1)\n",
    "    \n",
    "    pred_baseline[i,:] = np.quantile(hist[ret_str].iloc[-last_t:], q=tau)"
   ]
  },
  {
   "cell_type": "markdown",
   "id": "a7c1e0fa-8b06-4233-86b0-09d2f8e589e3",
   "metadata": {
    "ExecuteTime": {
     "end_time": "2023-11-18T16:01:54.623626Z",
     "start_time": "2023-11-18T16:01:54.586967Z"
    }
   },
   "source": [
    "Visualize the results"
   ]
  },
  {
   "cell_type": "code",
   "execution_count": 6,
   "id": "2df653ed-170c-4a79-9c2e-04002faf0965",
   "metadata": {
    "ExecuteTime": {
     "end_time": "2023-11-18T17:03:10.865992Z",
     "start_time": "2023-11-18T17:03:10.696121Z"
    }
   },
   "outputs": [
    {
     "data": {
      "text/plain": "<Figure size 640x480 with 1 Axes>",
      "image/png": "[encoded data removed]"
     },
     "metadata": {},
     "output_type": "display_data"
    }
   ],
   "source": [
    "x = np.arange(5)+1\n",
    "_ = plt.plot(x,pred_baseline, ls=\"\", marker=\"o\", c=\"black\")\n",
    "_ = plt.xticks(x, x)\n",
    "_ = plt.plot((x,x),(pred_baseline[:,0], pred_baseline[:,-1]),c='black')"
   ]
  },
  {
   "cell_type": "markdown",
   "id": "b4bc6e8b-1537-4bc7-8941-7d6ecc7fffb8",
   "metadata": {
    "ExecuteTime": {
     "end_time": "2023-11-18T16:01:54.624119Z",
     "start_time": "2023-11-18T16:01:54.599888Z"
    }
   },
   "source": [
    "Create Submission DataFrame"
   ]
  },
  {
   "cell_type": "code",
   "execution_count": 7,
   "id": "c316a028-c4bf-459b-97e1-d65a38bdc4aa",
   "metadata": {
    "ExecuteTime": {
     "end_time": "2023-11-18T17:03:10.879917Z",
     "start_time": "2023-11-18T17:03:10.873221Z"
    }
   },
   "outputs": [
    {
     "data": {
      "text/plain": "  target horizon    q0.025     q0.25      q0.5     q0.75    q0.975\n0    DAX   1 day -3.321265 -0.551383  0.060969  0.720873  2.719772\n1    DAX   2 day -4.087895 -0.823250  0.072355  0.987420  3.570492\n2    DAX   5 day -5.259161 -0.917655  0.161798  1.224285  4.628697\n3    DAX   6 day -6.282629 -1.044070  0.186070  1.440815  5.367396\n4    DAX   7 day -6.735742 -1.091646  0.326190  1.573729  6.259934",
      "text/html": "<div>\n<style scoped>\n    .dataframe tbody tr th:only-of-type {\n        vertical-align: middle;\n    }\n\n    .dataframe tbody tr th {\n        vertical-align: top;\n    }\n\n    .dataframe thead th {\n        text-align: right;\n    }\n</style>\n<table border=\"1\" class=\"dataframe\">\n  <thead>\n    <tr style=\"text-align: right;\">\n      <th></th>\n      <th>target</th>\n      <th>horizon</th>\n      <th>q0.025</th>\n      <th>q0.25</th>\n      <th>q0.5</th>\n      <th>q0.75</th>\n      <th>q0.975</th>\n    </tr>\n  </thead>\n  <tbody>\n    <tr>\n      <th>0</th>\n      <td>DAX</td>\n      <td>1 day</td>\n      <td>-3.321265</td>\n      <td>-0.551383</td>\n      <td>0.060969</td>\n      <td>0.720873</td>\n      <td>2.719772</td>\n    </tr>\n    <tr>\n      <th>1</th>\n      <td>DAX</td>\n      <td>2 day</td>\n      <td>-4.087895</td>\n      <td>-0.823250</td>\n      <td>0.072355</td>\n      <td>0.987420</td>\n      <td>3.570492</td>\n    </tr>\n    <tr>\n      <th>2</th>\n      <td>DAX</td>\n      <td>5 day</td>\n      <td>-5.259161</td>\n      <td>-0.917655</td>\n      <td>0.161798</td>\n      <td>1.224285</td>\n      <td>4.628697</td>\n    </tr>\n    <tr>\n      <th>3</th>\n      <td>DAX</td>\n      <td>6 day</td>\n      <td>-6.282629</td>\n      <td>-1.044070</td>\n      <td>0.186070</td>\n      <td>1.440815</td>\n      <td>5.367396</td>\n    </tr>\n    <tr>\n      <th>4</th>\n      <td>DAX</td>\n      <td>7 day</td>\n      <td>-6.735742</td>\n      <td>-1.091646</td>\n      <td>0.326190</td>\n      <td>1.573729</td>\n      <td>6.259934</td>\n    </tr>\n  </tbody>\n</table>\n</div>"
     },
     "execution_count": 7,
     "metadata": {},
     "output_type": "execute_result"
    }
   ],
   "source": [
    "df_sub = pd.DataFrame({\n",
    "    \"target\": \"DAX\",\n",
    "    \"horizon\": [str(i) + \" day\" for i in (1,2,5,6,7)],\n",
    "    \"q0.025\": pred_baseline[:,0],\n",
    "    \"q0.25\": pred_baseline[:,1],\n",
    "    \"q0.5\": pred_baseline[:,2],\n",
    "    \"q0.75\": pred_baseline[:,3],\n",
    "    \"q0.975\": pred_baseline[:,4]})\n",
    "df_sub"
   ]
  },
  {
   "cell_type": "code",
   "execution_count": 8,
   "id": "0ee8c6fe-43c9-4a71-b8f0-300a382f59c6",
   "metadata": {
    "ExecuteTime": {
     "end_time": "2023-11-18T17:03:10.941099Z",
     "start_time": "2023-11-18T17:03:10.880413Z"
    }
   },
   "outputs": [],
   "source": [
    "from datetime import datetime\n",
    "date_str = datetime.today().strftime('%Y%m%d')"
   ]
  },
  {
   "cell_type": "code",
   "execution_count": 9,
   "id": "09b49896-ebb0-4649-9443-f794e824388d",
   "metadata": {
    "ExecuteTime": {
     "end_time": "2023-11-18T17:03:10.941423Z",
     "start_time": "2023-11-18T17:03:10.884962Z"
    }
   },
   "outputs": [],
   "source": [
    "#need to change this\n",
    "PATH = \"./\"\n",
    "\n",
    "df_sub.to_csv(PATH+\"/\"+date_str+\"DAX_benchmark.csv\")"
   ]
  },
  {
   "cell_type": "code",
   "execution_count": 3,
   "id": "dfe4ef7a-289d-4d45-99a3-c693e4f26654",
   "metadata": {
    "ExecuteTime": {
     "end_time": "2023-11-18T17:24:14.536890Z",
     "start_time": "2023-11-18T17:24:14.472809Z"
    }
   },
   "outputs": [],
   "source": [
    "from models.DAX import DAX_baseline\n",
    "from models.DAX import DAX_quantile_regression"
   ]
  },
  {
   "cell_type": "code",
   "execution_count": 4,
   "outputs": [],
   "source": [
    "df=DAX_baseline.DAX_baseline(hist)\n"
   ],
   "metadata": {
    "collapsed": false,
    "ExecuteTime": {
     "end_time": "2023-11-18T17:24:14.988136Z",
     "start_time": "2023-11-18T17:24:14.980258Z"
    }
   },
   "id": "16a5b9b7916f4b84"
  },
  {
   "cell_type": "code",
   "execution_count": 5,
   "outputs": [
    {
     "data": {
      "text/plain": "  forecast_date target horizon    q0.025     q0.25      q0.5     q0.75  \\\n0    2023-11-18    DAX   1 day -3.321265 -0.551383  0.060969  0.720873   \n1    2023-11-18    DAX   2 day -4.087895 -0.823250  0.072355  0.987420   \n2    2023-11-18    DAX   5 day -5.259161 -0.917655  0.161798  1.224285   \n3    2023-11-18    DAX   6 day -6.282629 -1.044070  0.186070  1.440815   \n4    2023-11-18    DAX   7 day -6.735742 -1.091646  0.326190  1.573729   \n\n     q0.975  \n0  2.719772  \n1  3.570492  \n2  4.628697  \n3  5.367396  \n4  6.259934  ",
      "text/html": "<div>\n<style scoped>\n    .dataframe tbody tr th:only-of-type {\n        vertical-align: middle;\n    }\n\n    .dataframe tbody tr th {\n        vertical-align: top;\n    }\n\n    .dataframe thead th {\n        text-align: right;\n    }\n</style>\n<table border=\"1\" class=\"dataframe\">\n  <thead>\n    <tr style=\"text-align: right;\">\n      <th></th>\n      <th>forecast_date</th>\n      <th>target</th>\n      <th>horizon</th>\n      <th>q0.025</th>\n      <th>q0.25</th>\n      <th>q0.5</th>\n      <th>q0.75</th>\n      <th>q0.975</th>\n    </tr>\n  </thead>\n  <tbody>\n    <tr>\n      <th>0</th>\n      <td>2023-11-18</td>\n      <td>DAX</td>\n      <td>1 day</td>\n      <td>-3.321265</td>\n      <td>-0.551383</td>\n      <td>0.060969</td>\n      <td>0.720873</td>\n      <td>2.719772</td>\n    </tr>\n    <tr>\n      <th>1</th>\n      <td>2023-11-18</td>\n      <td>DAX</td>\n      <td>2 day</td>\n      <td>-4.087895</td>\n      <td>-0.823250</td>\n      <td>0.072355</td>\n      <td>0.987420</td>\n      <td>3.570492</td>\n    </tr>\n    <tr>\n      <th>2</th>\n      <td>2023-11-18</td>\n      <td>DAX</td>\n      <td>5 day</td>\n      <td>-5.259161</td>\n      <td>-0.917655</td>\n      <td>0.161798</td>\n      <td>1.224285</td>\n      <td>4.628697</td>\n    </tr>\n    <tr>\n      <th>3</th>\n      <td>2023-11-18</td>\n      <td>DAX</td>\n      <td>6 day</td>\n      <td>-6.282629</td>\n      <td>-1.044070</td>\n      <td>0.186070</td>\n      <td>1.440815</td>\n      <td>5.367396</td>\n    </tr>\n    <tr>\n      <th>4</th>\n      <td>2023-11-18</td>\n      <td>DAX</td>\n      <td>7 day</td>\n      <td>-6.735742</td>\n      <td>-1.091646</td>\n      <td>0.326190</td>\n      <td>1.573729</td>\n      <td>6.259934</td>\n    </tr>\n  </tbody>\n</table>\n</div>"
     },
     "execution_count": 5,
     "metadata": {},
     "output_type": "execute_result"
    }
   ],
   "source": [
    "df"
   ],
   "metadata": {
    "collapsed": false,
    "ExecuteTime": {
     "end_time": "2023-11-18T17:24:16.414252Z",
     "start_time": "2023-11-18T17:24:16.408200Z"
    }
   },
   "id": "79e4bdcaf77c3d8b"
  },
  {
   "cell_type": "code",
   "execution_count": 6,
   "outputs": [
    {
     "name": "stderr",
     "output_type": "stream",
     "text": [
      "/Users/stephantimpe/PycharmProjects/probabilistic-forecasting-challenge/models/DAX/DAX_quantile_regression.py:33: FutureWarning: Series.__getitem__ treating keys as positions is deprecated. In a future version, integer keys will always be treated as labels (consistent with DataFrame behavior). To access a value by position, use `ser.iloc[pos]`\n",
      "  pred_quantile_regression[i, j] = res.predict(X.iloc[-1:])[0]\n",
      "/Users/stephantimpe/PycharmProjects/probabilistic-forecasting-challenge/models/DAX/DAX_quantile_regression.py:33: FutureWarning: Series.__getitem__ treating keys as positions is deprecated. In a future version, integer keys will always be treated as labels (consistent with DataFrame behavior). To access a value by position, use `ser.iloc[pos]`\n",
      "  pred_quantile_regression[i, j] = res.predict(X.iloc[-1:])[0]\n",
      "/Users/stephantimpe/PycharmProjects/probabilistic-forecasting-challenge/models/DAX/DAX_quantile_regression.py:33: FutureWarning: Series.__getitem__ treating keys as positions is deprecated. In a future version, integer keys will always be treated as labels (consistent with DataFrame behavior). To access a value by position, use `ser.iloc[pos]`\n",
      "  pred_quantile_regression[i, j] = res.predict(X.iloc[-1:])[0]\n",
      "/Users/stephantimpe/PycharmProjects/probabilistic-forecasting-challenge/models/DAX/DAX_quantile_regression.py:33: FutureWarning: Series.__getitem__ treating keys as positions is deprecated. In a future version, integer keys will always be treated as labels (consistent with DataFrame behavior). To access a value by position, use `ser.iloc[pos]`\n",
      "  pred_quantile_regression[i, j] = res.predict(X.iloc[-1:])[0]\n",
      "/Users/stephantimpe/PycharmProjects/probabilistic-forecasting-challenge/models/DAX/DAX_quantile_regression.py:33: FutureWarning: Series.__getitem__ treating keys as positions is deprecated. In a future version, integer keys will always be treated as labels (consistent with DataFrame behavior). To access a value by position, use `ser.iloc[pos]`\n",
      "  pred_quantile_regression[i, j] = res.predict(X.iloc[-1:])[0]\n",
      "/Users/stephantimpe/PycharmProjects/probabilistic-forecasting-challenge/models/DAX/DAX_quantile_regression.py:33: FutureWarning: Series.__getitem__ treating keys as positions is deprecated. In a future version, integer keys will always be treated as labels (consistent with DataFrame behavior). To access a value by position, use `ser.iloc[pos]`\n",
      "  pred_quantile_regression[i, j] = res.predict(X.iloc[-1:])[0]\n",
      "/Users/stephantimpe/PycharmProjects/probabilistic-forecasting-challenge/models/DAX/DAX_quantile_regression.py:33: FutureWarning: Series.__getitem__ treating keys as positions is deprecated. In a future version, integer keys will always be treated as labels (consistent with DataFrame behavior). To access a value by position, use `ser.iloc[pos]`\n",
      "  pred_quantile_regression[i, j] = res.predict(X.iloc[-1:])[0]\n",
      "/Users/stephantimpe/PycharmProjects/probabilistic-forecasting-challenge/models/DAX/DAX_quantile_regression.py:33: FutureWarning: Series.__getitem__ treating keys as positions is deprecated. In a future version, integer keys will always be treated as labels (consistent with DataFrame behavior). To access a value by position, use `ser.iloc[pos]`\n",
      "  pred_quantile_regression[i, j] = res.predict(X.iloc[-1:])[0]\n",
      "/Users/stephantimpe/PycharmProjects/probabilistic-forecasting-challenge/models/DAX/DAX_quantile_regression.py:33: FutureWarning: Series.__getitem__ treating keys as positions is deprecated. In a future version, integer keys will always be treated as labels (consistent with DataFrame behavior). To access a value by position, use `ser.iloc[pos]`\n",
      "  pred_quantile_regression[i, j] = res.predict(X.iloc[-1:])[0]\n",
      "/Users/stephantimpe/PycharmProjects/probabilistic-forecasting-challenge/models/DAX/DAX_quantile_regression.py:33: FutureWarning: Series.__getitem__ treating keys as positions is deprecated. In a future version, integer keys will always be treated as labels (consistent with DataFrame behavior). To access a value by position, use `ser.iloc[pos]`\n",
      "  pred_quantile_regression[i, j] = res.predict(X.iloc[-1:])[0]\n",
      "/Users/stephantimpe/PycharmProjects/probabilistic-forecasting-challenge/models/DAX/DAX_quantile_regression.py:33: FutureWarning: Series.__getitem__ treating keys as positions is deprecated. In a future version, integer keys will always be treated as labels (consistent with DataFrame behavior). To access a value by position, use `ser.iloc[pos]`\n",
      "  pred_quantile_regression[i, j] = res.predict(X.iloc[-1:])[0]\n",
      "/Users/stephantimpe/PycharmProjects/probabilistic-forecasting-challenge/models/DAX/DAX_quantile_regression.py:33: FutureWarning: Series.__getitem__ treating keys as positions is deprecated. In a future version, integer keys will always be treated as labels (consistent with DataFrame behavior). To access a value by position, use `ser.iloc[pos]`\n",
      "  pred_quantile_regression[i, j] = res.predict(X.iloc[-1:])[0]\n",
      "/Users/stephantimpe/PycharmProjects/probabilistic-forecasting-challenge/models/DAX/DAX_quantile_regression.py:33: FutureWarning: Series.__getitem__ treating keys as positions is deprecated. In a future version, integer keys will always be treated as labels (consistent with DataFrame behavior). To access a value by position, use `ser.iloc[pos]`\n",
      "  pred_quantile_regression[i, j] = res.predict(X.iloc[-1:])[0]\n",
      "/Users/stephantimpe/PycharmProjects/probabilistic-forecasting-challenge/models/DAX/DAX_quantile_regression.py:33: FutureWarning: Series.__getitem__ treating keys as positions is deprecated. In a future version, integer keys will always be treated as labels (consistent with DataFrame behavior). To access a value by position, use `ser.iloc[pos]`\n",
      "  pred_quantile_regression[i, j] = res.predict(X.iloc[-1:])[0]\n",
      "/Users/stephantimpe/PycharmProjects/probabilistic-forecasting-challenge/models/DAX/DAX_quantile_regression.py:33: FutureWarning: Series.__getitem__ treating keys as positions is deprecated. In a future version, integer keys will always be treated as labels (consistent with DataFrame behavior). To access a value by position, use `ser.iloc[pos]`\n",
      "  pred_quantile_regression[i, j] = res.predict(X.iloc[-1:])[0]\n",
      "/Users/stephantimpe/PycharmProjects/probabilistic-forecasting-challenge/models/DAX/DAX_quantile_regression.py:33: FutureWarning: Series.__getitem__ treating keys as positions is deprecated. In a future version, integer keys will always be treated as labels (consistent with DataFrame behavior). To access a value by position, use `ser.iloc[pos]`\n",
      "  pred_quantile_regression[i, j] = res.predict(X.iloc[-1:])[0]\n",
      "/Users/stephantimpe/PycharmProjects/probabilistic-forecasting-challenge/models/DAX/DAX_quantile_regression.py:33: FutureWarning: Series.__getitem__ treating keys as positions is deprecated. In a future version, integer keys will always be treated as labels (consistent with DataFrame behavior). To access a value by position, use `ser.iloc[pos]`\n",
      "  pred_quantile_regression[i, j] = res.predict(X.iloc[-1:])[0]\n",
      "/Users/stephantimpe/PycharmProjects/probabilistic-forecasting-challenge/models/DAX/DAX_quantile_regression.py:33: FutureWarning: Series.__getitem__ treating keys as positions is deprecated. In a future version, integer keys will always be treated as labels (consistent with DataFrame behavior). To access a value by position, use `ser.iloc[pos]`\n",
      "  pred_quantile_regression[i, j] = res.predict(X.iloc[-1:])[0]\n",
      "/Users/stephantimpe/PycharmProjects/probabilistic-forecasting-challenge/models/DAX/DAX_quantile_regression.py:33: FutureWarning: Series.__getitem__ treating keys as positions is deprecated. In a future version, integer keys will always be treated as labels (consistent with DataFrame behavior). To access a value by position, use `ser.iloc[pos]`\n",
      "  pred_quantile_regression[i, j] = res.predict(X.iloc[-1:])[0]\n",
      "/Users/stephantimpe/PycharmProjects/probabilistic-forecasting-challenge/models/DAX/DAX_quantile_regression.py:33: FutureWarning: Series.__getitem__ treating keys as positions is deprecated. In a future version, integer keys will always be treated as labels (consistent with DataFrame behavior). To access a value by position, use `ser.iloc[pos]`\n",
      "  pred_quantile_regression[i, j] = res.predict(X.iloc[-1:])[0]\n",
      "/Users/stephantimpe/PycharmProjects/probabilistic-forecasting-challenge/models/DAX/DAX_quantile_regression.py:33: FutureWarning: Series.__getitem__ treating keys as positions is deprecated. In a future version, integer keys will always be treated as labels (consistent with DataFrame behavior). To access a value by position, use `ser.iloc[pos]`\n",
      "  pred_quantile_regression[i, j] = res.predict(X.iloc[-1:])[0]\n",
      "/Users/stephantimpe/PycharmProjects/probabilistic-forecasting-challenge/models/DAX/DAX_quantile_regression.py:33: FutureWarning: Series.__getitem__ treating keys as positions is deprecated. In a future version, integer keys will always be treated as labels (consistent with DataFrame behavior). To access a value by position, use `ser.iloc[pos]`\n",
      "  pred_quantile_regression[i, j] = res.predict(X.iloc[-1:])[0]\n",
      "/Users/stephantimpe/PycharmProjects/probabilistic-forecasting-challenge/models/DAX/DAX_quantile_regression.py:33: FutureWarning: Series.__getitem__ treating keys as positions is deprecated. In a future version, integer keys will always be treated as labels (consistent with DataFrame behavior). To access a value by position, use `ser.iloc[pos]`\n",
      "  pred_quantile_regression[i, j] = res.predict(X.iloc[-1:])[0]\n",
      "/Users/stephantimpe/PycharmProjects/probabilistic-forecasting-challenge/models/DAX/DAX_quantile_regression.py:33: FutureWarning: Series.__getitem__ treating keys as positions is deprecated. In a future version, integer keys will always be treated as labels (consistent with DataFrame behavior). To access a value by position, use `ser.iloc[pos]`\n",
      "  pred_quantile_regression[i, j] = res.predict(X.iloc[-1:])[0]\n",
      "/Users/stephantimpe/PycharmProjects/probabilistic-forecasting-challenge/models/DAX/DAX_quantile_regression.py:33: FutureWarning: Series.__getitem__ treating keys as positions is deprecated. In a future version, integer keys will always be treated as labels (consistent with DataFrame behavior). To access a value by position, use `ser.iloc[pos]`\n",
      "  pred_quantile_regression[i, j] = res.predict(X.iloc[-1:])[0]\n"
     ]
    },
    {
     "data": {
      "text/plain": "<Figure size 640x480 with 1 Axes>",
      "image/png": "[encoded data removed]"
     },
     "metadata": {},
     "output_type": "display_data"
    }
   ],
   "source": [
    "df=DAX_quantile_regression.DAX_quantile_regression(hist)"
   ],
   "metadata": {
    "collapsed": false,
    "ExecuteTime": {
     "end_time": "2023-11-18T17:24:24.749547Z",
     "start_time": "2023-11-18T17:24:19.541583Z"
    }
   },
   "id": "d8b74f59456065c6"
  },
  {
   "cell_type": "code",
   "execution_count": 7,
   "outputs": [
    {
     "data": {
      "text/plain": "  forecast_date target horizon    q0.025     q0.25      q0.5     q0.75  \\\n0    2023-11-18    DAX   1 day -1.527961 -0.310518 -0.054355  0.225279   \n1    2023-11-18    DAX   2 day -1.456017  0.059355  0.394031  0.603557   \n2    2023-11-18    DAX   5 day -0.090082  1.554570  1.901802  2.052857   \n3    2023-11-18    DAX   6 day  2.791002  4.576141  5.004386  5.172169   \n4    2023-11-18    DAX   7 day  4.024749  5.838083  6.306226  6.451865   \n\n     q0.975  \n0  1.234585  \n1  1.788186  \n2  3.329860  \n3  6.452624  \n4  7.788548  ",
      "text/html": "<div>\n<style scoped>\n    .dataframe tbody tr th:only-of-type {\n        vertical-align: middle;\n    }\n\n    .dataframe tbody tr th {\n        vertical-align: top;\n    }\n\n    .dataframe thead th {\n        text-align: right;\n    }\n</style>\n<table border=\"1\" class=\"dataframe\">\n  <thead>\n    <tr style=\"text-align: right;\">\n      <th></th>\n      <th>forecast_date</th>\n      <th>target</th>\n      <th>horizon</th>\n      <th>q0.025</th>\n      <th>q0.25</th>\n      <th>q0.5</th>\n      <th>q0.75</th>\n      <th>q0.975</th>\n    </tr>\n  </thead>\n  <tbody>\n    <tr>\n      <th>0</th>\n      <td>2023-11-18</td>\n      <td>DAX</td>\n      <td>1 day</td>\n      <td>-1.527961</td>\n      <td>-0.310518</td>\n      <td>-0.054355</td>\n      <td>0.225279</td>\n      <td>1.234585</td>\n    </tr>\n    <tr>\n      <th>1</th>\n      <td>2023-11-18</td>\n      <td>DAX</td>\n      <td>2 day</td>\n      <td>-1.456017</td>\n      <td>0.059355</td>\n      <td>0.394031</td>\n      <td>0.603557</td>\n      <td>1.788186</td>\n    </tr>\n    <tr>\n      <th>2</th>\n      <td>2023-11-18</td>\n      <td>DAX</td>\n      <td>5 day</td>\n      <td>-0.090082</td>\n      <td>1.554570</td>\n      <td>1.901802</td>\n      <td>2.052857</td>\n      <td>3.329860</td>\n    </tr>\n    <tr>\n      <th>3</th>\n      <td>2023-11-18</td>\n      <td>DAX</td>\n      <td>6 day</td>\n      <td>2.791002</td>\n      <td>4.576141</td>\n      <td>5.004386</td>\n      <td>5.172169</td>\n      <td>6.452624</td>\n    </tr>\n    <tr>\n      <th>4</th>\n      <td>2023-11-18</td>\n      <td>DAX</td>\n      <td>7 day</td>\n      <td>4.024749</td>\n      <td>5.838083</td>\n      <td>6.306226</td>\n      <td>6.451865</td>\n      <td>7.788548</td>\n    </tr>\n  </tbody>\n</table>\n</div>"
     },
     "execution_count": 7,
     "metadata": {},
     "output_type": "execute_result"
    }
   ],
   "source": [
    "df"
   ],
   "metadata": {
    "collapsed": false,
    "ExecuteTime": {
     "end_time": "2023-11-18T17:24:24.767236Z",
     "start_time": "2023-11-18T17:24:24.759308Z"
    }
   },
   "id": "80ea74a32dd194e1"
  },
  {
   "cell_type": "code",
   "execution_count": null,
   "outputs": [],
   "source": [],
   "metadata": {
    "collapsed": false
   },
   "id": "34a33f344950d5bf"
  }
 ],
 "metadata": {
  "kernelspec": {
   "display_name": "Python 3 (ipykernel)",
   "language": "python",
   "name": "python3"
  },
  "language_info": {
   "codemirror_mode": {
    "name": "ipython",
    "version": 3
   },
   "file_extension": ".py",
   "mimetype": "text/x-python",
   "name": "python",
   "nbconvert_exporter": "python",
   "pygments_lexer": "ipython3",
   "version": "3.10.13"
  }
 },
 "nbformat": 4,
 "nbformat_minor": 5
}
