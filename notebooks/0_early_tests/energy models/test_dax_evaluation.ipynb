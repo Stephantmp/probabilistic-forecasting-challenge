{
 "cells": [
  {
   "cell_type": "code",
   "execution_count": 1,
   "id": "initial_id",
   "metadata": {
    "collapsed": true,
    "ExecuteTime": {
     "end_time": "2023-11-30T20:58:07.543492Z",
     "start_time": "2023-11-30T20:58:07.409899Z"
    }
   },
   "outputs": [],
   "source": [
    "from models.DAX import DAX_quantile_regression, DAX_baseline\n",
    "from models.energy import energy_quantile_regression\n",
    "from functions import get_energy,get_DAX,merge_submissions,check_submission\n",
    "from functions.prepare_data import split_time\n",
    "from functions.evaluation import evaluate_horizon\n",
    "from tqdm import tqdm\n",
    "from functions import evaluate_model"
   ]
  },
  {
   "cell_type": "code",
   "execution_count": 2,
   "outputs": [],
   "source": [
    "daxdata= get_DAX.get()"
   ],
   "metadata": {
    "collapsed": false,
    "ExecuteTime": {
     "end_time": "2023-11-30T20:58:27.956923Z",
     "start_time": "2023-11-30T20:58:07.544381Z"
    }
   },
   "id": "4b71e296272288d"
  },
  {
   "cell_type": "code",
   "execution_count": 3,
   "outputs": [],
   "source": [
    "baseline_df = DAX_baseline.DAX_baseline(daxdata)"
   ],
   "metadata": {
    "collapsed": false,
    "ExecuteTime": {
     "end_time": "2023-11-30T20:58:27.966107Z",
     "start_time": "2023-11-30T20:58:27.954448Z"
    }
   },
   "id": "beafef3adb9a4889"
  },
  {
   "cell_type": "code",
   "execution_count": 4,
   "outputs": [
    {
     "data": {
      "text/plain": "  forecast_date target horizon    q0.025     q0.25      q0.5     q0.75  \\\n0    2023-11-30    DAX   1 day -3.321265 -0.546439  0.068631  0.718274   \n1    2023-11-30    DAX   2 day -4.087895 -0.817404  0.080265  1.000970   \n2    2023-11-30    DAX   5 day -5.259161 -0.912912  0.164214  1.232426   \n3    2023-11-30    DAX   6 day -6.282629 -1.044070  0.203116  1.443441   \n4    2023-11-30    DAX   7 day -6.735742 -1.091646  0.343478  1.594461   \n\n     q0.975  \n0  2.719772  \n1  3.570492  \n2  4.628697  \n3  5.367396  \n4  6.259934  ",
      "text/html": "<div>\n<style scoped>\n    .dataframe tbody tr th:only-of-type {\n        vertical-align: middle;\n    }\n\n    .dataframe tbody tr th {\n        vertical-align: top;\n    }\n\n    .dataframe thead th {\n        text-align: right;\n    }\n</style>\n<table border=\"1\" class=\"dataframe\">\n  <thead>\n    <tr style=\"text-align: right;\">\n      <th></th>\n      <th>forecast_date</th>\n      <th>target</th>\n      <th>horizon</th>\n      <th>q0.025</th>\n      <th>q0.25</th>\n      <th>q0.5</th>\n      <th>q0.75</th>\n      <th>q0.975</th>\n    </tr>\n  </thead>\n  <tbody>\n    <tr>\n      <th>0</th>\n      <td>2023-11-30</td>\n      <td>DAX</td>\n      <td>1 day</td>\n      <td>-3.321265</td>\n      <td>-0.546439</td>\n      <td>0.068631</td>\n      <td>0.718274</td>\n      <td>2.719772</td>\n    </tr>\n    <tr>\n      <th>1</th>\n      <td>2023-11-30</td>\n      <td>DAX</td>\n      <td>2 day</td>\n      <td>-4.087895</td>\n      <td>-0.817404</td>\n      <td>0.080265</td>\n      <td>1.000970</td>\n      <td>3.570492</td>\n    </tr>\n    <tr>\n      <th>2</th>\n      <td>2023-11-30</td>\n      <td>DAX</td>\n      <td>5 day</td>\n      <td>-5.259161</td>\n      <td>-0.912912</td>\n      <td>0.164214</td>\n      <td>1.232426</td>\n      <td>4.628697</td>\n    </tr>\n    <tr>\n      <th>3</th>\n      <td>2023-11-30</td>\n      <td>DAX</td>\n      <td>6 day</td>\n      <td>-6.282629</td>\n      <td>-1.044070</td>\n      <td>0.203116</td>\n      <td>1.443441</td>\n      <td>5.367396</td>\n    </tr>\n    <tr>\n      <th>4</th>\n      <td>2023-11-30</td>\n      <td>DAX</td>\n      <td>7 day</td>\n      <td>-6.735742</td>\n      <td>-1.091646</td>\n      <td>0.343478</td>\n      <td>1.594461</td>\n      <td>6.259934</td>\n    </tr>\n  </tbody>\n</table>\n</div>"
     },
     "execution_count": 4,
     "metadata": {},
     "output_type": "execute_result"
    }
   ],
   "source": [
    "baseline_df"
   ],
   "metadata": {
    "collapsed": false,
    "ExecuteTime": {
     "end_time": "2023-11-30T20:58:27.979778Z",
     "start_time": "2023-11-30T20:58:27.963772Z"
    }
   },
   "id": "80ebcf86658fc517"
  },
  {
   "cell_type": "code",
   "execution_count": 5,
   "outputs": [],
   "source": [
    "quantile_df = DAX_quantile_regression.DAX_quantile_regression(daxdata)"
   ],
   "metadata": {
    "collapsed": false,
    "ExecuteTime": {
     "end_time": "2023-11-30T20:58:33.672830Z",
     "start_time": "2023-11-30T20:58:27.976532Z"
    }
   },
   "id": "679a2b982ba7d27a"
  },
  {
   "cell_type": "code",
   "execution_count": 6,
   "outputs": [
    {
     "data": {
      "text/plain": "  forecast_date target horizon    q0.025     q0.25      q0.5     q0.75  \\\n0    2023-11-30    DAX   1 day -2.146732 -0.480537  0.001527  0.508445   \n1    2023-11-30    DAX   2 day -0.239467  1.412230  1.998202  2.504450   \n2    2023-11-30    DAX   5 day -0.089087  1.632409  2.261871  2.718899   \n3    2023-11-30    DAX   6 day -0.967677  0.827741  1.499534  1.980733   \n4    2023-11-30    DAX   7 day -0.513234  1.159863  1.796705  2.205429   \n\n     q0.975  \n0  1.686040  \n1  4.035406  \n2  4.064714  \n3  3.251140  \n4  3.696325  ",
      "text/html": "<div>\n<style scoped>\n    .dataframe tbody tr th:only-of-type {\n        vertical-align: middle;\n    }\n\n    .dataframe tbody tr th {\n        vertical-align: top;\n    }\n\n    .dataframe thead th {\n        text-align: right;\n    }\n</style>\n<table border=\"1\" class=\"dataframe\">\n  <thead>\n    <tr style=\"text-align: right;\">\n      <th></th>\n      <th>forecast_date</th>\n      <th>target</th>\n      <th>horizon</th>\n      <th>q0.025</th>\n      <th>q0.25</th>\n      <th>q0.5</th>\n      <th>q0.75</th>\n      <th>q0.975</th>\n    </tr>\n  </thead>\n  <tbody>\n    <tr>\n      <th>0</th>\n      <td>2023-11-30</td>\n      <td>DAX</td>\n      <td>1 day</td>\n      <td>-2.146732</td>\n      <td>-0.480537</td>\n      <td>0.001527</td>\n      <td>0.508445</td>\n      <td>1.686040</td>\n    </tr>\n    <tr>\n      <th>1</th>\n      <td>2023-11-30</td>\n      <td>DAX</td>\n      <td>2 day</td>\n      <td>-0.239467</td>\n      <td>1.412230</td>\n      <td>1.998202</td>\n      <td>2.504450</td>\n      <td>4.035406</td>\n    </tr>\n    <tr>\n      <th>2</th>\n      <td>2023-11-30</td>\n      <td>DAX</td>\n      <td>5 day</td>\n      <td>-0.089087</td>\n      <td>1.632409</td>\n      <td>2.261871</td>\n      <td>2.718899</td>\n      <td>4.064714</td>\n    </tr>\n    <tr>\n      <th>3</th>\n      <td>2023-11-30</td>\n      <td>DAX</td>\n      <td>6 day</td>\n      <td>-0.967677</td>\n      <td>0.827741</td>\n      <td>1.499534</td>\n      <td>1.980733</td>\n      <td>3.251140</td>\n    </tr>\n    <tr>\n      <th>4</th>\n      <td>2023-11-30</td>\n      <td>DAX</td>\n      <td>7 day</td>\n      <td>-0.513234</td>\n      <td>1.159863</td>\n      <td>1.796705</td>\n      <td>2.205429</td>\n      <td>3.696325</td>\n    </tr>\n  </tbody>\n</table>\n</div>"
     },
     "execution_count": 6,
     "metadata": {},
     "output_type": "execute_result"
    }
   ],
   "source": [
    "quantile_df"
   ],
   "metadata": {
    "collapsed": false,
    "ExecuteTime": {
     "end_time": "2023-11-30T20:58:33.698251Z",
     "start_time": "2023-11-30T20:58:33.669164Z"
    }
   },
   "id": "bcfef55fa3b604b5"
  },
  {
   "cell_type": "code",
   "execution_count": 7,
   "outputs": [],
   "source": [
    "baseline_model = {\n",
    "    'name': 'Baseline Model',\n",
    "    'function': DAX_baseline.DAX_baseline\n",
    "}\n",
    "quantile_model = {\n",
    "    'name': 'Quantile Regression',\n",
    "    'function': DAX_quantile_regression.DAX_quantile_regression\n",
    "}\n"
   ],
   "metadata": {
    "collapsed": false,
    "ExecuteTime": {
     "end_time": "2023-11-30T20:58:33.749074Z",
     "start_time": "2023-11-30T20:58:33.696526Z"
    }
   },
   "id": "e638da2110779b77"
  },
  {
   "cell_type": "code",
   "execution_count": 8,
   "outputs": [
    {
     "ename": "AttributeError",
     "evalue": "'DatetimeIndex' object has no attribute 'dt'",
     "output_type": "error",
     "traceback": [
      "\u001B[0;31m---------------------------------------------------------------------------\u001B[0m",
      "\u001B[0;31mAttributeError\u001B[0m                            Traceback (most recent call last)",
      "Cell \u001B[0;32mIn[8], line 4\u001B[0m\n\u001B[1;32m      1\u001B[0m start_date \u001B[38;5;241m=\u001B[39m \u001B[38;5;124m'\u001B[39m\u001B[38;5;124m2023-01-01\u001B[39m\u001B[38;5;124m'\u001B[39m\n\u001B[1;32m      2\u001B[0m end_date \u001B[38;5;241m=\u001B[39m \u001B[38;5;124m'\u001B[39m\u001B[38;5;124m2023-01-31\u001B[39m\u001B[38;5;124m'\u001B[39m\n\u001B[0;32m----> 4\u001B[0m evaluation_model1, evaluation_model2 \u001B[38;5;241m=\u001B[39m \u001B[43mevaluate_model\u001B[49m\u001B[38;5;241;43m.\u001B[39;49m\u001B[43mevaluate\u001B[49m\u001B[43m(\u001B[49m\u001B[43mbaseline_model\u001B[49m\u001B[43m,\u001B[49m\u001B[43m \u001B[49m\u001B[43mquantile_model\u001B[49m\u001B[43m,\u001B[49m\u001B[43m \u001B[49m\u001B[43mdaxdata\u001B[49m\u001B[43m,\u001B[49m\u001B[43m \u001B[49m\u001B[43mstart_date\u001B[49m\u001B[43m,\u001B[49m\u001B[43m \u001B[49m\u001B[43mend_date\u001B[49m\u001B[43m)\u001B[49m\n",
      "File \u001B[0;32m~/PycharmProjects/probabilistic-forecasting-challenge/functions/evaluate_model.py:28\u001B[0m, in \u001B[0;36mevaluate\u001B[0;34m(model1, model2, df, start_date, end_date, horizon_format, last_x, years, months, weeks)\u001B[0m\n\u001B[1;32m     26\u001B[0m \u001B[38;5;66;03m# Evaluate model1\u001B[39;00m\n\u001B[1;32m     27\u001B[0m pred_model1 \u001B[38;5;241m=\u001B[39m model1[\u001B[38;5;124m'\u001B[39m\u001B[38;5;124mfunction\u001B[39m\u001B[38;5;124m'\u001B[39m](df_before, date_str\u001B[38;5;241m=\u001B[39mdate_str)\n\u001B[0;32m---> 28\u001B[0m evaluation_model1 \u001B[38;5;241m=\u001B[39m \u001B[43mevaluate_and_append\u001B[49m\u001B[43m(\u001B[49m\u001B[43mevaluation_model1\u001B[49m\u001B[43m,\u001B[49m\u001B[43m \u001B[49m\u001B[43mpred_model1\u001B[49m\u001B[43m,\u001B[49m\u001B[43m \u001B[49m\u001B[43mdf\u001B[49m\u001B[43m,\u001B[49m\u001B[43m \u001B[49m\u001B[43mhorizon_format\u001B[49m\u001B[43m)\u001B[49m\n\u001B[1;32m     30\u001B[0m \u001B[38;5;66;03m# Evaluate model2\u001B[39;00m\n\u001B[1;32m     31\u001B[0m pred_model2 \u001B[38;5;241m=\u001B[39m model2[\u001B[38;5;124m'\u001B[39m\u001B[38;5;124mfunction\u001B[39m\u001B[38;5;124m'\u001B[39m](df_before, date_str\u001B[38;5;241m=\u001B[39mdate_str)\n",
      "File \u001B[0;32m~/PycharmProjects/probabilistic-forecasting-challenge/functions/evaluate_model.py:90\u001B[0m, in \u001B[0;36mevaluate_and_append\u001B[0;34m(evaluation_df, pred, df, horizon_format)\u001B[0m\n\u001B[1;32m     88\u001B[0m     \u001B[38;5;66;03m# Convert the timezone of actual_forecast_date to match that of df\u001B[39;00m\n\u001B[1;32m     89\u001B[0m     pred[\u001B[38;5;124m'\u001B[39m\u001B[38;5;124mactual_forecast_date\u001B[39m\u001B[38;5;124m'\u001B[39m] \u001B[38;5;241m=\u001B[39m pred[\u001B[38;5;124m'\u001B[39m\u001B[38;5;124mactual_forecast_date\u001B[39m\u001B[38;5;124m'\u001B[39m]\u001B[38;5;241m.\u001B[39mdt\u001B[38;5;241m.\u001B[39mtz_localize(\u001B[38;5;124m'\u001B[39m\u001B[38;5;124mEurope/Berlin\u001B[39m\u001B[38;5;124m'\u001B[39m)\n\u001B[0;32m---> 90\u001B[0m     df\u001B[38;5;241m.\u001B[39mindex \u001B[38;5;241m=\u001B[39m \u001B[43mdf\u001B[49m\u001B[38;5;241;43m.\u001B[39;49m\u001B[43mindex\u001B[49m\u001B[38;5;241;43m.\u001B[39;49m\u001B[43mdt\u001B[49m\u001B[38;5;241m.\u001B[39mtz_localize(\u001B[38;5;124m'\u001B[39m\u001B[38;5;124mEurope/Berlin\u001B[39m\u001B[38;5;124m'\u001B[39m)\n\u001B[1;32m     91\u001B[0m \u001B[38;5;66;03m# Merge predictions with actual data based on the actual forecast date\u001B[39;00m\n\u001B[1;32m     92\u001B[0m     merged_df \u001B[38;5;241m=\u001B[39m pd\u001B[38;5;241m.\u001B[39mmerge(pred, df, left_on\u001B[38;5;241m=\u001B[39m\u001B[38;5;124m'\u001B[39m\u001B[38;5;124mactual_forecast_date\u001B[39m\u001B[38;5;124m'\u001B[39m, right_index\u001B[38;5;241m=\u001B[39m\u001B[38;5;28;01mTrue\u001B[39;00m, how\u001B[38;5;241m=\u001B[39m\u001B[38;5;124m'\u001B[39m\u001B[38;5;124mleft\u001B[39m\u001B[38;5;124m'\u001B[39m)\n",
      "\u001B[0;31mAttributeError\u001B[0m: 'DatetimeIndex' object has no attribute 'dt'"
     ]
    }
   ],
   "source": [
    "start_date = '2023-01-01'\n",
    "end_date = '2023-01-31'\n",
    "\n",
    "evaluation_model1, evaluation_model2 = evaluate_model.evaluate(baseline_model, quantile_model, daxdata, start_date, end_date)"
   ],
   "metadata": {
    "collapsed": false,
    "ExecuteTime": {
     "end_time": "2023-11-30T20:58:34.502365Z",
     "start_time": "2023-11-30T20:58:33.718256Z"
    }
   },
   "id": "8e40541ff41500c6"
  },
  {
   "cell_type": "code",
   "execution_count": null,
   "outputs": [],
   "source": [
    "evaluation_model1['score'].sum()"
   ],
   "metadata": {
    "collapsed": false,
    "ExecuteTime": {
     "start_time": "2023-11-30T20:58:34.504383Z"
    }
   },
   "id": "b689a8210f01da01"
  },
  {
   "cell_type": "code",
   "execution_count": null,
   "outputs": [],
   "source": [
    "evaluation_model2['score'].sum()"
   ],
   "metadata": {
    "collapsed": false,
    "ExecuteTime": {
     "start_time": "2023-11-30T20:58:34.506809Z"
    }
   },
   "id": "b5f2e40fa5d7f2c0"
  },
  {
   "cell_type": "code",
   "execution_count": null,
   "outputs": [],
   "source": [
    "evaluation_model1['score'].mean()"
   ],
   "metadata": {
    "collapsed": false,
    "ExecuteTime": {
     "start_time": "2023-11-30T20:58:34.509846Z"
    }
   },
   "id": "68ec75bec500faf9"
  },
  {
   "cell_type": "code",
   "execution_count": null,
   "outputs": [],
   "source": [
    "evaluation_model2['score'].mean()"
   ],
   "metadata": {
    "collapsed": false,
    "ExecuteTime": {
     "end_time": "2023-11-30T20:58:34.521415Z",
     "start_time": "2023-11-30T20:58:34.513644Z"
    }
   },
   "id": "beb0c5c80a5240c0"
  },
  {
   "cell_type": "code",
   "execution_count": null,
   "outputs": [],
   "source": [
    "evaluation_model1['score'].std()"
   ],
   "metadata": {
    "collapsed": false,
    "ExecuteTime": {
     "start_time": "2023-11-30T20:58:34.516583Z"
    }
   },
   "id": "3deba1d6a42ff608"
  },
  {
   "cell_type": "code",
   "execution_count": null,
   "outputs": [],
   "source": [
    "evaluation_model2['score'].std()"
   ],
   "metadata": {
    "collapsed": false,
    "ExecuteTime": {
     "start_time": "2023-11-30T20:58:34.520881Z"
    }
   },
   "id": "27c9b573da009700"
  },
  {
   "cell_type": "code",
   "execution_count": null,
   "outputs": [],
   "source": [
    "from functions import naive_ensemble"
   ],
   "metadata": {
    "collapsed": false,
    "ExecuteTime": {
     "start_time": "2023-11-30T20:58:34.524296Z"
    }
   },
   "id": "d54f181b8c98b4f0"
  },
  {
   "cell_type": "code",
   "execution_count": null,
   "outputs": [],
   "source": [
    "evaluation_model1"
   ],
   "metadata": {
    "collapsed": false,
    "ExecuteTime": {
     "start_time": "2023-11-30T20:58:34.527638Z"
    }
   },
   "id": "8ffa3e088bca99a4"
  },
  {
   "cell_type": "code",
   "execution_count": null,
   "outputs": [],
   "source": [
    "evaluation_model2"
   ],
   "metadata": {
    "collapsed": false,
    "ExecuteTime": {
     "start_time": "2023-11-30T20:58:34.531151Z"
    }
   },
   "id": "cc09fd186b2c2ed"
  },
  {
   "cell_type": "code",
   "execution_count": null,
   "outputs": [],
   "source": [
    "ensemble_df = naive_ensemble.ensemble(evaluation_model1, evaluation_model2,0.5,0.5)"
   ],
   "metadata": {
    "collapsed": false,
    "ExecuteTime": {
     "start_time": "2023-11-30T20:58:34.533973Z"
    }
   },
   "id": "18fb2972114dad00"
  },
  {
   "cell_type": "code",
   "execution_count": null,
   "outputs": [],
   "source": [
    "ensemble_df"
   ],
   "metadata": {
    "collapsed": false,
    "ExecuteTime": {
     "end_time": "2023-11-30T20:58:34.610640Z",
     "start_time": "2023-11-30T20:58:34.536621Z"
    }
   },
   "id": "14b2dd9914021940"
  },
  {
   "cell_type": "code",
   "execution_count": null,
   "outputs": [],
   "source": [
    "import pandas as pd\n",
    "def evaluate_ensemble_model(ensemble_df, actual_values):\n",
    "    \"\"\"\n",
    "    Evaluate the ensemble model using the provided scoring method.\n",
    "\n",
    "    :param ensemble_df: DataFrame containing the ensemble forecasts\n",
    "    :param actual_values: Series or DataFrame containing the actual observed values\n",
    "    :return: DataFrame with the scores for each horizon in the ensemble forecast\n",
    "    \"\"\"\n",
    "    scores = []\n",
    "    for index, row in ensemble_df.iterrows():\n",
    "        forecast_date = row['forecast_date']\n",
    "        horizon = row['horizon']\n",
    "        quantile_preds = [row[f'q{q}'] for q in ['0.025', '0.25', '0.5', '0.75', '0.975']]\n",
    "        obs = actual_values.loc[(actual_values['forecast_date'] == forecast_date) & (actual_values['horizon'] == horizon), 'ret1'].iloc[0]\n",
    "        score = evaluate_horizon(quantile_preds, obs)\n",
    "        scores.append({'forecast_date': forecast_date, 'horizon': horizon, 'score': score})\n",
    "\n",
    "    return pd.DataFrame(scores)\n",
    "\n",
    "# Example usage\n",
    "# ensemble_df is your DataFrame containing the ensemble forecasts\n",
    "# actual_values is your DataFrame containing the actual observed values (e.g., 'Close' prices)\n",
    "ensemble_scores = evaluate_ensemble_model(ensemble_df, evaluation_model1)\n",
    "print(ensemble_scores)\n"
   ],
   "metadata": {
    "collapsed": false,
    "ExecuteTime": {
     "start_time": "2023-11-30T20:58:34.538684Z"
    }
   },
   "id": "f731e09031fba961"
  },
  {
   "cell_type": "code",
   "execution_count": null,
   "outputs": [],
   "source": [
    "ensemble_scores['score'].sum()"
   ],
   "metadata": {
    "collapsed": false,
    "ExecuteTime": {
     "start_time": "2023-11-30T20:58:34.540776Z"
    }
   },
   "id": "d755e770c2c781bc"
  },
  {
   "cell_type": "code",
   "execution_count": null,
   "outputs": [],
   "source": [
    "import matplotlib.pyplot as plt\n",
    "import seaborn as sns"
   ],
   "metadata": {
    "collapsed": false,
    "ExecuteTime": {
     "start_time": "2023-11-30T20:58:34.542675Z"
    }
   },
   "id": "87317911032e8e57"
  },
  {
   "cell_type": "code",
   "execution_count": null,
   "outputs": [],
   "source": [
    "plt.figure(figsize=(12, 6))\n",
    "sns.lineplot(data=ensemble_scores, x='forecast_date', y='score')\n",
    "plt.title('Model Score Over Time')\n",
    "plt.xlabel('Date')\n",
    "plt.ylabel('Score')\n",
    "plt.xticks(rotation=45)  # Optional: Rotate x-axis labels for better readability\n",
    "plt.show()"
   ],
   "metadata": {
    "collapsed": false,
    "ExecuteTime": {
     "start_time": "2023-11-30T20:58:34.544595Z"
    }
   },
   "id": "76aa920f3c7ae50f"
  },
  {
   "cell_type": "code",
   "execution_count": null,
   "outputs": [],
   "source": [],
   "metadata": {
    "collapsed": false,
    "ExecuteTime": {
     "start_time": "2023-11-30T20:58:34.546107Z"
    }
   },
   "id": "611b9734fa80c9cf"
  },
  {
   "cell_type": "code",
   "execution_count": null,
   "outputs": [],
   "source": [
    "quantile_model=dax_quantile_regression.dax_quantile_regression(daxdata)"
   ],
   "metadata": {
    "collapsed": false,
    "ExecuteTime": {
     "start_time": "2023-11-30T20:58:34.547611Z"
    }
   },
   "id": "fe71a82c1e87a8b7"
  },
  {
   "cell_type": "code",
   "execution_count": null,
   "outputs": [],
   "source": [
    "ensemble_df=naive_ensemble.ensemble(evaluation_model1, evaluation_model2,0.5,0.5)"
   ],
   "metadata": {
    "collapsed": false,
    "ExecuteTime": {
     "start_time": "2023-11-30T20:58:34.549101Z"
    }
   },
   "id": "75b70cd5c15731b4"
  },
  {
   "cell_type": "code",
   "execution_count": null,
   "outputs": [],
   "source": [],
   "metadata": {
    "collapsed": false
   },
   "id": "83dfbb36e7404a0f"
  },
  {
   "cell_type": "code",
   "execution_count": 1,
   "outputs": [
    {
     "ename": "NameError",
     "evalue": "name 'energy_quantile_regression' is not defined",
     "output_type": "error",
     "traceback": [
      "\u001B[0;31m---------------------------------------------------------------------------\u001B[0m",
      "\u001B[0;31mNameError\u001B[0m                                 Traceback (most recent call last)",
      "Cell \u001B[0;32mIn[1], line 1\u001B[0m\n\u001B[0;32m----> 1\u001B[0m reg\u001B[38;5;241m=\u001B[39m\u001B[43menergy_quantile_regression\u001B[49m\u001B[38;5;241m.\u001B[39menergy_quantile_regression(df)\n",
      "\u001B[0;31mNameError\u001B[0m: name 'energy_quantile_regression' is not defined"
     ]
    }
   ],
   "source": [],
   "metadata": {
    "collapsed": false,
    "ExecuteTime": {
     "end_time": "2023-12-13T18:01:07.455950Z",
     "start_time": "2023-12-13T18:01:07.038408Z"
    }
   },
   "id": "eeb1e85fba11c6d1"
  },
  {
   "cell_type": "code",
   "execution_count": null,
   "outputs": [],
   "source": [],
   "metadata": {
    "collapsed": false
   },
   "id": "228b99439a83848d"
  }
 ],
 "metadata": {
  "kernelspec": {
   "display_name": "Python 3",
   "language": "python",
   "name": "python3"
  },
  "language_info": {
   "codemirror_mode": {
    "name": "ipython",
    "version": 2
   },
   "file_extension": ".py",
   "mimetype": "text/x-python",
   "name": "python",
   "nbconvert_exporter": "python",
   "pygments_lexer": "ipython2",
   "version": "2.7.6"
  }
 },
 "nbformat": 4,
 "nbformat_minor": 5
}
