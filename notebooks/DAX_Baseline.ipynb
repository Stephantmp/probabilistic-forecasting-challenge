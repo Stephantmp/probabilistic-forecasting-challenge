{
 "cells": [
  {
   "cell_type": "code",
   "execution_count": 3,
   "id": "3d7236e6-7751-4928-9a79-124c5835761f",
   "metadata": {},
   "outputs": [],
   "source": [
    "import pandas as pd\n",
    "import numpy as np\n",
    "import matplotlib.pyplot as plt\n",
    "import seaborn as sns"
   ]
  },
  {
   "cell_type": "code",
   "execution_count": 4,
   "id": "529d881c-9e66-44be-9a91-a51ec467d426",
   "metadata": {},
   "outputs": [],
   "source": [
    "#by hand, runs faster\n",
    "def compute_return(y, r_type=\"log\", h=1):\n",
    "    \n",
    "    # exclude first h observations\n",
    "    y2 = y[h:]\n",
    "    # exclude last h observations\n",
    "    y1 = y[:-h]\n",
    "    \n",
    "    if r_type == \"log\":\n",
    "        ret = np.concatenate(([np.nan]*h, 100 * (np.log(y2) - np.log(y1))))\n",
    "    else:\n",
    "        ret = np.concatenate(([np.nan]*h, 100 * (y2-y1)/y1))\n",
    "        \n",
    "    return ret\n",
    "\n",
    "#pythonic alternative (however: slower) to do the same thing:\n",
    "def compute_return_2(df, r_type=\"log\", h=1):\n",
    "    \n",
    "    if r_type == \"log\":\n",
    "        return (np.log(df) - np.log(df.shift(h))) * 100\n",
    "    else:\n",
    "        return ((df-df.shift(h))/df) * 100 "
   ]
  },
  {
   "cell_type": "code",
   "execution_count": 5,
   "id": "7c1325d1-328c-4fc5-b7e7-2fb0dfa2bf71",
   "metadata": {},
   "outputs": [],
   "source": [
    "import yfinance as yf\n",
    "\n",
    "msft = yf.Ticker(\"^GDAXI\")"
   ]
  },
  {
   "cell_type": "code",
   "execution_count": 6,
   "id": "62efb5b5-757a-40a4-a3b2-4e1187e5a8de",
   "metadata": {},
   "outputs": [],
   "source": [
    "hist = msft.history(period=\"max\")"
   ]
  },
  {
   "cell_type": "code",
   "execution_count": 7,
   "id": "dbf623a4-194a-496c-ae01-d86acac3d9d6",
   "metadata": {},
   "outputs": [],
   "source": [
    "for i in range(5):\n",
    "    hist[\"ret\"+str(i+1)] = compute_return(hist[\"Close\"].values, h=i+1)"
   ]
  },
  {
   "cell_type": "code",
   "execution_count": 8,
   "id": "15bf0777-6463-4508-97f4-1e557df68457",
   "metadata": {},
   "outputs": [
    {
     "data": {
      "text/html": [
       "<div>\n",
       "<style scoped>\n",
       "    .dataframe tbody tr th:only-of-type {\n",
       "        vertical-align: middle;\n",
       "    }\n",
       "\n",
       "    .dataframe tbody tr th {\n",
       "        vertical-align: top;\n",
       "    }\n",
       "\n",
       "    .dataframe thead th {\n",
       "        text-align: right;\n",
       "    }\n",
       "</style>\n",
       "<table border=\"1\" class=\"dataframe\">\n",
       "  <thead>\n",
       "    <tr style=\"text-align: right;\">\n",
       "      <th></th>\n",
       "      <th>Open</th>\n",
       "      <th>High</th>\n",
       "      <th>Low</th>\n",
       "      <th>Close</th>\n",
       "      <th>Volume</th>\n",
       "      <th>Dividends</th>\n",
       "      <th>Stock Splits</th>\n",
       "      <th>ret1</th>\n",
       "      <th>ret2</th>\n",
       "      <th>ret3</th>\n",
       "      <th>ret4</th>\n",
       "      <th>ret5</th>\n",
       "    </tr>\n",
       "    <tr>\n",
       "      <th>Date</th>\n",
       "      <th></th>\n",
       "      <th></th>\n",
       "      <th></th>\n",
       "      <th></th>\n",
       "      <th></th>\n",
       "      <th></th>\n",
       "      <th></th>\n",
       "      <th></th>\n",
       "      <th></th>\n",
       "      <th></th>\n",
       "      <th></th>\n",
       "      <th></th>\n",
       "    </tr>\n",
       "  </thead>\n",
       "  <tbody>\n",
       "    <tr>\n",
       "      <th>2023-10-27 00:00:00+02:00</th>\n",
       "      <td>14757.110352</td>\n",
       "      <td>14824.290039</td>\n",
       "      <td>14667.370117</td>\n",
       "      <td>14687.410156</td>\n",
       "      <td>86539200</td>\n",
       "      <td>0.0</td>\n",
       "      <td>0.0</td>\n",
       "      <td>-0.296682</td>\n",
       "      <td>-1.384555</td>\n",
       "      <td>-1.302335</td>\n",
       "      <td>-0.768513</td>\n",
       "      <td>-0.753310</td>\n",
       "    </tr>\n",
       "    <tr>\n",
       "      <th>2023-10-30 00:00:00+01:00</th>\n",
       "      <td>14770.950195</td>\n",
       "      <td>14798.000000</td>\n",
       "      <td>14678.730469</td>\n",
       "      <td>14716.540039</td>\n",
       "      <td>76179000</td>\n",
       "      <td>0.0</td>\n",
       "      <td>0.0</td>\n",
       "      <td>0.198136</td>\n",
       "      <td>-0.098546</td>\n",
       "      <td>-1.186419</td>\n",
       "      <td>-1.104199</td>\n",
       "      <td>-0.570378</td>\n",
       "    </tr>\n",
       "    <tr>\n",
       "      <th>2023-10-31 00:00:00+01:00</th>\n",
       "      <td>14741.440430</td>\n",
       "      <td>14829.620117</td>\n",
       "      <td>14722.379883</td>\n",
       "      <td>14810.339844</td>\n",
       "      <td>75370200</td>\n",
       "      <td>0.0</td>\n",
       "      <td>0.0</td>\n",
       "      <td>0.635354</td>\n",
       "      <td>0.833490</td>\n",
       "      <td>0.536808</td>\n",
       "      <td>-0.551065</td>\n",
       "      <td>-0.468845</td>\n",
       "    </tr>\n",
       "    <tr>\n",
       "      <th>2023-11-01 00:00:00+01:00</th>\n",
       "      <td>14851.959961</td>\n",
       "      <td>14949.580078</td>\n",
       "      <td>14786.320312</td>\n",
       "      <td>14923.269531</td>\n",
       "      <td>63588700</td>\n",
       "      <td>0.0</td>\n",
       "      <td>0.0</td>\n",
       "      <td>0.759613</td>\n",
       "      <td>1.394967</td>\n",
       "      <td>1.593103</td>\n",
       "      <td>1.296421</td>\n",
       "      <td>0.208549</td>\n",
       "    </tr>\n",
       "    <tr>\n",
       "      <th>2023-11-02 00:00:00+01:00</th>\n",
       "      <td>15033.650391</td>\n",
       "      <td>15179.320312</td>\n",
       "      <td>15028.030273</td>\n",
       "      <td>15172.929688</td>\n",
       "      <td>0</td>\n",
       "      <td>0.0</td>\n",
       "      <td>0.0</td>\n",
       "      <td>1.659119</td>\n",
       "      <td>2.418732</td>\n",
       "      <td>3.054086</td>\n",
       "      <td>3.252222</td>\n",
       "      <td>2.955540</td>\n",
       "    </tr>\n",
       "  </tbody>\n",
       "</table>\n",
       "</div>"
      ],
      "text/plain": [
       "                                   Open          High           Low  \\\n",
       "Date                                                                  \n",
       "2023-10-27 00:00:00+02:00  14757.110352  14824.290039  14667.370117   \n",
       "2023-10-30 00:00:00+01:00  14770.950195  14798.000000  14678.730469   \n",
       "2023-10-31 00:00:00+01:00  14741.440430  14829.620117  14722.379883   \n",
       "2023-11-01 00:00:00+01:00  14851.959961  14949.580078  14786.320312   \n",
       "2023-11-02 00:00:00+01:00  15033.650391  15179.320312  15028.030273   \n",
       "\n",
       "                                  Close    Volume  Dividends  Stock Splits  \\\n",
       "Date                                                                         \n",
       "2023-10-27 00:00:00+02:00  14687.410156  86539200        0.0           0.0   \n",
       "2023-10-30 00:00:00+01:00  14716.540039  76179000        0.0           0.0   \n",
       "2023-10-31 00:00:00+01:00  14810.339844  75370200        0.0           0.0   \n",
       "2023-11-01 00:00:00+01:00  14923.269531  63588700        0.0           0.0   \n",
       "2023-11-02 00:00:00+01:00  15172.929688         0        0.0           0.0   \n",
       "\n",
       "                               ret1      ret2      ret3      ret4      ret5  \n",
       "Date                                                                         \n",
       "2023-10-27 00:00:00+02:00 -0.296682 -1.384555 -1.302335 -0.768513 -0.753310  \n",
       "2023-10-30 00:00:00+01:00  0.198136 -0.098546 -1.186419 -1.104199 -0.570378  \n",
       "2023-10-31 00:00:00+01:00  0.635354  0.833490  0.536808 -0.551065 -0.468845  \n",
       "2023-11-01 00:00:00+01:00  0.759613  1.394967  1.593103  1.296421  0.208549  \n",
       "2023-11-02 00:00:00+01:00  1.659119  2.418732  3.054086  3.252222  2.955540  "
      ]
     },
     "execution_count": 8,
     "metadata": {},
     "output_type": "execute_result"
    }
   ],
   "source": [
    "hist.tail()"
   ]
  },
  {
   "cell_type": "code",
   "execution_count": 9,
   "id": "bf3ae619-5bdc-4c66-8137-4daa880ce9c7",
   "metadata": {},
   "outputs": [],
   "source": [
    "#quantile levels\n",
    "tau = [.025, .25, .5, .75, .975]"
   ]
  },
  {
   "cell_type": "code",
   "execution_count": 10,
   "id": "8e5ef128-ba07-497d-ab2b-1c7599e86bd0",
   "metadata": {},
   "outputs": [],
   "source": [
    "#define prediction array\n",
    "#cols are quantile levels, rows are horizons\n",
    "pred_baseline = np.zeros((5,5))"
   ]
  },
  {
   "cell_type": "code",
   "execution_count": 11,
   "id": "6033e162-aecf-4e8c-a143-28446cffab0f",
   "metadata": {},
   "outputs": [],
   "source": [
    "last_t = 1000\n",
    "\n",
    "for i in range(5):\n",
    "    ret_str = \"ret\"+str(i+1)\n",
    "    \n",
    "    pred_baseline[i,:] = np.quantile(hist[ret_str].iloc[-last_t:], q=tau)"
   ]
  },
  {
   "cell_type": "markdown",
   "id": "a7c1e0fa-8b06-4233-86b0-09d2f8e589e3",
   "metadata": {},
   "source": [
    "Visualize the results"
   ]
  },
  {
   "cell_type": "code",
   "execution_count": 12,
   "id": "2df653ed-170c-4a79-9c2e-04002faf0965",
   "metadata": {},
   "outputs": [
    {
     "data": {
      "image/png": "[encoded data removed]",
      "text/plain": [
       "<Figure size 640x480 with 1 Axes>"
      ]
     },
     "metadata": {},
     "output_type": "display_data"
    }
   ],
   "source": [
    "x = np.arange(5)+1\n",
    "_ = plt.plot(x,pred_baseline, ls=\"\", marker=\"o\", c=\"black\")\n",
    "_ = plt.xticks(x, x)\n",
    "_ = plt.plot((x,x),(pred_baseline[:,0], pred_baseline[:,-1]),c='black')"
   ]
  },
  {
   "cell_type": "markdown",
   "id": "b4bc6e8b-1537-4bc7-8941-7d6ecc7fffb8",
   "metadata": {},
   "source": [
    "Create Submission DataFrame"
   ]
  },
  {
   "cell_type": "code",
   "execution_count": 13,
   "id": "c316a028-c4bf-459b-97e1-d65a38bdc4aa",
   "metadata": {},
   "outputs": [
    {
     "data": {
      "text/html": [
       "<div>\n",
       "<style scoped>\n",
       "    .dataframe tbody tr th:only-of-type {\n",
       "        vertical-align: middle;\n",
       "    }\n",
       "\n",
       "    .dataframe tbody tr th {\n",
       "        vertical-align: top;\n",
       "    }\n",
       "\n",
       "    .dataframe thead th {\n",
       "        text-align: right;\n",
       "    }\n",
       "</style>\n",
       "<table border=\"1\" class=\"dataframe\">\n",
       "  <thead>\n",
       "    <tr style=\"text-align: right;\">\n",
       "      <th></th>\n",
       "      <th>target</th>\n",
       "      <th>horizon</th>\n",
       "      <th>q0.025</th>\n",
       "      <th>q0.25</th>\n",
       "      <th>q0.5</th>\n",
       "      <th>q0.75</th>\n",
       "      <th>q0.975</th>\n",
       "    </tr>\n",
       "  </thead>\n",
       "  <tbody>\n",
       "    <tr>\n",
       "      <th>0</th>\n",
       "      <td>DAX</td>\n",
       "      <td>1 day</td>\n",
       "      <td>-3.321265</td>\n",
       "      <td>-0.552847</td>\n",
       "      <td>0.055432</td>\n",
       "      <td>0.717534</td>\n",
       "      <td>2.719772</td>\n",
       "    </tr>\n",
       "    <tr>\n",
       "      <th>1</th>\n",
       "      <td>DAX</td>\n",
       "      <td>2 day</td>\n",
       "      <td>-4.087895</td>\n",
       "      <td>-0.841169</td>\n",
       "      <td>0.077741</td>\n",
       "      <td>0.976061</td>\n",
       "      <td>3.570492</td>\n",
       "    </tr>\n",
       "    <tr>\n",
       "      <th>2</th>\n",
       "      <td>DAX</td>\n",
       "      <td>5 day</td>\n",
       "      <td>-5.259161</td>\n",
       "      <td>-0.926504</td>\n",
       "      <td>0.135565</td>\n",
       "      <td>1.194919</td>\n",
       "      <td>4.628697</td>\n",
       "    </tr>\n",
       "    <tr>\n",
       "      <th>3</th>\n",
       "      <td>DAX</td>\n",
       "      <td>6 day</td>\n",
       "      <td>-6.282629</td>\n",
       "      <td>-1.055648</td>\n",
       "      <td>0.178666</td>\n",
       "      <td>1.426987</td>\n",
       "      <td>5.367396</td>\n",
       "    </tr>\n",
       "    <tr>\n",
       "      <th>4</th>\n",
       "      <td>DAX</td>\n",
       "      <td>7 day</td>\n",
       "      <td>-6.735742</td>\n",
       "      <td>-1.094754</td>\n",
       "      <td>0.300695</td>\n",
       "      <td>1.518241</td>\n",
       "      <td>6.259934</td>\n",
       "    </tr>\n",
       "  </tbody>\n",
       "</table>\n",
       "</div>"
      ],
      "text/plain": [
       "  target horizon    q0.025     q0.25      q0.5     q0.75    q0.975\n",
       "0    DAX   1 day -3.321265 -0.552847  0.055432  0.717534  2.719772\n",
       "1    DAX   2 day -4.087895 -0.841169  0.077741  0.976061  3.570492\n",
       "2    DAX   5 day -5.259161 -0.926504  0.135565  1.194919  4.628697\n",
       "3    DAX   6 day -6.282629 -1.055648  0.178666  1.426987  5.367396\n",
       "4    DAX   7 day -6.735742 -1.094754  0.300695  1.518241  6.259934"
      ]
     },
     "execution_count": 13,
     "metadata": {},
     "output_type": "execute_result"
    }
   ],
   "source": [
    "df_sub = pd.DataFrame({\n",
    "    \"target\": \"DAX\",\n",
    "    \"horizon\": [str(i) + \" day\" for i in (1,2,5,6,7)],\n",
    "    \"q0.025\": pred_baseline[:,0],\n",
    "    \"q0.25\": pred_baseline[:,1],\n",
    "    \"q0.5\": pred_baseline[:,2],\n",
    "    \"q0.75\": pred_baseline[:,3],\n",
    "    \"q0.975\": pred_baseline[:,4]})\n",
    "df_sub"
   ]
  },
  {
   "cell_type": "code",
   "execution_count": 14,
   "id": "0ee8c6fe-43c9-4a71-b8f0-300a382f59c6",
   "metadata": {},
   "outputs": [],
   "source": [
    "from datetime import datetime\n",
    "date_str = datetime.today().strftime('%Y%m%d')"
   ]
  },
  {
   "cell_type": "code",
   "execution_count": 16,
   "id": "09b49896-ebb0-4649-9443-f794e824388d",
   "metadata": {},
   "outputs": [],
   "source": [
    "#need to change this\n",
    "PATH = \"./\"\n",
    "\n",
    "df_sub.to_csv(PATH+\"/\"+date_str+\"DAX_benchmark.csv\")"
   ]
  },
  {
   "cell_type": "code",
   "execution_count": null,
   "id": "dfe4ef7a-289d-4d45-99a3-c693e4f26654",
   "metadata": {},
   "outputs": [],
   "source": []
  }
 ],
 "metadata": {
  "kernelspec": {
   "display_name": "Python 3 (ipykernel)",
   "language": "python",
   "name": "python3"
  },
  "language_info": {
   "codemirror_mode": {
    "name": "ipython",
    "version": 3
   },
   "file_extension": ".py",
   "mimetype": "text/x-python",
   "name": "python",
   "nbconvert_exporter": "python",
   "pygments_lexer": "ipython3",
   "version": "3.10.13"
  }
 },
 "nbformat": 4,
 "nbformat_minor": 5
}
