{
 "cells": [
  {
   "cell_type": "code",
   "execution_count": 74,
   "id": "6bfd3ae6-0e5e-4f78-9e9f-e2cc688bdee2",
   "metadata": {
    "ExecuteTime": {
     "end_time": "2023-11-15T22:14:26.162839Z",
     "start_time": "2023-11-15T22:14:26.078115Z"
    }
   },
   "outputs": [],
   "source": [
    "import pandas as pd\n",
    "import numpy as np\n",
    "import matplotlib.pyplot as plt\n",
    "import seaborn as sns"
   ]
  },
  {
   "cell_type": "code",
   "execution_count": 75,
   "id": "dff0f0d8-9316-4510-8e60-b12a0e9ac253",
   "metadata": {
    "ExecuteTime": {
     "end_time": "2023-11-15T22:14:26.222930Z",
     "start_time": "2023-11-15T22:14:26.082385Z"
    }
   },
   "outputs": [],
   "source": [
    "import requests\n",
    "from tqdm import tqdm\n",
    "\n",
    "from datetime import datetime\n"
   ]
  },
  {
   "cell_type": "code",
   "execution_count": 76,
   "id": "6dd68c07-25ac-404f-8cb5-dd7884d9acd5",
   "metadata": {
    "ExecuteTime": {
     "end_time": "2023-11-15T22:14:26.223270Z",
     "start_time": "2023-11-15T22:14:26.089587Z"
    }
   },
   "outputs": [],
   "source": [
    "def get_energy_data():\n",
    "\n",
    "    # get all available time stamps\n",
    "    stampsurl = \"https://www.smard.de/app/chart_data/410/DE/index_quarterhour.json\"\n",
    "    response = requests.get(stampsurl)\n",
    "    #ignore first 4 years (don't need those in the baseline and speeds the code up a bit)\n",
    "    timestamps = list(response.json()[\"timestamps\"])[4*52:]\n",
    "\n",
    " \n",
    "    col_names = ['date_time','Netzlast_Gesamt']\n",
    "    energydata = pd.DataFrame(columns=col_names)\n",
    "    \n",
    "    # loop over all available timestamps\n",
    "    for stamp in tqdm(timestamps):\n",
    "\n",
    "        dataurl = \"https://www.smard.de/app/chart_data/410/DE/410_DE_quarterhour_\" + str(stamp) + \".json\"\n",
    "        response = requests.get(dataurl)\n",
    "        rawdata = response.json()[\"series\"]\n",
    "\n",
    "        for i in range(len(rawdata)):\n",
    "\n",
    "            rawdata[i][0] = datetime.fromtimestamp(int(str(rawdata[i][0])[:10])).strftime(\"%Y-%m-%d %H:%M:%S\")\n",
    "\n",
    "        energydata = pd.concat([energydata, pd.DataFrame(rawdata, columns=col_names)])\n",
    "\n",
    "    energydata = energydata.dropna()\n",
    "    energydata[\"date_time\"] = pd.to_datetime(energydata.date_time)\n",
    "    #set date_time as index\n",
    "    energydata.set_index(\"date_time\", inplace=True)\n",
    "    #resample\n",
    "    energydata = energydata.resample(\"1h\", label = \"left\").sum()\n",
    "\n",
    "    return energydata"
   ]
  },
  {
   "cell_type": "code",
   "execution_count": 77,
   "id": "8f77a2e8-851a-4969-8b54-a1d525137e79",
   "metadata": {
    "ExecuteTime": {
     "end_time": "2023-11-15T22:14:54.376068Z",
     "start_time": "2023-11-15T22:14:26.093710Z"
    }
   },
   "outputs": [
    {
     "name": "stderr",
     "output_type": "stream",
     "text": [
      "  0%|          | 0/256 [00:00<?, ?it/s]/var/folders/y3/h1kjcg6j0wj3crmk4m1ff0380000gn/T/ipykernel_89158/2942256061.py:24: FutureWarning: The behavior of DataFrame concatenation with empty or all-NA entries is deprecated. In a future version, this will no longer exclude empty or all-NA columns when determining the result dtypes. To retain the old behavior, exclude the relevant entries before the concat operation.\n",
      "  energydata = pd.concat([energydata, pd.DataFrame(rawdata, columns=col_names)])\n",
      "100%|██████████| 256/256 [00:28<00:00,  9.12it/s]\n"
     ]
    }
   ],
   "source": [
    "df = get_energy_data()"
   ]
  },
  {
   "cell_type": "code",
   "execution_count": 78,
   "id": "6da4b0b2-5c5d-47a3-be0e-03115f29f19d",
   "metadata": {
    "ExecuteTime": {
     "end_time": "2023-11-15T22:14:54.384447Z",
     "start_time": "2023-11-15T22:14:54.380346Z"
    }
   },
   "outputs": [
    {
     "data": {
      "text/plain": "                     Netzlast_Gesamt\ndate_time                           \n2018-12-24 00:00:00         42029.25\n2018-12-24 01:00:00         39610.25\n2018-12-24 02:00:00         39138.75\n2018-12-24 03:00:00         39421.00\n2018-12-24 04:00:00         40747.75",
      "text/html": "<div>\n<style scoped>\n    .dataframe tbody tr th:only-of-type {\n        vertical-align: middle;\n    }\n\n    .dataframe tbody tr th {\n        vertical-align: top;\n    }\n\n    .dataframe thead th {\n        text-align: right;\n    }\n</style>\n<table border=\"1\" class=\"dataframe\">\n  <thead>\n    <tr style=\"text-align: right;\">\n      <th></th>\n      <th>Netzlast_Gesamt</th>\n    </tr>\n    <tr>\n      <th>date_time</th>\n      <th></th>\n    </tr>\n  </thead>\n  <tbody>\n    <tr>\n      <th>2018-12-24 00:00:00</th>\n      <td>42029.25</td>\n    </tr>\n    <tr>\n      <th>2018-12-24 01:00:00</th>\n      <td>39610.25</td>\n    </tr>\n    <tr>\n      <th>2018-12-24 02:00:00</th>\n      <td>39138.75</td>\n    </tr>\n    <tr>\n      <th>2018-12-24 03:00:00</th>\n      <td>39421.00</td>\n    </tr>\n    <tr>\n      <th>2018-12-24 04:00:00</th>\n      <td>40747.75</td>\n    </tr>\n  </tbody>\n</table>\n</div>"
     },
     "execution_count": 78,
     "metadata": {},
     "output_type": "execute_result"
    }
   ],
   "source": [
    "df.head()"
   ]
  },
  {
   "cell_type": "markdown",
   "id": "2d12b8fc-a35a-411f-b87a-72f764275690",
   "metadata": {},
   "source": [
    "Rename column for convenience"
   ]
  },
  {
   "cell_type": "code",
   "execution_count": 79,
   "id": "da3ff9bc-063a-42ae-895c-1a91a2fcde28",
   "metadata": {
    "ExecuteTime": {
     "end_time": "2023-11-15T22:14:54.390705Z",
     "start_time": "2023-11-15T22:14:54.384182Z"
    }
   },
   "outputs": [],
   "source": [
    "df = df.rename(columns={\"Netzlast_Gesamt\": \"gesamt\"})"
   ]
  },
  {
   "cell_type": "markdown",
   "id": "6f06f031-1a45-4b03-862f-9cbdae802220",
   "metadata": {},
   "source": [
    "Rescale Netzlast so it fits requirements"
   ]
  },
  {
   "cell_type": "code",
   "execution_count": 80,
   "id": "728f7dd1-9556-4974-a8bc-51e701372ad0",
   "metadata": {
    "ExecuteTime": {
     "end_time": "2023-11-15T22:14:54.392272Z",
     "start_time": "2023-11-15T22:14:54.389243Z"
    }
   },
   "outputs": [],
   "source": [
    "df['gesamt'] = df['gesamt'] / 1000"
   ]
  },
  {
   "cell_type": "markdown",
   "id": "0f31220b-b84d-44b1-8201-29473e1c83ac",
   "metadata": {},
   "source": [
    "Check dtypes and if columns contain and missing values"
   ]
  },
  {
   "cell_type": "code",
   "execution_count": 81,
   "id": "1d362a66-6898-454f-a540-3f5773d85974",
   "metadata": {
    "ExecuteTime": {
     "end_time": "2023-11-15T22:14:54.418759Z",
     "start_time": "2023-11-15T22:14:54.393130Z"
    }
   },
   "outputs": [
    {
     "data": {
      "text/plain": "gesamt    float64\ndtype: object"
     },
     "execution_count": 81,
     "metadata": {},
     "output_type": "execute_result"
    }
   ],
   "source": [
    "df.dtypes"
   ]
  },
  {
   "cell_type": "code",
   "execution_count": 82,
   "id": "c293fdd7-b8b5-45ec-9319-c514bc25fce4",
   "metadata": {
    "ExecuteTime": {
     "end_time": "2023-11-15T22:14:54.419308Z",
     "start_time": "2023-11-15T22:14:54.396490Z"
    }
   },
   "outputs": [
    {
     "data": {
      "text/plain": "gesamt    False\ndtype: bool"
     },
     "execution_count": 82,
     "metadata": {},
     "output_type": "execute_result"
    }
   ],
   "source": [
    "df.isna().any()"
   ]
  },
  {
   "cell_type": "markdown",
   "id": "791b084f-f7ec-4a4a-9947-f292dfcddf4c",
   "metadata": {},
   "source": [
    "Define weekday column"
   ]
  },
  {
   "cell_type": "code",
   "execution_count": 83,
   "id": "a8b96cb2-ec82-433d-9c54-040d0499ca57",
   "metadata": {
    "ExecuteTime": {
     "end_time": "2023-11-15T22:14:54.460149Z",
     "start_time": "2023-11-15T22:14:54.402539Z"
    }
   },
   "outputs": [],
   "source": [
    "df[\"weekday\"] = df.index.weekday #Monday=0, Sunday=6\n",
    "#df[\"time\"] = df.index.strftime(\"%H:%M\")"
   ]
  },
  {
   "cell_type": "markdown",
   "id": "e2cf1b27-c033-48a9-8758-ca05bfe91ed8",
   "metadata": {},
   "source": [
    "Lead times are"
   ]
  },
  {
   "cell_type": "code",
   "execution_count": 84,
   "id": "ffc6169f-d45e-42b1-a0c0-a6e30c8cbec6",
   "metadata": {
    "ExecuteTime": {
     "end_time": "2023-11-15T22:14:54.489298Z",
     "start_time": "2023-11-15T22:14:54.407698Z"
    }
   },
   "outputs": [
    {
     "data": {
      "text/plain": "[36, 40, 44, 60, 64, 68]"
     },
     "execution_count": 84,
     "metadata": {},
     "output_type": "execute_result"
    }
   ],
   "source": [
    "horizons_def = [36, 40, 44, 60, 64, 68]#[24 + 12*i for i in range(5)]\n",
    "horizons_def"
   ]
  },
  {
   "cell_type": "markdown",
   "id": "f1cf8917-68b4-4a03-b196-83915cabcb64",
   "metadata": {},
   "source": [
    "Adapt horzions so they actually fit"
   ]
  },
  {
   "cell_type": "code",
   "execution_count": 85,
   "id": "ee0221c6-eb42-43de-8ec0-4aa2fd1519bc",
   "metadata": {
    "ExecuteTime": {
     "end_time": "2023-11-15T22:14:54.489571Z",
     "start_time": "2023-11-15T22:14:54.411177Z"
    }
   },
   "outputs": [
    {
     "data": {
      "text/plain": "[37, 41, 45, 61, 65, 69]"
     },
     "execution_count": 85,
     "metadata": {},
     "output_type": "execute_result"
    }
   ],
   "source": [
    "horizons = [h+1 for h in horizons_def]\n",
    "horizons"
   ]
  },
  {
   "cell_type": "code",
   "execution_count": 86,
   "id": "8a4b5b1f-f4a7-45fd-973d-a691a601b2cb",
   "metadata": {
    "ExecuteTime": {
     "end_time": "2023-11-15T22:14:54.489634Z",
     "start_time": "2023-11-15T22:14:54.414427Z"
    }
   },
   "outputs": [],
   "source": [
    "def get_date_from_horizon(last_ts, horizon):\n",
    "    return last_ts + pd.DateOffset(hours=horizon)"
   ]
  },
  {
   "cell_type": "code",
   "execution_count": 87,
   "id": "564d7433-a811-40e5-a9ea-2e837b2b2a02",
   "metadata": {
    "ExecuteTime": {
     "end_time": "2023-11-15T22:14:54.493423Z",
     "start_time": "2023-11-15T22:14:54.421187Z"
    }
   },
   "outputs": [
    {
     "data": {
      "text/plain": "Timestamp('2023-11-15 22:00:00')"
     },
     "execution_count": 87,
     "metadata": {},
     "output_type": "execute_result"
    }
   ],
   "source": [
    "LAST_IDX = -1\n",
    "LAST_DATE = df.iloc[LAST_IDX].name\n",
    "LAST_DATE"
   ]
  },
  {
   "cell_type": "markdown",
   "id": "51214044-60af-4d25-a508-03c0a16787bc",
   "metadata": {},
   "source": [
    "Get time and date that correspond to the lead times (starting at the last observation in our data which should be the respective thursday 0:00)  \n",
    "*Attention*: if the last timestamp in the data is not thursday 0:00, you have to adjust your lead times accordingly"
   ]
  },
  {
   "cell_type": "code",
   "execution_count": 88,
   "id": "4e0da017-d3b4-4cde-b373-63213b42ebc0",
   "metadata": {
    "ExecuteTime": {
     "end_time": "2023-11-15T22:14:54.493784Z",
     "start_time": "2023-11-15T22:14:54.424976Z"
    }
   },
   "outputs": [
    {
     "data": {
      "text/plain": "[Timestamp('2023-11-17 11:00:00'),\n Timestamp('2023-11-17 15:00:00'),\n Timestamp('2023-11-17 19:00:00'),\n Timestamp('2023-11-18 11:00:00'),\n Timestamp('2023-11-18 15:00:00'),\n Timestamp('2023-11-18 19:00:00')]"
     },
     "execution_count": 88,
     "metadata": {},
     "output_type": "execute_result"
    }
   ],
   "source": [
    "horizon_date = [get_date_from_horizon(LAST_DATE, h) for h in horizons]\n",
    "horizon_date"
   ]
  },
  {
   "cell_type": "markdown",
   "id": "1dcf62b9-a0ba-4582-9f83-ee24aadb0223",
   "metadata": {},
   "source": [
    "quantile levels"
   ]
  },
  {
   "cell_type": "code",
   "execution_count": 89,
   "id": "bf3ae619-5bdc-4c66-8137-4daa880ce9c7",
   "metadata": {
    "ExecuteTime": {
     "end_time": "2023-11-15T22:14:54.519920Z",
     "start_time": "2023-11-15T22:14:54.428400Z"
    }
   },
   "outputs": [],
   "source": [
    "tau = [.025, .25, .5, .75, .975]"
   ]
  },
  {
   "cell_type": "code",
   "execution_count": 90,
   "id": "8e5ef128-ba07-497d-ab2b-1c7599e86bd0",
   "metadata": {
    "ExecuteTime": {
     "end_time": "2023-11-15T22:14:54.520567Z",
     "start_time": "2023-11-15T22:14:54.431172Z"
    }
   },
   "outputs": [],
   "source": [
    "#rows correspond to horizon, columns to quantile level\n",
    "pred_baseline = np.zeros((6,5))"
   ]
  },
  {
   "cell_type": "code",
   "execution_count": 91,
   "outputs": [],
   "source": [
    "#seasonal regression\n",
    "# Create dummy variables for months and hours\n",
    "df['month'] = df.index.month\n",
    "df['hour'] = df.index.hour\n",
    "\n",
    "# Get dummies for months and hours, excluding the first month and hour to avoid multicollinearity\n",
    "month_dummies = pd.get_dummies(df['month'], prefix='month', drop_first=True)\n",
    "hour_dummies = pd.get_dummies(df['hour'], prefix='hour', drop_first=True)\n",
    "\n",
    "# Join the dummies with the original DataFrame\n",
    "df = df.join(month_dummies).join(hour_dummies)\n"
   ],
   "metadata": {
    "collapsed": false,
    "ExecuteTime": {
     "end_time": "2023-11-15T22:14:54.596383Z",
     "start_time": "2023-11-15T22:14:54.435750Z"
    }
   },
   "id": "5d01da2b5cf92c34"
  },
  {
   "cell_type": "code",
   "execution_count": 93,
   "id": "6033e162-aecf-4e8c-a143-28446cffab0f",
   "metadata": {
    "ExecuteTime": {
     "end_time": "2023-11-15T22:15:11.863613Z",
     "start_time": "2023-11-15T22:15:11.789611Z"
    }
   },
   "outputs": [],
   "source": [
    "#baseline\n",
    "last_t = 100\n",
    "\n",
    "for i,d in enumerate(horizon_date):\n",
    "    \n",
    "    weekday = d.weekday()\n",
    "    hour = d.hour\n",
    "    \n",
    "    df_tmp = df.iloc[:LAST_IDX]\n",
    "    \n",
    "    cond = (df_tmp.weekday == weekday) & (df_tmp.index.time == d.time())\n",
    "    \n",
    "    pred_baseline[i,:] = np.quantile(df_tmp[cond].iloc[-last_t:][\"gesamt\"], q=tau)"
   ]
  },
  {
   "cell_type": "code",
   "execution_count": 94,
   "id": "19935ed4-040c-4169-a28c-437a2effeede",
   "metadata": {
    "ExecuteTime": {
     "end_time": "2023-11-15T22:15:12.422814Z",
     "start_time": "2023-11-15T22:15:12.415451Z"
    }
   },
   "outputs": [
    {
     "data": {
      "text/plain": "array([[53.63964375, 61.140375  , 64.2255    , 67.6838125 , 75.8170625 ],\n       [50.97789375, 56.5423125 , 59.3595    , 62.9779375 , 70.57074375],\n       [51.00661875, 54.904125  , 59.177125  , 63.7310625 , 71.5553875 ],\n       [47.84225625, 51.7291875 , 54.42825   , 57.602875  , 64.05821875],\n       [44.25519375, 47.6435    , 49.9185    , 53.1553125 , 60.6060375 ],\n       [44.56158125, 47.8583125 , 51.4305    , 56.440125  , 63.6415375 ]])"
     },
     "execution_count": 94,
     "metadata": {},
     "output_type": "execute_result"
    }
   ],
   "source": [
    "pred_baseline"
   ]
  },
  {
   "cell_type": "markdown",
   "id": "420cfb8d-f64b-46b1-88e3-8d5159eb88bc",
   "metadata": {},
   "source": [
    "Visually check if quantiles make sense"
   ]
  },
  {
   "cell_type": "code",
   "execution_count": 95,
   "id": "daf9b394-79d2-48dd-914b-8fc9a9f1a5a1",
   "metadata": {
    "ExecuteTime": {
     "end_time": "2023-11-15T22:15:13.996532Z",
     "start_time": "2023-11-15T22:15:13.720977Z"
    }
   },
   "outputs": [
    {
     "data": {
      "text/plain": "<Figure size 640x480 with 1 Axes>",
      "image/png": "[encoded data removed]"
     },
     "metadata": {},
     "output_type": "display_data"
    }
   ],
   "source": [
    "x = horizons\n",
    "_ = plt.plot(x,pred_baseline, ls=\"\", marker=\"o\", c=\"black\")\n",
    "_ = plt.xticks(x, x)\n",
    "_ = plt.plot((x,x),(pred_baseline[:,0], pred_baseline[:,-1]),c='black')"
   ]
  },
  {
   "cell_type": "code",
   "execution_count": 96,
   "id": "0ee8c6fe-43c9-4a71-b8f0-300a382f59c6",
   "metadata": {
    "ExecuteTime": {
     "end_time": "2023-11-15T22:15:14.148496Z",
     "start_time": "2023-11-15T22:15:14.143999Z"
    }
   },
   "outputs": [],
   "source": [
    "from datetime import datetime, date, timedelta\n",
    "date_str = datetime.today().strftime('%Y%m%d')"
   ]
  },
  {
   "cell_type": "code",
   "execution_count": 97,
   "id": "6024fd0b-f3d5-40f4-81cd-5d2d6f5d4237",
   "metadata": {
    "ExecuteTime": {
     "end_time": "2023-11-15T22:15:14.990346Z",
     "start_time": "2023-11-15T22:15:14.983126Z"
    }
   },
   "outputs": [
    {
     "data": {
      "text/plain": "datetime.date(2023, 11, 15)"
     },
     "execution_count": 97,
     "metadata": {},
     "output_type": "execute_result"
    }
   ],
   "source": [
    "date_str = date.today() #- timedelta(days=1)\n",
    "date_str = date_str\n",
    "date_str"
   ]
  },
  {
   "cell_type": "code",
   "execution_count": 98,
   "id": "ff1ff112-6973-4e8c-be11-5705434c3416",
   "metadata": {
    "ExecuteTime": {
     "end_time": "2023-11-15T22:15:15.773785Z",
     "start_time": "2023-11-15T22:15:15.768621Z"
    }
   },
   "outputs": [
    {
     "data": {
      "text/plain": "  forecast_date  target  horizon     q0.025      q0.25       q0.5      q0.75  \\\n0    2023-11-15  energy  36 hour  53.639644  61.140375  64.225500  67.683813   \n1    2023-11-15  energy  40 hour  50.977894  56.542313  59.359500  62.977937   \n2    2023-11-15  energy  44 hour  51.006619  54.904125  59.177125  63.731063   \n3    2023-11-15  energy  60 hour  47.842256  51.729188  54.428250  57.602875   \n4    2023-11-15  energy  64 hour  44.255194  47.643500  49.918500  53.155312   \n5    2023-11-15  energy  68 hour  44.561581  47.858313  51.430500  56.440125   \n\n      q0.975  \n0  75.817062  \n1  70.570744  \n2  71.555387  \n3  64.058219  \n4  60.606037  \n5  63.641537  ",
      "text/html": "<div>\n<style scoped>\n    .dataframe tbody tr th:only-of-type {\n        vertical-align: middle;\n    }\n\n    .dataframe tbody tr th {\n        vertical-align: top;\n    }\n\n    .dataframe thead th {\n        text-align: right;\n    }\n</style>\n<table border=\"1\" class=\"dataframe\">\n  <thead>\n    <tr style=\"text-align: right;\">\n      <th></th>\n      <th>forecast_date</th>\n      <th>target</th>\n      <th>horizon</th>\n      <th>q0.025</th>\n      <th>q0.25</th>\n      <th>q0.5</th>\n      <th>q0.75</th>\n      <th>q0.975</th>\n    </tr>\n  </thead>\n  <tbody>\n    <tr>\n      <th>0</th>\n      <td>2023-11-15</td>\n      <td>energy</td>\n      <td>36 hour</td>\n      <td>53.639644</td>\n      <td>61.140375</td>\n      <td>64.225500</td>\n      <td>67.683813</td>\n      <td>75.817062</td>\n    </tr>\n    <tr>\n      <th>1</th>\n      <td>2023-11-15</td>\n      <td>energy</td>\n      <td>40 hour</td>\n      <td>50.977894</td>\n      <td>56.542313</td>\n      <td>59.359500</td>\n      <td>62.977937</td>\n      <td>70.570744</td>\n    </tr>\n    <tr>\n      <th>2</th>\n      <td>2023-11-15</td>\n      <td>energy</td>\n      <td>44 hour</td>\n      <td>51.006619</td>\n      <td>54.904125</td>\n      <td>59.177125</td>\n      <td>63.731063</td>\n      <td>71.555387</td>\n    </tr>\n    <tr>\n      <th>3</th>\n      <td>2023-11-15</td>\n      <td>energy</td>\n      <td>60 hour</td>\n      <td>47.842256</td>\n      <td>51.729188</td>\n      <td>54.428250</td>\n      <td>57.602875</td>\n      <td>64.058219</td>\n    </tr>\n    <tr>\n      <th>4</th>\n      <td>2023-11-15</td>\n      <td>energy</td>\n      <td>64 hour</td>\n      <td>44.255194</td>\n      <td>47.643500</td>\n      <td>49.918500</td>\n      <td>53.155312</td>\n      <td>60.606037</td>\n    </tr>\n    <tr>\n      <th>5</th>\n      <td>2023-11-15</td>\n      <td>energy</td>\n      <td>68 hour</td>\n      <td>44.561581</td>\n      <td>47.858313</td>\n      <td>51.430500</td>\n      <td>56.440125</td>\n      <td>63.641537</td>\n    </tr>\n  </tbody>\n</table>\n</div>"
     },
     "execution_count": 98,
     "metadata": {},
     "output_type": "execute_result"
    }
   ],
   "source": [
    "df_sub = pd.DataFrame({\n",
    "    \"forecast_date\": date_str,\n",
    "    \"target\": \"energy\",\n",
    "    \"horizon\": [str(h) + \" hour\" for h in horizons_def],\n",
    "    \"q0.025\": pred_baseline[:,0],\n",
    "    \"q0.25\": pred_baseline[:,1],\n",
    "    \"q0.5\": pred_baseline[:,2],\n",
    "    \"q0.75\": pred_baseline[:,3],\n",
    "    \"q0.975\": pred_baseline[:,4]})\n",
    "df_sub"
   ]
  },
  {
   "cell_type": "code",
   "execution_count": 99,
   "id": "94f92f2c-859a-4094-8bb4-3249c4de4f2b",
   "metadata": {
    "ExecuteTime": {
     "end_time": "2023-11-15T22:15:16.849617Z",
     "start_time": "2023-11-15T22:15:16.836864Z"
    }
   },
   "outputs": [],
   "source": [
    "#need to change this\n",
    "\n",
    "PATH = \"../forecasts/\"\n",
    "date_str = date_str.strftime('%Y%m%d')\n",
    "\n",
    "df_sub.to_csv(PATH+date_str+\"_power_benchmark.csv\", index=False)"
   ]
  },
  {
   "cell_type": "code",
   "execution_count": null,
   "outputs": [],
   "source": [],
   "metadata": {
    "collapsed": false,
    "ExecuteTime": {
     "start_time": "2023-11-15T22:14:54.590814Z"
    }
   },
   "id": "d6d67aff21e3cc60"
  }
 ],
 "metadata": {
  "kernelspec": {
   "display_name": "Python 3 (ipykernel)",
   "language": "python",
   "name": "python3"
  },
  "language_info": {
   "codemirror_mode": {
    "name": "ipython",
    "version": 3
   },
   "file_extension": ".py",
   "mimetype": "text/x-python",
   "name": "python",
   "nbconvert_exporter": "python",
   "pygments_lexer": "ipython3",
   "version": "3.7.13"
  }
 },
 "nbformat": 4,
 "nbformat_minor": 5
}
