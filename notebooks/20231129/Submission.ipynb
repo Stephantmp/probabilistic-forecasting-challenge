{
 "cells": [
  {
   "cell_type": "code",
   "execution_count": 1,
   "id": "initial_id",
   "metadata": {
    "collapsed": true,
    "ExecuteTime": {
     "end_time": "2023-11-27T21:45:09.912849Z",
     "start_time": "2023-11-27T21:45:09.783263Z"
    }
   },
   "outputs": [],
   "source": [
    "from models.DAX import DAX_quantile_regression, DAX_baseline\n",
    "from models.energy import energy_quantile_regression\n",
    "from functions import get_energy,get_DAX,merge_submissions,check_submission\n",
    "from functions.prepare_data import split_time\n",
    "from functions.evaluation import evaluate_horizon\n",
    "from tqdm import tqdm\n",
    "from functions import evaluate_dax"
   ]
  },
  {
   "cell_type": "code",
   "execution_count": 2,
   "outputs": [],
   "source": [
    "from functions import naive_ensemble"
   ],
   "metadata": {
    "collapsed": false,
    "ExecuteTime": {
     "end_time": "2023-11-27T21:45:24.319919Z",
     "start_time": "2023-11-27T21:45:24.305151Z"
    }
   },
   "id": "2ce850d6890c7f7e"
  },
  {
   "cell_type": "code",
   "execution_count": 3,
   "outputs": [],
   "source": [
    "daxdata = get_DAX.get()"
   ],
   "metadata": {
    "collapsed": false,
    "ExecuteTime": {
     "end_time": "2023-11-27T21:45:41.092075Z",
     "start_time": "2023-11-27T21:45:40.631828Z"
    }
   },
   "id": "f9e3cc3455a4dedb"
  },
  {
   "cell_type": "code",
   "execution_count": 4,
   "outputs": [],
   "source": [
    "base = DAX_baseline.DAX_baseline(daxdata)"
   ],
   "metadata": {
    "collapsed": false,
    "ExecuteTime": {
     "end_time": "2023-11-27T21:45:58.084709Z",
     "start_time": "2023-11-27T21:45:58.067958Z"
    }
   },
   "id": "ec5c75e7ea26f528"
  },
  {
   "cell_type": "code",
   "execution_count": 5,
   "outputs": [],
   "source": [
    "quantile = DAX_quantile_regression.DAX_quantile_regression(daxdata)"
   ],
   "metadata": {
    "collapsed": false,
    "ExecuteTime": {
     "end_time": "2023-11-27T21:46:12.450759Z",
     "start_time": "2023-11-27T21:46:09.158627Z"
    }
   },
   "id": "f850f96936fc0107"
  },
  {
   "cell_type": "code",
   "execution_count": 7,
   "outputs": [
    {
     "data": {
      "text/plain": "     q0.025     q0.25      q0.5     q0.75    q0.975 forecast_date target  \\\n0 -2.815561 -0.530334  0.048978  0.622808  2.244557    2023-11-27    DAX   \n1 -3.104939 -0.545643  0.230696  0.941829  3.009623    2023-11-27    DAX   \n2 -3.556624 -0.434429  0.458940  1.242344  3.669568    2023-11-27    DAX   \n3 -3.805432 -0.212801  0.780258  1.676015  4.366634    2023-11-27    DAX   \n4 -4.010356 -0.270559  0.808544  1.694942  4.838923    2023-11-27    DAX   \n\n  horizon  \n0   1 day  \n1   2 day  \n2   5 day  \n3   6 day  \n4   7 day  ",
      "text/html": "<div>\n<style scoped>\n    .dataframe tbody tr th:only-of-type {\n        vertical-align: middle;\n    }\n\n    .dataframe tbody tr th {\n        vertical-align: top;\n    }\n\n    .dataframe thead th {\n        text-align: right;\n    }\n</style>\n<table border=\"1\" class=\"dataframe\">\n  <thead>\n    <tr style=\"text-align: right;\">\n      <th></th>\n      <th>q0.025</th>\n      <th>q0.25</th>\n      <th>q0.5</th>\n      <th>q0.75</th>\n      <th>q0.975</th>\n      <th>forecast_date</th>\n      <th>target</th>\n      <th>horizon</th>\n    </tr>\n  </thead>\n  <tbody>\n    <tr>\n      <th>0</th>\n      <td>-2.815561</td>\n      <td>-0.530334</td>\n      <td>0.048978</td>\n      <td>0.622808</td>\n      <td>2.244557</td>\n      <td>2023-11-27</td>\n      <td>DAX</td>\n      <td>1 day</td>\n    </tr>\n    <tr>\n      <th>1</th>\n      <td>-3.104939</td>\n      <td>-0.545643</td>\n      <td>0.230696</td>\n      <td>0.941829</td>\n      <td>3.009623</td>\n      <td>2023-11-27</td>\n      <td>DAX</td>\n      <td>2 day</td>\n    </tr>\n    <tr>\n      <th>2</th>\n      <td>-3.556624</td>\n      <td>-0.434429</td>\n      <td>0.458940</td>\n      <td>1.242344</td>\n      <td>3.669568</td>\n      <td>2023-11-27</td>\n      <td>DAX</td>\n      <td>5 day</td>\n    </tr>\n    <tr>\n      <th>3</th>\n      <td>-3.805432</td>\n      <td>-0.212801</td>\n      <td>0.780258</td>\n      <td>1.676015</td>\n      <td>4.366634</td>\n      <td>2023-11-27</td>\n      <td>DAX</td>\n      <td>6 day</td>\n    </tr>\n    <tr>\n      <th>4</th>\n      <td>-4.010356</td>\n      <td>-0.270559</td>\n      <td>0.808544</td>\n      <td>1.694942</td>\n      <td>4.838923</td>\n      <td>2023-11-27</td>\n      <td>DAX</td>\n      <td>7 day</td>\n    </tr>\n  </tbody>\n</table>\n</div>"
     },
     "execution_count": 7,
     "metadata": {},
     "output_type": "execute_result"
    }
   ],
   "source": [
    "naive_ensemble.ensemble(base,quantile,0.5,0.5)"
   ],
   "metadata": {
    "collapsed": false,
    "ExecuteTime": {
     "end_time": "2023-11-27T21:46:57.772938Z",
     "start_time": "2023-11-27T21:46:57.746571Z"
    }
   },
   "id": "f65a5a521ad3258e"
  },
  {
   "cell_type": "code",
   "execution_count": null,
   "outputs": [],
   "source": [],
   "metadata": {
    "collapsed": false
   },
   "id": "6825a919679471df"
  }
 ],
 "metadata": {
  "kernelspec": {
   "display_name": "Python 3",
   "language": "python",
   "name": "python3"
  },
  "language_info": {
   "codemirror_mode": {
    "name": "ipython",
    "version": 2
   },
   "file_extension": ".py",
   "mimetype": "text/x-python",
   "name": "python",
   "nbconvert_exporter": "python",
   "pygments_lexer": "ipython2",
   "version": "2.7.6"
  }
 },
 "nbformat": 4,
 "nbformat_minor": 5
}
