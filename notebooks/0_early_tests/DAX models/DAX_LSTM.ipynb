{
 "cells": [
  {
   "cell_type": "code",
   "execution_count": 2,
   "outputs": [],
   "source": [
    "import pandas as pd\n",
    "import numpy as np\n",
    "from sklearn.model_selection import train_test_split\n",
    "from sklearn.preprocessing import StandardScaler\n",
    "from keras.models import Sequential\n",
    "from keras.layers import LSTM, Dense\n",
    "from functions import get_DAX\n",
    "import tensorflow as tf"
   ],
   "metadata": {
    "collapsed": false,
    "ExecuteTime": {
     "end_time": "2024-03-24T18:24:40.028169Z",
     "start_time": "2024-03-24T18:24:19.537083Z"
    }
   },
   "id": "8ee84724acb41cd6"
  },
  {
   "cell_type": "code",
   "execution_count": 3,
   "outputs": [],
   "source": [
    "df = get_DAX.get()"
   ],
   "metadata": {
    "collapsed": false,
    "ExecuteTime": {
     "end_time": "2024-03-24T18:25:02.742586Z",
     "start_time": "2024-03-24T18:24:42.427949Z"
    }
   },
   "id": "4fd0386c190eed6"
  },
  {
   "cell_type": "code",
   "execution_count": 59,
   "outputs": [],
   "source": [
    "from keras.models import Model\n",
    "from keras.layers import LSTM, Dense, Input, RepeatVector, TimeDistributed\n",
    "from keras.optimizers import Adam\n",
    "from sklearn.preprocessing import StandardScaler\n",
    "import numpy as np\n",
    "import pandas as pd\n",
    "from datetime import datetime, timedelta\n",
    "from functions import reorder_quantiles\n",
    "\n",
    "def dax_LSTM(input_data, date_str='2022-03-18'):\n",
    "    df = pd.DataFrame(input_data)\n",
    "    \n",
    "    # Ensure the DataFrame index is of datetime type and normalize to remove the time part (if needed)\n",
    "    df.index = pd.to_datetime(df.index).normalize()\n",
    "    \n",
    "    # Convert date_str to datetime, taking into account the timezone\n",
    "    target_date = pd.to_datetime(date_str).tz_localize('Europe/Berlin').normalize()  # Adjust the timezone as per your data\n",
    "    \n",
    "    # Validate if target_date is in the DataFrame index\n",
    "    if target_date not in df.index:\n",
    "        raise ValueError(f\"date_str {date_str} not found in dataset index\")\n",
    "    \n",
    "    # Assuming these columns are what we're using to predict\n",
    "    feature_columns = ['Open', 'High', 'Low', 'Close', 'Volume', 'Dividends', 'Stock Splits', 'lag_ret1', 'lag_ret2', 'lag_ret3', 'lag_ret4', 'lag_ret5']\n",
    "    features = df.loc[:target_date, feature_columns].values\n",
    "    scaler = StandardScaler()\n",
    "    features_scaled = scaler.fit_transform(features)\n",
    "    features_scaled = np.reshape(features_scaled, (features_scaled.shape[0], 1, features_scaled.shape[1]))\n",
    "    \n",
    "    # Locate the index for the prediction start date\n",
    "    prediction_start_index = df.index.get_loc(target_date)\n",
    "    \n",
    "    # Select the scaled features for the specified date_str for prediction\n",
    "    last_features = features_scaled[prediction_start_index].reshape(1, 1, -1)\n",
    "    # Targets for quantile regression would ideally be structured for direct prediction,\n",
    "    # but here we'll simulate as if the model is predicting 5 specific values for simplicity.\n",
    "    # Adjust this as necessary for real quantile prediction.\n",
    "    target_columns = ['future_ret1', 'future_ret2', 'future_ret3', 'future_ret4', 'future_ret5']\n",
    "    targets = df.loc[:target_date, target_columns]\n",
    "    scaler_y = StandardScaler()\n",
    "    targets_scaled = scaler_y.fit_transform(targets)\n",
    "    \n",
    "    # Model\n",
    "    input_seq = Input(shape=(features_scaled.shape[1], features_scaled.shape[2]))\n",
    "    encoder_out, state_h, state_c = LSTM(100, return_state=True)(input_seq)\n",
    "    encoder_states = [state_h, state_c]\n",
    "\n",
    "    decoder_lstm = LSTM(100, return_sequences=True)\n",
    "    decoder_out = decoder_lstm(RepeatVector(1)(encoder_out), initial_state=encoder_states)\n",
    "    decoder_dense = TimeDistributed(Dense(25))  # Adjusting for 5 quantiles * 5 future returns\n",
    "    decoder_outputs = decoder_dense(decoder_out)\n",
    "    model = Model(inputs=input_seq, outputs=decoder_outputs)\n",
    "    model.compile(optimizer='adam', loss='mse')\n",
    "    \n",
    "    # Training\n",
    "    history = model.fit(features_scaled, np.repeat(targets_scaled, 5, axis=1), epochs=10, batch_size=72, verbose=2, shuffle=False)\n",
    "    \n",
    "    # Predictions for the last available day\n",
    "    predictions_scaled = model.predict(last_features)\n",
    "    \n",
    "    # Since predictions_scaled is (1, 25), and we need it to match the original targets' shape for inverse_transform,\n",
    "    # Let's first reshape predictions to mimic 5 future returns for a single sample, ignoring the quantile dimension.\n",
    "    # This is a workaround and simplifies the interpretation of the predictions.\n",
    "    # A more accurate approach would involve handling each quantile's predictions separately.\n",
    "    \n",
    "    # Assuming the predictions_scaled array is shaped (1, 25), corresponding to 5 days and 5 quantiles each\n",
    "    predictions = predictions_scaled.reshape(5, 5)  # Reshape to (5 days, 5 quantiles)\n",
    "    \n",
    "    # Prepare the output DataFrame directly from predictions\n",
    "    forecast_date = pd.to_datetime(date_str).strftime('%Y-%m-%d')  # This is the reference forecast date\n",
    "    \n",
    "    # Horizons are based on forecast_date + 1 day, +2 days, etc.\n",
    "    horizons = [(pd.to_datetime(forecast_date) + pd.Timedelta(days=i)).strftime('%Y-%m-%d') for i in range(1, 6)]\n",
    "    \n",
    "    predictions_df = pd.DataFrame(predictions, columns=['q0.025', 'q0.25', 'q0.5', 'q0.75', 'q0.975'])\n",
    "    predictions_df.insert(0, 'horizon', ['1 day', '2 day', '3 day', '4 day', '5 day']) # Now horizon represents the actual forecast dates\n",
    "    predictions_df.insert(0, 'target', 'DAX')\n",
    "    \n",
    "    # Since forecast_date should be locked, it means all forecasts are made on this date\n",
    "    forecast_date_column = [forecast_date] * 5  # Repeat the forecast_date for all rows\n",
    "    predictions_df.insert(0, 'forecast_date', forecast_date_column)\n",
    "    predictions_df= reorder_quantiles.reorder_quantiles(predictions_df)\n",
    "    \n",
    "    return predictions_df\n"
   ],
   "metadata": {
    "collapsed": false,
    "ExecuteTime": {
     "end_time": "2024-03-24T19:34:25.530652Z",
     "start_time": "2024-03-24T19:34:25.521343Z"
    }
   },
   "id": "6eb9481df1a312fe"
  },
  {
   "cell_type": "code",
   "execution_count": 60,
   "outputs": [
    {
     "name": "stderr",
     "output_type": "stream",
     "text": [
      "2024-03-24 20:34:25.981467: I tensorflow/core/common_runtime/executor.cc:1197] [/device:CPU:0] (DEBUG INFO) Executor start aborting (this does not indicate an error and you can ignore this message): INVALID_ARGUMENT: You must feed a value for placeholder tensor 'gradients/split_2_grad/concat/split_2/split_dim' with dtype int32\n",
      "\t [[{{node gradients/split_2_grad/concat/split_2/split_dim}}]]\n",
      "2024-03-24 20:34:25.982579: I tensorflow/core/common_runtime/executor.cc:1197] [/device:CPU:0] (DEBUG INFO) Executor start aborting (this does not indicate an error and you can ignore this message): INVALID_ARGUMENT: You must feed a value for placeholder tensor 'gradients/split_grad/concat/split/split_dim' with dtype int32\n",
      "\t [[{{node gradients/split_grad/concat/split/split_dim}}]]\n",
      "2024-03-24 20:34:25.983297: I tensorflow/core/common_runtime/executor.cc:1197] [/device:CPU:0] (DEBUG INFO) Executor start aborting (this does not indicate an error and you can ignore this message): INVALID_ARGUMENT: You must feed a value for placeholder tensor 'gradients/split_1_grad/concat/split_1/split_dim' with dtype int32\n",
      "\t [[{{node gradients/split_1_grad/concat/split_1/split_dim}}]]\n"
     ]
    },
    {
     "name": "stdout",
     "output_type": "stream",
     "text": [
      "Epoch 1/10\n"
     ]
    },
    {
     "name": "stderr",
     "output_type": "stream",
     "text": [
      "2024-03-24 20:34:26.634002: I tensorflow/core/common_runtime/executor.cc:1197] [/device:CPU:0] (DEBUG INFO) Executor start aborting (this does not indicate an error and you can ignore this message): INVALID_ARGUMENT: You must feed a value for placeholder tensor 'gradients/split_2_grad/concat/split_2/split_dim' with dtype int32\n",
      "\t [[{{node gradients/split_2_grad/concat/split_2/split_dim}}]]\n",
      "2024-03-24 20:34:26.635033: I tensorflow/core/common_runtime/executor.cc:1197] [/device:CPU:0] (DEBUG INFO) Executor start aborting (this does not indicate an error and you can ignore this message): INVALID_ARGUMENT: You must feed a value for placeholder tensor 'gradients/split_grad/concat/split/split_dim' with dtype int32\n",
      "\t [[{{node gradients/split_grad/concat/split/split_dim}}]]\n",
      "2024-03-24 20:34:26.635806: I tensorflow/core/common_runtime/executor.cc:1197] [/device:CPU:0] (DEBUG INFO) Executor start aborting (this does not indicate an error and you can ignore this message): INVALID_ARGUMENT: You must feed a value for placeholder tensor 'gradients/split_1_grad/concat/split_1/split_dim' with dtype int32\n",
      "\t [[{{node gradients/split_1_grad/concat/split_1/split_dim}}]]\n",
      "2024-03-24 20:34:26.784987: I tensorflow/core/common_runtime/executor.cc:1197] [/device:CPU:0] (DEBUG INFO) Executor start aborting (this does not indicate an error and you can ignore this message): INVALID_ARGUMENT: You must feed a value for placeholder tensor 'gradients/split_2_grad/concat/split_2/split_dim' with dtype int32\n",
      "\t [[{{node gradients/split_2_grad/concat/split_2/split_dim}}]]\n",
      "2024-03-24 20:34:26.785768: I tensorflow/core/common_runtime/executor.cc:1197] [/device:CPU:0] (DEBUG INFO) Executor start aborting (this does not indicate an error and you can ignore this message): INVALID_ARGUMENT: You must feed a value for placeholder tensor 'gradients/split_grad/concat/split/split_dim' with dtype int32\n",
      "\t [[{{node gradients/split_grad/concat/split/split_dim}}]]\n",
      "2024-03-24 20:34:26.786400: I tensorflow/core/common_runtime/executor.cc:1197] [/device:CPU:0] (DEBUG INFO) Executor start aborting (this does not indicate an error and you can ignore this message): INVALID_ARGUMENT: You must feed a value for placeholder tensor 'gradients/split_1_grad/concat/split_1/split_dim' with dtype int32\n",
      "\t [[{{node gradients/split_1_grad/concat/split_1/split_dim}}]]\n",
      "2024-03-24 20:34:26.892326: I tensorflow/core/common_runtime/executor.cc:1197] [/device:CPU:0] (DEBUG INFO) Executor start aborting (this does not indicate an error and you can ignore this message): INVALID_ARGUMENT: You must feed a value for placeholder tensor 'gradients/split_2_grad/concat/split_2/split_dim' with dtype int32\n",
      "\t [[{{node gradients/split_2_grad/concat/split_2/split_dim}}]]\n",
      "2024-03-24 20:34:26.893260: I tensorflow/core/common_runtime/executor.cc:1197] [/device:CPU:0] (DEBUG INFO) Executor start aborting (this does not indicate an error and you can ignore this message): INVALID_ARGUMENT: You must feed a value for placeholder tensor 'gradients/split_grad/concat/split/split_dim' with dtype int32\n",
      "\t [[{{node gradients/split_grad/concat/split/split_dim}}]]\n",
      "2024-03-24 20:34:26.894064: I tensorflow/core/common_runtime/executor.cc:1197] [/device:CPU:0] (DEBUG INFO) Executor start aborting (this does not indicate an error and you can ignore this message): INVALID_ARGUMENT: You must feed a value for placeholder tensor 'gradients/split_1_grad/concat/split_1/split_dim' with dtype int32\n",
      "\t [[{{node gradients/split_1_grad/concat/split_1/split_dim}}]]\n",
      "2024-03-24 20:34:27.223214: I tensorflow/core/common_runtime/executor.cc:1197] [/device:CPU:0] (DEBUG INFO) Executor start aborting (this does not indicate an error and you can ignore this message): INVALID_ARGUMENT: You must feed a value for placeholder tensor 'gradients/split_2_grad/concat/split_2/split_dim' with dtype int32\n",
      "\t [[{{node gradients/split_2_grad/concat/split_2/split_dim}}]]\n",
      "2024-03-24 20:34:27.224183: I tensorflow/core/common_runtime/executor.cc:1197] [/device:CPU:0] (DEBUG INFO) Executor start aborting (this does not indicate an error and you can ignore this message): INVALID_ARGUMENT: You must feed a value for placeholder tensor 'gradients/split_grad/concat/split/split_dim' with dtype int32\n",
      "\t [[{{node gradients/split_grad/concat/split/split_dim}}]]\n",
      "2024-03-24 20:34:27.224854: I tensorflow/core/common_runtime/executor.cc:1197] [/device:CPU:0] (DEBUG INFO) Executor start aborting (this does not indicate an error and you can ignore this message): INVALID_ARGUMENT: You must feed a value for placeholder tensor 'gradients/split_1_grad/concat/split_1/split_dim' with dtype int32\n",
      "\t [[{{node gradients/split_1_grad/concat/split_1/split_dim}}]]\n",
      "2024-03-24 20:34:27.327363: I tensorflow/core/common_runtime/executor.cc:1197] [/device:CPU:0] (DEBUG INFO) Executor start aborting (this does not indicate an error and you can ignore this message): INVALID_ARGUMENT: You must feed a value for placeholder tensor 'gradients/split_2_grad/concat/split_2/split_dim' with dtype int32\n",
      "\t [[{{node gradients/split_2_grad/concat/split_2/split_dim}}]]\n",
      "2024-03-24 20:34:27.328226: I tensorflow/core/common_runtime/executor.cc:1197] [/device:CPU:0] (DEBUG INFO) Executor start aborting (this does not indicate an error and you can ignore this message): INVALID_ARGUMENT: You must feed a value for placeholder tensor 'gradients/split_grad/concat/split/split_dim' with dtype int32\n",
      "\t [[{{node gradients/split_grad/concat/split/split_dim}}]]\n",
      "2024-03-24 20:34:27.329152: I tensorflow/core/common_runtime/executor.cc:1197] [/device:CPU:0] (DEBUG INFO) Executor start aborting (this does not indicate an error and you can ignore this message): INVALID_ARGUMENT: You must feed a value for placeholder tensor 'gradients/split_1_grad/concat/split_1/split_dim' with dtype int32\n",
      "\t [[{{node gradients/split_1_grad/concat/split_1/split_dim}}]]\n"
     ]
    },
    {
     "name": "stdout",
     "output_type": "stream",
     "text": [
      "120/120 - 2s - loss: 0.9989 - 2s/epoch - 15ms/step\n",
      "Epoch 2/10\n",
      "120/120 - 0s - loss: 0.9973 - 354ms/epoch - 3ms/step\n",
      "Epoch 3/10\n",
      "120/120 - 0s - loss: 0.9970 - 353ms/epoch - 3ms/step\n",
      "Epoch 4/10\n",
      "120/120 - 0s - loss: 0.9968 - 358ms/epoch - 3ms/step\n",
      "Epoch 5/10\n",
      "120/120 - 0s - loss: 0.9967 - 362ms/epoch - 3ms/step\n",
      "Epoch 6/10\n",
      "120/120 - 0s - loss: 0.9966 - 353ms/epoch - 3ms/step\n",
      "Epoch 7/10\n",
      "120/120 - 0s - loss: 0.9965 - 356ms/epoch - 3ms/step\n",
      "Epoch 8/10\n",
      "120/120 - 0s - loss: 0.9964 - 354ms/epoch - 3ms/step\n",
      "Epoch 9/10\n",
      "120/120 - 0s - loss: 0.9964 - 356ms/epoch - 3ms/step\n",
      "Epoch 10/10\n",
      "120/120 - 0s - loss: 0.9963 - 349ms/epoch - 3ms/step\n"
     ]
    },
    {
     "name": "stderr",
     "output_type": "stream",
     "text": [
      "2024-03-24 20:34:31.878610: I tensorflow/core/common_runtime/executor.cc:1197] [/device:CPU:0] (DEBUG INFO) Executor start aborting (this does not indicate an error and you can ignore this message): INVALID_ARGUMENT: You must feed a value for placeholder tensor 'gradients/split_2_grad/concat/split_2/split_dim' with dtype int32\n",
      "\t [[{{node gradients/split_2_grad/concat/split_2/split_dim}}]]\n",
      "2024-03-24 20:34:31.879744: I tensorflow/core/common_runtime/executor.cc:1197] [/device:CPU:0] (DEBUG INFO) Executor start aborting (this does not indicate an error and you can ignore this message): INVALID_ARGUMENT: You must feed a value for placeholder tensor 'gradients/split_grad/concat/split/split_dim' with dtype int32\n",
      "\t [[{{node gradients/split_grad/concat/split/split_dim}}]]\n",
      "2024-03-24 20:34:31.880432: I tensorflow/core/common_runtime/executor.cc:1197] [/device:CPU:0] (DEBUG INFO) Executor start aborting (this does not indicate an error and you can ignore this message): INVALID_ARGUMENT: You must feed a value for placeholder tensor 'gradients/split_1_grad/concat/split_1/split_dim' with dtype int32\n",
      "\t [[{{node gradients/split_1_grad/concat/split_1/split_dim}}]]\n",
      "2024-03-24 20:34:31.978905: I tensorflow/core/common_runtime/executor.cc:1197] [/device:CPU:0] (DEBUG INFO) Executor start aborting (this does not indicate an error and you can ignore this message): INVALID_ARGUMENT: You must feed a value for placeholder tensor 'gradients/split_2_grad/concat/split_2/split_dim' with dtype int32\n",
      "\t [[{{node gradients/split_2_grad/concat/split_2/split_dim}}]]\n",
      "2024-03-24 20:34:31.979587: I tensorflow/core/common_runtime/executor.cc:1197] [/device:CPU:0] (DEBUG INFO) Executor start aborting (this does not indicate an error and you can ignore this message): INVALID_ARGUMENT: You must feed a value for placeholder tensor 'gradients/split_grad/concat/split/split_dim' with dtype int32\n",
      "\t [[{{node gradients/split_grad/concat/split/split_dim}}]]\n",
      "2024-03-24 20:34:31.980195: I tensorflow/core/common_runtime/executor.cc:1197] [/device:CPU:0] (DEBUG INFO) Executor start aborting (this does not indicate an error and you can ignore this message): INVALID_ARGUMENT: You must feed a value for placeholder tensor 'gradients/split_1_grad/concat/split_1/split_dim' with dtype int32\n",
      "\t [[{{node gradients/split_1_grad/concat/split_1/split_dim}}]]\n"
     ]
    },
    {
     "name": "stdout",
     "output_type": "stream",
     "text": [
      "1/1 [==============================] - 0s 366ms/step\n"
     ]
    }
   ],
   "source": [
    "predictions = dax_LSTM(df)"
   ],
   "metadata": {
    "collapsed": false,
    "ExecuteTime": {
     "end_time": "2024-03-24T19:34:32.150114Z",
     "start_time": "2024-03-24T19:34:25.830444Z"
    }
   },
   "id": "b4a8f0ac1251faff"
  },
  {
   "cell_type": "code",
   "execution_count": 61,
   "outputs": [
    {
     "data": {
      "text/plain": "  forecast_date target horizon    q0.025     q0.25      q0.5     q0.75  \\\n0    2022-03-18    DAX   1 day -0.017575 -0.018717 -0.014414 -0.020012   \n1    2022-03-18    DAX   2 day -0.020772 -0.032834 -0.020374 -0.024957   \n2    2022-03-18    DAX   3 day -0.028952 -0.019869 -0.028244 -0.033481   \n3    2022-03-18    DAX   4 day -0.031593 -0.043827 -0.044109 -0.032364   \n4    2022-03-18    DAX   5 day -0.041386 -0.027359 -0.045852 -0.040013   \n\n     q0.975  \n0 -0.020352  \n1 -0.027600  \n2 -0.025934  \n3 -0.035192  \n4 -0.032437  ",
      "text/html": "<div>\n<style scoped>\n    .dataframe tbody tr th:only-of-type {\n        vertical-align: middle;\n    }\n\n    .dataframe tbody tr th {\n        vertical-align: top;\n    }\n\n    .dataframe thead th {\n        text-align: right;\n    }\n</style>\n<table border=\"1\" class=\"dataframe\">\n  <thead>\n    <tr style=\"text-align: right;\">\n      <th></th>\n      <th>forecast_date</th>\n      <th>target</th>\n      <th>horizon</th>\n      <th>q0.025</th>\n      <th>q0.25</th>\n      <th>q0.5</th>\n      <th>q0.75</th>\n      <th>q0.975</th>\n    </tr>\n  </thead>\n  <tbody>\n    <tr>\n      <th>0</th>\n      <td>2022-03-18</td>\n      <td>DAX</td>\n      <td>1 day</td>\n      <td>-0.017575</td>\n      <td>-0.018717</td>\n      <td>-0.014414</td>\n      <td>-0.020012</td>\n      <td>-0.020352</td>\n    </tr>\n    <tr>\n      <th>1</th>\n      <td>2022-03-18</td>\n      <td>DAX</td>\n      <td>2 day</td>\n      <td>-0.020772</td>\n      <td>-0.032834</td>\n      <td>-0.020374</td>\n      <td>-0.024957</td>\n      <td>-0.027600</td>\n    </tr>\n    <tr>\n      <th>2</th>\n      <td>2022-03-18</td>\n      <td>DAX</td>\n      <td>3 day</td>\n      <td>-0.028952</td>\n      <td>-0.019869</td>\n      <td>-0.028244</td>\n      <td>-0.033481</td>\n      <td>-0.025934</td>\n    </tr>\n    <tr>\n      <th>3</th>\n      <td>2022-03-18</td>\n      <td>DAX</td>\n      <td>4 day</td>\n      <td>-0.031593</td>\n      <td>-0.043827</td>\n      <td>-0.044109</td>\n      <td>-0.032364</td>\n      <td>-0.035192</td>\n    </tr>\n    <tr>\n      <th>4</th>\n      <td>2022-03-18</td>\n      <td>DAX</td>\n      <td>5 day</td>\n      <td>-0.041386</td>\n      <td>-0.027359</td>\n      <td>-0.045852</td>\n      <td>-0.040013</td>\n      <td>-0.032437</td>\n    </tr>\n  </tbody>\n</table>\n</div>"
     },
     "execution_count": 61,
     "metadata": {},
     "output_type": "execute_result"
    }
   ],
   "source": [
    "predictions"
   ],
   "metadata": {
    "collapsed": false,
    "ExecuteTime": {
     "end_time": "2024-03-24T19:34:32.165645Z",
     "start_time": "2024-03-24T19:34:32.156015Z"
    }
   },
   "id": "1f7e1d0933b3495b"
  },
  {
   "cell_type": "code",
   "execution_count": 47,
   "outputs": [
    {
     "data": {
      "text/plain": "                                   Open          High           Low  \\\nDate                                                                  \n2023-03-20 00:00:00+01:00  14715.400391  14980.429688  14458.389648   \n2023-03-21 00:00:00+01:00  15062.059570  15253.099609  15055.929688   \n2023-03-22 00:00:00+01:00  15174.669922  15298.490234  15166.950195   \n2023-03-23 00:00:00+01:00  15178.250000  15244.320312  15078.719727   \n2023-03-24 00:00:00+01:00  15135.500000  15135.650391  14809.820312   \n...                                 ...           ...           ...   \n2024-03-11 00:00:00+01:00  17690.949219  17750.720703  17662.550781   \n2024-03-12 00:00:00+01:00  17810.150391  17973.220703  17746.890625   \n2024-03-13 00:00:00+01:00  17984.500000  18001.419922  17939.560547   \n2024-03-14 00:00:00+01:00  18002.970703  18039.050781  17899.929688   \n2024-03-15 00:00:00+01:00  17938.140625  18038.109375  17926.720703   \n\n                                  Close     Volume  Dividends  Stock Splits  \\\nDate                                                                          \n2023-03-20 00:00:00+01:00  14933.379883  125262600        0.0           0.0   \n2023-03-21 00:00:00+01:00  15195.339844   94322300        0.0           0.0   \n2023-03-22 00:00:00+01:00  15216.190430   82685900        0.0           0.0   \n2023-03-23 00:00:00+01:00  15210.389648   82739800        0.0           0.0   \n2023-03-24 00:00:00+01:00  14957.230469  181078000        0.0           0.0   \n...                                 ...        ...        ...           ...   \n2024-03-11 00:00:00+01:00  17746.269531   66646400        0.0           0.0   \n2024-03-12 00:00:00+01:00  17965.109375   91388300        0.0           0.0   \n2024-03-13 00:00:00+01:00  17961.380859   92880500        0.0           0.0   \n2024-03-14 00:00:00+01:00  17942.039062   93590600        0.0           0.0   \n2024-03-15 00:00:00+01:00  17936.650391  202910600        0.0           0.0   \n\n                           future_ret1  future_ret2  future_ret3  future_ret4  \\\nDate                                                                            \n2023-03-20 00:00:00+01:00    -1.738982    -1.876105    -1.837976    -0.159586   \n2023-03-21 00:00:00+01:00    -0.137123    -0.098993     1.579397     0.446263   \n2023-03-22 00:00:00+01:00     0.038130     1.716519     0.583386     0.488639   \n2023-03-23 00:00:00+01:00     1.678390     0.545257     0.450509    -0.775340   \n2023-03-24 00:00:00+01:00    -1.133133    -1.227880    -2.453730    -3.708934   \n...                                ...          ...          ...          ...   \n2024-03-11 00:00:00+01:00    -1.225618    -1.204862    -1.097118    -1.067080   \n2024-03-12 00:00:00+01:00     0.020756     0.128500     0.158538     0.180678   \n2024-03-13 00:00:00+01:00     0.107743     0.137782     0.159922    -0.145258   \n2024-03-14 00:00:00+01:00     0.030038     0.052178    -0.253002    -0.406550   \n2024-03-15 00:00:00+01:00     0.022140    -0.283040    -0.436588    -1.343471   \n\n                           future_ret5  lag_ret1  lag_ret2  lag_ret3  \\\nDate                                                                   \n2023-03-20 00:00:00+01:00    -1.292719  1.112273 -0.225546  1.335572   \n2023-03-21 00:00:00+01:00     0.351516  1.738982  2.851256  1.513436   \n2023-03-22 00:00:00+01:00    -0.737210  0.137123  1.876105  2.988379   \n2023-03-23 00:00:00+01:00    -2.030544 -0.038130  0.098993  1.837976   \n2023-03-24 00:00:00+01:00    -4.392309 -1.678390 -1.716519 -1.579397   \n...                                ...       ...       ...       ...   \n2024-03-11 00:00:00+01:00    -1.044940 -0.383795 -0.542752  0.166701   \n2024-03-12 00:00:00+01:00    -0.124502  1.225618  0.841823  0.682866   \n2024-03-13 00:00:00+01:00    -0.298806 -0.020756  1.204862  0.821066   \n2024-03-14 00:00:00+01:00    -1.313432 -0.107743 -0.128500  1.097118   \n2024-03-15 00:00:00+01:00    -1.490176 -0.030038 -0.137782 -0.158538   \n\n                           lag_ret4  lag_ret5  \nDate                                           \n2023-03-20 00:00:00+01:00 -1.985400 -0.174556  \n2023-03-21 00:00:00+01:00  3.074555 -0.246418  \n2023-03-22 00:00:00+01:00  1.650559  3.211678  \n2023-03-23 00:00:00+01:00  2.950249  1.612429  \n2023-03-24 00:00:00+01:00  0.159586  1.271859  \n...                             ...       ...  \n2024-03-11 00:00:00+01:00  0.270106  0.169755  \n2024-03-12 00:00:00+01:00  1.392319  1.495725  \n2024-03-13 00:00:00+01:00  0.662110  1.371563  \n2024-03-14 00:00:00+01:00  0.713323  0.554366  \n2024-03-15 00:00:00+01:00  1.067080  0.683285  \n\n[254 rows x 17 columns]",
      "text/html": "<div>\n<style scoped>\n    .dataframe tbody tr th:only-of-type {\n        vertical-align: middle;\n    }\n\n    .dataframe tbody tr th {\n        vertical-align: top;\n    }\n\n    .dataframe thead th {\n        text-align: right;\n    }\n</style>\n<table border=\"1\" class=\"dataframe\">\n  <thead>\n    <tr style=\"text-align: right;\">\n      <th></th>\n      <th>Open</th>\n      <th>High</th>\n      <th>Low</th>\n      <th>Close</th>\n      <th>Volume</th>\n      <th>Dividends</th>\n      <th>Stock Splits</th>\n      <th>future_ret1</th>\n      <th>future_ret2</th>\n      <th>future_ret3</th>\n      <th>future_ret4</th>\n      <th>future_ret5</th>\n      <th>lag_ret1</th>\n      <th>lag_ret2</th>\n      <th>lag_ret3</th>\n      <th>lag_ret4</th>\n      <th>lag_ret5</th>\n    </tr>\n    <tr>\n      <th>Date</th>\n      <th></th>\n      <th></th>\n      <th></th>\n      <th></th>\n      <th></th>\n      <th></th>\n      <th></th>\n      <th></th>\n      <th></th>\n      <th></th>\n      <th></th>\n      <th></th>\n      <th></th>\n      <th></th>\n      <th></th>\n      <th></th>\n      <th></th>\n    </tr>\n  </thead>\n  <tbody>\n    <tr>\n      <th>2023-03-20 00:00:00+01:00</th>\n      <td>14715.400391</td>\n      <td>14980.429688</td>\n      <td>14458.389648</td>\n      <td>14933.379883</td>\n      <td>125262600</td>\n      <td>0.0</td>\n      <td>0.0</td>\n      <td>-1.738982</td>\n      <td>-1.876105</td>\n      <td>-1.837976</td>\n      <td>-0.159586</td>\n      <td>-1.292719</td>\n      <td>1.112273</td>\n      <td>-0.225546</td>\n      <td>1.335572</td>\n      <td>-1.985400</td>\n      <td>-0.174556</td>\n    </tr>\n    <tr>\n      <th>2023-03-21 00:00:00+01:00</th>\n      <td>15062.059570</td>\n      <td>15253.099609</td>\n      <td>15055.929688</td>\n      <td>15195.339844</td>\n      <td>94322300</td>\n      <td>0.0</td>\n      <td>0.0</td>\n      <td>-0.137123</td>\n      <td>-0.098993</td>\n      <td>1.579397</td>\n      <td>0.446263</td>\n      <td>0.351516</td>\n      <td>1.738982</td>\n      <td>2.851256</td>\n      <td>1.513436</td>\n      <td>3.074555</td>\n      <td>-0.246418</td>\n    </tr>\n    <tr>\n      <th>2023-03-22 00:00:00+01:00</th>\n      <td>15174.669922</td>\n      <td>15298.490234</td>\n      <td>15166.950195</td>\n      <td>15216.190430</td>\n      <td>82685900</td>\n      <td>0.0</td>\n      <td>0.0</td>\n      <td>0.038130</td>\n      <td>1.716519</td>\n      <td>0.583386</td>\n      <td>0.488639</td>\n      <td>-0.737210</td>\n      <td>0.137123</td>\n      <td>1.876105</td>\n      <td>2.988379</td>\n      <td>1.650559</td>\n      <td>3.211678</td>\n    </tr>\n    <tr>\n      <th>2023-03-23 00:00:00+01:00</th>\n      <td>15178.250000</td>\n      <td>15244.320312</td>\n      <td>15078.719727</td>\n      <td>15210.389648</td>\n      <td>82739800</td>\n      <td>0.0</td>\n      <td>0.0</td>\n      <td>1.678390</td>\n      <td>0.545257</td>\n      <td>0.450509</td>\n      <td>-0.775340</td>\n      <td>-2.030544</td>\n      <td>-0.038130</td>\n      <td>0.098993</td>\n      <td>1.837976</td>\n      <td>2.950249</td>\n      <td>1.612429</td>\n    </tr>\n    <tr>\n      <th>2023-03-24 00:00:00+01:00</th>\n      <td>15135.500000</td>\n      <td>15135.650391</td>\n      <td>14809.820312</td>\n      <td>14957.230469</td>\n      <td>181078000</td>\n      <td>0.0</td>\n      <td>0.0</td>\n      <td>-1.133133</td>\n      <td>-1.227880</td>\n      <td>-2.453730</td>\n      <td>-3.708934</td>\n      <td>-4.392309</td>\n      <td>-1.678390</td>\n      <td>-1.716519</td>\n      <td>-1.579397</td>\n      <td>0.159586</td>\n      <td>1.271859</td>\n    </tr>\n    <tr>\n      <th>...</th>\n      <td>...</td>\n      <td>...</td>\n      <td>...</td>\n      <td>...</td>\n      <td>...</td>\n      <td>...</td>\n      <td>...</td>\n      <td>...</td>\n      <td>...</td>\n      <td>...</td>\n      <td>...</td>\n      <td>...</td>\n      <td>...</td>\n      <td>...</td>\n      <td>...</td>\n      <td>...</td>\n      <td>...</td>\n    </tr>\n    <tr>\n      <th>2024-03-11 00:00:00+01:00</th>\n      <td>17690.949219</td>\n      <td>17750.720703</td>\n      <td>17662.550781</td>\n      <td>17746.269531</td>\n      <td>66646400</td>\n      <td>0.0</td>\n      <td>0.0</td>\n      <td>-1.225618</td>\n      <td>-1.204862</td>\n      <td>-1.097118</td>\n      <td>-1.067080</td>\n      <td>-1.044940</td>\n      <td>-0.383795</td>\n      <td>-0.542752</td>\n      <td>0.166701</td>\n      <td>0.270106</td>\n      <td>0.169755</td>\n    </tr>\n    <tr>\n      <th>2024-03-12 00:00:00+01:00</th>\n      <td>17810.150391</td>\n      <td>17973.220703</td>\n      <td>17746.890625</td>\n      <td>17965.109375</td>\n      <td>91388300</td>\n      <td>0.0</td>\n      <td>0.0</td>\n      <td>0.020756</td>\n      <td>0.128500</td>\n      <td>0.158538</td>\n      <td>0.180678</td>\n      <td>-0.124502</td>\n      <td>1.225618</td>\n      <td>0.841823</td>\n      <td>0.682866</td>\n      <td>1.392319</td>\n      <td>1.495725</td>\n    </tr>\n    <tr>\n      <th>2024-03-13 00:00:00+01:00</th>\n      <td>17984.500000</td>\n      <td>18001.419922</td>\n      <td>17939.560547</td>\n      <td>17961.380859</td>\n      <td>92880500</td>\n      <td>0.0</td>\n      <td>0.0</td>\n      <td>0.107743</td>\n      <td>0.137782</td>\n      <td>0.159922</td>\n      <td>-0.145258</td>\n      <td>-0.298806</td>\n      <td>-0.020756</td>\n      <td>1.204862</td>\n      <td>0.821066</td>\n      <td>0.662110</td>\n      <td>1.371563</td>\n    </tr>\n    <tr>\n      <th>2024-03-14 00:00:00+01:00</th>\n      <td>18002.970703</td>\n      <td>18039.050781</td>\n      <td>17899.929688</td>\n      <td>17942.039062</td>\n      <td>93590600</td>\n      <td>0.0</td>\n      <td>0.0</td>\n      <td>0.030038</td>\n      <td>0.052178</td>\n      <td>-0.253002</td>\n      <td>-0.406550</td>\n      <td>-1.313432</td>\n      <td>-0.107743</td>\n      <td>-0.128500</td>\n      <td>1.097118</td>\n      <td>0.713323</td>\n      <td>0.554366</td>\n    </tr>\n    <tr>\n      <th>2024-03-15 00:00:00+01:00</th>\n      <td>17938.140625</td>\n      <td>18038.109375</td>\n      <td>17926.720703</td>\n      <td>17936.650391</td>\n      <td>202910600</td>\n      <td>0.0</td>\n      <td>0.0</td>\n      <td>0.022140</td>\n      <td>-0.283040</td>\n      <td>-0.436588</td>\n      <td>-1.343471</td>\n      <td>-1.490176</td>\n      <td>-0.030038</td>\n      <td>-0.137782</td>\n      <td>-0.158538</td>\n      <td>1.067080</td>\n      <td>0.683285</td>\n    </tr>\n  </tbody>\n</table>\n<p>254 rows × 17 columns</p>\n</div>"
     },
     "execution_count": 47,
     "metadata": {},
     "output_type": "execute_result"
    }
   ],
   "source": [
    "df['2023-03-18':'2024-03-22']"
   ],
   "metadata": {
    "collapsed": false,
    "ExecuteTime": {
     "end_time": "2024-03-24T19:10:03.881331Z",
     "start_time": "2024-03-24T19:10:03.868049Z"
    }
   },
   "id": "948cfc5d4b4c1083"
  },
  {
   "cell_type": "code",
   "execution_count": null,
   "outputs": [],
   "source": [],
   "metadata": {
    "collapsed": false
   },
   "id": "b8a9cff22de08bc5"
  }
 ],
 "metadata": {
  "kernelspec": {
   "display_name": "Python 3",
   "language": "python",
   "name": "python3"
  },
  "language_info": {
   "codemirror_mode": {
    "name": "ipython",
    "version": 2
   },
   "file_extension": ".py",
   "mimetype": "text/x-python",
   "name": "python",
   "nbconvert_exporter": "python",
   "pygments_lexer": "ipython2",
   "version": "2.7.6"
  }
 },
 "nbformat": 4,
 "nbformat_minor": 5
}
