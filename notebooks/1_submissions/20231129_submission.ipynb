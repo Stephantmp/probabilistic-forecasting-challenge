{
 "cells": [
  {
   "cell_type": "code",
   "execution_count": 19,
   "id": "initial_id",
   "metadata": {
    "collapsed": true,
    "ExecuteTime": {
     "end_time": "2023-11-30T18:03:35.871003Z",
     "start_time": "2023-11-30T18:03:35.867562Z"
    }
   },
   "outputs": [],
   "source": [
    "from models.DAX.DAX_models import DAX_quantile_regression, DAX_baseline\n",
    "from models.energy.energy_models import energy_quantile_regression\n",
    "from functions import get_energy,get_DAX,merge_submissions,check_submission\n",
    "from functions.prepare_data import split_time\n",
    "from functions.evaluation import evaluate_horizon\n",
    "from tqdm import tqdm\n",
    "from functions import evaluate_dax"
   ]
  },
  {
   "cell_type": "code",
   "execution_count": 15,
   "outputs": [],
   "source": [
    "from functions import naive_ensemble"
   ],
   "metadata": {
    "collapsed": false,
    "ExecuteTime": {
     "end_time": "2023-11-30T14:59:59.780884Z",
     "start_time": "2023-11-30T14:59:59.767642Z"
    }
   },
   "id": "2ce850d6890c7f7e"
  },
  {
   "cell_type": "code",
   "execution_count": 16,
   "outputs": [],
   "source": [
    "daxdata = get_DAX.get()"
   ],
   "metadata": {
    "collapsed": false,
    "ExecuteTime": {
     "end_time": "2023-11-30T15:00:20.827986Z",
     "start_time": "2023-11-30T15:00:00.293136Z"
    }
   },
   "id": "f9e3cc3455a4dedb"
  },
  {
   "cell_type": "code",
   "execution_count": 17,
   "outputs": [],
   "source": [
    "base = DAX_baseline.DAX_baseline(daxdata)"
   ],
   "metadata": {
    "collapsed": false,
    "ExecuteTime": {
     "end_time": "2023-11-30T15:00:20.836238Z",
     "start_time": "2023-11-30T15:00:20.830807Z"
    }
   },
   "id": "ec5c75e7ea26f528"
  },
  {
   "cell_type": "code",
   "execution_count": 18,
   "outputs": [
    {
     "data": {
      "text/plain": "  forecast_date target horizon    q0.025     q0.25      q0.5     q0.75  \\\n0    2023-11-30    DAX   1 day -3.321265 -0.546439  0.068631  0.718274   \n1    2023-11-30    DAX   2 day -4.087895 -0.817404  0.080265  1.000970   \n2    2023-11-30    DAX   5 day -5.259161 -0.912912  0.164214  1.232426   \n3    2023-11-30    DAX   6 day -6.282629 -1.044070  0.203116  1.443441   \n4    2023-11-30    DAX   7 day -6.735742 -1.091646  0.343478  1.594461   \n\n     q0.975  \n0  2.719772  \n1  3.570492  \n2  4.628697  \n3  5.367396  \n4  6.259934  ",
      "text/html": "<div>\n<style scoped>\n    .dataframe tbody tr th:only-of-type {\n        vertical-align: middle;\n    }\n\n    .dataframe tbody tr th {\n        vertical-align: top;\n    }\n\n    .dataframe thead th {\n        text-align: right;\n    }\n</style>\n<table border=\"1\" class=\"dataframe\">\n  <thead>\n    <tr style=\"text-align: right;\">\n      <th></th>\n      <th>forecast_date</th>\n      <th>target</th>\n      <th>horizon</th>\n      <th>q0.025</th>\n      <th>q0.25</th>\n      <th>q0.5</th>\n      <th>q0.75</th>\n      <th>q0.975</th>\n    </tr>\n  </thead>\n  <tbody>\n    <tr>\n      <th>0</th>\n      <td>2023-11-30</td>\n      <td>DAX</td>\n      <td>1 day</td>\n      <td>-3.321265</td>\n      <td>-0.546439</td>\n      <td>0.068631</td>\n      <td>0.718274</td>\n      <td>2.719772</td>\n    </tr>\n    <tr>\n      <th>1</th>\n      <td>2023-11-30</td>\n      <td>DAX</td>\n      <td>2 day</td>\n      <td>-4.087895</td>\n      <td>-0.817404</td>\n      <td>0.080265</td>\n      <td>1.000970</td>\n      <td>3.570492</td>\n    </tr>\n    <tr>\n      <th>2</th>\n      <td>2023-11-30</td>\n      <td>DAX</td>\n      <td>5 day</td>\n      <td>-5.259161</td>\n      <td>-0.912912</td>\n      <td>0.164214</td>\n      <td>1.232426</td>\n      <td>4.628697</td>\n    </tr>\n    <tr>\n      <th>3</th>\n      <td>2023-11-30</td>\n      <td>DAX</td>\n      <td>6 day</td>\n      <td>-6.282629</td>\n      <td>-1.044070</td>\n      <td>0.203116</td>\n      <td>1.443441</td>\n      <td>5.367396</td>\n    </tr>\n    <tr>\n      <th>4</th>\n      <td>2023-11-30</td>\n      <td>DAX</td>\n      <td>7 day</td>\n      <td>-6.735742</td>\n      <td>-1.091646</td>\n      <td>0.343478</td>\n      <td>1.594461</td>\n      <td>6.259934</td>\n    </tr>\n  </tbody>\n</table>\n</div>"
     },
     "execution_count": 18,
     "metadata": {},
     "output_type": "execute_result"
    }
   ],
   "source": [
    "base"
   ],
   "metadata": {
    "collapsed": false,
    "ExecuteTime": {
     "end_time": "2023-11-30T15:00:37.263946Z",
     "start_time": "2023-11-30T15:00:37.240316Z"
    }
   },
   "id": "a8cb24f5fba12ced"
  },
  {
   "cell_type": "code",
   "execution_count": 5,
   "outputs": [],
   "source": [
    "quantile = DAX_quantile_regression.DAX_quantile_regression(daxdata)"
   ],
   "metadata": {
    "collapsed": false,
    "ExecuteTime": {
     "end_time": "2023-11-29T17:15:57.958244Z",
     "start_time": "2023-11-29T17:15:53.576529Z"
    }
   },
   "id": "f850f96936fc0107"
  },
  {
   "cell_type": "code",
   "execution_count": 6,
   "outputs": [],
   "source": [
    "df_dax=naive_ensemble.ensemble(base,quantile,0.5,0.5)"
   ],
   "metadata": {
    "collapsed": false,
    "ExecuteTime": {
     "end_time": "2023-11-29T17:15:57.988499Z",
     "start_time": "2023-11-29T17:15:57.963617Z"
    }
   },
   "id": "f65a5a521ad3258e"
  },
  {
   "cell_type": "code",
   "execution_count": 7,
   "outputs": [
    {
     "name": "stderr",
     "output_type": "stream",
     "text": [
      "  0%|          | 0/258 [00:00<?, ?it/s]/Users/stephantimpe/PycharmProjects/probabilistic-forecasting-challenge/functions/get_energy.py:28: FutureWarning: The behavior of DataFrame concatenation with empty or all-NA entries is deprecated. In a future version, this will no longer exclude empty or all-NA columns when determining the result dtypes. To retain the old behavior, exclude the relevant entries before the concat operation.\n",
      "  energydata = pd.concat([energydata, pd.DataFrame(rawdata, columns=col_names)])\n",
      "100%|██████████| 258/258 [00:33<00:00,  7.71it/s]\n"
     ]
    }
   ],
   "source": [
    "energydata= get_energy.get()"
   ],
   "metadata": {
    "collapsed": false,
    "ExecuteTime": {
     "end_time": "2023-11-29T17:16:31.637718Z",
     "start_time": "2023-11-29T17:15:57.986479Z"
    }
   },
   "id": "6825a919679471df"
  },
  {
   "cell_type": "code",
   "execution_count": 8,
   "outputs": [
    {
     "name": "stdout",
     "output_type": "stream",
     "text": [
      "                         QuantReg Regression Results                          \n",
      "==============================================================================\n",
      "Dep. Variable:                 gesamt   Pseudo R-squared:               0.5070\n",
      "Model:                       QuantReg   Bandwidth:                      0.6979\n",
      "Method:                 Least Squares   Sparsity:                        11.98\n",
      "Date:                Wed, 29 Nov 2023   No. Observations:                43242\n",
      "Time:                        18:17:11   Df Residuals:                    43206\n",
      "                                        Df Model:                           35\n",
      "==============================================================================\n",
      "                 coef    std err          t      P>|t|      [0.025      0.975]\n",
      "------------------------------------------------------------------------------\n",
      "const         58.7875      0.175    336.028      0.000      58.445      59.130\n",
      "weekday       -1.8470      0.014   -128.271      0.000      -1.875      -1.819\n",
      "month_2        0.4379      0.142      3.078      0.002       0.159       0.717\n",
      "month_3       -3.2381      0.139    -23.318      0.000      -3.510      -2.966\n",
      "month_4       -7.4130      0.140    -52.943      0.000      -7.687      -7.139\n",
      "month_5       -8.9146      0.139    -64.196      0.000      -9.187      -8.642\n",
      "month_6       -9.1379      0.140    -65.262      0.000      -9.412      -8.863\n",
      "month_7       -8.8150      0.139    -63.479      0.000      -9.087      -8.543\n",
      "month_8       -9.9981      0.139    -71.997      0.000     -10.270      -9.726\n",
      "month_9       -8.1096      0.140    -57.918      0.000      -8.384      -7.835\n",
      "month_10      -5.7466      0.139    -41.382      0.000      -6.019      -5.474\n",
      "month_11      -2.7356      0.140    -19.495      0.000      -3.011      -2.461\n",
      "month_12      -3.3717      0.145    -23.287      0.000      -3.656      -3.088\n",
      "hour_1        -1.7661      0.200     -8.851      0.000      -2.157      -1.375\n",
      "hour_2        -2.7008      0.200    -13.536      0.000      -3.092      -2.310\n",
      "hour_3        -2.6847      0.200    -13.456      0.000      -3.076      -2.294\n",
      "hour_4        -1.8936      0.200     -9.491      0.000      -2.285      -1.503\n",
      "hour_5        -0.0034      0.200     -0.017      0.987      -0.394       0.388\n",
      "hour_6         5.0437      0.200     25.279      0.000       4.653       5.435\n",
      "hour_7        10.1506      0.200     50.875      0.000       9.760      10.542\n",
      "hour_8        13.1037      0.200     65.676      0.000      12.713      13.495\n",
      "hour_9        14.1294      0.200     70.816      0.000      13.738      14.520\n",
      "hour_10       15.1313      0.200     75.838      0.000      14.740      15.522\n",
      "hour_11       16.0746      0.200     80.566      0.000      15.683      16.466\n",
      "hour_12       15.6856      0.200     78.616      0.000      15.295      16.077\n",
      "hour_13       14.5055      0.200     72.702      0.000      14.114      14.897\n",
      "hour_14       13.2189      0.200     66.253      0.000      12.828      13.610\n",
      "hour_15       12.3495      0.200     61.895      0.000      11.958      12.741\n",
      "hour_16       11.6467      0.200     58.373      0.000      11.256      12.038\n",
      "hour_17       12.6200      0.200     63.252      0.000      12.229      13.011\n",
      "hour_18       13.2421      0.200     66.360      0.000      12.851      13.633\n",
      "hour_19       12.6656      0.200     63.471      0.000      12.274      13.057\n",
      "hour_20       10.2616      0.200     51.424      0.000       9.870      10.653\n",
      "hour_21        7.9465      0.200     39.822      0.000       7.555       8.338\n",
      "hour_22        5.5323      0.200     27.724      0.000       5.141       5.923\n",
      "hour_23        2.1302      0.200     10.675      0.000       1.739       2.521\n",
      "==============================================================================\n"
     ]
    },
    {
     "name": "stderr",
     "output_type": "stream",
     "text": [
      "/Users/stephantimpe/anaconda3/envs/Forecasting_Challenge_2/lib/python3.9/site-packages/statsmodels/regression/quantile_regression.py:191: IterationLimitWarning: Maximum number of iterations (1000) reached.\n",
      "  warnings.warn(\"Maximum number of iterations (\" + str(max_iter) +\n"
     ]
    }
   ],
   "source": [
    "df_energy= energy_quantile_regression.energy_quantile_regression(energydata)"
   ],
   "metadata": {
    "collapsed": false,
    "ExecuteTime": {
     "end_time": "2023-11-29T17:17:11.251243Z",
     "start_time": "2023-11-29T17:16:31.639038Z"
    }
   },
   "id": "d1d2a9506ee6ab6c"
  },
  {
   "cell_type": "code",
   "execution_count": 20,
   "outputs": [
    {
     "data": {
      "text/plain": "  forecast_date  target  horizon     q0.025      q0.25       q0.5      q0.75  \\\n0    2023-11-29  energy  36 hour  39.598251  47.270818  51.399704   54.56094   \n1    2023-11-29  energy  40 hour   50.56704  59.961533  64.019735  68.926358   \n2    2023-11-29  energy  44 hour  48.834292  56.250523  59.346171  62.739859   \n3    2023-11-29  energy  60 hour  38.611751  45.395177  49.552746  53.132607   \n4    2023-11-29  energy  64 hour   49.58054  58.085891  62.172777  67.498025   \n5    2023-11-29  energy  68 hour  47.847792  54.374882  57.499213  61.311526   \n\n      q0.975  \n0   57.74445  \n1  74.359249  \n2  66.775318  \n3  56.992767  \n4  73.607566  \n5  66.023635  ",
      "text/html": "<div>\n<style scoped>\n    .dataframe tbody tr th:only-of-type {\n        vertical-align: middle;\n    }\n\n    .dataframe tbody tr th {\n        vertical-align: top;\n    }\n\n    .dataframe thead th {\n        text-align: right;\n    }\n</style>\n<table border=\"1\" class=\"dataframe\">\n  <thead>\n    <tr style=\"text-align: right;\">\n      <th></th>\n      <th>forecast_date</th>\n      <th>target</th>\n      <th>horizon</th>\n      <th>q0.025</th>\n      <th>q0.25</th>\n      <th>q0.5</th>\n      <th>q0.75</th>\n      <th>q0.975</th>\n    </tr>\n  </thead>\n  <tbody>\n    <tr>\n      <th>0</th>\n      <td>2023-11-29</td>\n      <td>energy</td>\n      <td>36 hour</td>\n      <td>39.598251</td>\n      <td>47.270818</td>\n      <td>51.399704</td>\n      <td>54.56094</td>\n      <td>57.74445</td>\n    </tr>\n    <tr>\n      <th>1</th>\n      <td>2023-11-29</td>\n      <td>energy</td>\n      <td>40 hour</td>\n      <td>50.56704</td>\n      <td>59.961533</td>\n      <td>64.019735</td>\n      <td>68.926358</td>\n      <td>74.359249</td>\n    </tr>\n    <tr>\n      <th>2</th>\n      <td>2023-11-29</td>\n      <td>energy</td>\n      <td>44 hour</td>\n      <td>48.834292</td>\n      <td>56.250523</td>\n      <td>59.346171</td>\n      <td>62.739859</td>\n      <td>66.775318</td>\n    </tr>\n    <tr>\n      <th>3</th>\n      <td>2023-11-29</td>\n      <td>energy</td>\n      <td>60 hour</td>\n      <td>38.611751</td>\n      <td>45.395177</td>\n      <td>49.552746</td>\n      <td>53.132607</td>\n      <td>56.992767</td>\n    </tr>\n    <tr>\n      <th>4</th>\n      <td>2023-11-29</td>\n      <td>energy</td>\n      <td>64 hour</td>\n      <td>49.58054</td>\n      <td>58.085891</td>\n      <td>62.172777</td>\n      <td>67.498025</td>\n      <td>73.607566</td>\n    </tr>\n    <tr>\n      <th>5</th>\n      <td>2023-11-29</td>\n      <td>energy</td>\n      <td>68 hour</td>\n      <td>47.847792</td>\n      <td>54.374882</td>\n      <td>57.499213</td>\n      <td>61.311526</td>\n      <td>66.023635</td>\n    </tr>\n  </tbody>\n</table>\n</div>"
     },
     "execution_count": 20,
     "metadata": {},
     "output_type": "execute_result"
    }
   ],
   "source": [
    "df_energy"
   ],
   "metadata": {
    "collapsed": false,
    "ExecuteTime": {
     "end_time": "2023-11-30T18:03:49.486702Z",
     "start_time": "2023-11-30T18:03:49.476656Z"
    }
   },
   "id": "ca504288bd09666b"
  },
  {
   "cell_type": "code",
   "execution_count": 9,
   "outputs": [
    {
     "name": "stdout",
     "output_type": "stream",
     "text": [
      "  forecast_date      target  horizon     q0.025      q0.25       q0.5  \\\n",
      "0    2023-11-29         DAX    1 day  -2.865982  -0.544096   0.065096   \n",
      "1    2023-11-29         DAX    2 day  -3.221294  -0.620475   0.194377   \n",
      "2    2023-11-29         DAX    5 day  -4.278427   -1.10553  -0.166646   \n",
      "3    2023-11-29         DAX    6 day  -4.641268  -1.013727   0.023049   \n",
      "4    2023-11-29         DAX    7 day  -4.554499  -0.862567   0.270835   \n",
      "0    2023-11-29      energy  36 hour  39.598251  47.270818  51.399704   \n",
      "1    2023-11-29      energy  40 hour   50.56704  59.961533  64.019735   \n",
      "2    2023-11-29      energy  44 hour  48.834292  56.250523  59.346171   \n",
      "3    2023-11-29      energy  60 hour  38.611751  45.395177  49.552746   \n",
      "4    2023-11-29      energy  64 hour   49.58054  58.085891  62.172777   \n",
      "5    2023-11-29      energy  68 hour  47.847792  54.374882  57.499213   \n",
      "0    2023-11-29  infections   0 week         NA         NA         NA   \n",
      "1    2023-11-29  infections   1 week         NA         NA         NA   \n",
      "2    2023-11-29  infections   2 week         NA         NA         NA   \n",
      "3    2023-11-29  infections   3 week         NA         NA         NA   \n",
      "4    2023-11-29  infections   4 week         NA         NA         NA   \n",
      "\n",
      "       q0.75     q0.975  \n",
      "0   0.661908   2.285005  \n",
      "1   0.927612   3.011737  \n",
      "2   0.666108   3.074037  \n",
      "3   0.958306    3.67985  \n",
      "4   1.202355   4.363297  \n",
      "0   54.56094   57.74445  \n",
      "1  68.926358  74.359249  \n",
      "2  62.739859  66.775318  \n",
      "3  53.132607  56.992767  \n",
      "4  67.498025  73.607566  \n",
      "5  61.311526  66.023635  \n",
      "0         NA         NA  \n",
      "1         NA         NA  \n",
      "2         NA         NA  \n",
      "3         NA         NA  \n",
      "4         NA         NA  \n"
     ]
    }
   ],
   "source": [
    "df = merge_submissions.merge(df_energy,df_dax)"
   ],
   "metadata": {
    "collapsed": false,
    "ExecuteTime": {
     "end_time": "2023-11-29T17:17:11.318767Z",
     "start_time": "2023-11-29T17:17:11.248927Z"
    }
   },
   "id": "6997de28c0fe949"
  }
 ],
 "metadata": {
  "kernelspec": {
   "display_name": "Python 3",
   "language": "python",
   "name": "python3"
  },
  "language_info": {
   "codemirror_mode": {
    "name": "ipython",
    "version": 2
   },
   "file_extension": ".py",
   "mimetype": "text/x-python",
   "name": "python",
   "nbconvert_exporter": "python",
   "pygments_lexer": "ipython2",
   "version": "2.7.6"
  }
 },
 "nbformat": 4,
 "nbformat_minor": 5
}
