{
 "cells": [
  {
   "cell_type": "code",
   "execution_count": 2,
   "id": "initial_id",
   "metadata": {
    "collapsed": true,
    "ExecuteTime": {
     "end_time": "2024-03-24T15:56:34.019491Z",
     "start_time": "2024-03-24T15:56:33.940025Z"
    }
   },
   "outputs": [],
   "source": [
    "from models.DAX import DAX_XGBoost\n",
    "from functions import get_DAX\n",
    "from models.DAX import DAX_quantile_regression\n",
    "from models.DAX import DAX_baseline\n",
    "from functions.evaluation import evaluate_horizon\n",
    "from tqdm import tqdm\n",
    "from functions import evaluate_dax\n",
    "import pandas as pd\n",
    "from arch import arch_model"
   ]
  },
  {
   "cell_type": "code",
   "execution_count": 4,
   "outputs": [],
   "source": [
    "# Load DAX data\n",
    "daxdata = get_DAX.get()"
   ],
   "metadata": {
    "collapsed": false,
    "ExecuteTime": {
     "end_time": "2024-03-24T15:57:03.272172Z",
     "start_time": "2024-03-24T15:56:42.893477Z"
    }
   },
   "id": "366d5e9179fb73b4"
  },
  {
   "cell_type": "code",
   "execution_count": 5,
   "outputs": [
    {
     "name": "stdout",
     "output_type": "stream",
     "text": [
      "                           AR - GARCH Model Results                           \n",
      "==============================================================================\n",
      "Dep. Variable:               lag_ret1   R-squared:                      -0.001\n",
      "Mean Model:                        AR   Adj. R-squared:                 -0.001\n",
      "Vol Model:                      GARCH   Log-Likelihood:               -14537.8\n",
      "Distribution:                  Normal   AIC:                           29085.5\n",
      "Method:            Maximum Likelihood   BIC:                           29121.2\n",
      "                                        No. Observations:                 9150\n",
      "Date:                Sun, Mar 24 2024   Df Residuals:                     9148\n",
      "Time:                        16:57:05   Df Model:                            2\n",
      "                                  Mean Model                                  \n",
      "==============================================================================\n",
      "                  coef    std err          t      P>|t|       95.0% Conf. Int.\n",
      "------------------------------------------------------------------------------\n",
      "Const           0.0728  1.206e-02      6.034  1.599e-09  [4.915e-02,9.644e-02]\n",
      "lag_ret1[1]    -0.0106  1.129e-02     -0.935      0.350 [-3.268e-02,1.158e-02]\n",
      "                              Volatility Model                              \n",
      "============================================================================\n",
      "                 coef    std err          t      P>|t|      95.0% Conf. Int.\n",
      "----------------------------------------------------------------------------\n",
      "omega          0.0376  1.053e-02      3.575  3.503e-04 [1.701e-02,5.829e-02]\n",
      "alpha[1]       0.0983  1.392e-02      7.062  1.646e-12   [7.100e-02,  0.126]\n",
      "beta[1]        0.8820  1.517e-02     58.142      0.000     [  0.852,  0.912]\n",
      "============================================================================\n",
      "\n",
      "Covariance estimator: robust\n",
      "Next day's expected return: 0.07310898633158584\n",
      "Next day's expected volatility: 0.5110251176620204\n"
     ]
    }
   ],
   "source": [
    "\n",
    "\n",
    "# Assuming 'daxdata' is your DataFrame\n",
    "# We will focus on 'lag_ret1' for simplicity and demonstration purposes\n",
    "\n",
    "# Fitting an ARMA(1,1)-GARCH(1,1) model\n",
    "model = arch_model(daxdata['lag_ret1'], mean='AR', lags=1, vol='GARCH', p=1, q=1)\n",
    "fitted_model = model.fit(disp='off')  # disp='off' turns off the convergence output\n",
    "\n",
    "print(fitted_model.summary())\n",
    "\n",
    "# Forecasting the next day's return and volatility\n",
    "forecast = fitted_model.forecast(horizon=1)\n",
    "print(\"Next day's expected return:\", forecast.mean.iloc[-1].values[0])\n",
    "print(\"Next day's expected volatility:\", forecast.variance.iloc[-1].values[0])\n",
    "\n",
    "# Note: For forecasting days 2-7, you may consider using the fitted model's parameters\n",
    "# to simulate future returns and volatility, acknowledging the complexity and limitations\n",
    "# of GARCH models for direct multi-step ahead volatility forecasting.\n"
   ],
   "metadata": {
    "collapsed": false,
    "ExecuteTime": {
     "end_time": "2024-03-24T15:57:05.964737Z",
     "start_time": "2024-03-24T15:57:05.752324Z"
    }
   },
   "id": "5afcec9fbefd2ea6"
  },
  {
   "cell_type": "code",
   "execution_count": null,
   "outputs": [],
   "source": [],
   "metadata": {
    "collapsed": false
   },
   "id": "f2c34c50b1a8c890"
  }
 ],
 "metadata": {
  "kernelspec": {
   "display_name": "Python 3",
   "language": "python",
   "name": "python3"
  },
  "language_info": {
   "codemirror_mode": {
    "name": "ipython",
    "version": 2
   },
   "file_extension": ".py",
   "mimetype": "text/x-python",
   "name": "python",
   "nbconvert_exporter": "python",
   "pygments_lexer": "ipython2",
   "version": "2.7.6"
  }
 },
 "nbformat": 4,
 "nbformat_minor": 5
}
