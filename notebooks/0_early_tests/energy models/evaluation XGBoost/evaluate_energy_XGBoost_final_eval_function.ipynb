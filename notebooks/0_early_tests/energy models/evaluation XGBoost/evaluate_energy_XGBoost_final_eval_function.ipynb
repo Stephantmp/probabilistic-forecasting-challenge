{
 "cells": [
  {
   "cell_type": "code",
   "execution_count": 175,
   "id": "initial_id",
   "metadata": {
    "collapsed": true,
    "ExecuteTime": {
     "end_time": "2024-03-20T19:47:02.228189Z",
     "start_time": "2024-03-20T19:47:02.156244Z"
    }
   },
   "outputs": [],
   "source": [
    "from functions import get_energy,get_DAX,merge_submissions,check_submission\n",
    "from functions.prepare_data import split_time\n",
    "from functions.evaluation import evaluate_horizon\n",
    "from tqdm import tqdm\n",
    "from functions import evaluate_energy\n",
    "from models.energy.energy_models import energy_baseline,energy_LSTM, energy_XGBoost, energy_quantile_regression"
   ]
  },
  {
   "cell_type": "code",
   "execution_count": 2,
   "outputs": [
    {
     "name": "stderr",
     "output_type": "stream",
     "text": [
      "  0%|          | 0/274 [00:00<?, ?it/s]/Users/stephantimpe/PycharmProjects/probabilistic-forecasting-challenge/functions/get_energy.py:28: FutureWarning: The behavior of DataFrame concatenation with empty or all-NA entries is deprecated. In a future version, this will no longer exclude empty or all-NA columns when determining the result dtypes. To retain the old behavior, exclude the relevant entries before the concat operation.\n",
      "  energydata = pd.concat([energydata, pd.DataFrame(rawdata, columns=col_names)])\n",
      "100%|██████████| 274/274 [00:30<00:00,  9.09it/s]\n"
     ]
    }
   ],
   "source": [
    "# Load data\n",
    "energydata= get_energy.get()"
   ],
   "metadata": {
    "collapsed": false,
    "ExecuteTime": {
     "end_time": "2024-03-18T17:01:03.211671Z",
     "start_time": "2024-03-18T17:00:32.849601Z"
    }
   },
   "id": "e510fa77e870341e"
  },
  {
   "cell_type": "code",
   "execution_count": 33,
   "outputs": [
    {
     "data": {
      "text/plain": "                             gesamt  weekday\ndate_time                                   \n2018-12-24 00:00:00+01:00  42.02925        0\n2018-12-24 01:00:00+01:00  39.61025        0\n2018-12-24 02:00:00+01:00  39.13875        0\n2018-12-24 03:00:00+01:00  39.42100        0\n2018-12-24 04:00:00+01:00  40.74775        0\n...                             ...      ...\n2024-03-18 11:00:00+01:00  65.05950        0\n2024-03-18 12:00:00+01:00  64.95550        0\n2024-03-18 13:00:00+01:00  63.52025        0\n2024-03-18 14:00:00+01:00  62.17250        0\n2024-03-18 15:00:00+01:00  30.59850        0\n\n[45880 rows x 2 columns]",
      "text/html": "<div>\n<style scoped>\n    .dataframe tbody tr th:only-of-type {\n        vertical-align: middle;\n    }\n\n    .dataframe tbody tr th {\n        vertical-align: top;\n    }\n\n    .dataframe thead th {\n        text-align: right;\n    }\n</style>\n<table border=\"1\" class=\"dataframe\">\n  <thead>\n    <tr style=\"text-align: right;\">\n      <th></th>\n      <th>gesamt</th>\n      <th>weekday</th>\n    </tr>\n    <tr>\n      <th>date_time</th>\n      <th></th>\n      <th></th>\n    </tr>\n  </thead>\n  <tbody>\n    <tr>\n      <th>2018-12-24 00:00:00+01:00</th>\n      <td>42.02925</td>\n      <td>0</td>\n    </tr>\n    <tr>\n      <th>2018-12-24 01:00:00+01:00</th>\n      <td>39.61025</td>\n      <td>0</td>\n    </tr>\n    <tr>\n      <th>2018-12-24 02:00:00+01:00</th>\n      <td>39.13875</td>\n      <td>0</td>\n    </tr>\n    <tr>\n      <th>2018-12-24 03:00:00+01:00</th>\n      <td>39.42100</td>\n      <td>0</td>\n    </tr>\n    <tr>\n      <th>2018-12-24 04:00:00+01:00</th>\n      <td>40.74775</td>\n      <td>0</td>\n    </tr>\n    <tr>\n      <th>...</th>\n      <td>...</td>\n      <td>...</td>\n    </tr>\n    <tr>\n      <th>2024-03-18 11:00:00+01:00</th>\n      <td>65.05950</td>\n      <td>0</td>\n    </tr>\n    <tr>\n      <th>2024-03-18 12:00:00+01:00</th>\n      <td>64.95550</td>\n      <td>0</td>\n    </tr>\n    <tr>\n      <th>2024-03-18 13:00:00+01:00</th>\n      <td>63.52025</td>\n      <td>0</td>\n    </tr>\n    <tr>\n      <th>2024-03-18 14:00:00+01:00</th>\n      <td>62.17250</td>\n      <td>0</td>\n    </tr>\n    <tr>\n      <th>2024-03-18 15:00:00+01:00</th>\n      <td>30.59850</td>\n      <td>0</td>\n    </tr>\n  </tbody>\n</table>\n<p>45880 rows × 2 columns</p>\n</div>"
     },
     "execution_count": 33,
     "metadata": {},
     "output_type": "execute_result"
    }
   ],
   "source": [
    "energydata"
   ],
   "metadata": {
    "collapsed": false,
    "ExecuteTime": {
     "end_time": "2024-03-18T17:34:38.117728Z",
     "start_time": "2024-03-18T17:34:38.110798Z"
    }
   },
   "id": "3c7f8c72becd845b"
  },
  {
   "cell_type": "code",
   "execution_count": 3,
   "outputs": [
    {
     "data": {
      "text/plain": "            gesamt\nweekday           \n0        57.018630\n1        58.818291\n2        58.937657\n3        58.671360\n4        57.528987\n5        50.051928\n6        46.875149",
      "text/html": "<div>\n<style scoped>\n    .dataframe tbody tr th:only-of-type {\n        vertical-align: middle;\n    }\n\n    .dataframe tbody tr th {\n        vertical-align: top;\n    }\n\n    .dataframe thead th {\n        text-align: right;\n    }\n</style>\n<table border=\"1\" class=\"dataframe\">\n  <thead>\n    <tr style=\"text-align: right;\">\n      <th></th>\n      <th>gesamt</th>\n    </tr>\n    <tr>\n      <th>weekday</th>\n      <th></th>\n    </tr>\n  </thead>\n  <tbody>\n    <tr>\n      <th>0</th>\n      <td>57.018630</td>\n    </tr>\n    <tr>\n      <th>1</th>\n      <td>58.818291</td>\n    </tr>\n    <tr>\n      <th>2</th>\n      <td>58.937657</td>\n    </tr>\n    <tr>\n      <th>3</th>\n      <td>58.671360</td>\n    </tr>\n    <tr>\n      <th>4</th>\n      <td>57.528987</td>\n    </tr>\n    <tr>\n      <th>5</th>\n      <td>50.051928</td>\n    </tr>\n    <tr>\n      <th>6</th>\n      <td>46.875149</td>\n    </tr>\n  </tbody>\n</table>\n</div>"
     },
     "execution_count": 3,
     "metadata": {},
     "output_type": "execute_result"
    }
   ],
   "source": [
    "# get mean gesamt of energy data by weekday\n",
    "energydata.groupby('weekday').mean()"
   ],
   "metadata": {
    "collapsed": false,
    "ExecuteTime": {
     "end_time": "2024-03-18T17:01:03.225029Z",
     "start_time": "2024-03-18T17:01:03.214712Z"
    }
   },
   "id": "dc28a31fa6231e1f"
  },
  {
   "cell_type": "code",
   "execution_count": 4,
   "outputs": [],
   "source": [
    "Regression_model = {\n",
    "    'name': 'Energy QuantReg',\n",
    "    'function': energy_quantile_regression\n",
    "}\n",
    "XGB_model = {\n",
    "    'name': 'XGBoost',\n",
    "    'function': energy_XGBoost\n",
    "}\n",
    "baseline_model = {\n",
    "    'name': 'Baseline',\n",
    "    'function': energy_baseline\n",
    "}\n",
    "LSTM_model = {\n",
    "    'name': 'LSTM',\n",
    "    'function': energy_LSTM\n",
    "}\n",
    "\n"
   ],
   "metadata": {
    "collapsed": false,
    "ExecuteTime": {
     "end_time": "2024-03-18T17:01:03.230803Z",
     "start_time": "2024-03-18T17:01:03.225665Z"
    }
   },
   "id": "55c2b6c3989ca3a"
  },
  {
   "cell_type": "code",
   "execution_count": 5,
   "outputs": [
    {
     "name": "stderr",
     "output_type": "stream",
     "text": [
      "/Users/stephantimpe/PycharmProjects/probabilistic-forecasting-challenge/models/energy/energy_models.py:249: SettingWithCopyWarning: \n",
      "A value is trying to be set on a copy of a slice from a DataFrame.\n",
      "Try using .loc[row_indexer,col_indexer] = value instead\n",
      "\n",
      "See the caveats in the documentation: https://pandas.pydata.org/pandas-docs/stable/user_guide/indexing.html#returning-a-view-versus-a-copy\n",
      "  df['month'] = df.index.month\n",
      "/Users/stephantimpe/PycharmProjects/probabilistic-forecasting-challenge/models/energy/energy_models.py:250: SettingWithCopyWarning: \n",
      "A value is trying to be set on a copy of a slice from a DataFrame.\n",
      "Try using .loc[row_indexer,col_indexer] = value instead\n",
      "\n",
      "See the caveats in the documentation: https://pandas.pydata.org/pandas-docs/stable/user_guide/indexing.html#returning-a-view-versus-a-copy\n",
      "  df['hour'] = df.index.hour\n"
     ]
    },
    {
     "name": "stdout",
     "output_type": "stream",
     "text": [
      "                         QuantReg Regression Results                          \n",
      "==============================================================================\n",
      "Dep. Variable:                 gesamt   Pseudo R-squared:               0.5276\n",
      "Model:                       QuantReg   Bandwidth:                      0.7852\n",
      "Method:                 Least Squares   Sparsity:                        11.61\n",
      "Date:                Mon, 18 Mar 2024   No. Observations:                27304\n",
      "Time:                        18:01:17   Df Residuals:                    27268\n",
      "                                        Df Model:                           35\n",
      "==============================================================================\n",
      "                 coef    std err          t      P>|t|      [0.025      0.975]\n",
      "------------------------------------------------------------------------------\n",
      "const         59.9149      0.206    290.529      0.000      59.511      60.319\n",
      "weekday       -1.8724      0.018   -106.646      0.000      -1.907      -1.838\n",
      "month_2       -0.0659      0.166     -0.398      0.691      -0.391       0.259\n",
      "month_3       -3.6088      0.162    -22.256      0.000      -3.927      -3.291\n",
      "month_4       -8.3276      0.164    -50.760      0.000      -8.649      -8.006\n",
      "month_5       -9.5639      0.163    -58.851      0.000      -9.882      -9.245\n",
      "month_6       -9.3753      0.164    -57.148      0.000      -9.697      -9.054\n",
      "month_7       -8.6637      0.163    -53.311      0.000      -8.982      -8.345\n",
      "month_8       -9.5404      0.163    -58.707      0.000      -9.859      -9.222\n",
      "month_9       -7.9357      0.164    -48.373      0.000      -8.257      -7.614\n",
      "month_10      -4.7701      0.163    -29.342      0.000      -5.089      -4.451\n",
      "month_11      -2.2591      0.164    -13.771      0.000      -2.581      -1.938\n",
      "month_12      -3.8988      0.159    -24.552      0.000      -4.210      -3.588\n",
      "hour_1        -1.7635      0.243     -7.247      0.000      -2.240      -1.287\n",
      "hour_2        -2.6707      0.244    -10.960      0.000      -3.148      -2.193\n",
      "hour_3        -2.7639      0.242    -11.409      0.000      -3.239      -2.289\n",
      "hour_4        -2.0199      0.243     -8.300      0.000      -2.497      -1.543\n",
      "hour_5        -0.1613      0.243     -0.663      0.507      -0.638       0.316\n",
      "hour_6         4.9833      0.243     20.478      0.000       4.506       5.460\n",
      "hour_7        10.2119      0.243     41.963      0.000       9.735      10.689\n",
      "hour_8        13.2494      0.243     54.445      0.000      12.772      13.726\n",
      "hour_9        14.3148      0.243     58.823      0.000      13.838      14.792\n",
      "hour_10       15.4526      0.243     63.498      0.000      14.976      15.930\n",
      "hour_11       16.5073      0.243     67.832      0.000      16.030      16.984\n",
      "hour_12       16.1042      0.243     66.176      0.000      15.627      16.581\n",
      "hour_13       15.1268      0.243     62.159      0.000      14.650      15.604\n",
      "hour_14       13.8422      0.243     56.881      0.000      13.365      14.319\n",
      "hour_15       12.9136      0.243     53.065      0.000      12.437      13.391\n",
      "hour_16       12.2191      0.243     50.211      0.000      11.742      12.696\n",
      "hour_17       13.0617      0.243     53.673      0.000      12.585      13.539\n",
      "hour_18       13.6536      0.243     56.105      0.000      13.177      14.131\n",
      "hour_19       12.9082      0.243     53.042      0.000      12.431      13.385\n",
      "hour_20       10.4461      0.243     42.925      0.000       9.969      10.923\n",
      "hour_21        7.8931      0.243     32.434      0.000       7.416       8.370\n",
      "hour_22        5.6136      0.243     23.068      0.000       5.137       6.091\n",
      "hour_23        2.0105      0.243      8.262      0.000       1.534       2.488\n",
      "==============================================================================\n",
      "   const  weekday  month_2  month_3  month_4  month_5  month_6  month_7  \\\n",
      "0    1.0        4        0        0        0        0        0        0   \n",
      "1    1.0        4        0        0        0        0        0        0   \n",
      "2    1.0        4        0        0        0        0        0        0   \n",
      "3    1.0        5        0        0        0        0        0        0   \n",
      "4    1.0        5        0        0        0        0        0        0   \n",
      "5    1.0        5        0        0        0        0        0        0   \n",
      "\n",
      "   month_8  month_9  ...  hour_14  hour_15  hour_16  hour_17  hour_18  \\\n",
      "0        0        0  ...        0        0        0    False        0   \n",
      "1        0        0  ...        0        0        0     True        0   \n",
      "2        0        0  ...        0        0        0    False        0   \n",
      "3        0        0  ...        0        0        0    False        0   \n",
      "4        0        0  ...        0        0        0     True        0   \n",
      "5        0        0  ...        0        0        0    False        0   \n",
      "\n",
      "   hour_19  hour_20  hour_21  hour_22  hour_23  \n",
      "0        0        0    False        0        0  \n",
      "1        0        0    False        0        0  \n",
      "2        0        0     True        0        0  \n",
      "3        0        0    False        0        0  \n",
      "4        0        0    False        0        0  \n",
      "5        0        0     True        0        0  \n",
      "\n",
      "[6 rows x 36 columns]\n",
      "   const  weekday  month_2  month_3  month_4  month_5  month_6  month_7  \\\n",
      "0    1.0        4        0        0        0        0        0        0   \n",
      "1    1.0        4        0        0        0        0        0        0   \n",
      "2    1.0        4        0        0        0        0        0        0   \n",
      "3    1.0        5        0        0        0        0        0        0   \n",
      "4    1.0        5        0        0        0        0        0        0   \n",
      "5    1.0        5        0        0        0        0        0        0   \n",
      "\n",
      "   month_8  month_9  ...  hour_19  hour_20  hour_21  hour_22  hour_23  \\\n",
      "0        0        0  ...        0        0    False        0        0   \n",
      "1        0        0  ...        0        0    False        0        0   \n",
      "2        0        0  ...        0        0     True        0        0   \n",
      "3        0        0  ...        0        0    False        0        0   \n",
      "4        0        0  ...        0        0    False        0        0   \n",
      "5        0        0  ...        0        0     True        0        0   \n",
      "\n",
      "   prediction_q0.025  prediction_q0.25  prediction_q0.5  prediction_q0.75  \\\n",
      "0          40.025502         48.380315        52.425257          55.05325   \n",
      "1          51.148251         61.501999        65.487005          70.10775   \n",
      "2           50.02725         57.638251        60.318325         63.516001   \n",
      "3          39.033502         46.368065        50.552842          53.74025   \n",
      "4          50.156251         59.489749         63.61459          68.79475   \n",
      "5          49.035251         55.626001         58.44591         62.203001   \n",
      "\n",
      "   prediction_q0.975  \n",
      "0           57.79041  \n",
      "1          74.568205  \n",
      "2          66.703303  \n",
      "3          57.003258  \n",
      "4          73.781053  \n",
      "5          65.916151  \n",
      "\n",
      "[6 rows x 41 columns]\n"
     ]
    },
    {
     "name": "stderr",
     "output_type": "stream",
     "text": [
      "/Users/stephantimpe/PycharmProjects/probabilistic-forecasting-challenge/models/energy/energy_models.py:249: SettingWithCopyWarning: \n",
      "A value is trying to be set on a copy of a slice from a DataFrame.\n",
      "Try using .loc[row_indexer,col_indexer] = value instead\n",
      "\n",
      "See the caveats in the documentation: https://pandas.pydata.org/pandas-docs/stable/user_guide/indexing.html#returning-a-view-versus-a-copy\n",
      "  df['month'] = df.index.month\n",
      "/Users/stephantimpe/PycharmProjects/probabilistic-forecasting-challenge/models/energy/energy_models.py:250: SettingWithCopyWarning: \n",
      "A value is trying to be set on a copy of a slice from a DataFrame.\n",
      "Try using .loc[row_indexer,col_indexer] = value instead\n",
      "\n",
      "See the caveats in the documentation: https://pandas.pydata.org/pandas-docs/stable/user_guide/indexing.html#returning-a-view-versus-a-copy\n",
      "  df['hour'] = df.index.hour\n"
     ]
    },
    {
     "name": "stdout",
     "output_type": "stream",
     "text": [
      "                         QuantReg Regression Results                          \n",
      "==============================================================================\n",
      "Dep. Variable:                 gesamt   Pseudo R-squared:               0.5286\n",
      "Model:                       QuantReg   Bandwidth:                      0.7820\n",
      "Method:                 Least Squares   Sparsity:                        11.60\n",
      "Date:                Mon, 18 Mar 2024   No. Observations:                27472\n",
      "Time:                        18:01:34   Df Residuals:                    27436\n",
      "                                        Df Model:                           35\n",
      "==============================================================================\n",
      "                 coef    std err          t      P>|t|      [0.025      0.975]\n",
      "------------------------------------------------------------------------------\n",
      "const         59.8912      0.206    291.188      0.000      59.488      60.294\n",
      "weekday       -1.8694      0.017   -106.844      0.000      -1.904      -1.835\n",
      "month_2        0.0462      0.162      0.286      0.775      -0.271       0.364\n",
      "month_3       -3.6196      0.162    -22.333      0.000      -3.937      -3.302\n",
      "month_4       -8.3349      0.164    -50.826      0.000      -8.656      -8.013\n",
      "month_5       -9.5569      0.162    -58.832      0.000      -9.875      -9.238\n",
      "month_6       -9.3833      0.164    -57.220      0.000      -9.705      -9.062\n",
      "month_7       -8.6716      0.162    -53.382      0.000      -8.990      -8.353\n",
      "month_8       -9.5393      0.162    -58.724      0.000      -9.858      -9.221\n",
      "month_9       -7.9400      0.164    -48.418      0.000      -8.261      -7.619\n",
      "month_10      -4.7729      0.163    -29.371      0.000      -5.091      -4.454\n",
      "month_11      -2.2621      0.164    -13.795      0.000      -2.584      -1.941\n",
      "month_12      -3.9026      0.159    -24.586      0.000      -4.214      -3.591\n",
      "hour_1        -1.7644      0.243     -7.276      0.000      -2.240      -1.289\n",
      "hour_2        -2.6462      0.243    -10.898      0.000      -3.122      -2.170\n",
      "hour_3        -2.7491      0.241    -11.387      0.000      -3.222      -2.276\n",
      "hour_4        -1.9996      0.243     -8.246      0.000      -2.475      -1.524\n",
      "hour_5        -0.1395      0.243     -0.575      0.565      -0.615       0.336\n",
      "hour_6         5.0070      0.243     20.647      0.000       4.532       5.482\n",
      "hour_7        10.2461      0.243     42.250      0.000       9.771      10.721\n",
      "hour_8        13.2588      0.243     54.673      0.000      12.783      13.734\n",
      "hour_9        14.3356      0.243     59.113      0.000      13.860      14.811\n",
      "hour_10       15.4618      0.243     63.757      0.000      14.986      15.937\n",
      "hour_11       16.4741      0.243     67.932      0.000      15.999      16.949\n",
      "hour_12       16.1249      0.243     66.492      0.000      15.650      16.600\n",
      "hour_13       15.1309      0.243     62.393      0.000      14.656      15.606\n",
      "hour_14       13.8584      0.243     57.145      0.000      13.383      14.334\n",
      "hour_15       12.9209      0.243     53.280      0.000      12.446      13.396\n",
      "hour_16       12.2154      0.243     50.371      0.000      11.740      12.691\n",
      "hour_17       13.0933      0.243     53.990      0.000      12.618      13.569\n",
      "hour_18       13.6779      0.243     56.401      0.000      13.203      14.153\n",
      "hour_19       12.9399      0.243     53.358      0.000      12.465      13.415\n",
      "hour_20       10.4575      0.243     43.122      0.000       9.982      10.933\n",
      "hour_21        7.8965      0.243     32.561      0.000       7.421       8.372\n",
      "hour_22        5.6257      0.243     23.198      0.000       5.150       6.101\n",
      "hour_23        2.0218      0.243      8.337      0.000       1.546       2.497\n",
      "==============================================================================\n",
      "   const  weekday  month_2  month_3  month_4  month_5  month_6  month_7  \\\n",
      "0    1.0        4        0        0        0        0        0        0   \n",
      "1    1.0        4        0        0        0        0        0        0   \n",
      "2    1.0        4        0        0        0        0        0        0   \n",
      "3    1.0        5        0        0        0        0        0        0   \n",
      "4    1.0        5        0        0        0        0        0        0   \n",
      "5    1.0        5        0        0        0        0        0        0   \n",
      "\n",
      "   month_8  month_9  ...  hour_14  hour_15  hour_16  hour_17  hour_18  \\\n",
      "0        0        0  ...        0        0        0    False        0   \n",
      "1        0        0  ...        0        0        0     True        0   \n",
      "2        0        0  ...        0        0        0    False        0   \n",
      "3        0        0  ...        0        0        0    False        0   \n",
      "4        0        0  ...        0        0        0     True        0   \n",
      "5        0        0  ...        0        0        0    False        0   \n",
      "\n",
      "   hour_19  hour_20  hour_21  hour_22  hour_23  \n",
      "0        0        0    False        0        0  \n",
      "1        0        0    False        0        0  \n",
      "2        0        0     True        0        0  \n",
      "3        0        0    False        0        0  \n",
      "4        0        0    False        0        0  \n",
      "5        0        0     True        0        0  \n",
      "\n",
      "[6 rows x 36 columns]\n",
      "   const  weekday  month_2  month_3  month_4  month_5  month_6  month_7  \\\n",
      "0    1.0        4        0        0        0        0        0        0   \n",
      "1    1.0        4        0        0        0        0        0        0   \n",
      "2    1.0        4        0        0        0        0        0        0   \n",
      "3    1.0        5        0        0        0        0        0        0   \n",
      "4    1.0        5        0        0        0        0        0        0   \n",
      "5    1.0        5        0        0        0        0        0        0   \n",
      "\n",
      "   month_8  month_9  ...  hour_19  hour_20  hour_21  hour_22  hour_23  \\\n",
      "0        0        0  ...        0        0    False        0        0   \n",
      "1        0        0  ...        0        0    False        0        0   \n",
      "2        0        0  ...        0        0     True        0        0   \n",
      "3        0        0  ...        0        0    False        0        0   \n",
      "4        0        0  ...        0        0    False        0        0   \n",
      "5        0        0  ...        0        0     True        0        0   \n",
      "\n",
      "   prediction_q0.025  prediction_q0.25  prediction_q0.5  prediction_q0.75  \\\n",
      "0          40.008292         48.389077        52.413753         55.038963   \n",
      "1          51.182817         61.504354        65.507005         70.142218   \n",
      "2          50.061817         57.638136        60.310206         63.513447   \n",
      "3          39.011334         46.376798         50.54438         53.729176   \n",
      "4          50.185859         59.492075        63.637632         68.832432   \n",
      "5          49.064859         55.625857        58.440832          62.20366   \n",
      "\n",
      "   prediction_q0.975  \n",
      "0           57.76265  \n",
      "1          74.558749  \n",
      "2           66.70385  \n",
      "3          56.981599  \n",
      "4          73.777699  \n",
      "5            65.9228  \n",
      "\n",
      "[6 rows x 41 columns]\n"
     ]
    },
    {
     "name": "stderr",
     "output_type": "stream",
     "text": [
      "/Users/stephantimpe/PycharmProjects/probabilistic-forecasting-challenge/models/energy/energy_models.py:249: SettingWithCopyWarning: \n",
      "A value is trying to be set on a copy of a slice from a DataFrame.\n",
      "Try using .loc[row_indexer,col_indexer] = value instead\n",
      "\n",
      "See the caveats in the documentation: https://pandas.pydata.org/pandas-docs/stable/user_guide/indexing.html#returning-a-view-versus-a-copy\n",
      "  df['month'] = df.index.month\n",
      "/Users/stephantimpe/PycharmProjects/probabilistic-forecasting-challenge/models/energy/energy_models.py:250: SettingWithCopyWarning: \n",
      "A value is trying to be set on a copy of a slice from a DataFrame.\n",
      "Try using .loc[row_indexer,col_indexer] = value instead\n",
      "\n",
      "See the caveats in the documentation: https://pandas.pydata.org/pandas-docs/stable/user_guide/indexing.html#returning-a-view-versus-a-copy\n",
      "  df['hour'] = df.index.hour\n"
     ]
    },
    {
     "name": "stdout",
     "output_type": "stream",
     "text": [
      "                         QuantReg Regression Results                          \n",
      "==============================================================================\n",
      "Dep. Variable:                 gesamt   Pseudo R-squared:               0.5294\n",
      "Model:                       QuantReg   Bandwidth:                      0.7793\n",
      "Method:                 Least Squares   Sparsity:                        11.56\n",
      "Date:                Mon, 18 Mar 2024   No. Observations:                27640\n",
      "Time:                        18:01:45   Df Residuals:                    27604\n",
      "                                        Df Model:                           35\n",
      "==============================================================================\n",
      "                 coef    std err          t      P>|t|      [0.025      0.975]\n",
      "------------------------------------------------------------------------------\n",
      "const         59.8777      0.204    292.955      0.000      59.477      60.278\n",
      "weekday       -1.8626      0.017   -107.214      0.000      -1.897      -1.829\n",
      "month_2        0.1245      0.158      0.788      0.431      -0.185       0.434\n",
      "month_3       -3.6339      0.161    -22.512      0.000      -3.950      -3.318\n",
      "month_4       -8.3359      0.163    -51.038      0.000      -8.656      -8.016\n",
      "month_5       -9.5562      0.162    -59.067      0.000      -9.873      -9.239\n",
      "month_6       -9.4026      0.163    -57.571      0.000      -9.723      -9.083\n",
      "month_7       -8.6742      0.162    -53.614      0.000      -8.991      -8.357\n",
      "month_8       -9.5487      0.162    -59.021      0.000      -9.866      -9.232\n",
      "month_9       -7.9425      0.163    -48.630      0.000      -8.263      -7.622\n",
      "month_10      -4.7953      0.162    -29.629      0.000      -5.113      -4.478\n",
      "month_11      -2.2620      0.163    -13.850      0.000      -2.582      -1.942\n",
      "month_12      -3.9035      0.158    -24.691      0.000      -4.213      -3.594\n",
      "hour_1        -1.7589      0.241     -7.305      0.000      -2.231      -1.287\n",
      "hour_2        -2.6531      0.241    -11.004      0.000      -3.126      -2.181\n",
      "hour_3        -2.7738      0.240    -11.571      0.000      -3.244      -2.304\n",
      "hour_4        -2.0125      0.241     -8.358      0.000      -2.484      -1.541\n",
      "hour_5        -0.1585      0.241     -0.658      0.510      -0.630       0.313\n",
      "hour_6         5.0137      0.241     20.821      0.000       4.542       5.486\n",
      "hour_7        10.2829      0.241     42.704      0.000       9.811      10.755\n",
      "hour_8        13.2851      0.241     55.172      0.000      12.813      13.757\n",
      "hour_9        14.3334      0.241     59.525      0.000      13.861      14.805\n",
      "hour_10       15.4603      0.241     64.205      0.000      14.988      15.932\n",
      "hour_11       16.4764      0.241     68.425      0.000      16.004      16.948\n",
      "hour_12       16.1371      0.241     67.016      0.000      15.665      16.609\n",
      "hour_13       15.1308      0.241     62.837      0.000      14.659      15.603\n",
      "hour_14       13.8323      0.241     57.444      0.000      13.360      14.304\n",
      "hour_15       12.9170      0.241     53.643      0.000      12.445      13.389\n",
      "hour_16       12.1979      0.241     50.657      0.000      11.726      12.670\n",
      "hour_17       13.1029      0.241     54.415      0.000      12.631      13.575\n",
      "hour_18       13.6941      0.241     56.870      0.000      13.222      14.166\n",
      "hour_19       12.9727      0.241     53.874      0.000      12.501      13.445\n",
      "hour_20       10.4601      0.241     43.440      0.000       9.988      10.932\n",
      "hour_21        7.9067      0.241     32.836      0.000       7.435       8.379\n",
      "hour_22        5.6306      0.241     23.383      0.000       5.159       6.103\n",
      "hour_23        2.0282      0.241      8.423      0.000       1.556       2.500\n",
      "==============================================================================\n",
      "   const  weekday  month_2  month_3  month_4  month_5  month_6  month_7  \\\n",
      "0    1.0        4        0        0        0        0        0        0   \n",
      "1    1.0        4        0        0        0        0        0        0   \n",
      "2    1.0        4        0        0        0        0        0        0   \n",
      "3    1.0        5        0        0        0        0        0        0   \n",
      "4    1.0        5        0        0        0        0        0        0   \n",
      "5    1.0        5        0        0        0        0        0        0   \n",
      "\n",
      "   month_8  month_9  ...  hour_14  hour_15  hour_16  hour_17  hour_18  \\\n",
      "0        0        0  ...        0        0        0    False        0   \n",
      "1        0        0  ...        0        0        0     True        0   \n",
      "2        0        0  ...        0        0        0    False        0   \n",
      "3        0        0  ...        0        0        0    False        0   \n",
      "4        0        0  ...        0        0        0     True        0   \n",
      "5        0        0  ...        0        0        0    False        0   \n",
      "\n",
      "   hour_19  hour_20  hour_21  hour_22  hour_23  \n",
      "0        0        0    False        0        0  \n",
      "1        0        0    False        0        0  \n",
      "2        0        0     True        0        0  \n",
      "3        0        0    False        0        0  \n",
      "4        0        0    False        0        0  \n",
      "5        0        0     True        0        0  \n",
      "\n",
      "[6 rows x 36 columns]\n",
      "   const  weekday  month_2  month_3  month_4  month_5  month_6  month_7  \\\n",
      "0    1.0        4        0        0        0        0        0        0   \n",
      "1    1.0        4        0        0        0        0        0        0   \n",
      "2    1.0        4        0        0        0        0        0        0   \n",
      "3    1.0        5        0        0        0        0        0        0   \n",
      "4    1.0        5        0        0        0        0        0        0   \n",
      "5    1.0        5        0        0        0        0        0        0   \n",
      "\n",
      "   month_8  month_9  ...  hour_19  hour_20  hour_21  hour_22  hour_23  \\\n",
      "0        0        0  ...        0        0    False        0        0   \n",
      "1        0        0  ...        0        0    False        0        0   \n",
      "2        0        0  ...        0        0     True        0        0   \n",
      "3        0        0  ...        0        0    False        0        0   \n",
      "4        0        0  ...        0        0    False        0        0   \n",
      "5        0        0  ...        0        0     True        0        0   \n",
      "\n",
      "   prediction_q0.025  prediction_q0.25  prediction_q0.5  prediction_q0.75  \\\n",
      "0          40.008286          48.38147        52.427334         55.047321   \n",
      "1          51.143286         61.506694        65.530223         70.156463   \n",
      "2          50.060285         57.628474        60.334001         63.537319   \n",
      "3          39.008988         46.366776        50.564752         53.740249   \n",
      "4          50.143988            59.492        63.667641         68.849392   \n",
      "5          49.060988          55.61378        58.471419         62.230247   \n",
      "\n",
      "   prediction_q0.975  \n",
      "0          57.775186  \n",
      "1          74.563747  \n",
      "2          66.713874  \n",
      "3          56.991623  \n",
      "4          73.780185  \n",
      "5          65.930311  \n",
      "\n",
      "[6 rows x 41 columns]\n"
     ]
    },
    {
     "name": "stderr",
     "output_type": "stream",
     "text": [
      "/Users/stephantimpe/PycharmProjects/probabilistic-forecasting-challenge/models/energy/energy_models.py:249: SettingWithCopyWarning: \n",
      "A value is trying to be set on a copy of a slice from a DataFrame.\n",
      "Try using .loc[row_indexer,col_indexer] = value instead\n",
      "\n",
      "See the caveats in the documentation: https://pandas.pydata.org/pandas-docs/stable/user_guide/indexing.html#returning-a-view-versus-a-copy\n",
      "  df['month'] = df.index.month\n",
      "/Users/stephantimpe/PycharmProjects/probabilistic-forecasting-challenge/models/energy/energy_models.py:250: SettingWithCopyWarning: \n",
      "A value is trying to be set on a copy of a slice from a DataFrame.\n",
      "Try using .loc[row_indexer,col_indexer] = value instead\n",
      "\n",
      "See the caveats in the documentation: https://pandas.pydata.org/pandas-docs/stable/user_guide/indexing.html#returning-a-view-versus-a-copy\n",
      "  df['hour'] = df.index.hour\n"
     ]
    },
    {
     "name": "stdout",
     "output_type": "stream",
     "text": [
      "                         QuantReg Regression Results                          \n",
      "==============================================================================\n",
      "Dep. Variable:                 gesamt   Pseudo R-squared:               0.5304\n",
      "Model:                       QuantReg   Bandwidth:                      0.7770\n",
      "Method:                 Least Squares   Sparsity:                        11.56\n",
      "Date:                Mon, 18 Mar 2024   No. Observations:                27808\n",
      "Time:                        18:02:02   Df Residuals:                    27772\n",
      "                                        Df Model:                           35\n",
      "==============================================================================\n",
      "                 coef    std err          t      P>|t|      [0.025      0.975]\n",
      "------------------------------------------------------------------------------\n",
      "const         59.8796      0.204    293.472      0.000      59.480      60.280\n",
      "weekday       -1.8636      0.017   -107.543      0.000      -1.898      -1.830\n",
      "month_2        0.1162      0.155      0.748      0.454      -0.188       0.421\n",
      "month_3       -3.6393      0.162    -22.534      0.000      -3.956      -3.323\n",
      "month_4       -8.3296      0.163    -50.975      0.000      -8.650      -8.009\n",
      "month_5       -9.5552      0.162    -59.032      0.000      -9.872      -9.238\n",
      "month_6       -9.4062      0.163    -57.565      0.000      -9.727      -9.086\n",
      "month_7       -8.6734      0.162    -53.583      0.000      -8.991      -8.356\n",
      "month_8       -9.5495      0.162    -58.998      0.000      -9.867      -9.232\n",
      "month_9       -7.9463      0.163    -48.630      0.000      -8.267      -7.626\n",
      "month_10      -4.7866      0.162    -29.561      0.000      -5.104      -4.469\n",
      "month_11      -2.2666      0.163    -13.871      0.000      -2.587      -1.946\n",
      "month_12      -3.9015      0.158    -24.666      0.000      -4.212      -3.591\n",
      "hour_1        -1.7646      0.240     -7.347      0.000      -2.235      -1.294\n",
      "hour_2        -2.6777      0.240    -11.134      0.000      -3.149      -2.206\n",
      "hour_3        -2.7707      0.239    -11.587      0.000      -3.239      -2.302\n",
      "hour_4        -2.0066      0.240     -8.355      0.000      -2.477      -1.536\n",
      "hour_5        -0.1538      0.240     -0.641      0.522      -0.625       0.317\n",
      "hour_6         5.0173      0.240     20.889      0.000       4.547       5.488\n",
      "hour_7        10.2857      0.240     42.824      0.000       9.815      10.756\n",
      "hour_8        13.2812      0.240     55.296      0.000      12.810      13.752\n",
      "hour_9        14.3332      0.240     59.676      0.000      13.862      14.804\n",
      "hour_10       15.4375      0.240     64.274      0.000      14.967      15.908\n",
      "hour_11       16.4729      0.240     68.585      0.000      16.002      16.944\n",
      "hour_12       16.1293      0.240     67.154      0.000      15.659      16.600\n",
      "hour_13       15.1177      0.240     62.942      0.000      14.647      15.588\n",
      "hour_14       13.8289      0.240     57.576      0.000      13.358      14.300\n",
      "hour_15       12.9141      0.240     53.768      0.000      12.443      13.385\n",
      "hour_16       12.1738      0.240     50.685      0.000      11.703      12.645\n",
      "hour_17       13.0981      0.240     54.534      0.000      12.627      13.569\n",
      "hour_18       13.7181      0.240     57.115      0.000      13.247      14.189\n",
      "hour_19       13.0093      0.240     54.164      0.000      12.539      13.480\n",
      "hour_20       10.4617      0.240     43.557      0.000       9.991      10.932\n",
      "hour_21        7.9219      0.240     32.983      0.000       7.451       8.393\n",
      "hour_22        5.6361      0.240     23.466      0.000       5.165       6.107\n",
      "hour_23        2.0264      0.240      8.437      0.000       1.556       2.497\n",
      "==============================================================================\n",
      "   const  weekday  month_2  month_3  month_4  month_5  month_6  month_7  \\\n",
      "0    1.0        4        0        0        0        0        0        0   \n",
      "1    1.0        4        0        0        0        0        0        0   \n",
      "2    1.0        4        0        0        0        0        0        0   \n",
      "3    1.0        5        0        0        0        0        0        0   \n",
      "4    1.0        5        0        0        0        0        0        0   \n",
      "5    1.0        5        0        0        0        0        0        0   \n",
      "\n",
      "   month_8  month_9  ...  hour_14  hour_15  hour_16  hour_17  hour_18  \\\n",
      "0        0        0  ...        0        0        0    False        0   \n",
      "1        0        0  ...        0        0        0     True        0   \n",
      "2        0        0  ...        0        0        0    False        0   \n",
      "3        0        0  ...        0        0        0    False        0   \n",
      "4        0        0  ...        0        0        0     True        0   \n",
      "5        0        0  ...        0        0        0    False        0   \n",
      "\n",
      "   hour_19  hour_20  hour_21  hour_22  hour_23  \n",
      "0        0        0    False        0        0  \n",
      "1        0        0    False        0        0  \n",
      "2        0        0     True        0        0  \n",
      "3        0        0    False        0        0  \n",
      "4        0        0    False        0        0  \n",
      "5        0        0     True        0        0  \n",
      "\n",
      "[6 rows x 36 columns]\n",
      "   const  weekday  month_2  month_3  month_4  month_5  month_6  month_7  \\\n",
      "0    1.0        4        0        0        0        0        0        0   \n",
      "1    1.0        4        0        0        0        0        0        0   \n",
      "2    1.0        4        0        0        0        0        0        0   \n",
      "3    1.0        5        0        0        0        0        0        0   \n",
      "4    1.0        5        0        0        0        0        0        0   \n",
      "5    1.0        5        0        0        0        0        0        0   \n",
      "\n",
      "   month_8  month_9  ...  hour_19  hour_20  hour_21  hour_22  hour_23  \\\n",
      "0        0        0  ...        0        0    False        0        0   \n",
      "1        0        0  ...        0        0    False        0        0   \n",
      "2        0        0  ...        0        0     True        0        0   \n",
      "3        0        0  ...        0        0    False        0        0   \n",
      "4        0        0  ...        0        0    False        0        0   \n",
      "5        0        0  ...        0        0     True        0        0   \n",
      "\n",
      "   prediction_q0.025  prediction_q0.25  prediction_q0.5  prediction_q0.75  \\\n",
      "0          39.982502         48.385999        52.425393         55.046286   \n",
      "1          51.148942         61.547323        65.523467         70.146756   \n",
      "2          50.065941         57.632498        60.347279         63.500504   \n",
      "3          38.979752         46.369374        50.561839         53.740249   \n",
      "4          50.146192         59.530697        63.659913         68.840719   \n",
      "5          49.063192         55.615873        58.483725         62.194467   \n",
      "\n",
      "   prediction_q0.975  \n",
      "0          57.812062  \n",
      "1          74.600625  \n",
      "2          66.713937  \n",
      "3            57.0285  \n",
      "4          73.817062  \n",
      "5          65.930375  \n",
      "\n",
      "[6 rows x 41 columns]\n",
      "future_timestamps: [datetime.datetime(2022, 2, 5, 12, 0), datetime.datetime(2022, 2, 5, 16, 0), datetime.datetime(2022, 2, 5, 20, 0), datetime.datetime(2022, 2, 6, 12, 0), datetime.datetime(2022, 2, 6, 16, 0), datetime.datetime(2022, 2, 6, 20, 0)]\n",
      "future_timestamps: [datetime.datetime(2022, 2, 12, 12, 0), datetime.datetime(2022, 2, 12, 16, 0), datetime.datetime(2022, 2, 12, 20, 0), datetime.datetime(2022, 2, 13, 12, 0), datetime.datetime(2022, 2, 13, 16, 0), datetime.datetime(2022, 2, 13, 20, 0)]\n",
      "future_timestamps: [datetime.datetime(2022, 2, 19, 12, 0), datetime.datetime(2022, 2, 19, 16, 0), datetime.datetime(2022, 2, 19, 20, 0), datetime.datetime(2022, 2, 20, 12, 0), datetime.datetime(2022, 2, 20, 16, 0), datetime.datetime(2022, 2, 20, 20, 0)]\n",
      "future_timestamps: [datetime.datetime(2022, 2, 26, 12, 0), datetime.datetime(2022, 2, 26, 16, 0), datetime.datetime(2022, 2, 26, 20, 0), datetime.datetime(2022, 2, 27, 12, 0), datetime.datetime(2022, 2, 27, 16, 0), datetime.datetime(2022, 2, 27, 20, 0)]\n"
     ]
    },
    {
     "name": "stderr",
     "output_type": "stream",
     "text": [
      "/Users/stephantimpe/PycharmProjects/probabilistic-forecasting-challenge/models/energy/energy_models.py:44: SettingWithCopyWarning: \n",
      "A value is trying to be set on a copy of a slice from a DataFrame.\n",
      "Try using .loc[row_indexer,col_indexer] = value instead\n",
      "\n",
      "See the caveats in the documentation: https://pandas.pydata.org/pandas-docs/stable/user_guide/indexing.html#returning-a-view-versus-a-copy\n",
      "  df['month'] = df.index.month\n",
      "/Users/stephantimpe/PycharmProjects/probabilistic-forecasting-challenge/models/energy/energy_models.py:45: SettingWithCopyWarning: \n",
      "A value is trying to be set on a copy of a slice from a DataFrame.\n",
      "Try using .loc[row_indexer,col_indexer] = value instead\n",
      "\n",
      "See the caveats in the documentation: https://pandas.pydata.org/pandas-docs/stable/user_guide/indexing.html#returning-a-view-versus-a-copy\n",
      "  df['hour'] = df.index.hour\n",
      "/Users/stephantimpe/PycharmProjects/probabilistic-forecasting-challenge/models/energy/energy_models.py:44: SettingWithCopyWarning: \n",
      "A value is trying to be set on a copy of a slice from a DataFrame.\n",
      "Try using .loc[row_indexer,col_indexer] = value instead\n",
      "\n",
      "See the caveats in the documentation: https://pandas.pydata.org/pandas-docs/stable/user_guide/indexing.html#returning-a-view-versus-a-copy\n",
      "  df['month'] = df.index.month\n",
      "/Users/stephantimpe/PycharmProjects/probabilistic-forecasting-challenge/models/energy/energy_models.py:45: SettingWithCopyWarning: \n",
      "A value is trying to be set on a copy of a slice from a DataFrame.\n",
      "Try using .loc[row_indexer,col_indexer] = value instead\n",
      "\n",
      "See the caveats in the documentation: https://pandas.pydata.org/pandas-docs/stable/user_guide/indexing.html#returning-a-view-versus-a-copy\n",
      "  df['hour'] = df.index.hour\n",
      "/Users/stephantimpe/PycharmProjects/probabilistic-forecasting-challenge/models/energy/energy_models.py:44: SettingWithCopyWarning: \n",
      "A value is trying to be set on a copy of a slice from a DataFrame.\n",
      "Try using .loc[row_indexer,col_indexer] = value instead\n",
      "\n",
      "See the caveats in the documentation: https://pandas.pydata.org/pandas-docs/stable/user_guide/indexing.html#returning-a-view-versus-a-copy\n",
      "  df['month'] = df.index.month\n",
      "/Users/stephantimpe/PycharmProjects/probabilistic-forecasting-challenge/models/energy/energy_models.py:45: SettingWithCopyWarning: \n",
      "A value is trying to be set on a copy of a slice from a DataFrame.\n",
      "Try using .loc[row_indexer,col_indexer] = value instead\n",
      "\n",
      "See the caveats in the documentation: https://pandas.pydata.org/pandas-docs/stable/user_guide/indexing.html#returning-a-view-versus-a-copy\n",
      "  df['hour'] = df.index.hour\n",
      "/Users/stephantimpe/PycharmProjects/probabilistic-forecasting-challenge/models/energy/energy_models.py:44: SettingWithCopyWarning: \n",
      "A value is trying to be set on a copy of a slice from a DataFrame.\n",
      "Try using .loc[row_indexer,col_indexer] = value instead\n",
      "\n",
      "See the caveats in the documentation: https://pandas.pydata.org/pandas-docs/stable/user_guide/indexing.html#returning-a-view-versus-a-copy\n",
      "  df['month'] = df.index.month\n",
      "/Users/stephantimpe/PycharmProjects/probabilistic-forecasting-challenge/models/energy/energy_models.py:45: SettingWithCopyWarning: \n",
      "A value is trying to be set on a copy of a slice from a DataFrame.\n",
      "Try using .loc[row_indexer,col_indexer] = value instead\n",
      "\n",
      "See the caveats in the documentation: https://pandas.pydata.org/pandas-docs/stable/user_guide/indexing.html#returning-a-view-versus-a-copy\n",
      "  df['hour'] = df.index.hour\n",
      "2024-03-18 18:02:50.155483: I tensorflow/core/common_runtime/executor.cc:1197] [/device:CPU:0] (DEBUG INFO) Executor start aborting (this does not indicate an error and you can ignore this message): INVALID_ARGUMENT: You must feed a value for placeholder tensor 'gradients/split_2_grad/concat/split_2/split_dim' with dtype int32\n",
      "\t [[{{node gradients/split_2_grad/concat/split_2/split_dim}}]]\n",
      "2024-03-18 18:02:50.156494: I tensorflow/core/common_runtime/executor.cc:1197] [/device:CPU:0] (DEBUG INFO) Executor start aborting (this does not indicate an error and you can ignore this message): INVALID_ARGUMENT: You must feed a value for placeholder tensor 'gradients/split_grad/concat/split/split_dim' with dtype int32\n",
      "\t [[{{node gradients/split_grad/concat/split/split_dim}}]]\n",
      "2024-03-18 18:02:50.157127: I tensorflow/core/common_runtime/executor.cc:1197] [/device:CPU:0] (DEBUG INFO) Executor start aborting (this does not indicate an error and you can ignore this message): INVALID_ARGUMENT: You must feed a value for placeholder tensor 'gradients/split_1_grad/concat/split_1/split_dim' with dtype int32\n",
      "\t [[{{node gradients/split_1_grad/concat/split_1/split_dim}}]]\n",
      "2024-03-18 18:02:50.260474: I tensorflow/core/common_runtime/executor.cc:1197] [/device:CPU:0] (DEBUG INFO) Executor start aborting (this does not indicate an error and you can ignore this message): INVALID_ARGUMENT: You must feed a value for placeholder tensor 'gradients/split_2_grad/concat/split_2/split_dim' with dtype int32\n",
      "\t [[{{node gradients/split_2_grad/concat/split_2/split_dim}}]]\n",
      "2024-03-18 18:02:50.261127: I tensorflow/core/common_runtime/executor.cc:1197] [/device:CPU:0] (DEBUG INFO) Executor start aborting (this does not indicate an error and you can ignore this message): INVALID_ARGUMENT: You must feed a value for placeholder tensor 'gradients/split_grad/concat/split/split_dim' with dtype int32\n",
      "\t [[{{node gradients/split_grad/concat/split/split_dim}}]]\n",
      "2024-03-18 18:02:50.261718: I tensorflow/core/common_runtime/executor.cc:1197] [/device:CPU:0] (DEBUG INFO) Executor start aborting (this does not indicate an error and you can ignore this message): INVALID_ARGUMENT: You must feed a value for placeholder tensor 'gradients/split_1_grad/concat/split_1/split_dim' with dtype int32\n",
      "\t [[{{node gradients/split_1_grad/concat/split_1/split_dim}}]]\n",
      "2024-03-18 18:02:50.330143: W tensorflow/tsl/platform/profile_utils/cpu_utils.cc:128] Failed to get CPU frequency: 0 Hz\n"
     ]
    },
    {
     "name": "stdout",
     "output_type": "stream",
     "text": [
      "Epoch 1/10\n"
     ]
    },
    {
     "name": "stderr",
     "output_type": "stream",
     "text": [
      "2024-03-18 18:02:50.493561: I tensorflow/core/common_runtime/executor.cc:1197] [/device:CPU:0] (DEBUG INFO) Executor start aborting (this does not indicate an error and you can ignore this message): INVALID_ARGUMENT: You must feed a value for placeholder tensor 'gradients/split_2_grad/concat/split_2/split_dim' with dtype int32\n",
      "\t [[{{node gradients/split_2_grad/concat/split_2/split_dim}}]]\n",
      "2024-03-18 18:02:50.494719: I tensorflow/core/common_runtime/executor.cc:1197] [/device:CPU:0] (DEBUG INFO) Executor start aborting (this does not indicate an error and you can ignore this message): INVALID_ARGUMENT: You must feed a value for placeholder tensor 'gradients/split_grad/concat/split/split_dim' with dtype int32\n",
      "\t [[{{node gradients/split_grad/concat/split/split_dim}}]]\n",
      "2024-03-18 18:02:50.495404: I tensorflow/core/common_runtime/executor.cc:1197] [/device:CPU:0] (DEBUG INFO) Executor start aborting (this does not indicate an error and you can ignore this message): INVALID_ARGUMENT: You must feed a value for placeholder tensor 'gradients/split_1_grad/concat/split_1/split_dim' with dtype int32\n",
      "\t [[{{node gradients/split_1_grad/concat/split_1/split_dim}}]]\n",
      "2024-03-18 18:02:50.595384: I tensorflow/core/common_runtime/executor.cc:1197] [/device:CPU:0] (DEBUG INFO) Executor start aborting (this does not indicate an error and you can ignore this message): INVALID_ARGUMENT: You must feed a value for placeholder tensor 'gradients/split_2_grad/concat/split_2/split_dim' with dtype int32\n",
      "\t [[{{node gradients/split_2_grad/concat/split_2/split_dim}}]]\n",
      "2024-03-18 18:02:50.596058: I tensorflow/core/common_runtime/executor.cc:1197] [/device:CPU:0] (DEBUG INFO) Executor start aborting (this does not indicate an error and you can ignore this message): INVALID_ARGUMENT: You must feed a value for placeholder tensor 'gradients/split_grad/concat/split/split_dim' with dtype int32\n",
      "\t [[{{node gradients/split_grad/concat/split/split_dim}}]]\n",
      "2024-03-18 18:02:50.596672: I tensorflow/core/common_runtime/executor.cc:1197] [/device:CPU:0] (DEBUG INFO) Executor start aborting (this does not indicate an error and you can ignore this message): INVALID_ARGUMENT: You must feed a value for placeholder tensor 'gradients/split_1_grad/concat/split_1/split_dim' with dtype int32\n",
      "\t [[{{node gradients/split_1_grad/concat/split_1/split_dim}}]]\n",
      "2024-03-18 18:02:51.146232: I tensorflow/core/common_runtime/executor.cc:1197] [/device:CPU:0] (DEBUG INFO) Executor start aborting (this does not indicate an error and you can ignore this message): INVALID_ARGUMENT: You must feed a value for placeholder tensor 'gradients/split_2_grad/concat/split_2/split_dim' with dtype int32\n",
      "\t [[{{node gradients/split_2_grad/concat/split_2/split_dim}}]]\n",
      "2024-03-18 18:02:51.147294: I tensorflow/core/common_runtime/executor.cc:1197] [/device:CPU:0] (DEBUG INFO) Executor start aborting (this does not indicate an error and you can ignore this message): INVALID_ARGUMENT: You must feed a value for placeholder tensor 'gradients/split_grad/concat/split/split_dim' with dtype int32\n",
      "\t [[{{node gradients/split_grad/concat/split/split_dim}}]]\n",
      "2024-03-18 18:02:51.147988: I tensorflow/core/common_runtime/executor.cc:1197] [/device:CPU:0] (DEBUG INFO) Executor start aborting (this does not indicate an error and you can ignore this message): INVALID_ARGUMENT: You must feed a value for placeholder tensor 'gradients/split_1_grad/concat/split_1/split_dim' with dtype int32\n",
      "\t [[{{node gradients/split_1_grad/concat/split_1/split_dim}}]]\n",
      "2024-03-18 18:02:51.248250: I tensorflow/core/common_runtime/executor.cc:1197] [/device:CPU:0] (DEBUG INFO) Executor start aborting (this does not indicate an error and you can ignore this message): INVALID_ARGUMENT: You must feed a value for placeholder tensor 'gradients/split_2_grad/concat/split_2/split_dim' with dtype int32\n",
      "\t [[{{node gradients/split_2_grad/concat/split_2/split_dim}}]]\n",
      "2024-03-18 18:02:51.249116: I tensorflow/core/common_runtime/executor.cc:1197] [/device:CPU:0] (DEBUG INFO) Executor start aborting (this does not indicate an error and you can ignore this message): INVALID_ARGUMENT: You must feed a value for placeholder tensor 'gradients/split_grad/concat/split/split_dim' with dtype int32\n",
      "\t [[{{node gradients/split_grad/concat/split/split_dim}}]]\n",
      "2024-03-18 18:02:51.249759: I tensorflow/core/common_runtime/executor.cc:1197] [/device:CPU:0] (DEBUG INFO) Executor start aborting (this does not indicate an error and you can ignore this message): INVALID_ARGUMENT: You must feed a value for placeholder tensor 'gradients/split_1_grad/concat/split_1/split_dim' with dtype int32\n",
      "\t [[{{node gradients/split_1_grad/concat/split_1/split_dim}}]]\n",
      "2024-03-18 18:02:54.090438: I tensorflow/core/common_runtime/executor.cc:1197] [/device:CPU:0] (DEBUG INFO) Executor start aborting (this does not indicate an error and you can ignore this message): INVALID_ARGUMENT: You must feed a value for placeholder tensor 'gradients/split_2_grad/concat/split_2/split_dim' with dtype int32\n",
      "\t [[{{node gradients/split_2_grad/concat/split_2/split_dim}}]]\n",
      "2024-03-18 18:02:54.091449: I tensorflow/core/common_runtime/executor.cc:1197] [/device:CPU:0] (DEBUG INFO) Executor start aborting (this does not indicate an error and you can ignore this message): INVALID_ARGUMENT: You must feed a value for placeholder tensor 'gradients/split_grad/concat/split/split_dim' with dtype int32\n",
      "\t [[{{node gradients/split_grad/concat/split/split_dim}}]]\n",
      "2024-03-18 18:02:54.092041: I tensorflow/core/common_runtime/executor.cc:1197] [/device:CPU:0] (DEBUG INFO) Executor start aborting (this does not indicate an error and you can ignore this message): INVALID_ARGUMENT: You must feed a value for placeholder tensor 'gradients/split_1_grad/concat/split_1/split_dim' with dtype int32\n",
      "\t [[{{node gradients/split_1_grad/concat/split_1/split_dim}}]]\n",
      "2024-03-18 18:02:54.188508: I tensorflow/core/common_runtime/executor.cc:1197] [/device:CPU:0] (DEBUG INFO) Executor start aborting (this does not indicate an error and you can ignore this message): INVALID_ARGUMENT: You must feed a value for placeholder tensor 'gradients/split_2_grad/concat/split_2/split_dim' with dtype int32\n",
      "\t [[{{node gradients/split_2_grad/concat/split_2/split_dim}}]]\n",
      "2024-03-18 18:02:54.189313: I tensorflow/core/common_runtime/executor.cc:1197] [/device:CPU:0] (DEBUG INFO) Executor start aborting (this does not indicate an error and you can ignore this message): INVALID_ARGUMENT: You must feed a value for placeholder tensor 'gradients/split_grad/concat/split/split_dim' with dtype int32\n",
      "\t [[{{node gradients/split_grad/concat/split/split_dim}}]]\n",
      "2024-03-18 18:02:54.189938: I tensorflow/core/common_runtime/executor.cc:1197] [/device:CPU:0] (DEBUG INFO) Executor start aborting (this does not indicate an error and you can ignore this message): INVALID_ARGUMENT: You must feed a value for placeholder tensor 'gradients/split_1_grad/concat/split_1/split_dim' with dtype int32\n",
      "\t [[{{node gradients/split_1_grad/concat/split_1/split_dim}}]]\n"
     ]
    },
    {
     "name": "stdout",
     "output_type": "stream",
     "text": [
      "304/304 - 4s - loss: 0.8461 - val_loss: 0.8415 - 4s/epoch - 14ms/step\n",
      "Epoch 2/10\n",
      "304/304 - 2s - loss: 0.8335 - val_loss: 0.8320 - 2s/epoch - 6ms/step\n",
      "Epoch 3/10\n",
      "304/304 - 2s - loss: 0.8196 - val_loss: 0.8201 - 2s/epoch - 6ms/step\n",
      "Epoch 4/10\n",
      "304/304 - 2s - loss: 0.8076 - val_loss: 0.8212 - 2s/epoch - 6ms/step\n",
      "Epoch 5/10\n",
      "304/304 - 2s - loss: 0.8028 - val_loss: 0.8179 - 2s/epoch - 6ms/step\n",
      "Epoch 6/10\n",
      "304/304 - 2s - loss: 0.7982 - val_loss: 0.8145 - 2s/epoch - 6ms/step\n",
      "Epoch 7/10\n",
      "304/304 - 2s - loss: 0.7943 - val_loss: 0.8114 - 2s/epoch - 6ms/step\n",
      "Epoch 8/10\n",
      "304/304 - 2s - loss: 0.7913 - val_loss: 0.8083 - 2s/epoch - 6ms/step\n",
      "Epoch 9/10\n",
      "304/304 - 2s - loss: 0.7888 - val_loss: 0.8061 - 2s/epoch - 7ms/step\n",
      "Epoch 10/10\n",
      "304/304 - 2s - loss: 0.7869 - val_loss: 0.8042 - 2s/epoch - 7ms/step\n"
     ]
    },
    {
     "name": "stderr",
     "output_type": "stream",
     "text": [
      "2024-03-18 18:03:11.857891: I tensorflow/core/common_runtime/executor.cc:1197] [/device:CPU:0] (DEBUG INFO) Executor start aborting (this does not indicate an error and you can ignore this message): INVALID_ARGUMENT: You must feed a value for placeholder tensor 'gradients/split_2_grad/concat/split_2/split_dim' with dtype int32\n",
      "\t [[{{node gradients/split_2_grad/concat/split_2/split_dim}}]]\n",
      "2024-03-18 18:03:11.858889: I tensorflow/core/common_runtime/executor.cc:1197] [/device:CPU:0] (DEBUG INFO) Executor start aborting (this does not indicate an error and you can ignore this message): INVALID_ARGUMENT: You must feed a value for placeholder tensor 'gradients/split_grad/concat/split/split_dim' with dtype int32\n",
      "\t [[{{node gradients/split_grad/concat/split/split_dim}}]]\n",
      "2024-03-18 18:03:11.859542: I tensorflow/core/common_runtime/executor.cc:1197] [/device:CPU:0] (DEBUG INFO) Executor start aborting (this does not indicate an error and you can ignore this message): INVALID_ARGUMENT: You must feed a value for placeholder tensor 'gradients/split_1_grad/concat/split_1/split_dim' with dtype int32\n",
      "\t [[{{node gradients/split_1_grad/concat/split_1/split_dim}}]]\n",
      "2024-03-18 18:03:11.957010: I tensorflow/core/common_runtime/executor.cc:1197] [/device:CPU:0] (DEBUG INFO) Executor start aborting (this does not indicate an error and you can ignore this message): INVALID_ARGUMENT: You must feed a value for placeholder tensor 'gradients/split_2_grad/concat/split_2/split_dim' with dtype int32\n",
      "\t [[{{node gradients/split_2_grad/concat/split_2/split_dim}}]]\n",
      "2024-03-18 18:03:11.957766: I tensorflow/core/common_runtime/executor.cc:1197] [/device:CPU:0] (DEBUG INFO) Executor start aborting (this does not indicate an error and you can ignore this message): INVALID_ARGUMENT: You must feed a value for placeholder tensor 'gradients/split_grad/concat/split/split_dim' with dtype int32\n",
      "\t [[{{node gradients/split_grad/concat/split/split_dim}}]]\n",
      "2024-03-18 18:03:11.958384: I tensorflow/core/common_runtime/executor.cc:1197] [/device:CPU:0] (DEBUG INFO) Executor start aborting (this does not indicate an error and you can ignore this message): INVALID_ARGUMENT: You must feed a value for placeholder tensor 'gradients/split_1_grad/concat/split_1/split_dim' with dtype int32\n",
      "\t [[{{node gradients/split_1_grad/concat/split_1/split_dim}}]]\n"
     ]
    },
    {
     "name": "stdout",
     "output_type": "stream",
     "text": [
      "1/1 [==============================] - 0s 419ms/step\n",
      "Epoch 1/10\n"
     ]
    },
    {
     "name": "stderr",
     "output_type": "stream",
     "text": [
      "2024-03-18 18:03:12.245215: I tensorflow/core/common_runtime/executor.cc:1197] [/device:CPU:0] (DEBUG INFO) Executor start aborting (this does not indicate an error and you can ignore this message): INVALID_ARGUMENT: You must feed a value for placeholder tensor 'gradients/split_2_grad/concat/split_2/split_dim' with dtype int32\n",
      "\t [[{{node gradients/split_2_grad/concat/split_2/split_dim}}]]\n",
      "2024-03-18 18:03:12.245855: I tensorflow/core/common_runtime/executor.cc:1197] [/device:CPU:0] (DEBUG INFO) Executor start aborting (this does not indicate an error and you can ignore this message): INVALID_ARGUMENT: You must feed a value for placeholder tensor 'gradients/split_grad/concat/split/split_dim' with dtype int32\n",
      "\t [[{{node gradients/split_grad/concat/split/split_dim}}]]\n",
      "2024-03-18 18:03:12.246760: I tensorflow/core/common_runtime/executor.cc:1197] [/device:CPU:0] (DEBUG INFO) Executor start aborting (this does not indicate an error and you can ignore this message): INVALID_ARGUMENT: You must feed a value for placeholder tensor 'gradients/split_1_grad/concat/split_1/split_dim' with dtype int32\n",
      "\t [[{{node gradients/split_1_grad/concat/split_1/split_dim}}]]\n",
      "2024-03-18 18:03:12.351722: I tensorflow/core/common_runtime/executor.cc:1197] [/device:CPU:0] (DEBUG INFO) Executor start aborting (this does not indicate an error and you can ignore this message): INVALID_ARGUMENT: You must feed a value for placeholder tensor 'gradients/split_2_grad/concat/split_2/split_dim' with dtype int32\n",
      "\t [[{{node gradients/split_2_grad/concat/split_2/split_dim}}]]\n",
      "2024-03-18 18:03:12.352379: I tensorflow/core/common_runtime/executor.cc:1197] [/device:CPU:0] (DEBUG INFO) Executor start aborting (this does not indicate an error and you can ignore this message): INVALID_ARGUMENT: You must feed a value for placeholder tensor 'gradients/split_grad/concat/split/split_dim' with dtype int32\n",
      "\t [[{{node gradients/split_grad/concat/split/split_dim}}]]\n",
      "2024-03-18 18:03:12.352982: I tensorflow/core/common_runtime/executor.cc:1197] [/device:CPU:0] (DEBUG INFO) Executor start aborting (this does not indicate an error and you can ignore this message): INVALID_ARGUMENT: You must feed a value for placeholder tensor 'gradients/split_1_grad/concat/split_1/split_dim' with dtype int32\n",
      "\t [[{{node gradients/split_1_grad/concat/split_1/split_dim}}]]\n",
      "2024-03-18 18:03:12.503159: I tensorflow/core/common_runtime/executor.cc:1197] [/device:CPU:0] (DEBUG INFO) Executor start aborting (this does not indicate an error and you can ignore this message): INVALID_ARGUMENT: You must feed a value for placeholder tensor 'gradients/split_2_grad/concat/split_2/split_dim' with dtype int32\n",
      "\t [[{{node gradients/split_2_grad/concat/split_2/split_dim}}]]\n",
      "2024-03-18 18:03:12.504135: I tensorflow/core/common_runtime/executor.cc:1197] [/device:CPU:0] (DEBUG INFO) Executor start aborting (this does not indicate an error and you can ignore this message): INVALID_ARGUMENT: You must feed a value for placeholder tensor 'gradients/split_grad/concat/split/split_dim' with dtype int32\n",
      "\t [[{{node gradients/split_grad/concat/split/split_dim}}]]\n",
      "2024-03-18 18:03:12.505101: I tensorflow/core/common_runtime/executor.cc:1197] [/device:CPU:0] (DEBUG INFO) Executor start aborting (this does not indicate an error and you can ignore this message): INVALID_ARGUMENT: You must feed a value for placeholder tensor 'gradients/split_1_grad/concat/split_1/split_dim' with dtype int32\n",
      "\t [[{{node gradients/split_1_grad/concat/split_1/split_dim}}]]\n",
      "2024-03-18 18:03:12.605686: I tensorflow/core/common_runtime/executor.cc:1197] [/device:CPU:0] (DEBUG INFO) Executor start aborting (this does not indicate an error and you can ignore this message): INVALID_ARGUMENT: You must feed a value for placeholder tensor 'gradients/split_2_grad/concat/split_2/split_dim' with dtype int32\n",
      "\t [[{{node gradients/split_2_grad/concat/split_2/split_dim}}]]\n",
      "2024-03-18 18:03:12.606440: I tensorflow/core/common_runtime/executor.cc:1197] [/device:CPU:0] (DEBUG INFO) Executor start aborting (this does not indicate an error and you can ignore this message): INVALID_ARGUMENT: You must feed a value for placeholder tensor 'gradients/split_grad/concat/split/split_dim' with dtype int32\n",
      "\t [[{{node gradients/split_grad/concat/split/split_dim}}]]\n",
      "2024-03-18 18:03:12.607109: I tensorflow/core/common_runtime/executor.cc:1197] [/device:CPU:0] (DEBUG INFO) Executor start aborting (this does not indicate an error and you can ignore this message): INVALID_ARGUMENT: You must feed a value for placeholder tensor 'gradients/split_1_grad/concat/split_1/split_dim' with dtype int32\n",
      "\t [[{{node gradients/split_1_grad/concat/split_1/split_dim}}]]\n",
      "2024-03-18 18:03:13.081960: I tensorflow/core/common_runtime/executor.cc:1197] [/device:CPU:0] (DEBUG INFO) Executor start aborting (this does not indicate an error and you can ignore this message): INVALID_ARGUMENT: You must feed a value for placeholder tensor 'gradients/split_2_grad/concat/split_2/split_dim' with dtype int32\n",
      "\t [[{{node gradients/split_2_grad/concat/split_2/split_dim}}]]\n",
      "2024-03-18 18:03:13.083059: I tensorflow/core/common_runtime/executor.cc:1197] [/device:CPU:0] (DEBUG INFO) Executor start aborting (this does not indicate an error and you can ignore this message): INVALID_ARGUMENT: You must feed a value for placeholder tensor 'gradients/split_grad/concat/split/split_dim' with dtype int32\n",
      "\t [[{{node gradients/split_grad/concat/split/split_dim}}]]\n",
      "2024-03-18 18:03:13.083690: I tensorflow/core/common_runtime/executor.cc:1197] [/device:CPU:0] (DEBUG INFO) Executor start aborting (this does not indicate an error and you can ignore this message): INVALID_ARGUMENT: You must feed a value for placeholder tensor 'gradients/split_1_grad/concat/split_1/split_dim' with dtype int32\n",
      "\t [[{{node gradients/split_1_grad/concat/split_1/split_dim}}]]\n",
      "2024-03-18 18:03:13.184998: I tensorflow/core/common_runtime/executor.cc:1197] [/device:CPU:0] (DEBUG INFO) Executor start aborting (this does not indicate an error and you can ignore this message): INVALID_ARGUMENT: You must feed a value for placeholder tensor 'gradients/split_2_grad/concat/split_2/split_dim' with dtype int32\n",
      "\t [[{{node gradients/split_2_grad/concat/split_2/split_dim}}]]\n",
      "2024-03-18 18:03:13.185727: I tensorflow/core/common_runtime/executor.cc:1197] [/device:CPU:0] (DEBUG INFO) Executor start aborting (this does not indicate an error and you can ignore this message): INVALID_ARGUMENT: You must feed a value for placeholder tensor 'gradients/split_grad/concat/split/split_dim' with dtype int32\n",
      "\t [[{{node gradients/split_grad/concat/split/split_dim}}]]\n",
      "2024-03-18 18:03:13.186460: I tensorflow/core/common_runtime/executor.cc:1197] [/device:CPU:0] (DEBUG INFO) Executor start aborting (this does not indicate an error and you can ignore this message): INVALID_ARGUMENT: You must feed a value for placeholder tensor 'gradients/split_1_grad/concat/split_1/split_dim' with dtype int32\n",
      "\t [[{{node gradients/split_1_grad/concat/split_1/split_dim}}]]\n",
      "2024-03-18 18:03:16.033792: I tensorflow/core/common_runtime/executor.cc:1197] [/device:CPU:0] (DEBUG INFO) Executor start aborting (this does not indicate an error and you can ignore this message): INVALID_ARGUMENT: You must feed a value for placeholder tensor 'gradients/split_2_grad/concat/split_2/split_dim' with dtype int32\n",
      "\t [[{{node gradients/split_2_grad/concat/split_2/split_dim}}]]\n",
      "2024-03-18 18:03:16.034573: I tensorflow/core/common_runtime/executor.cc:1197] [/device:CPU:0] (DEBUG INFO) Executor start aborting (this does not indicate an error and you can ignore this message): INVALID_ARGUMENT: You must feed a value for placeholder tensor 'gradients/split_grad/concat/split/split_dim' with dtype int32\n",
      "\t [[{{node gradients/split_grad/concat/split/split_dim}}]]\n",
      "2024-03-18 18:03:16.035291: I tensorflow/core/common_runtime/executor.cc:1197] [/device:CPU:0] (DEBUG INFO) Executor start aborting (this does not indicate an error and you can ignore this message): INVALID_ARGUMENT: You must feed a value for placeholder tensor 'gradients/split_1_grad/concat/split_1/split_dim' with dtype int32\n",
      "\t [[{{node gradients/split_1_grad/concat/split_1/split_dim}}]]\n",
      "2024-03-18 18:03:16.132227: I tensorflow/core/common_runtime/executor.cc:1197] [/device:CPU:0] (DEBUG INFO) Executor start aborting (this does not indicate an error and you can ignore this message): INVALID_ARGUMENT: You must feed a value for placeholder tensor 'gradients/split_2_grad/concat/split_2/split_dim' with dtype int32\n",
      "\t [[{{node gradients/split_2_grad/concat/split_2/split_dim}}]]\n",
      "2024-03-18 18:03:16.132934: I tensorflow/core/common_runtime/executor.cc:1197] [/device:CPU:0] (DEBUG INFO) Executor start aborting (this does not indicate an error and you can ignore this message): INVALID_ARGUMENT: You must feed a value for placeholder tensor 'gradients/split_grad/concat/split/split_dim' with dtype int32\n",
      "\t [[{{node gradients/split_grad/concat/split/split_dim}}]]\n",
      "2024-03-18 18:03:16.133595: I tensorflow/core/common_runtime/executor.cc:1197] [/device:CPU:0] (DEBUG INFO) Executor start aborting (this does not indicate an error and you can ignore this message): INVALID_ARGUMENT: You must feed a value for placeholder tensor 'gradients/split_1_grad/concat/split_1/split_dim' with dtype int32\n",
      "\t [[{{node gradients/split_1_grad/concat/split_1/split_dim}}]]\n"
     ]
    },
    {
     "name": "stdout",
     "output_type": "stream",
     "text": [
      "306/306 - 4s - loss: 0.8460 - val_loss: 0.8446 - 4s/epoch - 13ms/step\n",
      "Epoch 2/10\n",
      "306/306 - 2s - loss: 0.8333 - val_loss: 0.8323 - 2s/epoch - 7ms/step\n",
      "Epoch 3/10\n",
      "306/306 - 2s - loss: 0.8179 - val_loss: 0.8190 - 2s/epoch - 7ms/step\n",
      "Epoch 4/10\n",
      "306/306 - 2s - loss: 0.8077 - val_loss: 0.8210 - 2s/epoch - 7ms/step\n",
      "Epoch 5/10\n",
      "306/306 - 2s - loss: 0.8037 - val_loss: 0.8169 - 2s/epoch - 7ms/step\n",
      "Epoch 6/10\n",
      "306/306 - 2s - loss: 0.7996 - val_loss: 0.8119 - 2s/epoch - 7ms/step\n",
      "Epoch 7/10\n",
      "306/306 - 2s - loss: 0.7961 - val_loss: 0.8084 - 2s/epoch - 8ms/step\n",
      "Epoch 8/10\n",
      "306/306 - 2s - loss: 0.7933 - val_loss: 0.8047 - 2s/epoch - 6ms/step\n",
      "Epoch 9/10\n",
      "306/306 - 2s - loss: 0.7907 - val_loss: 0.8020 - 2s/epoch - 5ms/step\n",
      "Epoch 10/10\n",
      "306/306 - 2s - loss: 0.7887 - val_loss: 0.8005 - 2s/epoch - 5ms/step\n"
     ]
    },
    {
     "name": "stderr",
     "output_type": "stream",
     "text": [
      "2024-03-18 18:03:34.468678: I tensorflow/core/common_runtime/executor.cc:1197] [/device:CPU:0] (DEBUG INFO) Executor start aborting (this does not indicate an error and you can ignore this message): INVALID_ARGUMENT: You must feed a value for placeholder tensor 'gradients/split_2_grad/concat/split_2/split_dim' with dtype int32\n",
      "\t [[{{node gradients/split_2_grad/concat/split_2/split_dim}}]]\n",
      "2024-03-18 18:03:34.469551: I tensorflow/core/common_runtime/executor.cc:1197] [/device:CPU:0] (DEBUG INFO) Executor start aborting (this does not indicate an error and you can ignore this message): INVALID_ARGUMENT: You must feed a value for placeholder tensor 'gradients/split_grad/concat/split/split_dim' with dtype int32\n",
      "\t [[{{node gradients/split_grad/concat/split/split_dim}}]]\n",
      "2024-03-18 18:03:34.470322: I tensorflow/core/common_runtime/executor.cc:1197] [/device:CPU:0] (DEBUG INFO) Executor start aborting (this does not indicate an error and you can ignore this message): INVALID_ARGUMENT: You must feed a value for placeholder tensor 'gradients/split_1_grad/concat/split_1/split_dim' with dtype int32\n",
      "\t [[{{node gradients/split_1_grad/concat/split_1/split_dim}}]]\n",
      "2024-03-18 18:03:34.565593: I tensorflow/core/common_runtime/executor.cc:1197] [/device:CPU:0] (DEBUG INFO) Executor start aborting (this does not indicate an error and you can ignore this message): INVALID_ARGUMENT: You must feed a value for placeholder tensor 'gradients/split_2_grad/concat/split_2/split_dim' with dtype int32\n",
      "\t [[{{node gradients/split_2_grad/concat/split_2/split_dim}}]]\n",
      "2024-03-18 18:03:34.566337: I tensorflow/core/common_runtime/executor.cc:1197] [/device:CPU:0] (DEBUG INFO) Executor start aborting (this does not indicate an error and you can ignore this message): INVALID_ARGUMENT: You must feed a value for placeholder tensor 'gradients/split_grad/concat/split/split_dim' with dtype int32\n",
      "\t [[{{node gradients/split_grad/concat/split/split_dim}}]]\n",
      "2024-03-18 18:03:34.567716: I tensorflow/core/common_runtime/executor.cc:1197] [/device:CPU:0] (DEBUG INFO) Executor start aborting (this does not indicate an error and you can ignore this message): INVALID_ARGUMENT: You must feed a value for placeholder tensor 'gradients/split_1_grad/concat/split_1/split_dim' with dtype int32\n",
      "\t [[{{node gradients/split_1_grad/concat/split_1/split_dim}}]]\n"
     ]
    },
    {
     "name": "stdout",
     "output_type": "stream",
     "text": [
      "1/1 [==============================] - 0s 373ms/step\n",
      "Epoch 1/10\n"
     ]
    },
    {
     "name": "stderr",
     "output_type": "stream",
     "text": [
      "2024-03-18 18:03:35.141054: I tensorflow/core/common_runtime/executor.cc:1197] [/device:CPU:0] (DEBUG INFO) Executor start aborting (this does not indicate an error and you can ignore this message): INVALID_ARGUMENT: You must feed a value for placeholder tensor 'gradients/split_2_grad/concat/split_2/split_dim' with dtype int32\n",
      "\t [[{{node gradients/split_2_grad/concat/split_2/split_dim}}]]\n",
      "2024-03-18 18:03:35.141758: I tensorflow/core/common_runtime/executor.cc:1197] [/device:CPU:0] (DEBUG INFO) Executor start aborting (this does not indicate an error and you can ignore this message): INVALID_ARGUMENT: You must feed a value for placeholder tensor 'gradients/split_grad/concat/split/split_dim' with dtype int32\n",
      "\t [[{{node gradients/split_grad/concat/split/split_dim}}]]\n",
      "2024-03-18 18:03:35.142747: I tensorflow/core/common_runtime/executor.cc:1197] [/device:CPU:0] (DEBUG INFO) Executor start aborting (this does not indicate an error and you can ignore this message): INVALID_ARGUMENT: You must feed a value for placeholder tensor 'gradients/split_1_grad/concat/split_1/split_dim' with dtype int32\n",
      "\t [[{{node gradients/split_1_grad/concat/split_1/split_dim}}]]\n",
      "2024-03-18 18:03:35.247065: I tensorflow/core/common_runtime/executor.cc:1197] [/device:CPU:0] (DEBUG INFO) Executor start aborting (this does not indicate an error and you can ignore this message): INVALID_ARGUMENT: You must feed a value for placeholder tensor 'gradients/split_2_grad/concat/split_2/split_dim' with dtype int32\n",
      "\t [[{{node gradients/split_2_grad/concat/split_2/split_dim}}]]\n",
      "2024-03-18 18:03:35.247685: I tensorflow/core/common_runtime/executor.cc:1197] [/device:CPU:0] (DEBUG INFO) Executor start aborting (this does not indicate an error and you can ignore this message): INVALID_ARGUMENT: You must feed a value for placeholder tensor 'gradients/split_grad/concat/split/split_dim' with dtype int32\n",
      "\t [[{{node gradients/split_grad/concat/split/split_dim}}]]\n",
      "2024-03-18 18:03:35.248240: I tensorflow/core/common_runtime/executor.cc:1197] [/device:CPU:0] (DEBUG INFO) Executor start aborting (this does not indicate an error and you can ignore this message): INVALID_ARGUMENT: You must feed a value for placeholder tensor 'gradients/split_1_grad/concat/split_1/split_dim' with dtype int32\n",
      "\t [[{{node gradients/split_1_grad/concat/split_1/split_dim}}]]\n",
      "2024-03-18 18:03:35.397558: I tensorflow/core/common_runtime/executor.cc:1197] [/device:CPU:0] (DEBUG INFO) Executor start aborting (this does not indicate an error and you can ignore this message): INVALID_ARGUMENT: You must feed a value for placeholder tensor 'gradients/split_2_grad/concat/split_2/split_dim' with dtype int32\n",
      "\t [[{{node gradients/split_2_grad/concat/split_2/split_dim}}]]\n",
      "2024-03-18 18:03:35.398547: I tensorflow/core/common_runtime/executor.cc:1197] [/device:CPU:0] (DEBUG INFO) Executor start aborting (this does not indicate an error and you can ignore this message): INVALID_ARGUMENT: You must feed a value for placeholder tensor 'gradients/split_grad/concat/split/split_dim' with dtype int32\n",
      "\t [[{{node gradients/split_grad/concat/split/split_dim}}]]\n",
      "2024-03-18 18:03:35.399322: I tensorflow/core/common_runtime/executor.cc:1197] [/device:CPU:0] (DEBUG INFO) Executor start aborting (this does not indicate an error and you can ignore this message): INVALID_ARGUMENT: You must feed a value for placeholder tensor 'gradients/split_1_grad/concat/split_1/split_dim' with dtype int32\n",
      "\t [[{{node gradients/split_1_grad/concat/split_1/split_dim}}]]\n",
      "2024-03-18 18:03:35.498169: I tensorflow/core/common_runtime/executor.cc:1197] [/device:CPU:0] (DEBUG INFO) Executor start aborting (this does not indicate an error and you can ignore this message): INVALID_ARGUMENT: You must feed a value for placeholder tensor 'gradients/split_2_grad/concat/split_2/split_dim' with dtype int32\n",
      "\t [[{{node gradients/split_2_grad/concat/split_2/split_dim}}]]\n",
      "2024-03-18 18:03:35.498855: I tensorflow/core/common_runtime/executor.cc:1197] [/device:CPU:0] (DEBUG INFO) Executor start aborting (this does not indicate an error and you can ignore this message): INVALID_ARGUMENT: You must feed a value for placeholder tensor 'gradients/split_grad/concat/split/split_dim' with dtype int32\n",
      "\t [[{{node gradients/split_grad/concat/split/split_dim}}]]\n",
      "2024-03-18 18:03:35.499490: I tensorflow/core/common_runtime/executor.cc:1197] [/device:CPU:0] (DEBUG INFO) Executor start aborting (this does not indicate an error and you can ignore this message): INVALID_ARGUMENT: You must feed a value for placeholder tensor 'gradients/split_1_grad/concat/split_1/split_dim' with dtype int32\n",
      "\t [[{{node gradients/split_1_grad/concat/split_1/split_dim}}]]\n",
      "2024-03-18 18:03:35.971027: I tensorflow/core/common_runtime/executor.cc:1197] [/device:CPU:0] (DEBUG INFO) Executor start aborting (this does not indicate an error and you can ignore this message): INVALID_ARGUMENT: You must feed a value for placeholder tensor 'gradients/split_2_grad/concat/split_2/split_dim' with dtype int32\n",
      "\t [[{{node gradients/split_2_grad/concat/split_2/split_dim}}]]\n",
      "2024-03-18 18:03:35.971961: I tensorflow/core/common_runtime/executor.cc:1197] [/device:CPU:0] (DEBUG INFO) Executor start aborting (this does not indicate an error and you can ignore this message): INVALID_ARGUMENT: You must feed a value for placeholder tensor 'gradients/split_grad/concat/split/split_dim' with dtype int32\n",
      "\t [[{{node gradients/split_grad/concat/split/split_dim}}]]\n",
      "2024-03-18 18:03:35.972779: I tensorflow/core/common_runtime/executor.cc:1197] [/device:CPU:0] (DEBUG INFO) Executor start aborting (this does not indicate an error and you can ignore this message): INVALID_ARGUMENT: You must feed a value for placeholder tensor 'gradients/split_1_grad/concat/split_1/split_dim' with dtype int32\n",
      "\t [[{{node gradients/split_1_grad/concat/split_1/split_dim}}]]\n",
      "2024-03-18 18:03:36.071766: I tensorflow/core/common_runtime/executor.cc:1197] [/device:CPU:0] (DEBUG INFO) Executor start aborting (this does not indicate an error and you can ignore this message): INVALID_ARGUMENT: You must feed a value for placeholder tensor 'gradients/split_2_grad/concat/split_2/split_dim' with dtype int32\n",
      "\t [[{{node gradients/split_2_grad/concat/split_2/split_dim}}]]\n",
      "2024-03-18 18:03:36.072532: I tensorflow/core/common_runtime/executor.cc:1197] [/device:CPU:0] (DEBUG INFO) Executor start aborting (this does not indicate an error and you can ignore this message): INVALID_ARGUMENT: You must feed a value for placeholder tensor 'gradients/split_grad/concat/split/split_dim' with dtype int32\n",
      "\t [[{{node gradients/split_grad/concat/split/split_dim}}]]\n",
      "2024-03-18 18:03:36.073163: I tensorflow/core/common_runtime/executor.cc:1197] [/device:CPU:0] (DEBUG INFO) Executor start aborting (this does not indicate an error and you can ignore this message): INVALID_ARGUMENT: You must feed a value for placeholder tensor 'gradients/split_1_grad/concat/split_1/split_dim' with dtype int32\n",
      "\t [[{{node gradients/split_1_grad/concat/split_1/split_dim}}]]\n",
      "2024-03-18 18:03:38.544968: I tensorflow/core/common_runtime/executor.cc:1197] [/device:CPU:0] (DEBUG INFO) Executor start aborting (this does not indicate an error and you can ignore this message): INVALID_ARGUMENT: You must feed a value for placeholder tensor 'gradients/split_2_grad/concat/split_2/split_dim' with dtype int32\n",
      "\t [[{{node gradients/split_2_grad/concat/split_2/split_dim}}]]\n",
      "2024-03-18 18:03:38.545925: I tensorflow/core/common_runtime/executor.cc:1197] [/device:CPU:0] (DEBUG INFO) Executor start aborting (this does not indicate an error and you can ignore this message): INVALID_ARGUMENT: You must feed a value for placeholder tensor 'gradients/split_grad/concat/split/split_dim' with dtype int32\n",
      "\t [[{{node gradients/split_grad/concat/split/split_dim}}]]\n",
      "2024-03-18 18:03:38.546515: I tensorflow/core/common_runtime/executor.cc:1197] [/device:CPU:0] (DEBUG INFO) Executor start aborting (this does not indicate an error and you can ignore this message): INVALID_ARGUMENT: You must feed a value for placeholder tensor 'gradients/split_1_grad/concat/split_1/split_dim' with dtype int32\n",
      "\t [[{{node gradients/split_1_grad/concat/split_1/split_dim}}]]\n",
      "2024-03-18 18:03:38.642690: I tensorflow/core/common_runtime/executor.cc:1197] [/device:CPU:0] (DEBUG INFO) Executor start aborting (this does not indicate an error and you can ignore this message): INVALID_ARGUMENT: You must feed a value for placeholder tensor 'gradients/split_2_grad/concat/split_2/split_dim' with dtype int32\n",
      "\t [[{{node gradients/split_2_grad/concat/split_2/split_dim}}]]\n",
      "2024-03-18 18:03:38.643372: I tensorflow/core/common_runtime/executor.cc:1197] [/device:CPU:0] (DEBUG INFO) Executor start aborting (this does not indicate an error and you can ignore this message): INVALID_ARGUMENT: You must feed a value for placeholder tensor 'gradients/split_grad/concat/split/split_dim' with dtype int32\n",
      "\t [[{{node gradients/split_grad/concat/split/split_dim}}]]\n",
      "2024-03-18 18:03:38.643998: I tensorflow/core/common_runtime/executor.cc:1197] [/device:CPU:0] (DEBUG INFO) Executor start aborting (this does not indicate an error and you can ignore this message): INVALID_ARGUMENT: You must feed a value for placeholder tensor 'gradients/split_1_grad/concat/split_1/split_dim' with dtype int32\n",
      "\t [[{{node gradients/split_1_grad/concat/split_1/split_dim}}]]\n"
     ]
    },
    {
     "name": "stdout",
     "output_type": "stream",
     "text": [
      "307/307 - 4s - loss: 0.8462 - val_loss: 0.8455 - 4s/epoch - 12ms/step\n",
      "Epoch 2/10\n",
      "307/307 - 2s - loss: 0.8343 - val_loss: 0.8338 - 2s/epoch - 5ms/step\n",
      "Epoch 3/10\n",
      "307/307 - 2s - loss: 0.8199 - val_loss: 0.8213 - 2s/epoch - 5ms/step\n",
      "Epoch 4/10\n",
      "307/307 - 2s - loss: 0.8093 - val_loss: 0.8236 - 2s/epoch - 6ms/step\n",
      "Epoch 5/10\n",
      "307/307 - 2s - loss: 0.8046 - val_loss: 0.8186 - 2s/epoch - 6ms/step\n",
      "Epoch 6/10\n",
      "307/307 - 2s - loss: 0.8000 - val_loss: 0.8136 - 2s/epoch - 6ms/step\n",
      "Epoch 7/10\n",
      "307/307 - 2s - loss: 0.7961 - val_loss: 0.8092 - 2s/epoch - 6ms/step\n",
      "Epoch 8/10\n",
      "307/307 - 2s - loss: 0.7929 - val_loss: 0.8055 - 2s/epoch - 5ms/step\n",
      "Epoch 9/10\n",
      "307/307 - 2s - loss: 0.7904 - val_loss: 0.8028 - 2s/epoch - 5ms/step\n",
      "Epoch 10/10\n",
      "307/307 - 2s - loss: 0.7885 - val_loss: 0.8007 - 2s/epoch - 6ms/step\n"
     ]
    },
    {
     "name": "stderr",
     "output_type": "stream",
     "text": [
      "2024-03-18 18:03:54.436559: I tensorflow/core/common_runtime/executor.cc:1197] [/device:CPU:0] (DEBUG INFO) Executor start aborting (this does not indicate an error and you can ignore this message): INVALID_ARGUMENT: You must feed a value for placeholder tensor 'gradients/split_2_grad/concat/split_2/split_dim' with dtype int32\n",
      "\t [[{{node gradients/split_2_grad/concat/split_2/split_dim}}]]\n",
      "2024-03-18 18:03:54.437578: I tensorflow/core/common_runtime/executor.cc:1197] [/device:CPU:0] (DEBUG INFO) Executor start aborting (this does not indicate an error and you can ignore this message): INVALID_ARGUMENT: You must feed a value for placeholder tensor 'gradients/split_grad/concat/split/split_dim' with dtype int32\n",
      "\t [[{{node gradients/split_grad/concat/split/split_dim}}]]\n",
      "2024-03-18 18:03:54.438270: I tensorflow/core/common_runtime/executor.cc:1197] [/device:CPU:0] (DEBUG INFO) Executor start aborting (this does not indicate an error and you can ignore this message): INVALID_ARGUMENT: You must feed a value for placeholder tensor 'gradients/split_1_grad/concat/split_1/split_dim' with dtype int32\n",
      "\t [[{{node gradients/split_1_grad/concat/split_1/split_dim}}]]\n",
      "2024-03-18 18:03:54.537590: I tensorflow/core/common_runtime/executor.cc:1197] [/device:CPU:0] (DEBUG INFO) Executor start aborting (this does not indicate an error and you can ignore this message): INVALID_ARGUMENT: You must feed a value for placeholder tensor 'gradients/split_2_grad/concat/split_2/split_dim' with dtype int32\n",
      "\t [[{{node gradients/split_2_grad/concat/split_2/split_dim}}]]\n",
      "2024-03-18 18:03:54.538238: I tensorflow/core/common_runtime/executor.cc:1197] [/device:CPU:0] (DEBUG INFO) Executor start aborting (this does not indicate an error and you can ignore this message): INVALID_ARGUMENT: You must feed a value for placeholder tensor 'gradients/split_grad/concat/split/split_dim' with dtype int32\n",
      "\t [[{{node gradients/split_grad/concat/split/split_dim}}]]\n",
      "2024-03-18 18:03:54.538805: I tensorflow/core/common_runtime/executor.cc:1197] [/device:CPU:0] (DEBUG INFO) Executor start aborting (this does not indicate an error and you can ignore this message): INVALID_ARGUMENT: You must feed a value for placeholder tensor 'gradients/split_1_grad/concat/split_1/split_dim' with dtype int32\n",
      "\t [[{{node gradients/split_1_grad/concat/split_1/split_dim}}]]\n"
     ]
    },
    {
     "name": "stdout",
     "output_type": "stream",
     "text": [
      "1/1 [==============================] - 0s 376ms/step\n",
      "Epoch 1/10\n"
     ]
    },
    {
     "name": "stderr",
     "output_type": "stream",
     "text": [
      "2024-03-18 18:03:54.838675: I tensorflow/core/common_runtime/executor.cc:1197] [/device:CPU:0] (DEBUG INFO) Executor start aborting (this does not indicate an error and you can ignore this message): INVALID_ARGUMENT: You must feed a value for placeholder tensor 'gradients/split_2_grad/concat/split_2/split_dim' with dtype int32\n",
      "\t [[{{node gradients/split_2_grad/concat/split_2/split_dim}}]]\n",
      "2024-03-18 18:03:54.839542: I tensorflow/core/common_runtime/executor.cc:1197] [/device:CPU:0] (DEBUG INFO) Executor start aborting (this does not indicate an error and you can ignore this message): INVALID_ARGUMENT: You must feed a value for placeholder tensor 'gradients/split_grad/concat/split/split_dim' with dtype int32\n",
      "\t [[{{node gradients/split_grad/concat/split/split_dim}}]]\n",
      "2024-03-18 18:03:54.840192: I tensorflow/core/common_runtime/executor.cc:1197] [/device:CPU:0] (DEBUG INFO) Executor start aborting (this does not indicate an error and you can ignore this message): INVALID_ARGUMENT: You must feed a value for placeholder tensor 'gradients/split_1_grad/concat/split_1/split_dim' with dtype int32\n",
      "\t [[{{node gradients/split_1_grad/concat/split_1/split_dim}}]]\n",
      "2024-03-18 18:03:54.945431: I tensorflow/core/common_runtime/executor.cc:1197] [/device:CPU:0] (DEBUG INFO) Executor start aborting (this does not indicate an error and you can ignore this message): INVALID_ARGUMENT: You must feed a value for placeholder tensor 'gradients/split_2_grad/concat/split_2/split_dim' with dtype int32\n",
      "\t [[{{node gradients/split_2_grad/concat/split_2/split_dim}}]]\n",
      "2024-03-18 18:03:54.946100: I tensorflow/core/common_runtime/executor.cc:1197] [/device:CPU:0] (DEBUG INFO) Executor start aborting (this does not indicate an error and you can ignore this message): INVALID_ARGUMENT: You must feed a value for placeholder tensor 'gradients/split_grad/concat/split/split_dim' with dtype int32\n",
      "\t [[{{node gradients/split_grad/concat/split/split_dim}}]]\n",
      "2024-03-18 18:03:54.946672: I tensorflow/core/common_runtime/executor.cc:1197] [/device:CPU:0] (DEBUG INFO) Executor start aborting (this does not indicate an error and you can ignore this message): INVALID_ARGUMENT: You must feed a value for placeholder tensor 'gradients/split_1_grad/concat/split_1/split_dim' with dtype int32\n",
      "\t [[{{node gradients/split_1_grad/concat/split_1/split_dim}}]]\n",
      "2024-03-18 18:03:55.096387: I tensorflow/core/common_runtime/executor.cc:1197] [/device:CPU:0] (DEBUG INFO) Executor start aborting (this does not indicate an error and you can ignore this message): INVALID_ARGUMENT: You must feed a value for placeholder tensor 'gradients/split_2_grad/concat/split_2/split_dim' with dtype int32\n",
      "\t [[{{node gradients/split_2_grad/concat/split_2/split_dim}}]]\n",
      "2024-03-18 18:03:55.097323: I tensorflow/core/common_runtime/executor.cc:1197] [/device:CPU:0] (DEBUG INFO) Executor start aborting (this does not indicate an error and you can ignore this message): INVALID_ARGUMENT: You must feed a value for placeholder tensor 'gradients/split_grad/concat/split/split_dim' with dtype int32\n",
      "\t [[{{node gradients/split_grad/concat/split/split_dim}}]]\n",
      "2024-03-18 18:03:55.098140: I tensorflow/core/common_runtime/executor.cc:1197] [/device:CPU:0] (DEBUG INFO) Executor start aborting (this does not indicate an error and you can ignore this message): INVALID_ARGUMENT: You must feed a value for placeholder tensor 'gradients/split_1_grad/concat/split_1/split_dim' with dtype int32\n",
      "\t [[{{node gradients/split_1_grad/concat/split_1/split_dim}}]]\n",
      "2024-03-18 18:03:55.199835: I tensorflow/core/common_runtime/executor.cc:1197] [/device:CPU:0] (DEBUG INFO) Executor start aborting (this does not indicate an error and you can ignore this message): INVALID_ARGUMENT: You must feed a value for placeholder tensor 'gradients/split_2_grad/concat/split_2/split_dim' with dtype int32\n",
      "\t [[{{node gradients/split_2_grad/concat/split_2/split_dim}}]]\n",
      "2024-03-18 18:03:55.200536: I tensorflow/core/common_runtime/executor.cc:1197] [/device:CPU:0] (DEBUG INFO) Executor start aborting (this does not indicate an error and you can ignore this message): INVALID_ARGUMENT: You must feed a value for placeholder tensor 'gradients/split_grad/concat/split/split_dim' with dtype int32\n",
      "\t [[{{node gradients/split_grad/concat/split/split_dim}}]]\n",
      "2024-03-18 18:03:55.201266: I tensorflow/core/common_runtime/executor.cc:1197] [/device:CPU:0] (DEBUG INFO) Executor start aborting (this does not indicate an error and you can ignore this message): INVALID_ARGUMENT: You must feed a value for placeholder tensor 'gradients/split_1_grad/concat/split_1/split_dim' with dtype int32\n",
      "\t [[{{node gradients/split_1_grad/concat/split_1/split_dim}}]]\n",
      "2024-03-18 18:03:55.686358: I tensorflow/core/common_runtime/executor.cc:1197] [/device:CPU:0] (DEBUG INFO) Executor start aborting (this does not indicate an error and you can ignore this message): INVALID_ARGUMENT: You must feed a value for placeholder tensor 'gradients/split_2_grad/concat/split_2/split_dim' with dtype int32\n",
      "\t [[{{node gradients/split_2_grad/concat/split_2/split_dim}}]]\n",
      "2024-03-18 18:03:55.687332: I tensorflow/core/common_runtime/executor.cc:1197] [/device:CPU:0] (DEBUG INFO) Executor start aborting (this does not indicate an error and you can ignore this message): INVALID_ARGUMENT: You must feed a value for placeholder tensor 'gradients/split_grad/concat/split/split_dim' with dtype int32\n",
      "\t [[{{node gradients/split_grad/concat/split/split_dim}}]]\n",
      "2024-03-18 18:03:55.688122: I tensorflow/core/common_runtime/executor.cc:1197] [/device:CPU:0] (DEBUG INFO) Executor start aborting (this does not indicate an error and you can ignore this message): INVALID_ARGUMENT: You must feed a value for placeholder tensor 'gradients/split_1_grad/concat/split_1/split_dim' with dtype int32\n",
      "\t [[{{node gradients/split_1_grad/concat/split_1/split_dim}}]]\n",
      "2024-03-18 18:03:55.793744: I tensorflow/core/common_runtime/executor.cc:1197] [/device:CPU:0] (DEBUG INFO) Executor start aborting (this does not indicate an error and you can ignore this message): INVALID_ARGUMENT: You must feed a value for placeholder tensor 'gradients/split_2_grad/concat/split_2/split_dim' with dtype int32\n",
      "\t [[{{node gradients/split_2_grad/concat/split_2/split_dim}}]]\n",
      "2024-03-18 18:03:55.794606: I tensorflow/core/common_runtime/executor.cc:1197] [/device:CPU:0] (DEBUG INFO) Executor start aborting (this does not indicate an error and you can ignore this message): INVALID_ARGUMENT: You must feed a value for placeholder tensor 'gradients/split_grad/concat/split/split_dim' with dtype int32\n",
      "\t [[{{node gradients/split_grad/concat/split/split_dim}}]]\n",
      "2024-03-18 18:03:55.795377: I tensorflow/core/common_runtime/executor.cc:1197] [/device:CPU:0] (DEBUG INFO) Executor start aborting (this does not indicate an error and you can ignore this message): INVALID_ARGUMENT: You must feed a value for placeholder tensor 'gradients/split_1_grad/concat/split_1/split_dim' with dtype int32\n",
      "\t [[{{node gradients/split_1_grad/concat/split_1/split_dim}}]]\n",
      "2024-03-18 18:03:58.429569: I tensorflow/core/common_runtime/executor.cc:1197] [/device:CPU:0] (DEBUG INFO) Executor start aborting (this does not indicate an error and you can ignore this message): INVALID_ARGUMENT: You must feed a value for placeholder tensor 'gradients/split_2_grad/concat/split_2/split_dim' with dtype int32\n",
      "\t [[{{node gradients/split_2_grad/concat/split_2/split_dim}}]]\n",
      "2024-03-18 18:03:58.430383: I tensorflow/core/common_runtime/executor.cc:1197] [/device:CPU:0] (DEBUG INFO) Executor start aborting (this does not indicate an error and you can ignore this message): INVALID_ARGUMENT: You must feed a value for placeholder tensor 'gradients/split_grad/concat/split/split_dim' with dtype int32\n",
      "\t [[{{node gradients/split_grad/concat/split/split_dim}}]]\n",
      "2024-03-18 18:03:58.431129: I tensorflow/core/common_runtime/executor.cc:1197] [/device:CPU:0] (DEBUG INFO) Executor start aborting (this does not indicate an error and you can ignore this message): INVALID_ARGUMENT: You must feed a value for placeholder tensor 'gradients/split_1_grad/concat/split_1/split_dim' with dtype int32\n",
      "\t [[{{node gradients/split_1_grad/concat/split_1/split_dim}}]]\n",
      "2024-03-18 18:03:58.814089: I tensorflow/core/common_runtime/executor.cc:1197] [/device:CPU:0] (DEBUG INFO) Executor start aborting (this does not indicate an error and you can ignore this message): INVALID_ARGUMENT: You must feed a value for placeholder tensor 'gradients/split_2_grad/concat/split_2/split_dim' with dtype int32\n",
      "\t [[{{node gradients/split_2_grad/concat/split_2/split_dim}}]]\n",
      "2024-03-18 18:03:58.814905: I tensorflow/core/common_runtime/executor.cc:1197] [/device:CPU:0] (DEBUG INFO) Executor start aborting (this does not indicate an error and you can ignore this message): INVALID_ARGUMENT: You must feed a value for placeholder tensor 'gradients/split_grad/concat/split/split_dim' with dtype int32\n",
      "\t [[{{node gradients/split_grad/concat/split/split_dim}}]]\n",
      "2024-03-18 18:03:58.815706: I tensorflow/core/common_runtime/executor.cc:1197] [/device:CPU:0] (DEBUG INFO) Executor start aborting (this does not indicate an error and you can ignore this message): INVALID_ARGUMENT: You must feed a value for placeholder tensor 'gradients/split_1_grad/concat/split_1/split_dim' with dtype int32\n",
      "\t [[{{node gradients/split_1_grad/concat/split_1/split_dim}}]]\n"
     ]
    },
    {
     "name": "stdout",
     "output_type": "stream",
     "text": [
      "309/309 - 4s - loss: 0.8456 - val_loss: 0.8470 - 4s/epoch - 13ms/step\n",
      "Epoch 2/10\n",
      "309/309 - 2s - loss: 0.8333 - val_loss: 0.8353 - 2s/epoch - 6ms/step\n",
      "Epoch 3/10\n",
      "309/309 - 2s - loss: 0.8194 - val_loss: 0.8201 - 2s/epoch - 6ms/step\n",
      "Epoch 4/10\n",
      "309/309 - 2s - loss: 0.8090 - val_loss: 0.8204 - 2s/epoch - 6ms/step\n",
      "Epoch 5/10\n",
      "309/309 - 2s - loss: 0.8040 - val_loss: 0.8156 - 2s/epoch - 6ms/step\n",
      "Epoch 6/10\n",
      "309/309 - 2s - loss: 0.7994 - val_loss: 0.8109 - 2s/epoch - 6ms/step\n",
      "Epoch 7/10\n",
      "309/309 - 2s - loss: 0.7953 - val_loss: 0.8069 - 2s/epoch - 6ms/step\n",
      "Epoch 8/10\n",
      "309/309 - 2s - loss: 0.7919 - val_loss: 0.8035 - 2s/epoch - 6ms/step\n",
      "Epoch 9/10\n",
      "309/309 - 2s - loss: 0.7892 - val_loss: 0.8015 - 2s/epoch - 6ms/step\n",
      "Epoch 10/10\n",
      "309/309 - 2s - loss: 0.7872 - val_loss: 0.7997 - 2s/epoch - 6ms/step\n"
     ]
    },
    {
     "name": "stderr",
     "output_type": "stream",
     "text": [
      "2024-03-18 18:04:15.575400: I tensorflow/core/common_runtime/executor.cc:1197] [/device:CPU:0] (DEBUG INFO) Executor start aborting (this does not indicate an error and you can ignore this message): INVALID_ARGUMENT: You must feed a value for placeholder tensor 'gradients/split_2_grad/concat/split_2/split_dim' with dtype int32\n",
      "\t [[{{node gradients/split_2_grad/concat/split_2/split_dim}}]]\n",
      "2024-03-18 18:04:15.576332: I tensorflow/core/common_runtime/executor.cc:1197] [/device:CPU:0] (DEBUG INFO) Executor start aborting (this does not indicate an error and you can ignore this message): INVALID_ARGUMENT: You must feed a value for placeholder tensor 'gradients/split_grad/concat/split/split_dim' with dtype int32\n",
      "\t [[{{node gradients/split_grad/concat/split/split_dim}}]]\n",
      "2024-03-18 18:04:15.577052: I tensorflow/core/common_runtime/executor.cc:1197] [/device:CPU:0] (DEBUG INFO) Executor start aborting (this does not indicate an error and you can ignore this message): INVALID_ARGUMENT: You must feed a value for placeholder tensor 'gradients/split_1_grad/concat/split_1/split_dim' with dtype int32\n",
      "\t [[{{node gradients/split_1_grad/concat/split_1/split_dim}}]]\n",
      "2024-03-18 18:04:15.673907: I tensorflow/core/common_runtime/executor.cc:1197] [/device:CPU:0] (DEBUG INFO) Executor start aborting (this does not indicate an error and you can ignore this message): INVALID_ARGUMENT: You must feed a value for placeholder tensor 'gradients/split_2_grad/concat/split_2/split_dim' with dtype int32\n",
      "\t [[{{node gradients/split_2_grad/concat/split_2/split_dim}}]]\n",
      "2024-03-18 18:04:15.674638: I tensorflow/core/common_runtime/executor.cc:1197] [/device:CPU:0] (DEBUG INFO) Executor start aborting (this does not indicate an error and you can ignore this message): INVALID_ARGUMENT: You must feed a value for placeholder tensor 'gradients/split_grad/concat/split/split_dim' with dtype int32\n",
      "\t [[{{node gradients/split_grad/concat/split/split_dim}}]]\n",
      "2024-03-18 18:04:15.675313: I tensorflow/core/common_runtime/executor.cc:1197] [/device:CPU:0] (DEBUG INFO) Executor start aborting (this does not indicate an error and you can ignore this message): INVALID_ARGUMENT: You must feed a value for placeholder tensor 'gradients/split_1_grad/concat/split_1/split_dim' with dtype int32\n",
      "\t [[{{node gradients/split_1_grad/concat/split_1/split_dim}}]]\n"
     ]
    },
    {
     "name": "stdout",
     "output_type": "stream",
     "text": [
      "1/1 [==============================] - 0s 366ms/step\n"
     ]
    },
    {
     "name": "stderr",
     "output_type": "stream",
     "text": [
      "/Users/stephantimpe/anaconda3/envs/Forecasting_Challenge_2/lib/python3.9/site-packages/seaborn/_oldcore.py:1498: FutureWarning: is_categorical_dtype is deprecated and will be removed in a future version. Use isinstance(dtype, CategoricalDtype) instead\n",
      "  if pd.api.types.is_categorical_dtype(vector):\n",
      "/Users/stephantimpe/anaconda3/envs/Forecasting_Challenge_2/lib/python3.9/site-packages/seaborn/_oldcore.py:1498: FutureWarning: is_categorical_dtype is deprecated and will be removed in a future version. Use isinstance(dtype, CategoricalDtype) instead\n",
      "  if pd.api.types.is_categorical_dtype(vector):\n",
      "/Users/stephantimpe/anaconda3/envs/Forecasting_Challenge_2/lib/python3.9/site-packages/seaborn/_oldcore.py:1498: FutureWarning: is_categorical_dtype is deprecated and will be removed in a future version. Use isinstance(dtype, CategoricalDtype) instead\n",
      "  if pd.api.types.is_categorical_dtype(vector):\n",
      "/Users/stephantimpe/anaconda3/envs/Forecasting_Challenge_2/lib/python3.9/site-packages/seaborn/_oldcore.py:1498: FutureWarning: is_categorical_dtype is deprecated and will be removed in a future version. Use isinstance(dtype, CategoricalDtype) instead\n",
      "  if pd.api.types.is_categorical_dtype(vector):\n",
      "/Users/stephantimpe/anaconda3/envs/Forecasting_Challenge_2/lib/python3.9/site-packages/seaborn/_oldcore.py:1498: FutureWarning: is_categorical_dtype is deprecated and will be removed in a future version. Use isinstance(dtype, CategoricalDtype) instead\n",
      "  if pd.api.types.is_categorical_dtype(vector):\n",
      "/Users/stephantimpe/anaconda3/envs/Forecasting_Challenge_2/lib/python3.9/site-packages/seaborn/_oldcore.py:1119: FutureWarning: use_inf_as_na option is deprecated and will be removed in a future version. Convert inf values to NaN before operating instead.\n",
      "  with pd.option_context('mode.use_inf_as_na', True):\n",
      "/Users/stephantimpe/anaconda3/envs/Forecasting_Challenge_2/lib/python3.9/site-packages/seaborn/_oldcore.py:1119: FutureWarning: use_inf_as_na option is deprecated and will be removed in a future version. Convert inf values to NaN before operating instead.\n",
      "  with pd.option_context('mode.use_inf_as_na', True):\n"
     ]
    },
    {
     "data": {
      "text/plain": "<Figure size 1200x600 with 1 Axes>",
      "image/png": "[encoded data removed]"
     },
     "metadata": {},
     "output_type": "display_data"
    }
   ],
   "source": [
    "start_date = '2022-02-01'\n",
    "end_date = '2022-03-01'\n",
    "\n",
    "evaluations, grouped_scores = evaluate_energy.evaluate(Regression_model, XGB_model,baseline_model,LSTM_model, df=energydata, start_date= start_date, end_date= end_date, horizon_format=\"hours\")"
   ],
   "metadata": {
    "collapsed": false,
    "ExecuteTime": {
     "end_time": "2024-03-18T17:04:16.091609Z",
     "start_time": "2024-03-18T17:01:03.254593Z"
    }
   },
   "id": "306490c4ea04de44"
  },
  {
   "cell_type": "code",
   "execution_count": 6,
   "outputs": [
    {
     "data": {
      "text/plain": "                              mean     median        std\nmodel           horizon                                 \nBaseline        36 hour  26.098833  27.688006   5.644324\n                40 hour  16.473952  15.734656   4.238127\n                44 hour  29.603917  29.569871   6.639115\n                60 hour  18.719358  19.880491   7.645279\n                64 hour  10.278257  10.243187   3.304555\n                68 hour  25.266788  27.292204   8.445931\nEnergy QuantReg 36 hour  96.667819  98.904482   6.173494\n                40 hour  10.006028   9.412529   2.301632\n                44 hour  15.374570  15.191411   4.399229\n                60 hour  41.165163  43.788697  10.707438\n                64 hour  16.302160  14.150224   7.710177\n                68 hour   5.632504   5.937176   0.894544\nLSTM            36 hour  47.937728  47.760676  12.049594\n                40 hour  25.626372  23.158517  13.360150\n                44 hour  10.691392   7.840888  11.261805\n                60 hour   7.641669   7.475119   7.959487\n                64 hour  21.238718  20.558349  14.856008\n                68 hour  13.645163  12.846974  11.147498\nXGBoost         36 hour  57.143671  56.895221   6.190716\n                40 hour  52.995418  53.599013   6.744217\n                44 hour  35.943131  35.325551   6.269063\n                60 hour  15.206998  14.271301  10.026205\n                64 hour  14.709862  13.734675   6.284631\n                68 hour   4.640772   4.563557   1.815871",
      "text/html": "<div>\n<style scoped>\n    .dataframe tbody tr th:only-of-type {\n        vertical-align: middle;\n    }\n\n    .dataframe tbody tr th {\n        vertical-align: top;\n    }\n\n    .dataframe thead th {\n        text-align: right;\n    }\n</style>\n<table border=\"1\" class=\"dataframe\">\n  <thead>\n    <tr style=\"text-align: right;\">\n      <th></th>\n      <th></th>\n      <th>mean</th>\n      <th>median</th>\n      <th>std</th>\n    </tr>\n    <tr>\n      <th>model</th>\n      <th>horizon</th>\n      <th></th>\n      <th></th>\n      <th></th>\n    </tr>\n  </thead>\n  <tbody>\n    <tr>\n      <th rowspan=\"6\" valign=\"top\">Baseline</th>\n      <th>36 hour</th>\n      <td>26.098833</td>\n      <td>27.688006</td>\n      <td>5.644324</td>\n    </tr>\n    <tr>\n      <th>40 hour</th>\n      <td>16.473952</td>\n      <td>15.734656</td>\n      <td>4.238127</td>\n    </tr>\n    <tr>\n      <th>44 hour</th>\n      <td>29.603917</td>\n      <td>29.569871</td>\n      <td>6.639115</td>\n    </tr>\n    <tr>\n      <th>60 hour</th>\n      <td>18.719358</td>\n      <td>19.880491</td>\n      <td>7.645279</td>\n    </tr>\n    <tr>\n      <th>64 hour</th>\n      <td>10.278257</td>\n      <td>10.243187</td>\n      <td>3.304555</td>\n    </tr>\n    <tr>\n      <th>68 hour</th>\n      <td>25.266788</td>\n      <td>27.292204</td>\n      <td>8.445931</td>\n    </tr>\n    <tr>\n      <th rowspan=\"6\" valign=\"top\">Energy QuantReg</th>\n      <th>36 hour</th>\n      <td>96.667819</td>\n      <td>98.904482</td>\n      <td>6.173494</td>\n    </tr>\n    <tr>\n      <th>40 hour</th>\n      <td>10.006028</td>\n      <td>9.412529</td>\n      <td>2.301632</td>\n    </tr>\n    <tr>\n      <th>44 hour</th>\n      <td>15.374570</td>\n      <td>15.191411</td>\n      <td>4.399229</td>\n    </tr>\n    <tr>\n      <th>60 hour</th>\n      <td>41.165163</td>\n      <td>43.788697</td>\n      <td>10.707438</td>\n    </tr>\n    <tr>\n      <th>64 hour</th>\n      <td>16.302160</td>\n      <td>14.150224</td>\n      <td>7.710177</td>\n    </tr>\n    <tr>\n      <th>68 hour</th>\n      <td>5.632504</td>\n      <td>5.937176</td>\n      <td>0.894544</td>\n    </tr>\n    <tr>\n      <th rowspan=\"6\" valign=\"top\">LSTM</th>\n      <th>36 hour</th>\n      <td>47.937728</td>\n      <td>47.760676</td>\n      <td>12.049594</td>\n    </tr>\n    <tr>\n      <th>40 hour</th>\n      <td>25.626372</td>\n      <td>23.158517</td>\n      <td>13.360150</td>\n    </tr>\n    <tr>\n      <th>44 hour</th>\n      <td>10.691392</td>\n      <td>7.840888</td>\n      <td>11.261805</td>\n    </tr>\n    <tr>\n      <th>60 hour</th>\n      <td>7.641669</td>\n      <td>7.475119</td>\n      <td>7.959487</td>\n    </tr>\n    <tr>\n      <th>64 hour</th>\n      <td>21.238718</td>\n      <td>20.558349</td>\n      <td>14.856008</td>\n    </tr>\n    <tr>\n      <th>68 hour</th>\n      <td>13.645163</td>\n      <td>12.846974</td>\n      <td>11.147498</td>\n    </tr>\n    <tr>\n      <th rowspan=\"6\" valign=\"top\">XGBoost</th>\n      <th>36 hour</th>\n      <td>57.143671</td>\n      <td>56.895221</td>\n      <td>6.190716</td>\n    </tr>\n    <tr>\n      <th>40 hour</th>\n      <td>52.995418</td>\n      <td>53.599013</td>\n      <td>6.744217</td>\n    </tr>\n    <tr>\n      <th>44 hour</th>\n      <td>35.943131</td>\n      <td>35.325551</td>\n      <td>6.269063</td>\n    </tr>\n    <tr>\n      <th>60 hour</th>\n      <td>15.206998</td>\n      <td>14.271301</td>\n      <td>10.026205</td>\n    </tr>\n    <tr>\n      <th>64 hour</th>\n      <td>14.709862</td>\n      <td>13.734675</td>\n      <td>6.284631</td>\n    </tr>\n    <tr>\n      <th>68 hour</th>\n      <td>4.640772</td>\n      <td>4.563557</td>\n      <td>1.815871</td>\n    </tr>\n  </tbody>\n</table>\n</div>"
     },
     "execution_count": 6,
     "metadata": {},
     "output_type": "execute_result"
    }
   ],
   "source": [
    "# sum of scores\n",
    "grouped_scores"
   ],
   "metadata": {
    "collapsed": false,
    "ExecuteTime": {
     "end_time": "2024-03-18T17:04:16.098473Z",
     "start_time": "2024-03-18T17:04:16.093882Z"
    }
   },
   "id": "a5a5d7484bf776da"
  },
  {
   "cell_type": "code",
   "execution_count": 7,
   "outputs": [
    {
     "data": {
      "text/plain": "                      mean     median        std\nmodel                                           \nBaseline         21.073518  21.734736   5.986222\nEnergy QuantReg  30.858041  31.230753   5.364419\nLSTM             21.130174  19.940087  11.772424\nXGBoost          30.106642  29.731553   6.221784",
      "text/html": "<div>\n<style scoped>\n    .dataframe tbody tr th:only-of-type {\n        vertical-align: middle;\n    }\n\n    .dataframe tbody tr th {\n        vertical-align: top;\n    }\n\n    .dataframe thead th {\n        text-align: right;\n    }\n</style>\n<table border=\"1\" class=\"dataframe\">\n  <thead>\n    <tr style=\"text-align: right;\">\n      <th></th>\n      <th>mean</th>\n      <th>median</th>\n      <th>std</th>\n    </tr>\n    <tr>\n      <th>model</th>\n      <th></th>\n      <th></th>\n      <th></th>\n    </tr>\n  </thead>\n  <tbody>\n    <tr>\n      <th>Baseline</th>\n      <td>21.073518</td>\n      <td>21.734736</td>\n      <td>5.986222</td>\n    </tr>\n    <tr>\n      <th>Energy QuantReg</th>\n      <td>30.858041</td>\n      <td>31.230753</td>\n      <td>5.364419</td>\n    </tr>\n    <tr>\n      <th>LSTM</th>\n      <td>21.130174</td>\n      <td>19.940087</td>\n      <td>11.772424</td>\n    </tr>\n    <tr>\n      <th>XGBoost</th>\n      <td>30.106642</td>\n      <td>29.731553</td>\n      <td>6.221784</td>\n    </tr>\n  </tbody>\n</table>\n</div>"
     },
     "execution_count": 7,
     "metadata": {},
     "output_type": "execute_result"
    }
   ],
   "source": [
    "# mean of scores by model\n",
    "grouped_scores.groupby('model').mean()"
   ],
   "metadata": {
    "collapsed": false,
    "ExecuteTime": {
     "end_time": "2024-03-18T17:04:16.164591Z",
     "start_time": "2024-03-18T17:04:16.103776Z"
    }
   },
   "id": "35ca951d7ec7ea23"
  },
  {
   "cell_type": "code",
   "execution_count": 8,
   "outputs": [
    {
     "name": "stdout",
     "output_type": "stream",
     "text": [
      "              score\n",
      "weekday            \n",
      "4        488.193666\n",
      "5        252.399309\n",
      "740.5929748604374\n",
      "              score\n",
      "weekday            \n",
      "4        584.328881\n",
      "5        138.230529\n",
      "722.5594100036619\n",
      "              score\n",
      "weekday            \n",
      "4        288.706808\n",
      "5        217.057614\n",
      "505.76442187499987\n",
      "              score\n",
      "weekday            \n",
      "4        337.021967\n",
      "5        170.102202\n",
      "507.1241692657469\n"
     ]
    }
   ],
   "source": [
    "for evaluation in evaluations:\n",
    "    print(evaluation[['score','weekday']].groupby('weekday').sum())\n",
    "    print(evaluation['score'].sum())"
   ],
   "metadata": {
    "collapsed": false,
    "ExecuteTime": {
     "end_time": "2024-03-18T17:04:16.165164Z",
     "start_time": "2024-03-18T17:04:16.120240Z"
    }
   },
   "id": "1f2b92fd8635fca7"
  },
  {
   "cell_type": "code",
   "execution_count": 28,
   "outputs": [
    {
     "name": "stdout",
     "output_type": "stream",
     "text": [
      "  forecast_date  target  horizon     q0.025      q0.25       q0.5      q0.75  \\\n",
      "0    2022-02-03  energy  36 hour  40.025502  48.380315  52.425257   55.05325   \n",
      "1    2022-02-03  energy  40 hour  51.148251  61.501999  65.487005   70.10775   \n",
      "2    2022-02-03  energy  44 hour   50.02725  57.638251  60.318325  63.516001   \n",
      "3    2022-02-03  energy  60 hour  39.033502  46.368065  50.552842   53.74025   \n",
      "4    2022-02-03  energy  64 hour  50.156251  59.489749   63.61459   68.79475   \n",
      "\n",
      "      q0.975      actual_forecast_date    gesamt  weekday       score  \\\n",
      "0   57.79041 2022-02-04 12:00:00+01:00  74.97500        4  100.987137   \n",
      "1  74.568205 2022-02-04 16:00:00+01:00  71.16125        4   13.255118   \n",
      "2  66.703303 2022-02-04 20:00:00+01:00  67.48525        4   20.441995   \n",
      "3  57.003258 2022-02-05 12:00:00+01:00  63.64675        5   50.778473   \n",
      "4  73.781053 2022-02-05 16:00:00+01:00  59.93250        5    9.515831   \n",
      "\n",
      "             model  ensemble_score  \n",
      "0  Energy QuantReg      100.987137  \n",
      "1  Energy QuantReg       13.255118  \n",
      "2  Energy QuantReg       20.441995  \n",
      "3  Energy QuantReg       50.778473  \n",
      "4  Energy QuantReg        9.515831  \n"
     ]
    }
   ],
   "source": [
    "import pandas as pd\n",
    "\n",
    "# Assuming you have a list of DataFrames named `predictions_list`\n",
    "predictions_list = evaluations  # This will be your list of DataFrames as shown\n",
    "\n",
    "# Define weights for each model's predictions\n",
    "# These should sum up to 1. Adjust these based on your preference or model performance\n",
    "weights = [1, 0, 0,0]\n",
    "\n",
    "def create_ensemble(predictions_list, weights):\n",
    "    # Ensure the list and weights have the same length\n",
    "    assert len(predictions_list) == len(weights), \"The number of predictions must match the number of weights.\"\n",
    "    \n",
    "    # Convert each DataFrame's score to a weighted score\n",
    "    weighted_scores = [df['score'] * weight for df, weight in zip(predictions_list, weights)]\n",
    "    \n",
    "    # Combine the weighted scores into a single DataFrame\n",
    "    combined_scores = pd.concat(weighted_scores, axis=1)\n",
    "    \n",
    "    # Sum the weighted scores row-wise to get the final ensemble score\n",
    "    ensemble_score = combined_scores.sum(axis=1)\n",
    "    \n",
    "    # Create a new DataFrame for the ensemble result\n",
    "    ensemble_df = predictions_list[0].copy()\n",
    "    ensemble_df['ensemble_score'] = ensemble_score\n",
    "    \n",
    "    # Optionally, drop other score columns if they are no longer needed\n",
    "    # ensemble_df = ensemble_df[['forecast_date', 'target', 'horizon', 'ensemble_score', ...]]\n",
    "    \n",
    "    return ensemble_df\n",
    "\n",
    "# Create the ensemble\n",
    "ensemble_df = create_ensemble(predictions_list, weights)\n",
    "\n",
    "# Display the ensemble DataFrame\n",
    "print(ensemble_df.head())\n"
   ],
   "metadata": {
    "collapsed": false,
    "ExecuteTime": {
     "end_time": "2024-03-18T17:17:01.915076Z",
     "start_time": "2024-03-18T17:17:01.855581Z"
    }
   },
   "id": "2191f46c4fecb1bf"
  },
  {
   "cell_type": "code",
   "execution_count": 30,
   "outputs": [
    {
     "data": {
      "text/plain": "740.5929748604374"
     },
     "execution_count": 30,
     "metadata": {},
     "output_type": "execute_result"
    }
   ],
   "source": [
    "ensemble_df['ensemble_score'].sum()"
   ],
   "metadata": {
    "collapsed": false,
    "ExecuteTime": {
     "end_time": "2024-03-18T17:17:03.618631Z",
     "start_time": "2024-03-18T17:17:03.606745Z"
    }
   },
   "id": "ecb971b50ba45a31"
  },
  {
   "cell_type": "code",
   "execution_count": 61,
   "outputs": [
    {
     "data": {
      "text/plain": "  forecast_date  target  horizon     q0.025      q0.25       q0.5      q0.75  \\\n0    2022-02-03  energy  36 hour  48.542912  62.543813  65.020375  69.024938   \n1    2022-02-03  energy  40 hour  51.211075  58.527188  61.642375  67.916687   \n2    2022-02-03  energy  44 hour  48.136700  52.769562  56.125250  60.040875   \n3    2022-02-03  energy  60 hour  49.717100  52.258938  54.318375  57.881250   \n4    2022-02-03  energy  64 hour  47.565687  50.608375  53.194750  58.567063   \n5    2022-02-03  energy  68 hour  44.750369  47.516250  50.120000  53.582563   \n0    2022-02-10  energy  36 hour  48.542912  62.543813  65.020375  69.024938   \n1    2022-02-10  energy  40 hour  51.211075  58.527188  61.642375  68.012687   \n2    2022-02-10  energy  44 hour  48.136700  52.769562  56.125250  60.060812   \n3    2022-02-10  energy  60 hour  49.717100  52.258938  54.318375  57.939750   \n4    2022-02-10  energy  64 hour  47.565687  50.608375  53.194750  58.885688   \n5    2022-02-10  energy  68 hour  44.750369  47.516250  50.120000  53.714188   \n0    2022-02-17  energy  36 hour  48.542912  62.543813  65.020375  69.024938   \n1    2022-02-17  energy  40 hour  51.211075  58.527188  61.642375  68.718500   \n2    2022-02-17  energy  44 hour  48.136700  52.769562  56.125250  60.297562   \n3    2022-02-17  energy  60 hour  49.717100  52.258938  54.318375  58.560938   \n4    2022-02-17  energy  64 hour  47.565687  50.608375  53.194750  60.007875   \n5    2022-02-17  energy  68 hour  44.750369  47.516250  50.120000  54.142250   \n0    2022-02-24  energy  36 hour  48.542912  62.543813  65.084625  69.130063   \n1    2022-02-24  energy  40 hour  51.211075  58.527188  61.818875  69.109125   \n2    2022-02-24  energy  44 hour  48.136700  52.769562  56.125250  60.628250   \n3    2022-02-24  energy  60 hour  49.717100  52.258938  54.318375  58.662625   \n4    2022-02-24  energy  64 hour  47.565687  50.608375  53.194750  60.290813   \n5    2022-02-24  energy  68 hour  44.750369  47.516250  50.120000  54.273750   \n\n      q0.975      actual_forecast_date    gesamt  weekday      score     model  \n0  72.844075 2022-02-04 12:00:00+01:00  74.97500        4  30.572221  Baseline  \n1  74.133250 2022-02-04 16:00:00+01:00  71.16125        4  21.848859  Baseline  \n2  64.442612 2022-02-04 20:00:00+01:00  67.48525        4  36.784977  Baseline  \n3  62.486231 2022-02-05 12:00:00+01:00  63.64675        5  26.630025  Baseline  \n4  65.662856 2022-02-05 16:00:00+01:00  59.93250        5  14.352827  Baseline  \n5  57.839637 2022-02-05 20:00:00+01:00  60.15025        5  31.474470  Baseline  \n0  73.006719 2022-02-11 12:00:00+01:00  74.95075        4  30.133815  Baseline  \n1  74.133250 2022-02-11 16:00:00+01:00  69.86725        4  17.822859  Baseline  \n2  64.600431 2022-02-11 20:00:00+01:00  66.88525        4  33.447324  Baseline  \n3  62.486231 2022-02-12 12:00:00+01:00  61.65400        5  18.242988  Baseline  \n4  65.662856 2022-02-12 16:00:00+01:00  58.14925        5   9.998015  Baseline  \n5  57.839637 2022-02-12 20:00:00+01:00  60.34650        5  32.258282  Baseline  \n0  73.363606 2022-02-18 12:00:00+01:00  72.34525        4  18.447097  Baseline  \n1  74.133250 2022-02-18 16:00:00+01:00  67.97825        4  12.577640  Baseline  \n2  64.600431 2022-02-18 20:00:00+01:00  64.76500        4  22.490949  Baseline  \n3  62.486231 2022-02-19 12:00:00+01:00  62.82825        5  21.517994  Baseline  \n4  65.662856 2022-02-19 16:00:00+01:00  58.07850        5  10.488358  Baseline  \n5  57.839637 2022-02-19 20:00:00+01:00  58.64525        5  23.109938  Baseline  \n0  73.363606 2022-02-25 12:00:00+01:00  74.15600        4  25.242197  Baseline  \n1  74.133250 2022-02-25 16:00:00+01:00  69.02825        4  13.646453  Baseline  \n2  64.600431 2022-02-25 20:00:00+01:00  65.50450        4  25.692418  Baseline  \n3  62.486231 2022-02-26 12:00:00+01:00  58.76325        5   8.486425  Baseline  \n4  65.662856 2022-02-26 16:00:00+01:00  53.72250        5   6.273827  Baseline  \n5  57.839637 2022-02-26 20:00:00+01:00  56.28625        5  14.224463  Baseline  ",
      "text/html": "<div>\n<style scoped>\n    .dataframe tbody tr th:only-of-type {\n        vertical-align: middle;\n    }\n\n    .dataframe tbody tr th {\n        vertical-align: top;\n    }\n\n    .dataframe thead th {\n        text-align: right;\n    }\n</style>\n<table border=\"1\" class=\"dataframe\">\n  <thead>\n    <tr style=\"text-align: right;\">\n      <th></th>\n      <th>forecast_date</th>\n      <th>target</th>\n      <th>horizon</th>\n      <th>q0.025</th>\n      <th>q0.25</th>\n      <th>q0.5</th>\n      <th>q0.75</th>\n      <th>q0.975</th>\n      <th>actual_forecast_date</th>\n      <th>gesamt</th>\n      <th>weekday</th>\n      <th>score</th>\n      <th>model</th>\n    </tr>\n  </thead>\n  <tbody>\n    <tr>\n      <th>0</th>\n      <td>2022-02-03</td>\n      <td>energy</td>\n      <td>36 hour</td>\n      <td>48.542912</td>\n      <td>62.543813</td>\n      <td>65.020375</td>\n      <td>69.024938</td>\n      <td>72.844075</td>\n      <td>2022-02-04 12:00:00+01:00</td>\n      <td>74.97500</td>\n      <td>4</td>\n      <td>30.572221</td>\n      <td>Baseline</td>\n    </tr>\n    <tr>\n      <th>1</th>\n      <td>2022-02-03</td>\n      <td>energy</td>\n      <td>40 hour</td>\n      <td>51.211075</td>\n      <td>58.527188</td>\n      <td>61.642375</td>\n      <td>67.916687</td>\n      <td>74.133250</td>\n      <td>2022-02-04 16:00:00+01:00</td>\n      <td>71.16125</td>\n      <td>4</td>\n      <td>21.848859</td>\n      <td>Baseline</td>\n    </tr>\n    <tr>\n      <th>2</th>\n      <td>2022-02-03</td>\n      <td>energy</td>\n      <td>44 hour</td>\n      <td>48.136700</td>\n      <td>52.769562</td>\n      <td>56.125250</td>\n      <td>60.040875</td>\n      <td>64.442612</td>\n      <td>2022-02-04 20:00:00+01:00</td>\n      <td>67.48525</td>\n      <td>4</td>\n      <td>36.784977</td>\n      <td>Baseline</td>\n    </tr>\n    <tr>\n      <th>3</th>\n      <td>2022-02-03</td>\n      <td>energy</td>\n      <td>60 hour</td>\n      <td>49.717100</td>\n      <td>52.258938</td>\n      <td>54.318375</td>\n      <td>57.881250</td>\n      <td>62.486231</td>\n      <td>2022-02-05 12:00:00+01:00</td>\n      <td>63.64675</td>\n      <td>5</td>\n      <td>26.630025</td>\n      <td>Baseline</td>\n    </tr>\n    <tr>\n      <th>4</th>\n      <td>2022-02-03</td>\n      <td>energy</td>\n      <td>64 hour</td>\n      <td>47.565687</td>\n      <td>50.608375</td>\n      <td>53.194750</td>\n      <td>58.567063</td>\n      <td>65.662856</td>\n      <td>2022-02-05 16:00:00+01:00</td>\n      <td>59.93250</td>\n      <td>5</td>\n      <td>14.352827</td>\n      <td>Baseline</td>\n    </tr>\n    <tr>\n      <th>5</th>\n      <td>2022-02-03</td>\n      <td>energy</td>\n      <td>68 hour</td>\n      <td>44.750369</td>\n      <td>47.516250</td>\n      <td>50.120000</td>\n      <td>53.582563</td>\n      <td>57.839637</td>\n      <td>2022-02-05 20:00:00+01:00</td>\n      <td>60.15025</td>\n      <td>5</td>\n      <td>31.474470</td>\n      <td>Baseline</td>\n    </tr>\n    <tr>\n      <th>0</th>\n      <td>2022-02-10</td>\n      <td>energy</td>\n      <td>36 hour</td>\n      <td>48.542912</td>\n      <td>62.543813</td>\n      <td>65.020375</td>\n      <td>69.024938</td>\n      <td>73.006719</td>\n      <td>2022-02-11 12:00:00+01:00</td>\n      <td>74.95075</td>\n      <td>4</td>\n      <td>30.133815</td>\n      <td>Baseline</td>\n    </tr>\n    <tr>\n      <th>1</th>\n      <td>2022-02-10</td>\n      <td>energy</td>\n      <td>40 hour</td>\n      <td>51.211075</td>\n      <td>58.527188</td>\n      <td>61.642375</td>\n      <td>68.012687</td>\n      <td>74.133250</td>\n      <td>2022-02-11 16:00:00+01:00</td>\n      <td>69.86725</td>\n      <td>4</td>\n      <td>17.822859</td>\n      <td>Baseline</td>\n    </tr>\n    <tr>\n      <th>2</th>\n      <td>2022-02-10</td>\n      <td>energy</td>\n      <td>44 hour</td>\n      <td>48.136700</td>\n      <td>52.769562</td>\n      <td>56.125250</td>\n      <td>60.060812</td>\n      <td>64.600431</td>\n      <td>2022-02-11 20:00:00+01:00</td>\n      <td>66.88525</td>\n      <td>4</td>\n      <td>33.447324</td>\n      <td>Baseline</td>\n    </tr>\n    <tr>\n      <th>3</th>\n      <td>2022-02-10</td>\n      <td>energy</td>\n      <td>60 hour</td>\n      <td>49.717100</td>\n      <td>52.258938</td>\n      <td>54.318375</td>\n      <td>57.939750</td>\n      <td>62.486231</td>\n      <td>2022-02-12 12:00:00+01:00</td>\n      <td>61.65400</td>\n      <td>5</td>\n      <td>18.242988</td>\n      <td>Baseline</td>\n    </tr>\n    <tr>\n      <th>4</th>\n      <td>2022-02-10</td>\n      <td>energy</td>\n      <td>64 hour</td>\n      <td>47.565687</td>\n      <td>50.608375</td>\n      <td>53.194750</td>\n      <td>58.885688</td>\n      <td>65.662856</td>\n      <td>2022-02-12 16:00:00+01:00</td>\n      <td>58.14925</td>\n      <td>5</td>\n      <td>9.998015</td>\n      <td>Baseline</td>\n    </tr>\n    <tr>\n      <th>5</th>\n      <td>2022-02-10</td>\n      <td>energy</td>\n      <td>68 hour</td>\n      <td>44.750369</td>\n      <td>47.516250</td>\n      <td>50.120000</td>\n      <td>53.714188</td>\n      <td>57.839637</td>\n      <td>2022-02-12 20:00:00+01:00</td>\n      <td>60.34650</td>\n      <td>5</td>\n      <td>32.258282</td>\n      <td>Baseline</td>\n    </tr>\n    <tr>\n      <th>0</th>\n      <td>2022-02-17</td>\n      <td>energy</td>\n      <td>36 hour</td>\n      <td>48.542912</td>\n      <td>62.543813</td>\n      <td>65.020375</td>\n      <td>69.024938</td>\n      <td>73.363606</td>\n      <td>2022-02-18 12:00:00+01:00</td>\n      <td>72.34525</td>\n      <td>4</td>\n      <td>18.447097</td>\n      <td>Baseline</td>\n    </tr>\n    <tr>\n      <th>1</th>\n      <td>2022-02-17</td>\n      <td>energy</td>\n      <td>40 hour</td>\n      <td>51.211075</td>\n      <td>58.527188</td>\n      <td>61.642375</td>\n      <td>68.718500</td>\n      <td>74.133250</td>\n      <td>2022-02-18 16:00:00+01:00</td>\n      <td>67.97825</td>\n      <td>4</td>\n      <td>12.577640</td>\n      <td>Baseline</td>\n    </tr>\n    <tr>\n      <th>2</th>\n      <td>2022-02-17</td>\n      <td>energy</td>\n      <td>44 hour</td>\n      <td>48.136700</td>\n      <td>52.769562</td>\n      <td>56.125250</td>\n      <td>60.297562</td>\n      <td>64.600431</td>\n      <td>2022-02-18 20:00:00+01:00</td>\n      <td>64.76500</td>\n      <td>4</td>\n      <td>22.490949</td>\n      <td>Baseline</td>\n    </tr>\n    <tr>\n      <th>3</th>\n      <td>2022-02-17</td>\n      <td>energy</td>\n      <td>60 hour</td>\n      <td>49.717100</td>\n      <td>52.258938</td>\n      <td>54.318375</td>\n      <td>58.560938</td>\n      <td>62.486231</td>\n      <td>2022-02-19 12:00:00+01:00</td>\n      <td>62.82825</td>\n      <td>5</td>\n      <td>21.517994</td>\n      <td>Baseline</td>\n    </tr>\n    <tr>\n      <th>4</th>\n      <td>2022-02-17</td>\n      <td>energy</td>\n      <td>64 hour</td>\n      <td>47.565687</td>\n      <td>50.608375</td>\n      <td>53.194750</td>\n      <td>60.007875</td>\n      <td>65.662856</td>\n      <td>2022-02-19 16:00:00+01:00</td>\n      <td>58.07850</td>\n      <td>5</td>\n      <td>10.488358</td>\n      <td>Baseline</td>\n    </tr>\n    <tr>\n      <th>5</th>\n      <td>2022-02-17</td>\n      <td>energy</td>\n      <td>68 hour</td>\n      <td>44.750369</td>\n      <td>47.516250</td>\n      <td>50.120000</td>\n      <td>54.142250</td>\n      <td>57.839637</td>\n      <td>2022-02-19 20:00:00+01:00</td>\n      <td>58.64525</td>\n      <td>5</td>\n      <td>23.109938</td>\n      <td>Baseline</td>\n    </tr>\n    <tr>\n      <th>0</th>\n      <td>2022-02-24</td>\n      <td>energy</td>\n      <td>36 hour</td>\n      <td>48.542912</td>\n      <td>62.543813</td>\n      <td>65.084625</td>\n      <td>69.130063</td>\n      <td>73.363606</td>\n      <td>2022-02-25 12:00:00+01:00</td>\n      <td>74.15600</td>\n      <td>4</td>\n      <td>25.242197</td>\n      <td>Baseline</td>\n    </tr>\n    <tr>\n      <th>1</th>\n      <td>2022-02-24</td>\n      <td>energy</td>\n      <td>40 hour</td>\n      <td>51.211075</td>\n      <td>58.527188</td>\n      <td>61.818875</td>\n      <td>69.109125</td>\n      <td>74.133250</td>\n      <td>2022-02-25 16:00:00+01:00</td>\n      <td>69.02825</td>\n      <td>4</td>\n      <td>13.646453</td>\n      <td>Baseline</td>\n    </tr>\n    <tr>\n      <th>2</th>\n      <td>2022-02-24</td>\n      <td>energy</td>\n      <td>44 hour</td>\n      <td>48.136700</td>\n      <td>52.769562</td>\n      <td>56.125250</td>\n      <td>60.628250</td>\n      <td>64.600431</td>\n      <td>2022-02-25 20:00:00+01:00</td>\n      <td>65.50450</td>\n      <td>4</td>\n      <td>25.692418</td>\n      <td>Baseline</td>\n    </tr>\n    <tr>\n      <th>3</th>\n      <td>2022-02-24</td>\n      <td>energy</td>\n      <td>60 hour</td>\n      <td>49.717100</td>\n      <td>52.258938</td>\n      <td>54.318375</td>\n      <td>58.662625</td>\n      <td>62.486231</td>\n      <td>2022-02-26 12:00:00+01:00</td>\n      <td>58.76325</td>\n      <td>5</td>\n      <td>8.486425</td>\n      <td>Baseline</td>\n    </tr>\n    <tr>\n      <th>4</th>\n      <td>2022-02-24</td>\n      <td>energy</td>\n      <td>64 hour</td>\n      <td>47.565687</td>\n      <td>50.608375</td>\n      <td>53.194750</td>\n      <td>60.290813</td>\n      <td>65.662856</td>\n      <td>2022-02-26 16:00:00+01:00</td>\n      <td>53.72250</td>\n      <td>5</td>\n      <td>6.273827</td>\n      <td>Baseline</td>\n    </tr>\n    <tr>\n      <th>5</th>\n      <td>2022-02-24</td>\n      <td>energy</td>\n      <td>68 hour</td>\n      <td>44.750369</td>\n      <td>47.516250</td>\n      <td>50.120000</td>\n      <td>54.273750</td>\n      <td>57.839637</td>\n      <td>2022-02-26 20:00:00+01:00</td>\n      <td>56.28625</td>\n      <td>5</td>\n      <td>14.224463</td>\n      <td>Baseline</td>\n    </tr>\n  </tbody>\n</table>\n</div>"
     },
     "execution_count": 61,
     "metadata": {},
     "output_type": "execute_result"
    }
   ],
   "source": [
    "evaluations[2]"
   ],
   "metadata": {
    "collapsed": false,
    "ExecuteTime": {
     "end_time": "2024-03-20T11:36:16.309978Z",
     "start_time": "2024-03-20T11:36:16.247604Z"
    }
   },
   "id": "d903b819f09c195c"
  },
  {
   "cell_type": "code",
   "execution_count": 41,
   "outputs": [],
   "source": [
    "from functions import naive_ensemble"
   ],
   "metadata": {
    "collapsed": false,
    "ExecuteTime": {
     "end_time": "2024-03-18T18:02:56.065680Z",
     "start_time": "2024-03-18T18:02:56.037354Z"
    }
   },
   "id": "3cde0d53b1398ccd"
  },
  {
   "cell_type": "code",
   "execution_count": 68,
   "outputs": [],
   "source": [
    "def ensemble(df_models, weights):\n",
    "    \"\"\"\n",
    "    Combine forecasts from multiple models into an ensemble forecast using specified weights.\n",
    "    This version of the function works with DataFrames that may have additional columns.\n",
    "\n",
    "    :param df_models: List of DataFrames with forecasts from each model\n",
    "    :param weights: List of weights for each model's forecast\n",
    "    :return: DataFrame with the ensemble forecast\n",
    "    \"\"\"\n",
    "    if len(df_models) != len(weights):\n",
    "        raise ValueError(\"The number of DataFrames and weights must be the same.\")\n",
    "    \n",
    "    # Ensuring all DataFrames have the same shape\n",
    "    first_shape = df_models[0].shape\n",
    "    if not all(df.shape == first_shape for df in df_models):\n",
    "        raise ValueError(\"The shape of all DataFrames must be the same.\")\n",
    "    \n",
    "    # Identify quantile columns by their names\n",
    "    quantile_columns = [col for col in df_models[0].columns if col.startswith('q')]\n",
    "\n",
    "    # Ensuring the forecast dates, targets, and horizons match in all DataFrames\n",
    "    matching_columns = ['forecast_date', 'target', 'horizon']\n",
    "    for df in df_models[1:]:\n",
    "        if not (df_models[0][matching_columns] == df[matching_columns]).all().all():\n",
    "            raise ValueError(\"The forecast dates, targets, and horizons must match in all DataFrames.\")\n",
    "\n",
    "    # Calculating the ensemble forecast for quantile columns\n",
    "    ensemble = sum([df[quantile_columns] * weight for df, weight in zip(df_models, weights)])\n",
    "\n",
    "    # Adding back other columns from the first DataFrame\n",
    "    for col in df_models[0].columns:\n",
    "        if col not in quantile_columns:\n",
    "            ensemble[col] = df_models[0][col]\n",
    "    \n",
    "    ensemble = ensemble[df_models[0].columns]\n",
    "    return ensemble\n",
    "\n",
    "# Example usage\n",
    "# df_models = [df_model1, df_model2, df_model3]  # Your DataFrames containing the forecasts\n",
    "# weights = [0.5, 0.3, 0.2]  # Weights for each model's forecast\n",
    "# ensemble_df = ensemble(df_models, weights)\n"
   ],
   "metadata": {
    "collapsed": false,
    "ExecuteTime": {
     "end_time": "2024-03-20T11:40:02.684837Z",
     "start_time": "2024-03-20T11:40:02.654283Z"
    }
   },
   "id": "b971a0045770c1f5"
  },
  {
   "cell_type": "markdown",
   "source": [
    "Only evaluate for ensembles between basline and LSTM"
   ],
   "metadata": {
    "collapsed": false
   },
   "id": "65f9ed2f178514c7"
  },
  {
   "cell_type": "code",
   "execution_count": 171,
   "outputs": [],
   "source": [
    "df_models = [evaluations[2], evaluations[3]]  # Your DataFrames containing the forecasts\n",
    "weights = [0.56, 0.44]  # Weights for each model's forecast\n",
    "ensemble_df= ensemble(df_models, weights)"
   ],
   "metadata": {
    "collapsed": false,
    "ExecuteTime": {
     "end_time": "2024-03-20T18:31:45.958427Z",
     "start_time": "2024-03-20T18:31:45.928016Z"
    }
   },
   "id": "7ff7fb9084c5e72c"
  },
  {
   "cell_type": "code",
   "execution_count": 163,
   "outputs": [],
   "source": [
    "weight_i=np.arange(0,1.1,0.01)\n",
    "weight_store = dict()"
   ],
   "metadata": {
    "collapsed": false,
    "ExecuteTime": {
     "end_time": "2024-03-20T18:29:09.722190Z",
     "start_time": "2024-03-20T18:29:09.625922Z"
    }
   },
   "id": "e774a2302ba71246"
  },
  {
   "cell_type": "code",
   "execution_count": 164,
   "outputs": [
    {
     "name": "stdout",
     "output_type": "stream",
     "text": [
      "0.0 583.072612915039\n",
      "0.01 575.8993634847169\n",
      "0.02 568.726003428174\n",
      "0.03 561.5526777039062\n",
      "0.04 554.3793916524903\n",
      "0.05 547.2060521953126\n",
      "0.06 540.0327821656253\n",
      "0.07 532.8594045614745\n",
      "0.08 525.6861719158202\n",
      "0.09 518.5128698426759\n",
      "0.1 511.33948613500974\n",
      "0.11 504.16619169125994\n",
      "0.12 496.99295065327146\n",
      "0.13 489.8195967002441\n",
      "0.14 482.64630988588885\n",
      "0.15 475.47299407983405\n",
      "0.16 468.2996759849608\n",
      "0.17 461.12633805366204\n",
      "0.18 453.9531115115234\n",
      "0.19 446.7797651878906\n",
      "0.2 439.60644938183594\n",
      "0.21 432.4331404422362\n",
      "0.22 425.2598459984863\n",
      "0.23 418.08654392534186\n",
      "0.24 410.9131983646485\n",
      "0.25 403.7399191796877\n",
      "0.26 397.3250292090821\n",
      "0.27 391.1194145253419\n",
      "0.28 384.9138280703613\n",
      "0.29 378.70822635659204\n",
      "0.3 372.5026482939455\n",
      "0.31 366.42031207285163\n",
      "0.32 361.5503775753907\n",
      "0.33 357.3389590703614\n",
      "0.34 353.2358735072264\n",
      "0.35000000000000003 349.13279252172856\n",
      "0.36 345.0297519720216\n",
      "0.37 340.92665649067385\n",
      "0.38 337.6160592026855\n",
      "0.39 334.6317992193847\n",
      "0.4 331.64756212426755\n",
      "0.41000000000000003 328.92231395371084\n",
      "0.42 326.8939443073243\n",
      "0.43 325.20596517485353\n",
      "0.44 323.5180013011718\n",
      "0.45 321.83002293164054\n",
      "0.46 320.1420209109864\n",
      "0.47000000000000003 318.958506451367\n",
      "0.48 318.19179165300295\n",
      "0.49 317.4250188712401\n",
      "0.5 316.6582563891601\n",
      "0.51 315.8915057326417\n",
      "0.52 315.1248149668701\n",
      "0.53 314.3580490515625\n",
      "0.54 313.5913132723632\n",
      "0.55 312.8246007628172\n",
      "0.56 312.05785659128406\n",
      "0.5700000000000001 312.1591651577879\n",
      "0.58 312.5177503215821\n",
      "0.59 312.87626338759765\n",
      "0.6 313.2347734018556\n",
      "0.61 313.5933585656496\n",
      "0.62 313.951860569043\n",
      "0.63 314.3103728721193\n",
      "0.64 314.6688825049072\n",
      "0.65 315.0274638540038\n",
      "0.66 315.3859814976561\n",
      "0.67 315.74448693427723\n",
      "0.68 316.1030759127684\n",
      "0.6900000000000001 316.4615966081785\n",
      "0.7000000000000001 316.82010128186016\n",
      "0.71 317.1786833938968\n",
      "0.72 317.6623560265625\n",
      "0.73 318.9061289174073\n",
      "0.74 320.70942796029044\n",
      "0.75 322.5509048474121\n",
      "0.76 324.3924591728882\n",
      "0.77 326.23394521528314\n",
      "0.78 328.07549191136457\n",
      "0.79 329.91704814418927\n",
      "0.8 331.75854009936495\n",
      "0.81 333.6000869861813\n",
      "0.8200000000000001 335.4415783691526\n",
      "0.8300000000000001 337.2831311687496\n",
      "0.84 339.1246816795291\n",
      "0.85 340.9661747791137\n",
      "0.86 342.8077275787109\n",
      "0.87 344.6492808551451\n",
      "0.88 346.490796461444\n",
      "0.89 348.3323128306821\n",
      "0.9 350.1738369246824\n",
      "0.91 352.01535605957633\n",
      "0.92 353.85690771476436\n",
      "0.93 355.6984306643551\n",
      "0.9400000000000001 357.64079155652735\n",
      "0.9500000000000001 360.1691737284542\n",
      "0.96 362.69757106380314\n",
      "0.97 365.2259626532639\n",
      "0.98 368.04775935361806\n",
      "0.99 371.15544655180895\n",
      "1.0 374.26313375\n",
      "1.01 377.37082094819107\n",
      "1.02 380.47850814638196\n",
      "1.03 383.5861958571729\n",
      "1.04 386.69388254276413\n",
      "1.05 389.80157974261465\n",
      "1.06 392.909257964346\n",
      "1.07 396.0169523031735\n",
      "1.08 399.1246313355283\n",
      "1.09 402.23234670287445\n"
     ]
    }
   ],
   "source": [
    "for i in weight_i:\n",
    "    df_models = [evaluations[2], evaluations[3]]  # Your DataFrames containing the forecasts\n",
    "    weights = [i, 1-i]  # Weights for each model's forecast\n",
    "    ensemble_df= ensemble(df_models, weights)\n",
    "    for index, row in ensemble_df.iterrows():\n",
    "        quantile_preds = row[['q0.025', 'q0.25', 'q0.5', 'q0.75', 'q0.975']]\n",
    "        observation = row['gesamt']\n",
    "        score = evaluate_horizon(quantile_preds, observation)\n",
    "        ensemble_df.at[index, 'score'] = score\n",
    "    print(i, ensemble_df['score'].sum())\n",
    "    # store the score\n",
    "    weight_store[i,1-i] = ensemble_df['score'].sum()\n",
    "    "
   ],
   "metadata": {
    "collapsed": false,
    "ExecuteTime": {
     "end_time": "2024-03-20T18:29:43.617283Z",
     "start_time": "2024-03-20T18:29:42.398611Z"
    }
   },
   "id": "70e627bfa9c278e7"
  },
  {
   "cell_type": "code",
   "execution_count": 165,
   "outputs": [
    {
     "data": {
      "text/plain": "{(0.0, 1.0): 583.072612915039,\n (0.01, 0.99): 575.8993634847169,\n (0.02, 0.98): 568.726003428174,\n (0.03, 0.97): 561.5526777039062,\n (0.04, 0.96): 554.3793916524903,\n (0.05, 0.95): 547.2060521953126,\n (0.06, 0.94): 540.0327821656253,\n (0.07, 0.9299999999999999): 532.8594045614745,\n (0.08, 0.92): 525.6861719158202,\n (0.09, 0.91): 518.5128698426759,\n (0.1, 0.9): 511.33948613500974,\n (0.11, 0.89): 504.16619169125994,\n (0.12, 0.88): 496.99295065327146,\n (0.13, 0.87): 489.8195967002441,\n (0.14, 0.86): 482.64630988588885,\n (0.15, 0.85): 475.47299407983405,\n (0.16, 0.84): 468.2996759849608,\n (0.17, 0.83): 461.12633805366204,\n (0.18, 0.8200000000000001): 453.9531115115234,\n (0.19, 0.81): 446.7797651878906,\n (0.2, 0.8): 439.60644938183594,\n (0.21, 0.79): 432.4331404422362,\n (0.22, 0.78): 425.2598459984863,\n (0.23, 0.77): 418.08654392534186,\n (0.24, 0.76): 410.9131983646485,\n (0.25, 0.75): 403.7399191796877,\n (0.26, 0.74): 397.3250292090821,\n (0.27, 0.73): 391.1194145253419,\n (0.28, 0.72): 384.9138280703613,\n (0.29, 0.71): 378.70822635659204,\n (0.3, 0.7): 372.5026482939455,\n (0.31, 0.69): 366.42031207285163,\n (0.32, 0.6799999999999999): 361.5503775753907,\n (0.33, 0.6699999999999999): 357.3389590703614,\n (0.34, 0.6599999999999999): 353.2358735072264,\n (0.35000000000000003, 0.6499999999999999): 349.13279252172856,\n (0.36, 0.64): 345.0297519720216,\n (0.37, 0.63): 340.92665649067385,\n (0.38, 0.62): 337.6160592026855,\n (0.39, 0.61): 334.6317992193847,\n (0.4, 0.6): 331.64756212426755,\n (0.41000000000000003, 0.59): 328.92231395371084,\n (0.42, 0.5800000000000001): 326.8939443073243,\n (0.43, 0.5700000000000001): 325.20596517485353,\n (0.44, 0.56): 323.5180013011718,\n (0.45, 0.55): 321.83002293164054,\n (0.46, 0.54): 320.1420209109864,\n (0.47000000000000003, 0.53): 318.958506451367,\n (0.48, 0.52): 318.19179165300295,\n (0.49, 0.51): 317.4250188712401,\n (0.5, 0.5): 316.6582563891601,\n (0.51, 0.49): 315.8915057326417,\n (0.52, 0.48): 315.1248149668701,\n (0.53, 0.47): 314.3580490515625,\n (0.54, 0.45999999999999996): 313.5913132723632,\n (0.55, 0.44999999999999996): 312.8246007628172,\n (0.56, 0.43999999999999995): 312.05785659128406,\n (0.5700000000000001, 0.42999999999999994): 312.1591651577879,\n (0.58, 0.42000000000000004): 312.5177503215821,\n (0.59, 0.41000000000000003): 312.87626338759765,\n (0.6, 0.4): 313.2347734018556,\n (0.61, 0.39): 313.5933585656496,\n (0.62, 0.38): 313.951860569043,\n (0.63, 0.37): 314.3103728721193,\n (0.64, 0.36): 314.6688825049072,\n (0.65, 0.35): 315.0274638540038,\n (0.66, 0.33999999999999997): 315.3859814976561,\n (0.67, 0.32999999999999996): 315.74448693427723,\n (0.68, 0.31999999999999995): 316.1030759127684,\n (0.6900000000000001, 0.30999999999999994): 316.4615966081785,\n (0.7000000000000001, 0.29999999999999993): 316.82010128186016,\n (0.71, 0.29000000000000004): 317.1786833938968,\n (0.72, 0.28): 317.6623560265625,\n (0.73, 0.27): 318.9061289174073,\n (0.74, 0.26): 320.70942796029044,\n (0.75, 0.25): 322.5509048474121,\n (0.76, 0.24): 324.3924591728882,\n (0.77, 0.22999999999999998): 326.23394521528314,\n (0.78, 0.21999999999999997): 328.07549191136457,\n (0.79, 0.20999999999999996): 329.91704814418927,\n (0.8, 0.19999999999999996): 331.75854009936495,\n (0.81, 0.18999999999999995): 333.6000869861813,\n (0.8200000000000001, 0.17999999999999994): 335.4415783691526,\n (0.8300000000000001, 0.16999999999999993): 337.2831311687496,\n (0.84, 0.16000000000000003): 339.1246816795291,\n (0.85, 0.15000000000000002): 340.9661747791137,\n (0.86, 0.14): 342.8077275787109,\n (0.87, 0.13): 344.6492808551451,\n (0.88, 0.12): 346.490796461444,\n (0.89, 0.10999999999999999): 348.3323128306821,\n (0.9, 0.09999999999999998): 350.1738369246824,\n (0.91, 0.08999999999999997): 352.01535605957633,\n (0.92, 0.07999999999999996): 353.85690771476436,\n (0.93, 0.06999999999999995): 355.6984306643551,\n (0.9400000000000001, 0.05999999999999994): 357.64079155652735,\n (0.9500000000000001, 0.04999999999999993): 360.1691737284542,\n (0.96, 0.040000000000000036): 362.69757106380314,\n (0.97, 0.030000000000000027): 365.2259626532639,\n (0.98, 0.020000000000000018): 368.04775935361806,\n (0.99, 0.010000000000000009): 371.15544655180895,\n (1.0, 0.0): 374.26313375,\n (1.01, -0.010000000000000009): 377.37082094819107,\n (1.02, -0.020000000000000018): 380.47850814638196,\n (1.03, -0.030000000000000027): 383.5861958571729,\n (1.04, -0.040000000000000036): 386.69388254276413,\n (1.05, -0.050000000000000044): 389.80157974261465,\n (1.06, -0.06000000000000005): 392.909257964346,\n (1.07, -0.07000000000000006): 396.0169523031735,\n (1.08, -0.08000000000000007): 399.1246313355283,\n (1.09, -0.09000000000000008): 402.23234670287445}"
     },
     "execution_count": 165,
     "metadata": {},
     "output_type": "execute_result"
    }
   ],
   "source": [
    "weight_store"
   ],
   "metadata": {
    "collapsed": false,
    "ExecuteTime": {
     "end_time": "2024-03-20T18:29:47.088153Z",
     "start_time": "2024-03-20T18:29:47.023326Z"
    }
   },
   "id": "cab022d27abf454b"
  },
  {
   "cell_type": "code",
   "execution_count": 166,
   "outputs": [],
   "source": [
    "# get the best weight\n",
    "best_weight = min(weight_store, key=weight_store.get)"
   ],
   "metadata": {
    "collapsed": false,
    "ExecuteTime": {
     "end_time": "2024-03-20T18:30:02.159917Z",
     "start_time": "2024-03-20T18:30:02.080852Z"
    }
   },
   "id": "b770bc03ce65d022"
  },
  {
   "cell_type": "code",
   "execution_count": 167,
   "outputs": [
    {
     "data": {
      "text/plain": "(0.56, 0.43999999999999995)"
     },
     "execution_count": 167,
     "metadata": {},
     "output_type": "execute_result"
    }
   ],
   "source": [
    "best_weight"
   ],
   "metadata": {
    "collapsed": false,
    "ExecuteTime": {
     "end_time": "2024-03-20T18:30:05.247827Z",
     "start_time": "2024-03-20T18:30:05.181175Z"
    }
   },
   "id": "206482865ce357c7"
  },
  {
   "cell_type": "code",
   "execution_count": 168,
   "outputs": [],
   "source": [
    "weight_store[best_weight]"
   ],
   "metadata": {
    "collapsed": false
   },
   "id": "2eada2c04c31699a"
  },
  {
   "cell_type": "code",
   "execution_count": 173,
   "outputs": [],
   "source": [
    "weight_store_df = pd.DataFrame.from_dict(weight_store, orient='index')"
   ],
   "metadata": {
    "collapsed": false,
    "ExecuteTime": {
     "end_time": "2024-03-20T18:36:08.036479Z",
     "start_time": "2024-03-20T18:36:07.960642Z"
    }
   },
   "id": "b647fd382b847960"
  },
  {
   "cell_type": "code",
   "execution_count": 174,
   "outputs": [
    {
     "data": {
      "text/plain": "                                        0\n(0.0, 1.0)                     583.072613\n(0.01, 0.99)                   575.899363\n(0.02, 0.98)                   568.726003\n(0.03, 0.97)                   561.552678\n(0.04, 0.96)                   554.379392\n...                                   ...\n(1.05, -0.050000000000000044)  389.801580\n(1.06, -0.06000000000000005)   392.909258\n(1.07, -0.07000000000000006)   396.016952\n(1.08, -0.08000000000000007)   399.124631\n(1.09, -0.09000000000000008)   402.232347\n\n[110 rows x 1 columns]",
      "text/html": "<div>\n<style scoped>\n    .dataframe tbody tr th:only-of-type {\n        vertical-align: middle;\n    }\n\n    .dataframe tbody tr th {\n        vertical-align: top;\n    }\n\n    .dataframe thead th {\n        text-align: right;\n    }\n</style>\n<table border=\"1\" class=\"dataframe\">\n  <thead>\n    <tr style=\"text-align: right;\">\n      <th></th>\n      <th>0</th>\n    </tr>\n  </thead>\n  <tbody>\n    <tr>\n      <th>(0.0, 1.0)</th>\n      <td>583.072613</td>\n    </tr>\n    <tr>\n      <th>(0.01, 0.99)</th>\n      <td>575.899363</td>\n    </tr>\n    <tr>\n      <th>(0.02, 0.98)</th>\n      <td>568.726003</td>\n    </tr>\n    <tr>\n      <th>(0.03, 0.97)</th>\n      <td>561.552678</td>\n    </tr>\n    <tr>\n      <th>(0.04, 0.96)</th>\n      <td>554.379392</td>\n    </tr>\n    <tr>\n      <th>...</th>\n      <td>...</td>\n    </tr>\n    <tr>\n      <th>(1.05, -0.050000000000000044)</th>\n      <td>389.801580</td>\n    </tr>\n    <tr>\n      <th>(1.06, -0.06000000000000005)</th>\n      <td>392.909258</td>\n    </tr>\n    <tr>\n      <th>(1.07, -0.07000000000000006)</th>\n      <td>396.016952</td>\n    </tr>\n    <tr>\n      <th>(1.08, -0.08000000000000007)</th>\n      <td>399.124631</td>\n    </tr>\n    <tr>\n      <th>(1.09, -0.09000000000000008)</th>\n      <td>402.232347</td>\n    </tr>\n  </tbody>\n</table>\n<p>110 rows × 1 columns</p>\n</div>"
     },
     "execution_count": 174,
     "metadata": {},
     "output_type": "execute_result"
    }
   ],
   "source": [],
   "metadata": {
    "collapsed": false,
    "ExecuteTime": {
     "end_time": "2024-03-20T18:36:10.065947Z",
     "start_time": "2024-03-20T18:36:10.031013Z"
    }
   },
   "id": "29b0539f6a5c31fd"
  }
 ],
 "metadata": {
  "kernelspec": {
   "display_name": "Python 3",
   "language": "python",
   "name": "python3"
  },
  "language_info": {
   "codemirror_mode": {
    "name": "ipython",
    "version": 2
   },
   "file_extension": ".py",
   "mimetype": "text/x-python",
   "name": "python",
   "nbconvert_exporter": "python",
   "pygments_lexer": "ipython2",
   "version": "2.7.6"
  }
 },
 "nbformat": 4,
 "nbformat_minor": 5
}
