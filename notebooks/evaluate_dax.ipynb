{
 "cells": [
  {
   "cell_type": "code",
   "execution_count": 1,
   "id": "initial_id",
   "metadata": {
    "collapsed": true,
    "ExecuteTime": {
     "end_time": "2023-11-18T21:24:27.885657Z",
     "start_time": "2023-11-18T21:24:27.755848Z"
    }
   },
   "outputs": [],
   "source": [
    "from functions import *\n",
    "from functions import evaluate_dax\n",
    "from functions import get_DAX\n",
    "from models.DAX import DAX_baseline\n",
    "from models.DAX import DAX_quantile_regression"
   ]
  },
  {
   "cell_type": "code",
   "execution_count": 2,
   "outputs": [],
   "source": [
    "daxdata=get_DAX.get()\n",
    "\n",
    "baseline_model = {\n",
    "    'name': 'Baseline Model',\n",
    "    'function': DAX_baseline.DAX_baseline\n",
    "}\n",
    "quantile_model = {\n",
    "    'name': 'Quantile Regression',\n",
    "    'function': DAX_quantile_regression.DAX_quantile_regression\n",
    "}\n",
    "\n"
   ],
   "metadata": {
    "collapsed": false,
    "ExecuteTime": {
     "end_time": "2023-11-18T21:24:28.344838Z",
     "start_time": "2023-11-18T21:24:27.887232Z"
    }
   },
   "id": "dc07970c17a71b0e"
  },
  {
   "cell_type": "code",
   "execution_count": 3,
   "outputs": [
    {
     "name": "stderr",
     "output_type": "stream",
     "text": [
      "Evaluating models:   0%|          | 0/3 [00:00<?, ?it/s]"
     ]
    },
    {
     "name": "stdout",
     "output_type": "stream",
     "text": [
      "forecast_date    2023-11-18\n",
      "target                  DAX\n",
      "horizon               1 day\n",
      "q0.025            -3.321265\n",
      "q0.25             -0.551383\n",
      "q0.5               0.057215\n",
      "q0.75                0.7156\n",
      "q0.975             2.719772\n",
      "Name: 0, dtype: object\n",
      "forecast_date    2023-11-18\n",
      "target                  DAX\n",
      "horizon               2 day\n",
      "q0.025            -4.087895\n",
      "q0.25              -0.82325\n",
      "q0.5               0.072355\n",
      "q0.75              0.978977\n",
      "q0.975             3.570492\n",
      "Name: 1, dtype: object\n",
      "forecast_date    2023-11-18\n",
      "target                  DAX\n",
      "horizon               5 day\n",
      "q0.025            -5.259161\n",
      "q0.25             -0.917655\n",
      "q0.5               0.147247\n",
      "q0.75              1.209531\n",
      "q0.975             4.628697\n",
      "Name: 2, dtype: object\n",
      "forecast_date    2023-11-18\n",
      "target                  DAX\n",
      "horizon               6 day\n",
      "q0.025            -6.282629\n",
      "q0.25              -1.04407\n",
      "q0.5               0.185156\n",
      "q0.75              1.435721\n",
      "q0.975             5.367396\n",
      "Name: 3, dtype: object\n",
      "forecast_date    2023-11-18\n",
      "target                  DAX\n",
      "horizon               7 day\n",
      "q0.025            -6.735742\n",
      "q0.25             -1.091646\n",
      "q0.5               0.324014\n",
      "q0.75               1.55301\n",
      "q0.975             6.259934\n",
      "Name: 4, dtype: object\n"
     ]
    },
    {
     "name": "stderr",
     "output_type": "stream",
     "text": [
      "Evaluating models:  33%|███▎      | 1/3 [00:03<00:07,  3.71s/it]"
     ]
    },
    {
     "name": "stdout",
     "output_type": "stream",
     "text": [
      "Final Predictions:\n",
      "  forecast_date target horizon    q0.025     q0.25      q0.5     q0.75  \\\n",
      "0    2023-11-18    DAX   1 day -2.283129 -0.520647 -0.001056  0.505932   \n",
      "1    2023-11-18    DAX   2 day -0.997354  0.780879  1.401310  1.931162   \n",
      "2    2023-11-18    DAX   5 day -0.220107  1.627222  2.268584  2.745207   \n",
      "3    2023-11-18    DAX   6 day -0.198628  1.732854  2.435360  2.965847   \n",
      "4    2023-11-18    DAX   7 day -0.920196  1.072883  1.730084  2.185427   \n",
      "\n",
      "     q0.975  \n",
      "0  1.790559  \n",
      "1  3.555382  \n",
      "2  4.239356  \n",
      "3  4.383568  \n",
      "4  3.796730  \n",
      "forecast_date    2023-11-18\n",
      "target                  DAX\n",
      "horizon               1 day\n",
      "q0.025            -2.283129\n",
      "q0.25             -0.520647\n",
      "q0.5              -0.001056\n",
      "q0.75              0.505932\n",
      "q0.975             1.790559\n",
      "Name: 0, dtype: object\n",
      "forecast_date    2023-11-18\n",
      "target                  DAX\n",
      "horizon               2 day\n",
      "q0.025            -0.997354\n",
      "q0.25              0.780879\n",
      "q0.5                1.40131\n",
      "q0.75              1.931162\n",
      "q0.975             3.555382\n",
      "Name: 1, dtype: object\n",
      "forecast_date    2023-11-18\n",
      "target                  DAX\n",
      "horizon               5 day\n",
      "q0.025            -0.220107\n",
      "q0.25              1.627222\n",
      "q0.5               2.268584\n",
      "q0.75              2.745207\n",
      "q0.975             4.239356\n",
      "Name: 2, dtype: object\n",
      "forecast_date    2023-11-18\n",
      "target                  DAX\n",
      "horizon               6 day\n",
      "q0.025            -0.198628\n",
      "q0.25              1.732854\n",
      "q0.5                2.43536\n",
      "q0.75              2.965847\n",
      "q0.975             4.383568\n",
      "Name: 3, dtype: object\n",
      "forecast_date    2023-11-18\n",
      "target                  DAX\n",
      "horizon               7 day\n",
      "q0.025            -0.920196\n",
      "q0.25              1.072883\n",
      "q0.5               1.730084\n",
      "q0.75              2.185427\n",
      "q0.975              3.79673\n",
      "Name: 4, dtype: object\n",
      "forecast_date    2023-11-18\n",
      "target                  DAX\n",
      "horizon               1 day\n",
      "q0.025            -3.321265\n",
      "q0.25             -0.551383\n",
      "q0.5               0.057215\n",
      "q0.75              0.717534\n",
      "q0.975             2.719772\n",
      "Name: 0, dtype: object\n",
      "forecast_date    2023-11-18\n",
      "target                  DAX\n",
      "horizon               2 day\n",
      "q0.025            -4.087895\n",
      "q0.25             -0.827899\n",
      "q0.5               0.080265\n",
      "q0.75              0.978977\n",
      "q0.975             3.570492\n",
      "Name: 1, dtype: object\n",
      "forecast_date    2023-11-18\n",
      "target                  DAX\n",
      "horizon               5 day\n",
      "q0.025            -5.259161\n",
      "q0.25             -0.924722\n",
      "q0.5               0.137341\n",
      "q0.75              1.205407\n",
      "q0.975             4.628697\n",
      "Name: 2, dtype: object\n",
      "forecast_date    2023-11-18\n",
      "target                  DAX\n",
      "horizon               6 day\n",
      "q0.025            -6.282629\n",
      "q0.25             -1.048941\n",
      "q0.5               0.180831\n",
      "q0.75              1.430209\n",
      "q0.975             5.367396\n",
      "Name: 3, dtype: object\n",
      "forecast_date    2023-11-18\n",
      "target                  DAX\n",
      "horizon               7 day\n",
      "q0.025            -6.735742\n",
      "q0.25             -1.093936\n",
      "q0.5               0.310756\n",
      "q0.75              1.522825\n",
      "q0.975             6.259934\n",
      "Name: 4, dtype: object\n"
     ]
    },
    {
     "name": "stderr",
     "output_type": "stream",
     "text": [
      "Evaluating models:  67%|██████▋   | 2/3 [00:07<00:03,  3.64s/it]"
     ]
    },
    {
     "name": "stdout",
     "output_type": "stream",
     "text": [
      "Final Predictions:\n",
      "  forecast_date target horizon    q0.025     q0.25      q0.5     q0.75  \\\n",
      "0    2023-11-18    DAX   1 day -1.682744 -0.377989 -0.079550  0.300989   \n",
      "1    2023-11-18    DAX   2 day  0.681533  2.141079  2.512560  2.848869   \n",
      "2    2023-11-18    DAX   5 day  1.863020  3.471351  3.818617  4.051340   \n",
      "3    2023-11-18    DAX   6 day  2.726605  4.458941  4.926807  5.167584   \n",
      "4    2023-11-18    DAX   7 day  2.897206  4.782139  5.221957  5.378430   \n",
      "\n",
      "     q0.975  \n",
      "0  1.403472  \n",
      "1  4.250417  \n",
      "2  5.369960  \n",
      "3  6.360812  \n",
      "4  6.720688  \n",
      "forecast_date    2023-11-18\n",
      "target                  DAX\n",
      "horizon               1 day\n",
      "q0.025            -1.682744\n",
      "q0.25             -0.377989\n",
      "q0.5               -0.07955\n",
      "q0.75              0.300989\n",
      "q0.975             1.403472\n",
      "Name: 0, dtype: object\n",
      "forecast_date    2023-11-18\n",
      "target                  DAX\n",
      "horizon               2 day\n",
      "q0.025             0.681533\n",
      "q0.25              2.141079\n",
      "q0.5                2.51256\n",
      "q0.75              2.848869\n",
      "q0.975             4.250417\n",
      "Name: 1, dtype: object\n",
      "forecast_date    2023-11-18\n",
      "target                  DAX\n",
      "horizon               5 day\n",
      "q0.025              1.86302\n",
      "q0.25              3.471351\n",
      "q0.5               3.818617\n",
      "q0.75               4.05134\n",
      "q0.975              5.36996\n",
      "Name: 2, dtype: object\n",
      "forecast_date    2023-11-18\n",
      "target                  DAX\n",
      "horizon               6 day\n",
      "q0.025             2.726605\n",
      "q0.25              4.458941\n",
      "q0.5               4.926807\n",
      "q0.75              5.167584\n",
      "q0.975             6.360812\n",
      "Name: 3, dtype: object\n",
      "forecast_date    2023-11-18\n",
      "target                  DAX\n",
      "horizon               7 day\n",
      "q0.025             2.897206\n",
      "q0.25              4.782139\n",
      "q0.5               5.221957\n",
      "q0.75               5.37843\n",
      "q0.975             6.720688\n",
      "Name: 4, dtype: object\n",
      "forecast_date    2023-11-18\n",
      "target                  DAX\n",
      "horizon               1 day\n",
      "q0.025            -3.321265\n",
      "q0.25             -0.552847\n",
      "q0.5                0.05134\n",
      "q0.75              0.713749\n",
      "q0.975             2.719772\n",
      "Name: 0, dtype: object\n",
      "forecast_date    2023-11-18\n",
      "target                  DAX\n",
      "horizon               2 day\n",
      "q0.025            -4.087895\n",
      "q0.25             -0.841169\n",
      "q0.5                0.07257\n",
      "q0.75              0.969175\n",
      "q0.975             3.570492\n",
      "Name: 1, dtype: object\n",
      "forecast_date    2023-11-18\n",
      "target                  DAX\n",
      "horizon               5 day\n",
      "q0.025            -5.259161\n",
      "q0.25             -0.924722\n",
      "q0.5                0.13301\n",
      "q0.75              1.187803\n",
      "q0.975             4.628697\n",
      "Name: 2, dtype: object\n",
      "forecast_date    2023-11-18\n",
      "target                  DAX\n",
      "horizon               6 day\n",
      "q0.025            -6.282629\n",
      "q0.25             -1.048941\n",
      "q0.5               0.180831\n",
      "q0.75              1.426209\n",
      "q0.975             5.367396\n",
      "Name: 3, dtype: object\n",
      "forecast_date    2023-11-18\n",
      "target                  DAX\n",
      "horizon               7 day\n",
      "q0.025            -6.735742\n",
      "q0.25             -1.094754\n",
      "q0.5               0.318596\n",
      "q0.75              1.513585\n",
      "q0.975             6.259934\n",
      "Name: 4, dtype: object\n"
     ]
    },
    {
     "name": "stderr",
     "output_type": "stream",
     "text": [
      "Evaluating models: 100%|██████████| 3/3 [00:10<00:00,  3.45s/it]"
     ]
    },
    {
     "name": "stdout",
     "output_type": "stream",
     "text": [
      "Final Predictions:\n",
      "  forecast_date target horizon    q0.025     q0.25      q0.5     q0.75  \\\n",
      "0    2023-11-18    DAX   1 day -2.793653 -0.616781  0.116582  0.685394   \n",
      "1    2023-11-18    DAX   2 day -4.970209 -2.724110 -1.857915 -1.217390   \n",
      "2    2023-11-18    DAX   5 day -5.039003 -2.765397 -1.804061 -1.079847   \n",
      "3    2023-11-18    DAX   6 day -4.250583 -1.907155 -0.975105 -0.167662   \n",
      "4    2023-11-18    DAX   7 day -4.120997 -1.976331 -0.980684 -0.149258   \n",
      "\n",
      "     q0.975  \n",
      "0  2.129346  \n",
      "1  0.473367  \n",
      "2  0.616668  \n",
      "3  1.719708  \n",
      "4  1.856283  \n",
      "forecast_date    2023-11-18\n",
      "target                  DAX\n",
      "horizon               1 day\n",
      "q0.025            -2.793653\n",
      "q0.25             -0.616781\n",
      "q0.5               0.116582\n",
      "q0.75              0.685394\n",
      "q0.975             2.129346\n",
      "Name: 0, dtype: object\n",
      "forecast_date    2023-11-18\n",
      "target                  DAX\n",
      "horizon               2 day\n",
      "q0.025            -4.970209\n",
      "q0.25              -2.72411\n",
      "q0.5              -1.857915\n",
      "q0.75              -1.21739\n",
      "q0.975             0.473367\n",
      "Name: 1, dtype: object\n",
      "forecast_date    2023-11-18\n",
      "target                  DAX\n",
      "horizon               5 day\n",
      "q0.025            -5.039003\n",
      "q0.25             -2.765397\n",
      "q0.5              -1.804061\n",
      "q0.75             -1.079847\n",
      "q0.975             0.616668\n",
      "Name: 2, dtype: object\n",
      "forecast_date    2023-11-18\n",
      "target                  DAX\n",
      "horizon               6 day\n",
      "q0.025            -4.250583\n",
      "q0.25             -1.907155\n",
      "q0.5              -0.975105\n",
      "q0.75             -0.167662\n",
      "q0.975             1.719708\n",
      "Name: 3, dtype: object\n",
      "forecast_date    2023-11-18\n",
      "target                  DAX\n",
      "horizon               7 day\n",
      "q0.025            -4.120997\n",
      "q0.25             -1.976331\n",
      "q0.5              -0.980684\n",
      "q0.75             -0.149258\n",
      "q0.975             1.856283\n",
      "Name: 4, dtype: object\n"
     ]
    },
    {
     "name": "stderr",
     "output_type": "stream",
     "text": [
      "\n"
     ]
    }
   ],
   "source": [
    "evaluation_df=evaluate_dax.evaluate_daxmodel(baseline_model,quantile_model,daxdata,last_x=5,weeks=True)"
   ],
   "metadata": {
    "collapsed": false,
    "ExecuteTime": {
     "end_time": "2023-11-18T21:24:38.805884Z",
     "start_time": "2023-11-18T21:24:28.346698Z"
    }
   },
   "id": "e7d4268f284890d5"
  },
  {
   "cell_type": "code",
   "execution_count": 4,
   "outputs": [
    {
     "data": {
      "text/plain": "(Empty DataFrame\n Columns: [forecast_date, target, horizon, q0.025, q0.25, q0.5, q0.75, q0.975, ret1]\n Index: [],\n Empty DataFrame\n Columns: [forecast_date, target, horizon, q0.025, q0.25, q0.5, q0.75, q0.975, ret1]\n Index: [])"
     },
     "execution_count": 4,
     "metadata": {},
     "output_type": "execute_result"
    }
   ],
   "source": [
    "evaluation_df"
   ],
   "metadata": {
    "collapsed": false,
    "ExecuteTime": {
     "end_time": "2023-11-18T21:24:38.813774Z",
     "start_time": "2023-11-18T21:24:38.776058Z"
    }
   },
   "id": "bd6701c47e5b2e9"
  },
  {
   "cell_type": "code",
   "execution_count": 5,
   "outputs": [],
   "source": [
    "df=DAX_baseline.DAX_baseline(daxdata)"
   ],
   "metadata": {
    "collapsed": false,
    "ExecuteTime": {
     "end_time": "2023-11-18T21:24:38.820233Z",
     "start_time": "2023-11-18T21:24:38.805723Z"
    }
   },
   "id": "95c6abc5de41fd66"
  },
  {
   "cell_type": "code",
   "execution_count": 6,
   "outputs": [
    {
     "data": {
      "text/plain": "  forecast_date target horizon    q0.025     q0.25      q0.5     q0.75  \\\n0    2023-11-18    DAX   1 day -3.321265 -0.551383  0.060969  0.720873   \n1    2023-11-18    DAX   2 day -4.087895 -0.823250  0.072355  0.987420   \n2    2023-11-18    DAX   5 day -5.259161 -0.917655  0.161798  1.224285   \n3    2023-11-18    DAX   6 day -6.282629 -1.044070  0.186070  1.440815   \n4    2023-11-18    DAX   7 day -6.735742 -1.091646  0.326190  1.573729   \n\n     q0.975  \n0  2.719772  \n1  3.570492  \n2  4.628697  \n3  5.367396  \n4  6.259934  ",
      "text/html": "<div>\n<style scoped>\n    .dataframe tbody tr th:only-of-type {\n        vertical-align: middle;\n    }\n\n    .dataframe tbody tr th {\n        vertical-align: top;\n    }\n\n    .dataframe thead th {\n        text-align: right;\n    }\n</style>\n<table border=\"1\" class=\"dataframe\">\n  <thead>\n    <tr style=\"text-align: right;\">\n      <th></th>\n      <th>forecast_date</th>\n      <th>target</th>\n      <th>horizon</th>\n      <th>q0.025</th>\n      <th>q0.25</th>\n      <th>q0.5</th>\n      <th>q0.75</th>\n      <th>q0.975</th>\n    </tr>\n  </thead>\n  <tbody>\n    <tr>\n      <th>0</th>\n      <td>2023-11-18</td>\n      <td>DAX</td>\n      <td>1 day</td>\n      <td>-3.321265</td>\n      <td>-0.551383</td>\n      <td>0.060969</td>\n      <td>0.720873</td>\n      <td>2.719772</td>\n    </tr>\n    <tr>\n      <th>1</th>\n      <td>2023-11-18</td>\n      <td>DAX</td>\n      <td>2 day</td>\n      <td>-4.087895</td>\n      <td>-0.823250</td>\n      <td>0.072355</td>\n      <td>0.987420</td>\n      <td>3.570492</td>\n    </tr>\n    <tr>\n      <th>2</th>\n      <td>2023-11-18</td>\n      <td>DAX</td>\n      <td>5 day</td>\n      <td>-5.259161</td>\n      <td>-0.917655</td>\n      <td>0.161798</td>\n      <td>1.224285</td>\n      <td>4.628697</td>\n    </tr>\n    <tr>\n      <th>3</th>\n      <td>2023-11-18</td>\n      <td>DAX</td>\n      <td>6 day</td>\n      <td>-6.282629</td>\n      <td>-1.044070</td>\n      <td>0.186070</td>\n      <td>1.440815</td>\n      <td>5.367396</td>\n    </tr>\n    <tr>\n      <th>4</th>\n      <td>2023-11-18</td>\n      <td>DAX</td>\n      <td>7 day</td>\n      <td>-6.735742</td>\n      <td>-1.091646</td>\n      <td>0.326190</td>\n      <td>1.573729</td>\n      <td>6.259934</td>\n    </tr>\n  </tbody>\n</table>\n</div>"
     },
     "execution_count": 6,
     "metadata": {},
     "output_type": "execute_result"
    }
   ],
   "source": [
    "df"
   ],
   "metadata": {
    "collapsed": false,
    "ExecuteTime": {
     "end_time": "2023-11-18T21:24:38.855308Z",
     "start_time": "2023-11-18T21:24:38.816284Z"
    }
   },
   "id": "1ed4a7a1fa73f327"
  },
  {
   "cell_type": "code",
   "execution_count": 6,
   "outputs": [],
   "source": [],
   "metadata": {
    "collapsed": false,
    "ExecuteTime": {
     "end_time": "2023-11-18T21:24:38.856576Z",
     "start_time": "2023-11-18T21:24:38.831695Z"
    }
   },
   "id": "bd22088676fa158"
  }
 ],
 "metadata": {
  "kernelspec": {
   "display_name": "Python 3",
   "language": "python",
   "name": "python3"
  },
  "language_info": {
   "codemirror_mode": {
    "name": "ipython",
    "version": 2
   },
   "file_extension": ".py",
   "mimetype": "text/x-python",
   "name": "python",
   "nbconvert_exporter": "python",
   "pygments_lexer": "ipython2",
   "version": "2.7.6"
  }
 },
 "nbformat": 4,
 "nbformat_minor": 5
}
