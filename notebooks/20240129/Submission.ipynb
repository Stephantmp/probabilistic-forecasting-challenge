{
 "cells": [
  {
   "cell_type": "code",
   "execution_count": 1,
   "id": "initial_id",
   "metadata": {
    "collapsed": true,
    "ExecuteTime": {
     "end_time": "2024-01-29T15:50:16.050996Z",
     "start_time": "2024-01-29T15:50:11.387299Z"
    }
   },
   "outputs": [],
   "source": [
    "from models.DAX import DAX_quantile_regression, DAX_baseline\n",
    "from models.energy import energy_models\n",
    "from functions import get_energy,get_DAX,merge_submissions,check_submission\n",
    "from functions.prepare_data import split_time\n",
    "from functions.evaluation import evaluate_horizon\n",
    "from tqdm import tqdm\n",
    "from functions import evaluate_dax\n",
    "import numpy as np"
   ]
  },
  {
   "cell_type": "code",
   "execution_count": 2,
   "outputs": [],
   "source": [
    "from functions import naive_ensemble"
   ],
   "metadata": {
    "collapsed": false,
    "ExecuteTime": {
     "end_time": "2024-01-29T15:50:16.052461Z",
     "start_time": "2024-01-29T15:50:16.048280Z"
    }
   },
   "id": "2ce850d6890c7f7e"
  },
  {
   "cell_type": "code",
   "execution_count": 3,
   "outputs": [],
   "source": [
    "daxdata = get_DAX.get()"
   ],
   "metadata": {
    "collapsed": false,
    "ExecuteTime": {
     "end_time": "2024-01-29T15:50:16.524575Z",
     "start_time": "2024-01-29T15:50:16.052729Z"
    }
   },
   "id": "f9e3cc3455a4dedb"
  },
  {
   "cell_type": "code",
   "execution_count": 4,
   "outputs": [],
   "source": [
    "base = DAX_baseline.DAX_baseline(daxdata)"
   ],
   "metadata": {
    "collapsed": false,
    "ExecuteTime": {
     "end_time": "2024-01-29T15:50:16.530793Z",
     "start_time": "2024-01-29T15:50:16.525279Z"
    }
   },
   "id": "ec5c75e7ea26f528"
  },
  {
   "cell_type": "code",
   "execution_count": 5,
   "outputs": [
    {
     "data": {
      "text/plain": "  forecast_date target horizon    q0.025     q0.25      q0.5     q0.75  \\\n0    2024-01-29    DAX   1 day -3.130739 -0.517481  0.070684  0.718274   \n1    2024-01-29    DAX   2 day -4.060268 -0.781543  0.096673  0.987322   \n2    2024-01-29    DAX   5 day -4.877300 -0.880043  0.166567  1.255618   \n3    2024-01-29    DAX   6 day -5.766996 -0.944913  0.212652  1.451656   \n4    2024-01-29    DAX   7 day -6.206620 -1.023275  0.342612  1.594461   \n\n     q0.975  \n0  2.719772  \n1  3.570492  \n2  4.628697  \n3  5.367396  \n4  6.259934  ",
      "text/html": "<div>\n<style scoped>\n    .dataframe tbody tr th:only-of-type {\n        vertical-align: middle;\n    }\n\n    .dataframe tbody tr th {\n        vertical-align: top;\n    }\n\n    .dataframe thead th {\n        text-align: right;\n    }\n</style>\n<table border=\"1\" class=\"dataframe\">\n  <thead>\n    <tr style=\"text-align: right;\">\n      <th></th>\n      <th>forecast_date</th>\n      <th>target</th>\n      <th>horizon</th>\n      <th>q0.025</th>\n      <th>q0.25</th>\n      <th>q0.5</th>\n      <th>q0.75</th>\n      <th>q0.975</th>\n    </tr>\n  </thead>\n  <tbody>\n    <tr>\n      <th>0</th>\n      <td>2024-01-29</td>\n      <td>DAX</td>\n      <td>1 day</td>\n      <td>-3.130739</td>\n      <td>-0.517481</td>\n      <td>0.070684</td>\n      <td>0.718274</td>\n      <td>2.719772</td>\n    </tr>\n    <tr>\n      <th>1</th>\n      <td>2024-01-29</td>\n      <td>DAX</td>\n      <td>2 day</td>\n      <td>-4.060268</td>\n      <td>-0.781543</td>\n      <td>0.096673</td>\n      <td>0.987322</td>\n      <td>3.570492</td>\n    </tr>\n    <tr>\n      <th>2</th>\n      <td>2024-01-29</td>\n      <td>DAX</td>\n      <td>5 day</td>\n      <td>-4.877300</td>\n      <td>-0.880043</td>\n      <td>0.166567</td>\n      <td>1.255618</td>\n      <td>4.628697</td>\n    </tr>\n    <tr>\n      <th>3</th>\n      <td>2024-01-29</td>\n      <td>DAX</td>\n      <td>6 day</td>\n      <td>-5.766996</td>\n      <td>-0.944913</td>\n      <td>0.212652</td>\n      <td>1.451656</td>\n      <td>5.367396</td>\n    </tr>\n    <tr>\n      <th>4</th>\n      <td>2024-01-29</td>\n      <td>DAX</td>\n      <td>7 day</td>\n      <td>-6.206620</td>\n      <td>-1.023275</td>\n      <td>0.342612</td>\n      <td>1.594461</td>\n      <td>6.259934</td>\n    </tr>\n  </tbody>\n</table>\n</div>"
     },
     "execution_count": 5,
     "metadata": {},
     "output_type": "execute_result"
    }
   ],
   "source": [
    "base"
   ],
   "metadata": {
    "collapsed": false,
    "ExecuteTime": {
     "end_time": "2024-01-29T15:50:16.543796Z",
     "start_time": "2024-01-29T15:50:16.534776Z"
    }
   },
   "id": "a8cb24f5fba12ced"
  },
  {
   "cell_type": "code",
   "execution_count": 6,
   "outputs": [],
   "source": [
    "df_dax=base"
   ],
   "metadata": {
    "collapsed": false,
    "ExecuteTime": {
     "end_time": "2024-01-29T15:50:16.550083Z",
     "start_time": "2024-01-29T15:50:16.544472Z"
    }
   },
   "id": "f65a5a521ad3258e"
  },
  {
   "cell_type": "code",
   "execution_count": 7,
   "outputs": [
    {
     "name": "stderr",
     "output_type": "stream",
     "text": [
      "  0%|          | 0/267 [00:00<?, ?it/s]/Users/stephantimpe/PycharmProjects/probabilistic-forecasting-challenge/functions/get_energy.py:28: FutureWarning: The behavior of DataFrame concatenation with empty or all-NA entries is deprecated. In a future version, this will no longer exclude empty or all-NA columns when determining the result dtypes. To retain the old behavior, exclude the relevant entries before the concat operation.\n",
      "  energydata = pd.concat([energydata, pd.DataFrame(rawdata, columns=col_names)])\n",
      "100%|██████████| 267/267 [00:29<00:00,  9.12it/s]\n"
     ]
    }
   ],
   "source": [
    "energydata= get_energy.get()"
   ],
   "metadata": {
    "collapsed": false,
    "ExecuteTime": {
     "end_time": "2024-01-29T15:50:46.052433Z",
     "start_time": "2024-01-29T15:50:16.551012Z"
    }
   },
   "id": "6825a919679471df"
  },
  {
   "cell_type": "code",
   "execution_count": 8,
   "outputs": [],
   "source": [
    "\n",
    "\n",
    "df_energy= energy_models.energy_XGBoost(energydata,date_str='2024-01-29')"
   ],
   "metadata": {
    "collapsed": false,
    "ExecuteTime": {
     "end_time": "2024-01-29T15:51:06.534115Z",
     "start_time": "2024-01-29T15:50:46.053799Z"
    }
   },
   "id": "d1d2a9506ee6ab6c"
  },
  {
   "cell_type": "code",
   "execution_count": 9,
   "outputs": [
    {
     "data": {
      "text/plain": "  forecast_date  target  horizon     q0.025      q0.25       q0.5      q0.75  \\\n0    2024-01-29  energy  36 hour  65.226463  73.813988  75.437737  73.815346   \n1    2024-01-29  energy  40 hour  61.277119  70.505981  68.728668  70.618698   \n2    2024-01-29  energy  44 hour  62.533669  67.075638  67.317947  68.031296   \n3    2024-01-29  energy  60 hour  64.233055  71.542496  71.478424  71.273369   \n4    2024-01-29  energy  64 hour  61.660507  68.383492  68.656525  69.429321   \n5    2024-01-29  energy  68 hour  61.406391  65.026924  64.245865  66.678711   \n\n      q0.975  \n0  77.105888  \n1  75.327736  \n2  71.926605  \n3  78.631477  \n4  76.625282  \n5  71.979507  ",
      "text/html": "<div>\n<style scoped>\n    .dataframe tbody tr th:only-of-type {\n        vertical-align: middle;\n    }\n\n    .dataframe tbody tr th {\n        vertical-align: top;\n    }\n\n    .dataframe thead th {\n        text-align: right;\n    }\n</style>\n<table border=\"1\" class=\"dataframe\">\n  <thead>\n    <tr style=\"text-align: right;\">\n      <th></th>\n      <th>forecast_date</th>\n      <th>target</th>\n      <th>horizon</th>\n      <th>q0.025</th>\n      <th>q0.25</th>\n      <th>q0.5</th>\n      <th>q0.75</th>\n      <th>q0.975</th>\n    </tr>\n  </thead>\n  <tbody>\n    <tr>\n      <th>0</th>\n      <td>2024-01-29</td>\n      <td>energy</td>\n      <td>36 hour</td>\n      <td>65.226463</td>\n      <td>73.813988</td>\n      <td>75.437737</td>\n      <td>73.815346</td>\n      <td>77.105888</td>\n    </tr>\n    <tr>\n      <th>1</th>\n      <td>2024-01-29</td>\n      <td>energy</td>\n      <td>40 hour</td>\n      <td>61.277119</td>\n      <td>70.505981</td>\n      <td>68.728668</td>\n      <td>70.618698</td>\n      <td>75.327736</td>\n    </tr>\n    <tr>\n      <th>2</th>\n      <td>2024-01-29</td>\n      <td>energy</td>\n      <td>44 hour</td>\n      <td>62.533669</td>\n      <td>67.075638</td>\n      <td>67.317947</td>\n      <td>68.031296</td>\n      <td>71.926605</td>\n    </tr>\n    <tr>\n      <th>3</th>\n      <td>2024-01-29</td>\n      <td>energy</td>\n      <td>60 hour</td>\n      <td>64.233055</td>\n      <td>71.542496</td>\n      <td>71.478424</td>\n      <td>71.273369</td>\n      <td>78.631477</td>\n    </tr>\n    <tr>\n      <th>4</th>\n      <td>2024-01-29</td>\n      <td>energy</td>\n      <td>64 hour</td>\n      <td>61.660507</td>\n      <td>68.383492</td>\n      <td>68.656525</td>\n      <td>69.429321</td>\n      <td>76.625282</td>\n    </tr>\n    <tr>\n      <th>5</th>\n      <td>2024-01-29</td>\n      <td>energy</td>\n      <td>68 hour</td>\n      <td>61.406391</td>\n      <td>65.026924</td>\n      <td>64.245865</td>\n      <td>66.678711</td>\n      <td>71.979507</td>\n    </tr>\n  </tbody>\n</table>\n</div>"
     },
     "execution_count": 9,
     "metadata": {},
     "output_type": "execute_result"
    }
   ],
   "source": [
    "df_energy"
   ],
   "metadata": {
    "collapsed": false,
    "ExecuteTime": {
     "end_time": "2024-01-29T15:51:06.558460Z",
     "start_time": "2024-01-29T15:51:06.529927Z"
    }
   },
   "id": "ca504288bd09666b"
  },
  {
   "cell_type": "code",
   "execution_count": 10,
   "outputs": [],
   "source": [
    "#Reorder quantiles to prevent quantile crossing"
   ],
   "metadata": {
    "collapsed": false,
    "ExecuteTime": {
     "end_time": "2024-01-29T15:51:06.560129Z",
     "start_time": "2024-01-29T15:51:06.554903Z"
    }
   },
   "id": "5fef7941487d6c1"
  },
  {
   "cell_type": "code",
   "execution_count": 11,
   "outputs": [
    {
     "data": {
      "text/plain": "  forecast_date  target  horizon     q0.025      q0.25       q0.5      q0.75  \\\n0    2024-01-29  energy  36 hour  65.226463  73.813988  73.815346  75.437737   \n1    2024-01-29  energy  40 hour  61.277119  68.728668  70.505981  70.618698   \n2    2024-01-29  energy  44 hour  62.533669  67.075638  67.317947  68.031296   \n3    2024-01-29  energy  60 hour  64.233055  71.273369  71.478424  71.542496   \n4    2024-01-29  energy  64 hour  61.660507  68.383492  68.656525  69.429321   \n5    2024-01-29  energy  68 hour  61.406391  64.245865  65.026924  66.678711   \n\n      q0.975  \n0  77.105888  \n1  75.327736  \n2  71.926605  \n3  78.631477  \n4  76.625282  \n5  71.979507  ",
      "text/html": "<div>\n<style scoped>\n    .dataframe tbody tr th:only-of-type {\n        vertical-align: middle;\n    }\n\n    .dataframe tbody tr th {\n        vertical-align: top;\n    }\n\n    .dataframe thead th {\n        text-align: right;\n    }\n</style>\n<table border=\"1\" class=\"dataframe\">\n  <thead>\n    <tr style=\"text-align: right;\">\n      <th></th>\n      <th>forecast_date</th>\n      <th>target</th>\n      <th>horizon</th>\n      <th>q0.025</th>\n      <th>q0.25</th>\n      <th>q0.5</th>\n      <th>q0.75</th>\n      <th>q0.975</th>\n    </tr>\n  </thead>\n  <tbody>\n    <tr>\n      <th>0</th>\n      <td>2024-01-29</td>\n      <td>energy</td>\n      <td>36 hour</td>\n      <td>65.226463</td>\n      <td>73.813988</td>\n      <td>73.815346</td>\n      <td>75.437737</td>\n      <td>77.105888</td>\n    </tr>\n    <tr>\n      <th>1</th>\n      <td>2024-01-29</td>\n      <td>energy</td>\n      <td>40 hour</td>\n      <td>61.277119</td>\n      <td>68.728668</td>\n      <td>70.505981</td>\n      <td>70.618698</td>\n      <td>75.327736</td>\n    </tr>\n    <tr>\n      <th>2</th>\n      <td>2024-01-29</td>\n      <td>energy</td>\n      <td>44 hour</td>\n      <td>62.533669</td>\n      <td>67.075638</td>\n      <td>67.317947</td>\n      <td>68.031296</td>\n      <td>71.926605</td>\n    </tr>\n    <tr>\n      <th>3</th>\n      <td>2024-01-29</td>\n      <td>energy</td>\n      <td>60 hour</td>\n      <td>64.233055</td>\n      <td>71.273369</td>\n      <td>71.478424</td>\n      <td>71.542496</td>\n      <td>78.631477</td>\n    </tr>\n    <tr>\n      <th>4</th>\n      <td>2024-01-29</td>\n      <td>energy</td>\n      <td>64 hour</td>\n      <td>61.660507</td>\n      <td>68.383492</td>\n      <td>68.656525</td>\n      <td>69.429321</td>\n      <td>76.625282</td>\n    </tr>\n    <tr>\n      <th>5</th>\n      <td>2024-01-29</td>\n      <td>energy</td>\n      <td>68 hour</td>\n      <td>61.406391</td>\n      <td>64.245865</td>\n      <td>65.026924</td>\n      <td>66.678711</td>\n      <td>71.979507</td>\n    </tr>\n  </tbody>\n</table>\n</div>"
     },
     "execution_count": 11,
     "metadata": {},
     "output_type": "execute_result"
    }
   ],
   "source": [
    "def reorder_quantiles(df):\n",
    "    quantile_cols = ['q0.025', 'q0.25', 'q0.5', 'q0.75', 'q0.975']\n",
    "    # Sorting quantile values row-wise\n",
    "    df_sorted = df.copy()\n",
    "    for index, row in df.iterrows():\n",
    "        sorted_quantiles = np.sort(row[quantile_cols])\n",
    "        df_sorted.loc[index, quantile_cols] = sorted_quantiles\n",
    "    return df_sorted\n",
    "\n",
    "df_reordered = reorder_quantiles(df_energy)\n",
    "df_reordered"
   ],
   "metadata": {
    "collapsed": false,
    "ExecuteTime": {
     "end_time": "2024-01-29T15:51:06.605470Z",
     "start_time": "2024-01-29T15:51:06.581075Z"
    }
   },
   "id": "bce4ff2ba7452bd7"
  },
  {
   "cell_type": "code",
   "execution_count": 12,
   "outputs": [
    {
     "name": "stdout",
     "output_type": "stream",
     "text": [
      "  forecast_date      target  horizon     q0.025      q0.25       q0.5  \\\n",
      "0    2024-01-29         DAX    1 day  -3.130739  -0.517481   0.070684   \n",
      "1    2024-01-29         DAX    2 day  -4.060268  -0.781543   0.096673   \n",
      "2    2024-01-29         DAX    5 day    -4.8773  -0.880043   0.166567   \n",
      "3    2024-01-29         DAX    6 day  -5.766996  -0.944913   0.212652   \n",
      "4    2024-01-29         DAX    7 day   -6.20662  -1.023275   0.342612   \n",
      "0    2024-01-29      energy  36 hour  65.226463  73.813988  73.815346   \n",
      "1    2024-01-29      energy  40 hour  61.277119  68.728668  70.505981   \n",
      "2    2024-01-29      energy  44 hour  62.533669  67.075638  67.317947   \n",
      "3    2024-01-29      energy  60 hour  64.233055  71.273369  71.478424   \n",
      "4    2024-01-29      energy  64 hour  61.660507  68.383492  68.656525   \n",
      "5    2024-01-29      energy  68 hour  61.406391  64.245865  65.026924   \n",
      "0    2024-01-29  infections   0 week         NA         NA         NA   \n",
      "1    2024-01-29  infections   1 week         NA         NA         NA   \n",
      "2    2024-01-29  infections   2 week         NA         NA         NA   \n",
      "3    2024-01-29  infections   3 week         NA         NA         NA   \n",
      "4    2024-01-29  infections   4 week         NA         NA         NA   \n",
      "\n",
      "       q0.75     q0.975  \n",
      "0   0.718274   2.719772  \n",
      "1   0.987322   3.570492  \n",
      "2   1.255618   4.628697  \n",
      "3   1.451656   5.367396  \n",
      "4   1.594461   6.259934  \n",
      "0  75.437737  77.105888  \n",
      "1  70.618698  75.327736  \n",
      "2  68.031296  71.926605  \n",
      "3  71.542496  78.631477  \n",
      "4  69.429321  76.625282  \n",
      "5  66.678711  71.979507  \n",
      "0         NA         NA  \n",
      "1         NA         NA  \n",
      "2         NA         NA  \n",
      "3         NA         NA  \n",
      "4         NA         NA  \n"
     ]
    }
   ],
   "source": [
    "df = merge_submissions.merge(df_reordered,df_dax)"
   ],
   "metadata": {
    "collapsed": false,
    "ExecuteTime": {
     "end_time": "2024-01-29T15:51:06.708411Z",
     "start_time": "2024-01-29T15:51:06.597256Z"
    }
   },
   "id": "6997de28c0fe949"
  },
  {
   "cell_type": "code",
   "execution_count": 13,
   "outputs": [],
   "source": [
    "import pandas as pd"
   ],
   "metadata": {
    "collapsed": false,
    "ExecuteTime": {
     "end_time": "2024-01-29T15:51:06.708675Z",
     "start_time": "2024-01-29T15:51:06.609784Z"
    }
   },
   "id": "a674edafd02b6168"
  },
  {
   "cell_type": "code",
   "execution_count": 14,
   "outputs": [],
   "source": [
    "# ensure forecast_date is in correct format\n",
    "df['forecast_date'] = pd.to_datetime(df['forecast_date'], format='%Y-%m-%d')"
   ],
   "metadata": {
    "collapsed": false,
    "ExecuteTime": {
     "end_time": "2024-01-29T15:51:06.709018Z",
     "start_time": "2024-01-29T15:51:06.618983Z"
    }
   },
   "id": "da079753fd7a5b8"
  },
  {
   "cell_type": "code",
   "execution_count": 15,
   "outputs": [
    {
     "data": {
      "text/plain": "  forecast_date      target  horizon     q0.025      q0.25       q0.5  \\\n0    2024-01-29         DAX    1 day  -3.130739  -0.517481   0.070684   \n1    2024-01-29         DAX    2 day  -4.060268  -0.781543   0.096673   \n2    2024-01-29         DAX    5 day    -4.8773  -0.880043   0.166567   \n3    2024-01-29         DAX    6 day  -5.766996  -0.944913   0.212652   \n4    2024-01-29         DAX    7 day   -6.20662  -1.023275   0.342612   \n0    2024-01-29      energy  36 hour  65.226463  73.813988  73.815346   \n1    2024-01-29      energy  40 hour  61.277119  68.728668  70.505981   \n2    2024-01-29      energy  44 hour  62.533669  67.075638  67.317947   \n3    2024-01-29      energy  60 hour  64.233055  71.273369  71.478424   \n4    2024-01-29      energy  64 hour  61.660507  68.383492  68.656525   \n5    2024-01-29      energy  68 hour  61.406391  64.245865  65.026924   \n0    2024-01-29  infections   0 week         NA         NA         NA   \n1    2024-01-29  infections   1 week         NA         NA         NA   \n2    2024-01-29  infections   2 week         NA         NA         NA   \n3    2024-01-29  infections   3 week         NA         NA         NA   \n4    2024-01-29  infections   4 week         NA         NA         NA   \n\n       q0.75     q0.975  \n0   0.718274   2.719772  \n1   0.987322   3.570492  \n2   1.255618   4.628697  \n3   1.451656   5.367396  \n4   1.594461   6.259934  \n0  75.437737  77.105888  \n1  70.618698  75.327736  \n2  68.031296  71.926605  \n3  71.542496  78.631477  \n4  69.429321  76.625282  \n5  66.678711  71.979507  \n0         NA         NA  \n1         NA         NA  \n2         NA         NA  \n3         NA         NA  \n4         NA         NA  ",
      "text/html": "<div>\n<style scoped>\n    .dataframe tbody tr th:only-of-type {\n        vertical-align: middle;\n    }\n\n    .dataframe tbody tr th {\n        vertical-align: top;\n    }\n\n    .dataframe thead th {\n        text-align: right;\n    }\n</style>\n<table border=\"1\" class=\"dataframe\">\n  <thead>\n    <tr style=\"text-align: right;\">\n      <th></th>\n      <th>forecast_date</th>\n      <th>target</th>\n      <th>horizon</th>\n      <th>q0.025</th>\n      <th>q0.25</th>\n      <th>q0.5</th>\n      <th>q0.75</th>\n      <th>q0.975</th>\n    </tr>\n  </thead>\n  <tbody>\n    <tr>\n      <th>0</th>\n      <td>2024-01-29</td>\n      <td>DAX</td>\n      <td>1 day</td>\n      <td>-3.130739</td>\n      <td>-0.517481</td>\n      <td>0.070684</td>\n      <td>0.718274</td>\n      <td>2.719772</td>\n    </tr>\n    <tr>\n      <th>1</th>\n      <td>2024-01-29</td>\n      <td>DAX</td>\n      <td>2 day</td>\n      <td>-4.060268</td>\n      <td>-0.781543</td>\n      <td>0.096673</td>\n      <td>0.987322</td>\n      <td>3.570492</td>\n    </tr>\n    <tr>\n      <th>2</th>\n      <td>2024-01-29</td>\n      <td>DAX</td>\n      <td>5 day</td>\n      <td>-4.8773</td>\n      <td>-0.880043</td>\n      <td>0.166567</td>\n      <td>1.255618</td>\n      <td>4.628697</td>\n    </tr>\n    <tr>\n      <th>3</th>\n      <td>2024-01-29</td>\n      <td>DAX</td>\n      <td>6 day</td>\n      <td>-5.766996</td>\n      <td>-0.944913</td>\n      <td>0.212652</td>\n      <td>1.451656</td>\n      <td>5.367396</td>\n    </tr>\n    <tr>\n      <th>4</th>\n      <td>2024-01-29</td>\n      <td>DAX</td>\n      <td>7 day</td>\n      <td>-6.20662</td>\n      <td>-1.023275</td>\n      <td>0.342612</td>\n      <td>1.594461</td>\n      <td>6.259934</td>\n    </tr>\n    <tr>\n      <th>0</th>\n      <td>2024-01-29</td>\n      <td>energy</td>\n      <td>36 hour</td>\n      <td>65.226463</td>\n      <td>73.813988</td>\n      <td>73.815346</td>\n      <td>75.437737</td>\n      <td>77.105888</td>\n    </tr>\n    <tr>\n      <th>1</th>\n      <td>2024-01-29</td>\n      <td>energy</td>\n      <td>40 hour</td>\n      <td>61.277119</td>\n      <td>68.728668</td>\n      <td>70.505981</td>\n      <td>70.618698</td>\n      <td>75.327736</td>\n    </tr>\n    <tr>\n      <th>2</th>\n      <td>2024-01-29</td>\n      <td>energy</td>\n      <td>44 hour</td>\n      <td>62.533669</td>\n      <td>67.075638</td>\n      <td>67.317947</td>\n      <td>68.031296</td>\n      <td>71.926605</td>\n    </tr>\n    <tr>\n      <th>3</th>\n      <td>2024-01-29</td>\n      <td>energy</td>\n      <td>60 hour</td>\n      <td>64.233055</td>\n      <td>71.273369</td>\n      <td>71.478424</td>\n      <td>71.542496</td>\n      <td>78.631477</td>\n    </tr>\n    <tr>\n      <th>4</th>\n      <td>2024-01-29</td>\n      <td>energy</td>\n      <td>64 hour</td>\n      <td>61.660507</td>\n      <td>68.383492</td>\n      <td>68.656525</td>\n      <td>69.429321</td>\n      <td>76.625282</td>\n    </tr>\n    <tr>\n      <th>5</th>\n      <td>2024-01-29</td>\n      <td>energy</td>\n      <td>68 hour</td>\n      <td>61.406391</td>\n      <td>64.245865</td>\n      <td>65.026924</td>\n      <td>66.678711</td>\n      <td>71.979507</td>\n    </tr>\n    <tr>\n      <th>0</th>\n      <td>2024-01-29</td>\n      <td>infections</td>\n      <td>0 week</td>\n      <td>NA</td>\n      <td>NA</td>\n      <td>NA</td>\n      <td>NA</td>\n      <td>NA</td>\n    </tr>\n    <tr>\n      <th>1</th>\n      <td>2024-01-29</td>\n      <td>infections</td>\n      <td>1 week</td>\n      <td>NA</td>\n      <td>NA</td>\n      <td>NA</td>\n      <td>NA</td>\n      <td>NA</td>\n    </tr>\n    <tr>\n      <th>2</th>\n      <td>2024-01-29</td>\n      <td>infections</td>\n      <td>2 week</td>\n      <td>NA</td>\n      <td>NA</td>\n      <td>NA</td>\n      <td>NA</td>\n      <td>NA</td>\n    </tr>\n    <tr>\n      <th>3</th>\n      <td>2024-01-29</td>\n      <td>infections</td>\n      <td>3 week</td>\n      <td>NA</td>\n      <td>NA</td>\n      <td>NA</td>\n      <td>NA</td>\n      <td>NA</td>\n    </tr>\n    <tr>\n      <th>4</th>\n      <td>2024-01-29</td>\n      <td>infections</td>\n      <td>4 week</td>\n      <td>NA</td>\n      <td>NA</td>\n      <td>NA</td>\n      <td>NA</td>\n      <td>NA</td>\n    </tr>\n  </tbody>\n</table>\n</div>"
     },
     "execution_count": 15,
     "metadata": {},
     "output_type": "execute_result"
    }
   ],
   "source": [
    "df"
   ],
   "metadata": {
    "collapsed": false,
    "ExecuteTime": {
     "end_time": "2024-01-29T15:51:06.780633Z",
     "start_time": "2024-01-29T15:51:06.629278Z"
    }
   },
   "id": "43fcaad03ad71b36"
  },
  {
   "cell_type": "code",
   "execution_count": 16,
   "outputs": [],
   "source": [
    "df.to_csv('../../forecasts/20240129_JonSnow.csv',index=False)"
   ],
   "metadata": {
    "collapsed": false,
    "ExecuteTime": {
     "end_time": "2024-01-29T15:51:06.781053Z",
     "start_time": "2024-01-29T15:51:06.643531Z"
    }
   },
   "id": "efed0bf38425c25b"
  },
  {
   "cell_type": "code",
   "execution_count": 17,
   "outputs": [
    {
     "data": {
      "text/plain": "  forecast_date      target  horizon     q0.025      q0.25       q0.5  \\\n0    2024-01-29         DAX    1 day  -3.130739  -0.517481   0.070684   \n1    2024-01-29         DAX    2 day  -4.060268  -0.781543   0.096673   \n2    2024-01-29         DAX    5 day    -4.8773  -0.880043   0.166567   \n3    2024-01-29         DAX    6 day  -5.766996  -0.944913   0.212652   \n4    2024-01-29         DAX    7 day   -6.20662  -1.023275   0.342612   \n0    2024-01-29      energy  36 hour  65.226463  73.813988  73.815346   \n1    2024-01-29      energy  40 hour  61.277119  68.728668  70.505981   \n2    2024-01-29      energy  44 hour  62.533669  67.075638  67.317947   \n3    2024-01-29      energy  60 hour  64.233055  71.273369  71.478424   \n4    2024-01-29      energy  64 hour  61.660507  68.383492  68.656525   \n5    2024-01-29      energy  68 hour  61.406391  64.245865  65.026924   \n0    2024-01-29  infections   0 week         NA         NA         NA   \n1    2024-01-29  infections   1 week         NA         NA         NA   \n2    2024-01-29  infections   2 week         NA         NA         NA   \n3    2024-01-29  infections   3 week         NA         NA         NA   \n4    2024-01-29  infections   4 week         NA         NA         NA   \n\n       q0.75     q0.975  \n0   0.718274   2.719772  \n1   0.987322   3.570492  \n2   1.255618   4.628697  \n3   1.451656   5.367396  \n4   1.594461   6.259934  \n0  75.437737  77.105888  \n1  70.618698  75.327736  \n2  68.031296  71.926605  \n3  71.542496  78.631477  \n4  69.429321  76.625282  \n5  66.678711  71.979507  \n0         NA         NA  \n1         NA         NA  \n2         NA         NA  \n3         NA         NA  \n4         NA         NA  ",
      "text/html": "<div>\n<style scoped>\n    .dataframe tbody tr th:only-of-type {\n        vertical-align: middle;\n    }\n\n    .dataframe tbody tr th {\n        vertical-align: top;\n    }\n\n    .dataframe thead th {\n        text-align: right;\n    }\n</style>\n<table border=\"1\" class=\"dataframe\">\n  <thead>\n    <tr style=\"text-align: right;\">\n      <th></th>\n      <th>forecast_date</th>\n      <th>target</th>\n      <th>horizon</th>\n      <th>q0.025</th>\n      <th>q0.25</th>\n      <th>q0.5</th>\n      <th>q0.75</th>\n      <th>q0.975</th>\n    </tr>\n  </thead>\n  <tbody>\n    <tr>\n      <th>0</th>\n      <td>2024-01-29</td>\n      <td>DAX</td>\n      <td>1 day</td>\n      <td>-3.130739</td>\n      <td>-0.517481</td>\n      <td>0.070684</td>\n      <td>0.718274</td>\n      <td>2.719772</td>\n    </tr>\n    <tr>\n      <th>1</th>\n      <td>2024-01-29</td>\n      <td>DAX</td>\n      <td>2 day</td>\n      <td>-4.060268</td>\n      <td>-0.781543</td>\n      <td>0.096673</td>\n      <td>0.987322</td>\n      <td>3.570492</td>\n    </tr>\n    <tr>\n      <th>2</th>\n      <td>2024-01-29</td>\n      <td>DAX</td>\n      <td>5 day</td>\n      <td>-4.8773</td>\n      <td>-0.880043</td>\n      <td>0.166567</td>\n      <td>1.255618</td>\n      <td>4.628697</td>\n    </tr>\n    <tr>\n      <th>3</th>\n      <td>2024-01-29</td>\n      <td>DAX</td>\n      <td>6 day</td>\n      <td>-5.766996</td>\n      <td>-0.944913</td>\n      <td>0.212652</td>\n      <td>1.451656</td>\n      <td>5.367396</td>\n    </tr>\n    <tr>\n      <th>4</th>\n      <td>2024-01-29</td>\n      <td>DAX</td>\n      <td>7 day</td>\n      <td>-6.20662</td>\n      <td>-1.023275</td>\n      <td>0.342612</td>\n      <td>1.594461</td>\n      <td>6.259934</td>\n    </tr>\n    <tr>\n      <th>0</th>\n      <td>2024-01-29</td>\n      <td>energy</td>\n      <td>36 hour</td>\n      <td>65.226463</td>\n      <td>73.813988</td>\n      <td>73.815346</td>\n      <td>75.437737</td>\n      <td>77.105888</td>\n    </tr>\n    <tr>\n      <th>1</th>\n      <td>2024-01-29</td>\n      <td>energy</td>\n      <td>40 hour</td>\n      <td>61.277119</td>\n      <td>68.728668</td>\n      <td>70.505981</td>\n      <td>70.618698</td>\n      <td>75.327736</td>\n    </tr>\n    <tr>\n      <th>2</th>\n      <td>2024-01-29</td>\n      <td>energy</td>\n      <td>44 hour</td>\n      <td>62.533669</td>\n      <td>67.075638</td>\n      <td>67.317947</td>\n      <td>68.031296</td>\n      <td>71.926605</td>\n    </tr>\n    <tr>\n      <th>3</th>\n      <td>2024-01-29</td>\n      <td>energy</td>\n      <td>60 hour</td>\n      <td>64.233055</td>\n      <td>71.273369</td>\n      <td>71.478424</td>\n      <td>71.542496</td>\n      <td>78.631477</td>\n    </tr>\n    <tr>\n      <th>4</th>\n      <td>2024-01-29</td>\n      <td>energy</td>\n      <td>64 hour</td>\n      <td>61.660507</td>\n      <td>68.383492</td>\n      <td>68.656525</td>\n      <td>69.429321</td>\n      <td>76.625282</td>\n    </tr>\n    <tr>\n      <th>5</th>\n      <td>2024-01-29</td>\n      <td>energy</td>\n      <td>68 hour</td>\n      <td>61.406391</td>\n      <td>64.245865</td>\n      <td>65.026924</td>\n      <td>66.678711</td>\n      <td>71.979507</td>\n    </tr>\n    <tr>\n      <th>0</th>\n      <td>2024-01-29</td>\n      <td>infections</td>\n      <td>0 week</td>\n      <td>NA</td>\n      <td>NA</td>\n      <td>NA</td>\n      <td>NA</td>\n      <td>NA</td>\n    </tr>\n    <tr>\n      <th>1</th>\n      <td>2024-01-29</td>\n      <td>infections</td>\n      <td>1 week</td>\n      <td>NA</td>\n      <td>NA</td>\n      <td>NA</td>\n      <td>NA</td>\n      <td>NA</td>\n    </tr>\n    <tr>\n      <th>2</th>\n      <td>2024-01-29</td>\n      <td>infections</td>\n      <td>2 week</td>\n      <td>NA</td>\n      <td>NA</td>\n      <td>NA</td>\n      <td>NA</td>\n      <td>NA</td>\n    </tr>\n    <tr>\n      <th>3</th>\n      <td>2024-01-29</td>\n      <td>infections</td>\n      <td>3 week</td>\n      <td>NA</td>\n      <td>NA</td>\n      <td>NA</td>\n      <td>NA</td>\n      <td>NA</td>\n    </tr>\n    <tr>\n      <th>4</th>\n      <td>2024-01-29</td>\n      <td>infections</td>\n      <td>4 week</td>\n      <td>NA</td>\n      <td>NA</td>\n      <td>NA</td>\n      <td>NA</td>\n      <td>NA</td>\n    </tr>\n  </tbody>\n</table>\n</div>"
     },
     "execution_count": 17,
     "metadata": {},
     "output_type": "execute_result"
    }
   ],
   "source": [
    "df"
   ],
   "metadata": {
    "collapsed": false,
    "ExecuteTime": {
     "end_time": "2024-01-29T15:51:06.796284Z",
     "start_time": "2024-01-29T15:51:06.657341Z"
    }
   },
   "id": "8400a3744c12f88c"
  },
  {
   "cell_type": "code",
   "execution_count": 18,
   "outputs": [],
   "source": [
    "from datetime import timedelta, datetime"
   ],
   "metadata": {
    "collapsed": false,
    "ExecuteTime": {
     "end_time": "2024-01-29T15:51:06.796442Z",
     "start_time": "2024-01-29T15:51:06.663137Z"
    }
   },
   "id": "ab316f4afc87c730"
  },
  {
   "cell_type": "code",
   "execution_count": 19,
   "outputs": [],
   "source": [
    "from functions import check_submission"
   ],
   "metadata": {
    "collapsed": false,
    "ExecuteTime": {
     "end_time": "2024-01-29T15:51:06.796517Z",
     "start_time": "2024-01-29T15:51:06.667481Z"
    }
   },
   "id": "edf25717f17afa86"
  },
  {
   "cell_type": "code",
   "execution_count": 20,
   "outputs": [
    {
     "name": "stdout",
     "output_type": "stream",
     "text": [
      "Start checking...\n",
      "---------------------------\n",
      "Checking the Columns...\n",
      "Checking type of columns...\n",
      "----WARNING: Some elements in q0.025 column are not numeric. This may be fine if you only submit 2 out of 3 targets.\n",
      "\n",
      "----WARNING: Some elements in q0.25 column are not numeric. This may be fine if you only submit 2 out of 3 targets.\n",
      "\n",
      "----WARNING: Some elements in q0.5 column are not numeric. This may be fine if you only submit 2 out of 3 targets.\n",
      "\n",
      "----WARNING: Some elements in q0.75 column are not numeric. This may be fine if you only submit 2 out of 3 targets.\n",
      "\n",
      "----WARNING: Some elements in q0.975 column are not numeric. This may be fine if you only submit 2 out of 3 targets.\n",
      "\n",
      "Checking if the Dates make sense...\n",
      "----WARNING: Forecast date should be a Wednesday.\n",
      "\n",
      "Checking targets...\n",
      "Skipping plausibility check for 'infections' as it contains NA values.\n",
      "Skipping plausibility check for 'infections' as it contains NA values.\n",
      "Skipping plausibility check for 'infections' as it contains NA values.\n",
      "Checking quantiles...\n",
      "Seems like you submitted all three targets. Good job!\n"
     ]
    }
   ],
   "source": [
    "check_submission.check_df(df)"
   ],
   "metadata": {
    "collapsed": false,
    "ExecuteTime": {
     "end_time": "2024-01-29T15:51:06.799446Z",
     "start_time": "2024-01-29T15:51:06.705477Z"
    }
   },
   "id": "8155994327dfda82"
  }
 ],
 "metadata": {
  "kernelspec": {
   "display_name": "Python 3",
   "language": "python",
   "name": "python3"
  },
  "language_info": {
   "codemirror_mode": {
    "name": "ipython",
    "version": 2
   },
   "file_extension": ".py",
   "mimetype": "text/x-python",
   "name": "python",
   "nbconvert_exporter": "python",
   "pygments_lexer": "ipython2",
   "version": "2.7.6"
  }
 },
 "nbformat": 4,
 "nbformat_minor": 5
}
