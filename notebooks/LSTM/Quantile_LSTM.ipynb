{
 "cells": [
  {
   "cell_type": "code",
   "execution_count": 26,
   "id": "initial_id",
   "metadata": {
    "collapsed": true,
    "ExecuteTime": {
     "end_time": "2024-01-04T21:32:56.047662Z",
     "start_time": "2024-01-04T21:32:56.037199Z"
    }
   },
   "outputs": [],
   "source": [
    "from models.DAX import DAX_quantile_regression, DAX_baseline\n",
    "from models.energy import energy_quantile_regression\n",
    "from functions import get_energy, get_DAX, merge_submissions, check_submission\n",
    "from functions.prepare_data import split_time\n",
    "from functions.evaluation import evaluate_horizon\n",
    "from tqdm import tqdm\n",
    "from functions import evaluate_dax\n",
    "from functions import naive_ensemble\n",
    "import pandas as pd\n",
    "#import minmaxscaler\n",
    "from sklearn.preprocessing import MinMaxScaler\n",
    "from datetime import datetime, date, timedelta\n"
   ]
  },
  {
   "cell_type": "code",
   "execution_count": 27,
   "outputs": [
    {
     "name": "stderr",
     "output_type": "stream",
     "text": [
      "  0%|          | 0/263 [00:00<?, ?it/s]/Users/stephantimpe/PycharmProjects/probabilistic-forecasting-challenge/functions/get_energy.py:28: FutureWarning: The behavior of DataFrame concatenation with empty or all-NA entries is deprecated. In a future version, this will no longer exclude empty or all-NA columns when determining the result dtypes. To retain the old behavior, exclude the relevant entries before the concat operation.\n",
      "  energydata = pd.concat([energydata, pd.DataFrame(rawdata, columns=col_names)])\n",
      "100%|██████████| 263/263 [00:27<00:00,  9.69it/s]\n"
     ]
    }
   ],
   "source": [
    "energydata = get_energy.get()"
   ],
   "metadata": {
    "collapsed": false,
    "ExecuteTime": {
     "end_time": "2024-01-04T21:33:23.547102Z",
     "start_time": "2024-01-04T21:32:56.183095Z"
    }
   },
   "id": "9ecfef8d6c7a0d3"
  },
  {
   "cell_type": "code",
   "execution_count": 28,
   "outputs": [
    {
     "data": {
      "text/plain": "                       gesamt  weekday\ndate_time                             \n2018-12-24 00:00:00  42.02925        0\n2018-12-24 01:00:00  39.61025        0\n2018-12-24 02:00:00  39.13875        0\n2018-12-24 03:00:00  39.42100        0\n2018-12-24 04:00:00  40.74775        0",
      "text/html": "<div>\n<style scoped>\n    .dataframe tbody tr th:only-of-type {\n        vertical-align: middle;\n    }\n\n    .dataframe tbody tr th {\n        vertical-align: top;\n    }\n\n    .dataframe thead th {\n        text-align: right;\n    }\n</style>\n<table border=\"1\" class=\"dataframe\">\n  <thead>\n    <tr style=\"text-align: right;\">\n      <th></th>\n      <th>gesamt</th>\n      <th>weekday</th>\n    </tr>\n    <tr>\n      <th>date_time</th>\n      <th></th>\n      <th></th>\n    </tr>\n  </thead>\n  <tbody>\n    <tr>\n      <th>2018-12-24 00:00:00</th>\n      <td>42.02925</td>\n      <td>0</td>\n    </tr>\n    <tr>\n      <th>2018-12-24 01:00:00</th>\n      <td>39.61025</td>\n      <td>0</td>\n    </tr>\n    <tr>\n      <th>2018-12-24 02:00:00</th>\n      <td>39.13875</td>\n      <td>0</td>\n    </tr>\n    <tr>\n      <th>2018-12-24 03:00:00</th>\n      <td>39.42100</td>\n      <td>0</td>\n    </tr>\n    <tr>\n      <th>2018-12-24 04:00:00</th>\n      <td>40.74775</td>\n      <td>0</td>\n    </tr>\n  </tbody>\n</table>\n</div>"
     },
     "execution_count": 28,
     "metadata": {},
     "output_type": "execute_result"
    }
   ],
   "source": [
    "energydata.head()"
   ],
   "metadata": {
    "collapsed": false,
    "ExecuteTime": {
     "end_time": "2024-01-04T21:33:23.555505Z",
     "start_time": "2024-01-04T21:33:23.548099Z"
    }
   },
   "id": "3370e46bb8d4b54e"
  },
  {
   "cell_type": "markdown",
   "source": [],
   "metadata": {
    "collapsed": false
   },
   "id": "4be1048b78e4f930"
  },
  {
   "cell_type": "markdown",
   "source": [
    "Scale the data"
   ],
   "metadata": {
    "collapsed": false
   },
   "id": "20f6940a16411e67"
  },
  {
   "cell_type": "code",
   "execution_count": 29,
   "outputs": [
    {
     "data": {
      "text/plain": "                       gesamt  weekday  gesamt_normalized\ndate_time                                                \n2018-12-24 00:00:00  42.02925        0           0.504797\n2018-12-24 01:00:00  39.61025        0           0.475743\n2018-12-24 02:00:00  39.13875        0           0.470080\n2018-12-24 03:00:00  39.42100        0           0.473470\n2018-12-24 04:00:00  40.74775        0           0.489405",
      "text/html": "<div>\n<style scoped>\n    .dataframe tbody tr th:only-of-type {\n        vertical-align: middle;\n    }\n\n    .dataframe tbody tr th {\n        vertical-align: top;\n    }\n\n    .dataframe thead th {\n        text-align: right;\n    }\n</style>\n<table border=\"1\" class=\"dataframe\">\n  <thead>\n    <tr style=\"text-align: right;\">\n      <th></th>\n      <th>gesamt</th>\n      <th>weekday</th>\n      <th>gesamt_normalized</th>\n    </tr>\n    <tr>\n      <th>date_time</th>\n      <th></th>\n      <th></th>\n      <th></th>\n    </tr>\n  </thead>\n  <tbody>\n    <tr>\n      <th>2018-12-24 00:00:00</th>\n      <td>42.02925</td>\n      <td>0</td>\n      <td>0.504797</td>\n    </tr>\n    <tr>\n      <th>2018-12-24 01:00:00</th>\n      <td>39.61025</td>\n      <td>0</td>\n      <td>0.475743</td>\n    </tr>\n    <tr>\n      <th>2018-12-24 02:00:00</th>\n      <td>39.13875</td>\n      <td>0</td>\n      <td>0.470080</td>\n    </tr>\n    <tr>\n      <th>2018-12-24 03:00:00</th>\n      <td>39.42100</td>\n      <td>0</td>\n      <td>0.473470</td>\n    </tr>\n    <tr>\n      <th>2018-12-24 04:00:00</th>\n      <td>40.74775</td>\n      <td>0</td>\n      <td>0.489405</td>\n    </tr>\n  </tbody>\n</table>\n</div>"
     },
     "execution_count": 29,
     "metadata": {},
     "output_type": "execute_result"
    }
   ],
   "source": [
    "# Creating a DataFrame\n",
    "df = pd.DataFrame(energydata)\n",
    "\n",
    "# Normalizing the 'gesamt' column\n",
    "scaler = MinMaxScaler()\n",
    "df['gesamt_normalized'] = scaler.fit_transform(df[['gesamt']])\n",
    "\n",
    "df.head()  # Display the first few rows of the preprocessed DataFrame"
   ],
   "metadata": {
    "collapsed": false,
    "ExecuteTime": {
     "end_time": "2024-01-04T21:33:23.588849Z",
     "start_time": "2024-01-04T21:33:23.554696Z"
    }
   },
   "id": "77ef1642d1cf147a"
  },
  {
   "cell_type": "markdown",
   "source": [
    "Split the data into train and test sets"
   ],
   "metadata": {
    "collapsed": false
   },
   "id": "5558ba1d1cb3ddb1"
  },
  {
   "cell_type": "code",
   "execution_count": 30,
   "outputs": [
    {
     "data": {
      "text/plain": "((35288, 4), (35288, 1), (8822, 4), (8822, 1))"
     },
     "execution_count": 30,
     "metadata": {},
     "output_type": "execute_result"
    }
   ],
   "source": [
    "# Assuming df has 'date_time' as its index and 'gesamt_normalized' as a column\n",
    "# Extracting temporal features\n",
    "df['hour'] = df.index.hour\n",
    "df['day'] = df.index.day\n",
    "df['month'] = df.index.month\n",
    "df['week'] = df.index.weekday\n",
    "# ... add other temporal features you find relevant\n",
    "\n",
    "# Splitting the data into train and test sets chronologically\n",
    "train_size = int(len(df) * 0.8)\n",
    "train_df, test_df = df[:train_size], df[train_size:]\n",
    "\n",
    "# Selecting the features and target for training\n",
    "feature_columns = ['hour', 'day', 'month', 'weekday'] # add other columns if needed\n",
    "train_X = train_df[feature_columns].values\n",
    "train_y = train_df['gesamt'].values.reshape(-1, 1)\n",
    "test_X = test_df[feature_columns].values\n",
    "test_y = test_df['gesamt'].values.reshape(-1, 1)\n",
    "\n",
    "# Shapes of the training and testing data\n",
    "train_X.shape, train_y.shape, test_X.shape, test_y.shape\n",
    "\n"
   ],
   "metadata": {
    "collapsed": false,
    "ExecuteTime": {
     "end_time": "2024-01-04T21:33:23.630329Z",
     "start_time": "2024-01-04T21:33:23.572119Z"
    }
   },
   "id": "e1f7c33b78380fa6"
  },
  {
   "cell_type": "markdown",
   "source": [
    "# Train the LSTM model"
   ],
   "metadata": {
    "collapsed": false
   },
   "id": "7f22b03965ebde1d"
  },
  {
   "cell_type": "code",
   "execution_count": 31,
   "outputs": [],
   "source": [
    "from keras.models import Sequential\n",
    "from keras.layers import LSTM, Dense\n",
    "import numpy as np\n",
    "\n",
    "# Assuming you have already prepared train_X, train_y, test_X, test_y as shown before\n",
    "\n",
    "# Reshaping input data for LSTM [samples, time steps, features]\n",
    "train_X_lstm = np.reshape(train_X, (train_X.shape[0], 1, train_X.shape[1]))\n",
    "test_X_lstm = np.reshape(test_X, (test_X.shape[0], 1, test_X.shape[1]))"
   ],
   "metadata": {
    "collapsed": false,
    "ExecuteTime": {
     "end_time": "2024-01-04T21:33:23.674801Z",
     "start_time": "2024-01-04T21:33:23.584703Z"
    }
   },
   "id": "2ece217153a0bbd"
  },
  {
   "cell_type": "markdown",
   "source": [
    "Encoder"
   ],
   "metadata": {
    "collapsed": false
   },
   "id": "c3655b7f0014317d"
  },
  {
   "cell_type": "code",
   "execution_count": 32,
   "outputs": [
    {
     "name": "stderr",
     "output_type": "stream",
     "text": [
      "2024-01-04 22:33:23.803813: I tensorflow/core/common_runtime/executor.cc:1197] [/device:CPU:0] (DEBUG INFO) Executor start aborting (this does not indicate an error and you can ignore this message): INVALID_ARGUMENT: You must feed a value for placeholder tensor 'gradients/split_2_grad/concat/split_2/split_dim' with dtype int32\n",
      "\t [[{{node gradients/split_2_grad/concat/split_2/split_dim}}]]\n",
      "2024-01-04 22:33:23.805318: I tensorflow/core/common_runtime/executor.cc:1197] [/device:CPU:0] (DEBUG INFO) Executor start aborting (this does not indicate an error and you can ignore this message): INVALID_ARGUMENT: You must feed a value for placeholder tensor 'gradients/split_grad/concat/split/split_dim' with dtype int32\n",
      "\t [[{{node gradients/split_grad/concat/split/split_dim}}]]\n",
      "2024-01-04 22:33:23.806126: I tensorflow/core/common_runtime/executor.cc:1197] [/device:CPU:0] (DEBUG INFO) Executor start aborting (this does not indicate an error and you can ignore this message): INVALID_ARGUMENT: You must feed a value for placeholder tensor 'gradients/split_1_grad/concat/split_1/split_dim' with dtype int32\n",
      "\t [[{{node gradients/split_1_grad/concat/split_1/split_dim}}]]\n"
     ]
    }
   ],
   "source": [
    "from keras.layers import Input, LSTM, RepeatVector\n",
    "from keras.models import Model\n",
    "\n",
    "# Define the input sequence\n",
    "input_seq = Input(shape=(train_X_lstm.shape[1], train_X_lstm.shape[2]))\n",
    "\n",
    "# Encoder LSTM\n",
    "encoder_out, state_h, state_c = LSTM(50, return_state=True)(input_seq)\n",
    "encoder_states = [state_h, state_c]\n"
   ],
   "metadata": {
    "collapsed": false,
    "ExecuteTime": {
     "end_time": "2024-01-04T21:33:23.832608Z",
     "start_time": "2024-01-04T21:33:23.593779Z"
    }
   },
   "id": "3e081f405b3880f8"
  },
  {
   "cell_type": "markdown",
   "source": [
    "Decoder"
   ],
   "metadata": {
    "collapsed": false
   },
   "id": "bfccf6cbfe5cb89f"
  },
  {
   "cell_type": "code",
   "execution_count": 33,
   "outputs": [
    {
     "name": "stderr",
     "output_type": "stream",
     "text": [
      "2024-01-04 22:33:23.940034: I tensorflow/core/common_runtime/executor.cc:1197] [/device:CPU:0] (DEBUG INFO) Executor start aborting (this does not indicate an error and you can ignore this message): INVALID_ARGUMENT: You must feed a value for placeholder tensor 'gradients/split_2_grad/concat/split_2/split_dim' with dtype int32\n",
      "\t [[{{node gradients/split_2_grad/concat/split_2/split_dim}}]]\n",
      "2024-01-04 22:33:23.941081: I tensorflow/core/common_runtime/executor.cc:1197] [/device:CPU:0] (DEBUG INFO) Executor start aborting (this does not indicate an error and you can ignore this message): INVALID_ARGUMENT: You must feed a value for placeholder tensor 'gradients/split_grad/concat/split/split_dim' with dtype int32\n",
      "\t [[{{node gradients/split_grad/concat/split/split_dim}}]]\n",
      "2024-01-04 22:33:23.942437: I tensorflow/core/common_runtime/executor.cc:1197] [/device:CPU:0] (DEBUG INFO) Executor start aborting (this does not indicate an error and you can ignore this message): INVALID_ARGUMENT: You must feed a value for placeholder tensor 'gradients/split_1_grad/concat/split_1/split_dim' with dtype int32\n",
      "\t [[{{node gradients/split_1_grad/concat/split_1/split_dim}}]]\n"
     ]
    }
   ],
   "source": [
    "from keras.layers import Dense, TimeDistributed\n",
    "\n",
    "# Set the number of time steps to predict\n",
    "decoder_steps = train_X_lstm.shape[1]\n",
    "\n",
    "# Decoder LSTM\n",
    "decoder_lstm = LSTM(50, return_sequences=True)\n",
    "decoder_out = decoder_lstm(RepeatVector(decoder_steps)(encoder_out), initial_state=encoder_states)\n",
    "\n",
    "# Output layer\n",
    "decoder_dense = TimeDistributed(Dense(5))  # Change 5 to the number of quantiles\n",
    "decoder_outputs = decoder_dense(decoder_out)\n",
    "\n",
    "# Define the model\n",
    "model = Model(inputs=input_seq, outputs=decoder_outputs)\n"
   ],
   "metadata": {
    "collapsed": false,
    "ExecuteTime": {
     "end_time": "2024-01-04T21:33:23.967754Z",
     "start_time": "2024-01-04T21:33:23.831068Z"
    }
   },
   "id": "7ea41d040351f557"
  },
  {
   "cell_type": "markdown",
   "source": [
    "Quantile Loss Function"
   ],
   "metadata": {
    "collapsed": false
   },
   "id": "570282e87ed53438"
  },
  {
   "cell_type": "code",
   "execution_count": 34,
   "outputs": [],
   "source": [
    "def quantile_loss(quantiles, y_true, y_pred):\n",
    "    e = y_true - y_pred\n",
    "    losses = []\n",
    "    for q in quantiles:\n",
    "        loss = K.maximum(q * e, (q - 1) * e)\n",
    "        losses.append(K.mean(loss, axis=-1))\n",
    "    return K.mean(K.stack(losses, axis=-1), axis=-1)\n",
    "\n"
   ],
   "metadata": {
    "collapsed": false,
    "ExecuteTime": {
     "end_time": "2024-01-04T21:33:23.973809Z",
     "start_time": "2024-01-04T21:33:23.969397Z"
    }
   },
   "id": "6c9c6192e7950b26"
  },
  {
   "cell_type": "markdown",
   "source": [
    "Compile"
   ],
   "metadata": {
    "collapsed": false
   },
   "id": "351a35372dcb9d36"
  },
  {
   "cell_type": "code",
   "execution_count": 35,
   "outputs": [],
   "source": [
    "quantiles = [0.025, 0.25, 0.5, 0.75, 0.975]\n",
    "model.compile(optimizer='adam', loss=lambda y_true, y_pred: quantile_loss(quantiles, y_true, y_pred))\n"
   ],
   "metadata": {
    "collapsed": false,
    "ExecuteTime": {
     "end_time": "2024-01-04T21:33:23.980172Z",
     "start_time": "2024-01-04T21:33:23.975879Z"
    }
   },
   "id": "ede9caed763347f7"
  },
  {
   "cell_type": "markdown",
   "source": [
    "Train"
   ],
   "metadata": {
    "collapsed": false
   },
   "id": "ac03a71e05126717"
  },
  {
   "cell_type": "code",
   "execution_count": 36,
   "outputs": [
    {
     "name": "stdout",
     "output_type": "stream",
     "text": [
      "Epoch 1/10\n"
     ]
    },
    {
     "name": "stderr",
     "output_type": "stream",
     "text": [
      "2024-01-04 22:33:24.218632: I tensorflow/core/common_runtime/executor.cc:1197] [/device:CPU:0] (DEBUG INFO) Executor start aborting (this does not indicate an error and you can ignore this message): INVALID_ARGUMENT: You must feed a value for placeholder tensor 'gradients/split_2_grad/concat/split_2/split_dim' with dtype int32\n",
      "\t [[{{node gradients/split_2_grad/concat/split_2/split_dim}}]]\n",
      "2024-01-04 22:33:24.220182: I tensorflow/core/common_runtime/executor.cc:1197] [/device:CPU:0] (DEBUG INFO) Executor start aborting (this does not indicate an error and you can ignore this message): INVALID_ARGUMENT: You must feed a value for placeholder tensor 'gradients/split_grad/concat/split/split_dim' with dtype int32\n",
      "\t [[{{node gradients/split_grad/concat/split/split_dim}}]]\n",
      "2024-01-04 22:33:24.221170: I tensorflow/core/common_runtime/executor.cc:1197] [/device:CPU:0] (DEBUG INFO) Executor start aborting (this does not indicate an error and you can ignore this message): INVALID_ARGUMENT: You must feed a value for placeholder tensor 'gradients/split_1_grad/concat/split_1/split_dim' with dtype int32\n",
      "\t [[{{node gradients/split_1_grad/concat/split_1/split_dim}}]]\n",
      "2024-01-04 22:33:24.325033: I tensorflow/core/common_runtime/executor.cc:1197] [/device:CPU:0] (DEBUG INFO) Executor start aborting (this does not indicate an error and you can ignore this message): INVALID_ARGUMENT: You must feed a value for placeholder tensor 'gradients/split_2_grad/concat/split_2/split_dim' with dtype int32\n",
      "\t [[{{node gradients/split_2_grad/concat/split_2/split_dim}}]]\n",
      "2024-01-04 22:33:24.325980: I tensorflow/core/common_runtime/executor.cc:1197] [/device:CPU:0] (DEBUG INFO) Executor start aborting (this does not indicate an error and you can ignore this message): INVALID_ARGUMENT: You must feed a value for placeholder tensor 'gradients/split_grad/concat/split/split_dim' with dtype int32\n",
      "\t [[{{node gradients/split_grad/concat/split/split_dim}}]]\n",
      "2024-01-04 22:33:24.327418: I tensorflow/core/common_runtime/executor.cc:1197] [/device:CPU:0] (DEBUG INFO) Executor start aborting (this does not indicate an error and you can ignore this message): INVALID_ARGUMENT: You must feed a value for placeholder tensor 'gradients/split_1_grad/concat/split_1/split_dim' with dtype int32\n",
      "\t [[{{node gradients/split_1_grad/concat/split_1/split_dim}}]]\n",
      "2024-01-04 22:33:25.232848: I tensorflow/core/common_runtime/executor.cc:1197] [/device:CPU:0] (DEBUG INFO) Executor start aborting (this does not indicate an error and you can ignore this message): INVALID_ARGUMENT: You must feed a value for placeholder tensor 'gradients/split_2_grad/concat/split_2/split_dim' with dtype int32\n",
      "\t [[{{node gradients/split_2_grad/concat/split_2/split_dim}}]]\n",
      "2024-01-04 22:33:25.235860: I tensorflow/core/common_runtime/executor.cc:1197] [/device:CPU:0] (DEBUG INFO) Executor start aborting (this does not indicate an error and you can ignore this message): INVALID_ARGUMENT: You must feed a value for placeholder tensor 'gradients/split_grad/concat/split/split_dim' with dtype int32\n",
      "\t [[{{node gradients/split_grad/concat/split/split_dim}}]]\n",
      "2024-01-04 22:33:25.237150: I tensorflow/core/common_runtime/executor.cc:1197] [/device:CPU:0] (DEBUG INFO) Executor start aborting (this does not indicate an error and you can ignore this message): INVALID_ARGUMENT: You must feed a value for placeholder tensor 'gradients/split_1_grad/concat/split_1/split_dim' with dtype int32\n",
      "\t [[{{node gradients/split_1_grad/concat/split_1/split_dim}}]]\n",
      "2024-01-04 22:33:25.381590: I tensorflow/core/common_runtime/executor.cc:1197] [/device:CPU:0] (DEBUG INFO) Executor start aborting (this does not indicate an error and you can ignore this message): INVALID_ARGUMENT: You must feed a value for placeholder tensor 'gradients/split_2_grad/concat/split_2/split_dim' with dtype int32\n",
      "\t [[{{node gradients/split_2_grad/concat/split_2/split_dim}}]]\n",
      "2024-01-04 22:33:25.382405: I tensorflow/core/common_runtime/executor.cc:1197] [/device:CPU:0] (DEBUG INFO) Executor start aborting (this does not indicate an error and you can ignore this message): INVALID_ARGUMENT: You must feed a value for placeholder tensor 'gradients/split_grad/concat/split/split_dim' with dtype int32\n",
      "\t [[{{node gradients/split_grad/concat/split/split_dim}}]]\n",
      "2024-01-04 22:33:25.383075: I tensorflow/core/common_runtime/executor.cc:1197] [/device:CPU:0] (DEBUG INFO) Executor start aborting (this does not indicate an error and you can ignore this message): INVALID_ARGUMENT: You must feed a value for placeholder tensor 'gradients/split_1_grad/concat/split_1/split_dim' with dtype int32\n",
      "\t [[{{node gradients/split_1_grad/concat/split_1/split_dim}}]]\n"
     ]
    },
    {
     "name": "stdout",
     "output_type": "stream",
     "text": [
      "1103/1103 [==============================] - 5s 2ms/step - loss: 13.3007\n",
      "Epoch 2/10\n",
      "1103/1103 [==============================] - 2s 2ms/step - loss: 4.2052\n",
      "Epoch 3/10\n",
      "1103/1103 [==============================] - 2s 2ms/step - loss: 4.1733\n",
      "Epoch 4/10\n",
      "1103/1103 [==============================] - 2s 2ms/step - loss: 4.1752\n",
      "Epoch 5/10\n",
      "1103/1103 [==============================] - 3s 3ms/step - loss: 4.1750\n",
      "Epoch 6/10\n",
      "1103/1103 [==============================] - 2s 2ms/step - loss: 4.1757\n",
      "Epoch 7/10\n",
      "1103/1103 [==============================] - 2s 2ms/step - loss: 4.1747\n",
      "Epoch 8/10\n",
      "1103/1103 [==============================] - 2s 2ms/step - loss: 4.1741\n",
      "Epoch 9/10\n",
      "1103/1103 [==============================] - 2s 2ms/step - loss: 4.1741\n",
      "Epoch 10/10\n",
      "1103/1103 [==============================] - 2s 2ms/step - loss: 4.1736\n"
     ]
    },
    {
     "data": {
      "text/plain": "<keras.callbacks.History at 0x158e798b0>"
     },
     "execution_count": 36,
     "metadata": {},
     "output_type": "execute_result"
    }
   ],
   "source": [
    "model.fit(train_X_lstm, train_y, epochs=10, batch_size=32, verbose=1)\n"
   ],
   "metadata": {
    "collapsed": false,
    "ExecuteTime": {
     "end_time": "2024-01-04T21:33:50.759015Z",
     "start_time": "2024-01-04T21:33:23.983560Z"
    }
   },
   "id": "84007b7444f6152b"
  },
  {
   "cell_type": "code",
   "execution_count": 37,
   "outputs": [
    {
     "name": "stderr",
     "output_type": "stream",
     "text": [
      "2024-01-04 22:33:50.918088: I tensorflow/core/common_runtime/executor.cc:1197] [/device:CPU:0] (DEBUG INFO) Executor start aborting (this does not indicate an error and you can ignore this message): INVALID_ARGUMENT: You must feed a value for placeholder tensor 'gradients/split_2_grad/concat/split_2/split_dim' with dtype int32\n",
      "\t [[{{node gradients/split_2_grad/concat/split_2/split_dim}}]]\n",
      "2024-01-04 22:33:50.919137: I tensorflow/core/common_runtime/executor.cc:1197] [/device:CPU:0] (DEBUG INFO) Executor start aborting (this does not indicate an error and you can ignore this message): INVALID_ARGUMENT: You must feed a value for placeholder tensor 'gradients/split_grad/concat/split/split_dim' with dtype int32\n",
      "\t [[{{node gradients/split_grad/concat/split/split_dim}}]]\n",
      "2024-01-04 22:33:50.919928: I tensorflow/core/common_runtime/executor.cc:1197] [/device:CPU:0] (DEBUG INFO) Executor start aborting (this does not indicate an error and you can ignore this message): INVALID_ARGUMENT: You must feed a value for placeholder tensor 'gradients/split_1_grad/concat/split_1/split_dim' with dtype int32\n",
      "\t [[{{node gradients/split_1_grad/concat/split_1/split_dim}}]]\n",
      "2024-01-04 22:33:51.020570: I tensorflow/core/common_runtime/executor.cc:1197] [/device:CPU:0] (DEBUG INFO) Executor start aborting (this does not indicate an error and you can ignore this message): INVALID_ARGUMENT: You must feed a value for placeholder tensor 'gradients/split_2_grad/concat/split_2/split_dim' with dtype int32\n",
      "\t [[{{node gradients/split_2_grad/concat/split_2/split_dim}}]]\n",
      "2024-01-04 22:33:51.021242: I tensorflow/core/common_runtime/executor.cc:1197] [/device:CPU:0] (DEBUG INFO) Executor start aborting (this does not indicate an error and you can ignore this message): INVALID_ARGUMENT: You must feed a value for placeholder tensor 'gradients/split_grad/concat/split/split_dim' with dtype int32\n",
      "\t [[{{node gradients/split_grad/concat/split/split_dim}}]]\n",
      "2024-01-04 22:33:51.021858: I tensorflow/core/common_runtime/executor.cc:1197] [/device:CPU:0] (DEBUG INFO) Executor start aborting (this does not indicate an error and you can ignore this message): INVALID_ARGUMENT: You must feed a value for placeholder tensor 'gradients/split_1_grad/concat/split_1/split_dim' with dtype int32\n",
      "\t [[{{node gradients/split_1_grad/concat/split_1/split_dim}}]]\n"
     ]
    },
    {
     "name": "stdout",
     "output_type": "stream",
     "text": [
      "276/276 [==============================] - 1s 622us/step\n"
     ]
    }
   ],
   "source": [
    "predictions = model.predict(test_X_lstm)\n"
   ],
   "metadata": {
    "collapsed": false,
    "ExecuteTime": {
     "end_time": "2024-01-04T21:33:51.404626Z",
     "start_time": "2024-01-04T21:33:50.761737Z"
    }
   },
   "id": "1a1cb885355f42f9"
  },
  {
   "cell_type": "code",
   "execution_count": 40,
   "outputs": [
    {
     "data": {
      "text/plain": "array([[[56.193165, 56.191467, 56.196503, 56.209404, 56.18016 ]],\n\n       [[56.23614 , 56.23605 , 56.24045 , 56.254913, 56.223644]],\n\n       [[56.268513, 56.2696  , 56.273552, 56.28921 , 56.256462]],\n\n       ...,\n\n       [[56.37169 , 56.3766  , 56.37927 , 56.398815, 56.36213 ]],\n\n       [[56.37266 , 56.37757 , 56.38026 , 56.39986 , 56.363102]],\n\n       [[56.373405, 56.37831 , 56.381023, 56.400654, 56.363846]]],\n      dtype=float32)"
     },
     "execution_count": 40,
     "metadata": {},
     "output_type": "execute_result"
    }
   ],
   "source": [
    "predictions"
   ],
   "metadata": {
    "collapsed": false,
    "ExecuteTime": {
     "end_time": "2024-01-04T21:34:01.647182Z",
     "start_time": "2024-01-04T21:34:01.641740Z"
    }
   },
   "id": "7719f27fe214405d"
  },
  {
   "cell_type": "code",
   "execution_count": 41,
   "outputs": [],
   "source": [
    "from datetime import datetime, timedelta\n",
    "\n",
    "def next_weekday(d, weekday):\n",
    "    days_ahead = weekday - d.weekday()\n",
    "    if days_ahead <= 0:  # Target day already happened this week\n",
    "        days_ahead += 7\n",
    "    return d + timedelta(days_ahead)\n",
    "\n",
    "# Define your horizons in hours\n",
    "horizons = [36, 40, 44, 60, 64, 68]\n",
    "\n",
    "# Calculate the next Thursday at 00:00\n",
    "now = datetime.now()\n",
    "next_thursday = next_weekday(now, 3)  # 3 represents Thursday\n",
    "next_thursday = next_thursday.replace(hour=0, minute=0, second=0, microsecond=0)\n",
    "\n",
    "# Calculate future timestamps\n",
    "future_timestamps = [next_thursday + timedelta(hours=h) for h in horizons]\n"
   ],
   "metadata": {
    "collapsed": false,
    "ExecuteTime": {
     "end_time": "2024-01-04T21:41:35.606834Z",
     "start_time": "2024-01-04T21:41:35.590192Z"
    }
   },
   "id": "cf748a363db6fe6e"
  },
  {
   "cell_type": "code",
   "execution_count": 42,
   "outputs": [],
   "source": [
    "# Function to extract features for a given timestamp\n",
    "def extract_features_for_timestamp(timestamp, df):\n",
    "    features = {\n",
    "        'hour': timestamp.hour,\n",
    "        'day': timestamp.day,\n",
    "        'month': timestamp.month,\n",
    "        'weekday': timestamp.weekday()\n",
    "    }\n",
    "    # If other features are needed, add them here\n",
    "\n",
    "    # Convert to format similar to your training data\n",
    "    feature_vector = [features[col] for col in feature_columns]\n",
    "    return feature_vector\n",
    "\n",
    "prediction_inputs = [extract_features_for_timestamp(ts, df) for ts in future_timestamps]\n"
   ],
   "metadata": {
    "collapsed": false,
    "ExecuteTime": {
     "end_time": "2024-01-04T21:44:11.115180Z",
     "start_time": "2024-01-04T21:44:11.076906Z"
    }
   },
   "id": "bd47fd8eb6927d38"
  },
  {
   "cell_type": "markdown",
   "source": [
    "Reshape for LSTM"
   ],
   "metadata": {
    "collapsed": false
   },
   "id": "1c271c2e69c31d5a"
  },
  {
   "cell_type": "code",
   "execution_count": 43,
   "outputs": [],
   "source": [
    "prediction_inputs = np.array(prediction_inputs).reshape(-1, 1, len(feature_columns))\n"
   ],
   "metadata": {
    "collapsed": false,
    "ExecuteTime": {
     "end_time": "2024-01-04T21:44:32.115316Z",
     "start_time": "2024-01-04T21:44:32.101186Z"
    }
   },
   "id": "19924d9a90259435"
  },
  {
   "cell_type": "code",
   "execution_count": 44,
   "outputs": [
    {
     "name": "stderr",
     "output_type": "stream",
     "text": [
      "2024-01-04 22:44:38.713526: I tensorflow/core/common_runtime/executor.cc:1197] [/device:CPU:0] (DEBUG INFO) Executor start aborting (this does not indicate an error and you can ignore this message): INVALID_ARGUMENT: You must feed a value for placeholder tensor 'gradients/split_2_grad/concat/split_2/split_dim' with dtype int32\n",
      "\t [[{{node gradients/split_2_grad/concat/split_2/split_dim}}]]\n",
      "2024-01-04 22:44:38.714524: I tensorflow/core/common_runtime/executor.cc:1197] [/device:CPU:0] (DEBUG INFO) Executor start aborting (this does not indicate an error and you can ignore this message): INVALID_ARGUMENT: You must feed a value for placeholder tensor 'gradients/split_grad/concat/split/split_dim' with dtype int32\n",
      "\t [[{{node gradients/split_grad/concat/split/split_dim}}]]\n",
      "2024-01-04 22:44:38.715302: I tensorflow/core/common_runtime/executor.cc:1197] [/device:CPU:0] (DEBUG INFO) Executor start aborting (this does not indicate an error and you can ignore this message): INVALID_ARGUMENT: You must feed a value for placeholder tensor 'gradients/split_1_grad/concat/split_1/split_dim' with dtype int32\n",
      "\t [[{{node gradients/split_1_grad/concat/split_1/split_dim}}]]\n",
      "2024-01-04 22:44:38.882415: I tensorflow/core/common_runtime/executor.cc:1197] [/device:CPU:0] (DEBUG INFO) Executor start aborting (this does not indicate an error and you can ignore this message): INVALID_ARGUMENT: You must feed a value for placeholder tensor 'gradients/split_2_grad/concat/split_2/split_dim' with dtype int32\n",
      "\t [[{{node gradients/split_2_grad/concat/split_2/split_dim}}]]\n",
      "2024-01-04 22:44:38.884836: I tensorflow/core/common_runtime/executor.cc:1197] [/device:CPU:0] (DEBUG INFO) Executor start aborting (this does not indicate an error and you can ignore this message): INVALID_ARGUMENT: You must feed a value for placeholder tensor 'gradients/split_grad/concat/split/split_dim' with dtype int32\n",
      "\t [[{{node gradients/split_grad/concat/split/split_dim}}]]\n",
      "2024-01-04 22:44:38.891632: I tensorflow/core/common_runtime/executor.cc:1197] [/device:CPU:0] (DEBUG INFO) Executor start aborting (this does not indicate an error and you can ignore this message): INVALID_ARGUMENT: You must feed a value for placeholder tensor 'gradients/split_1_grad/concat/split_1/split_dim' with dtype int32\n",
      "\t [[{{node gradients/split_1_grad/concat/split_1/split_dim}}]]\n"
     ]
    },
    {
     "name": "stdout",
     "output_type": "stream",
     "text": [
      "1/1 [==============================] - 1s 577ms/step\n"
     ]
    }
   ],
   "source": [
    "predictions = model.predict(prediction_inputs)\n"
   ],
   "metadata": {
    "collapsed": false,
    "ExecuteTime": {
     "end_time": "2024-01-04T21:44:39.125819Z",
     "start_time": "2024-01-04T21:44:38.424470Z"
    }
   },
   "id": "aa07ffa14f378c"
  },
  {
   "cell_type": "code",
   "execution_count": 85,
   "outputs": [],
   "source": [
    "columns = [f'q{q}' for q in quantiles]\n",
    "# Reshape predictions from 3D to 2D\n",
    "predictions_reshaped = predictions.reshape(predictions.shape[0], -1)\n",
    "\n",
    "# Create DataFrame with the reshaped predictions\n",
    "df_predictions= pd.DataFrame()\n",
    "df_predictions['forecast_date'] = next_thursday.strftime('%Y-%m-%d %H:%M:%S')* len(predictions_reshaped)\n",
    "#df_predictions['forecast_date'] = [ts.strftime('%Y-%m-%d %H:%M:%S') for ts in future_timestamps]\n",
    "df_predictions['target'] = 'energy'\n",
    "df_predictions['horizon'] = [f'{h} hour' for h in horizons]\n",
    "df_predictions[columns]=(predictions_reshaped)\n",
    "\n"
   ],
   "metadata": {
    "collapsed": false,
    "ExecuteTime": {
     "end_time": "2024-01-05T06:38:23.886374Z",
     "start_time": "2024-01-05T06:38:23.884680Z"
    }
   },
   "id": "536b642b31357c75"
  },
  {
   "cell_type": "code",
   "execution_count": 90,
   "outputs": [],
   "source": [
    "# Static values DataFrame\n",
    "df_static = pd.DataFrame({\n",
    "    'forecast_date': [next_thursday.strftime('%Y-%m-%d')] * len(predictions_reshaped),\n",
    "    'target': ['energy'] * len(predictions_reshaped),\n",
    "    'horizon': [f'{h} hour' for h in horizons for _ in range(len(predictions_reshaped)//len(horizons))]\n",
    "})\n",
    "\n",
    "# DataFrame for predictions\n",
    "df_predictions = pd.DataFrame(predictions_reshaped, columns=columns)\n",
    "\n",
    "# Concatenate static DataFrame with predictions DataFrame\n",
    "final_df = pd.concat([df_static, df_predictions], axis=1)\n"
   ],
   "metadata": {
    "collapsed": false,
    "ExecuteTime": {
     "end_time": "2024-01-05T06:40:23.201418Z",
     "start_time": "2024-01-05T06:40:23.194671Z"
    }
   },
   "id": "bf54a77be2b228c4"
  },
  {
   "cell_type": "code",
   "execution_count": 91,
   "outputs": [
    {
     "data": {
      "text/plain": "  forecast_date  target  horizon     q0.025      q0.25       q0.5      q0.75  \\\n0    2024-01-11  energy  36 hour  56.356960  56.362003  56.364002  56.381622   \n1    2024-01-11  energy  40 hour  56.371048  56.376099  56.378548  56.397793   \n2    2024-01-11  energy  44 hour  56.374722  56.379688  56.382347  56.401970   \n3    2024-01-11  energy  60 hour  56.353516  56.358383  56.360477  56.377319   \n4    2024-01-11  energy  64 hour  56.370300  56.375328  56.377796  56.396851   \n5    2024-01-11  energy  68 hour  56.374577  56.379559  56.382202  56.401787   \n\n      q0.975  \n0  56.348495  \n1  56.361744  \n2  56.365242  \n3  56.345455  \n4  56.361088  \n5  56.365124  ",
      "text/html": "<div>\n<style scoped>\n    .dataframe tbody tr th:only-of-type {\n        vertical-align: middle;\n    }\n\n    .dataframe tbody tr th {\n        vertical-align: top;\n    }\n\n    .dataframe thead th {\n        text-align: right;\n    }\n</style>\n<table border=\"1\" class=\"dataframe\">\n  <thead>\n    <tr style=\"text-align: right;\">\n      <th></th>\n      <th>forecast_date</th>\n      <th>target</th>\n      <th>horizon</th>\n      <th>q0.025</th>\n      <th>q0.25</th>\n      <th>q0.5</th>\n      <th>q0.75</th>\n      <th>q0.975</th>\n    </tr>\n  </thead>\n  <tbody>\n    <tr>\n      <th>0</th>\n      <td>2024-01-11</td>\n      <td>energy</td>\n      <td>36 hour</td>\n      <td>56.356960</td>\n      <td>56.362003</td>\n      <td>56.364002</td>\n      <td>56.381622</td>\n      <td>56.348495</td>\n    </tr>\n    <tr>\n      <th>1</th>\n      <td>2024-01-11</td>\n      <td>energy</td>\n      <td>40 hour</td>\n      <td>56.371048</td>\n      <td>56.376099</td>\n      <td>56.378548</td>\n      <td>56.397793</td>\n      <td>56.361744</td>\n    </tr>\n    <tr>\n      <th>2</th>\n      <td>2024-01-11</td>\n      <td>energy</td>\n      <td>44 hour</td>\n      <td>56.374722</td>\n      <td>56.379688</td>\n      <td>56.382347</td>\n      <td>56.401970</td>\n      <td>56.365242</td>\n    </tr>\n    <tr>\n      <th>3</th>\n      <td>2024-01-11</td>\n      <td>energy</td>\n      <td>60 hour</td>\n      <td>56.353516</td>\n      <td>56.358383</td>\n      <td>56.360477</td>\n      <td>56.377319</td>\n      <td>56.345455</td>\n    </tr>\n    <tr>\n      <th>4</th>\n      <td>2024-01-11</td>\n      <td>energy</td>\n      <td>64 hour</td>\n      <td>56.370300</td>\n      <td>56.375328</td>\n      <td>56.377796</td>\n      <td>56.396851</td>\n      <td>56.361088</td>\n    </tr>\n    <tr>\n      <th>5</th>\n      <td>2024-01-11</td>\n      <td>energy</td>\n      <td>68 hour</td>\n      <td>56.374577</td>\n      <td>56.379559</td>\n      <td>56.382202</td>\n      <td>56.401787</td>\n      <td>56.365124</td>\n    </tr>\n  </tbody>\n</table>\n</div>"
     },
     "execution_count": 91,
     "metadata": {},
     "output_type": "execute_result"
    }
   ],
   "source": [
    "final_df"
   ],
   "metadata": {
    "collapsed": false,
    "ExecuteTime": {
     "end_time": "2024-01-05T06:40:23.618418Z",
     "start_time": "2024-01-05T06:40:23.613892Z"
    }
   },
   "id": "ac12c9fe4824aafa"
  },
  {
   "cell_type": "code",
   "execution_count": null,
   "outputs": [],
   "source": [],
   "metadata": {
    "collapsed": false
   },
   "id": "29cbf895b834389b"
  }
 ],
 "metadata": {
  "kernelspec": {
   "display_name": "Python 3",
   "language": "python",
   "name": "python3"
  },
  "language_info": {
   "codemirror_mode": {
    "name": "ipython",
    "version": 2
   },
   "file_extension": ".py",
   "mimetype": "text/x-python",
   "name": "python",
   "nbconvert_exporter": "python",
   "pygments_lexer": "ipython2",
   "version": "2.7.6"
  }
 },
 "nbformat": 4,
 "nbformat_minor": 5
}
