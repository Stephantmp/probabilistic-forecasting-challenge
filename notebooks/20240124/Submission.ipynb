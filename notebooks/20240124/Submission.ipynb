{
 "cells": [
  {
   "cell_type": "code",
   "execution_count": 1,
   "id": "initial_id",
   "metadata": {
    "collapsed": true,
    "ExecuteTime": {
     "end_time": "2024-01-29T13:30:47.231830Z",
     "start_time": "2024-01-29T13:30:25.621297Z"
    }
   },
   "outputs": [],
   "source": [
    "from models.DAX import DAX_quantile_regression, DAX_baseline\n",
    "from models.energy import energy_models\n",
    "from functions import get_energy,get_DAX,merge_submissions,check_submission\n",
    "from functions.prepare_data import split_time\n",
    "from functions.evaluation import evaluate_horizon\n",
    "from tqdm import tqdm\n",
    "from functions import evaluate_dax\n",
    "import numpy as np"
   ]
  },
  {
   "cell_type": "code",
   "execution_count": 2,
   "outputs": [],
   "source": [
    "from functions import naive_ensemble"
   ],
   "metadata": {
    "collapsed": false,
    "ExecuteTime": {
     "end_time": "2024-01-29T13:30:47.234860Z",
     "start_time": "2024-01-29T13:30:47.230973Z"
    }
   },
   "id": "2ce850d6890c7f7e"
  },
  {
   "cell_type": "code",
   "execution_count": 3,
   "outputs": [],
   "source": [
    "daxdata = get_DAX.get()"
   ],
   "metadata": {
    "collapsed": false,
    "ExecuteTime": {
     "end_time": "2024-01-29T13:30:47.785749Z",
     "start_time": "2024-01-29T13:30:47.233969Z"
    }
   },
   "id": "f9e3cc3455a4dedb"
  },
  {
   "cell_type": "code",
   "execution_count": 4,
   "outputs": [],
   "source": [
    "base = DAX_baseline.DAX_baseline(daxdata)"
   ],
   "metadata": {
    "collapsed": false,
    "ExecuteTime": {
     "end_time": "2024-01-29T13:30:47.794898Z",
     "start_time": "2024-01-29T13:30:47.786769Z"
    }
   },
   "id": "ec5c75e7ea26f528"
  },
  {
   "cell_type": "code",
   "execution_count": 6,
   "outputs": [
    {
     "data": {
      "text/plain": "  forecast_date target horizon    q0.025     q0.25      q0.5     q0.75  \\\n0    2024-01-29    DAX   1 day -3.130739 -0.518574  0.070684  0.718274   \n1    2024-01-29    DAX   2 day -4.060268 -0.781543  0.096673  0.987322   \n2    2024-01-29    DAX   5 day -4.877300 -0.880043  0.166567  1.255618   \n3    2024-01-29    DAX   6 day -5.766996 -0.944913  0.212652  1.451519   \n4    2024-01-29    DAX   7 day -6.206620 -1.023275  0.342612  1.594461   \n\n     q0.975  \n0  2.719772  \n1  3.570492  \n2  4.628697  \n3  5.367396  \n4  6.259934  ",
      "text/html": "<div>\n<style scoped>\n    .dataframe tbody tr th:only-of-type {\n        vertical-align: middle;\n    }\n\n    .dataframe tbody tr th {\n        vertical-align: top;\n    }\n\n    .dataframe thead th {\n        text-align: right;\n    }\n</style>\n<table border=\"1\" class=\"dataframe\">\n  <thead>\n    <tr style=\"text-align: right;\">\n      <th></th>\n      <th>forecast_date</th>\n      <th>target</th>\n      <th>horizon</th>\n      <th>q0.025</th>\n      <th>q0.25</th>\n      <th>q0.5</th>\n      <th>q0.75</th>\n      <th>q0.975</th>\n    </tr>\n  </thead>\n  <tbody>\n    <tr>\n      <th>0</th>\n      <td>2024-01-29</td>\n      <td>DAX</td>\n      <td>1 day</td>\n      <td>-3.130739</td>\n      <td>-0.518574</td>\n      <td>0.070684</td>\n      <td>0.718274</td>\n      <td>2.719772</td>\n    </tr>\n    <tr>\n      <th>1</th>\n      <td>2024-01-29</td>\n      <td>DAX</td>\n      <td>2 day</td>\n      <td>-4.060268</td>\n      <td>-0.781543</td>\n      <td>0.096673</td>\n      <td>0.987322</td>\n      <td>3.570492</td>\n    </tr>\n    <tr>\n      <th>2</th>\n      <td>2024-01-29</td>\n      <td>DAX</td>\n      <td>5 day</td>\n      <td>-4.877300</td>\n      <td>-0.880043</td>\n      <td>0.166567</td>\n      <td>1.255618</td>\n      <td>4.628697</td>\n    </tr>\n    <tr>\n      <th>3</th>\n      <td>2024-01-29</td>\n      <td>DAX</td>\n      <td>6 day</td>\n      <td>-5.766996</td>\n      <td>-0.944913</td>\n      <td>0.212652</td>\n      <td>1.451519</td>\n      <td>5.367396</td>\n    </tr>\n    <tr>\n      <th>4</th>\n      <td>2024-01-29</td>\n      <td>DAX</td>\n      <td>7 day</td>\n      <td>-6.206620</td>\n      <td>-1.023275</td>\n      <td>0.342612</td>\n      <td>1.594461</td>\n      <td>6.259934</td>\n    </tr>\n  </tbody>\n</table>\n</div>"
     },
     "execution_count": 6,
     "metadata": {},
     "output_type": "execute_result"
    }
   ],
   "source": [
    "base"
   ],
   "metadata": {
    "collapsed": false,
    "ExecuteTime": {
     "end_time": "2024-01-29T13:30:52.314660Z",
     "start_time": "2024-01-29T13:30:52.299275Z"
    }
   },
   "id": "a8cb24f5fba12ced"
  },
  {
   "cell_type": "code",
   "execution_count": 7,
   "outputs": [],
   "source": [
    "df_dax=base"
   ],
   "metadata": {
    "collapsed": false,
    "ExecuteTime": {
     "end_time": "2024-01-29T13:30:53.502683Z",
     "start_time": "2024-01-29T13:30:53.494505Z"
    }
   },
   "id": "f65a5a521ad3258e"
  },
  {
   "cell_type": "code",
   "execution_count": 8,
   "outputs": [
    {
     "name": "stderr",
     "output_type": "stream",
     "text": [
      "  0%|          | 0/267 [00:00<?, ?it/s]/Users/stephantimpe/PycharmProjects/probabilistic-forecasting-challenge/functions/get_energy.py:28: FutureWarning: The behavior of DataFrame concatenation with empty or all-NA entries is deprecated. In a future version, this will no longer exclude empty or all-NA columns when determining the result dtypes. To retain the old behavior, exclude the relevant entries before the concat operation.\n",
      "  energydata = pd.concat([energydata, pd.DataFrame(rawdata, columns=col_names)])\n",
      "100%|██████████| 267/267 [00:32<00:00,  8.29it/s]\n"
     ]
    }
   ],
   "source": [
    "energydata= get_energy.get()"
   ],
   "metadata": {
    "collapsed": false,
    "ExecuteTime": {
     "end_time": "2024-01-29T13:31:26.729596Z",
     "start_time": "2024-01-29T13:30:54.236978Z"
    }
   },
   "id": "6825a919679471df"
  },
  {
   "cell_type": "code",
   "execution_count": 16,
   "outputs": [
    {
     "ename": "KeyboardInterrupt",
     "evalue": "",
     "output_type": "error",
     "traceback": [
      "\u001B[0;31m---------------------------------------------------------------------------\u001B[0m",
      "\u001B[0;31mKeyboardInterrupt\u001B[0m                         Traceback (most recent call last)",
      "Cell \u001B[0;32mIn[16], line 1\u001B[0m\n\u001B[0;32m----> 1\u001B[0m df_energy\u001B[38;5;241m=\u001B[39m \u001B[43menergy_models\u001B[49m\u001B[38;5;241;43m.\u001B[39;49m\u001B[43menergy_XGBoost\u001B[49m\u001B[43m(\u001B[49m\u001B[43menergydata\u001B[49m\u001B[43m,\u001B[49m\u001B[43mdate_str\u001B[49m\u001B[38;5;241;43m=\u001B[39;49m\u001B[38;5;124;43m'\u001B[39;49m\u001B[38;5;124;43m2024-01-29\u001B[39;49m\u001B[38;5;124;43m'\u001B[39;49m\u001B[43m)\u001B[49m\n",
      "File \u001B[0;32m~/PycharmProjects/probabilistic-forecasting-challenge/models/energy/energy_models.py:495\u001B[0m, in \u001B[0;36menergy_XGBoost\u001B[0;34m(input_data, date_str)\u001B[0m\n\u001B[1;32m    493\u001B[0m \u001B[38;5;28;01mfor\u001B[39;00m q \u001B[38;5;129;01min\u001B[39;00m quantiles:\n\u001B[1;32m    494\u001B[0m     model \u001B[38;5;241m=\u001B[39m xgb\u001B[38;5;241m.\u001B[39mXGBRegressor(objective\u001B[38;5;241m=\u001B[39m\u001B[38;5;28;01mlambda\u001B[39;00m y_true, y_pred: xgb_quantile_grad_hess(q, y_true, y_pred))\n\u001B[0;32m--> 495\u001B[0m     \u001B[43mmodel\u001B[49m\u001B[38;5;241;43m.\u001B[39;49m\u001B[43mfit\u001B[49m\u001B[43m(\u001B[49m\u001B[43mX_scaled\u001B[49m\u001B[43m,\u001B[49m\u001B[43m \u001B[49m\u001B[43my_scaled\u001B[49m\u001B[43m)\u001B[49m\n\u001B[1;32m    496\u001B[0m     models[q] \u001B[38;5;241m=\u001B[39m model\n\u001B[1;32m    498\u001B[0m \u001B[38;5;66;03m# Generate predictions for future timestamps\u001B[39;00m\n",
      "File \u001B[0;32m~/anaconda3/envs/Forecasting_Challenge_2/lib/python3.9/site-packages/xgboost/core.py:620\u001B[0m, in \u001B[0;36mrequire_keyword_args.<locals>.throw_if.<locals>.inner_f\u001B[0;34m(*args, **kwargs)\u001B[0m\n\u001B[1;32m    618\u001B[0m \u001B[38;5;28;01mfor\u001B[39;00m k, arg \u001B[38;5;129;01min\u001B[39;00m \u001B[38;5;28mzip\u001B[39m(sig\u001B[38;5;241m.\u001B[39mparameters, args):\n\u001B[1;32m    619\u001B[0m     kwargs[k] \u001B[38;5;241m=\u001B[39m arg\n\u001B[0;32m--> 620\u001B[0m \u001B[38;5;28;01mreturn\u001B[39;00m \u001B[43mfunc\u001B[49m\u001B[43m(\u001B[49m\u001B[38;5;241;43m*\u001B[39;49m\u001B[38;5;241;43m*\u001B[39;49m\u001B[43mkwargs\u001B[49m\u001B[43m)\u001B[49m\n",
      "File \u001B[0;32m~/anaconda3/envs/Forecasting_Challenge_2/lib/python3.9/site-packages/xgboost/sklearn.py:1025\u001B[0m, in \u001B[0;36mXGBModel.fit\u001B[0;34m(self, X, y, sample_weight, base_margin, eval_set, eval_metric, early_stopping_rounds, verbose, xgb_model, sample_weight_eval_set, base_margin_eval_set, feature_weights, callbacks)\u001B[0m\n\u001B[1;32m   1014\u001B[0m     obj \u001B[38;5;241m=\u001B[39m \u001B[38;5;28;01mNone\u001B[39;00m\n\u001B[1;32m   1016\u001B[0m (\n\u001B[1;32m   1017\u001B[0m     model,\n\u001B[1;32m   1018\u001B[0m     metric,\n\u001B[0;32m   (...)\u001B[0m\n\u001B[1;32m   1023\u001B[0m     xgb_model, eval_metric, params, early_stopping_rounds, callbacks\n\u001B[1;32m   1024\u001B[0m )\n\u001B[0;32m-> 1025\u001B[0m \u001B[38;5;28mself\u001B[39m\u001B[38;5;241m.\u001B[39m_Booster \u001B[38;5;241m=\u001B[39m \u001B[43mtrain\u001B[49m\u001B[43m(\u001B[49m\n\u001B[1;32m   1026\u001B[0m \u001B[43m    \u001B[49m\u001B[43mparams\u001B[49m\u001B[43m,\u001B[49m\n\u001B[1;32m   1027\u001B[0m \u001B[43m    \u001B[49m\u001B[43mtrain_dmatrix\u001B[49m\u001B[43m,\u001B[49m\n\u001B[1;32m   1028\u001B[0m \u001B[43m    \u001B[49m\u001B[38;5;28;43mself\u001B[39;49m\u001B[38;5;241;43m.\u001B[39;49m\u001B[43mget_num_boosting_rounds\u001B[49m\u001B[43m(\u001B[49m\u001B[43m)\u001B[49m\u001B[43m,\u001B[49m\n\u001B[1;32m   1029\u001B[0m \u001B[43m    \u001B[49m\u001B[43mevals\u001B[49m\u001B[38;5;241;43m=\u001B[39;49m\u001B[43mevals\u001B[49m\u001B[43m,\u001B[49m\n\u001B[1;32m   1030\u001B[0m \u001B[43m    \u001B[49m\u001B[43mearly_stopping_rounds\u001B[49m\u001B[38;5;241;43m=\u001B[39;49m\u001B[43mearly_stopping_rounds\u001B[49m\u001B[43m,\u001B[49m\n\u001B[1;32m   1031\u001B[0m \u001B[43m    \u001B[49m\u001B[43mevals_result\u001B[49m\u001B[38;5;241;43m=\u001B[39;49m\u001B[43mevals_result\u001B[49m\u001B[43m,\u001B[49m\n\u001B[1;32m   1032\u001B[0m \u001B[43m    \u001B[49m\u001B[43mobj\u001B[49m\u001B[38;5;241;43m=\u001B[39;49m\u001B[43mobj\u001B[49m\u001B[43m,\u001B[49m\n\u001B[1;32m   1033\u001B[0m \u001B[43m    \u001B[49m\u001B[43mcustom_metric\u001B[49m\u001B[38;5;241;43m=\u001B[39;49m\u001B[43mmetric\u001B[49m\u001B[43m,\u001B[49m\n\u001B[1;32m   1034\u001B[0m \u001B[43m    \u001B[49m\u001B[43mverbose_eval\u001B[49m\u001B[38;5;241;43m=\u001B[39;49m\u001B[43mverbose\u001B[49m\u001B[43m,\u001B[49m\n\u001B[1;32m   1035\u001B[0m \u001B[43m    \u001B[49m\u001B[43mxgb_model\u001B[49m\u001B[38;5;241;43m=\u001B[39;49m\u001B[43mmodel\u001B[49m\u001B[43m,\u001B[49m\n\u001B[1;32m   1036\u001B[0m \u001B[43m    \u001B[49m\u001B[43mcallbacks\u001B[49m\u001B[38;5;241;43m=\u001B[39;49m\u001B[43mcallbacks\u001B[49m\u001B[43m,\u001B[49m\n\u001B[1;32m   1037\u001B[0m \u001B[43m\u001B[49m\u001B[43m)\u001B[49m\n\u001B[1;32m   1039\u001B[0m \u001B[38;5;28mself\u001B[39m\u001B[38;5;241m.\u001B[39m_set_evaluation_result(evals_result)\n\u001B[1;32m   1040\u001B[0m \u001B[38;5;28;01mreturn\u001B[39;00m \u001B[38;5;28mself\u001B[39m\n",
      "File \u001B[0;32m~/anaconda3/envs/Forecasting_Challenge_2/lib/python3.9/site-packages/xgboost/core.py:620\u001B[0m, in \u001B[0;36mrequire_keyword_args.<locals>.throw_if.<locals>.inner_f\u001B[0;34m(*args, **kwargs)\u001B[0m\n\u001B[1;32m    618\u001B[0m \u001B[38;5;28;01mfor\u001B[39;00m k, arg \u001B[38;5;129;01min\u001B[39;00m \u001B[38;5;28mzip\u001B[39m(sig\u001B[38;5;241m.\u001B[39mparameters, args):\n\u001B[1;32m    619\u001B[0m     kwargs[k] \u001B[38;5;241m=\u001B[39m arg\n\u001B[0;32m--> 620\u001B[0m \u001B[38;5;28;01mreturn\u001B[39;00m \u001B[43mfunc\u001B[49m\u001B[43m(\u001B[49m\u001B[38;5;241;43m*\u001B[39;49m\u001B[38;5;241;43m*\u001B[39;49m\u001B[43mkwargs\u001B[49m\u001B[43m)\u001B[49m\n",
      "File \u001B[0;32m~/anaconda3/envs/Forecasting_Challenge_2/lib/python3.9/site-packages/xgboost/training.py:185\u001B[0m, in \u001B[0;36mtrain\u001B[0;34m(params, dtrain, num_boost_round, evals, obj, feval, maximize, early_stopping_rounds, evals_result, verbose_eval, xgb_model, callbacks, custom_metric)\u001B[0m\n\u001B[1;32m    183\u001B[0m \u001B[38;5;28;01mif\u001B[39;00m cb_container\u001B[38;5;241m.\u001B[39mbefore_iteration(bst, i, dtrain, evals):\n\u001B[1;32m    184\u001B[0m     \u001B[38;5;28;01mbreak\u001B[39;00m\n\u001B[0;32m--> 185\u001B[0m \u001B[43mbst\u001B[49m\u001B[38;5;241;43m.\u001B[39;49m\u001B[43mupdate\u001B[49m\u001B[43m(\u001B[49m\u001B[43mdtrain\u001B[49m\u001B[43m,\u001B[49m\u001B[43m \u001B[49m\u001B[43mi\u001B[49m\u001B[43m,\u001B[49m\u001B[43m \u001B[49m\u001B[43mobj\u001B[49m\u001B[43m)\u001B[49m\n\u001B[1;32m    186\u001B[0m \u001B[38;5;28;01mif\u001B[39;00m cb_container\u001B[38;5;241m.\u001B[39mafter_iteration(bst, i, dtrain, evals):\n\u001B[1;32m    187\u001B[0m     \u001B[38;5;28;01mbreak\u001B[39;00m\n",
      "File \u001B[0;32m~/anaconda3/envs/Forecasting_Challenge_2/lib/python3.9/site-packages/xgboost/core.py:1924\u001B[0m, in \u001B[0;36mBooster.update\u001B[0;34m(self, dtrain, iteration, fobj)\u001B[0m\n\u001B[1;32m   1922\u001B[0m pred \u001B[38;5;241m=\u001B[39m \u001B[38;5;28mself\u001B[39m\u001B[38;5;241m.\u001B[39mpredict(dtrain, output_margin\u001B[38;5;241m=\u001B[39m\u001B[38;5;28;01mTrue\u001B[39;00m, training\u001B[38;5;241m=\u001B[39m\u001B[38;5;28;01mTrue\u001B[39;00m)\n\u001B[1;32m   1923\u001B[0m grad, hess \u001B[38;5;241m=\u001B[39m fobj(pred, dtrain)\n\u001B[0;32m-> 1924\u001B[0m \u001B[38;5;28;43mself\u001B[39;49m\u001B[38;5;241;43m.\u001B[39;49m\u001B[43mboost\u001B[49m\u001B[43m(\u001B[49m\u001B[43mdtrain\u001B[49m\u001B[43m,\u001B[49m\u001B[43m \u001B[49m\u001B[43mgrad\u001B[49m\u001B[43m,\u001B[49m\u001B[43m \u001B[49m\u001B[43mhess\u001B[49m\u001B[43m)\u001B[49m\n",
      "File \u001B[0;32m~/anaconda3/envs/Forecasting_Challenge_2/lib/python3.9/site-packages/xgboost/core.py:1950\u001B[0m, in \u001B[0;36mBooster.boost\u001B[0;34m(self, dtrain, grad, hess)\u001B[0m\n\u001B[1;32m   1946\u001B[0m     \u001B[38;5;28;01mraise\u001B[39;00m \u001B[38;5;167;01mTypeError\u001B[39;00m(\u001B[38;5;124mf\u001B[39m\u001B[38;5;124m\"\u001B[39m\u001B[38;5;124minvalid training matrix: \u001B[39m\u001B[38;5;132;01m{\u001B[39;00m\u001B[38;5;28mtype\u001B[39m(dtrain)\u001B[38;5;241m.\u001B[39m\u001B[38;5;18m__name__\u001B[39m\u001B[38;5;132;01m}\u001B[39;00m\u001B[38;5;124m\"\u001B[39m)\n\u001B[1;32m   1947\u001B[0m \u001B[38;5;28mself\u001B[39m\u001B[38;5;241m.\u001B[39m_validate_dmatrix_features(dtrain)\n\u001B[1;32m   1949\u001B[0m _check_call(_LIB\u001B[38;5;241m.\u001B[39mXGBoosterBoostOneIter(\u001B[38;5;28mself\u001B[39m\u001B[38;5;241m.\u001B[39mhandle, dtrain\u001B[38;5;241m.\u001B[39mhandle,\n\u001B[0;32m-> 1950\u001B[0m                                        \u001B[43mc_array\u001B[49m\u001B[43m(\u001B[49m\u001B[43mctypes\u001B[49m\u001B[38;5;241;43m.\u001B[39;49m\u001B[43mc_float\u001B[49m\u001B[43m,\u001B[49m\u001B[43m \u001B[49m\u001B[43mgrad\u001B[49m\u001B[43m)\u001B[49m,\n\u001B[1;32m   1951\u001B[0m                                        c_array(ctypes\u001B[38;5;241m.\u001B[39mc_float, hess),\n\u001B[1;32m   1952\u001B[0m                                        c_bst_ulong(\u001B[38;5;28mlen\u001B[39m(grad))))\n",
      "File \u001B[0;32m~/anaconda3/envs/Forecasting_Challenge_2/lib/python3.9/site-packages/xgboost/core.py:406\u001B[0m, in \u001B[0;36mc_array\u001B[0;34m(ctype, values)\u001B[0m\n\u001B[1;32m    404\u001B[0m \u001B[38;5;28;01mif\u001B[39;00m \u001B[38;5;28misinstance\u001B[39m(values, np\u001B[38;5;241m.\u001B[39mndarray) \u001B[38;5;129;01mand\u001B[39;00m values\u001B[38;5;241m.\u001B[39mdtype\u001B[38;5;241m.\u001B[39mitemsize \u001B[38;5;241m==\u001B[39m ctypes\u001B[38;5;241m.\u001B[39msizeof(ctype):\n\u001B[1;32m    405\u001B[0m     \u001B[38;5;28;01mreturn\u001B[39;00m values\u001B[38;5;241m.\u001B[39mctypes\u001B[38;5;241m.\u001B[39mdata_as(ctypes\u001B[38;5;241m.\u001B[39mPOINTER(ctype))\n\u001B[0;32m--> 406\u001B[0m \u001B[38;5;28;01mreturn\u001B[39;00m \u001B[43m(\u001B[49m\u001B[43mctype\u001B[49m\u001B[43m \u001B[49m\u001B[38;5;241;43m*\u001B[39;49m\u001B[43m \u001B[49m\u001B[38;5;28;43mlen\u001B[39;49m\u001B[43m(\u001B[49m\u001B[43mvalues\u001B[49m\u001B[43m)\u001B[49m\u001B[43m)\u001B[49m\u001B[43m(\u001B[49m\u001B[38;5;241;43m*\u001B[39;49m\u001B[43mvalues\u001B[49m\u001B[43m)\u001B[49m\n",
      "\u001B[0;31mKeyboardInterrupt\u001B[0m: "
     ]
    }
   ],
   "source": [
    "\n",
    "\n",
    "df_energy= energy_models.energy_XGBoost(energydata,date_str='2024-01-29')"
   ],
   "metadata": {
    "collapsed": false,
    "ExecuteTime": {
     "end_time": "2024-01-29T15:40:35.732609Z",
     "start_time": "2024-01-29T15:40:23.935982Z"
    }
   },
   "id": "d1d2a9506ee6ab6c"
  },
  {
   "cell_type": "code",
   "execution_count": null,
   "outputs": [],
   "source": [
    "df_energy"
   ],
   "metadata": {
    "collapsed": false,
    "ExecuteTime": {
     "start_time": "2024-01-29T15:40:35.728990Z"
    }
   },
   "id": "ca504288bd09666b"
  },
  {
   "cell_type": "code",
   "execution_count": null,
   "outputs": [],
   "source": [
    "def reorder_quantiles(df):\n",
    "    quantile_cols = ['q0.025', 'q0.25', 'q0.5', 'q0.75', 'q0.975']\n",
    "    # Sorting quantile values row-wise\n",
    "    df_sorted = df.copy()\n",
    "    for index, row in df.iterrows():\n",
    "        sorted_quantiles = np.sort(row[quantile_cols])\n",
    "        df_sorted.loc[index, quantile_cols] = sorted_quantiles\n",
    "    return df_sorted\n",
    "\n",
    "df_reordered = reorder_quantiles(df_energy)\n",
    "df_reordered"
   ],
   "metadata": {
    "collapsed": false,
    "ExecuteTime": {
     "end_time": "2024-01-29T15:40:35.738546Z",
     "start_time": "2024-01-29T15:40:35.734950Z"
    }
   },
   "id": "bce4ff2ba7452bd7"
  },
  {
   "cell_type": "code",
   "execution_count": null,
   "outputs": [],
   "source": [
    "df = merge_submissions.merge(df_energy,df_dax)"
   ],
   "metadata": {
    "collapsed": false,
    "ExecuteTime": {
     "start_time": "2024-01-29T15:40:35.735229Z"
    }
   },
   "id": "6997de28c0fe949"
  },
  {
   "cell_type": "code",
   "execution_count": null,
   "outputs": [],
   "source": [
    "import pandas as pd"
   ],
   "metadata": {
    "collapsed": false,
    "ExecuteTime": {
     "start_time": "2024-01-29T15:40:35.735434Z"
    }
   },
   "id": "a674edafd02b6168"
  },
  {
   "cell_type": "code",
   "execution_count": null,
   "outputs": [],
   "source": [
    "# ensure forecast_date is in correct format\n",
    "df['forecast_date'] = pd.to_datetime(df['forecast_date'], format='%Y-%m-%d')"
   ],
   "metadata": {
    "collapsed": false,
    "ExecuteTime": {
     "start_time": "2024-01-29T15:40:35.735539Z"
    }
   },
   "id": "da079753fd7a5b8"
  },
  {
   "cell_type": "code",
   "execution_count": null,
   "outputs": [],
   "source": [
    "df"
   ],
   "metadata": {
    "collapsed": false,
    "ExecuteTime": {
     "start_time": "2024-01-29T15:40:35.736043Z"
    }
   },
   "id": "43fcaad03ad71b36"
  },
  {
   "cell_type": "code",
   "execution_count": null,
   "outputs": [],
   "source": [
    "df.to_csv('../../forecasts/20240117_JonSnow.csv',index=False)"
   ],
   "metadata": {
    "collapsed": false,
    "ExecuteTime": {
     "start_time": "2024-01-29T15:40:35.736977Z"
    }
   },
   "id": "efed0bf38425c25b"
  },
  {
   "cell_type": "code",
   "execution_count": null,
   "outputs": [],
   "source": [
    "df"
   ],
   "metadata": {
    "collapsed": false,
    "ExecuteTime": {
     "start_time": "2024-01-17T16:47:26.976079Z"
    }
   },
   "id": "8400a3744c12f88c"
  },
  {
   "cell_type": "code",
   "execution_count": null,
   "outputs": [],
   "source": [
    "from datetime import timedelta, datetime"
   ],
   "metadata": {
    "collapsed": false,
    "ExecuteTime": {
     "end_time": "2024-01-17T16:47:26.993603Z",
     "start_time": "2024-01-17T16:47:26.978662Z"
    }
   },
   "id": "ab316f4afc87c730"
  },
  {
   "cell_type": "code",
   "execution_count": null,
   "outputs": [],
   "source": [
    "date_str='2024-01-17'"
   ],
   "metadata": {
    "collapsed": false,
    "ExecuteTime": {
     "start_time": "2024-01-17T16:47:26.983220Z"
    }
   },
   "id": "46d9d24ff9482bd9"
  },
  {
   "cell_type": "code",
   "execution_count": null,
   "outputs": [],
   "source": [
    "horizons = [36, 40, 44, 60, 64, 68]\n",
    "base_date = datetime.strptime(date_str, '%Y-%m-%d')\n",
    "#add 24 hrs to base date\n",
    "base_date=base_date+timedelta(days=1)\n",
    "future_timestamps = [base_date + timedelta(hours=h) for h in horizons]"
   ],
   "metadata": {
    "collapsed": false,
    "ExecuteTime": {
     "start_time": "2024-01-17T16:47:26.988256Z"
    }
   },
   "id": "c1a8663a12a414ea"
  },
  {
   "cell_type": "code",
   "execution_count": null,
   "outputs": [],
   "source": [
    "future_timestamps"
   ],
   "metadata": {
    "collapsed": false,
    "ExecuteTime": {
     "start_time": "2024-01-17T16:47:26.990496Z"
    }
   },
   "id": "29d91c70e536ea77"
  },
  {
   "cell_type": "code",
   "execution_count": 13,
   "outputs": [
    {
     "name": "stdout",
     "output_type": "stream",
     "text": [
      "Start checking...\n",
      "---------------------------\n",
      "Checking the Columns...\n",
      "Checking type of columns...\n",
      "----WARNING: Some elements in q0.025 column are not numeric. This may be fine if you only submit 2 out of 3 targets.\n",
      "\n",
      "----WARNING: Some elements in q0.25 column are not numeric. This may be fine if you only submit 2 out of 3 targets.\n",
      "\n",
      "----WARNING: Some elements in q0.5 column are not numeric. This may be fine if you only submit 2 out of 3 targets.\n",
      "\n",
      "----WARNING: Some elements in q0.75 column are not numeric. This may be fine if you only submit 2 out of 3 targets.\n",
      "\n",
      "----WARNING: Some elements in q0.975 column are not numeric. This may be fine if you only submit 2 out of 3 targets.\n",
      "\n",
      "Checking if the Dates make sense...\n",
      "forecast_date needs to be the same in all rows.\n",
      "Stopping early...\n"
     ]
    },
    {
     "ename": "SystemExit",
     "evalue": "",
     "output_type": "error",
     "traceback": [
      "An exception has occurred, use %tb to see the full traceback.\n",
      "\u001B[0;31mSystemExit\u001B[0m\n"
     ]
    },
    {
     "name": "stderr",
     "output_type": "stream",
     "text": [
      "/Users/stephantimpe/anaconda3/envs/Forecasting_Challenge_2/lib/python3.9/site-packages/IPython/core/interactiveshell.py:3534: UserWarning: To exit: use 'exit', 'quit', or Ctrl-D.\n",
      "  warn(\"To exit: use 'exit', 'quit', or Ctrl-D.\", stacklevel=1)\n"
     ]
    }
   ],
   "source": [
    "import sys\n",
    "import pandas as pd\n",
    "import numpy as np\n",
    "import warnings\n",
    "from datetime import datetime, date\n",
    "\n",
    "def check_df(df):\n",
    "    EXPECTED_COLS = [\"forecast_date\", \"target\", \"horizon\", \"q0.025\", \"q0.25\",\n",
    "                    \"q0.5\", \"q0.75\", \"q0.975\"]\n",
    "    LEN_EXP_COLS = len(EXPECTED_COLS)\n",
    "\n",
    "    # if exclude_weather == True:\n",
    "    #     print(\"Excluding weather variables!\")\n",
    "    #     TARGETS = [\"DAX\", \"energy\"]\n",
    "    # else:\n",
    "    TARGETS = [\"DAX\", \"energy\"]\n",
    "\n",
    "    TARGET_VALS = dict(DAX = [str(i) + \" day\" for i in (1,2,5,6,7)],\n",
    "                    energy = [str(i) + \" hour\" for i in (36,40,44,60,64,68)],\n",
    "                    infections = [str(i) + \" week\" for i in (0,1,2,3,4)])\n",
    "\n",
    "    TARGET_LEN = dict(DAX = len(TARGET_VALS[\"DAX\"]),\n",
    "                    energy = len(TARGET_VALS[\"energy\"]),\n",
    "                    infections = len(TARGET_VALS[\"infections\"])\n",
    "                    )\n",
    "\n",
    "    TARGET_PLAUS = dict(DAX = [-20, 20],\n",
    "                        energy = [0,250],\n",
    "                        infections = [0,9000])\n",
    "\n",
    "    COLS_QUANTILES = [\"q0.025\", \"q0.25\", \"q0.5\", \"q0.75\", \"q0.975\"]\n",
    "\n",
    "    print(\"Start checking...\")\n",
    "    print(\"---------------------------\")\n",
    "    col_names = df.columns\n",
    "\n",
    "\n",
    "    print(\"Checking the Columns...\")\n",
    "    # Check column length\n",
    "    if len(col_names) != LEN_EXP_COLS:\n",
    "        print(\"Dataset contains \",len(col_names), \"columns. Required are\",LEN_EXP_COLS)\n",
    "        print(\"Stopping early...\")\n",
    "        sys.exit()\n",
    "\n",
    "    if set(col_names) != set(EXPECTED_COLS):\n",
    "        print(\"Dataset does not contain the required columns (or more).\")\n",
    "        missing_cols = set(EXPECTED_COLS) - set(col_names)\n",
    "        print(\"The missing columns are:\", missing_cols)\n",
    "        print(\"Stopping early...\")\n",
    "        sys.exit()\n",
    "\n",
    "    for i,col in enumerate(EXPECTED_COLS):\n",
    "        if col == col_names[i]:\n",
    "            continue\n",
    "        else:\n",
    "            print(\"Columns not in correct order. Order should be:\", EXPECTED_COLS)\n",
    "            print(\"Your order is:\", col_names.values)\n",
    "            print(\"Stopping early...\")\n",
    "            sys.exit()\n",
    "\n",
    "    # Date Col\n",
    "    print(\"Checking type of columns...\")\n",
    "    try:\n",
    "        df[\"forecast_date\"] = pd.to_datetime(df[\"forecast_date\"], format=\"%Y-%m-%d\",\n",
    "                                            errors=\"raise\")\n",
    "    except (pd.errors.ParserError, ValueError):\n",
    "        print(\"Could not parse Date in format YYYY-MM-DD\")\n",
    "        print(\"Stopping early...\")\n",
    "        sys.exit()\n",
    "\n",
    "    try:\n",
    "        df[\"target\"] = df[\"target\"].astype(\"object\", errors=\"raise\")\n",
    "    except ValueError:\n",
    "        print(\"Cannot convert target column to String.\")\n",
    "        print(\"Stopping early...\")\n",
    "        sys.exit()\n",
    "\n",
    "    try:\n",
    "        df[\"horizon\"] = df[\"horizon\"].astype(\"object\", errors=\"raise\")\n",
    "    except ValueError:\n",
    "        print(\"Cannot convert horizon column to String.\")\n",
    "        print(\"Stopping early...\")\n",
    "        sys.exit()\n",
    "\n",
    "    for cq in COLS_QUANTILES:\n",
    "        if pd.to_numeric(df[cq], errors=\"coerce\").isna().any():\n",
    "            print(\"----WARNING: Some elements in\",cq,\"column are not numeric. This may be fine if you only submit 2 out of 3 targets.\")\n",
    "            print(\"\")\n",
    "            # print(\"Stopping early...\")\n",
    "            # sys.exit()\n",
    "\n",
    "    print(\"Checking if the Dates make sense...\")\n",
    "\n",
    "    if len(pd.unique(df[\"forecast_date\"])) > 1:\n",
    "        print(\"forecast_date needs to be the same in all rows.\")\n",
    "        print(\"Stopping early...\")\n",
    "        sys.exit()\n",
    "\n",
    "    if df[\"forecast_date\"][0].date() < datetime.today().date():\n",
    "        print(\"----WARNING: Forecast date should not be in the past.\")\n",
    "        print(\"\")\n",
    "        # warnings.warn(\"Forecast date should not be in the past.\")\n",
    "\n",
    "    if df[\"forecast_date\"][0].weekday() != 2:\n",
    "        print(\"----WARNING: Forecast date should be a Wednesday.\")\n",
    "        print(\"\")\n",
    "        # warnings.warn(\"Forecast date should be a Wednesday\")\n",
    "\n",
    "    print(\"Checking targets...\")\n",
    "\n",
    "    if not df[\"target\"].isin(TARGETS).all():\n",
    "        print(f\"Target column can only contain {TARGETS}. Check spelling.\")\n",
    "        print(\"Stopping early...\")\n",
    "        sys.exit()\n",
    "\n",
    "    for target in TARGETS:\n",
    "\n",
    "        if len(df[df[\"target\"] == target]) != TARGET_LEN[target]:\n",
    "            if target == \"demand\":\n",
    "                print(\"Exactly 6 rows need to have target = \", target)\n",
    "            else:\n",
    "                print(\"Exactly 5 rows need to have target =\", target)\n",
    "            print(\"Stopping early...\")\n",
    "            sys.exit()\n",
    "\n",
    "        if (df[df[\"target\"] == target][\"horizon\"] != TARGET_VALS[target]).any():\n",
    "            print(\"Target\", target, \"horizons need to be (in this order):\", TARGET_VALS[target])\n",
    "            print(\"Stopping early...\")\n",
    "            sys.exit()\n",
    "\n",
    "        if (df[df[\"target\"] == target][COLS_QUANTILES] < TARGET_PLAUS[target][0]).any(axis=None) or \\\n",
    "            (df[df[\"target\"] == target][COLS_QUANTILES] > TARGET_PLAUS[target][1]).any(axis=None):\n",
    "            print(\"----WARNING: Implausible values for\",target,\"detected. You may want to re-check.\")\n",
    "            print(\"\")\n",
    "            # warnings.warn(\"Implausible values for \"+str(target)+\" detected. You may want to re-check them.\")\n",
    "\n",
    "    print(\"Checking quantiles...\")\n",
    "\n",
    "    ALL_NAN_IDX = df[df.isna().any(axis=1)].index\n",
    "    NAN_TARGET_IDX_LIST = []\n",
    "\n",
    "    if len(ALL_NAN_IDX) != 0:\n",
    "        NAN_TARGET = df.iloc[ALL_NAN_IDX[0]][\"target\"]\n",
    "        NAN_TARGET_LENS = dict(DAX = 5,\n",
    "                            energy = 6,\n",
    "                            infections = 5)\n",
    "\n",
    "        NAN_TARGET_IDX_LIST = df[df[\"target\"] == NAN_TARGET].index\n",
    "\n",
    "        print(\"Assume that --\",NAN_TARGET,\"-- is your NaN-target. Please DOUBLECHECK if this is correct.\")\n",
    "\n",
    "        if len(ALL_NAN_IDX) > NAN_TARGET_LENS[NAN_TARGET]:\n",
    "            print(\"Your dataframe contains more NaNs than entries for target\",NAN_TARGET,\".\")\n",
    "            print(\"Stopping early...\")\n",
    "            sys.exit()\n",
    "    else:\n",
    "        print(\"Seems like you submitted all three targets. Good job!\")\n",
    "\n",
    "    for i, row in df.iterrows():\n",
    "        if i in NAN_TARGET_IDX_LIST:  # Skipping rows with 'NA' values\n",
    "            continue\n",
    "    \n",
    "        # Converting 'NA' to numpy.nan for numeric operations\n",
    "        row_quantiles = row[COLS_QUANTILES].replace('NA', np.nan)\n",
    "    \n",
    "        # Check if row contains any NaN values\n",
    "        if row_quantiles.isna().any():\n",
    "            continue  # Skip this row if it contains NaNs\n",
    "    \n",
    "        diffs = row_quantiles.diff()\n",
    "        if diffs[1:].isna().any():\n",
    "            print(\"Something is wrong with your quantiles.\")\n",
    "            print(\"Stopping early...\")\n",
    "            sys.exit()\n",
    "        diffs.iloc[0] = 0  # Correcting the FutureWarning\n",
    "        if (diffs < 0).any():\n",
    "            print(\"Predictive quantiles in row\", i, \"are not ordered correctly (need to be non-decreasing)\")\n",
    "            print(\"Stopping early...\")\n",
    "            sys.exit()\n",
    "\n",
    "    \n",
    "check_df(df)"
   ],
   "metadata": {
    "collapsed": false,
    "ExecuteTime": {
     "end_time": "2024-01-29T15:38:59.103371Z",
     "start_time": "2024-01-29T15:38:59.093946Z"
    }
   },
   "id": "edf25717f17afa86"
  },
  {
   "cell_type": "code",
   "execution_count": null,
   "outputs": [],
   "source": [
    "df"
   ],
   "metadata": {
    "collapsed": false,
    "ExecuteTime": {
     "end_time": "2024-01-17T16:47:26.995616Z",
     "start_time": "2024-01-17T16:47:26.994600Z"
    }
   },
   "id": "8155994327dfda82"
  },
  {
   "cell_type": "code",
   "execution_count": null,
   "outputs": [],
   "source": [],
   "metadata": {
    "collapsed": false,
    "ExecuteTime": {
     "start_time": "2024-01-17T16:47:26.996357Z"
    }
   },
   "id": "c13b36e8ffa9da5d"
  }
 ],
 "metadata": {
  "kernelspec": {
   "display_name": "Python 3",
   "language": "python",
   "name": "python3"
  },
  "language_info": {
   "codemirror_mode": {
    "name": "ipython",
    "version": 2
   },
   "file_extension": ".py",
   "mimetype": "text/x-python",
   "name": "python",
   "nbconvert_exporter": "python",
   "pygments_lexer": "ipython2",
   "version": "2.7.6"
  }
 },
 "nbformat": 4,
 "nbformat_minor": 5
}
