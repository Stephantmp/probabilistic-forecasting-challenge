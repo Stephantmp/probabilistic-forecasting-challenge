{
 "cells": [
  {
   "cell_type": "code",
   "execution_count": 1,
   "id": "initial_id",
   "metadata": {
    "collapsed": true,
    "ExecuteTime": {
     "end_time": "2023-12-06T17:47:38.532152Z",
     "start_time": "2023-12-06T17:47:38.388304Z"
    }
   },
   "outputs": [],
   "source": [
    "from models.DAX import DAX_quantile_regression, DAX_baseline\n",
    "from models.energy import energy_quantile_regression\n",
    "from functions import get_energy,get_DAX,merge_submissions,check_submission\n",
    "from functions.prepare_data import split_time\n",
    "from functions.evaluation import evaluate_horizon\n",
    "from tqdm import tqdm\n",
    "from functions import evaluate_dax"
   ]
  },
  {
   "cell_type": "code",
   "execution_count": 2,
   "outputs": [],
   "source": [
    "from functions import naive_ensemble"
   ],
   "metadata": {
    "collapsed": false,
    "ExecuteTime": {
     "end_time": "2023-12-06T17:47:48.491536Z",
     "start_time": "2023-12-06T17:47:48.480469Z"
    }
   },
   "id": "2ce850d6890c7f7e"
  },
  {
   "cell_type": "code",
   "execution_count": 3,
   "outputs": [],
   "source": [
    "daxdata = get_DAX.get()"
   ],
   "metadata": {
    "collapsed": false,
    "ExecuteTime": {
     "end_time": "2023-12-06T17:47:49.351139Z",
     "start_time": "2023-12-06T17:47:48.933002Z"
    }
   },
   "id": "f9e3cc3455a4dedb"
  },
  {
   "cell_type": "code",
   "execution_count": 4,
   "outputs": [],
   "source": [
    "base = DAX_baseline.DAX_baseline(daxdata)"
   ],
   "metadata": {
    "collapsed": false,
    "ExecuteTime": {
     "end_time": "2023-12-06T17:47:49.362016Z",
     "start_time": "2023-12-06T17:47:49.354986Z"
    }
   },
   "id": "ec5c75e7ea26f528"
  },
  {
   "cell_type": "code",
   "execution_count": 5,
   "outputs": [
    {
     "data": {
      "text/plain": "  forecast_date target horizon    q0.025     q0.25      q0.5     q0.75  \\\n0    2023-12-06    DAX   1 day -3.321265 -0.543724  0.068631  0.720873   \n1    2023-12-06    DAX   2 day -4.087895 -0.810658  0.089476  1.005073   \n2    2023-12-06    DAX   5 day -5.259161 -0.902933  0.168228  1.255618   \n3    2023-12-06    DAX   6 day -6.282629 -1.030577  0.216215  1.463006   \n4    2023-12-06    DAX   7 day -6.735742 -1.085268  0.345778  1.622943   \n\n     q0.975  \n0  2.719772  \n1  3.570492  \n2  4.628697  \n3  5.367396  \n4  6.259934  ",
      "text/html": "<div>\n<style scoped>\n    .dataframe tbody tr th:only-of-type {\n        vertical-align: middle;\n    }\n\n    .dataframe tbody tr th {\n        vertical-align: top;\n    }\n\n    .dataframe thead th {\n        text-align: right;\n    }\n</style>\n<table border=\"1\" class=\"dataframe\">\n  <thead>\n    <tr style=\"text-align: right;\">\n      <th></th>\n      <th>forecast_date</th>\n      <th>target</th>\n      <th>horizon</th>\n      <th>q0.025</th>\n      <th>q0.25</th>\n      <th>q0.5</th>\n      <th>q0.75</th>\n      <th>q0.975</th>\n    </tr>\n  </thead>\n  <tbody>\n    <tr>\n      <th>0</th>\n      <td>2023-12-06</td>\n      <td>DAX</td>\n      <td>1 day</td>\n      <td>-3.321265</td>\n      <td>-0.543724</td>\n      <td>0.068631</td>\n      <td>0.720873</td>\n      <td>2.719772</td>\n    </tr>\n    <tr>\n      <th>1</th>\n      <td>2023-12-06</td>\n      <td>DAX</td>\n      <td>2 day</td>\n      <td>-4.087895</td>\n      <td>-0.810658</td>\n      <td>0.089476</td>\n      <td>1.005073</td>\n      <td>3.570492</td>\n    </tr>\n    <tr>\n      <th>2</th>\n      <td>2023-12-06</td>\n      <td>DAX</td>\n      <td>5 day</td>\n      <td>-5.259161</td>\n      <td>-0.902933</td>\n      <td>0.168228</td>\n      <td>1.255618</td>\n      <td>4.628697</td>\n    </tr>\n    <tr>\n      <th>3</th>\n      <td>2023-12-06</td>\n      <td>DAX</td>\n      <td>6 day</td>\n      <td>-6.282629</td>\n      <td>-1.030577</td>\n      <td>0.216215</td>\n      <td>1.463006</td>\n      <td>5.367396</td>\n    </tr>\n    <tr>\n      <th>4</th>\n      <td>2023-12-06</td>\n      <td>DAX</td>\n      <td>7 day</td>\n      <td>-6.735742</td>\n      <td>-1.085268</td>\n      <td>0.345778</td>\n      <td>1.622943</td>\n      <td>6.259934</td>\n    </tr>\n  </tbody>\n</table>\n</div>"
     },
     "execution_count": 5,
     "metadata": {},
     "output_type": "execute_result"
    }
   ],
   "source": [
    "base"
   ],
   "metadata": {
    "collapsed": false,
    "ExecuteTime": {
     "end_time": "2023-12-06T17:47:49.789255Z",
     "start_time": "2023-12-06T17:47:49.768052Z"
    }
   },
   "id": "a8cb24f5fba12ced"
  },
  {
   "cell_type": "code",
   "execution_count": 6,
   "outputs": [],
   "source": [
    "quantile = DAX_quantile_regression.DAX_quantile_regression(daxdata)"
   ],
   "metadata": {
    "collapsed": false,
    "ExecuteTime": {
     "end_time": "2023-12-06T17:47:57.733175Z",
     "start_time": "2023-12-06T17:47:50.669445Z"
    }
   },
   "id": "f850f96936fc0107"
  },
  {
   "cell_type": "code",
   "execution_count": 7,
   "outputs": [],
   "source": [
    "df_dax=naive_ensemble.ensemble(base,quantile,0.5,0.5)"
   ],
   "metadata": {
    "collapsed": false,
    "ExecuteTime": {
     "end_time": "2023-12-06T17:47:57.847938Z",
     "start_time": "2023-12-06T17:47:57.780174Z"
    }
   },
   "id": "f65a5a521ad3258e"
  },
  {
   "cell_type": "code",
   "execution_count": 8,
   "outputs": [
    {
     "name": "stderr",
     "output_type": "stream",
     "text": [
      "  0%|          | 0/259 [00:00<?, ?it/s]/Users/stephantimpe/PycharmProjects/probabilistic-forecasting-challenge/functions/get_energy.py:28: FutureWarning: The behavior of DataFrame concatenation with empty or all-NA entries is deprecated. In a future version, this will no longer exclude empty or all-NA columns when determining the result dtypes. To retain the old behavior, exclude the relevant entries before the concat operation.\n",
      "  energydata = pd.concat([energydata, pd.DataFrame(rawdata, columns=col_names)])\n",
      "100%|██████████| 259/259 [00:24<00:00, 10.52it/s]\n"
     ]
    }
   ],
   "source": [
    "energydata= get_energy.get()"
   ],
   "metadata": {
    "collapsed": false,
    "ExecuteTime": {
     "end_time": "2023-12-06T17:48:22.735175Z",
     "start_time": "2023-12-06T17:47:57.849785Z"
    }
   },
   "id": "6825a919679471df"
  },
  {
   "cell_type": "code",
   "execution_count": 9,
   "outputs": [
    {
     "name": "stdout",
     "output_type": "stream",
     "text": [
      "                         QuantReg Regression Results                          \n",
      "==============================================================================\n",
      "Dep. Variable:                 gesamt   Pseudo R-squared:               0.5066\n",
      "Model:                       QuantReg   Bandwidth:                      0.6983\n",
      "Method:                 Least Squares   Sparsity:                        12.00\n",
      "Date:                Wed, 06 Dec 2023   No. Observations:                43410\n",
      "Time:                        18:48:55   Df Residuals:                    43374\n",
      "                                        Df Model:                           35\n",
      "==============================================================================\n",
      "                 coef    std err          t      P>|t|      [0.025      0.975]\n",
      "------------------------------------------------------------------------------\n",
      "const         58.8099      0.175    336.092      0.000      58.467      59.153\n",
      "weekday       -1.8489      0.014   -128.458      0.000      -1.877      -1.821\n",
      "month_2        0.4322      0.142      3.033      0.002       0.153       0.711\n",
      "month_3       -3.2419      0.139    -23.310      0.000      -3.514      -2.969\n",
      "month_4       -7.4088      0.140    -52.833      0.000      -7.684      -7.134\n",
      "month_5       -8.9099      0.139    -64.064      0.000      -9.182      -8.637\n",
      "month_6       -9.1458      0.140    -65.219      0.000      -9.421      -8.871\n",
      "month_7       -8.8170      0.139    -63.397      0.000      -9.090      -8.544\n",
      "month_8       -9.9930      0.139    -71.851      0.000     -10.266      -9.720\n",
      "month_9       -8.2743      0.140    -59.004      0.000      -8.549      -7.999\n",
      "month_10      -5.7446      0.139    -41.305      0.000      -6.017      -5.472\n",
      "month_11      -2.6815      0.140    -19.122      0.000      -2.956      -2.407\n",
      "month_12      -3.2734      0.143    -22.832      0.000      -3.554      -2.992\n",
      "hour_1        -1.7812      0.199     -8.931      0.000      -2.172      -1.390\n",
      "hour_2        -2.7253      0.199    -13.665      0.000      -3.116      -2.334\n",
      "hour_3        -2.6899      0.199    -13.487      0.000      -3.081      -2.299\n",
      "hour_4        -1.8869      0.199     -9.461      0.000      -2.278      -1.496\n",
      "hour_5        -0.0022      0.199     -0.011      0.991      -0.393       0.389\n",
      "hour_6         5.0171      0.199     25.156      0.000       4.626       5.408\n",
      "hour_7        10.1349      0.199     50.818      0.000       9.744      10.526\n",
      "hour_8        13.0889      0.199     65.629      0.000      12.698      13.480\n",
      "hour_9        14.1102      0.199     70.750      0.000      13.719      14.501\n",
      "hour_10       15.0931      0.199     75.678      0.000      14.702      15.484\n",
      "hour_11       16.0204      0.199     80.328      0.000      15.630      16.411\n",
      "hour_12       15.6381      0.199     78.411      0.000      15.247      16.029\n",
      "hour_13       14.4347      0.199     72.377      0.000      14.044      14.826\n",
      "hour_14       13.1924      0.199     66.148      0.000      12.801      13.583\n",
      "hour_15       12.2724      0.199     61.535      0.000      11.882      12.663\n",
      "hour_16       11.6243      0.199     58.286      0.000      11.233      12.015\n",
      "hour_17       12.6225      0.199     63.291      0.000      12.232      13.013\n",
      "hour_18       13.2246      0.199     66.300      0.000      12.834      13.616\n",
      "hour_19       12.6702      0.199     63.521      0.000      12.279      13.061\n",
      "hour_20       10.2787      0.199     51.531      0.000       9.888      10.670\n",
      "hour_21        7.9652      0.199     39.933      0.000       7.574       8.356\n",
      "hour_22        5.4974      0.199     27.561      0.000       5.106       5.888\n",
      "hour_23        2.1244      0.199     10.651      0.000       1.733       2.515\n",
      "==============================================================================\n"
     ]
    }
   ],
   "source": [
    "df_energy= energy_quantile_regression.energy_quantile_regression(energydata)"
   ],
   "metadata": {
    "collapsed": false,
    "ExecuteTime": {
     "end_time": "2023-12-06T17:48:55.931465Z",
     "start_time": "2023-12-06T17:48:22.733478Z"
    }
   },
   "id": "d1d2a9506ee6ab6c"
  },
  {
   "cell_type": "code",
   "execution_count": 10,
   "outputs": [
    {
     "data": {
      "text/plain": "  forecast_date  target  horizon     q0.025      q0.25       q0.5      q0.75  \\\n0    2023-12-06  energy  36 hour  40.575502  49.126388  53.263309   55.99243   \n1    2023-12-06  energy  40 hour  51.499501  61.816033  65.885809  70.393036   \n2    2023-12-06  energy  44 hour   49.89575   58.13472  61.228503  64.170857   \n3    2023-12-06  energy  60 hour  39.581752  47.257165  51.414434  54.563751   \n4    2023-12-06  energy  64 hour  50.505752  59.946811  64.036934  68.964357   \n5    2023-12-06  energy  68 hour     48.902  56.265498  59.379629  62.742178   \n\n      q0.975  \n0  58.493251  \n1  75.110502  \n2   67.52575  \n3  57.740751  \n4  74.358002  \n5  66.773251  ",
      "text/html": "<div>\n<style scoped>\n    .dataframe tbody tr th:only-of-type {\n        vertical-align: middle;\n    }\n\n    .dataframe tbody tr th {\n        vertical-align: top;\n    }\n\n    .dataframe thead th {\n        text-align: right;\n    }\n</style>\n<table border=\"1\" class=\"dataframe\">\n  <thead>\n    <tr style=\"text-align: right;\">\n      <th></th>\n      <th>forecast_date</th>\n      <th>target</th>\n      <th>horizon</th>\n      <th>q0.025</th>\n      <th>q0.25</th>\n      <th>q0.5</th>\n      <th>q0.75</th>\n      <th>q0.975</th>\n    </tr>\n  </thead>\n  <tbody>\n    <tr>\n      <th>0</th>\n      <td>2023-12-06</td>\n      <td>energy</td>\n      <td>36 hour</td>\n      <td>40.575502</td>\n      <td>49.126388</td>\n      <td>53.263309</td>\n      <td>55.99243</td>\n      <td>58.493251</td>\n    </tr>\n    <tr>\n      <th>1</th>\n      <td>2023-12-06</td>\n      <td>energy</td>\n      <td>40 hour</td>\n      <td>51.499501</td>\n      <td>61.816033</td>\n      <td>65.885809</td>\n      <td>70.393036</td>\n      <td>75.110502</td>\n    </tr>\n    <tr>\n      <th>2</th>\n      <td>2023-12-06</td>\n      <td>energy</td>\n      <td>44 hour</td>\n      <td>49.89575</td>\n      <td>58.13472</td>\n      <td>61.228503</td>\n      <td>64.170857</td>\n      <td>67.52575</td>\n    </tr>\n    <tr>\n      <th>3</th>\n      <td>2023-12-06</td>\n      <td>energy</td>\n      <td>60 hour</td>\n      <td>39.581752</td>\n      <td>47.257165</td>\n      <td>51.414434</td>\n      <td>54.563751</td>\n      <td>57.740751</td>\n    </tr>\n    <tr>\n      <th>4</th>\n      <td>2023-12-06</td>\n      <td>energy</td>\n      <td>64 hour</td>\n      <td>50.505752</td>\n      <td>59.946811</td>\n      <td>64.036934</td>\n      <td>68.964357</td>\n      <td>74.358002</td>\n    </tr>\n    <tr>\n      <th>5</th>\n      <td>2023-12-06</td>\n      <td>energy</td>\n      <td>68 hour</td>\n      <td>48.902</td>\n      <td>56.265498</td>\n      <td>59.379629</td>\n      <td>62.742178</td>\n      <td>66.773251</td>\n    </tr>\n  </tbody>\n</table>\n</div>"
     },
     "execution_count": 10,
     "metadata": {},
     "output_type": "execute_result"
    }
   ],
   "source": [
    "df_energy"
   ],
   "metadata": {
    "collapsed": false,
    "ExecuteTime": {
     "end_time": "2023-12-06T17:48:55.952860Z",
     "start_time": "2023-12-06T17:48:55.929768Z"
    }
   },
   "id": "ca504288bd09666b"
  },
  {
   "cell_type": "code",
   "execution_count": 11,
   "outputs": [
    {
     "name": "stdout",
     "output_type": "stream",
     "text": [
      "  forecast_date      target  horizon     q0.025      q0.25       q0.5  \\\n",
      "0    2023-12-06         DAX    1 day  -2.539275  -0.462852   0.018132   \n",
      "1    2023-12-06         DAX    2 day  -2.328216   0.089148   0.769479   \n",
      "2    2023-12-06         DAX    5 day  -2.962264    0.05872   0.824047   \n",
      "3    2023-12-06         DAX    6 day  -2.517412   0.974501    1.88674   \n",
      "4    2023-12-06         DAX    7 day   -2.43148   1.231418    2.21392   \n",
      "0    2023-12-06      energy  36 hour  40.575502  49.126388  53.263309   \n",
      "1    2023-12-06      energy  40 hour  51.499501  61.816033  65.885809   \n",
      "2    2023-12-06      energy  44 hour   49.89575   58.13472  61.228503   \n",
      "3    2023-12-06      energy  60 hour  39.581752  47.257165  51.414434   \n",
      "4    2023-12-06      energy  64 hour  50.505752  59.946811  64.036934   \n",
      "5    2023-12-06      energy  68 hour     48.902  56.265498  59.379629   \n",
      "0    2023-12-06  infections   0 week         NA         NA         NA   \n",
      "1    2023-12-06  infections   1 week         NA         NA         NA   \n",
      "2    2023-12-06  infections   2 week         NA         NA         NA   \n",
      "3    2023-12-06  infections   3 week         NA         NA         NA   \n",
      "4    2023-12-06  infections   4 week         NA         NA         NA   \n",
      "\n",
      "       q0.75     q0.975  \n",
      "0    0.53492   2.052158  \n",
      "1   1.388008   3.342556  \n",
      "2   1.514521   3.809965  \n",
      "3   2.663449   5.192591  \n",
      "4   2.981908   5.955982  \n",
      "0   55.99243  58.493251  \n",
      "1  70.393036  75.110502  \n",
      "2  64.170857   67.52575  \n",
      "3  54.563751  57.740751  \n",
      "4  68.964357  74.358002  \n",
      "5  62.742178  66.773251  \n",
      "0         NA         NA  \n",
      "1         NA         NA  \n",
      "2         NA         NA  \n",
      "3         NA         NA  \n",
      "4         NA         NA  \n"
     ]
    }
   ],
   "source": [
    "df = merge_submissions.merge(df_energy,df_dax)"
   ],
   "metadata": {
    "collapsed": false,
    "ExecuteTime": {
     "end_time": "2023-12-06T17:48:56.038593Z",
     "start_time": "2023-12-06T17:48:55.952191Z"
    }
   },
   "id": "6997de28c0fe949"
  },
  {
   "cell_type": "code",
   "execution_count": 13,
   "outputs": [],
   "source": [
    "df.to_csv('../../forecasts/20231206_JonSnow.csv',index=False)"
   ],
   "metadata": {
    "collapsed": false,
    "ExecuteTime": {
     "end_time": "2023-12-06T17:49:12.081184Z",
     "start_time": "2023-12-06T17:49:12.074130Z"
    }
   },
   "id": "efed0bf38425c25b"
  },
  {
   "cell_type": "code",
   "execution_count": 17,
   "outputs": [
    {
     "data": {
      "text/plain": "  forecast_date      target  horizon     q0.025      q0.25       q0.5  \\\n0    2023-12-06         DAX    1 day  -2.539275  -0.462852   0.018132   \n1    2023-12-06         DAX    2 day  -2.328216   0.089148   0.769479   \n2    2023-12-06         DAX    5 day  -2.962264    0.05872   0.824047   \n3    2023-12-06         DAX    6 day  -2.517412   0.974501    1.88674   \n4    2023-12-06         DAX    7 day   -2.43148   1.231418    2.21392   \n0    2023-12-06      energy  36 hour  40.575502  49.126388  53.263309   \n1    2023-12-06      energy  40 hour  51.499501  61.816033  65.885809   \n2    2023-12-06      energy  44 hour   49.89575   58.13472  61.228503   \n3    2023-12-06      energy  60 hour  39.581752  47.257165  51.414434   \n4    2023-12-06      energy  64 hour  50.505752  59.946811  64.036934   \n5    2023-12-06      energy  68 hour     48.902  56.265498  59.379629   \n0    2023-12-06  infections   0 week         NA         NA         NA   \n1    2023-12-06  infections   1 week         NA         NA         NA   \n2    2023-12-06  infections   2 week         NA         NA         NA   \n3    2023-12-06  infections   3 week         NA         NA         NA   \n4    2023-12-06  infections   4 week         NA         NA         NA   \n\n       q0.75     q0.975  \n0    0.53492   2.052158  \n1   1.388008   3.342556  \n2   1.514521   3.809965  \n3   2.663449   5.192591  \n4   2.981908   5.955982  \n0   55.99243  58.493251  \n1  70.393036  75.110502  \n2  64.170857   67.52575  \n3  54.563751  57.740751  \n4  68.964357  74.358002  \n5  62.742178  66.773251  \n0         NA         NA  \n1         NA         NA  \n2         NA         NA  \n3         NA         NA  \n4         NA         NA  ",
      "text/html": "<div>\n<style scoped>\n    .dataframe tbody tr th:only-of-type {\n        vertical-align: middle;\n    }\n\n    .dataframe tbody tr th {\n        vertical-align: top;\n    }\n\n    .dataframe thead th {\n        text-align: right;\n    }\n</style>\n<table border=\"1\" class=\"dataframe\">\n  <thead>\n    <tr style=\"text-align: right;\">\n      <th></th>\n      <th>forecast_date</th>\n      <th>target</th>\n      <th>horizon</th>\n      <th>q0.025</th>\n      <th>q0.25</th>\n      <th>q0.5</th>\n      <th>q0.75</th>\n      <th>q0.975</th>\n    </tr>\n  </thead>\n  <tbody>\n    <tr>\n      <th>0</th>\n      <td>2023-12-06</td>\n      <td>DAX</td>\n      <td>1 day</td>\n      <td>-2.539275</td>\n      <td>-0.462852</td>\n      <td>0.018132</td>\n      <td>0.53492</td>\n      <td>2.052158</td>\n    </tr>\n    <tr>\n      <th>1</th>\n      <td>2023-12-06</td>\n      <td>DAX</td>\n      <td>2 day</td>\n      <td>-2.328216</td>\n      <td>0.089148</td>\n      <td>0.769479</td>\n      <td>1.388008</td>\n      <td>3.342556</td>\n    </tr>\n    <tr>\n      <th>2</th>\n      <td>2023-12-06</td>\n      <td>DAX</td>\n      <td>5 day</td>\n      <td>-2.962264</td>\n      <td>0.05872</td>\n      <td>0.824047</td>\n      <td>1.514521</td>\n      <td>3.809965</td>\n    </tr>\n    <tr>\n      <th>3</th>\n      <td>2023-12-06</td>\n      <td>DAX</td>\n      <td>6 day</td>\n      <td>-2.517412</td>\n      <td>0.974501</td>\n      <td>1.88674</td>\n      <td>2.663449</td>\n      <td>5.192591</td>\n    </tr>\n    <tr>\n      <th>4</th>\n      <td>2023-12-06</td>\n      <td>DAX</td>\n      <td>7 day</td>\n      <td>-2.43148</td>\n      <td>1.231418</td>\n      <td>2.21392</td>\n      <td>2.981908</td>\n      <td>5.955982</td>\n    </tr>\n    <tr>\n      <th>0</th>\n      <td>2023-12-06</td>\n      <td>energy</td>\n      <td>36 hour</td>\n      <td>40.575502</td>\n      <td>49.126388</td>\n      <td>53.263309</td>\n      <td>55.99243</td>\n      <td>58.493251</td>\n    </tr>\n    <tr>\n      <th>1</th>\n      <td>2023-12-06</td>\n      <td>energy</td>\n      <td>40 hour</td>\n      <td>51.499501</td>\n      <td>61.816033</td>\n      <td>65.885809</td>\n      <td>70.393036</td>\n      <td>75.110502</td>\n    </tr>\n    <tr>\n      <th>2</th>\n      <td>2023-12-06</td>\n      <td>energy</td>\n      <td>44 hour</td>\n      <td>49.89575</td>\n      <td>58.13472</td>\n      <td>61.228503</td>\n      <td>64.170857</td>\n      <td>67.52575</td>\n    </tr>\n    <tr>\n      <th>3</th>\n      <td>2023-12-06</td>\n      <td>energy</td>\n      <td>60 hour</td>\n      <td>39.581752</td>\n      <td>47.257165</td>\n      <td>51.414434</td>\n      <td>54.563751</td>\n      <td>57.740751</td>\n    </tr>\n    <tr>\n      <th>4</th>\n      <td>2023-12-06</td>\n      <td>energy</td>\n      <td>64 hour</td>\n      <td>50.505752</td>\n      <td>59.946811</td>\n      <td>64.036934</td>\n      <td>68.964357</td>\n      <td>74.358002</td>\n    </tr>\n    <tr>\n      <th>5</th>\n      <td>2023-12-06</td>\n      <td>energy</td>\n      <td>68 hour</td>\n      <td>48.902</td>\n      <td>56.265498</td>\n      <td>59.379629</td>\n      <td>62.742178</td>\n      <td>66.773251</td>\n    </tr>\n    <tr>\n      <th>0</th>\n      <td>2023-12-06</td>\n      <td>infections</td>\n      <td>0 week</td>\n      <td>NA</td>\n      <td>NA</td>\n      <td>NA</td>\n      <td>NA</td>\n      <td>NA</td>\n    </tr>\n    <tr>\n      <th>1</th>\n      <td>2023-12-06</td>\n      <td>infections</td>\n      <td>1 week</td>\n      <td>NA</td>\n      <td>NA</td>\n      <td>NA</td>\n      <td>NA</td>\n      <td>NA</td>\n    </tr>\n    <tr>\n      <th>2</th>\n      <td>2023-12-06</td>\n      <td>infections</td>\n      <td>2 week</td>\n      <td>NA</td>\n      <td>NA</td>\n      <td>NA</td>\n      <td>NA</td>\n      <td>NA</td>\n    </tr>\n    <tr>\n      <th>3</th>\n      <td>2023-12-06</td>\n      <td>infections</td>\n      <td>3 week</td>\n      <td>NA</td>\n      <td>NA</td>\n      <td>NA</td>\n      <td>NA</td>\n      <td>NA</td>\n    </tr>\n    <tr>\n      <th>4</th>\n      <td>2023-12-06</td>\n      <td>infections</td>\n      <td>4 week</td>\n      <td>NA</td>\n      <td>NA</td>\n      <td>NA</td>\n      <td>NA</td>\n      <td>NA</td>\n    </tr>\n  </tbody>\n</table>\n</div>"
     },
     "execution_count": 17,
     "metadata": {},
     "output_type": "execute_result"
    }
   ],
   "source": [
    "df"
   ],
   "metadata": {
    "collapsed": false,
    "ExecuteTime": {
     "end_time": "2023-12-06T18:01:49.314037Z",
     "start_time": "2023-12-06T18:01:49.299336Z"
    }
   },
   "id": "8400a3744c12f88c"
  },
  {
   "cell_type": "code",
   "execution_count": 14,
   "outputs": [],
   "source": [
    "from functions import check_submission"
   ],
   "metadata": {
    "collapsed": false,
    "ExecuteTime": {
     "end_time": "2023-12-06T17:49:20.708450Z",
     "start_time": "2023-12-06T17:49:20.701734Z"
    }
   },
   "id": "29d91c70e536ea77"
  },
  {
   "cell_type": "code",
   "execution_count": 16,
   "outputs": [
    {
     "name": "stdout",
     "output_type": "stream",
     "text": [
      "Start checking...\n",
      "---------------------------\n",
      "Checking the Columns...\n",
      "Checking type of columns...\n",
      "----WARNING: Some elements in q0.025 column are not numeric. This may be fine if you only submit 2 out of 3 targets.\n",
      "\n",
      "----WARNING: Some elements in q0.25 column are not numeric. This may be fine if you only submit 2 out of 3 targets.\n",
      "\n",
      "----WARNING: Some elements in q0.5 column are not numeric. This may be fine if you only submit 2 out of 3 targets.\n",
      "\n",
      "----WARNING: Some elements in q0.75 column are not numeric. This may be fine if you only submit 2 out of 3 targets.\n",
      "\n",
      "----WARNING: Some elements in q0.975 column are not numeric. This may be fine if you only submit 2 out of 3 targets.\n",
      "\n",
      "Checking if the Dates make sense...\n"
     ]
    },
    {
     "ename": "AttributeError",
     "evalue": "'Series' object has no attribute 'date'",
     "output_type": "error",
     "traceback": [
      "\u001B[0;31m---------------------------------------------------------------------------\u001B[0m",
      "\u001B[0;31mAttributeError\u001B[0m                            Traceback (most recent call last)",
      "\u001B[0;32m/var/folders/y3/h1kjcg6j0wj3crmk4m1ff0380000gn/T/ipykernel_61547/793768604.py\u001B[0m in \u001B[0;36m?\u001B[0;34m()\u001B[0m\n\u001B[0;32m--> 177\u001B[0;31m \u001B[0;32mimport\u001B[0m \u001B[0msys\u001B[0m\u001B[0;34m\u001B[0m\u001B[0;34m\u001B[0m\u001B[0m\n\u001B[0m\u001B[1;32m    178\u001B[0m \u001B[0;32mimport\u001B[0m \u001B[0mpandas\u001B[0m \u001B[0;32mas\u001B[0m \u001B[0mpd\u001B[0m\u001B[0;34m\u001B[0m\u001B[0;34m\u001B[0m\u001B[0m\n\u001B[1;32m    179\u001B[0m \u001B[0;32mimport\u001B[0m \u001B[0mnumpy\u001B[0m \u001B[0;32mas\u001B[0m \u001B[0mnp\u001B[0m\u001B[0;34m\u001B[0m\u001B[0;34m\u001B[0m\u001B[0m\n\u001B[1;32m    180\u001B[0m \u001B[0;32mimport\u001B[0m \u001B[0mwarnings\u001B[0m\u001B[0;34m\u001B[0m\u001B[0;34m\u001B[0m\u001B[0m\n",
      "\u001B[0;32m/var/folders/y3/h1kjcg6j0wj3crmk4m1ff0380000gn/T/ipykernel_61547/793768604.py\u001B[0m in \u001B[0;36m?\u001B[0;34m(df)\u001B[0m\n\u001B[1;32m     95\u001B[0m         \u001B[0mprint\u001B[0m\u001B[0;34m(\u001B[0m\u001B[0;34m\"forecast_date needs to be the same in all rows.\"\u001B[0m\u001B[0;34m)\u001B[0m\u001B[0;34m\u001B[0m\u001B[0;34m\u001B[0m\u001B[0m\n\u001B[1;32m     96\u001B[0m         \u001B[0mprint\u001B[0m\u001B[0;34m(\u001B[0m\u001B[0;34m\"Stopping early...\"\u001B[0m\u001B[0;34m)\u001B[0m\u001B[0;34m\u001B[0m\u001B[0;34m\u001B[0m\u001B[0m\n\u001B[1;32m     97\u001B[0m         \u001B[0msys\u001B[0m\u001B[0;34m.\u001B[0m\u001B[0mexit\u001B[0m\u001B[0;34m(\u001B[0m\u001B[0;34m)\u001B[0m\u001B[0;34m\u001B[0m\u001B[0;34m\u001B[0m\u001B[0m\n\u001B[1;32m     98\u001B[0m \u001B[0;34m\u001B[0m\u001B[0m\n\u001B[0;32m---> 99\u001B[0;31m     \u001B[0;32mif\u001B[0m \u001B[0mdf\u001B[0m\u001B[0;34m[\u001B[0m\u001B[0;34m\"forecast_date\"\u001B[0m\u001B[0;34m]\u001B[0m\u001B[0;34m[\u001B[0m\u001B[0;36m0\u001B[0m\u001B[0;34m]\u001B[0m\u001B[0;34m.\u001B[0m\u001B[0mdate\u001B[0m\u001B[0;34m(\u001B[0m\u001B[0;34m)\u001B[0m \u001B[0;34m<\u001B[0m \u001B[0mdatetime\u001B[0m\u001B[0;34m.\u001B[0m\u001B[0mtoday\u001B[0m\u001B[0;34m(\u001B[0m\u001B[0;34m)\u001B[0m\u001B[0;34m.\u001B[0m\u001B[0mdate\u001B[0m\u001B[0;34m(\u001B[0m\u001B[0;34m)\u001B[0m\u001B[0;34m:\u001B[0m\u001B[0;34m\u001B[0m\u001B[0;34m\u001B[0m\u001B[0m\n\u001B[0m\u001B[1;32m    100\u001B[0m         \u001B[0mprint\u001B[0m\u001B[0;34m(\u001B[0m\u001B[0;34m\"----WARNING: Forecast date should not be in the past.\"\u001B[0m\u001B[0;34m)\u001B[0m\u001B[0;34m\u001B[0m\u001B[0;34m\u001B[0m\u001B[0m\n\u001B[1;32m    101\u001B[0m         \u001B[0mprint\u001B[0m\u001B[0;34m(\u001B[0m\u001B[0;34m\"\"\u001B[0m\u001B[0;34m)\u001B[0m\u001B[0;34m\u001B[0m\u001B[0;34m\u001B[0m\u001B[0m\n\u001B[1;32m    102\u001B[0m         \u001B[0;31m# warnings.warn(\"Forecast date should not be in the past.\")\u001B[0m\u001B[0;34m\u001B[0m\u001B[0;34m\u001B[0m\u001B[0m\n",
      "\u001B[0;32m~/anaconda3/envs/Forecasting_Challenge_2/lib/python3.9/site-packages/pandas/core/generic.py\u001B[0m in \u001B[0;36m?\u001B[0;34m(self, name)\u001B[0m\n\u001B[1;32m   6200\u001B[0m             \u001B[0;32mand\u001B[0m \u001B[0mname\u001B[0m \u001B[0;32mnot\u001B[0m \u001B[0;32min\u001B[0m \u001B[0mself\u001B[0m\u001B[0;34m.\u001B[0m\u001B[0m_accessors\u001B[0m\u001B[0;34m\u001B[0m\u001B[0;34m\u001B[0m\u001B[0m\n\u001B[1;32m   6201\u001B[0m             \u001B[0;32mand\u001B[0m \u001B[0mself\u001B[0m\u001B[0;34m.\u001B[0m\u001B[0m_info_axis\u001B[0m\u001B[0;34m.\u001B[0m\u001B[0m_can_hold_identifiers_and_holds_name\u001B[0m\u001B[0;34m(\u001B[0m\u001B[0mname\u001B[0m\u001B[0;34m)\u001B[0m\u001B[0;34m\u001B[0m\u001B[0;34m\u001B[0m\u001B[0m\n\u001B[1;32m   6202\u001B[0m         ):\n\u001B[1;32m   6203\u001B[0m             \u001B[0;32mreturn\u001B[0m \u001B[0mself\u001B[0m\u001B[0;34m[\u001B[0m\u001B[0mname\u001B[0m\u001B[0;34m]\u001B[0m\u001B[0;34m\u001B[0m\u001B[0;34m\u001B[0m\u001B[0m\n\u001B[0;32m-> 6204\u001B[0;31m         \u001B[0;32mreturn\u001B[0m \u001B[0mobject\u001B[0m\u001B[0;34m.\u001B[0m\u001B[0m__getattribute__\u001B[0m\u001B[0;34m(\u001B[0m\u001B[0mself\u001B[0m\u001B[0;34m,\u001B[0m \u001B[0mname\u001B[0m\u001B[0;34m)\u001B[0m\u001B[0;34m\u001B[0m\u001B[0;34m\u001B[0m\u001B[0m\n\u001B[0m",
      "\u001B[0;31mAttributeError\u001B[0m: 'Series' object has no attribute 'date'"
     ]
    }
   ],
   "source": [
    "import sys\n",
    "import pandas as pd\n",
    "import numpy as np\n",
    "import warnings\n",
    "from datetime import datetime, date\n",
    "\n",
    "def check_df(df):\n",
    "    EXPECTED_COLS = [\"forecast_date\", \"target\", \"horizon\", \"q0.025\", \"q0.25\",\n",
    "                    \"q0.5\", \"q0.75\", \"q0.975\"]\n",
    "    LEN_EXP_COLS = len(EXPECTED_COLS)\n",
    "\n",
    "    # if exclude_weather == True:\n",
    "    #     print(\"Excluding weather variables!\")\n",
    "    #     TARGETS = [\"DAX\", \"energy\"]\n",
    "    # else:\n",
    "    TARGETS = [\"DAX\", \"energy\"]\n",
    "\n",
    "    TARGET_VALS = dict(DAX = [str(i) + \" day\" for i in (1,2,5,6,7)],\n",
    "                    energy = [str(i) + \" hour\" for i in (36,40,44,60,64,68)],\n",
    "                    infections = [str(i) + \" week\" for i in (0,1,2,3,4)])\n",
    "\n",
    "    TARGET_LEN = dict(DAX = len(TARGET_VALS[\"DAX\"]),\n",
    "                    energy = len(TARGET_VALS[\"energy\"]),\n",
    "                    infections = len(TARGET_VALS[\"infections\"])\n",
    "                    )\n",
    "\n",
    "    TARGET_PLAUS = dict(DAX = [-20, 20],\n",
    "                        energy = [0,250],\n",
    "                        infections = [0,9000])\n",
    "\n",
    "    COLS_QUANTILES = [\"q0.025\", \"q0.25\", \"q0.5\", \"q0.75\", \"q0.975\"]\n",
    "\n",
    "    print(\"Start checking...\")\n",
    "    print(\"---------------------------\")\n",
    "    col_names = df.columns\n",
    "\n",
    "\n",
    "    print(\"Checking the Columns...\")\n",
    "    # Check column length\n",
    "    if len(col_names) != LEN_EXP_COLS:\n",
    "        print(\"Dataset contains \",len(col_names), \"columns. Required are\",LEN_EXP_COLS)\n",
    "        print(\"Stopping early...\")\n",
    "        sys.exit()\n",
    "\n",
    "    if set(col_names) != set(EXPECTED_COLS):\n",
    "        print(\"Dataset does not contain the required columns (or more).\")\n",
    "        missing_cols = set(EXPECTED_COLS) - set(col_names)\n",
    "        print(\"The missing columns are:\", missing_cols)\n",
    "        print(\"Stopping early...\")\n",
    "        sys.exit()\n",
    "\n",
    "    for i,col in enumerate(EXPECTED_COLS):\n",
    "        if col == col_names[i]:\n",
    "            continue\n",
    "        else:\n",
    "            print(\"Columns not in correct order. Order should be:\", EXPECTED_COLS)\n",
    "            print(\"Your order is:\", col_names.values)\n",
    "            print(\"Stopping early...\")\n",
    "            sys.exit()\n",
    "\n",
    "    # Date Col\n",
    "    print(\"Checking type of columns...\")\n",
    "    try:\n",
    "        df[\"forecast_date\"] = pd.to_datetime(df[\"forecast_date\"], format=\"%Y-%m-%d\",\n",
    "                                            errors=\"raise\")\n",
    "    except (pd.errors.ParserError, ValueError):\n",
    "        print(\"Could not parse Date in format YYYY-MM-DD\")\n",
    "        print(\"Stopping early...\")\n",
    "        sys.exit()\n",
    "\n",
    "    try:\n",
    "        df[\"target\"] = df[\"target\"].astype(\"object\", errors=\"raise\")\n",
    "    except ValueError:\n",
    "        print(\"Cannot convert target column to String.\")\n",
    "        print(\"Stopping early...\")\n",
    "        sys.exit()\n",
    "\n",
    "    try:\n",
    "        df[\"horizon\"] = df[\"horizon\"].astype(\"object\", errors=\"raise\")\n",
    "    except ValueError:\n",
    "        print(\"Cannot convert horizon column to String.\")\n",
    "        print(\"Stopping early...\")\n",
    "        sys.exit()\n",
    "\n",
    "    for cq in COLS_QUANTILES:\n",
    "        if pd.to_numeric(df[cq], errors=\"coerce\").isna().any():\n",
    "            print(\"----WARNING: Some elements in\",cq,\"column are not numeric. This may be fine if you only submit 2 out of 3 targets.\")\n",
    "            print(\"\")\n",
    "            # print(\"Stopping early...\")\n",
    "            # sys.exit()\n",
    "\n",
    "    print(\"Checking if the Dates make sense...\")\n",
    "\n",
    "    if len(pd.unique(df[\"forecast_date\"])) > 1:\n",
    "        print(\"forecast_date needs to be the same in all rows.\")\n",
    "        print(\"Stopping early...\")\n",
    "        sys.exit()\n",
    "\n",
    "    if df[\"forecast_date\"][0].date() < datetime.today().date():\n",
    "        print(\"----WARNING: Forecast date should not be in the past.\")\n",
    "        print(\"\")\n",
    "        # warnings.warn(\"Forecast date should not be in the past.\")\n",
    "\n",
    "    if df[\"forecast_date\"][0].weekday() != 2:\n",
    "        print(\"----WARNING: Forecast date should be a Wednesday.\")\n",
    "        print(\"\")\n",
    "        # warnings.warn(\"Forecast date should be a Wednesday\")\n",
    "\n",
    "    print(\"Checking targets...\")\n",
    "\n",
    "    if not df[\"target\"].isin(TARGETS).all():\n",
    "        print(f\"Target column can only contain {TARGETS}. Check spelling.\")\n",
    "        print(\"Stopping early...\")\n",
    "        sys.exit()\n",
    "\n",
    "    for target in TARGETS:\n",
    "\n",
    "        if len(df[df[\"target\"] == target]) != TARGET_LEN[target]:\n",
    "            if target == \"demand\":\n",
    "                print(\"Exactly 6 rows need to have target = \", target)\n",
    "            else:\n",
    "                print(\"Exactly 5 rows need to have target =\", target)\n",
    "            print(\"Stopping early...\")\n",
    "            sys.exit()\n",
    "\n",
    "        if (df[df[\"target\"] == target][\"horizon\"] != TARGET_VALS[target]).any():\n",
    "            print(\"Target\", target, \"horizons need to be (in this order):\", TARGET_VALS[target])\n",
    "            print(\"Stopping early...\")\n",
    "            sys.exit()\n",
    "\n",
    "        if (df[df[\"target\"] == target][COLS_QUANTILES] < TARGET_PLAUS[target][0]).any(axis=None) or \\\n",
    "            (df[df[\"target\"] == target][COLS_QUANTILES] > TARGET_PLAUS[target][1]).any(axis=None):\n",
    "            print(\"----WARNING: Implausible values for\",target,\"detected. You may want to re-check.\")\n",
    "            print(\"\")\n",
    "            # warnings.warn(\"Implausible values for \"+str(target)+\" detected. You may want to re-check them.\")\n",
    "\n",
    "    print(\"Checking quantiles...\")\n",
    "\n",
    "    ALL_NAN_IDX = df[df.isna().any(axis=1)].index\n",
    "    NAN_TARGET_IDX_LIST = []\n",
    "\n",
    "    if len(ALL_NAN_IDX) != 0:\n",
    "        NAN_TARGET = df.iloc[ALL_NAN_IDX[0]][\"target\"]\n",
    "        NAN_TARGET_LENS = dict(DAX = 5,\n",
    "                            energy = 6,\n",
    "                            infections = 5)\n",
    "\n",
    "        NAN_TARGET_IDX_LIST = df[df[\"target\"] == NAN_TARGET].index\n",
    "\n",
    "        print(\"Assume that --\",NAN_TARGET,\"-- is your NaN-target. Please DOUBLECHECK if this is correct.\")\n",
    "\n",
    "        if len(ALL_NAN_IDX) > NAN_TARGET_LENS[NAN_TARGET]:\n",
    "            print(\"Your dataframe contains more NaNs than entries for target\",NAN_TARGET,\".\")\n",
    "            print(\"Stopping early...\")\n",
    "            sys.exit()\n",
    "    else:\n",
    "        print(\"Seems like you submitted all three targets. Good job!\")\n",
    "\n",
    "    for i, row in df.iterrows():\n",
    "        if i in NAN_TARGET_IDX_LIST:\n",
    "            continue\n",
    "\n",
    "        diffs = row[COLS_QUANTILES].diff()\n",
    "        if diffs[1:].isna().any():\n",
    "            print(\"Something is wrong with your quantiles.\")\n",
    "            print(\"Stopping early...\")\n",
    "            sys.exit()\n",
    "        diffs[0] = 0\n",
    "        if (diffs < 0).any():\n",
    "            print(\"Predictive quantiles in row\",i,\"are not ordered correctly (need to be non-decreasing)\")\n",
    "            print(\"Stopping early...\")\n",
    "            sys.exit()\n",
    "\n",
    "    print(\"---------------------------\")\n",
    "    print(\"Looks good!\")\n",
    "    \n",
    "check_df(df)"
   ],
   "metadata": {
    "collapsed": false,
    "ExecuteTime": {
     "end_time": "2023-12-06T17:49:37.668562Z",
     "start_time": "2023-12-06T17:49:37.562062Z"
    }
   },
   "id": "edf25717f17afa86"
  },
  {
   "cell_type": "code",
   "execution_count": null,
   "outputs": [],
   "source": [
    "df"
   ],
   "metadata": {
    "collapsed": false,
    "ExecuteTime": {
     "end_time": "2023-11-29T17:17:12.989626Z",
     "start_time": "2023-11-29T17:17:12.989510Z"
    }
   },
   "id": "8155994327dfda82"
  },
  {
   "cell_type": "code",
   "execution_count": null,
   "outputs": [],
   "source": [],
   "metadata": {
    "collapsed": false,
    "ExecuteTime": {
     "start_time": "2023-11-29T17:17:12.990328Z"
    }
   },
   "id": "c13b36e8ffa9da5d"
  }
 ],
 "metadata": {
  "kernelspec": {
   "display_name": "Python 3",
   "language": "python",
   "name": "python3"
  },
  "language_info": {
   "codemirror_mode": {
    "name": "ipython",
    "version": 2
   },
   "file_extension": ".py",
   "mimetype": "text/x-python",
   "name": "python",
   "nbconvert_exporter": "python",
   "pygments_lexer": "ipython2",
   "version": "2.7.6"
  }
 },
 "nbformat": 4,
 "nbformat_minor": 5
}
