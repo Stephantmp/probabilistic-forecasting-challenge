{
 "cells": [
  {
   "cell_type": "code",
   "execution_count": 1,
   "id": "initial_id",
   "metadata": {
    "collapsed": true,
    "ExecuteTime": {
     "end_time": "2023-11-22T17:23:11.541343Z",
     "start_time": "2023-11-22T17:23:11.405978Z"
    }
   },
   "outputs": [],
   "source": [
    "from models.DAX import DAX_quantile_regression\n",
    "from models.energy import energy_quantile_regression\n",
    "from functions import get_energy,get_DAX,merge_submissions,check_submission"
   ]
  },
  {
   "cell_type": "code",
   "execution_count": 2,
   "outputs": [
    {
     "name": "stderr",
     "output_type": "stream",
     "text": [
      "  0%|          | 0/257 [00:00<?, ?it/s]/Users/stephantimpe/PycharmProjects/probabilistic-forecasting-challenge/functions/get_energy.py:28: FutureWarning: The behavior of DataFrame concatenation with empty or all-NA entries is deprecated. In a future version, this will no longer exclude empty or all-NA columns when determining the result dtypes. To retain the old behavior, exclude the relevant entries before the concat operation.\n",
      "  energydata = pd.concat([energydata, pd.DataFrame(rawdata, columns=col_names)])\n",
      "100%|██████████| 257/257 [00:36<00:00,  7.03it/s]\n"
     ]
    }
   ],
   "source": [
    "data_dax=get_DAX.get()\n",
    "data_energy=get_energy.get()"
   ],
   "metadata": {
    "collapsed": false,
    "ExecuteTime": {
     "end_time": "2023-11-22T17:23:48.658763Z",
     "start_time": "2023-11-22T17:23:11.543198Z"
    }
   },
   "id": "7156c29ee5906673"
  },
  {
   "cell_type": "code",
   "execution_count": 3,
   "outputs": [
    {
     "name": "stderr",
     "output_type": "stream",
     "text": [
      "/Users/stephantimpe/anaconda3/envs/Forecasting_Challenge_2/lib/python3.9/site-packages/statsmodels/regression/quantile_regression.py:191: IterationLimitWarning: Maximum number of iterations (1000) reached.\n",
      "  warnings.warn(\"Maximum number of iterations (\" + str(max_iter) +\n"
     ]
    },
    {
     "name": "stdout",
     "output_type": "stream",
     "text": [
      "                         QuantReg Regression Results                          \n",
      "==============================================================================\n",
      "Dep. Variable:                 gesamt   Pseudo R-squared:               0.5067\n",
      "Model:                       QuantReg   Bandwidth:                      0.6999\n",
      "Method:                 Least Squares   Sparsity:                        11.98\n",
      "Date:                Wed, 22 Nov 2023   No. Observations:                43071\n",
      "Time:                        18:24:13   Df Residuals:                    43035\n",
      "                                        Df Model:                           35\n",
      "==============================================================================\n",
      "                 coef    std err          t      P>|t|      [0.025      0.975]\n",
      "------------------------------------------------------------------------------\n",
      "const         58.7892      0.175    335.657      0.000      58.446      59.132\n",
      "weekday       -1.8456      0.014   -127.955      0.000      -1.874      -1.817\n",
      "month_2        0.4290      0.142      3.016      0.003       0.150       0.708\n",
      "month_3       -3.2404      0.139    -23.339      0.000      -3.512      -2.968\n",
      "month_4       -7.4139      0.140    -52.960      0.000      -7.688      -7.140\n",
      "month_5       -8.9147      0.139    -64.209      0.000      -9.187      -8.643\n",
      "month_6       -9.1445      0.140    -65.322      0.000      -9.419      -8.870\n",
      "month_7       -8.8258      0.139    -63.569      0.000      -9.098      -8.554\n",
      "month_8       -9.9938      0.139    -71.981      0.000     -10.266      -9.722\n",
      "month_9       -8.1109      0.140    -57.939      0.000      -8.385      -7.837\n",
      "month_10      -5.7447      0.139    -41.377      0.000      -6.017      -5.473\n",
      "month_11      -2.8322      0.142    -19.934      0.000      -3.111      -2.554\n",
      "month_12      -3.3760      0.145    -23.321      0.000      -3.660      -3.092\n",
      "hour_1        -1.7716      0.200     -8.864      0.000      -2.163      -1.380\n",
      "hour_2        -2.7060      0.200    -13.539      0.000      -3.098      -2.314\n",
      "hour_3        -2.6736      0.200    -13.377      0.000      -3.065      -2.282\n",
      "hour_4        -1.9019      0.200     -9.516      0.000      -2.294      -1.510\n",
      "hour_5         0.0085      0.200      0.042      0.966      -0.383       0.400\n",
      "hour_6         5.0423      0.200     25.228      0.000       4.651       5.434\n",
      "hour_7        10.1495      0.200     50.781      0.000       9.758      10.541\n",
      "hour_8        13.1075      0.200     65.580      0.000      12.716      13.499\n",
      "hour_9        14.1307      0.200     70.699      0.000      13.739      14.522\n",
      "hour_10       15.1560      0.200     75.829      0.000      14.764      15.548\n",
      "hour_11       16.1001      0.200     80.553      0.000      15.708      16.492\n",
      "hour_12       15.6799      0.200     78.451      0.000      15.288      16.072\n",
      "hour_13       14.5041      0.200     72.568      0.000      14.112      14.896\n",
      "hour_14       13.2118      0.200     66.102      0.000      12.820      13.604\n",
      "hour_15       12.3461      0.200     61.762      0.000      11.954      12.738\n",
      "hour_16       11.6307      0.200     58.183      0.000      11.239      12.022\n",
      "hour_17       12.6205      0.200     63.135      0.000      12.229      13.012\n",
      "hour_18       13.2345      0.200     66.206      0.000      12.843      13.626\n",
      "hour_19       12.6526      0.200     63.296      0.000      12.261      13.044\n",
      "hour_20       10.2622      0.200     51.337      0.000       9.870      10.654\n",
      "hour_21        7.9568      0.200     39.804      0.000       7.565       8.349\n",
      "hour_22        5.5347      0.200     27.688      0.000       5.143       5.926\n",
      "hour_23        2.1140      0.200     10.575      0.000       1.722       2.506\n",
      "==============================================================================\n"
     ]
    }
   ],
   "source": [
    "df_dax=DAX_quantile_regression.DAX_quantile_regression(data_dax)\n",
    "df_energy=energy_quantile_regression.energy_quantile_regression(data_energy)"
   ],
   "metadata": {
    "collapsed": false,
    "ExecuteTime": {
     "end_time": "2023-11-22T17:24:13.405988Z",
     "start_time": "2023-11-22T17:23:48.657917Z"
    }
   },
   "id": "3dd8803c4d44de27"
  },
  {
   "cell_type": "code",
   "execution_count": 4,
   "outputs": [
    {
     "data": {
      "text/plain": "  forecast_date target horizon    q0.025     q0.25      q0.5     q0.75  \\\n0    2023-11-22    DAX   1 day -2.231286 -0.492510  0.038613  0.514265   \n1    2023-11-22    DAX   2 day -2.550558 -0.677148 -0.017647  0.446352   \n2    2023-11-22    DAX   5 day -2.961957 -1.004200 -0.298504  0.209421   \n3    2023-11-22    DAX   6 day -1.564661  0.425968  1.178971  1.718650   \n4    2023-11-22    DAX   7 day -1.006056  0.823985  1.579959  2.107130   \n\n     q0.975  \n0  1.717498  \n1  1.944123  \n2  1.612341  \n3  3.208102  \n4  3.710235  ",
      "text/html": "<div>\n<style scoped>\n    .dataframe tbody tr th:only-of-type {\n        vertical-align: middle;\n    }\n\n    .dataframe tbody tr th {\n        vertical-align: top;\n    }\n\n    .dataframe thead th {\n        text-align: right;\n    }\n</style>\n<table border=\"1\" class=\"dataframe\">\n  <thead>\n    <tr style=\"text-align: right;\">\n      <th></th>\n      <th>forecast_date</th>\n      <th>target</th>\n      <th>horizon</th>\n      <th>q0.025</th>\n      <th>q0.25</th>\n      <th>q0.5</th>\n      <th>q0.75</th>\n      <th>q0.975</th>\n    </tr>\n  </thead>\n  <tbody>\n    <tr>\n      <th>0</th>\n      <td>2023-11-22</td>\n      <td>DAX</td>\n      <td>1 day</td>\n      <td>-2.231286</td>\n      <td>-0.492510</td>\n      <td>0.038613</td>\n      <td>0.514265</td>\n      <td>1.717498</td>\n    </tr>\n    <tr>\n      <th>1</th>\n      <td>2023-11-22</td>\n      <td>DAX</td>\n      <td>2 day</td>\n      <td>-2.550558</td>\n      <td>-0.677148</td>\n      <td>-0.017647</td>\n      <td>0.446352</td>\n      <td>1.944123</td>\n    </tr>\n    <tr>\n      <th>2</th>\n      <td>2023-11-22</td>\n      <td>DAX</td>\n      <td>5 day</td>\n      <td>-2.961957</td>\n      <td>-1.004200</td>\n      <td>-0.298504</td>\n      <td>0.209421</td>\n      <td>1.612341</td>\n    </tr>\n    <tr>\n      <th>3</th>\n      <td>2023-11-22</td>\n      <td>DAX</td>\n      <td>6 day</td>\n      <td>-1.564661</td>\n      <td>0.425968</td>\n      <td>1.178971</td>\n      <td>1.718650</td>\n      <td>3.208102</td>\n    </tr>\n    <tr>\n      <th>4</th>\n      <td>2023-11-22</td>\n      <td>DAX</td>\n      <td>7 day</td>\n      <td>-1.006056</td>\n      <td>0.823985</td>\n      <td>1.579959</td>\n      <td>2.107130</td>\n      <td>3.710235</td>\n    </tr>\n  </tbody>\n</table>\n</div>"
     },
     "execution_count": 4,
     "metadata": {},
     "output_type": "execute_result"
    }
   ],
   "source": [
    "df_dax"
   ],
   "metadata": {
    "collapsed": false,
    "ExecuteTime": {
     "end_time": "2023-11-22T17:24:13.422745Z",
     "start_time": "2023-11-22T17:24:13.410327Z"
    }
   },
   "id": "8fb1b2dcfa5d96ef"
  },
  {
   "cell_type": "code",
   "execution_count": 5,
   "outputs": [
    {
     "data": {
      "text/plain": "  forecast_date  target  horizon     q0.025      q0.25       q0.5      q0.75  \\\n0    2023-11-22  energy  36 hour    39.6086  47.271801  51.406609  54.554112   \n1    2023-11-22  energy  40 hour  50.627497  59.956351  64.027073  68.894043   \n2    2023-11-22  energy  44 hour  48.891099   56.25315    59.3634   62.73843   \n3    2023-11-22  energy  60 hour    38.6187  45.398751  49.560965  53.123293   \n4    2023-11-22  energy  64 hour  49.637597  58.083301   62.18143  67.463224   \n5    2023-11-22  energy  68 hour  47.901199    54.3801  57.517756  61.307612   \n\n      q0.975  \n0  57.763749  \n1  74.307749  \n2  66.794999  \n3  57.010999  \n4  73.554999  \n5   66.04225  ",
      "text/html": "<div>\n<style scoped>\n    .dataframe tbody tr th:only-of-type {\n        vertical-align: middle;\n    }\n\n    .dataframe tbody tr th {\n        vertical-align: top;\n    }\n\n    .dataframe thead th {\n        text-align: right;\n    }\n</style>\n<table border=\"1\" class=\"dataframe\">\n  <thead>\n    <tr style=\"text-align: right;\">\n      <th></th>\n      <th>forecast_date</th>\n      <th>target</th>\n      <th>horizon</th>\n      <th>q0.025</th>\n      <th>q0.25</th>\n      <th>q0.5</th>\n      <th>q0.75</th>\n      <th>q0.975</th>\n    </tr>\n  </thead>\n  <tbody>\n    <tr>\n      <th>0</th>\n      <td>2023-11-22</td>\n      <td>energy</td>\n      <td>36 hour</td>\n      <td>39.6086</td>\n      <td>47.271801</td>\n      <td>51.406609</td>\n      <td>54.554112</td>\n      <td>57.763749</td>\n    </tr>\n    <tr>\n      <th>1</th>\n      <td>2023-11-22</td>\n      <td>energy</td>\n      <td>40 hour</td>\n      <td>50.627497</td>\n      <td>59.956351</td>\n      <td>64.027073</td>\n      <td>68.894043</td>\n      <td>74.307749</td>\n    </tr>\n    <tr>\n      <th>2</th>\n      <td>2023-11-22</td>\n      <td>energy</td>\n      <td>44 hour</td>\n      <td>48.891099</td>\n      <td>56.25315</td>\n      <td>59.3634</td>\n      <td>62.73843</td>\n      <td>66.794999</td>\n    </tr>\n    <tr>\n      <th>3</th>\n      <td>2023-11-22</td>\n      <td>energy</td>\n      <td>60 hour</td>\n      <td>38.6187</td>\n      <td>45.398751</td>\n      <td>49.560965</td>\n      <td>53.123293</td>\n      <td>57.010999</td>\n    </tr>\n    <tr>\n      <th>4</th>\n      <td>2023-11-22</td>\n      <td>energy</td>\n      <td>64 hour</td>\n      <td>49.637597</td>\n      <td>58.083301</td>\n      <td>62.18143</td>\n      <td>67.463224</td>\n      <td>73.554999</td>\n    </tr>\n    <tr>\n      <th>5</th>\n      <td>2023-11-22</td>\n      <td>energy</td>\n      <td>68 hour</td>\n      <td>47.901199</td>\n      <td>54.3801</td>\n      <td>57.517756</td>\n      <td>61.307612</td>\n      <td>66.04225</td>\n    </tr>\n  </tbody>\n</table>\n</div>"
     },
     "execution_count": 5,
     "metadata": {},
     "output_type": "execute_result"
    }
   ],
   "source": [
    "df_energy"
   ],
   "metadata": {
    "collapsed": false,
    "ExecuteTime": {
     "end_time": "2023-11-22T17:24:13.455134Z",
     "start_time": "2023-11-22T17:24:13.433173Z"
    }
   },
   "id": "d672237cd9a9644b"
  },
  {
   "cell_type": "code",
   "execution_count": 6,
   "outputs": [
    {
     "name": "stdout",
     "output_type": "stream",
     "text": [
      "  forecast_date      target  horizon     q0.025      q0.25       q0.5  \\\n",
      "0    2023-11-22         DAX    1 day  -2.231286   -0.49251   0.038613   \n",
      "1    2023-11-22         DAX    2 day  -2.550558  -0.677148  -0.017647   \n",
      "2    2023-11-22         DAX    5 day  -2.961957    -1.0042  -0.298504   \n",
      "3    2023-11-22         DAX    6 day  -1.564661   0.425968   1.178971   \n",
      "4    2023-11-22         DAX    7 day  -1.006056   0.823985   1.579959   \n",
      "0    2023-11-22      energy  36 hour    39.6086  47.271801  51.406609   \n",
      "1    2023-11-22      energy  40 hour  50.627497  59.956351  64.027073   \n",
      "2    2023-11-22      energy  44 hour  48.891099   56.25315    59.3634   \n",
      "3    2023-11-22      energy  60 hour    38.6187  45.398751  49.560965   \n",
      "4    2023-11-22      energy  64 hour  49.637597  58.083301   62.18143   \n",
      "5    2023-11-22      energy  68 hour  47.901199    54.3801  57.517756   \n",
      "0    2023-11-22  infections   0 week         NA         NA         NA   \n",
      "1    2023-11-22  infections   1 week         NA         NA         NA   \n",
      "2    2023-11-22  infections   2 week         NA         NA         NA   \n",
      "3    2023-11-22  infections   3 week         NA         NA         NA   \n",
      "4    2023-11-22  infections   4 week         NA         NA         NA   \n",
      "\n",
      "       q0.75     q0.975  \n",
      "0   0.514265   1.717498  \n",
      "1   0.446352   1.944123  \n",
      "2   0.209421   1.612341  \n",
      "3    1.71865   3.208102  \n",
      "4    2.10713   3.710235  \n",
      "0  54.554112  57.763749  \n",
      "1  68.894043  74.307749  \n",
      "2   62.73843  66.794999  \n",
      "3  53.123293  57.010999  \n",
      "4  67.463224  73.554999  \n",
      "5  61.307612   66.04225  \n",
      "0         NA         NA  \n",
      "1         NA         NA  \n",
      "2         NA         NA  \n",
      "3         NA         NA  \n",
      "4         NA         NA  \n"
     ]
    }
   ],
   "source": [
    "df_sub=merge_submissions.merge(df_energy,df_dax)"
   ],
   "metadata": {
    "collapsed": false,
    "ExecuteTime": {
     "end_time": "2023-11-22T17:24:13.520983Z",
     "start_time": "2023-11-22T17:24:13.442481Z"
    }
   },
   "id": "87afd8aa376e40c"
  },
  {
   "cell_type": "code",
   "execution_count": 7,
   "outputs": [
    {
     "data": {
      "text/plain": "  forecast_date      target  horizon     q0.025      q0.25       q0.5  \\\n0    2023-11-22         DAX    1 day  -2.231286   -0.49251   0.038613   \n1    2023-11-22         DAX    2 day  -2.550558  -0.677148  -0.017647   \n2    2023-11-22         DAX    5 day  -2.961957    -1.0042  -0.298504   \n3    2023-11-22         DAX    6 day  -1.564661   0.425968   1.178971   \n4    2023-11-22         DAX    7 day  -1.006056   0.823985   1.579959   \n0    2023-11-22      energy  36 hour    39.6086  47.271801  51.406609   \n1    2023-11-22      energy  40 hour  50.627497  59.956351  64.027073   \n2    2023-11-22      energy  44 hour  48.891099   56.25315    59.3634   \n3    2023-11-22      energy  60 hour    38.6187  45.398751  49.560965   \n4    2023-11-22      energy  64 hour  49.637597  58.083301   62.18143   \n5    2023-11-22      energy  68 hour  47.901199    54.3801  57.517756   \n0    2023-11-22  infections   0 week         NA         NA         NA   \n1    2023-11-22  infections   1 week         NA         NA         NA   \n2    2023-11-22  infections   2 week         NA         NA         NA   \n3    2023-11-22  infections   3 week         NA         NA         NA   \n4    2023-11-22  infections   4 week         NA         NA         NA   \n\n       q0.75     q0.975  \n0   0.514265   1.717498  \n1   0.446352   1.944123  \n2   0.209421   1.612341  \n3    1.71865   3.208102  \n4    2.10713   3.710235  \n0  54.554112  57.763749  \n1  68.894043  74.307749  \n2   62.73843  66.794999  \n3  53.123293  57.010999  \n4  67.463224  73.554999  \n5  61.307612   66.04225  \n0         NA         NA  \n1         NA         NA  \n2         NA         NA  \n3         NA         NA  \n4         NA         NA  ",
      "text/html": "<div>\n<style scoped>\n    .dataframe tbody tr th:only-of-type {\n        vertical-align: middle;\n    }\n\n    .dataframe tbody tr th {\n        vertical-align: top;\n    }\n\n    .dataframe thead th {\n        text-align: right;\n    }\n</style>\n<table border=\"1\" class=\"dataframe\">\n  <thead>\n    <tr style=\"text-align: right;\">\n      <th></th>\n      <th>forecast_date</th>\n      <th>target</th>\n      <th>horizon</th>\n      <th>q0.025</th>\n      <th>q0.25</th>\n      <th>q0.5</th>\n      <th>q0.75</th>\n      <th>q0.975</th>\n    </tr>\n  </thead>\n  <tbody>\n    <tr>\n      <th>0</th>\n      <td>2023-11-22</td>\n      <td>DAX</td>\n      <td>1 day</td>\n      <td>-2.231286</td>\n      <td>-0.49251</td>\n      <td>0.038613</td>\n      <td>0.514265</td>\n      <td>1.717498</td>\n    </tr>\n    <tr>\n      <th>1</th>\n      <td>2023-11-22</td>\n      <td>DAX</td>\n      <td>2 day</td>\n      <td>-2.550558</td>\n      <td>-0.677148</td>\n      <td>-0.017647</td>\n      <td>0.446352</td>\n      <td>1.944123</td>\n    </tr>\n    <tr>\n      <th>2</th>\n      <td>2023-11-22</td>\n      <td>DAX</td>\n      <td>5 day</td>\n      <td>-2.961957</td>\n      <td>-1.0042</td>\n      <td>-0.298504</td>\n      <td>0.209421</td>\n      <td>1.612341</td>\n    </tr>\n    <tr>\n      <th>3</th>\n      <td>2023-11-22</td>\n      <td>DAX</td>\n      <td>6 day</td>\n      <td>-1.564661</td>\n      <td>0.425968</td>\n      <td>1.178971</td>\n      <td>1.71865</td>\n      <td>3.208102</td>\n    </tr>\n    <tr>\n      <th>4</th>\n      <td>2023-11-22</td>\n      <td>DAX</td>\n      <td>7 day</td>\n      <td>-1.006056</td>\n      <td>0.823985</td>\n      <td>1.579959</td>\n      <td>2.10713</td>\n      <td>3.710235</td>\n    </tr>\n    <tr>\n      <th>0</th>\n      <td>2023-11-22</td>\n      <td>energy</td>\n      <td>36 hour</td>\n      <td>39.6086</td>\n      <td>47.271801</td>\n      <td>51.406609</td>\n      <td>54.554112</td>\n      <td>57.763749</td>\n    </tr>\n    <tr>\n      <th>1</th>\n      <td>2023-11-22</td>\n      <td>energy</td>\n      <td>40 hour</td>\n      <td>50.627497</td>\n      <td>59.956351</td>\n      <td>64.027073</td>\n      <td>68.894043</td>\n      <td>74.307749</td>\n    </tr>\n    <tr>\n      <th>2</th>\n      <td>2023-11-22</td>\n      <td>energy</td>\n      <td>44 hour</td>\n      <td>48.891099</td>\n      <td>56.25315</td>\n      <td>59.3634</td>\n      <td>62.73843</td>\n      <td>66.794999</td>\n    </tr>\n    <tr>\n      <th>3</th>\n      <td>2023-11-22</td>\n      <td>energy</td>\n      <td>60 hour</td>\n      <td>38.6187</td>\n      <td>45.398751</td>\n      <td>49.560965</td>\n      <td>53.123293</td>\n      <td>57.010999</td>\n    </tr>\n    <tr>\n      <th>4</th>\n      <td>2023-11-22</td>\n      <td>energy</td>\n      <td>64 hour</td>\n      <td>49.637597</td>\n      <td>58.083301</td>\n      <td>62.18143</td>\n      <td>67.463224</td>\n      <td>73.554999</td>\n    </tr>\n    <tr>\n      <th>5</th>\n      <td>2023-11-22</td>\n      <td>energy</td>\n      <td>68 hour</td>\n      <td>47.901199</td>\n      <td>54.3801</td>\n      <td>57.517756</td>\n      <td>61.307612</td>\n      <td>66.04225</td>\n    </tr>\n    <tr>\n      <th>0</th>\n      <td>2023-11-22</td>\n      <td>infections</td>\n      <td>0 week</td>\n      <td>NA</td>\n      <td>NA</td>\n      <td>NA</td>\n      <td>NA</td>\n      <td>NA</td>\n    </tr>\n    <tr>\n      <th>1</th>\n      <td>2023-11-22</td>\n      <td>infections</td>\n      <td>1 week</td>\n      <td>NA</td>\n      <td>NA</td>\n      <td>NA</td>\n      <td>NA</td>\n      <td>NA</td>\n    </tr>\n    <tr>\n      <th>2</th>\n      <td>2023-11-22</td>\n      <td>infections</td>\n      <td>2 week</td>\n      <td>NA</td>\n      <td>NA</td>\n      <td>NA</td>\n      <td>NA</td>\n      <td>NA</td>\n    </tr>\n    <tr>\n      <th>3</th>\n      <td>2023-11-22</td>\n      <td>infections</td>\n      <td>3 week</td>\n      <td>NA</td>\n      <td>NA</td>\n      <td>NA</td>\n      <td>NA</td>\n      <td>NA</td>\n    </tr>\n    <tr>\n      <th>4</th>\n      <td>2023-11-22</td>\n      <td>infections</td>\n      <td>4 week</td>\n      <td>NA</td>\n      <td>NA</td>\n      <td>NA</td>\n      <td>NA</td>\n      <td>NA</td>\n    </tr>\n  </tbody>\n</table>\n</div>"
     },
     "execution_count": 7,
     "metadata": {},
     "output_type": "execute_result"
    }
   ],
   "source": [
    "df_sub"
   ],
   "metadata": {
    "collapsed": false,
    "ExecuteTime": {
     "end_time": "2023-11-22T17:24:38.273945Z",
     "start_time": "2023-11-22T17:24:38.269363Z"
    }
   },
   "id": "de3c54b9ca8c1eac"
  },
  {
   "cell_type": "code",
   "execution_count": 8,
   "outputs": [
    {
     "name": "stdout",
     "output_type": "stream",
     "text": [
      "Start checking...\n",
      "---------------------------\n",
      "Checking the Columns...\n",
      "Checking type of columns...\n",
      "----WARNING: Some elements in q0.025 column are not numeric. This may be fine if you only submit 2 out of 3 targets.\n",
      "\n",
      "----WARNING: Some elements in q0.25 column are not numeric. This may be fine if you only submit 2 out of 3 targets.\n",
      "\n",
      "----WARNING: Some elements in q0.5 column are not numeric. This may be fine if you only submit 2 out of 3 targets.\n",
      "\n",
      "----WARNING: Some elements in q0.75 column are not numeric. This may be fine if you only submit 2 out of 3 targets.\n",
      "\n",
      "----WARNING: Some elements in q0.975 column are not numeric. This may be fine if you only submit 2 out of 3 targets.\n",
      "\n",
      "Checking if the Dates make sense...\n"
     ]
    },
    {
     "ename": "AttributeError",
     "evalue": "'Series' object has no attribute 'date'",
     "output_type": "error",
     "traceback": [
      "\u001B[0;31m---------------------------------------------------------------------------\u001B[0m",
      "\u001B[0;31mAttributeError\u001B[0m                            Traceback (most recent call last)",
      "\u001B[0;32m/var/folders/y3/h1kjcg6j0wj3crmk4m1ff0380000gn/T/ipykernel_13350/1886789432.py\u001B[0m in \u001B[0;36m?\u001B[0;34m()\u001B[0m\n\u001B[0;32m----> 1\u001B[0;31m \u001B[0mcheck_submission\u001B[0m\u001B[0;34m.\u001B[0m\u001B[0mcheck_df\u001B[0m\u001B[0;34m(\u001B[0m\u001B[0mdf_sub\u001B[0m\u001B[0;34m)\u001B[0m\u001B[0;34m\u001B[0m\u001B[0;34m\u001B[0m\u001B[0m\n\u001B[0m",
      "\u001B[0;32m~/PycharmProjects/probabilistic-forecasting-challenge/functions/check_submission.py\u001B[0m in \u001B[0;36m?\u001B[0;34m(df)\u001B[0m\n\u001B[1;32m     95\u001B[0m         \u001B[0mprint\u001B[0m\u001B[0;34m(\u001B[0m\u001B[0;34m\"forecast_date needs to be the same in all rows.\"\u001B[0m\u001B[0;34m)\u001B[0m\u001B[0;34m\u001B[0m\u001B[0;34m\u001B[0m\u001B[0m\n\u001B[1;32m     96\u001B[0m         \u001B[0mprint\u001B[0m\u001B[0;34m(\u001B[0m\u001B[0;34m\"Stopping early...\"\u001B[0m\u001B[0;34m)\u001B[0m\u001B[0;34m\u001B[0m\u001B[0;34m\u001B[0m\u001B[0m\n\u001B[1;32m     97\u001B[0m         \u001B[0msys\u001B[0m\u001B[0;34m.\u001B[0m\u001B[0mexit\u001B[0m\u001B[0;34m(\u001B[0m\u001B[0;34m)\u001B[0m\u001B[0;34m\u001B[0m\u001B[0;34m\u001B[0m\u001B[0m\n\u001B[1;32m     98\u001B[0m \u001B[0;34m\u001B[0m\u001B[0m\n\u001B[0;32m---> 99\u001B[0;31m     \u001B[0;32mif\u001B[0m \u001B[0mdf\u001B[0m\u001B[0;34m[\u001B[0m\u001B[0;34m\"forecast_date\"\u001B[0m\u001B[0;34m]\u001B[0m\u001B[0;34m[\u001B[0m\u001B[0;36m0\u001B[0m\u001B[0;34m]\u001B[0m\u001B[0;34m.\u001B[0m\u001B[0mdate\u001B[0m\u001B[0;34m(\u001B[0m\u001B[0;34m)\u001B[0m \u001B[0;34m<\u001B[0m \u001B[0mdatetime\u001B[0m\u001B[0;34m.\u001B[0m\u001B[0mtoday\u001B[0m\u001B[0;34m(\u001B[0m\u001B[0;34m)\u001B[0m\u001B[0;34m.\u001B[0m\u001B[0mdate\u001B[0m\u001B[0;34m(\u001B[0m\u001B[0;34m)\u001B[0m\u001B[0;34m:\u001B[0m\u001B[0;34m\u001B[0m\u001B[0;34m\u001B[0m\u001B[0m\n\u001B[0m\u001B[1;32m    100\u001B[0m         \u001B[0mprint\u001B[0m\u001B[0;34m(\u001B[0m\u001B[0;34m\"----WARNING: Forecast date should not be in the past.\"\u001B[0m\u001B[0;34m)\u001B[0m\u001B[0;34m\u001B[0m\u001B[0;34m\u001B[0m\u001B[0m\n\u001B[1;32m    101\u001B[0m         \u001B[0mprint\u001B[0m\u001B[0;34m(\u001B[0m\u001B[0;34m\"\"\u001B[0m\u001B[0;34m)\u001B[0m\u001B[0;34m\u001B[0m\u001B[0;34m\u001B[0m\u001B[0m\n\u001B[1;32m    102\u001B[0m         \u001B[0;31m# warnings.warn(\"Forecast date should not be in the past.\")\u001B[0m\u001B[0;34m\u001B[0m\u001B[0;34m\u001B[0m\u001B[0m\n",
      "\u001B[0;32m~/anaconda3/envs/Forecasting_Challenge_2/lib/python3.9/site-packages/pandas/core/generic.py\u001B[0m in \u001B[0;36m?\u001B[0;34m(self, name)\u001B[0m\n\u001B[1;32m   6200\u001B[0m             \u001B[0;32mand\u001B[0m \u001B[0mname\u001B[0m \u001B[0;32mnot\u001B[0m \u001B[0;32min\u001B[0m \u001B[0mself\u001B[0m\u001B[0;34m.\u001B[0m\u001B[0m_accessors\u001B[0m\u001B[0;34m\u001B[0m\u001B[0;34m\u001B[0m\u001B[0m\n\u001B[1;32m   6201\u001B[0m             \u001B[0;32mand\u001B[0m \u001B[0mself\u001B[0m\u001B[0;34m.\u001B[0m\u001B[0m_info_axis\u001B[0m\u001B[0;34m.\u001B[0m\u001B[0m_can_hold_identifiers_and_holds_name\u001B[0m\u001B[0;34m(\u001B[0m\u001B[0mname\u001B[0m\u001B[0;34m)\u001B[0m\u001B[0;34m\u001B[0m\u001B[0;34m\u001B[0m\u001B[0m\n\u001B[1;32m   6202\u001B[0m         ):\n\u001B[1;32m   6203\u001B[0m             \u001B[0;32mreturn\u001B[0m \u001B[0mself\u001B[0m\u001B[0;34m[\u001B[0m\u001B[0mname\u001B[0m\u001B[0;34m]\u001B[0m\u001B[0;34m\u001B[0m\u001B[0;34m\u001B[0m\u001B[0m\n\u001B[0;32m-> 6204\u001B[0;31m         \u001B[0;32mreturn\u001B[0m \u001B[0mobject\u001B[0m\u001B[0;34m.\u001B[0m\u001B[0m__getattribute__\u001B[0m\u001B[0;34m(\u001B[0m\u001B[0mself\u001B[0m\u001B[0;34m,\u001B[0m \u001B[0mname\u001B[0m\u001B[0;34m)\u001B[0m\u001B[0;34m\u001B[0m\u001B[0;34m\u001B[0m\u001B[0m\n\u001B[0m",
      "\u001B[0;31mAttributeError\u001B[0m: 'Series' object has no attribute 'date'"
     ]
    }
   ],
   "source": [
    "check_submission.check_df(df_sub)"
   ],
   "metadata": {
    "collapsed": false,
    "ExecuteTime": {
     "end_time": "2023-11-22T17:25:42.821634Z",
     "start_time": "2023-11-22T17:25:42.564074Z"
    }
   },
   "id": "7f9a361981d6b284"
  },
  {
   "cell_type": "code",
   "execution_count": null,
   "outputs": [],
   "source": [],
   "metadata": {
    "collapsed": false
   },
   "id": "99534df6136ab2fe"
  }
 ],
 "metadata": {
  "kernelspec": {
   "display_name": "Python 3",
   "language": "python",
   "name": "python3"
  },
  "language_info": {
   "codemirror_mode": {
    "name": "ipython",
    "version": 2
   },
   "file_extension": ".py",
   "mimetype": "text/x-python",
   "name": "python",
   "nbconvert_exporter": "python",
   "pygments_lexer": "ipython2",
   "version": "2.7.6"
  }
 },
 "nbformat": 4,
 "nbformat_minor": 5
}
