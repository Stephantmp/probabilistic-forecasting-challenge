{
 "cells": [
  {
   "cell_type": "code",
   "execution_count": 4,
   "id": "3d7236e6-7751-4928-9a79-124c5835761f",
   "metadata": {
    "ExecuteTime": {
     "end_time": "2023-11-18T16:51:49.132558Z",
     "start_time": "2023-11-18T16:51:49.098305Z"
    }
   },
   "outputs": [],
   "source": [
    "import pandas as pd\n",
    "import numpy as np\n",
    "import matplotlib.pyplot as plt\n",
    "from functions import get_DAX"
   ]
  },
  {
   "cell_type": "code",
   "execution_count": 5,
   "outputs": [
    {
     "data": {
      "text/plain": "                                   Open          High           Low  \\\nDate                                                                  \n1988-01-08 00:00:00+01:00   1026.689941   1026.689941   1026.689941   \n1988-01-11 00:00:00+01:00    987.520020    987.520020    987.520020   \n1988-01-12 00:00:00+01:00    986.890015    986.890015    986.890015   \n1988-01-13 00:00:00+01:00    965.770020    965.770020    965.770020   \n1988-01-14 00:00:00+01:00    974.460022    974.460022    974.460022   \n...                                 ...           ...           ...   \n2023-11-13 00:00:00+01:00  15285.120117  15346.790039  15252.269531   \n2023-11-14 00:00:00+01:00  15358.589844  15632.440430  15337.599609   \n2023-11-15 00:00:00+01:00  15631.669922  15759.839844  15628.190430   \n2023-11-16 00:00:00+01:00  15806.910156  15862.089844  15783.509766   \n2023-11-17 00:00:00+01:00  15828.780273  15952.450195  15826.669922   \n\n                                  Close    Volume  Dividends  Stock Splits  \\\nDate                                                                         \n1988-01-08 00:00:00+01:00   1026.689941         0        0.0           0.0   \n1988-01-11 00:00:00+01:00    987.520020         0        0.0           0.0   \n1988-01-12 00:00:00+01:00    986.890015         0        0.0           0.0   \n1988-01-13 00:00:00+01:00    965.770020         0        0.0           0.0   \n1988-01-14 00:00:00+01:00    974.460022         0        0.0           0.0   \n...                                 ...       ...        ...           ...   \n2023-11-13 00:00:00+01:00  15345.000000  65170400        0.0           0.0   \n2023-11-14 00:00:00+01:00  15614.429688  98894400        0.0           0.0   \n2023-11-15 00:00:00+01:00  15748.169922  91670700        0.0           0.0   \n2023-11-16 00:00:00+01:00  15786.610352  68438900        0.0           0.0   \n2023-11-17 00:00:00+01:00  15919.160156  81125800        0.0           0.0   \n\n                               ret1      ret2      ret3      ret4      ret5  \\\nDate                                                                          \n1988-01-08 00:00:00+01:00  1.197370  2.034796  3.024763  7.082493  2.116340   \n1988-01-11 00:00:00+01:00 -3.889849 -2.692479 -1.855053 -0.865086  3.192645   \n1988-01-12 00:00:00+01:00 -0.063817 -3.953666 -2.756296 -1.918870 -0.928903   \n1988-01-13 00:00:00+01:00 -2.163287 -2.227104 -6.116953 -4.919583 -4.082157   \n1988-01-14 00:00:00+01:00  0.895776 -1.267511 -1.331328 -5.221176 -4.023806   \n...                             ...       ...       ...       ...       ...   \n2023-11-13 00:00:00+01:00  0.723434 -0.049125  0.754881  1.261494  1.371568   \n2023-11-14 00:00:00+01:00  1.740578  2.464012  1.691453  2.495459  3.002072   \n2023-11-15 00:00:00+01:00  0.852870  2.593448  3.316881  2.544323  3.348329   \n2023-11-16 00:00:00+01:00  0.243797  1.096667  2.837245  3.560679  2.788120   \n2023-11-17 00:00:00+01:00  0.836129  1.079926  1.932796  3.673374  4.396808   \n\n                               lag_ret1      lag_ret2      lag_ret3  \\\nDate                                                                  \n1988-01-08 00:00:00+01:00   1014.469971   1006.010010    996.099976   \n1988-01-11 00:00:00+01:00   1026.689941   1014.469971   1006.010010   \n1988-01-12 00:00:00+01:00    987.520020   1026.689941   1014.469971   \n1988-01-13 00:00:00+01:00    986.890015    987.520020   1026.689941   \n1988-01-14 00:00:00+01:00    965.770020    986.890015    987.520020   \n...                                 ...           ...           ...   \n2023-11-13 00:00:00+01:00  15234.389648  15352.540039  15229.599609   \n2023-11-14 00:00:00+01:00  15345.000000  15234.389648  15352.540039   \n2023-11-15 00:00:00+01:00  15614.429688  15345.000000  15234.389648   \n2023-11-16 00:00:00+01:00  15748.169922  15614.429688  15345.000000   \n2023-11-17 00:00:00+01:00  15786.610352  15748.169922  15614.429688   \n\n                               lag_ret4      lag_ret5  \nDate                                                   \n1988-01-08 00:00:00+01:00    956.489990   1005.190002  \n1988-01-11 00:00:00+01:00    996.099976    956.489990  \n1988-01-12 00:00:00+01:00   1006.010010    996.099976  \n1988-01-13 00:00:00+01:00   1014.469971   1006.010010  \n1988-01-14 00:00:00+01:00   1026.689941   1014.469971  \n...                                 ...           ...  \n2023-11-13 00:00:00+01:00  15152.639648  15135.969727  \n2023-11-14 00:00:00+01:00  15229.599609  15152.639648  \n2023-11-15 00:00:00+01:00  15352.540039  15229.599609  \n2023-11-16 00:00:00+01:00  15234.389648  15352.540039  \n2023-11-17 00:00:00+01:00  15345.000000  15234.389648  \n\n[9069 rows x 17 columns]",
      "text/html": "<div>\n<style scoped>\n    .dataframe tbody tr th:only-of-type {\n        vertical-align: middle;\n    }\n\n    .dataframe tbody tr th {\n        vertical-align: top;\n    }\n\n    .dataframe thead th {\n        text-align: right;\n    }\n</style>\n<table border=\"1\" class=\"dataframe\">\n  <thead>\n    <tr style=\"text-align: right;\">\n      <th></th>\n      <th>Open</th>\n      <th>High</th>\n      <th>Low</th>\n      <th>Close</th>\n      <th>Volume</th>\n      <th>Dividends</th>\n      <th>Stock Splits</th>\n      <th>ret1</th>\n      <th>ret2</th>\n      <th>ret3</th>\n      <th>ret4</th>\n      <th>ret5</th>\n      <th>lag_ret1</th>\n      <th>lag_ret2</th>\n      <th>lag_ret3</th>\n      <th>lag_ret4</th>\n      <th>lag_ret5</th>\n    </tr>\n    <tr>\n      <th>Date</th>\n      <th></th>\n      <th></th>\n      <th></th>\n      <th></th>\n      <th></th>\n      <th></th>\n      <th></th>\n      <th></th>\n      <th></th>\n      <th></th>\n      <th></th>\n      <th></th>\n      <th></th>\n      <th></th>\n      <th></th>\n      <th></th>\n      <th></th>\n    </tr>\n  </thead>\n  <tbody>\n    <tr>\n      <th>1988-01-08 00:00:00+01:00</th>\n      <td>1026.689941</td>\n      <td>1026.689941</td>\n      <td>1026.689941</td>\n      <td>1026.689941</td>\n      <td>0</td>\n      <td>0.0</td>\n      <td>0.0</td>\n      <td>1.197370</td>\n      <td>2.034796</td>\n      <td>3.024763</td>\n      <td>7.082493</td>\n      <td>2.116340</td>\n      <td>1014.469971</td>\n      <td>1006.010010</td>\n      <td>996.099976</td>\n      <td>956.489990</td>\n      <td>1005.190002</td>\n    </tr>\n    <tr>\n      <th>1988-01-11 00:00:00+01:00</th>\n      <td>987.520020</td>\n      <td>987.520020</td>\n      <td>987.520020</td>\n      <td>987.520020</td>\n      <td>0</td>\n      <td>0.0</td>\n      <td>0.0</td>\n      <td>-3.889849</td>\n      <td>-2.692479</td>\n      <td>-1.855053</td>\n      <td>-0.865086</td>\n      <td>3.192645</td>\n      <td>1026.689941</td>\n      <td>1014.469971</td>\n      <td>1006.010010</td>\n      <td>996.099976</td>\n      <td>956.489990</td>\n    </tr>\n    <tr>\n      <th>1988-01-12 00:00:00+01:00</th>\n      <td>986.890015</td>\n      <td>986.890015</td>\n      <td>986.890015</td>\n      <td>986.890015</td>\n      <td>0</td>\n      <td>0.0</td>\n      <td>0.0</td>\n      <td>-0.063817</td>\n      <td>-3.953666</td>\n      <td>-2.756296</td>\n      <td>-1.918870</td>\n      <td>-0.928903</td>\n      <td>987.520020</td>\n      <td>1026.689941</td>\n      <td>1014.469971</td>\n      <td>1006.010010</td>\n      <td>996.099976</td>\n    </tr>\n    <tr>\n      <th>1988-01-13 00:00:00+01:00</th>\n      <td>965.770020</td>\n      <td>965.770020</td>\n      <td>965.770020</td>\n      <td>965.770020</td>\n      <td>0</td>\n      <td>0.0</td>\n      <td>0.0</td>\n      <td>-2.163287</td>\n      <td>-2.227104</td>\n      <td>-6.116953</td>\n      <td>-4.919583</td>\n      <td>-4.082157</td>\n      <td>986.890015</td>\n      <td>987.520020</td>\n      <td>1026.689941</td>\n      <td>1014.469971</td>\n      <td>1006.010010</td>\n    </tr>\n    <tr>\n      <th>1988-01-14 00:00:00+01:00</th>\n      <td>974.460022</td>\n      <td>974.460022</td>\n      <td>974.460022</td>\n      <td>974.460022</td>\n      <td>0</td>\n      <td>0.0</td>\n      <td>0.0</td>\n      <td>0.895776</td>\n      <td>-1.267511</td>\n      <td>-1.331328</td>\n      <td>-5.221176</td>\n      <td>-4.023806</td>\n      <td>965.770020</td>\n      <td>986.890015</td>\n      <td>987.520020</td>\n      <td>1026.689941</td>\n      <td>1014.469971</td>\n    </tr>\n    <tr>\n      <th>...</th>\n      <td>...</td>\n      <td>...</td>\n      <td>...</td>\n      <td>...</td>\n      <td>...</td>\n      <td>...</td>\n      <td>...</td>\n      <td>...</td>\n      <td>...</td>\n      <td>...</td>\n      <td>...</td>\n      <td>...</td>\n      <td>...</td>\n      <td>...</td>\n      <td>...</td>\n      <td>...</td>\n      <td>...</td>\n    </tr>\n    <tr>\n      <th>2023-11-13 00:00:00+01:00</th>\n      <td>15285.120117</td>\n      <td>15346.790039</td>\n      <td>15252.269531</td>\n      <td>15345.000000</td>\n      <td>65170400</td>\n      <td>0.0</td>\n      <td>0.0</td>\n      <td>0.723434</td>\n      <td>-0.049125</td>\n      <td>0.754881</td>\n      <td>1.261494</td>\n      <td>1.371568</td>\n      <td>15234.389648</td>\n      <td>15352.540039</td>\n      <td>15229.599609</td>\n      <td>15152.639648</td>\n      <td>15135.969727</td>\n    </tr>\n    <tr>\n      <th>2023-11-14 00:00:00+01:00</th>\n      <td>15358.589844</td>\n      <td>15632.440430</td>\n      <td>15337.599609</td>\n      <td>15614.429688</td>\n      <td>98894400</td>\n      <td>0.0</td>\n      <td>0.0</td>\n      <td>1.740578</td>\n      <td>2.464012</td>\n      <td>1.691453</td>\n      <td>2.495459</td>\n      <td>3.002072</td>\n      <td>15345.000000</td>\n      <td>15234.389648</td>\n      <td>15352.540039</td>\n      <td>15229.599609</td>\n      <td>15152.639648</td>\n    </tr>\n    <tr>\n      <th>2023-11-15 00:00:00+01:00</th>\n      <td>15631.669922</td>\n      <td>15759.839844</td>\n      <td>15628.190430</td>\n      <td>15748.169922</td>\n      <td>91670700</td>\n      <td>0.0</td>\n      <td>0.0</td>\n      <td>0.852870</td>\n      <td>2.593448</td>\n      <td>3.316881</td>\n      <td>2.544323</td>\n      <td>3.348329</td>\n      <td>15614.429688</td>\n      <td>15345.000000</td>\n      <td>15234.389648</td>\n      <td>15352.540039</td>\n      <td>15229.599609</td>\n    </tr>\n    <tr>\n      <th>2023-11-16 00:00:00+01:00</th>\n      <td>15806.910156</td>\n      <td>15862.089844</td>\n      <td>15783.509766</td>\n      <td>15786.610352</td>\n      <td>68438900</td>\n      <td>0.0</td>\n      <td>0.0</td>\n      <td>0.243797</td>\n      <td>1.096667</td>\n      <td>2.837245</td>\n      <td>3.560679</td>\n      <td>2.788120</td>\n      <td>15748.169922</td>\n      <td>15614.429688</td>\n      <td>15345.000000</td>\n      <td>15234.389648</td>\n      <td>15352.540039</td>\n    </tr>\n    <tr>\n      <th>2023-11-17 00:00:00+01:00</th>\n      <td>15828.780273</td>\n      <td>15952.450195</td>\n      <td>15826.669922</td>\n      <td>15919.160156</td>\n      <td>81125800</td>\n      <td>0.0</td>\n      <td>0.0</td>\n      <td>0.836129</td>\n      <td>1.079926</td>\n      <td>1.932796</td>\n      <td>3.673374</td>\n      <td>4.396808</td>\n      <td>15786.610352</td>\n      <td>15748.169922</td>\n      <td>15614.429688</td>\n      <td>15345.000000</td>\n      <td>15234.389648</td>\n    </tr>\n  </tbody>\n</table>\n<p>9069 rows × 17 columns</p>\n</div>"
     },
     "execution_count": 5,
     "metadata": {},
     "output_type": "execute_result"
    }
   ],
   "source": [
    "hist= get_DAX.get()\n",
    "hist"
   ],
   "metadata": {
    "collapsed": false,
    "ExecuteTime": {
     "end_time": "2023-11-18T16:51:49.407585Z",
     "start_time": "2023-11-18T16:51:49.104142Z"
    }
   },
   "id": "3dad0a4678892568"
  },
  {
   "cell_type": "code",
   "execution_count": 6,
   "id": "bf3ae619-5bdc-4c66-8137-4daa880ce9c7",
   "metadata": {
    "ExecuteTime": {
     "end_time": "2023-11-18T16:51:49.412499Z",
     "start_time": "2023-11-18T16:51:49.407236Z"
    }
   },
   "outputs": [],
   "source": [
    "#quantile levels\n",
    "tau = [.025, .25, .5, .75, .975]"
   ]
  },
  {
   "cell_type": "code",
   "execution_count": 7,
   "id": "8e5ef128-ba07-497d-ab2b-1c7599e86bd0",
   "metadata": {
    "ExecuteTime": {
     "end_time": "2023-11-18T16:51:49.413452Z",
     "start_time": "2023-11-18T16:51:49.410683Z"
    }
   },
   "outputs": [],
   "source": [
    "#define prediction array\n",
    "#cols are quantile levels, rows are horizons\n",
    "pred_baseline = np.zeros((5,5))"
   ]
  },
  {
   "cell_type": "code",
   "execution_count": 8,
   "id": "6033e162-aecf-4e8c-a143-28446cffab0f",
   "metadata": {
    "ExecuteTime": {
     "end_time": "2023-11-18T16:51:49.419703Z",
     "start_time": "2023-11-18T16:51:49.414443Z"
    }
   },
   "outputs": [],
   "source": [
    "last_t = 1000\n",
    "\n",
    "for i in range(5):\n",
    "    ret_str = \"ret\"+str(i+1)\n",
    "    \n",
    "    pred_baseline[i,:] = np.quantile(hist[ret_str].iloc[-last_t:], q=tau)"
   ]
  },
  {
   "cell_type": "markdown",
   "id": "a7c1e0fa-8b06-4233-86b0-09d2f8e589e3",
   "metadata": {
    "ExecuteTime": {
     "end_time": "2023-11-18T16:01:54.623626Z",
     "start_time": "2023-11-18T16:01:54.586967Z"
    }
   },
   "source": [
    "Visualize the results"
   ]
  },
  {
   "cell_type": "code",
   "execution_count": 9,
   "id": "2df653ed-170c-4a79-9c2e-04002faf0965",
   "metadata": {
    "ExecuteTime": {
     "end_time": "2023-11-18T16:51:49.562274Z",
     "start_time": "2023-11-18T16:51:49.421726Z"
    }
   },
   "outputs": [
    {
     "data": {
      "text/plain": "<Figure size 640x480 with 1 Axes>",
      "image/png": "[encoded data removed]"
     },
     "metadata": {},
     "output_type": "display_data"
    }
   ],
   "source": [
    "x = np.arange(5)+1\n",
    "_ = plt.plot(x,pred_baseline, ls=\"\", marker=\"o\", c=\"black\")\n",
    "_ = plt.xticks(x, x)\n",
    "_ = plt.plot((x,x),(pred_baseline[:,0], pred_baseline[:,-1]),c='black')"
   ]
  },
  {
   "cell_type": "markdown",
   "id": "b4bc6e8b-1537-4bc7-8941-7d6ecc7fffb8",
   "metadata": {
    "ExecuteTime": {
     "end_time": "2023-11-18T16:01:54.624119Z",
     "start_time": "2023-11-18T16:01:54.599888Z"
    }
   },
   "source": [
    "Create Submission DataFrame"
   ]
  },
  {
   "cell_type": "code",
   "execution_count": 10,
   "id": "c316a028-c4bf-459b-97e1-d65a38bdc4aa",
   "metadata": {
    "ExecuteTime": {
     "end_time": "2023-11-18T16:51:49.566223Z",
     "start_time": "2023-11-18T16:51:49.554363Z"
    }
   },
   "outputs": [
    {
     "data": {
      "text/plain": "  target horizon    q0.025     q0.25      q0.5     q0.75    q0.975\n0    DAX   1 day -3.321265 -0.551383  0.060969  0.720873  2.719772\n1    DAX   2 day -4.087895 -0.823250  0.072355  0.987420  3.570492\n2    DAX   5 day -5.259161 -0.917655  0.161798  1.224285  4.628697\n3    DAX   6 day -6.282629 -1.044070  0.186070  1.440815  5.367396\n4    DAX   7 day -6.735742 -1.091646  0.326190  1.573729  6.259934",
      "text/html": "<div>\n<style scoped>\n    .dataframe tbody tr th:only-of-type {\n        vertical-align: middle;\n    }\n\n    .dataframe tbody tr th {\n        vertical-align: top;\n    }\n\n    .dataframe thead th {\n        text-align: right;\n    }\n</style>\n<table border=\"1\" class=\"dataframe\">\n  <thead>\n    <tr style=\"text-align: right;\">\n      <th></th>\n      <th>target</th>\n      <th>horizon</th>\n      <th>q0.025</th>\n      <th>q0.25</th>\n      <th>q0.5</th>\n      <th>q0.75</th>\n      <th>q0.975</th>\n    </tr>\n  </thead>\n  <tbody>\n    <tr>\n      <th>0</th>\n      <td>DAX</td>\n      <td>1 day</td>\n      <td>-3.321265</td>\n      <td>-0.551383</td>\n      <td>0.060969</td>\n      <td>0.720873</td>\n      <td>2.719772</td>\n    </tr>\n    <tr>\n      <th>1</th>\n      <td>DAX</td>\n      <td>2 day</td>\n      <td>-4.087895</td>\n      <td>-0.823250</td>\n      <td>0.072355</td>\n      <td>0.987420</td>\n      <td>3.570492</td>\n    </tr>\n    <tr>\n      <th>2</th>\n      <td>DAX</td>\n      <td>5 day</td>\n      <td>-5.259161</td>\n      <td>-0.917655</td>\n      <td>0.161798</td>\n      <td>1.224285</td>\n      <td>4.628697</td>\n    </tr>\n    <tr>\n      <th>3</th>\n      <td>DAX</td>\n      <td>6 day</td>\n      <td>-6.282629</td>\n      <td>-1.044070</td>\n      <td>0.186070</td>\n      <td>1.440815</td>\n      <td>5.367396</td>\n    </tr>\n    <tr>\n      <th>4</th>\n      <td>DAX</td>\n      <td>7 day</td>\n      <td>-6.735742</td>\n      <td>-1.091646</td>\n      <td>0.326190</td>\n      <td>1.573729</td>\n      <td>6.259934</td>\n    </tr>\n  </tbody>\n</table>\n</div>"
     },
     "execution_count": 10,
     "metadata": {},
     "output_type": "execute_result"
    }
   ],
   "source": [
    "df_sub = pd.DataFrame({\n",
    "    \"target\": \"DAX\",\n",
    "    \"horizon\": [str(i) + \" day\" for i in (1,2,5,6,7)],\n",
    "    \"q0.025\": pred_baseline[:,0],\n",
    "    \"q0.25\": pred_baseline[:,1],\n",
    "    \"q0.5\": pred_baseline[:,2],\n",
    "    \"q0.75\": pred_baseline[:,3],\n",
    "    \"q0.975\": pred_baseline[:,4]})\n",
    "df_sub"
   ]
  },
  {
   "cell_type": "code",
   "execution_count": 11,
   "id": "0ee8c6fe-43c9-4a71-b8f0-300a382f59c6",
   "metadata": {
    "ExecuteTime": {
     "end_time": "2023-11-18T16:51:49.617394Z",
     "start_time": "2023-11-18T16:51:49.566891Z"
    }
   },
   "outputs": [],
   "source": [
    "from datetime import datetime\n",
    "date_str = datetime.today().strftime('%Y%m%d')"
   ]
  },
  {
   "cell_type": "code",
   "execution_count": 12,
   "id": "09b49896-ebb0-4649-9443-f794e824388d",
   "metadata": {
    "ExecuteTime": {
     "end_time": "2023-11-18T16:51:49.617692Z",
     "start_time": "2023-11-18T16:51:49.572468Z"
    }
   },
   "outputs": [],
   "source": [
    "#need to change this\n",
    "PATH = \"./\"\n",
    "\n",
    "df_sub.to_csv(PATH+\"/\"+date_str+\"DAX_benchmark.csv\")"
   ]
  },
  {
   "cell_type": "code",
   "execution_count": 15,
   "id": "dfe4ef7a-289d-4d45-99a3-c693e4f26654",
   "metadata": {
    "ExecuteTime": {
     "end_time": "2023-11-18T16:58:51.947117Z",
     "start_time": "2023-11-18T16:58:51.938887Z"
    }
   },
   "outputs": [],
   "source": [
    "from models.DAX import DAX_baseline"
   ]
  },
  {
   "cell_type": "code",
   "execution_count": 16,
   "outputs": [
    {
     "ename": "AttributeError",
     "evalue": "module 'models.DAX.DAX_baseline' has no attribute 'Dax_baseline'",
     "output_type": "error",
     "traceback": [
      "\u001B[0;31m---------------------------------------------------------------------------\u001B[0m",
      "\u001B[0;31mAttributeError\u001B[0m                            Traceback (most recent call last)",
      "Cell \u001B[0;32mIn[16], line 1\u001B[0m\n\u001B[0;32m----> 1\u001B[0m df\u001B[38;5;241m=\u001B[39m\u001B[43mDAX_baseline\u001B[49m\u001B[38;5;241;43m.\u001B[39;49m\u001B[43mDax_baseline\u001B[49m(daxdata\u001B[38;5;241m=\u001B[39mhist)\n",
      "\u001B[0;31mAttributeError\u001B[0m: module 'models.DAX.DAX_baseline' has no attribute 'Dax_baseline'"
     ]
    }
   ],
   "source": [
    "df=DAX_baseline.Dax_baseline(daxdata=hist)"
   ],
   "metadata": {
    "collapsed": false,
    "ExecuteTime": {
     "end_time": "2023-11-18T16:58:53.129696Z",
     "start_time": "2023-11-18T16:58:53.117915Z"
    }
   },
   "id": "16a5b9b7916f4b84"
  },
  {
   "cell_type": "code",
   "execution_count": null,
   "outputs": [],
   "source": [],
   "metadata": {
    "collapsed": false
   },
   "id": "79e4bdcaf77c3d8b"
  }
 ],
 "metadata": {
  "kernelspec": {
   "display_name": "Python 3 (ipykernel)",
   "language": "python",
   "name": "python3"
  },
  "language_info": {
   "codemirror_mode": {
    "name": "ipython",
    "version": 3
   },
   "file_extension": ".py",
   "mimetype": "text/x-python",
   "name": "python",
   "nbconvert_exporter": "python",
   "pygments_lexer": "ipython3",
   "version": "3.10.13"
  }
 },
 "nbformat": 4,
 "nbformat_minor": 5
}
