{
 "cells": [
  {
   "cell_type": "markdown",
   "source": [
    "# Encoder Decoder LSTM for Quantile Regression"
   ],
   "metadata": {
    "collapsed": false
   },
   "id": "2fd5e721b275e097"
  },
  {
   "cell_type": "markdown",
   "source": [
    "https://arxiv.org/pdf/2106.01271.pdf"
   ],
   "metadata": {
    "collapsed": false
   },
   "id": "a01d4d4006c197ee"
  },
  {
   "cell_type": "code",
   "execution_count": 1,
   "id": "initial_id",
   "metadata": {
    "collapsed": true,
    "ExecuteTime": {
     "end_time": "2024-01-06T14:55:21.252351Z",
     "start_time": "2024-01-06T14:55:17.130088Z"
    }
   },
   "outputs": [],
   "source": [
    "from models.DAX import DAX_quantile_regression, DAX_baseline\n",
    "from models.energy import energy_quantile_regression\n",
    "from functions import get_energy, get_DAX, merge_submissions, check_submission\n",
    "from functions.prepare_data import split_time\n",
    "from functions.evaluation import evaluate_horizon\n",
    "from tqdm import tqdm\n",
    "from functions import evaluate_dax\n",
    "from functions import naive_ensemble\n",
    "import pandas as pd\n",
    "#import minmaxscaler\n",
    "from sklearn.preprocessing import MinMaxScaler\n",
    "from datetime import datetime, date, timedelta\n",
    "import tensorflow.keras.backend as K\n",
    "\n"
   ]
  },
  {
   "cell_type": "code",
   "execution_count": 2,
   "outputs": [
    {
     "name": "stderr",
     "output_type": "stream",
     "text": [
      "  0%|          | 0/263 [00:00<?, ?it/s]/Users/stephantimpe/PycharmProjects/probabilistic-forecasting-challenge/functions/get_energy.py:28: FutureWarning: The behavior of DataFrame concatenation with empty or all-NA entries is deprecated. In a future version, this will no longer exclude empty or all-NA columns when determining the result dtypes. To retain the old behavior, exclude the relevant entries before the concat operation.\n",
      "  energydata = pd.concat([energydata, pd.DataFrame(rawdata, columns=col_names)])\n",
      "100%|██████████| 263/263 [00:26<00:00,  9.97it/s]\n"
     ]
    },
    {
     "name": "stdout",
     "output_type": "stream",
     "text": [
      "                       gesamt  weekday\n",
      "date_time                             \n",
      "2018-12-24 00:00:00  42.02925        0\n",
      "2018-12-24 01:00:00  39.61025        0\n",
      "2018-12-24 02:00:00  39.13875        0\n",
      "2018-12-24 03:00:00  39.42100        0\n",
      "2018-12-24 04:00:00  40.74775        0\n",
      "(35321, 4) (35321, 1) (8831, 4) (8831, 1)\n"
     ]
    }
   ],
   "source": [
    "import pandas as pd\n",
    "import numpy as np\n",
    "from sklearn.preprocessing import StandardScaler\n",
    "from keras.models import Sequential\n",
    "from keras.layers import LSTM, Dense\n",
    "\n",
    "# Assuming energydata is loaded from a function 'get_energy.get()'\n",
    "energydata = get_energy.get()\n",
    "\n",
    "# Creating a DataFrame\n",
    "df = pd.DataFrame(energydata)\n",
    "\n",
    "# Display the first few rows of the DataFrame\n",
    "print(df.head())\n",
    "\n",
    "# Ensure 'date_time' is the DataFrame index for extracting temporal features\n",
    "if 'date_time' in df.columns:\n",
    "    df.set_index('date_time', inplace=True)\n",
    "\n",
    "# Extracting temporal features\n",
    "df['hour'] = df.index.hour\n",
    "df['day'] = df.index.day\n",
    "df['month'] = df.index.month\n",
    "df['week'] = df.index.weekday  # Weekday as a feature\n",
    "\n",
    "# Add other temporal features if relevant\n",
    "\n",
    "# Splitting the data into train and test sets chronologically\n",
    "train_size = int(len(df) * 0.8)\n",
    "train_df, test_df = df[:train_size], df[train_size:]\n",
    "\n",
    "# Selecting the features and target for training\n",
    "feature_columns = ['hour', 'day', 'month', 'week']  # Add other columns if needed\n",
    "train_X = train_df[feature_columns].values\n",
    "train_y = train_df['gesamt'].values.reshape(-1, 1)\n",
    "test_X = test_df[feature_columns].values\n",
    "test_y = test_df['gesamt'].values.reshape(-1, 1)\n",
    "\n",
    "# Shapes of the training and testing data\n",
    "print(train_X.shape, train_y.shape, test_X.shape, test_y.shape)\n",
    "\n",
    "# Reshaping input data for LSTM [samples, time steps, features]\n",
    "train_X_lstm = np.reshape(train_X, (train_X.shape[0], 1, train_X.shape[1]))\n",
    "test_X_lstm = np.reshape(test_X, (test_X.shape[0], 1, test_X.shape[1]))\n",
    "\n",
    "# Feature Scaling\n",
    "scaler = StandardScaler()\n",
    "\n",
    "# Reshape for scaling and then scale\n",
    "train_X_lstm_scaled = scaler.fit_transform(train_X_lstm.reshape(train_X_lstm.shape[0], -1))\n",
    "train_X_lstm_scaled = train_X_lstm_scaled.reshape(train_X_lstm.shape)\n",
    "\n",
    "# Prepare and scale the test data\n",
    "test_X_lstm_scaled = scaler.transform(test_X_lstm.reshape(test_X_lstm.shape[0], -1))\n",
    "test_X_lstm_scaled = test_X_lstm_scaled.reshape(-1, 1, train_X_lstm.shape[2])\n",
    "\n",
    "# Target Scaling\n",
    "scaler_y = StandardScaler()\n",
    "train_y_scaled = scaler_y.fit_transform(train_y)\n",
    "\n",
    "# Assuming test_y is also needed for performance evaluation\n",
    "test_y_scaled = scaler_y.transform(test_y)\n",
    "\n",
    "# Now, train_X_lstm_scaled, train_y_scaled, test_X_lstm_scaled, and test_y_scaled are ready for model training\n"
   ],
   "metadata": {
    "collapsed": false,
    "ExecuteTime": {
     "end_time": "2024-01-06T14:55:47.951821Z",
     "start_time": "2024-01-06T14:55:21.255820Z"
    }
   },
   "id": "77ba3b711e18a164"
  },
  {
   "cell_type": "code",
   "execution_count": null,
   "outputs": [],
   "source": [],
   "metadata": {
    "collapsed": false
   },
   "id": "ad3da7f377501339"
  },
  {
   "cell_type": "code",
   "execution_count": 32,
   "outputs": [
    {
     "name": "stdout",
     "output_type": "stream",
     "text": [
      "Input shape: (None, 1, 4)\n",
      "Encoder output shape: (None, 100)\n",
      "State H shape: (None, 100)\n",
      "State C shape: (None, 100)\n"
     ]
    },
    {
     "name": "stderr",
     "output_type": "stream",
     "text": [
      "2024-01-06 17:02:47.523564: I tensorflow/core/common_runtime/executor.cc:1197] [/device:CPU:0] (DEBUG INFO) Executor start aborting (this does not indicate an error and you can ignore this message): INVALID_ARGUMENT: You must feed a value for placeholder tensor 'gradients/split_2_grad/concat/split_2/split_dim' with dtype int32\n",
      "\t [[{{node gradients/split_2_grad/concat/split_2/split_dim}}]]\n",
      "2024-01-06 17:02:47.524856: I tensorflow/core/common_runtime/executor.cc:1197] [/device:CPU:0] (DEBUG INFO) Executor start aborting (this does not indicate an error and you can ignore this message): INVALID_ARGUMENT: You must feed a value for placeholder tensor 'gradients/split_grad/concat/split/split_dim' with dtype int32\n",
      "\t [[{{node gradients/split_grad/concat/split/split_dim}}]]\n",
      "2024-01-06 17:02:47.525694: I tensorflow/core/common_runtime/executor.cc:1197] [/device:CPU:0] (DEBUG INFO) Executor start aborting (this does not indicate an error and you can ignore this message): INVALID_ARGUMENT: You must feed a value for placeholder tensor 'gradients/split_1_grad/concat/split_1/split_dim' with dtype int32\n",
      "\t [[{{node gradients/split_1_grad/concat/split_1/split_dim}}]]\n"
     ]
    }
   ],
   "source": [
    "from keras.layers import Input, LSTM, RepeatVector\n",
    "from keras.models import Model\n",
    "\n",
    "# Define the input sequence\n",
    "input_seq = Input(shape=(train_X_lstm_scaled.shape[1], train_X_lstm_scaled.shape[2]))\n",
    "print(\"Input shape:\", input_seq.shape)\n",
    "# Encoder LSTM\n",
    "encoder_out, state_h, state_c = LSTM(100, return_state=True)(input_seq)\n",
    "print(\"Encoder output shape:\", encoder_out.shape)\n",
    "print(\"State H shape:\", state_h.shape)\n",
    "print(\"State C shape:\", state_c.shape)\n",
    "encoder_states = [state_h, state_c]\n"
   ],
   "metadata": {
    "collapsed": false,
    "ExecuteTime": {
     "end_time": "2024-01-06T16:02:47.538497Z",
     "start_time": "2024-01-06T16:02:47.363644Z"
    }
   },
   "id": "3e081f405b3880f8"
  },
  {
   "cell_type": "markdown",
   "source": [
    "Decoder"
   ],
   "metadata": {
    "collapsed": false
   },
   "id": "bfccf6cbfe5cb89f"
  },
  {
   "cell_type": "code",
   "execution_count": 33,
   "outputs": [
    {
     "name": "stderr",
     "output_type": "stream",
     "text": [
      "2024-01-06 17:02:48.459356: I tensorflow/core/common_runtime/executor.cc:1197] [/device:CPU:0] (DEBUG INFO) Executor start aborting (this does not indicate an error and you can ignore this message): INVALID_ARGUMENT: You must feed a value for placeholder tensor 'gradients/split_2_grad/concat/split_2/split_dim' with dtype int32\n",
      "\t [[{{node gradients/split_2_grad/concat/split_2/split_dim}}]]\n",
      "2024-01-06 17:02:48.459746: I tensorflow/core/common_runtime/executor.cc:1197] [/device:CPU:0] (DEBUG INFO) Executor start aborting (this does not indicate an error and you can ignore this message): INVALID_ARGUMENT: You must feed a value for placeholder tensor 'gradients/split_grad/concat/split/split_dim' with dtype int32\n",
      "\t [[{{node gradients/split_grad/concat/split/split_dim}}]]\n",
      "2024-01-06 17:02:48.460369: I tensorflow/core/common_runtime/executor.cc:1197] [/device:CPU:0] (DEBUG INFO) Executor start aborting (this does not indicate an error and you can ignore this message): INVALID_ARGUMENT: You must feed a value for placeholder tensor 'gradients/split_1_grad/concat/split_1/split_dim' with dtype int32\n",
      "\t [[{{node gradients/split_1_grad/concat/split_1/split_dim}}]]\n"
     ]
    }
   ],
   "source": [
    "from keras.layers import Dense, TimeDistributed\n",
    "\n",
    "# Set the number of time steps to predict\n",
    "decoder_steps = train_X_lstm_scaled.shape[1]\n",
    "\n",
    "# Decoder LSTM\n",
    "decoder_lstm = LSTM(100, return_sequences=True)\n",
    "decoder_out = decoder_lstm(RepeatVector(decoder_steps)(encoder_out), initial_state=encoder_states)\n",
    "\n",
    "# Output layer\n",
    "decoder_dense = TimeDistributed(Dense(5))  # Change 5 to the number of quantiles\n",
    "decoder_outputs = decoder_dense(decoder_out)\n",
    "\n",
    "# Define the model\n",
    "model = Model(inputs=input_seq, outputs=decoder_outputs)\n"
   ],
   "metadata": {
    "collapsed": false,
    "ExecuteTime": {
     "end_time": "2024-01-06T16:02:48.477909Z",
     "start_time": "2024-01-06T16:02:48.387711Z"
    }
   },
   "id": "7ea41d040351f557"
  },
  {
   "cell_type": "markdown",
   "source": [
    "Quantile Loss Function"
   ],
   "metadata": {
    "collapsed": false
   },
   "id": "570282e87ed53438"
  },
  {
   "cell_type": "code",
   "execution_count": 73,
   "outputs": [],
   "source": [
    "def quantile_loss(quantiles, y_true, y_pred):\n",
    "    e = y_true - y_pred\n",
    "    losses = []\n",
    "    for q in quantiles:\n",
    "        loss = K.maximum(q * (e), (q - 1) * (e))\n",
    "        losses.append(K.mean(loss, axis=-1))\n",
    "    return K.mean(K.stack(losses, axis=-1), axis=-1)\n",
    "\n"
   ],
   "metadata": {
    "collapsed": false,
    "ExecuteTime": {
     "end_time": "2024-01-06T16:06:26.862571Z",
     "start_time": "2024-01-06T16:06:26.846726Z"
    }
   },
   "id": "6c9c6192e7950b26"
  },
  {
   "cell_type": "markdown",
   "source": [
    "Compile"
   ],
   "metadata": {
    "collapsed": false
   },
   "id": "351a35372dcb9d36"
  },
  {
   "cell_type": "code",
   "execution_count": 74,
   "outputs": [],
   "source": [
    "quantiles = [0.025, 0.25, 0.5, 0.75, 0.975]\n",
    "model.compile(optimizer='adam', loss=lambda y_true, y_pred: quantile_loss(quantiles, y_true, y_pred))\n"
   ],
   "metadata": {
    "collapsed": false,
    "ExecuteTime": {
     "end_time": "2024-01-06T16:06:27.498924Z",
     "start_time": "2024-01-06T16:06:27.482678Z"
    }
   },
   "id": "ede9caed763347f7"
  },
  {
   "cell_type": "markdown",
   "source": [
    "Train"
   ],
   "metadata": {
    "collapsed": false
   },
   "id": "ac03a71e05126717"
  },
  {
   "cell_type": "code",
   "execution_count": 75,
   "outputs": [
    {
     "name": "stdout",
     "output_type": "stream",
     "text": [
      "Epoch 1/10\n"
     ]
    },
    {
     "name": "stderr",
     "output_type": "stream",
     "text": [
      "2024-01-06 17:06:28.342299: I tensorflow/core/common_runtime/executor.cc:1197] [/device:CPU:0] (DEBUG INFO) Executor start aborting (this does not indicate an error and you can ignore this message): INVALID_ARGUMENT: You must feed a value for placeholder tensor 'gradients/split_2_grad/concat/split_2/split_dim' with dtype int32\n",
      "\t [[{{node gradients/split_2_grad/concat/split_2/split_dim}}]]\n",
      "2024-01-06 17:06:28.343116: I tensorflow/core/common_runtime/executor.cc:1197] [/device:CPU:0] (DEBUG INFO) Executor start aborting (this does not indicate an error and you can ignore this message): INVALID_ARGUMENT: You must feed a value for placeholder tensor 'gradients/split_grad/concat/split/split_dim' with dtype int32\n",
      "\t [[{{node gradients/split_grad/concat/split/split_dim}}]]\n",
      "2024-01-06 17:06:28.345045: I tensorflow/core/common_runtime/executor.cc:1197] [/device:CPU:0] (DEBUG INFO) Executor start aborting (this does not indicate an error and you can ignore this message): INVALID_ARGUMENT: You must feed a value for placeholder tensor 'gradients/split_1_grad/concat/split_1/split_dim' with dtype int32\n",
      "\t [[{{node gradients/split_1_grad/concat/split_1/split_dim}}]]\n",
      "2024-01-06 17:06:28.413194: I tensorflow/core/common_runtime/executor.cc:1197] [/device:CPU:0] (DEBUG INFO) Executor start aborting (this does not indicate an error and you can ignore this message): INVALID_ARGUMENT: You must feed a value for placeholder tensor 'gradients/split_2_grad/concat/split_2/split_dim' with dtype int32\n",
      "\t [[{{node gradients/split_2_grad/concat/split_2/split_dim}}]]\n",
      "2024-01-06 17:06:28.413670: I tensorflow/core/common_runtime/executor.cc:1197] [/device:CPU:0] (DEBUG INFO) Executor start aborting (this does not indicate an error and you can ignore this message): INVALID_ARGUMENT: You must feed a value for placeholder tensor 'gradients/split_grad/concat/split/split_dim' with dtype int32\n",
      "\t [[{{node gradients/split_grad/concat/split/split_dim}}]]\n",
      "2024-01-06 17:06:28.414086: I tensorflow/core/common_runtime/executor.cc:1197] [/device:CPU:0] (DEBUG INFO) Executor start aborting (this does not indicate an error and you can ignore this message): INVALID_ARGUMENT: You must feed a value for placeholder tensor 'gradients/split_1_grad/concat/split_1/split_dim' with dtype int32\n",
      "\t [[{{node gradients/split_1_grad/concat/split_1/split_dim}}]]\n",
      "2024-01-06 17:06:28.787984: I tensorflow/core/common_runtime/executor.cc:1197] [/device:CPU:0] (DEBUG INFO) Executor start aborting (this does not indicate an error and you can ignore this message): INVALID_ARGUMENT: You must feed a value for placeholder tensor 'gradients/split_2_grad/concat/split_2/split_dim' with dtype int32\n",
      "\t [[{{node gradients/split_2_grad/concat/split_2/split_dim}}]]\n",
      "2024-01-06 17:06:28.788945: I tensorflow/core/common_runtime/executor.cc:1197] [/device:CPU:0] (DEBUG INFO) Executor start aborting (this does not indicate an error and you can ignore this message): INVALID_ARGUMENT: You must feed a value for placeholder tensor 'gradients/split_grad/concat/split/split_dim' with dtype int32\n",
      "\t [[{{node gradients/split_grad/concat/split/split_dim}}]]\n",
      "2024-01-06 17:06:28.789587: I tensorflow/core/common_runtime/executor.cc:1197] [/device:CPU:0] (DEBUG INFO) Executor start aborting (this does not indicate an error and you can ignore this message): INVALID_ARGUMENT: You must feed a value for placeholder tensor 'gradients/split_1_grad/concat/split_1/split_dim' with dtype int32\n",
      "\t [[{{node gradients/split_1_grad/concat/split_1/split_dim}}]]\n",
      "2024-01-06 17:06:28.853397: I tensorflow/core/common_runtime/executor.cc:1197] [/device:CPU:0] (DEBUG INFO) Executor start aborting (this does not indicate an error and you can ignore this message): INVALID_ARGUMENT: You must feed a value for placeholder tensor 'gradients/split_2_grad/concat/split_2/split_dim' with dtype int32\n",
      "\t [[{{node gradients/split_2_grad/concat/split_2/split_dim}}]]\n",
      "2024-01-06 17:06:28.854049: I tensorflow/core/common_runtime/executor.cc:1197] [/device:CPU:0] (DEBUG INFO) Executor start aborting (this does not indicate an error and you can ignore this message): INVALID_ARGUMENT: You must feed a value for placeholder tensor 'gradients/split_grad/concat/split/split_dim' with dtype int32\n",
      "\t [[{{node gradients/split_grad/concat/split/split_dim}}]]\n",
      "2024-01-06 17:06:28.854514: I tensorflow/core/common_runtime/executor.cc:1197] [/device:CPU:0] (DEBUG INFO) Executor start aborting (this does not indicate an error and you can ignore this message): INVALID_ARGUMENT: You must feed a value for placeholder tensor 'gradients/split_1_grad/concat/split_1/split_dim' with dtype int32\n",
      "\t [[{{node gradients/split_1_grad/concat/split_1/split_dim}}]]\n",
      "2024-01-06 17:06:31.781231: I tensorflow/core/common_runtime/executor.cc:1197] [/device:CPU:0] (DEBUG INFO) Executor start aborting (this does not indicate an error and you can ignore this message): INVALID_ARGUMENT: You must feed a value for placeholder tensor 'gradients/split_2_grad/concat/split_2/split_dim' with dtype int32\n",
      "\t [[{{node gradients/split_2_grad/concat/split_2/split_dim}}]]\n",
      "2024-01-06 17:06:31.781657: I tensorflow/core/common_runtime/executor.cc:1197] [/device:CPU:0] (DEBUG INFO) Executor start aborting (this does not indicate an error and you can ignore this message): INVALID_ARGUMENT: You must feed a value for placeholder tensor 'gradients/split_grad/concat/split/split_dim' with dtype int32\n",
      "\t [[{{node gradients/split_grad/concat/split/split_dim}}]]\n",
      "2024-01-06 17:06:31.782795: I tensorflow/core/common_runtime/executor.cc:1197] [/device:CPU:0] (DEBUG INFO) Executor start aborting (this does not indicate an error and you can ignore this message): INVALID_ARGUMENT: You must feed a value for placeholder tensor 'gradients/split_1_grad/concat/split_1/split_dim' with dtype int32\n",
      "\t [[{{node gradients/split_1_grad/concat/split_1/split_dim}}]]\n",
      "2024-01-06 17:06:31.854342: I tensorflow/core/common_runtime/executor.cc:1197] [/device:CPU:0] (DEBUG INFO) Executor start aborting (this does not indicate an error and you can ignore this message): INVALID_ARGUMENT: You must feed a value for placeholder tensor 'gradients/split_2_grad/concat/split_2/split_dim' with dtype int32\n",
      "\t [[{{node gradients/split_2_grad/concat/split_2/split_dim}}]]\n",
      "2024-01-06 17:06:31.855011: I tensorflow/core/common_runtime/executor.cc:1197] [/device:CPU:0] (DEBUG INFO) Executor start aborting (this does not indicate an error and you can ignore this message): INVALID_ARGUMENT: You must feed a value for placeholder tensor 'gradients/split_grad/concat/split/split_dim' with dtype int32\n",
      "\t [[{{node gradients/split_grad/concat/split/split_dim}}]]\n",
      "2024-01-06 17:06:31.855554: I tensorflow/core/common_runtime/executor.cc:1197] [/device:CPU:0] (DEBUG INFO) Executor start aborting (this does not indicate an error and you can ignore this message): INVALID_ARGUMENT: You must feed a value for placeholder tensor 'gradients/split_1_grad/concat/split_1/split_dim' with dtype int32\n",
      "\t [[{{node gradients/split_1_grad/concat/split_1/split_dim}}]]\n"
     ]
    },
    {
     "name": "stdout",
     "output_type": "stream",
     "text": [
      "491/491 - 4s - loss: 2.1889 - val_loss: 2.0732 - 4s/epoch - 8ms/step\n",
      "Epoch 2/10\n",
      "491/491 - 3s - loss: 1.6974 - val_loss: 1.7099 - 3s/epoch - 6ms/step\n",
      "Epoch 3/10\n",
      "491/491 - 2s - loss: 1.4181 - val_loss: 1.5549 - 2s/epoch - 4ms/step\n",
      "Epoch 4/10\n",
      "491/491 - 2s - loss: 1.2212 - val_loss: 1.3602 - 2s/epoch - 4ms/step\n",
      "Epoch 5/10\n",
      "491/491 - 2s - loss: 1.0476 - val_loss: 1.1672 - 2s/epoch - 4ms/step\n",
      "Epoch 6/10\n",
      "491/491 - 2s - loss: 0.8925 - val_loss: 1.0061 - 2s/epoch - 4ms/step\n",
      "Epoch 7/10\n",
      "491/491 - 2s - loss: 0.7529 - val_loss: 0.8586 - 2s/epoch - 4ms/step\n",
      "Epoch 8/10\n",
      "491/491 - 2s - loss: 0.6330 - val_loss: 0.7297 - 2s/epoch - 4ms/step\n",
      "Epoch 9/10\n",
      "491/491 - 2s - loss: 0.5452 - val_loss: 0.6287 - 2s/epoch - 4ms/step\n",
      "Epoch 10/10\n",
      "491/491 - 2s - loss: 0.4883 - val_loss: 0.5585 - 2s/epoch - 4ms/step\n"
     ]
    }
   ],
   "source": [
    "history = model.fit(train_X_lstm_scaled, train_y_scaled, epochs=10, batch_size=72, \n",
    "                    validation_data=(test_X_lstm_scaled, test_y_scaled), verbose=2, shuffle=False)"
   ],
   "metadata": {
    "collapsed": false,
    "ExecuteTime": {
     "end_time": "2024-01-06T16:06:50.682209Z",
     "start_time": "2024-01-06T16:06:28.233271Z"
    }
   },
   "id": "84007b7444f6152b"
  },
  {
   "cell_type": "code",
   "execution_count": 76,
   "outputs": [
    {
     "name": "stdout",
     "output_type": "stream",
     "text": [
      "Test MSE: 0.5550987720489502\n"
     ]
    }
   ],
   "source": [
    "test_mse = model.evaluate(test_X_lstm_scaled, test_y_scaled, verbose=0)\n",
    "print(f\"Test MSE: {test_mse}\")"
   ],
   "metadata": {
    "collapsed": false,
    "ExecuteTime": {
     "end_time": "2024-01-06T16:06:50.887777Z",
     "start_time": "2024-01-06T16:06:50.685251Z"
    }
   },
   "id": "976d2384d1193749"
  },
  {
   "cell_type": "code",
   "execution_count": 77,
   "outputs": [
    {
     "data": {
      "text/plain": "<Figure size 640x480 with 1 Axes>",
      "image/png": "[encoded data removed]"
     },
     "metadata": {},
     "output_type": "display_data"
    }
   ],
   "source": [
    "# Plotting the training and validation loss\n",
    "import matplotlib.pyplot as plt\n",
    "\n",
    "plt.plot(history.history['loss'], label='Train Loss')\n",
    "plt.plot(history.history['val_loss'], label='Test Loss')\n",
    "plt.title('Model Loss')\n",
    "plt.ylabel('Loss')\n",
    "plt.xlabel('Epoch')\n",
    "plt.legend()\n",
    "plt.show()"
   ],
   "metadata": {
    "collapsed": false,
    "ExecuteTime": {
     "end_time": "2024-01-06T16:06:50.964476Z",
     "start_time": "2024-01-06T16:06:50.897800Z"
    }
   },
   "id": "16225784307ad601"
  },
  {
   "cell_type": "code",
   "execution_count": 78,
   "outputs": [
    {
     "name": "stdout",
     "output_type": "stream",
     "text": [
      "  1/276 [..............................] - ETA: 1:11"
     ]
    },
    {
     "name": "stderr",
     "output_type": "stream",
     "text": [
      "2024-01-06 17:06:51.064828: I tensorflow/core/common_runtime/executor.cc:1197] [/device:CPU:0] (DEBUG INFO) Executor start aborting (this does not indicate an error and you can ignore this message): INVALID_ARGUMENT: You must feed a value for placeholder tensor 'gradients/split_2_grad/concat/split_2/split_dim' with dtype int32\n",
      "\t [[{{node gradients/split_2_grad/concat/split_2/split_dim}}]]\n",
      "2024-01-06 17:06:51.065491: I tensorflow/core/common_runtime/executor.cc:1197] [/device:CPU:0] (DEBUG INFO) Executor start aborting (this does not indicate an error and you can ignore this message): INVALID_ARGUMENT: You must feed a value for placeholder tensor 'gradients/split_grad/concat/split/split_dim' with dtype int32\n",
      "\t [[{{node gradients/split_grad/concat/split/split_dim}}]]\n",
      "2024-01-06 17:06:51.065982: I tensorflow/core/common_runtime/executor.cc:1197] [/device:CPU:0] (DEBUG INFO) Executor start aborting (this does not indicate an error and you can ignore this message): INVALID_ARGUMENT: You must feed a value for placeholder tensor 'gradients/split_1_grad/concat/split_1/split_dim' with dtype int32\n",
      "\t [[{{node gradients/split_1_grad/concat/split_1/split_dim}}]]\n",
      "2024-01-06 17:06:51.131987: I tensorflow/core/common_runtime/executor.cc:1197] [/device:CPU:0] (DEBUG INFO) Executor start aborting (this does not indicate an error and you can ignore this message): INVALID_ARGUMENT: You must feed a value for placeholder tensor 'gradients/split_2_grad/concat/split_2/split_dim' with dtype int32\n",
      "\t [[{{node gradients/split_2_grad/concat/split_2/split_dim}}]]\n",
      "2024-01-06 17:06:51.132456: I tensorflow/core/common_runtime/executor.cc:1197] [/device:CPU:0] (DEBUG INFO) Executor start aborting (this does not indicate an error and you can ignore this message): INVALID_ARGUMENT: You must feed a value for placeholder tensor 'gradients/split_grad/concat/split/split_dim' with dtype int32\n",
      "\t [[{{node gradients/split_grad/concat/split/split_dim}}]]\n",
      "2024-01-06 17:06:51.132863: I tensorflow/core/common_runtime/executor.cc:1197] [/device:CPU:0] (DEBUG INFO) Executor start aborting (this does not indicate an error and you can ignore this message): INVALID_ARGUMENT: You must feed a value for placeholder tensor 'gradients/split_1_grad/concat/split_1/split_dim' with dtype int32\n",
      "\t [[{{node gradients/split_1_grad/concat/split_1/split_dim}}]]\n"
     ]
    },
    {
     "name": "stdout",
     "output_type": "stream",
     "text": [
      "276/276 [==============================] - 0s 657us/step\n"
     ]
    }
   ],
   "source": [
    "predictions = model.predict(test_X_lstm_scaled)\n"
   ],
   "metadata": {
    "collapsed": false,
    "ExecuteTime": {
     "end_time": "2024-01-06T16:06:51.451054Z",
     "start_time": "2024-01-06T16:06:50.966613Z"
    }
   },
   "id": "1a1cb885355f42f9"
  },
  {
   "cell_type": "code",
   "execution_count": 79,
   "outputs": [
    {
     "data": {
      "text/plain": "array([[[1.3633893 , 1.377544  , 1.3793373 , 1.3473651 , 1.3414671 ]],\n\n       [[0.63763547, 0.6493862 , 0.6493964 , 0.63159376, 0.62136114]],\n\n       [[0.25007853, 0.25793806, 0.2589992 , 0.24660087, 0.239488  ]],\n\n       ...,\n\n       [[0.7453604 , 0.7481214 , 0.74663854, 0.7471286 , 0.74899113]],\n\n       [[0.7491951 , 0.7519913 , 0.7505104 , 0.7509152 , 0.7527611 ]],\n\n       [[0.77030367, 0.7732966 , 0.7718232 , 0.7717642 , 0.7735113 ]]],\n      dtype=float32)"
     },
     "execution_count": 79,
     "metadata": {},
     "output_type": "execute_result"
    }
   ],
   "source": [
    "predictions"
   ],
   "metadata": {
    "collapsed": false,
    "ExecuteTime": {
     "end_time": "2024-01-06T16:06:51.452898Z",
     "start_time": "2024-01-06T16:06:51.449220Z"
    }
   },
   "id": "7719f27fe214405d"
  },
  {
   "cell_type": "code",
   "execution_count": 80,
   "outputs": [],
   "source": [
    "from datetime import datetime, timedelta\n",
    "\n",
    "def next_weekday(d, weekday):\n",
    "    days_ahead = weekday - d.weekday()\n",
    "    if days_ahead <= 0:  # Target day already happened this week\n",
    "        days_ahead += 7\n",
    "    return d + timedelta(days_ahead)\n",
    "\n",
    "# Define your horizons in hours\n",
    "horizons = [36, 40, 44, 60, 64, 68]\n",
    "\n",
    "# Calculate the next Thursday at 00:00\n",
    "now = datetime.now()\n",
    "next_thursday = next_weekday(now, 3)  # 3 represents Thursday\n",
    "next_thursday = next_thursday.replace(hour=0, minute=0, second=0, microsecond=0)\n",
    "\n",
    "# Calculate future timestamps\n",
    "future_timestamps = [next_thursday + timedelta(hours=h) for h in horizons]\n"
   ],
   "metadata": {
    "collapsed": false,
    "ExecuteTime": {
     "end_time": "2024-01-06T16:06:51.496111Z",
     "start_time": "2024-01-06T16:06:51.473448Z"
    }
   },
   "id": "cf748a363db6fe6e"
  },
  {
   "cell_type": "code",
   "execution_count": 81,
   "outputs": [],
   "source": [
    "\n",
    "\n",
    "# Assuming feature_columns, future_timestamps, df, and scaler are already defined\n",
    "\n",
    "# Function to extract features for a given timestamp\n",
    "def extract_features_for_timestamp(timestamp, df):\n",
    "    features = {\n",
    "        'hour': timestamp.hour,\n",
    "        'day': timestamp.day,\n",
    "        'month': timestamp.month,\n",
    "        'week': timestamp.weekday()\n",
    "    }\n",
    "    # If other features are needed, add them here\n",
    "\n",
    "    # Convert to format similar to your training data\n",
    "    feature_vector = [features[col] for col in feature_columns]\n",
    "    return feature_vector\n",
    "\n",
    "prediction_inputs = [extract_features_for_timestamp(ts, df) for ts in future_timestamps]\n",
    "\n",
    "# Reshape for LSTM\n",
    "prediction_inputs = np.array(prediction_inputs).reshape(-1, 1, len(feature_columns))\n",
    "\n",
    "# Scale the prediction inputs\n",
    "prediction_inputs_scaled = scaler.transform(prediction_inputs.reshape(prediction_inputs.shape[0], -1))\n",
    "prediction_inputs_scaled = prediction_inputs_scaled.reshape(-1, 1, len(feature_columns))\n"
   ],
   "metadata": {
    "collapsed": false,
    "ExecuteTime": {
     "end_time": "2024-01-06T16:06:51.496303Z",
     "start_time": "2024-01-06T16:06:51.474178Z"
    }
   },
   "id": "2bbc09094a503b50"
  },
  {
   "cell_type": "code",
   "execution_count": 82,
   "outputs": [
    {
     "name": "stdout",
     "output_type": "stream",
     "text": [
      "1/1 [==============================] - 0s 10ms/step\n"
     ]
    }
   ],
   "source": [
    "# Get predictions\n",
    "predictions = model.predict(prediction_inputs_scaled)\n",
    "\n",
    "# Reshape predictions from 3D to 2D\n",
    "predictions_reshaped = predictions.reshape(predictions.shape[0], -1)\n",
    "\n",
    "# Inverse transform predictions\n",
    "original_scale_predictions = scaler_y.inverse_transform(predictions_reshaped)\n"
   ],
   "metadata": {
    "collapsed": false,
    "ExecuteTime": {
     "end_time": "2024-01-06T16:06:51.505073Z",
     "start_time": "2024-01-06T16:06:51.474238Z"
    }
   },
   "id": "ff8d2941b6e4ce0"
  },
  {
   "cell_type": "code",
   "execution_count": 83,
   "outputs": [],
   "source": [
    "# Create DataFrame with the reshaped predictions\n",
    "df_predictions = pd.DataFrame()\n",
    "\n",
    "\n",
    "columns = [f'q{q}' for q in quantiles]\n",
    "df_predictions[columns] = original_scale_predictions\n"
   ],
   "metadata": {
    "collapsed": false,
    "ExecuteTime": {
     "end_time": "2024-01-06T16:06:51.511411Z",
     "start_time": "2024-01-06T16:06:51.507536Z"
    }
   },
   "id": "9f3c88a795d48e1d"
  },
  {
   "cell_type": "code",
   "execution_count": 84,
   "outputs": [],
   "source": [
    "# Static values DataFrame\n",
    "df_static = pd.DataFrame({\n",
    "    'forecast_date': [next_thursday.strftime('%Y-%m-%d')] * len(original_scale_predictions),\n",
    "    'target': ['energy'] * len(original_scale_predictions),\n",
    "    'horizon': [f'{h} hour' for h in horizons for _ in range(len(original_scale_predictions)//len(horizons))]\n",
    "})\n",
    "\n",
    "# Concatenate static DataFrame with predictions DataFrame\n",
    "final_df = pd.concat([df_static, df_predictions], axis=1)\n"
   ],
   "metadata": {
    "collapsed": false,
    "ExecuteTime": {
     "end_time": "2024-01-06T16:06:51.516051Z",
     "start_time": "2024-01-06T16:06:51.514162Z"
    }
   },
   "id": "39f2aa7cdf5e28a3"
  },
  {
   "cell_type": "code",
   "execution_count": 85,
   "outputs": [
    {
     "data": {
      "text/plain": "  forecast_date  target  horizon     q0.025      q0.25       q0.5      q0.75  \\\n0    2024-01-11  energy  36 hour  63.419792  63.446789  63.432266  63.437160   \n1    2024-01-11  energy  40 hour  61.478649  61.507191  61.519924  61.444939   \n2    2024-01-11  energy  44 hour  55.914742  55.931438  55.979366  55.851913   \n3    2024-01-11  energy  60 hour  63.419483  63.446480  63.431953  63.436859   \n4    2024-01-11  energy  64 hour  60.198826  60.212891  60.223343  60.186504   \n5    2024-01-11  energy  68 hour  54.471546  54.476097  54.524151  54.420040   \n\n      q0.975  \n0  63.455421  \n1  61.472725  \n2  55.878250  \n3  63.455116  \n4  60.222034  \n5  54.455246  ",
      "text/html": "<div>\n<style scoped>\n    .dataframe tbody tr th:only-of-type {\n        vertical-align: middle;\n    }\n\n    .dataframe tbody tr th {\n        vertical-align: top;\n    }\n\n    .dataframe thead th {\n        text-align: right;\n    }\n</style>\n<table border=\"1\" class=\"dataframe\">\n  <thead>\n    <tr style=\"text-align: right;\">\n      <th></th>\n      <th>forecast_date</th>\n      <th>target</th>\n      <th>horizon</th>\n      <th>q0.025</th>\n      <th>q0.25</th>\n      <th>q0.5</th>\n      <th>q0.75</th>\n      <th>q0.975</th>\n    </tr>\n  </thead>\n  <tbody>\n    <tr>\n      <th>0</th>\n      <td>2024-01-11</td>\n      <td>energy</td>\n      <td>36 hour</td>\n      <td>63.419792</td>\n      <td>63.446789</td>\n      <td>63.432266</td>\n      <td>63.437160</td>\n      <td>63.455421</td>\n    </tr>\n    <tr>\n      <th>1</th>\n      <td>2024-01-11</td>\n      <td>energy</td>\n      <td>40 hour</td>\n      <td>61.478649</td>\n      <td>61.507191</td>\n      <td>61.519924</td>\n      <td>61.444939</td>\n      <td>61.472725</td>\n    </tr>\n    <tr>\n      <th>2</th>\n      <td>2024-01-11</td>\n      <td>energy</td>\n      <td>44 hour</td>\n      <td>55.914742</td>\n      <td>55.931438</td>\n      <td>55.979366</td>\n      <td>55.851913</td>\n      <td>55.878250</td>\n    </tr>\n    <tr>\n      <th>3</th>\n      <td>2024-01-11</td>\n      <td>energy</td>\n      <td>60 hour</td>\n      <td>63.419483</td>\n      <td>63.446480</td>\n      <td>63.431953</td>\n      <td>63.436859</td>\n      <td>63.455116</td>\n    </tr>\n    <tr>\n      <th>4</th>\n      <td>2024-01-11</td>\n      <td>energy</td>\n      <td>64 hour</td>\n      <td>60.198826</td>\n      <td>60.212891</td>\n      <td>60.223343</td>\n      <td>60.186504</td>\n      <td>60.222034</td>\n    </tr>\n    <tr>\n      <th>5</th>\n      <td>2024-01-11</td>\n      <td>energy</td>\n      <td>68 hour</td>\n      <td>54.471546</td>\n      <td>54.476097</td>\n      <td>54.524151</td>\n      <td>54.420040</td>\n      <td>54.455246</td>\n    </tr>\n  </tbody>\n</table>\n</div>"
     },
     "execution_count": 85,
     "metadata": {},
     "output_type": "execute_result"
    }
   ],
   "source": [
    "final_df"
   ],
   "metadata": {
    "collapsed": false,
    "ExecuteTime": {
     "end_time": "2024-01-06T16:06:51.544155Z",
     "start_time": "2024-01-06T16:06:51.519567Z"
    }
   },
   "id": "bb187c1576f9c092"
  },
  {
   "cell_type": "code",
   "execution_count": 31,
   "outputs": [],
   "source": [],
   "metadata": {
    "collapsed": false,
    "ExecuteTime": {
     "end_time": "2024-01-06T15:50:06.364242Z",
     "start_time": "2024-01-06T15:50:06.347596Z"
    }
   },
   "id": "3196f5a175732dcc"
  },
  {
   "cell_type": "code",
   "execution_count": 86,
   "outputs": [
    {
     "name": "stderr",
     "output_type": "stream",
     "text": [
      "  0%|          | 0/263 [00:00<?, ?it/s]/Users/stephantimpe/PycharmProjects/probabilistic-forecasting-challenge/functions/get_energy.py:28: FutureWarning: The behavior of DataFrame concatenation with empty or all-NA entries is deprecated. In a future version, this will no longer exclude empty or all-NA columns when determining the result dtypes. To retain the old behavior, exclude the relevant entries before the concat operation.\n",
      "  energydata = pd.concat([energydata, pd.DataFrame(rawdata, columns=col_names)])\n",
      "100%|██████████| 263/263 [00:29<00:00,  8.98it/s]\n",
      "2024-01-06 17:27:46.311330: I tensorflow/core/common_runtime/executor.cc:1197] [/device:CPU:0] (DEBUG INFO) Executor start aborting (this does not indicate an error and you can ignore this message): INVALID_ARGUMENT: You must feed a value for placeholder tensor 'gradients/split_2_grad/concat/split_2/split_dim' with dtype int32\n",
      "\t [[{{node gradients/split_2_grad/concat/split_2/split_dim}}]]\n",
      "2024-01-06 17:27:46.318318: I tensorflow/core/common_runtime/executor.cc:1197] [/device:CPU:0] (DEBUG INFO) Executor start aborting (this does not indicate an error and you can ignore this message): INVALID_ARGUMENT: You must feed a value for placeholder tensor 'gradients/split_grad/concat/split/split_dim' with dtype int32\n",
      "\t [[{{node gradients/split_grad/concat/split/split_dim}}]]\n",
      "2024-01-06 17:27:46.318988: I tensorflow/core/common_runtime/executor.cc:1197] [/device:CPU:0] (DEBUG INFO) Executor start aborting (this does not indicate an error and you can ignore this message): INVALID_ARGUMENT: You must feed a value for placeholder tensor 'gradients/split_1_grad/concat/split_1/split_dim' with dtype int32\n",
      "\t [[{{node gradients/split_1_grad/concat/split_1/split_dim}}]]\n"
     ]
    },
    {
     "name": "stdout",
     "output_type": "stream",
     "text": [
      "Epoch 1/10\n"
     ]
    },
    {
     "name": "stderr",
     "output_type": "stream",
     "text": [
      "2024-01-06 17:27:46.792879: I tensorflow/core/common_runtime/executor.cc:1197] [/device:CPU:0] (DEBUG INFO) Executor start aborting (this does not indicate an error and you can ignore this message): INVALID_ARGUMENT: You must feed a value for placeholder tensor 'gradients/split_2_grad/concat/split_2/split_dim' with dtype int32\n",
      "\t [[{{node gradients/split_2_grad/concat/split_2/split_dim}}]]\n",
      "2024-01-06 17:27:46.794080: I tensorflow/core/common_runtime/executor.cc:1197] [/device:CPU:0] (DEBUG INFO) Executor start aborting (this does not indicate an error and you can ignore this message): INVALID_ARGUMENT: You must feed a value for placeholder tensor 'gradients/split_grad/concat/split/split_dim' with dtype int32\n",
      "\t [[{{node gradients/split_grad/concat/split/split_dim}}]]\n",
      "2024-01-06 17:27:46.795432: I tensorflow/core/common_runtime/executor.cc:1197] [/device:CPU:0] (DEBUG INFO) Executor start aborting (this does not indicate an error and you can ignore this message): INVALID_ARGUMENT: You must feed a value for placeholder tensor 'gradients/split_1_grad/concat/split_1/split_dim' with dtype int32\n",
      "\t [[{{node gradients/split_1_grad/concat/split_1/split_dim}}]]\n",
      "2024-01-06 17:27:47.102242: I tensorflow/core/common_runtime/executor.cc:1197] [/device:CPU:0] (DEBUG INFO) Executor start aborting (this does not indicate an error and you can ignore this message): INVALID_ARGUMENT: You must feed a value for placeholder tensor 'gradients/split_2_grad/concat/split_2/split_dim' with dtype int32\n",
      "\t [[{{node gradients/split_2_grad/concat/split_2/split_dim}}]]\n",
      "2024-01-06 17:27:47.103209: I tensorflow/core/common_runtime/executor.cc:1197] [/device:CPU:0] (DEBUG INFO) Executor start aborting (this does not indicate an error and you can ignore this message): INVALID_ARGUMENT: You must feed a value for placeholder tensor 'gradients/split_grad/concat/split/split_dim' with dtype int32\n",
      "\t [[{{node gradients/split_grad/concat/split/split_dim}}]]\n",
      "2024-01-06 17:27:47.104106: I tensorflow/core/common_runtime/executor.cc:1197] [/device:CPU:0] (DEBUG INFO) Executor start aborting (this does not indicate an error and you can ignore this message): INVALID_ARGUMENT: You must feed a value for placeholder tensor 'gradients/split_1_grad/concat/split_1/split_dim' with dtype int32\n",
      "\t [[{{node gradients/split_1_grad/concat/split_1/split_dim}}]]\n",
      "2024-01-06 17:27:47.208974: I tensorflow/core/common_runtime/executor.cc:1197] [/device:CPU:0] (DEBUG INFO) Executor start aborting (this does not indicate an error and you can ignore this message): INVALID_ARGUMENT: You must feed a value for placeholder tensor 'gradients/split_2_grad/concat/split_2/split_dim' with dtype int32\n",
      "\t [[{{node gradients/split_2_grad/concat/split_2/split_dim}}]]\n",
      "2024-01-06 17:27:47.209726: I tensorflow/core/common_runtime/executor.cc:1197] [/device:CPU:0] (DEBUG INFO) Executor start aborting (this does not indicate an error and you can ignore this message): INVALID_ARGUMENT: You must feed a value for placeholder tensor 'gradients/split_grad/concat/split/split_dim' with dtype int32\n",
      "\t [[{{node gradients/split_grad/concat/split/split_dim}}]]\n",
      "2024-01-06 17:27:47.210420: I tensorflow/core/common_runtime/executor.cc:1197] [/device:CPU:0] (DEBUG INFO) Executor start aborting (this does not indicate an error and you can ignore this message): INVALID_ARGUMENT: You must feed a value for placeholder tensor 'gradients/split_1_grad/concat/split_1/split_dim' with dtype int32\n",
      "\t [[{{node gradients/split_1_grad/concat/split_1/split_dim}}]]\n",
      "2024-01-06 17:27:47.972539: I tensorflow/core/common_runtime/executor.cc:1197] [/device:CPU:0] (DEBUG INFO) Executor start aborting (this does not indicate an error and you can ignore this message): INVALID_ARGUMENT: You must feed a value for placeholder tensor 'gradients/split_2_grad/concat/split_2/split_dim' with dtype int32\n",
      "\t [[{{node gradients/split_2_grad/concat/split_2/split_dim}}]]\n",
      "2024-01-06 17:27:47.973666: I tensorflow/core/common_runtime/executor.cc:1197] [/device:CPU:0] (DEBUG INFO) Executor start aborting (this does not indicate an error and you can ignore this message): INVALID_ARGUMENT: You must feed a value for placeholder tensor 'gradients/split_grad/concat/split/split_dim' with dtype int32\n",
      "\t [[{{node gradients/split_grad/concat/split/split_dim}}]]\n",
      "2024-01-06 17:27:47.974557: I tensorflow/core/common_runtime/executor.cc:1197] [/device:CPU:0] (DEBUG INFO) Executor start aborting (this does not indicate an error and you can ignore this message): INVALID_ARGUMENT: You must feed a value for placeholder tensor 'gradients/split_1_grad/concat/split_1/split_dim' with dtype int32\n",
      "\t [[{{node gradients/split_1_grad/concat/split_1/split_dim}}]]\n",
      "2024-01-06 17:27:48.106556: I tensorflow/core/common_runtime/executor.cc:1197] [/device:CPU:0] (DEBUG INFO) Executor start aborting (this does not indicate an error and you can ignore this message): INVALID_ARGUMENT: You must feed a value for placeholder tensor 'gradients/split_2_grad/concat/split_2/split_dim' with dtype int32\n",
      "\t [[{{node gradients/split_2_grad/concat/split_2/split_dim}}]]\n",
      "2024-01-06 17:27:48.107428: I tensorflow/core/common_runtime/executor.cc:1197] [/device:CPU:0] (DEBUG INFO) Executor start aborting (this does not indicate an error and you can ignore this message): INVALID_ARGUMENT: You must feed a value for placeholder tensor 'gradients/split_grad/concat/split/split_dim' with dtype int32\n",
      "\t [[{{node gradients/split_grad/concat/split/split_dim}}]]\n",
      "2024-01-06 17:27:48.108173: I tensorflow/core/common_runtime/executor.cc:1197] [/device:CPU:0] (DEBUG INFO) Executor start aborting (this does not indicate an error and you can ignore this message): INVALID_ARGUMENT: You must feed a value for placeholder tensor 'gradients/split_1_grad/concat/split_1/split_dim' with dtype int32\n",
      "\t [[{{node gradients/split_1_grad/concat/split_1/split_dim}}]]\n",
      "2024-01-06 17:27:52.216923: I tensorflow/core/common_runtime/executor.cc:1197] [/device:CPU:0] (DEBUG INFO) Executor start aborting (this does not indicate an error and you can ignore this message): INVALID_ARGUMENT: You must feed a value for placeholder tensor 'gradients/split_2_grad/concat/split_2/split_dim' with dtype int32\n",
      "\t [[{{node gradients/split_2_grad/concat/split_2/split_dim}}]]\n",
      "2024-01-06 17:27:52.217722: I tensorflow/core/common_runtime/executor.cc:1197] [/device:CPU:0] (DEBUG INFO) Executor start aborting (this does not indicate an error and you can ignore this message): INVALID_ARGUMENT: You must feed a value for placeholder tensor 'gradients/split_grad/concat/split/split_dim' with dtype int32\n",
      "\t [[{{node gradients/split_grad/concat/split/split_dim}}]]\n",
      "2024-01-06 17:27:52.219161: I tensorflow/core/common_runtime/executor.cc:1197] [/device:CPU:0] (DEBUG INFO) Executor start aborting (this does not indicate an error and you can ignore this message): INVALID_ARGUMENT: You must feed a value for placeholder tensor 'gradients/split_1_grad/concat/split_1/split_dim' with dtype int32\n",
      "\t [[{{node gradients/split_1_grad/concat/split_1/split_dim}}]]\n",
      "2024-01-06 17:27:52.320670: I tensorflow/core/common_runtime/executor.cc:1197] [/device:CPU:0] (DEBUG INFO) Executor start aborting (this does not indicate an error and you can ignore this message): INVALID_ARGUMENT: You must feed a value for placeholder tensor 'gradients/split_2_grad/concat/split_2/split_dim' with dtype int32\n",
      "\t [[{{node gradients/split_2_grad/concat/split_2/split_dim}}]]\n",
      "2024-01-06 17:27:52.321421: I tensorflow/core/common_runtime/executor.cc:1197] [/device:CPU:0] (DEBUG INFO) Executor start aborting (this does not indicate an error and you can ignore this message): INVALID_ARGUMENT: You must feed a value for placeholder tensor 'gradients/split_grad/concat/split/split_dim' with dtype int32\n",
      "\t [[{{node gradients/split_grad/concat/split/split_dim}}]]\n",
      "2024-01-06 17:27:52.322042: I tensorflow/core/common_runtime/executor.cc:1197] [/device:CPU:0] (DEBUG INFO) Executor start aborting (this does not indicate an error and you can ignore this message): INVALID_ARGUMENT: You must feed a value for placeholder tensor 'gradients/split_1_grad/concat/split_1/split_dim' with dtype int32\n",
      "\t [[{{node gradients/split_1_grad/concat/split_1/split_dim}}]]\n"
     ]
    },
    {
     "name": "stdout",
     "output_type": "stream",
     "text": [
      "491/491 - 6s - loss: 0.4198 - val_loss: 0.3981 - 6s/epoch - 12ms/step\n",
      "Epoch 2/10\n",
      "491/491 - 3s - loss: 0.4122 - val_loss: 0.3922 - 3s/epoch - 6ms/step\n",
      "Epoch 3/10\n",
      "491/491 - 3s - loss: 0.4047 - val_loss: 0.3962 - 3s/epoch - 6ms/step\n",
      "Epoch 4/10\n",
      "491/491 - 3s - loss: 0.4005 - val_loss: 0.3937 - 3s/epoch - 7ms/step\n",
      "Epoch 5/10\n",
      "491/491 - 3s - loss: 0.3975 - val_loss: 0.3928 - 3s/epoch - 6ms/step\n",
      "Epoch 6/10\n",
      "491/491 - 3s - loss: 0.3957 - val_loss: 0.3918 - 3s/epoch - 6ms/step\n",
      "Epoch 7/10\n",
      "491/491 - 3s - loss: 0.3944 - val_loss: 0.3903 - 3s/epoch - 6ms/step\n",
      "Epoch 8/10\n",
      "491/491 - 3s - loss: 0.3936 - val_loss: 0.3890 - 3s/epoch - 6ms/step\n",
      "Epoch 9/10\n",
      "491/491 - 3s - loss: 0.3928 - val_loss: 0.3877 - 3s/epoch - 6ms/step\n",
      "Epoch 10/10\n",
      "491/491 - 3s - loss: 0.3921 - val_loss: 0.3862 - 3s/epoch - 6ms/step\n"
     ]
    },
    {
     "name": "stderr",
     "output_type": "stream",
     "text": [
      "2024-01-06 17:28:19.631790: I tensorflow/core/common_runtime/executor.cc:1197] [/device:CPU:0] (DEBUG INFO) Executor start aborting (this does not indicate an error and you can ignore this message): INVALID_ARGUMENT: You must feed a value for placeholder tensor 'gradients/split_2_grad/concat/split_2/split_dim' with dtype int32\n",
      "\t [[{{node gradients/split_2_grad/concat/split_2/split_dim}}]]\n",
      "2024-01-06 17:28:19.632715: I tensorflow/core/common_runtime/executor.cc:1197] [/device:CPU:0] (DEBUG INFO) Executor start aborting (this does not indicate an error and you can ignore this message): INVALID_ARGUMENT: You must feed a value for placeholder tensor 'gradients/split_grad/concat/split/split_dim' with dtype int32\n",
      "\t [[{{node gradients/split_grad/concat/split/split_dim}}]]\n",
      "2024-01-06 17:28:19.633485: I tensorflow/core/common_runtime/executor.cc:1197] [/device:CPU:0] (DEBUG INFO) Executor start aborting (this does not indicate an error and you can ignore this message): INVALID_ARGUMENT: You must feed a value for placeholder tensor 'gradients/split_1_grad/concat/split_1/split_dim' with dtype int32\n",
      "\t [[{{node gradients/split_1_grad/concat/split_1/split_dim}}]]\n",
      "2024-01-06 17:28:19.736989: I tensorflow/core/common_runtime/executor.cc:1197] [/device:CPU:0] (DEBUG INFO) Executor start aborting (this does not indicate an error and you can ignore this message): INVALID_ARGUMENT: You must feed a value for placeholder tensor 'gradients/split_2_grad/concat/split_2/split_dim' with dtype int32\n",
      "\t [[{{node gradients/split_2_grad/concat/split_2/split_dim}}]]\n",
      "2024-01-06 17:28:19.737672: I tensorflow/core/common_runtime/executor.cc:1197] [/device:CPU:0] (DEBUG INFO) Executor start aborting (this does not indicate an error and you can ignore this message): INVALID_ARGUMENT: You must feed a value for placeholder tensor 'gradients/split_grad/concat/split/split_dim' with dtype int32\n",
      "\t [[{{node gradients/split_grad/concat/split/split_dim}}]]\n",
      "2024-01-06 17:28:19.738423: I tensorflow/core/common_runtime/executor.cc:1197] [/device:CPU:0] (DEBUG INFO) Executor start aborting (this does not indicate an error and you can ignore this message): INVALID_ARGUMENT: You must feed a value for placeholder tensor 'gradients/split_1_grad/concat/split_1/split_dim' with dtype int32\n",
      "\t [[{{node gradients/split_1_grad/concat/split_1/split_dim}}]]\n"
     ]
    },
    {
     "name": "stdout",
     "output_type": "stream",
     "text": [
      "1/1 [==============================] - 0s 406ms/step\n",
      "  forecast_date  target  horizon     q0.025      q0.25       q0.5      q0.75  \\\n",
      "0    2024-01-06  energy  36 hour  60.794369  61.151493  60.892384  61.334419   \n",
      "1    2024-01-06  energy  40 hour  60.838432  61.201675  60.920498  61.367596   \n",
      "2    2024-01-06  energy  44 hour  60.890728  61.261539  60.957245  61.410194   \n",
      "3    2024-01-06  energy  60 hour  66.420174  66.279999  66.077187  66.891205   \n",
      "4    2024-01-06  energy  64 hour  66.482437  66.343872  66.127502  66.945755   \n",
      "\n",
      "      q0.975  \n",
      "0  60.912144  \n",
      "1  60.927525  \n",
      "2  60.951942  \n",
      "3  66.317802  \n",
      "4  66.355034  \n"
     ]
    }
   ],
   "source": [
    "import pandas as pd\n",
    "import numpy as np\n",
    "from datetime import datetime, timedelta\n",
    "from sklearn.preprocessing import StandardScaler\n",
    "from keras.models import Model, Sequential\n",
    "from keras.layers import LSTM, Dense, Input, RepeatVector, TimeDistributed\n",
    "import tensorflow.keras.backend as K\n",
    "from functions import get_energy\n",
    "\n",
    "def energy_forecast(input_data=None, forecast_date=None):\n",
    "    # Load default energy data if none provided\n",
    "    if input_data is None:\n",
    "        energydata = get_energy.get()\n",
    "        df = pd.DataFrame(energydata)\n",
    "    else:\n",
    "        df = pd.DataFrame(input_data)\n",
    "\n",
    "    # Default forecast date is the current date\n",
    "    if forecast_date is None:\n",
    "        forecast_date = datetime.now()\n",
    "    else:\n",
    "        forecast_date = pd.to_datetime(forecast_date)\n",
    "\n",
    "    # Data preprocessing\n",
    "    if 'date_time' in df.columns:\n",
    "        df.set_index('date_time', inplace=True)\n",
    "\n",
    "    df['hour'] = df.index.hour\n",
    "    df['day'] = df.index.day\n",
    "    df['month'] = df.index.month\n",
    "    df['week'] = df.index.weekday\n",
    "\n",
    "    train_size = int(len(df) * 0.8)\n",
    "    train_df, test_df = df[:train_size], df[train_size:]\n",
    "\n",
    "    feature_columns = ['hour', 'day', 'month', 'week']\n",
    "    train_X = train_df[feature_columns].values\n",
    "    train_y = train_df['gesamt'].values.reshape(-1, 1)\n",
    "    test_X = test_df[feature_columns].values\n",
    "    test_y = test_df['gesamt'].values.reshape(-1, 1)\n",
    "\n",
    "    train_X_lstm = np.reshape(train_X, (train_X.shape[0], 1, train_X.shape[1]))\n",
    "    test_X_lstm = np.reshape(test_X, (test_X.shape[0], 1, test_X.shape[1]))\n",
    "\n",
    "    scaler = StandardScaler()\n",
    "    train_X_lstm_scaled = scaler.fit_transform(train_X_lstm.reshape(train_X_lstm.shape[0], -1))\n",
    "    train_X_lstm_scaled = train_X_lstm_scaled.reshape(train_X_lstm.shape)\n",
    "    test_X_lstm_scaled = scaler.transform(test_X_lstm.reshape(test_X_lstm.shape[0], -1))\n",
    "    test_X_lstm_scaled = test_X_lstm_scaled.reshape(-1, 1, train_X_lstm.shape[2])\n",
    "\n",
    "    scaler_y = StandardScaler()\n",
    "    train_y_scaled = scaler_y.fit_transform(train_y)\n",
    "    test_y_scaled = scaler_y.transform(test_y)\n",
    "\n",
    "    # Model building\n",
    "    input_seq = Input(shape=(train_X_lstm_scaled.shape[1], train_X_lstm_scaled.shape[2]))\n",
    "    encoder_out, state_h, state_c = LSTM(100, return_state=True)(input_seq)\n",
    "    encoder_states = [state_h, state_c]\n",
    "\n",
    "    decoder_steps = train_X_lstm_scaled.shape[1]\n",
    "    decoder_lstm = LSTM(100, return_sequences=True)\n",
    "    decoder_out = decoder_lstm(RepeatVector(decoder_steps)(encoder_out), initial_state=encoder_states)\n",
    "    decoder_dense = TimeDistributed(Dense(5))  # Change 5 to the number of quantiles\n",
    "    decoder_outputs = decoder_dense(decoder_out)\n",
    "    model = Model(inputs=input_seq, outputs=decoder_outputs)\n",
    "\n",
    "    # Quantile Loss Function\n",
    "    def quantile_loss(quantiles, y_true, y_pred):\n",
    "        e = y_true - y_pred\n",
    "        losses = []\n",
    "        for q in quantiles:\n",
    "            loss = K.maximum(q * e, (q - 1) * e)\n",
    "            losses.append(K.mean(loss, axis=-1))\n",
    "        return K.mean(K.stack(losses, axis=-1), axis=-1)\n",
    "\n",
    "    quantiles = [0.025, 0.25, 0.5, 0.75, 0.975]\n",
    "    model.compile(optimizer='adam', loss=lambda y_true, y_pred: quantile_loss(quantiles, y_true, y_pred))\n",
    "\n",
    "    # Model training\n",
    "    history = model.fit(train_X_lstm_scaled, train_y_scaled, epochs=10, batch_size=72,\n",
    "                        validation_data=(test_X_lstm_scaled, test_y_scaled), verbose=2, shuffle=False)\n",
    "\n",
    "    # Prediction preparation\n",
    "    horizons = [36, 40, 44, 60, 64, 68]\n",
    "    future_timestamps = [forecast_date + timedelta(hours=h) for h in horizons]\n",
    "\n",
    "    def extract_features_for_timestamp(timestamp, df):\n",
    "        features = {\n",
    "            'hour': timestamp.hour,\n",
    "            'day': timestamp.day,\n",
    "            'month': timestamp.month,\n",
    "            'week': timestamp.weekday()\n",
    "        }\n",
    "        feature_vector = [features[col] for col in feature_columns]\n",
    "        return feature_vector\n",
    "\n",
    "    prediction_inputs = [extract_features_for_timestamp(ts, df) for ts in future_timestamps]\n",
    "    prediction_inputs = np.array(prediction_inputs).reshape(-1, 1, len(feature_columns))\n",
    "    prediction_inputs_scaled = scaler.transform(prediction_inputs.reshape(prediction_inputs.shape[0], -1))\n",
    "    prediction_inputs_scaled = prediction_inputs_scaled.reshape(-1, 1, len(feature_columns))\n",
    "\n",
    "    # Generate predictions\n",
    "    predictions = model.predict(prediction_inputs_scaled)\n",
    "    predictions_reshaped = predictions.reshape(predictions.shape[0], -1)\n",
    "    original_scale_predictions = scaler_y.inverse_transform(predictions_reshaped)\n",
    "\n",
    "    # Format predictions\n",
    "    df_predictions = pd.DataFrame()\n",
    "    columns = [f'q{q}' for q in quantiles]\n",
    "    df_predictions[columns] = original_scale_predictions\n",
    "    df_static = pd.DataFrame({\n",
    "        'forecast_date': [forecast_date.strftime('%Y-%m-%d')] * len(original_scale_predictions),\n",
    "        'target': ['energy'] * len(original_scale_predictions),\n",
    "        'horizon': [f'{h} hour' for h in horizons for _ in range(len(original_scale_predictions)//len(horizons))]\n",
    "    })\n",
    "    final_df = pd.concat([df_static, df_predictions], axis=1)\n",
    "\n",
    "    return final_df\n",
    "\n",
    "# Example usage\n",
    "result = energy_forecast()\n",
    "print(result.head())\n"
   ],
   "metadata": {
    "collapsed": false,
    "ExecuteTime": {
     "end_time": "2024-01-06T16:28:19.929247Z",
     "start_time": "2024-01-06T16:27:16.516855Z"
    }
   },
   "id": "95acb902d4a73f84"
  },
  {
   "cell_type": "code",
   "execution_count": 88,
   "outputs": [
    {
     "data": {
      "text/plain": "  forecast_date  target  horizon     q0.025      q0.25       q0.5      q0.75  \\\n0    2024-01-06  energy  36 hour  60.794369  61.151493  60.892384  61.334419   \n1    2024-01-06  energy  40 hour  60.838432  61.201675  60.920498  61.367596   \n2    2024-01-06  energy  44 hour  60.890728  61.261539  60.957245  61.410194   \n3    2024-01-06  energy  60 hour  66.420174  66.279999  66.077187  66.891205   \n4    2024-01-06  energy  64 hour  66.482437  66.343872  66.127502  66.945755   \n5    2024-01-06  energy  68 hour  66.550781  66.414665  66.184082  67.006668   \n\n      q0.975  \n0  60.912144  \n1  60.927525  \n2  60.951942  \n3  66.317802  \n4  66.355034  \n5  66.398575  ",
      "text/html": "<div>\n<style scoped>\n    .dataframe tbody tr th:only-of-type {\n        vertical-align: middle;\n    }\n\n    .dataframe tbody tr th {\n        vertical-align: top;\n    }\n\n    .dataframe thead th {\n        text-align: right;\n    }\n</style>\n<table border=\"1\" class=\"dataframe\">\n  <thead>\n    <tr style=\"text-align: right;\">\n      <th></th>\n      <th>forecast_date</th>\n      <th>target</th>\n      <th>horizon</th>\n      <th>q0.025</th>\n      <th>q0.25</th>\n      <th>q0.5</th>\n      <th>q0.75</th>\n      <th>q0.975</th>\n    </tr>\n  </thead>\n  <tbody>\n    <tr>\n      <th>0</th>\n      <td>2024-01-06</td>\n      <td>energy</td>\n      <td>36 hour</td>\n      <td>60.794369</td>\n      <td>61.151493</td>\n      <td>60.892384</td>\n      <td>61.334419</td>\n      <td>60.912144</td>\n    </tr>\n    <tr>\n      <th>1</th>\n      <td>2024-01-06</td>\n      <td>energy</td>\n      <td>40 hour</td>\n      <td>60.838432</td>\n      <td>61.201675</td>\n      <td>60.920498</td>\n      <td>61.367596</td>\n      <td>60.927525</td>\n    </tr>\n    <tr>\n      <th>2</th>\n      <td>2024-01-06</td>\n      <td>energy</td>\n      <td>44 hour</td>\n      <td>60.890728</td>\n      <td>61.261539</td>\n      <td>60.957245</td>\n      <td>61.410194</td>\n      <td>60.951942</td>\n    </tr>\n    <tr>\n      <th>3</th>\n      <td>2024-01-06</td>\n      <td>energy</td>\n      <td>60 hour</td>\n      <td>66.420174</td>\n      <td>66.279999</td>\n      <td>66.077187</td>\n      <td>66.891205</td>\n      <td>66.317802</td>\n    </tr>\n    <tr>\n      <th>4</th>\n      <td>2024-01-06</td>\n      <td>energy</td>\n      <td>64 hour</td>\n      <td>66.482437</td>\n      <td>66.343872</td>\n      <td>66.127502</td>\n      <td>66.945755</td>\n      <td>66.355034</td>\n    </tr>\n    <tr>\n      <th>5</th>\n      <td>2024-01-06</td>\n      <td>energy</td>\n      <td>68 hour</td>\n      <td>66.550781</td>\n      <td>66.414665</td>\n      <td>66.184082</td>\n      <td>67.006668</td>\n      <td>66.398575</td>\n    </tr>\n  </tbody>\n</table>\n</div>"
     },
     "execution_count": 88,
     "metadata": {},
     "output_type": "execute_result"
    }
   ],
   "source": [
    "result"
   ],
   "metadata": {
    "collapsed": false,
    "ExecuteTime": {
     "end_time": "2024-01-06T17:01:02.981807Z",
     "start_time": "2024-01-06T17:01:02.977871Z"
    }
   },
   "id": "72c1ac6eca1a9210"
  },
  {
   "cell_type": "code",
   "execution_count": null,
   "outputs": [],
   "source": [],
   "metadata": {
    "collapsed": false
   },
   "id": "e4e9111306a786d3"
  }
 ],
 "metadata": {
  "kernelspec": {
   "display_name": "Python 3",
   "language": "python",
   "name": "python3"
  },
  "language_info": {
   "codemirror_mode": {
    "name": "ipython",
    "version": 2
   },
   "file_extension": ".py",
   "mimetype": "text/x-python",
   "name": "python",
   "nbconvert_exporter": "python",
   "pygments_lexer": "ipython2",
   "version": "2.7.6"
  }
 },
 "nbformat": 4,
 "nbformat_minor": 5
}
