{
 "cells": [
  {
   "cell_type": "code",
   "execution_count": 1,
   "id": "initial_id",
   "metadata": {
    "collapsed": true,
    "ExecuteTime": {
     "end_time": "2024-01-17T16:46:35.717413Z",
     "start_time": "2024-01-17T16:46:31.992512Z"
    }
   },
   "outputs": [],
   "source": [
    "from models.DAX.DAX_models import DAX_quantile_regression, DAX_baseline\n",
    "from models.energy.energy_models import energy_quantile_regression, energy_LSTM, energy_XGBoost\n",
    "from functions import get_energy,get_DAX,merge_submissions,check_submission\n",
    "from functions.prepare_data import split_time\n",
    "from functions.evaluation import evaluate_horizon\n",
    "from tqdm import tqdm\n",
    "from functions import evaluate_dax"
   ]
  },
  {
   "cell_type": "code",
   "execution_count": 2,
   "outputs": [],
   "source": [
    "from functions import naive_ensemble"
   ],
   "metadata": {
    "collapsed": false,
    "ExecuteTime": {
     "end_time": "2024-01-17T16:46:35.718793Z",
     "start_time": "2024-01-17T16:46:35.716449Z"
    }
   },
   "id": "2ce850d6890c7f7e"
  },
  {
   "cell_type": "code",
   "execution_count": 3,
   "outputs": [],
   "source": [
    "daxdata = get_DAX.get()"
   ],
   "metadata": {
    "collapsed": false,
    "ExecuteTime": {
     "end_time": "2024-01-17T16:46:36.109750Z",
     "start_time": "2024-01-17T16:46:35.718248Z"
    }
   },
   "id": "f9e3cc3455a4dedb"
  },
  {
   "cell_type": "code",
   "execution_count": 4,
   "outputs": [],
   "source": [
    "base = DAX_baseline.DAX_baseline(daxdata)"
   ],
   "metadata": {
    "collapsed": false,
    "ExecuteTime": {
     "end_time": "2024-01-17T16:46:36.121734Z",
     "start_time": "2024-01-17T16:46:36.111198Z"
    }
   },
   "id": "ec5c75e7ea26f528"
  },
  {
   "cell_type": "code",
   "execution_count": 5,
   "outputs": [
    {
     "data": {
      "text/plain": "  forecast_date target horizon    q0.025     q0.25      q0.5     q0.75  \\\n0    2024-01-17    DAX   1 day -3.321265 -0.543724  0.065019  0.710654   \n1    2024-01-17    DAX   2 day -4.087895 -0.799977  0.080265  0.976061   \n2    2024-01-17    DAX   5 day -5.259161 -0.896702  0.161798  1.224285   \n3    2024-01-17    DAX   6 day -6.282629 -1.007463  0.187498  1.435857   \n4    2024-01-17    DAX   7 day -6.735742 -1.054012  0.326190  1.557158   \n\n     q0.975  \n0  2.719772  \n1  3.570492  \n2  4.628697  \n3  5.367396  \n4  6.259934  ",
      "text/html": "<div>\n<style scoped>\n    .dataframe tbody tr th:only-of-type {\n        vertical-align: middle;\n    }\n\n    .dataframe tbody tr th {\n        vertical-align: top;\n    }\n\n    .dataframe thead th {\n        text-align: right;\n    }\n</style>\n<table border=\"1\" class=\"dataframe\">\n  <thead>\n    <tr style=\"text-align: right;\">\n      <th></th>\n      <th>forecast_date</th>\n      <th>target</th>\n      <th>horizon</th>\n      <th>q0.025</th>\n      <th>q0.25</th>\n      <th>q0.5</th>\n      <th>q0.75</th>\n      <th>q0.975</th>\n    </tr>\n  </thead>\n  <tbody>\n    <tr>\n      <th>0</th>\n      <td>2024-01-17</td>\n      <td>DAX</td>\n      <td>1 day</td>\n      <td>-3.321265</td>\n      <td>-0.543724</td>\n      <td>0.065019</td>\n      <td>0.710654</td>\n      <td>2.719772</td>\n    </tr>\n    <tr>\n      <th>1</th>\n      <td>2024-01-17</td>\n      <td>DAX</td>\n      <td>2 day</td>\n      <td>-4.087895</td>\n      <td>-0.799977</td>\n      <td>0.080265</td>\n      <td>0.976061</td>\n      <td>3.570492</td>\n    </tr>\n    <tr>\n      <th>2</th>\n      <td>2024-01-17</td>\n      <td>DAX</td>\n      <td>5 day</td>\n      <td>-5.259161</td>\n      <td>-0.896702</td>\n      <td>0.161798</td>\n      <td>1.224285</td>\n      <td>4.628697</td>\n    </tr>\n    <tr>\n      <th>3</th>\n      <td>2024-01-17</td>\n      <td>DAX</td>\n      <td>6 day</td>\n      <td>-6.282629</td>\n      <td>-1.007463</td>\n      <td>0.187498</td>\n      <td>1.435857</td>\n      <td>5.367396</td>\n    </tr>\n    <tr>\n      <th>4</th>\n      <td>2024-01-17</td>\n      <td>DAX</td>\n      <td>7 day</td>\n      <td>-6.735742</td>\n      <td>-1.054012</td>\n      <td>0.326190</td>\n      <td>1.557158</td>\n      <td>6.259934</td>\n    </tr>\n  </tbody>\n</table>\n</div>"
     },
     "execution_count": 5,
     "metadata": {},
     "output_type": "execute_result"
    }
   ],
   "source": [
    "base"
   ],
   "metadata": {
    "collapsed": false,
    "ExecuteTime": {
     "end_time": "2024-01-17T16:46:36.133945Z",
     "start_time": "2024-01-17T16:46:36.119331Z"
    }
   },
   "id": "a8cb24f5fba12ced"
  },
  {
   "cell_type": "code",
   "execution_count": 6,
   "outputs": [],
   "source": [
    "df_dax=base"
   ],
   "metadata": {
    "collapsed": false,
    "ExecuteTime": {
     "end_time": "2024-01-17T16:46:36.134127Z",
     "start_time": "2024-01-17T16:46:36.128149Z"
    }
   },
   "id": "f65a5a521ad3258e"
  },
  {
   "cell_type": "code",
   "execution_count": 7,
   "outputs": [
    {
     "name": "stderr",
     "output_type": "stream",
     "text": [
      "  0%|          | 0/265 [00:00<?, ?it/s]/Users/stephantimpe/PycharmProjects/probabilistic-forecasting-challenge/functions/get_energy.py:28: FutureWarning: The behavior of DataFrame concatenation with empty or all-NA entries is deprecated. In a future version, this will no longer exclude empty or all-NA columns when determining the result dtypes. To retain the old behavior, exclude the relevant entries before the concat operation.\n",
      "  energydata = pd.concat([energydata, pd.DataFrame(rawdata, columns=col_names)])\n",
      "100%|██████████| 265/265 [00:29<00:00,  9.08it/s]\n"
     ]
    }
   ],
   "source": [
    "energydata= get_energy.get()"
   ],
   "metadata": {
    "collapsed": false,
    "ExecuteTime": {
     "end_time": "2024-01-17T16:47:05.526379Z",
     "start_time": "2024-01-17T16:46:36.131922Z"
    }
   },
   "id": "6825a919679471df"
  },
  {
   "cell_type": "code",
   "execution_count": 8,
   "outputs": [],
   "source": [
    "df_energy= energy_XGBoost.energy_forecast(energydata,date_str='2024-01-17')"
   ],
   "metadata": {
    "collapsed": false,
    "ExecuteTime": {
     "end_time": "2024-01-17T16:47:25.665416Z",
     "start_time": "2024-01-17T16:47:05.528365Z"
    }
   },
   "id": "d1d2a9506ee6ab6c"
  },
  {
   "cell_type": "code",
   "execution_count": 9,
   "outputs": [
    {
     "data": {
      "text/plain": "  forecast_date  target  horizon     q0.025      q0.25       q0.5      q0.75  \\\n0    2024-01-17  energy  36 hour  64.057678  70.027924  70.872932  75.010704   \n1    2024-01-17  energy  40 hour  61.880836  66.906807  68.240898  72.040749   \n2    2024-01-17  energy  44 hour  60.779305  62.762531  64.174416  68.024254   \n3    2024-01-17  energy  60 hour  57.528931  60.668816  61.805847  64.520790   \n4    2024-01-17  energy  64 hour  54.591389  57.760727  58.559002  60.839371   \n5    2024-01-17  energy  68 hour  53.390141  56.549107  58.772770  59.213043   \n\n      q0.975  \n0  77.218788  \n1  73.287773  \n2  68.785774  \n3  64.131546  \n4  62.414742  \n5  59.346821  ",
      "text/html": "<div>\n<style scoped>\n    .dataframe tbody tr th:only-of-type {\n        vertical-align: middle;\n    }\n\n    .dataframe tbody tr th {\n        vertical-align: top;\n    }\n\n    .dataframe thead th {\n        text-align: right;\n    }\n</style>\n<table border=\"1\" class=\"dataframe\">\n  <thead>\n    <tr style=\"text-align: right;\">\n      <th></th>\n      <th>forecast_date</th>\n      <th>target</th>\n      <th>horizon</th>\n      <th>q0.025</th>\n      <th>q0.25</th>\n      <th>q0.5</th>\n      <th>q0.75</th>\n      <th>q0.975</th>\n    </tr>\n  </thead>\n  <tbody>\n    <tr>\n      <th>0</th>\n      <td>2024-01-17</td>\n      <td>energy</td>\n      <td>36 hour</td>\n      <td>64.057678</td>\n      <td>70.027924</td>\n      <td>70.872932</td>\n      <td>75.010704</td>\n      <td>77.218788</td>\n    </tr>\n    <tr>\n      <th>1</th>\n      <td>2024-01-17</td>\n      <td>energy</td>\n      <td>40 hour</td>\n      <td>61.880836</td>\n      <td>66.906807</td>\n      <td>68.240898</td>\n      <td>72.040749</td>\n      <td>73.287773</td>\n    </tr>\n    <tr>\n      <th>2</th>\n      <td>2024-01-17</td>\n      <td>energy</td>\n      <td>44 hour</td>\n      <td>60.779305</td>\n      <td>62.762531</td>\n      <td>64.174416</td>\n      <td>68.024254</td>\n      <td>68.785774</td>\n    </tr>\n    <tr>\n      <th>3</th>\n      <td>2024-01-17</td>\n      <td>energy</td>\n      <td>60 hour</td>\n      <td>57.528931</td>\n      <td>60.668816</td>\n      <td>61.805847</td>\n      <td>64.520790</td>\n      <td>64.131546</td>\n    </tr>\n    <tr>\n      <th>4</th>\n      <td>2024-01-17</td>\n      <td>energy</td>\n      <td>64 hour</td>\n      <td>54.591389</td>\n      <td>57.760727</td>\n      <td>58.559002</td>\n      <td>60.839371</td>\n      <td>62.414742</td>\n    </tr>\n    <tr>\n      <th>5</th>\n      <td>2024-01-17</td>\n      <td>energy</td>\n      <td>68 hour</td>\n      <td>53.390141</td>\n      <td>56.549107</td>\n      <td>58.772770</td>\n      <td>59.213043</td>\n      <td>59.346821</td>\n    </tr>\n  </tbody>\n</table>\n</div>"
     },
     "execution_count": 9,
     "metadata": {},
     "output_type": "execute_result"
    }
   ],
   "source": [
    "df_energy"
   ],
   "metadata": {
    "collapsed": false,
    "ExecuteTime": {
     "end_time": "2024-01-17T16:47:25.689775Z",
     "start_time": "2024-01-17T16:47:25.674595Z"
    }
   },
   "id": "ca504288bd09666b"
  },
  {
   "cell_type": "code",
   "execution_count": 10,
   "outputs": [
    {
     "name": "stdout",
     "output_type": "stream",
     "text": [
      "         forecast_date      target  horizon     q0.025      q0.25       q0.5  \\\n",
      "0           2024-01-17         DAX    1 day  -3.321265  -0.543724   0.065019   \n",
      "1           2024-01-17         DAX    2 day  -4.087895  -0.799977   0.080265   \n",
      "2           2024-01-17         DAX    5 day  -5.259161  -0.896702   0.161798   \n",
      "3           2024-01-17         DAX    6 day  -6.282629  -1.007463   0.187498   \n",
      "4           2024-01-17         DAX    7 day  -6.735742  -1.054012    0.32619   \n",
      "0  2024-01-17 00:00:00      energy  36 hour  64.057678  70.027924  70.872932   \n",
      "1  2024-01-17 00:00:00      energy  40 hour  61.880836  66.906807  68.240898   \n",
      "2  2024-01-17 00:00:00      energy  44 hour  60.779305  62.762531  64.174416   \n",
      "3  2024-01-17 00:00:00      energy  60 hour  57.528931  60.668816  61.805847   \n",
      "4  2024-01-17 00:00:00      energy  64 hour  54.591389  57.760727  58.559002   \n",
      "5  2024-01-17 00:00:00      energy  68 hour  53.390141  56.549107   58.77277   \n",
      "0           2024-01-17  infections   0 week         NA         NA         NA   \n",
      "1           2024-01-17  infections   1 week         NA         NA         NA   \n",
      "2           2024-01-17  infections   2 week         NA         NA         NA   \n",
      "3           2024-01-17  infections   3 week         NA         NA         NA   \n",
      "4           2024-01-17  infections   4 week         NA         NA         NA   \n",
      "\n",
      "       q0.75     q0.975  \n",
      "0   0.710654   2.719772  \n",
      "1   0.976061   3.570492  \n",
      "2   1.224285   4.628697  \n",
      "3   1.435857   5.367396  \n",
      "4   1.557158   6.259934  \n",
      "0  75.010704  77.218788  \n",
      "1  72.040749  73.287773  \n",
      "2  68.024254  68.785774  \n",
      "3   64.52079  64.131546  \n",
      "4  60.839371  62.414742  \n",
      "5  59.213043  59.346821  \n",
      "0         NA         NA  \n",
      "1         NA         NA  \n",
      "2         NA         NA  \n",
      "3         NA         NA  \n",
      "4         NA         NA  \n"
     ]
    }
   ],
   "source": [
    "df = merge_submissions.merge(df_energy,df_dax)"
   ],
   "metadata": {
    "collapsed": false,
    "ExecuteTime": {
     "end_time": "2024-01-17T16:47:25.736374Z",
     "start_time": "2024-01-17T16:47:25.680370Z"
    }
   },
   "id": "6997de28c0fe949"
  },
  {
   "cell_type": "code",
   "execution_count": 12,
   "outputs": [],
   "source": [
    "import pandas as pd"
   ],
   "metadata": {
    "collapsed": false,
    "ExecuteTime": {
     "end_time": "2024-01-17T16:47:38.433670Z",
     "start_time": "2024-01-17T16:47:38.421686Z"
    }
   },
   "id": "a674edafd02b6168"
  },
  {
   "cell_type": "code",
   "execution_count": 13,
   "outputs": [],
   "source": [
    "# ensure forecast_date is in correct format\n",
    "df['forecast_date'] = pd.to_datetime(df['forecast_date'], format='%Y-%m-%d')"
   ],
   "metadata": {
    "collapsed": false,
    "ExecuteTime": {
     "end_time": "2024-01-17T16:47:39.455446Z",
     "start_time": "2024-01-17T16:47:39.446097Z"
    }
   },
   "id": "da079753fd7a5b8"
  },
  {
   "cell_type": "code",
   "execution_count": 14,
   "outputs": [
    {
     "data": {
      "text/plain": "  forecast_date      target  horizon     q0.025      q0.25       q0.5  \\\n0    2024-01-17         DAX    1 day  -3.321265  -0.543724   0.065019   \n1    2024-01-17         DAX    2 day  -4.087895  -0.799977   0.080265   \n2    2024-01-17         DAX    5 day  -5.259161  -0.896702   0.161798   \n3    2024-01-17         DAX    6 day  -6.282629  -1.007463   0.187498   \n4    2024-01-17         DAX    7 day  -6.735742  -1.054012    0.32619   \n0    2024-01-17      energy  36 hour  64.057678  70.027924  70.872932   \n1    2024-01-17      energy  40 hour  61.880836  66.906807  68.240898   \n2    2024-01-17      energy  44 hour  60.779305  62.762531  64.174416   \n3    2024-01-17      energy  60 hour  57.528931  60.668816  61.805847   \n4    2024-01-17      energy  64 hour  54.591389  57.760727  58.559002   \n5    2024-01-17      energy  68 hour  53.390141  56.549107   58.77277   \n0    2024-01-17  infections   0 week         NA         NA         NA   \n1    2024-01-17  infections   1 week         NA         NA         NA   \n2    2024-01-17  infections   2 week         NA         NA         NA   \n3    2024-01-17  infections   3 week         NA         NA         NA   \n4    2024-01-17  infections   4 week         NA         NA         NA   \n\n       q0.75     q0.975  \n0   0.710654   2.719772  \n1   0.976061   3.570492  \n2   1.224285   4.628697  \n3   1.435857   5.367396  \n4   1.557158   6.259934  \n0  75.010704  77.218788  \n1  72.040749  73.287773  \n2  68.024254  68.785774  \n3   64.52079  64.131546  \n4  60.839371  62.414742  \n5  59.213043  59.346821  \n0         NA         NA  \n1         NA         NA  \n2         NA         NA  \n3         NA         NA  \n4         NA         NA  ",
      "text/html": "<div>\n<style scoped>\n    .dataframe tbody tr th:only-of-type {\n        vertical-align: middle;\n    }\n\n    .dataframe tbody tr th {\n        vertical-align: top;\n    }\n\n    .dataframe thead th {\n        text-align: right;\n    }\n</style>\n<table border=\"1\" class=\"dataframe\">\n  <thead>\n    <tr style=\"text-align: right;\">\n      <th></th>\n      <th>forecast_date</th>\n      <th>target</th>\n      <th>horizon</th>\n      <th>q0.025</th>\n      <th>q0.25</th>\n      <th>q0.5</th>\n      <th>q0.75</th>\n      <th>q0.975</th>\n    </tr>\n  </thead>\n  <tbody>\n    <tr>\n      <th>0</th>\n      <td>2024-01-17</td>\n      <td>DAX</td>\n      <td>1 day</td>\n      <td>-3.321265</td>\n      <td>-0.543724</td>\n      <td>0.065019</td>\n      <td>0.710654</td>\n      <td>2.719772</td>\n    </tr>\n    <tr>\n      <th>1</th>\n      <td>2024-01-17</td>\n      <td>DAX</td>\n      <td>2 day</td>\n      <td>-4.087895</td>\n      <td>-0.799977</td>\n      <td>0.080265</td>\n      <td>0.976061</td>\n      <td>3.570492</td>\n    </tr>\n    <tr>\n      <th>2</th>\n      <td>2024-01-17</td>\n      <td>DAX</td>\n      <td>5 day</td>\n      <td>-5.259161</td>\n      <td>-0.896702</td>\n      <td>0.161798</td>\n      <td>1.224285</td>\n      <td>4.628697</td>\n    </tr>\n    <tr>\n      <th>3</th>\n      <td>2024-01-17</td>\n      <td>DAX</td>\n      <td>6 day</td>\n      <td>-6.282629</td>\n      <td>-1.007463</td>\n      <td>0.187498</td>\n      <td>1.435857</td>\n      <td>5.367396</td>\n    </tr>\n    <tr>\n      <th>4</th>\n      <td>2024-01-17</td>\n      <td>DAX</td>\n      <td>7 day</td>\n      <td>-6.735742</td>\n      <td>-1.054012</td>\n      <td>0.32619</td>\n      <td>1.557158</td>\n      <td>6.259934</td>\n    </tr>\n    <tr>\n      <th>0</th>\n      <td>2024-01-17</td>\n      <td>energy</td>\n      <td>36 hour</td>\n      <td>64.057678</td>\n      <td>70.027924</td>\n      <td>70.872932</td>\n      <td>75.010704</td>\n      <td>77.218788</td>\n    </tr>\n    <tr>\n      <th>1</th>\n      <td>2024-01-17</td>\n      <td>energy</td>\n      <td>40 hour</td>\n      <td>61.880836</td>\n      <td>66.906807</td>\n      <td>68.240898</td>\n      <td>72.040749</td>\n      <td>73.287773</td>\n    </tr>\n    <tr>\n      <th>2</th>\n      <td>2024-01-17</td>\n      <td>energy</td>\n      <td>44 hour</td>\n      <td>60.779305</td>\n      <td>62.762531</td>\n      <td>64.174416</td>\n      <td>68.024254</td>\n      <td>68.785774</td>\n    </tr>\n    <tr>\n      <th>3</th>\n      <td>2024-01-17</td>\n      <td>energy</td>\n      <td>60 hour</td>\n      <td>57.528931</td>\n      <td>60.668816</td>\n      <td>61.805847</td>\n      <td>64.52079</td>\n      <td>64.131546</td>\n    </tr>\n    <tr>\n      <th>4</th>\n      <td>2024-01-17</td>\n      <td>energy</td>\n      <td>64 hour</td>\n      <td>54.591389</td>\n      <td>57.760727</td>\n      <td>58.559002</td>\n      <td>60.839371</td>\n      <td>62.414742</td>\n    </tr>\n    <tr>\n      <th>5</th>\n      <td>2024-01-17</td>\n      <td>energy</td>\n      <td>68 hour</td>\n      <td>53.390141</td>\n      <td>56.549107</td>\n      <td>58.77277</td>\n      <td>59.213043</td>\n      <td>59.346821</td>\n    </tr>\n    <tr>\n      <th>0</th>\n      <td>2024-01-17</td>\n      <td>infections</td>\n      <td>0 week</td>\n      <td>NA</td>\n      <td>NA</td>\n      <td>NA</td>\n      <td>NA</td>\n      <td>NA</td>\n    </tr>\n    <tr>\n      <th>1</th>\n      <td>2024-01-17</td>\n      <td>infections</td>\n      <td>1 week</td>\n      <td>NA</td>\n      <td>NA</td>\n      <td>NA</td>\n      <td>NA</td>\n      <td>NA</td>\n    </tr>\n    <tr>\n      <th>2</th>\n      <td>2024-01-17</td>\n      <td>infections</td>\n      <td>2 week</td>\n      <td>NA</td>\n      <td>NA</td>\n      <td>NA</td>\n      <td>NA</td>\n      <td>NA</td>\n    </tr>\n    <tr>\n      <th>3</th>\n      <td>2024-01-17</td>\n      <td>infections</td>\n      <td>3 week</td>\n      <td>NA</td>\n      <td>NA</td>\n      <td>NA</td>\n      <td>NA</td>\n      <td>NA</td>\n    </tr>\n    <tr>\n      <th>4</th>\n      <td>2024-01-17</td>\n      <td>infections</td>\n      <td>4 week</td>\n      <td>NA</td>\n      <td>NA</td>\n      <td>NA</td>\n      <td>NA</td>\n      <td>NA</td>\n    </tr>\n  </tbody>\n</table>\n</div>"
     },
     "execution_count": 14,
     "metadata": {},
     "output_type": "execute_result"
    }
   ],
   "source": [
    "df"
   ],
   "metadata": {
    "collapsed": false,
    "ExecuteTime": {
     "end_time": "2024-01-17T16:47:41.293903Z",
     "start_time": "2024-01-17T16:47:41.283900Z"
    }
   },
   "id": "43fcaad03ad71b36"
  },
  {
   "cell_type": "code",
   "execution_count": 15,
   "outputs": [],
   "source": [
    "df.to_csv('../../forecasts/20240117_JonSnow.csv',index=False)"
   ],
   "metadata": {
    "collapsed": false,
    "ExecuteTime": {
     "end_time": "2024-01-17T16:47:50.733200Z",
     "start_time": "2024-01-17T16:47:50.717526Z"
    }
   },
   "id": "efed0bf38425c25b"
  }
 ],
 "metadata": {
  "kernelspec": {
   "display_name": "Python 3",
   "language": "python",
   "name": "python3"
  },
  "language_info": {
   "codemirror_mode": {
    "name": "ipython",
    "version": 2
   },
   "file_extension": ".py",
   "mimetype": "text/x-python",
   "name": "python",
   "nbconvert_exporter": "python",
   "pygments_lexer": "ipython2",
   "version": "2.7.6"
  }
 },
 "nbformat": 4,
 "nbformat_minor": 5
}
