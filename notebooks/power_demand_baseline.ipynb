{
 "cells": [
  {
   "cell_type": "code",
   "execution_count": 1,
   "id": "6bfd3ae6-0e5e-4f78-9e9f-e2cc688bdee2",
   "metadata": {
    "ExecuteTime": {
     "end_time": "2023-11-03T10:22:02.396392Z",
     "start_time": "2023-11-03T10:22:02.393719Z"
    }
   },
   "outputs": [],
   "source": [
    "import pandas as pd\n",
    "import numpy as np\n",
    "import matplotlib.pyplot as plt\n",
    "import seaborn as sns"
   ]
  },
  {
   "cell_type": "code",
   "execution_count": 2,
   "id": "dff0f0d8-9316-4510-8e60-b12a0e9ac253",
   "metadata": {
    "ExecuteTime": {
     "end_time": "2023-11-03T10:22:03.966048Z",
     "start_time": "2023-11-03T10:22:03.901810Z"
    }
   },
   "outputs": [],
   "source": [
    "import requests\n",
    "from tqdm import tqdm\n",
    "\n",
    "from datetime import datetime\n"
   ]
  },
  {
   "cell_type": "code",
   "execution_count": 3,
   "id": "6dd68c07-25ac-404f-8cb5-dd7884d9acd5",
   "metadata": {
    "ExecuteTime": {
     "end_time": "2023-11-03T10:22:13.587514Z",
     "start_time": "2023-11-03T10:22:13.560656Z"
    }
   },
   "outputs": [],
   "source": [
    "def get_energy_data():\n",
    "\n",
    "    # get all available time stamps\n",
    "    stampsurl = \"https://www.smard.de/app/chart_data/410/DE/index_quarterhour.json\"\n",
    "    response = requests.get(stampsurl)\n",
    "    #ignore first 4 years (don't need those in the baseline and speeds the code up a bit)\n",
    "    timestamps = list(response.json()[\"timestamps\"])[4*52:]\n",
    "\n",
    " \n",
    "    col_names = ['date_time','Netzlast_Gesamt']\n",
    "    energydata = pd.DataFrame(columns=col_names)\n",
    "    \n",
    "    # loop over all available timestamps\n",
    "    for stamp in tqdm(timestamps):\n",
    "\n",
    "        dataurl = \"https://www.smard.de/app/chart_data/410/DE/410_DE_quarterhour_\" + str(stamp) + \".json\"\n",
    "        response = requests.get(dataurl)\n",
    "        rawdata = response.json()[\"series\"]\n",
    "\n",
    "        for i in range(len(rawdata)):\n",
    "\n",
    "            rawdata[i][0] = datetime.fromtimestamp(int(str(rawdata[i][0])[:10])).strftime(\"%Y-%m-%d %H:%M:%S\")\n",
    "\n",
    "        energydata = pd.concat([energydata, pd.DataFrame(rawdata, columns=col_names)])\n",
    "\n",
    "    energydata = energydata.dropna()\n",
    "    energydata[\"date_time\"] = pd.to_datetime(energydata.date_time)\n",
    "    #set date_time as index\n",
    "    energydata.set_index(\"date_time\", inplace=True)\n",
    "    #resample\n",
    "    energydata = energydata.resample(\"1h\", label = \"left\").sum()\n",
    "\n",
    "    return energydata"
   ]
  },
  {
   "cell_type": "code",
   "execution_count": 4,
   "id": "8f77a2e8-851a-4969-8b54-a1d525137e79",
   "metadata": {
    "ExecuteTime": {
     "end_time": "2023-11-03T10:24:44.246195Z",
     "start_time": "2023-11-03T10:23:16.456938Z"
    }
   },
   "outputs": [
    {
     "name": "stderr",
     "output_type": "stream",
     "text": [
      "  0%|          | 0/254 [00:00<?, ?it/s]/var/folders/y3/h1kjcg6j0wj3crmk4m1ff0380000gn/T/ipykernel_45736/2942256061.py:24: FutureWarning: The behavior of DataFrame concatenation with empty or all-NA entries is deprecated. In a future version, this will no longer exclude empty or all-NA columns when determining the result dtypes. To retain the old behavior, exclude the relevant entries before the concat operation.\n",
      "  energydata = pd.concat([energydata, pd.DataFrame(rawdata, columns=col_names)])\n",
      "100%|██████████| 254/254 [01:26<00:00,  2.92it/s]\n"
     ]
    }
   ],
   "source": [
    "df = get_energy_data()"
   ]
  },
  {
   "cell_type": "code",
   "execution_count": 7,
   "id": "6da4b0b2-5c5d-47a3-be0e-03115f29f19d",
   "metadata": {
    "ExecuteTime": {
     "end_time": "2023-11-03T10:25:19.558808Z",
     "start_time": "2023-11-03T10:25:19.547581Z"
    }
   },
   "outputs": [
    {
     "data": {
      "text/plain": "                     Netzlast_Gesamt\ndate_time                           \n2018-12-24 00:00:00         42029.25\n2018-12-24 01:00:00         39610.25\n2018-12-24 02:00:00         39138.75\n2018-12-24 03:00:00         39421.00\n2018-12-24 04:00:00         40747.75",
      "text/html": "<div>\n<style scoped>\n    .dataframe tbody tr th:only-of-type {\n        vertical-align: middle;\n    }\n\n    .dataframe tbody tr th {\n        vertical-align: top;\n    }\n\n    .dataframe thead th {\n        text-align: right;\n    }\n</style>\n<table border=\"1\" class=\"dataframe\">\n  <thead>\n    <tr style=\"text-align: right;\">\n      <th></th>\n      <th>Netzlast_Gesamt</th>\n    </tr>\n    <tr>\n      <th>date_time</th>\n      <th></th>\n    </tr>\n  </thead>\n  <tbody>\n    <tr>\n      <th>2018-12-24 00:00:00</th>\n      <td>42029.25</td>\n    </tr>\n    <tr>\n      <th>2018-12-24 01:00:00</th>\n      <td>39610.25</td>\n    </tr>\n    <tr>\n      <th>2018-12-24 02:00:00</th>\n      <td>39138.75</td>\n    </tr>\n    <tr>\n      <th>2018-12-24 03:00:00</th>\n      <td>39421.00</td>\n    </tr>\n    <tr>\n      <th>2018-12-24 04:00:00</th>\n      <td>40747.75</td>\n    </tr>\n  </tbody>\n</table>\n</div>"
     },
     "execution_count": 7,
     "metadata": {},
     "output_type": "execute_result"
    }
   ],
   "source": [
    "df.head()"
   ]
  },
  {
   "cell_type": "markdown",
   "id": "2d12b8fc-a35a-411f-b87a-72f764275690",
   "metadata": {},
   "source": [
    "Rename column for convenience"
   ]
  },
  {
   "cell_type": "code",
   "execution_count": 8,
   "id": "da3ff9bc-063a-42ae-895c-1a91a2fcde28",
   "metadata": {
    "ExecuteTime": {
     "end_time": "2023-11-03T10:25:27.042170Z",
     "start_time": "2023-11-03T10:25:27.036237Z"
    }
   },
   "outputs": [],
   "source": [
    "df = df.rename(columns={\"Netzlast_Gesamt\": \"gesamt\"})"
   ]
  },
  {
   "cell_type": "markdown",
   "id": "6f06f031-1a45-4b03-862f-9cbdae802220",
   "metadata": {},
   "source": [
    "Rescale Netzlast so it fits requirements"
   ]
  },
  {
   "cell_type": "code",
   "execution_count": 9,
   "id": "728f7dd1-9556-4974-a8bc-51e701372ad0",
   "metadata": {
    "ExecuteTime": {
     "end_time": "2023-11-03T10:25:29.975310Z",
     "start_time": "2023-11-03T10:25:29.969505Z"
    }
   },
   "outputs": [],
   "source": [
    "df['gesamt'] = df['gesamt'] / 1000"
   ]
  },
  {
   "cell_type": "markdown",
   "id": "0f31220b-b84d-44b1-8201-29473e1c83ac",
   "metadata": {},
   "source": [
    "Check dtypes and if columns contain and missing values"
   ]
  },
  {
   "cell_type": "code",
   "execution_count": 10,
   "id": "1d362a66-6898-454f-a540-3f5773d85974",
   "metadata": {
    "ExecuteTime": {
     "end_time": "2023-11-03T10:25:31.307404Z",
     "start_time": "2023-11-03T10:25:31.303161Z"
    }
   },
   "outputs": [
    {
     "data": {
      "text/plain": "gesamt    float64\ndtype: object"
     },
     "execution_count": 10,
     "metadata": {},
     "output_type": "execute_result"
    }
   ],
   "source": [
    "df.dtypes"
   ]
  },
  {
   "cell_type": "code",
   "execution_count": 11,
   "id": "c293fdd7-b8b5-45ec-9319-c514bc25fce4",
   "metadata": {
    "ExecuteTime": {
     "end_time": "2023-11-03T10:25:33.872473Z",
     "start_time": "2023-11-03T10:25:33.862576Z"
    }
   },
   "outputs": [
    {
     "data": {
      "text/plain": "gesamt    False\ndtype: bool"
     },
     "execution_count": 11,
     "metadata": {},
     "output_type": "execute_result"
    }
   ],
   "source": [
    "df.isna().any()"
   ]
  },
  {
   "cell_type": "markdown",
   "id": "791b084f-f7ec-4a4a-9947-f292dfcddf4c",
   "metadata": {},
   "source": [
    "Define weekday column"
   ]
  },
  {
   "cell_type": "code",
   "execution_count": 12,
   "id": "a8b96cb2-ec82-433d-9c54-040d0499ca57",
   "metadata": {
    "ExecuteTime": {
     "end_time": "2023-11-03T10:25:37.430515Z",
     "start_time": "2023-11-03T10:25:37.419075Z"
    }
   },
   "outputs": [],
   "source": [
    "df[\"weekday\"] = df.index.weekday #Monday=0, Sunday=6\n",
    "#df[\"time\"] = df.index.strftime(\"%H:%M\")"
   ]
  },
  {
   "cell_type": "markdown",
   "id": "e2cf1b27-c033-48a9-8758-ca05bfe91ed8",
   "metadata": {},
   "source": [
    "Lead times are"
   ]
  },
  {
   "cell_type": "code",
   "execution_count": 13,
   "id": "ffc6169f-d45e-42b1-a0c0-a6e30c8cbec6",
   "metadata": {
    "ExecuteTime": {
     "end_time": "2023-11-03T10:25:42.984337Z",
     "start_time": "2023-11-03T10:25:42.974938Z"
    }
   },
   "outputs": [
    {
     "data": {
      "text/plain": "[36, 40, 44, 60, 64, 68]"
     },
     "execution_count": 13,
     "metadata": {},
     "output_type": "execute_result"
    }
   ],
   "source": [
    "horizons_def = [36, 40, 44, 60, 64, 68]#[24 + 12*i for i in range(5)]\n",
    "horizons_def"
   ]
  },
  {
   "cell_type": "markdown",
   "id": "f1cf8917-68b4-4a03-b196-83915cabcb64",
   "metadata": {},
   "source": [
    "Adapt horzions so they actually fit"
   ]
  },
  {
   "cell_type": "code",
   "execution_count": 14,
   "id": "ee0221c6-eb42-43de-8ec0-4aa2fd1519bc",
   "metadata": {
    "ExecuteTime": {
     "end_time": "2023-11-03T10:29:10.613860Z",
     "start_time": "2023-11-03T10:29:10.610577Z"
    }
   },
   "outputs": [
    {
     "data": {
      "text/plain": "[37, 41, 45, 61, 65, 69]"
     },
     "execution_count": 14,
     "metadata": {},
     "output_type": "execute_result"
    }
   ],
   "source": [
    "horizons = [h+1 for h in horizons_def]\n",
    "horizons"
   ]
  },
  {
   "cell_type": "code",
   "execution_count": 15,
   "id": "8a4b5b1f-f4a7-45fd-973d-a691a601b2cb",
   "metadata": {
    "ExecuteTime": {
     "end_time": "2023-11-03T10:29:13.332411Z",
     "start_time": "2023-11-03T10:29:13.321262Z"
    }
   },
   "outputs": [],
   "source": [
    "def get_date_from_horizon(last_ts, horizon):\n",
    "    return last_ts + pd.DateOffset(hours=horizon)"
   ]
  },
  {
   "cell_type": "code",
   "execution_count": 16,
   "id": "564d7433-a811-40e5-a9ea-2e837b2b2a02",
   "metadata": {
    "ExecuteTime": {
     "end_time": "2023-11-03T10:29:14.463043Z",
     "start_time": "2023-11-03T10:29:14.376783Z"
    }
   },
   "outputs": [],
   "source": [
    "LAST_IDX = -1\n",
    "LAST_DATE = df.iloc[LAST_IDX].name"
   ]
  },
  {
   "cell_type": "markdown",
   "id": "51214044-60af-4d25-a508-03c0a16787bc",
   "metadata": {},
   "source": [
    "Get time and date that correspond to the lead times (starting at the last observation in our data which should be the respective thursday 0:00)  \n",
    "*Attention*: if the last timestamp in the data is not thursday 0:00, you have to adjust your lead times accordingly"
   ]
  },
  {
   "cell_type": "code",
   "execution_count": 17,
   "id": "4e0da017-d3b4-4cde-b373-63213b42ebc0",
   "metadata": {
    "ExecuteTime": {
     "end_time": "2023-11-03T10:29:17.706569Z",
     "start_time": "2023-11-03T10:29:17.703288Z"
    }
   },
   "outputs": [
    {
     "data": {
      "text/plain": "[Timestamp('2023-11-04 23:00:00'),\n Timestamp('2023-11-05 03:00:00'),\n Timestamp('2023-11-05 07:00:00'),\n Timestamp('2023-11-05 23:00:00'),\n Timestamp('2023-11-06 03:00:00'),\n Timestamp('2023-11-06 07:00:00')]"
     },
     "execution_count": 17,
     "metadata": {},
     "output_type": "execute_result"
    }
   ],
   "source": [
    "horizon_date = [get_date_from_horizon(LAST_DATE, h) for h in horizons]\n",
    "horizon_date"
   ]
  },
  {
   "cell_type": "markdown",
   "id": "1dcf62b9-a0ba-4582-9f83-ee24aadb0223",
   "metadata": {},
   "source": [
    "quantile levels"
   ]
  },
  {
   "cell_type": "code",
   "execution_count": 18,
   "id": "bf3ae619-5bdc-4c66-8137-4daa880ce9c7",
   "metadata": {
    "ExecuteTime": {
     "end_time": "2023-11-03T10:29:27.942960Z",
     "start_time": "2023-11-03T10:29:27.930190Z"
    }
   },
   "outputs": [],
   "source": [
    "tau = [.025, .25, .5, .75, .975]"
   ]
  },
  {
   "cell_type": "code",
   "execution_count": 19,
   "id": "8e5ef128-ba07-497d-ab2b-1c7599e86bd0",
   "metadata": {
    "ExecuteTime": {
     "end_time": "2023-11-03T10:29:34.200365Z",
     "start_time": "2023-11-03T10:29:34.192682Z"
    }
   },
   "outputs": [],
   "source": [
    "#rows correspond to horizon, columns to quantile level\n",
    "pred_baseline = np.zeros((6,5))"
   ]
  },
  {
   "cell_type": "code",
   "execution_count": 20,
   "id": "6033e162-aecf-4e8c-a143-28446cffab0f",
   "metadata": {
    "ExecuteTime": {
     "end_time": "2023-11-03T10:29:34.840950Z",
     "start_time": "2023-11-03T10:29:34.759853Z"
    }
   },
   "outputs": [],
   "source": [
    "last_t = 100\n",
    "\n",
    "for i,d in enumerate(horizon_date):\n",
    "    \n",
    "    weekday = d.weekday()\n",
    "    hour = d.hour\n",
    "    \n",
    "    df_tmp = df.iloc[:LAST_IDX]\n",
    "    \n",
    "    cond = (df_tmp.weekday == weekday) & (df_tmp.index.time == d.time())\n",
    "    \n",
    "    pred_baseline[i,:] = np.quantile(df_tmp[cond].iloc[-last_t:][\"gesamt\"], q=tau)"
   ]
  },
  {
   "cell_type": "code",
   "execution_count": 21,
   "id": "19935ed4-040c-4169-a28c-437a2effeede",
   "metadata": {
    "ExecuteTime": {
     "end_time": "2023-11-03T10:29:35.786685Z",
     "start_time": "2023-11-03T10:29:35.778799Z"
    }
   },
   "outputs": [
    {
     "data": {
      "text/plain": "array([[38.45935625, 40.7279375 , 43.005     , 46.9073125 , 53.4296    ],\n       [33.38661875, 35.1395625 , 37.333     , 41.6080625 , 47.3592375 ],\n       [36.16175   , 37.5958125 , 39.7045    , 43.6374375 , 49.49936875],\n       [39.18475   , 41.7856875 , 43.785375  , 47.9014375 , 54.1133    ],\n       [34.92703125, 37.8288125 , 40.168     , 44.34525   , 50.94234375],\n       [38.148725  , 54.4201875 , 58.385625  , 62.7883125 , 69.96705   ]])"
     },
     "execution_count": 21,
     "metadata": {},
     "output_type": "execute_result"
    }
   ],
   "source": [
    "pred_baseline"
   ]
  },
  {
   "cell_type": "markdown",
   "id": "420cfb8d-f64b-46b1-88e3-8d5159eb88bc",
   "metadata": {},
   "source": [
    "Visually check if quantiles make sense"
   ]
  },
  {
   "cell_type": "code",
   "execution_count": 22,
   "id": "daf9b394-79d2-48dd-914b-8fc9a9f1a5a1",
   "metadata": {
    "ExecuteTime": {
     "end_time": "2023-11-03T10:29:40.791991Z",
     "start_time": "2023-11-03T10:29:40.567344Z"
    }
   },
   "outputs": [
    {
     "data": {
      "text/plain": "<Figure size 640x480 with 1 Axes>",
      "image/png": "[encoded data removed]"
     },
     "metadata": {},
     "output_type": "display_data"
    }
   ],
   "source": [
    "x = horizons\n",
    "_ = plt.plot(x,pred_baseline, ls=\"\", marker=\"o\", c=\"black\")\n",
    "_ = plt.xticks(x, x)\n",
    "_ = plt.plot((x,x),(pred_baseline[:,0], pred_baseline[:,-1]),c='black')"
   ]
  },
  {
   "cell_type": "code",
   "execution_count": 23,
   "id": "0ee8c6fe-43c9-4a71-b8f0-300a382f59c6",
   "metadata": {
    "ExecuteTime": {
     "end_time": "2023-11-03T10:30:01.725686Z",
     "start_time": "2023-11-03T10:30:01.681821Z"
    }
   },
   "outputs": [],
   "source": [
    "from datetime import datetime, date, timedelta\n",
    "date_str = datetime.today().strftime('%Y%m%d')"
   ]
  },
  {
   "cell_type": "code",
   "execution_count": 24,
   "id": "6024fd0b-f3d5-40f4-81cd-5d2d6f5d4237",
   "metadata": {
    "ExecuteTime": {
     "end_time": "2023-11-03T10:30:02.258300Z",
     "start_time": "2023-11-03T10:30:02.215571Z"
    }
   },
   "outputs": [
    {
     "data": {
      "text/plain": "'20231103'"
     },
     "execution_count": 24,
     "metadata": {},
     "output_type": "execute_result"
    }
   ],
   "source": [
    "date_str = date.today() #- timedelta(days=1)\n",
    "date_str = date_str.strftime('%Y%m%d')\n",
    "date_str"
   ]
  },
  {
   "cell_type": "code",
   "execution_count": 25,
   "id": "ff1ff112-6973-4e8c-be11-5705434c3416",
   "metadata": {
    "ExecuteTime": {
     "end_time": "2023-11-03T10:30:07.775039Z",
     "start_time": "2023-11-03T10:30:07.769406Z"
    }
   },
   "outputs": [
    {
     "data": {
      "text/plain": "  forecast_date  target  horizon     q0.025      q0.25       q0.5      q0.75  \\\n0      20231103  energy  36 hour  38.459356  40.727937  43.005000  46.907312   \n1      20231103  energy  40 hour  33.386619  35.139562  37.333000  41.608063   \n2      20231103  energy  44 hour  36.161750  37.595812  39.704500  43.637438   \n3      20231103  energy  60 hour  39.184750  41.785688  43.785375  47.901438   \n4      20231103  energy  64 hour  34.927031  37.828812  40.168000  44.345250   \n5      20231103  energy  68 hour  38.148725  54.420187  58.385625  62.788313   \n\n      q0.975  \n0  53.429600  \n1  47.359237  \n2  49.499369  \n3  54.113300  \n4  50.942344  \n5  69.967050  ",
      "text/html": "<div>\n<style scoped>\n    .dataframe tbody tr th:only-of-type {\n        vertical-align: middle;\n    }\n\n    .dataframe tbody tr th {\n        vertical-align: top;\n    }\n\n    .dataframe thead th {\n        text-align: right;\n    }\n</style>\n<table border=\"1\" class=\"dataframe\">\n  <thead>\n    <tr style=\"text-align: right;\">\n      <th></th>\n      <th>forecast_date</th>\n      <th>target</th>\n      <th>horizon</th>\n      <th>q0.025</th>\n      <th>q0.25</th>\n      <th>q0.5</th>\n      <th>q0.75</th>\n      <th>q0.975</th>\n    </tr>\n  </thead>\n  <tbody>\n    <tr>\n      <th>0</th>\n      <td>20231103</td>\n      <td>energy</td>\n      <td>36 hour</td>\n      <td>38.459356</td>\n      <td>40.727937</td>\n      <td>43.005000</td>\n      <td>46.907312</td>\n      <td>53.429600</td>\n    </tr>\n    <tr>\n      <th>1</th>\n      <td>20231103</td>\n      <td>energy</td>\n      <td>40 hour</td>\n      <td>33.386619</td>\n      <td>35.139562</td>\n      <td>37.333000</td>\n      <td>41.608063</td>\n      <td>47.359237</td>\n    </tr>\n    <tr>\n      <th>2</th>\n      <td>20231103</td>\n      <td>energy</td>\n      <td>44 hour</td>\n      <td>36.161750</td>\n      <td>37.595812</td>\n      <td>39.704500</td>\n      <td>43.637438</td>\n      <td>49.499369</td>\n    </tr>\n    <tr>\n      <th>3</th>\n      <td>20231103</td>\n      <td>energy</td>\n      <td>60 hour</td>\n      <td>39.184750</td>\n      <td>41.785688</td>\n      <td>43.785375</td>\n      <td>47.901438</td>\n      <td>54.113300</td>\n    </tr>\n    <tr>\n      <th>4</th>\n      <td>20231103</td>\n      <td>energy</td>\n      <td>64 hour</td>\n      <td>34.927031</td>\n      <td>37.828812</td>\n      <td>40.168000</td>\n      <td>44.345250</td>\n      <td>50.942344</td>\n    </tr>\n    <tr>\n      <th>5</th>\n      <td>20231103</td>\n      <td>energy</td>\n      <td>68 hour</td>\n      <td>38.148725</td>\n      <td>54.420187</td>\n      <td>58.385625</td>\n      <td>62.788313</td>\n      <td>69.967050</td>\n    </tr>\n  </tbody>\n</table>\n</div>"
     },
     "execution_count": 25,
     "metadata": {},
     "output_type": "execute_result"
    }
   ],
   "source": [
    "df_sub = pd.DataFrame({\n",
    "    \"forecast_date\": date_str,\n",
    "    \"target\": \"energy\",\n",
    "    \"horizon\": [str(h) + \" hour\" for h in horizons_def],\n",
    "    \"q0.025\": pred_baseline[:,0],\n",
    "    \"q0.25\": pred_baseline[:,1],\n",
    "    \"q0.5\": pred_baseline[:,2],\n",
    "    \"q0.75\": pred_baseline[:,3],\n",
    "    \"q0.975\": pred_baseline[:,4]})\n",
    "df_sub"
   ]
  },
  {
   "cell_type": "code",
   "execution_count": 26,
   "id": "94f92f2c-859a-4094-8bb4-3249c4de4f2b",
   "metadata": {
    "ExecuteTime": {
     "end_time": "2023-11-03T10:30:16.153224Z",
     "start_time": "2023-11-03T10:30:14.575698Z"
    }
   },
   "outputs": [
    {
     "ename": "OSError",
     "evalue": "Cannot save file into a non-existent directory: '/save/to'",
     "output_type": "error",
     "traceback": [
      "\u001B[0;31m---------------------------------------------------------------------------\u001B[0m",
      "\u001B[0;31mOSError\u001B[0m                                   Traceback (most recent call last)",
      "Cell \u001B[0;32mIn[26], line 5\u001B[0m\n\u001B[1;32m      1\u001B[0m \u001B[38;5;66;03m#need to change this\u001B[39;00m\n\u001B[1;32m      2\u001B[0m PATH \u001B[38;5;241m=\u001B[39m \u001B[38;5;124m\"\u001B[39m\u001B[38;5;124m/save/to/path\u001B[39m\u001B[38;5;124m\"\u001B[39m\n\u001B[0;32m----> 5\u001B[0m \u001B[43mdf_sub\u001B[49m\u001B[38;5;241;43m.\u001B[39;49m\u001B[43mto_csv\u001B[49m\u001B[43m(\u001B[49m\u001B[43mPATH\u001B[49m\u001B[38;5;241;43m+\u001B[39;49m\u001B[43mdate_str\u001B[49m\u001B[38;5;241;43m+\u001B[39;49m\u001B[38;5;124;43m\"\u001B[39;49m\u001B[38;5;124;43m_power_benchmark.csv\u001B[39;49m\u001B[38;5;124;43m\"\u001B[39;49m\u001B[43m,\u001B[49m\u001B[43m \u001B[49m\u001B[43mindex\u001B[49m\u001B[38;5;241;43m=\u001B[39;49m\u001B[38;5;28;43;01mFalse\u001B[39;49;00m\u001B[43m)\u001B[49m\n",
      "File \u001B[0;32m~/anaconda3/envs/Forecasting_Challenge_2/lib/python3.9/site-packages/pandas/core/generic.py:3902\u001B[0m, in \u001B[0;36mNDFrame.to_csv\u001B[0;34m(self, path_or_buf, sep, na_rep, float_format, columns, header, index, index_label, mode, encoding, compression, quoting, quotechar, lineterminator, chunksize, date_format, doublequote, escapechar, decimal, errors, storage_options)\u001B[0m\n\u001B[1;32m   3891\u001B[0m df \u001B[38;5;241m=\u001B[39m \u001B[38;5;28mself\u001B[39m \u001B[38;5;28;01mif\u001B[39;00m \u001B[38;5;28misinstance\u001B[39m(\u001B[38;5;28mself\u001B[39m, ABCDataFrame) \u001B[38;5;28;01melse\u001B[39;00m \u001B[38;5;28mself\u001B[39m\u001B[38;5;241m.\u001B[39mto_frame()\n\u001B[1;32m   3893\u001B[0m formatter \u001B[38;5;241m=\u001B[39m DataFrameFormatter(\n\u001B[1;32m   3894\u001B[0m     frame\u001B[38;5;241m=\u001B[39mdf,\n\u001B[1;32m   3895\u001B[0m     header\u001B[38;5;241m=\u001B[39mheader,\n\u001B[0;32m   (...)\u001B[0m\n\u001B[1;32m   3899\u001B[0m     decimal\u001B[38;5;241m=\u001B[39mdecimal,\n\u001B[1;32m   3900\u001B[0m )\n\u001B[0;32m-> 3902\u001B[0m \u001B[38;5;28;01mreturn\u001B[39;00m \u001B[43mDataFrameRenderer\u001B[49m\u001B[43m(\u001B[49m\u001B[43mformatter\u001B[49m\u001B[43m)\u001B[49m\u001B[38;5;241;43m.\u001B[39;49m\u001B[43mto_csv\u001B[49m\u001B[43m(\u001B[49m\n\u001B[1;32m   3903\u001B[0m \u001B[43m    \u001B[49m\u001B[43mpath_or_buf\u001B[49m\u001B[43m,\u001B[49m\n\u001B[1;32m   3904\u001B[0m \u001B[43m    \u001B[49m\u001B[43mlineterminator\u001B[49m\u001B[38;5;241;43m=\u001B[39;49m\u001B[43mlineterminator\u001B[49m\u001B[43m,\u001B[49m\n\u001B[1;32m   3905\u001B[0m \u001B[43m    \u001B[49m\u001B[43msep\u001B[49m\u001B[38;5;241;43m=\u001B[39;49m\u001B[43msep\u001B[49m\u001B[43m,\u001B[49m\n\u001B[1;32m   3906\u001B[0m \u001B[43m    \u001B[49m\u001B[43mencoding\u001B[49m\u001B[38;5;241;43m=\u001B[39;49m\u001B[43mencoding\u001B[49m\u001B[43m,\u001B[49m\n\u001B[1;32m   3907\u001B[0m \u001B[43m    \u001B[49m\u001B[43merrors\u001B[49m\u001B[38;5;241;43m=\u001B[39;49m\u001B[43merrors\u001B[49m\u001B[43m,\u001B[49m\n\u001B[1;32m   3908\u001B[0m \u001B[43m    \u001B[49m\u001B[43mcompression\u001B[49m\u001B[38;5;241;43m=\u001B[39;49m\u001B[43mcompression\u001B[49m\u001B[43m,\u001B[49m\n\u001B[1;32m   3909\u001B[0m \u001B[43m    \u001B[49m\u001B[43mquoting\u001B[49m\u001B[38;5;241;43m=\u001B[39;49m\u001B[43mquoting\u001B[49m\u001B[43m,\u001B[49m\n\u001B[1;32m   3910\u001B[0m \u001B[43m    \u001B[49m\u001B[43mcolumns\u001B[49m\u001B[38;5;241;43m=\u001B[39;49m\u001B[43mcolumns\u001B[49m\u001B[43m,\u001B[49m\n\u001B[1;32m   3911\u001B[0m \u001B[43m    \u001B[49m\u001B[43mindex_label\u001B[49m\u001B[38;5;241;43m=\u001B[39;49m\u001B[43mindex_label\u001B[49m\u001B[43m,\u001B[49m\n\u001B[1;32m   3912\u001B[0m \u001B[43m    \u001B[49m\u001B[43mmode\u001B[49m\u001B[38;5;241;43m=\u001B[39;49m\u001B[43mmode\u001B[49m\u001B[43m,\u001B[49m\n\u001B[1;32m   3913\u001B[0m \u001B[43m    \u001B[49m\u001B[43mchunksize\u001B[49m\u001B[38;5;241;43m=\u001B[39;49m\u001B[43mchunksize\u001B[49m\u001B[43m,\u001B[49m\n\u001B[1;32m   3914\u001B[0m \u001B[43m    \u001B[49m\u001B[43mquotechar\u001B[49m\u001B[38;5;241;43m=\u001B[39;49m\u001B[43mquotechar\u001B[49m\u001B[43m,\u001B[49m\n\u001B[1;32m   3915\u001B[0m \u001B[43m    \u001B[49m\u001B[43mdate_format\u001B[49m\u001B[38;5;241;43m=\u001B[39;49m\u001B[43mdate_format\u001B[49m\u001B[43m,\u001B[49m\n\u001B[1;32m   3916\u001B[0m \u001B[43m    \u001B[49m\u001B[43mdoublequote\u001B[49m\u001B[38;5;241;43m=\u001B[39;49m\u001B[43mdoublequote\u001B[49m\u001B[43m,\u001B[49m\n\u001B[1;32m   3917\u001B[0m \u001B[43m    \u001B[49m\u001B[43mescapechar\u001B[49m\u001B[38;5;241;43m=\u001B[39;49m\u001B[43mescapechar\u001B[49m\u001B[43m,\u001B[49m\n\u001B[1;32m   3918\u001B[0m \u001B[43m    \u001B[49m\u001B[43mstorage_options\u001B[49m\u001B[38;5;241;43m=\u001B[39;49m\u001B[43mstorage_options\u001B[49m\u001B[43m,\u001B[49m\n\u001B[1;32m   3919\u001B[0m \u001B[43m\u001B[49m\u001B[43m)\u001B[49m\n",
      "File \u001B[0;32m~/anaconda3/envs/Forecasting_Challenge_2/lib/python3.9/site-packages/pandas/io/formats/format.py:1152\u001B[0m, in \u001B[0;36mDataFrameRenderer.to_csv\u001B[0;34m(self, path_or_buf, encoding, sep, columns, index_label, mode, compression, quoting, quotechar, lineterminator, chunksize, date_format, doublequote, escapechar, errors, storage_options)\u001B[0m\n\u001B[1;32m   1131\u001B[0m     created_buffer \u001B[38;5;241m=\u001B[39m \u001B[38;5;28;01mFalse\u001B[39;00m\n\u001B[1;32m   1133\u001B[0m csv_formatter \u001B[38;5;241m=\u001B[39m CSVFormatter(\n\u001B[1;32m   1134\u001B[0m     path_or_buf\u001B[38;5;241m=\u001B[39mpath_or_buf,\n\u001B[1;32m   1135\u001B[0m     lineterminator\u001B[38;5;241m=\u001B[39mlineterminator,\n\u001B[0;32m   (...)\u001B[0m\n\u001B[1;32m   1150\u001B[0m     formatter\u001B[38;5;241m=\u001B[39m\u001B[38;5;28mself\u001B[39m\u001B[38;5;241m.\u001B[39mfmt,\n\u001B[1;32m   1151\u001B[0m )\n\u001B[0;32m-> 1152\u001B[0m \u001B[43mcsv_formatter\u001B[49m\u001B[38;5;241;43m.\u001B[39;49m\u001B[43msave\u001B[49m\u001B[43m(\u001B[49m\u001B[43m)\u001B[49m\n\u001B[1;32m   1154\u001B[0m \u001B[38;5;28;01mif\u001B[39;00m created_buffer:\n\u001B[1;32m   1155\u001B[0m     \u001B[38;5;28;01massert\u001B[39;00m \u001B[38;5;28misinstance\u001B[39m(path_or_buf, StringIO)\n",
      "File \u001B[0;32m~/anaconda3/envs/Forecasting_Challenge_2/lib/python3.9/site-packages/pandas/io/formats/csvs.py:247\u001B[0m, in \u001B[0;36mCSVFormatter.save\u001B[0;34m(self)\u001B[0m\n\u001B[1;32m    243\u001B[0m \u001B[38;5;250m\u001B[39m\u001B[38;5;124;03m\"\"\"\u001B[39;00m\n\u001B[1;32m    244\u001B[0m \u001B[38;5;124;03mCreate the writer & save.\u001B[39;00m\n\u001B[1;32m    245\u001B[0m \u001B[38;5;124;03m\"\"\"\u001B[39;00m\n\u001B[1;32m    246\u001B[0m \u001B[38;5;66;03m# apply compression and byte/text conversion\u001B[39;00m\n\u001B[0;32m--> 247\u001B[0m \u001B[38;5;28;01mwith\u001B[39;00m \u001B[43mget_handle\u001B[49m\u001B[43m(\u001B[49m\n\u001B[1;32m    248\u001B[0m \u001B[43m    \u001B[49m\u001B[38;5;28;43mself\u001B[39;49m\u001B[38;5;241;43m.\u001B[39;49m\u001B[43mfilepath_or_buffer\u001B[49m\u001B[43m,\u001B[49m\n\u001B[1;32m    249\u001B[0m \u001B[43m    \u001B[49m\u001B[38;5;28;43mself\u001B[39;49m\u001B[38;5;241;43m.\u001B[39;49m\u001B[43mmode\u001B[49m\u001B[43m,\u001B[49m\n\u001B[1;32m    250\u001B[0m \u001B[43m    \u001B[49m\u001B[43mencoding\u001B[49m\u001B[38;5;241;43m=\u001B[39;49m\u001B[38;5;28;43mself\u001B[39;49m\u001B[38;5;241;43m.\u001B[39;49m\u001B[43mencoding\u001B[49m\u001B[43m,\u001B[49m\n\u001B[1;32m    251\u001B[0m \u001B[43m    \u001B[49m\u001B[43merrors\u001B[49m\u001B[38;5;241;43m=\u001B[39;49m\u001B[38;5;28;43mself\u001B[39;49m\u001B[38;5;241;43m.\u001B[39;49m\u001B[43merrors\u001B[49m\u001B[43m,\u001B[49m\n\u001B[1;32m    252\u001B[0m \u001B[43m    \u001B[49m\u001B[43mcompression\u001B[49m\u001B[38;5;241;43m=\u001B[39;49m\u001B[38;5;28;43mself\u001B[39;49m\u001B[38;5;241;43m.\u001B[39;49m\u001B[43mcompression\u001B[49m\u001B[43m,\u001B[49m\n\u001B[1;32m    253\u001B[0m \u001B[43m    \u001B[49m\u001B[43mstorage_options\u001B[49m\u001B[38;5;241;43m=\u001B[39;49m\u001B[38;5;28;43mself\u001B[39;49m\u001B[38;5;241;43m.\u001B[39;49m\u001B[43mstorage_options\u001B[49m\u001B[43m,\u001B[49m\n\u001B[1;32m    254\u001B[0m \u001B[43m\u001B[49m\u001B[43m)\u001B[49m \u001B[38;5;28;01mas\u001B[39;00m handles:\n\u001B[1;32m    255\u001B[0m     \u001B[38;5;66;03m# Note: self.encoding is irrelevant here\u001B[39;00m\n\u001B[1;32m    256\u001B[0m     \u001B[38;5;28mself\u001B[39m\u001B[38;5;241m.\u001B[39mwriter \u001B[38;5;241m=\u001B[39m csvlib\u001B[38;5;241m.\u001B[39mwriter(\n\u001B[1;32m    257\u001B[0m         handles\u001B[38;5;241m.\u001B[39mhandle,\n\u001B[1;32m    258\u001B[0m         lineterminator\u001B[38;5;241m=\u001B[39m\u001B[38;5;28mself\u001B[39m\u001B[38;5;241m.\u001B[39mlineterminator,\n\u001B[0;32m   (...)\u001B[0m\n\u001B[1;32m    263\u001B[0m         quotechar\u001B[38;5;241m=\u001B[39m\u001B[38;5;28mself\u001B[39m\u001B[38;5;241m.\u001B[39mquotechar,\n\u001B[1;32m    264\u001B[0m     )\n\u001B[1;32m    266\u001B[0m     \u001B[38;5;28mself\u001B[39m\u001B[38;5;241m.\u001B[39m_save()\n",
      "File \u001B[0;32m~/anaconda3/envs/Forecasting_Challenge_2/lib/python3.9/site-packages/pandas/io/common.py:739\u001B[0m, in \u001B[0;36mget_handle\u001B[0;34m(path_or_buf, mode, encoding, compression, memory_map, is_text, errors, storage_options)\u001B[0m\n\u001B[1;32m    737\u001B[0m \u001B[38;5;66;03m# Only for write methods\u001B[39;00m\n\u001B[1;32m    738\u001B[0m \u001B[38;5;28;01mif\u001B[39;00m \u001B[38;5;124m\"\u001B[39m\u001B[38;5;124mr\u001B[39m\u001B[38;5;124m\"\u001B[39m \u001B[38;5;129;01mnot\u001B[39;00m \u001B[38;5;129;01min\u001B[39;00m mode \u001B[38;5;129;01mand\u001B[39;00m is_path:\n\u001B[0;32m--> 739\u001B[0m     \u001B[43mcheck_parent_directory\u001B[49m\u001B[43m(\u001B[49m\u001B[38;5;28;43mstr\u001B[39;49m\u001B[43m(\u001B[49m\u001B[43mhandle\u001B[49m\u001B[43m)\u001B[49m\u001B[43m)\u001B[49m\n\u001B[1;32m    741\u001B[0m \u001B[38;5;28;01mif\u001B[39;00m compression:\n\u001B[1;32m    742\u001B[0m     \u001B[38;5;28;01mif\u001B[39;00m compression \u001B[38;5;241m!=\u001B[39m \u001B[38;5;124m\"\u001B[39m\u001B[38;5;124mzstd\u001B[39m\u001B[38;5;124m\"\u001B[39m:\n\u001B[1;32m    743\u001B[0m         \u001B[38;5;66;03m# compression libraries do not like an explicit text-mode\u001B[39;00m\n",
      "File \u001B[0;32m~/anaconda3/envs/Forecasting_Challenge_2/lib/python3.9/site-packages/pandas/io/common.py:604\u001B[0m, in \u001B[0;36mcheck_parent_directory\u001B[0;34m(path)\u001B[0m\n\u001B[1;32m    602\u001B[0m parent \u001B[38;5;241m=\u001B[39m Path(path)\u001B[38;5;241m.\u001B[39mparent\n\u001B[1;32m    603\u001B[0m \u001B[38;5;28;01mif\u001B[39;00m \u001B[38;5;129;01mnot\u001B[39;00m parent\u001B[38;5;241m.\u001B[39mis_dir():\n\u001B[0;32m--> 604\u001B[0m     \u001B[38;5;28;01mraise\u001B[39;00m \u001B[38;5;167;01mOSError\u001B[39;00m(\u001B[38;5;124mrf\u001B[39m\u001B[38;5;124m\"\u001B[39m\u001B[38;5;124mCannot save file into a non-existent directory: \u001B[39m\u001B[38;5;124m'\u001B[39m\u001B[38;5;132;01m{\u001B[39;00mparent\u001B[38;5;132;01m}\u001B[39;00m\u001B[38;5;124m'\u001B[39m\u001B[38;5;124m\"\u001B[39m)\n",
      "\u001B[0;31mOSError\u001B[0m: Cannot save file into a non-existent directory: '/save/to'"
     ]
    }
   ],
   "source": [
    "#need to change this\n",
    "PATH = \"/save/to/path\"\n",
    "\n",
    "\n",
    "df_sub.to_csv(PATH+date_str+\"_power_benchmark.csv\", index=False)"
   ]
  },
  {
   "cell_type": "code",
   "execution_count": null,
   "id": "ec87e79b-7c52-4b83-8848-154e90df9323",
   "metadata": {
    "is_executing": true
   },
   "outputs": [],
   "source": []
  }
 ],
 "metadata": {
  "kernelspec": {
   "display_name": "Python 3 (ipykernel)",
   "language": "python",
   "name": "python3"
  },
  "language_info": {
   "codemirror_mode": {
    "name": "ipython",
    "version": 3
   },
   "file_extension": ".py",
   "mimetype": "text/x-python",
   "name": "python",
   "nbconvert_exporter": "python",
   "pygments_lexer": "ipython3",
   "version": "3.7.13"
  }
 },
 "nbformat": 4,
 "nbformat_minor": 5
}
